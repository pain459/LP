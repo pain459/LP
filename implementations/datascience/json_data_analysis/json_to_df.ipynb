{
 "cells": [
  {
   "cell_type": "code",
   "execution_count": 2,
   "metadata": {},
   "outputs": [
    {
     "name": "stdout",
     "output_type": "stream",
     "text": [
      "JSON file created successfully.\n"
     ]
    }
   ],
   "source": [
    "from faker import Faker\n",
    "import json\n",
    "\n",
    "# Initialize Faker object\n",
    "fake = Faker()\n",
    "\n",
    "# Generate fake data\n",
    "data = []\n",
    "for _ in range(100):  # Generate 100 rows of data\n",
    "    row = {\n",
    "        'name': fake.name(),\n",
    "        'email': fake.email(),\n",
    "        'address': fake.address(),\n",
    "        'phone_number': fake.phone_number(),\n",
    "        'job': fake.job(),\n",
    "        'company': fake.company(),\n",
    "        'credit_card_number': fake.credit_card_number(),\n",
    "        'birthdate': fake.date_of_birth().strftime('%Y-%m-%d')\n",
    "    }\n",
    "    data.append(row)\n",
    "\n",
    "# Write data to JSON file\n",
    "with open('fake_data.json', 'w') as f:\n",
    "    json.dump(data, f, indent=4)\n",
    "\n",
    "print(\"JSON file created successfully.\")\n"
   ]
  },
  {
   "cell_type": "code",
   "execution_count": 3,
   "metadata": {},
   "outputs": [
    {
     "name": "stdout",
     "output_type": "stream",
     "text": [
      "              name                       email  \\\n",
      "0    Veronica West     gravesjesus@example.org   \n",
      "1  Glenn Hernandez  nicolecastillo@example.org   \n",
      "2     Brent Henson       wardjamie@example.net   \n",
      "3  Christina Smith     mannrichard@example.com   \n",
      "4      Thomas Lynn    connernicole@example.com   \n",
      "\n",
      "                                             address            phone_number  \\\n",
      "0       421 Shawn Island\\nNew Kimberlyland, KY 53487            344.683.8234   \n",
      "1  97531 Michael Ferry Suite 132\\nLake Tonyamouth...              2085019154   \n",
      "2  1497 Jeffrey Drives Suite 825\\nNew Crystalfort...   +1-726-768-0479x68541   \n",
      "3         8712 Solomon Brooks\\nPort Pamela, MN 44761        918.201.1057x282   \n",
      "4     3400 Alexis Mountain\\nSouth Victoria, NE 19547  001-752-744-7430x30124   \n",
      "\n",
      "                                  job             company  credit_card_number  \\\n",
      "0  Tourist information centre manager           Meyer PLC     180095672553148   \n",
      "1                 Electrical engineer  Ferguson-Carpenter    3506097723358866   \n",
      "2              Psychologist, forensic          Phelps LLC      30293402763945   \n",
      "3            Engineer, communications     Aguilar-Jenkins      30077588227134   \n",
      "4               Management consultant    Hawkins and Sons    2274025989476603   \n",
      "\n",
      "    birthdate  \n",
      "0  1928-09-14  \n",
      "1  1949-08-06  \n",
      "2  1920-01-26  \n",
      "3  1957-03-13  \n",
      "4  1942-04-17  \n",
      "       credit_card_number\n",
      "count        1.000000e+02\n",
      "mean         2.303039e+17\n",
      "std          1.000052e+18\n",
      "min          6.047802e+10\n",
      "25%          2.048523e+14\n",
      "50%          3.518623e+15\n",
      "75%          4.670004e+15\n",
      "max          4.926117e+18\n"
     ]
    }
   ],
   "source": [
    "import pandas as pd\n",
    "\n",
    "# Read JSON file into pandas DataFrame\n",
    "df = pd.read_json('fake_data.json')\n",
    "\n",
    "# Perform data analysis using pandas\n",
    "print(df.head())  # Display the first few rows of the DataFrame\n",
    "print(df.describe())  # Summary statistics\n",
    "# Perform other analysis as needed\n"
   ]
  },
  {
   "cell_type": "code",
   "execution_count": 8,
   "metadata": {},
   "outputs": [
    {
     "data": {
      "text/plain": [
       "(100, 8)"
      ]
     },
     "execution_count": 8,
     "metadata": {},
     "output_type": "execute_result"
    }
   ],
   "source": [
    "df.shape"
   ]
  },
  {
   "cell_type": "code",
   "execution_count": 10,
   "metadata": {},
   "outputs": [
    {
     "data": {
      "text/plain": [
       "<bound method DataFrame.info of                name                       email  \\\n",
       "0     Veronica West     gravesjesus@example.org   \n",
       "1   Glenn Hernandez  nicolecastillo@example.org   \n",
       "2      Brent Henson       wardjamie@example.net   \n",
       "3   Christina Smith     mannrichard@example.com   \n",
       "4       Thomas Lynn    connernicole@example.com   \n",
       "..              ...                         ...   \n",
       "95     Brian Wilson    tammymendoza@example.com   \n",
       "96   Patricia Rivas       meganpham@example.net   \n",
       "97   Samantha Smith       sabrina28@example.net   \n",
       "98     Ryan Buckley   millerdeborah@example.org   \n",
       "99    Sherri Nguyen          ybryan@example.com   \n",
       "\n",
       "                                              address            phone_number  \\\n",
       "0        421 Shawn Island\\nNew Kimberlyland, KY 53487            344.683.8234   \n",
       "1   97531 Michael Ferry Suite 132\\nLake Tonyamouth...              2085019154   \n",
       "2   1497 Jeffrey Drives Suite 825\\nNew Crystalfort...   +1-726-768-0479x68541   \n",
       "3          8712 Solomon Brooks\\nPort Pamela, MN 44761        918.201.1057x282   \n",
       "4      3400 Alexis Mountain\\nSouth Victoria, NE 19547  001-752-744-7430x30124   \n",
       "..                                                ...                     ...   \n",
       "95                   Unit 5609 Box 0941\\nDPO AA 50778   001-789-453-0736x6584   \n",
       "96           77700 Gordon Center\\nAmbertown, WI 36503  001-208-648-0056x87296   \n",
       "97     983 Harris Locks Apt. 427\\nEvanstown, WI 46357        200.936.3013x244   \n",
       "98  23009 Oconnell Locks Suite 208\\nEast Tina, ID ...        001-694-587-9391   \n",
       "99                          USNS Harris\\nFPO AP 49647      597-760-5452x90191   \n",
       "\n",
       "                                             job                    company  \\\n",
       "0             Tourist information centre manager                  Meyer PLC   \n",
       "1                            Electrical engineer         Ferguson-Carpenter   \n",
       "2                         Psychologist, forensic                 Phelps LLC   \n",
       "3                       Engineer, communications            Aguilar-Jenkins   \n",
       "4                          Management consultant           Hawkins and Sons   \n",
       "..                                           ...                        ...   \n",
       "95                           Colour technologist                Shannon PLC   \n",
       "96  Lighting technician, broadcasting/film/video  Goodwin, Garcia and Smith   \n",
       "97                      Museum education officer               Sharp-Martin   \n",
       "98                                     Homeopath               Hudson Group   \n",
       "99         English as a foreign language teacher                Johnson Ltd   \n",
       "\n",
       "    credit_card_number   birthdate  \n",
       "0      180095672553148  1928-09-14  \n",
       "1     3506097723358866  1949-08-06  \n",
       "2       30293402763945  1920-01-26  \n",
       "3       30077588227134  1957-03-13  \n",
       "4     2274025989476603  1942-04-17  \n",
       "..                 ...         ...  \n",
       "95      30379661855215  1979-01-27  \n",
       "96         60478018769  1932-12-09  \n",
       "97     340484552284270  1991-12-08  \n",
       "98    6511130872636372  2011-07-31  \n",
       "99    3539224400349080  2003-11-07  \n",
       "\n",
       "[100 rows x 8 columns]>"
      ]
     },
     "execution_count": 10,
     "metadata": {},
     "output_type": "execute_result"
    }
   ],
   "source": [
    "df.info"
   ]
  },
  {
   "cell_type": "code",
   "execution_count": 12,
   "metadata": {},
   "outputs": [
    {
     "data": {
      "text/plain": [
       "name                  0\n",
       "email                 0\n",
       "address               0\n",
       "phone_number          0\n",
       "job                   0\n",
       "company               0\n",
       "credit_card_number    0\n",
       "birthdate             0\n",
       "dtype: int64"
      ]
     },
     "execution_count": 12,
     "metadata": {},
     "output_type": "execute_result"
    }
   ],
   "source": [
    "df.isnull().sum()"
   ]
  },
  {
   "cell_type": "code",
   "execution_count": null,
   "metadata": {},
   "outputs": [],
   "source": []
  }
 ],
 "metadata": {
  "kernelspec": {
   "display_name": ".venv",
   "language": "python",
   "name": "python3"
  },
  "language_info": {
   "codemirror_mode": {
    "name": "ipython",
    "version": 3
   },
   "file_extension": ".py",
   "mimetype": "text/x-python",
   "name": "python",
   "nbconvert_exporter": "python",
   "pygments_lexer": "ipython3",
   "version": "3.10.12"
  }
 },
 "nbformat": 4,
 "nbformat_minor": 2
}
