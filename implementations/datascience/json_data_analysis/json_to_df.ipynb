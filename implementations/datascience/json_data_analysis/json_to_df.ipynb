{
 "cells": [
  {
   "cell_type": "code",
   "execution_count": 2,
   "metadata": {},
   "outputs": [
    {
     "name": "stdout",
     "output_type": "stream",
     "text": [
      "JSON file created successfully.\n"
     ]
    }
   ],
   "source": [
    "from faker import Faker\n",
    "import json\n",
    "\n",
    "# Initialize Faker object\n",
    "fake = Faker()\n",
    "\n",
    "# Generate fake data\n",
    "data = []\n",
    "for _ in range(100):  # Generate 100 rows of data\n",
    "    row = {\n",
    "        'name': fake.name(),\n",
    "        'email': fake.email(),\n",
    "        'address': fake.address(),\n",
    "        'phone_number': fake.phone_number(),\n",
    "        'job': fake.job(),\n",
    "        'company': fake.company(),\n",
    "        'credit_card_number': fake.credit_card_number(),\n",
    "        'birthdate': fake.date_of_birth().strftime('%Y-%m-%d')\n",
    "    }\n",
    "    data.append(row)\n",
    "\n",
    "# Write data to JSON file\n",
    "with open('fake_data.json', 'w') as f:\n",
    "    json.dump(data, f, indent=4)\n",
    "\n",
    "print(\"JSON file created successfully.\")\n"
   ]
  },
  {
   "cell_type": "code",
   "execution_count": null,
   "metadata": {},
   "outputs": [],
   "source": []
  }
 ],
 "metadata": {
  "kernelspec": {
   "display_name": ".venv",
   "language": "python",
   "name": "python3"
  },
  "language_info": {
   "codemirror_mode": {
    "name": "ipython",
    "version": 3
   },
   "file_extension": ".py",
   "mimetype": "text/x-python",
   "name": "python",
   "nbconvert_exporter": "python",
   "pygments_lexer": "ipython3",
   "version": "3.10.12"
  }
 },
 "nbformat": 4,
 "nbformat_minor": 2
}
