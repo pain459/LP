{
 "cells": [
  {
   "cell_type": "code",
   "execution_count": 17,
   "metadata": {},
   "outputs": [
    {
     "name": "stdout",
     "output_type": "stream",
     "text": [
      "JSON file created successfully.\n"
     ]
    }
   ],
   "source": [
    "from faker import Faker\n",
    "import json\n",
    "\n",
    "# Initialize Faker object\n",
    "fake = Faker()\n",
    "\n",
    "# Generate fake data\n",
    "data = []\n",
    "for _ in range(100):  # Generate 100 rows of data\n",
    "    row = {\n",
    "        'name': fake.name(),\n",
    "        'email': fake.email(),\n",
    "        'address': fake.address(),\n",
    "        'phone_number': fake.phone_number(),\n",
    "        'job': fake.job(),\n",
    "        'company': fake.company(),\n",
    "        'credit_card_number': fake.credit_card_number(),\n",
    "        'birthdate': fake.date_of_birth().strftime('%Y-%m-%d')\n",
    "    }\n",
    "    data.append(row)\n",
    "\n",
    "# Write data to JSON file\n",
    "with open('fake_data.json', 'w') as f:\n",
    "    json.dump(data, f, indent=4)\n",
    "\n",
    "print(\"JSON file created successfully.\")\n"
   ]
  },
  {
   "cell_type": "code",
   "execution_count": 18,
   "metadata": {},
   "outputs": [
    {
     "name": "stdout",
     "output_type": "stream",
     "text": [
      "                name                         email  \\\n",
      "0  Jessica Gillespie          taylor16@example.com   \n",
      "1      Tommy Spencer           lacey71@example.com   \n",
      "2    Frances Perkins         matthew14@example.org   \n",
      "3      Brandon Dixon  gutierrezshannon@example.org   \n",
      "4        Brian Foley        hillrobert@example.org   \n",
      "\n",
      "                                             address            phone_number  \\\n",
      "0  05073 Jacob Road Suite 731\\nSouth Wendy, ID 22578  001-285-562-1173x24763   \n",
      "1                           USS Vaughn\\nFPO AA 14375     +1-521-297-4919x056   \n",
      "2  70153 Courtney Junction Apt. 677\\nJohnfort, MP...      (303)509-6435x0649   \n",
      "3            27593 Daniel Cove\\nHodgesberg, DE 08208            450.489.3194   \n",
      "4  5138 Washington Road Suite 879\\nJasontown, DE ...     (320)972-1405x54925   \n",
      "\n",
      "                           job                        company  \\\n",
      "0             Location manager                   Barton-Jones   \n",
      "1       Special effects artist                      Kidd-Reid   \n",
      "2  Civil Service fast streamer  Ramirez, Malone and Wilkinson   \n",
      "3   Geophysical data processor      Wilson, Smith and Estrada   \n",
      "4                    Osteopath                  White-Houston   \n",
      "\n",
      "   credit_card_number   birthdate  \n",
      "0    6011529701466494  1928-07-08  \n",
      "1     180095669126130  2016-09-02  \n",
      "2    4350802146135899  1959-06-09  \n",
      "3    4533154653285075  1977-08-08  \n",
      "4        676396526953  1939-10-10  \n",
      "       credit_card_number\n",
      "count        1.000000e+02\n",
      "mean         4.038050e+17\n",
      "std          1.286645e+18\n",
      "min          5.018331e+11\n",
      "25%          3.516209e+13\n",
      "50%          3.116618e+15\n",
      "75%          4.768989e+15\n",
      "max          4.996793e+18\n"
     ]
    }
   ],
   "source": [
    "import pandas as pd\n",
    "\n",
    "# Read JSON file into pandas DataFrame\n",
    "df = pd.read_json('fake_data.json')\n",
    "\n",
    "# Perform data analysis using pandas\n",
    "print(df.head())  # Display the first few rows of the DataFrame\n",
    "print(df.describe())  # Summary statistics\n",
    "# Perform other analysis as needed\n"
   ]
  },
  {
   "cell_type": "code",
   "execution_count": 19,
   "metadata": {},
   "outputs": [
    {
     "data": {
      "text/plain": [
       "(100, 8)"
      ]
     },
     "execution_count": 19,
     "metadata": {},
     "output_type": "execute_result"
    }
   ],
   "source": [
    "df.shape"
   ]
  },
  {
   "cell_type": "code",
   "execution_count": 20,
   "metadata": {},
   "outputs": [
    {
     "data": {
      "text/plain": [
       "<bound method DataFrame.info of                  name                         email  \\\n",
       "0   Jessica Gillespie          taylor16@example.com   \n",
       "1       Tommy Spencer           lacey71@example.com   \n",
       "2     Frances Perkins         matthew14@example.org   \n",
       "3       Brandon Dixon  gutierrezshannon@example.org   \n",
       "4         Brian Foley        hillrobert@example.org   \n",
       "..                ...                           ...   \n",
       "95        Daniel Dean  williamnicholson@example.org   \n",
       "96        Katie Miles           linda11@example.net   \n",
       "97    Michelle Brooks        avilakatie@example.org   \n",
       "98   Christopher Lamb    carlosmorrison@example.net   \n",
       "99     Lauren Camacho        bhernandez@example.net   \n",
       "\n",
       "                                              address            phone_number  \\\n",
       "0   05073 Jacob Road Suite 731\\nSouth Wendy, ID 22578  001-285-562-1173x24763   \n",
       "1                            USS Vaughn\\nFPO AA 14375     +1-521-297-4919x056   \n",
       "2   70153 Courtney Junction Apt. 677\\nJohnfort, MP...      (303)509-6435x0649   \n",
       "3             27593 Daniel Cove\\nHodgesberg, DE 08208            450.489.3194   \n",
       "4   5138 Washington Road Suite 879\\nJasontown, DE ...     (320)972-1405x54925   \n",
       "..                                                ...                     ...   \n",
       "95      909 Sara Mill Apt. 020\\nSerranostad, WV 77635       (956)587-7002x990   \n",
       "96       49216 Christopher Trail\\nPaigeberg, NH 73325            791-326-8560   \n",
       "97           028 Burns Glen\\nSouth Jillberg, CT 60987           (765)973-0917   \n",
       "98           2397 Ross Plaza\\nSouth Anthony, NH 39363  001-809-268-9872x11953   \n",
       "99                701 Alex Fort\\nPort Emily, KY 59453      704.488.8388x18401   \n",
       "\n",
       "                            job                        company  \\\n",
       "0              Location manager                   Barton-Jones   \n",
       "1        Special effects artist                      Kidd-Reid   \n",
       "2   Civil Service fast streamer  Ramirez, Malone and Wilkinson   \n",
       "3    Geophysical data processor      Wilson, Smith and Estrada   \n",
       "4                     Osteopath                  White-Houston   \n",
       "..                          ...                            ...   \n",
       "95              Quality manager     Williams, Henson and Reyes   \n",
       "96                IT consultant                 Smith and Sons   \n",
       "97              Hospital doctor     Hunt, Mcintosh and Freeman   \n",
       "98                Art therapist    Mcdaniel, Hobbs and Meadows   \n",
       "99            Company secretary                       West LLC   \n",
       "\n",
       "     credit_card_number   birthdate  \n",
       "0      6011529701466494  1928-07-08  \n",
       "1       180095669126130  2016-09-02  \n",
       "2      4350802146135899  1959-06-09  \n",
       "3      4533154653285075  1977-08-08  \n",
       "4          676396526953  1939-10-10  \n",
       "..                  ...         ...  \n",
       "95     6584722677959850  1974-01-05  \n",
       "96     4499177137700924  1988-08-22  \n",
       "97      213155517912916  1972-07-29  \n",
       "98     6578861963503564  1985-12-03  \n",
       "99  4002066999772616192  1927-01-13  \n",
       "\n",
       "[100 rows x 8 columns]>"
      ]
     },
     "execution_count": 20,
     "metadata": {},
     "output_type": "execute_result"
    }
   ],
   "source": [
    "df.info"
   ]
  },
  {
   "cell_type": "code",
   "execution_count": 21,
   "metadata": {},
   "outputs": [
    {
     "data": {
      "text/plain": [
       "name                  0\n",
       "email                 0\n",
       "address               0\n",
       "phone_number          0\n",
       "job                   0\n",
       "company               0\n",
       "credit_card_number    0\n",
       "birthdate             0\n",
       "dtype: int64"
      ]
     },
     "execution_count": 21,
     "metadata": {},
     "output_type": "execute_result"
    }
   ],
   "source": [
    "df.isnull().sum()"
   ]
  },
  {
   "cell_type": "code",
   "execution_count": 22,
   "metadata": {},
   "outputs": [
    {
     "name": "stdout",
     "output_type": "stream",
     "text": [
      "       credit_card_number\n",
      "count        1.000000e+02\n",
      "mean         4.038050e+17\n",
      "std          1.286645e+18\n",
      "min          5.018331e+11\n",
      "25%          3.516209e+13\n",
      "50%          3.116618e+15\n",
      "75%          4.768989e+15\n",
      "max          4.996793e+18\n"
     ]
    }
   ],
   "source": [
    "# Statistical analysis\n",
    "summary_stats = df.describe()\n",
    "print(summary_stats)"
   ]
  },
  {
   "cell_type": "code",
   "execution_count": 25,
   "metadata": {},
   "outputs": [
    {
     "name": "stdout",
     "output_type": "stream",
     "text": [
      "                                   credit_card_number                \\\n",
      "                                                count          mean   \n",
      "job                                                                   \n",
      "Accommodation manager                             1.0  4.261941e+15   \n",
      "Aid worker                                        1.0  3.577471e+15   \n",
      "Art therapist                                     1.0  6.578862e+15   \n",
      "Arts development officer                          1.0  3.787773e+14   \n",
      "Bonds trader                                      1.0  3.555456e+15   \n",
      "...                                               ...           ...   \n",
      "Surveyor, mining                                  1.0  3.512649e+15   \n",
      "Surveyor, planning and development                2.0  3.285325e+15   \n",
      "Teacher, primary school                           1.0  3.015923e+13   \n",
      "Therapist, art                                    1.0  2.250079e+15   \n",
      "Town planner                                      1.0  1.800391e+14   \n",
      "\n",
      "                                                                              \\\n",
      "                                             std           min           25%   \n",
      "job                                                                            \n",
      "Accommodation manager                        NaN  4.261941e+15  4.261941e+15   \n",
      "Aid worker                                   NaN  3.577471e+15  3.577471e+15   \n",
      "Art therapist                                NaN  6.578862e+15  6.578862e+15   \n",
      "Arts development officer                     NaN  3.787773e+14  3.787773e+14   \n",
      "Bonds trader                                 NaN  3.555456e+15  3.555456e+15   \n",
      "...                                          ...           ...           ...   \n",
      "Surveyor, mining                             NaN  3.512649e+15  3.512649e+15   \n",
      "Surveyor, planning and development  4.645195e+15  6.761645e+11  1.643001e+15   \n",
      "Teacher, primary school                      NaN  3.015923e+13  3.015923e+13   \n",
      "Therapist, art                               NaN  2.250079e+15  2.250079e+15   \n",
      "Town planner                                 NaN  1.800391e+14  1.800391e+14   \n",
      "\n",
      "                                                                              \n",
      "                                             50%           75%           max  \n",
      "job                                                                           \n",
      "Accommodation manager               4.261941e+15  4.261941e+15  4.261941e+15  \n",
      "Aid worker                          3.577471e+15  3.577471e+15  3.577471e+15  \n",
      "Art therapist                       6.578862e+15  6.578862e+15  6.578862e+15  \n",
      "Arts development officer            3.787773e+14  3.787773e+14  3.787773e+14  \n",
      "Bonds trader                        3.555456e+15  3.555456e+15  3.555456e+15  \n",
      "...                                          ...           ...           ...  \n",
      "Surveyor, mining                    3.512649e+15  3.512649e+15  3.512649e+15  \n",
      "Surveyor, planning and development  3.285325e+15  4.927649e+15  6.569974e+15  \n",
      "Teacher, primary school             3.015923e+13  3.015923e+13  3.015923e+13  \n",
      "Therapist, art                      2.250079e+15  2.250079e+15  2.250079e+15  \n",
      "Town planner                        1.800391e+14  1.800391e+14  1.800391e+14  \n",
      "\n",
      "[92 rows x 8 columns]\n"
     ]
    }
   ],
   "source": [
    "# Grouped stats\n",
    "grouped_stats = df.groupby('job').describe()\n",
    "print(grouped_stats)"
   ]
  },
  {
   "cell_type": "code",
   "execution_count": 30,
   "metadata": {},
   "outputs": [
    {
     "ename": "TypeError",
     "evalue": "'method' object is not subscriptable",
     "output_type": "error",
     "traceback": [
      "\u001b[0;31m---------------------------------------------------------------------------\u001b[0m",
      "\u001b[0;31mTypeError\u001b[0m                                 Traceback (most recent call last)",
      "Cell \u001b[0;32mIn[30], line 2\u001b[0m\n\u001b[1;32m      1\u001b[0m \u001b[38;5;66;03m# Correlation analysis\u001b[39;00m\n\u001b[0;32m----> 2\u001b[0m correlation_analysis \u001b[38;5;241m=\u001b[39m \u001b[43mdf\u001b[49m\u001b[38;5;241;43m.\u001b[39;49m\u001b[43mcorr\u001b[49m\u001b[43m[\u001b[49m\u001b[38;5;124;43m'\u001b[39;49m\u001b[38;5;124;43mcredit_card_number\u001b[39;49m\u001b[38;5;124;43m'\u001b[39;49m\u001b[43m]\u001b[49m\n\u001b[1;32m      3\u001b[0m \u001b[38;5;28mprint\u001b[39m(correlation_analysis)\n",
      "\u001b[0;31mTypeError\u001b[0m: 'method' object is not subscriptable"
     ]
    }
   ],
   "source": [
    "# Correlation analysis\n",
    "correlation_analysis = df.corr['credit_card_number']\n",
    "print(correlation_analysis)"
   ]
  },
  {
   "cell_type": "code",
   "execution_count": null,
   "metadata": {},
   "outputs": [],
   "source": []
  }
 ],
 "metadata": {
  "kernelspec": {
   "display_name": ".venv",
   "language": "python",
   "name": "python3"
  },
  "language_info": {
   "codemirror_mode": {
    "name": "ipython",
    "version": 3
   },
   "file_extension": ".py",
   "mimetype": "text/x-python",
   "name": "python",
   "nbconvert_exporter": "python",
   "pygments_lexer": "ipython3",
   "version": "3.10.12"
  }
 },
 "nbformat": 4,
 "nbformat_minor": 2
}
