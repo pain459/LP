{
 "cells": [
  {
   "cell_type": "markdown",
   "id": "5f7d8130",
   "metadata": {},
   "source": [
    "Basic Examples"
   ]
  },
  {
   "cell_type": "code",
   "execution_count": 2,
   "id": "49d9c75d-4bd5-4fbb-946a-3d1538dedf54",
   "metadata": {},
   "outputs": [
    {
     "name": "stdout",
     "output_type": "stream",
     "text": [
      "true\n"
     ]
    }
   ],
   "source": [
    "if 1:\n",
    "    print('true')"
   ]
  },
  {
   "cell_type": "code",
   "execution_count": 3,
   "id": "6f351732-b535-40c9-a330-9cbb55f8f612",
   "metadata": {},
   "outputs": [
    {
     "name": "stdout",
     "output_type": "stream",
     "text": [
      "false\n"
     ]
    }
   ],
   "source": [
    "if not 1:\n",
    "    print('true')\n",
    "else:\n",
    "    print('false')"
   ]
  },
  {
   "cell_type": "markdown",
   "id": "641a4120",
   "metadata": {},
   "source": [
    "Multiway Branching"
   ]
  },
  {
   "cell_type": "code",
   "execution_count": 2,
   "id": "06de6c13",
   "metadata": {},
   "outputs": [
    {
     "name": "stdout",
     "output_type": "stream",
     "text": [
      "run away! run away!\n"
     ]
    }
   ],
   "source": [
    "x = 'killer rabbit'\n",
    "if x == 'roger':\n",
    "    print('shave and haircut')\n",
    "elif x == 'bugs':\n",
    "    print(\"what's up doc?\")\n",
    "else:\n",
    "    print('run away! run away!')"
   ]
  },
  {
   "cell_type": "code",
   "execution_count": 3,
   "id": "a711ce71",
   "metadata": {},
   "outputs": [
    {
     "name": "stdout",
     "output_type": "stream",
     "text": [
      "1.99\n"
     ]
    }
   ],
   "source": [
    "# A dictionary based switch\n",
    "choice = 'ham'\n",
    "print({'spam': 1.25,\n",
    "       'ham': 1.99,\n",
    "       'eggs': 0.99,\n",
    "       'bacon': 1.10}[choice])"
   ]
  },
  {
   "cell_type": "code",
   "execution_count": 4,
   "id": "02910a47",
   "metadata": {},
   "outputs": [
    {
     "name": "stdout",
     "output_type": "stream",
     "text": [
      "1.99\n"
     ]
    }
   ],
   "source": [
    "# Same version in verbose.\n",
    "choice = 'ham'\n",
    "if choice == 'spam':\n",
    "    print(1.25)\n",
    "elif choice == 'ham':\n",
    "    print(1.99)\n",
    "elif choice == 'eggs':\n",
    "    print(0.99)\n",
    "elif choice == 'bacon':\n",
    "    print(1.10)\n",
    "else:\n",
    "    print('bad choice!')"
   ]
  },
  {
   "cell_type": "markdown",
   "id": "bbe7ef22",
   "metadata": {},
   "source": [
    "Handling Switch defaults"
   ]
  },
  {
   "cell_type": "code",
   "execution_count": 5,
   "id": "78632f55",
   "metadata": {},
   "outputs": [
    {
     "name": "stdout",
     "output_type": "stream",
     "text": [
      "1.25\n"
     ]
    }
   ],
   "source": [
    "branch = {'spam': 1.25,\n",
    "         'ham': 1.99,\n",
    "         'eggs' : 0.99}\n",
    "\n",
    "print(branch.get('spam', 'Bad Choice'))"
   ]
  },
  {
   "cell_type": "code",
   "execution_count": 7,
   "id": "afd01a84",
   "metadata": {},
   "outputs": [
    {
     "name": "stdout",
     "output_type": "stream",
     "text": [
      "Bad Choice\n"
     ]
    }
   ],
   "source": [
    "print(branch.get('bacon', 'Bad Choice'))"
   ]
  },
  {
   "cell_type": "code",
   "execution_count": 8,
   "id": "55df84e7",
   "metadata": {},
   "outputs": [
    {
     "name": "stdout",
     "output_type": "stream",
     "text": [
      "Bad choice!\n"
     ]
    }
   ],
   "source": [
    "# Using in membership for above example\n",
    "\n",
    "branch = {'spam': 1.25,\n",
    "         'ham': 1.99,\n",
    "         'eggs' : 0.99}\n",
    "\n",
    "choice = 'bacon'\n",
    "if choice in branch:\n",
    "    print(branch[choice])\n",
    "else:\n",
    "    print('Bad choice!')"
   ]
  },
  {
   "cell_type": "code",
   "execution_count": 12,
   "id": "60aec6a1",
   "metadata": {},
   "outputs": [
    {
     "name": "stdout",
     "output_type": "stream",
     "text": [
      "Bad Choice\n"
     ]
    }
   ],
   "source": [
    "# Using try and except\n",
    "# print(branch[choice])\n",
    "try:\n",
    "    print(branch[choice])\n",
    "except KeyError:\n",
    "    print('Bad Choice')"
   ]
  },
  {
   "cell_type": "raw",
   "id": "3d5969b4",
   "metadata": {},
   "source": [
    "The if/else ternary expression"
   ]
  },
  {
   "cell_type": "code",
   "execution_count": 13,
   "id": "0a0ace86",
   "metadata": {},
   "outputs": [
    {
     "ename": "NameError",
     "evalue": "name 'X' is not defined",
     "output_type": "error",
     "traceback": [
      "\u001b[0;31m---------------------------------------------------------------------------\u001b[0m",
      "\u001b[0;31mNameError\u001b[0m                                 Traceback (most recent call last)",
      "\u001b[0;32m<ipython-input-13-9698c42cb8ad>\u001b[0m in \u001b[0;36m<module>\u001b[0;34m\u001b[0m\n\u001b[0;32m----> 1\u001b[0;31m \u001b[0;32mif\u001b[0m \u001b[0mX\u001b[0m\u001b[0;34m:\u001b[0m\u001b[0;34m\u001b[0m\u001b[0;34m\u001b[0m\u001b[0m\n\u001b[0m\u001b[1;32m      2\u001b[0m     \u001b[0mA\u001b[0m \u001b[0;34m=\u001b[0m \u001b[0mY\u001b[0m\u001b[0;34m\u001b[0m\u001b[0;34m\u001b[0m\u001b[0m\n\u001b[1;32m      3\u001b[0m \u001b[0;32melse\u001b[0m\u001b[0;34m:\u001b[0m\u001b[0;34m\u001b[0m\u001b[0;34m\u001b[0m\u001b[0m\n\u001b[1;32m      4\u001b[0m     \u001b[0mA\u001b[0m \u001b[0;34m=\u001b[0m \u001b[0mZ\u001b[0m\u001b[0;34m\u001b[0m\u001b[0;34m\u001b[0m\u001b[0m\n",
      "\u001b[0;31mNameError\u001b[0m: name 'X' is not defined"
     ]
    }
   ],
   "source": [
    "if X:\n",
    "    A = Y\n",
    "else:\n",
    "    A = Z"
   ]
  },
  {
   "cell_type": "code",
   "execution_count": 14,
   "id": "8f07ea7e",
   "metadata": {},
   "outputs": [],
   "source": [
    "A = 't' if 'spam' else 'f'  # for strings, non-empty means true"
   ]
  },
  {
   "cell_type": "code",
   "execution_count": 15,
   "id": "16f0c321",
   "metadata": {},
   "outputs": [
    {
     "data": {
      "text/plain": [
       "'t'"
      ]
     },
     "execution_count": 15,
     "metadata": {},
     "output_type": "execute_result"
    }
   ],
   "source": [
    "A"
   ]
  },
  {
   "cell_type": "code",
   "execution_count": 16,
   "id": "e9da1300",
   "metadata": {},
   "outputs": [],
   "source": [
    "A = 't' if '' else 'f'"
   ]
  },
  {
   "cell_type": "code",
   "execution_count": 17,
   "id": "b48f288c",
   "metadata": {},
   "outputs": [
    {
     "data": {
      "text/plain": [
       "'f'"
      ]
     },
     "execution_count": 17,
     "metadata": {},
     "output_type": "execute_result"
    }
   ],
   "source": [
    "A"
   ]
  },
  {
   "cell_type": "code",
   "execution_count": 18,
   "id": "0caf802f",
   "metadata": {},
   "outputs": [
    {
     "data": {
      "text/plain": [
       "'f'"
      ]
     },
     "execution_count": 18,
     "metadata": {},
     "output_type": "execute_result"
    }
   ],
   "source": [
    "# Trick with bool return and index\n",
    "['f', 't'][bool('')]  # f is at index 0. False and 0 returned\n",
    "# empty string is false"
   ]
  },
  {
   "cell_type": "code",
   "execution_count": 19,
   "id": "f63ec0bf",
   "metadata": {},
   "outputs": [
    {
     "data": {
      "text/plain": [
       "'t'"
      ]
     },
     "execution_count": 19,
     "metadata": {},
     "output_type": "execute_result"
    }
   ],
   "source": [
    "['f', 't'][bool('spam')]  # same above logic, index 1 returned."
   ]
  },
  {
   "cell_type": "code",
   "execution_count": 20,
   "id": "45530024",
   "metadata": {},
   "outputs": [
    {
     "data": {
      "text/plain": [
       "[1, 2, 'spam', 'ham']"
      ]
     },
     "execution_count": 20,
     "metadata": {},
     "output_type": "execute_result"
    }
   ],
   "source": [
    "# Using filter to get simple true values\n",
    "L = [1, 0, 2, 0, 'spam', '', 'ham', []]\n",
    "list(filter(bool,L))"
   ]
  },
  {
   "cell_type": "code",
   "execution_count": 23,
   "id": "d7b4a17c",
   "metadata": {},
   "outputs": [
    {
     "data": {
      "text/plain": [
       "[1, 2, 'spam', 'ham']"
      ]
     },
     "execution_count": 23,
     "metadata": {},
     "output_type": "execute_result"
    }
   ],
   "source": [
    "[X for X in L if X]  # Using conprehensions"
   ]
  },
  {
   "cell_type": "code",
   "execution_count": null,
   "id": "5410d99a",
   "metadata": {},
   "outputs": [],
   "source": []
  }
 ],
 "metadata": {
  "kernelspec": {
   "display_name": "Python 3",
   "language": "python",
   "name": "python3"
  },
  "language_info": {
   "codemirror_mode": {
    "name": "ipython",
    "version": 3
   },
   "file_extension": ".py",
   "mimetype": "text/x-python",
   "name": "python",
   "nbconvert_exporter": "python",
   "pygments_lexer": "ipython3",
   "version": "3.8.8"
  }
 },
 "nbformat": 4,
 "nbformat_minor": 5
}
