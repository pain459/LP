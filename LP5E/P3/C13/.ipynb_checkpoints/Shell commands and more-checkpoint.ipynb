{
 "cells": [
  {
   "cell_type": "code",
   "execution_count": 1,
   "id": "f1dc8f94",
   "metadata": {},
   "outputs": [],
   "source": [
    "import os"
   ]
  },
  {
   "cell_type": "code",
   "execution_count": 12,
   "id": "c8f34443",
   "metadata": {},
   "outputs": [],
   "source": [
    "F = os.popen('ls')"
   ]
  },
  {
   "cell_type": "code",
   "execution_count": 9,
   "id": "49d1342b",
   "metadata": {},
   "outputs": [
    {
     "data": {
      "text/plain": [
       "['Shell commands and more.ipynb\\n', 'While_and_for_loops.ipynb\\n']"
      ]
     },
     "execution_count": 9,
     "metadata": {},
     "output_type": "execute_result"
    }
   ],
   "source": [
    "F.readlines()  # Read lines"
   ]
  },
  {
   "cell_type": "code",
   "execution_count": 11,
   "id": "e8c0af61",
   "metadata": {},
   "outputs": [
    {
     "data": {
      "text/plain": [
       "'Shell commands and more.ipynb\\n'"
      ]
     },
     "execution_count": 11,
     "metadata": {},
     "output_type": "execute_result"
    }
   ],
   "source": [
    "F.readline()  # Read per file"
   ]
  },
  {
   "cell_type": "code",
   "execution_count": 13,
   "id": "557667cd",
   "metadata": {},
   "outputs": [
    {
     "data": {
      "text/plain": [
       "'Shell commands and m'"
      ]
     },
     "execution_count": 13,
     "metadata": {},
     "output_type": "execute_result"
    }
   ],
   "source": [
    "F.read(20)  # Read by sized blocks"
   ]
  },
  {
   "cell_type": "code",
   "execution_count": 14,
   "id": "cfc9f148",
   "metadata": {},
   "outputs": [
    {
     "data": {
      "text/plain": [
       "'Shell commands and more.ipynb\\n'"
      ]
     },
     "execution_count": 14,
     "metadata": {},
     "output_type": "execute_result"
    }
   ],
   "source": [
    "os.popen('ls').readlines()[0]  # read all lines by index"
   ]
  },
  {
   "cell_type": "code",
   "execution_count": 15,
   "id": "50f69b4f",
   "metadata": {},
   "outputs": [
    {
     "data": {
      "text/plain": [
       "'Shell commands and m'"
      ]
     },
     "execution_count": 15,
     "metadata": {},
     "output_type": "execute_result"
    }
   ],
   "source": [
    "os.popen('ls').read()[:20]  # reall all at once: slice"
   ]
  },
  {
   "cell_type": "code",
   "execution_count": 19,
   "id": "521f1898",
   "metadata": {},
   "outputs": [
    {
     "name": "stdout",
     "output_type": "stream",
     "text": [
      "Shell commands and more.ipynb\n",
      "While_and_for_loops.ipynb\n"
     ]
    }
   ],
   "source": [
    "for line in os.popen('ls'):  # File line iterator loop\n",
    "    print(line.rstrip())"
   ]
  },
  {
   "cell_type": "code",
   "execution_count": 21,
   "id": "2c6f9153",
   "metadata": {},
   "outputs": [
    {
     "data": {
      "text/plain": [
       "0"
      ]
     },
     "execution_count": 21,
     "metadata": {},
     "output_type": "execute_result"
    }
   ],
   "source": [
    "os.system('ls')  # output in console, popup in IDLE..."
   ]
  },
  {
   "cell_type": "code",
   "execution_count": null,
   "id": "169360d3",
   "metadata": {},
   "outputs": [],
   "source": []
  }
 ],
 "metadata": {
  "kernelspec": {
   "display_name": "Python 3",
   "language": "python",
   "name": "python3"
  },
  "language_info": {
   "codemirror_mode": {
    "name": "ipython",
    "version": 3
   },
   "file_extension": ".py",
   "mimetype": "text/x-python",
   "name": "python",
   "nbconvert_exporter": "python",
   "pygments_lexer": "ipython3",
   "version": "3.8.8"
  }
 },
 "nbformat": 4,
 "nbformat_minor": 5
}
