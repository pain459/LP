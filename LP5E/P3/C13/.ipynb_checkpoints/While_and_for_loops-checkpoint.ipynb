{
 "cells": [
  {
   "cell_type": "markdown",
   "id": "b60e24f4",
   "metadata": {},
   "source": [
    "Examples"
   ]
  },
  {
   "cell_type": "code",
   "execution_count": 2,
   "id": "1d2a3698",
   "metadata": {},
   "outputs": [
    {
     "name": "stdout",
     "output_type": "stream",
     "text": [
      "spam pam am m "
     ]
    }
   ],
   "source": [
    "x = 'spam'\n",
    "while x:\n",
    "    print(x, end=' ')\n",
    "    x = x[1:]"
   ]
  },
  {
   "cell_type": "code",
   "execution_count": 5,
   "id": "34b11915",
   "metadata": {},
   "outputs": [
    {
     "name": "stdout",
     "output_type": "stream",
     "text": [
      "0 1 2 3 4 5 6 7 8 9 "
     ]
    }
   ],
   "source": [
    "a = 0; b = 10\n",
    "while a < b:\n",
    "    print(a, end=' ')\n",
    "    a += 1"
   ]
  },
  {
   "cell_type": "markdown",
   "id": "15cacce5",
   "metadata": {},
   "source": [
    "# break, continue, pass, and the Loop else"
   ]
  },
  {
   "cell_type": "markdown",
   "id": "20b67438",
   "metadata": {},
   "source": [
    "break - \n",
    "Jumps out of the closest enclosing loop (past the entire loop statement)\n",
    "\n",
    "continue - \n",
    "Jumps to the top of the closest enclosing loop (to the loop’s header line)\n",
    "\n",
    "pass - \n",
    "Does nothing at all: it’s an empty statement placeholder\n",
    "\n",
    "Loop else block - \n",
    "Runs if and only if the loop is exited normally (i.e., without hitting a break )"
   ]
  },
  {
   "cell_type": "markdown",
   "id": "8cb17d80",
   "metadata": {},
   "source": [
    "General format\n",
    "\n",
    "while test:\n",
    "    statements\n",
    "    if test: break  # Exit loop now, skip tp else if present\n",
    "    if test: continue  # Go to top of loop now, to test1\n",
    "else:\n",
    "    statements"
   ]
  },
  {
   "cell_type": "markdown",
   "id": "34ff44eb",
   "metadata": {},
   "source": [
    "Continue"
   ]
  },
  {
   "cell_type": "code",
   "execution_count": 11,
   "id": "3265ba06",
   "metadata": {},
   "outputs": [
    {
     "name": "stdout",
     "output_type": "stream",
     "text": [
      "8 6 4 2 0 "
     ]
    }
   ],
   "source": [
    "x = 10\n",
    "while x:\n",
    "    x -= 1  # decrement counter\n",
    "    if x % 2 != 0: continue  # continue if odd. print next if even.\n",
    "    print(x, end=' ')"
   ]
  },
  {
   "cell_type": "code",
   "execution_count": 12,
   "id": "9db12998",
   "metadata": {},
   "outputs": [
    {
     "name": "stdout",
     "output_type": "stream",
     "text": [
      "9 7 5 3 1 "
     ]
    }
   ],
   "source": [
    "x = 10\n",
    "while x:\n",
    "    x -= 1\n",
    "    if x % 2 == 0: continue  # prints only odd numbers\n",
    "    print(x, end = ' ')"
   ]
  },
  {
   "cell_type": "markdown",
   "id": "3b1c0f84",
   "metadata": {},
   "source": [
    "break"
   ]
  },
  {
   "cell_type": "code",
   "execution_count": 20,
   "id": "ab62b497",
   "metadata": {},
   "outputs": [
    {
     "name": "stdout",
     "output_type": "stream",
     "text": [
      "Enter name: RRR\n",
      "Enter age: 34\n",
      "Hello  RRR => 1156\n",
      "Enter name: stop\n"
     ]
    }
   ],
   "source": [
    "while True:\n",
    "    name = input('Enter name: ')\n",
    "    if name == 'stop': break\n",
    "    age = input('Enter age: ')\n",
    "    print('Hello ', name, '=>', int(age) ** 2)"
   ]
  },
  {
   "cell_type": "code",
   "execution_count": 4,
   "id": "384b81b1",
   "metadata": {},
   "outputs": [
    {
     "ename": "NameError",
     "evalue": "name 'match' is not defined",
     "output_type": "error",
     "traceback": [
      "\u001b[0;31m---------------------------------------------------------------------------\u001b[0m",
      "\u001b[0;31mNameError\u001b[0m                                 Traceback (most recent call last)",
      "\u001b[0;32m<ipython-input-4-0d296c4f6464>\u001b[0m in \u001b[0;36m<module>\u001b[0;34m\u001b[0m\n\u001b[1;32m      2\u001b[0m \u001b[0mfound\u001b[0m \u001b[0;34m=\u001b[0m \u001b[0;32mFalse\u001b[0m\u001b[0;34m\u001b[0m\u001b[0;34m\u001b[0m\u001b[0m\n\u001b[1;32m      3\u001b[0m \u001b[0;32mwhile\u001b[0m \u001b[0mx\u001b[0m \u001b[0;32mand\u001b[0m \u001b[0;32mnot\u001b[0m \u001b[0mfound\u001b[0m\u001b[0;34m:\u001b[0m\u001b[0;34m\u001b[0m\u001b[0;34m\u001b[0m\u001b[0m\n\u001b[0;32m----> 4\u001b[0;31m     \u001b[0;32mif\u001b[0m \u001b[0mmatch\u001b[0m\u001b[0;34m(\u001b[0m\u001b[0mx\u001b[0m\u001b[0;34m[\u001b[0m\u001b[0;36m0\u001b[0m\u001b[0;34m]\u001b[0m\u001b[0;34m)\u001b[0m\u001b[0;34m:\u001b[0m\u001b[0;34m\u001b[0m\u001b[0;34m\u001b[0m\u001b[0m\n\u001b[0m\u001b[1;32m      5\u001b[0m         \u001b[0mprint\u001b[0m\u001b[0;34m(\u001b[0m\u001b[0;34m'Ni'\u001b[0m\u001b[0;34m)\u001b[0m\u001b[0;34m\u001b[0m\u001b[0;34m\u001b[0m\u001b[0m\n\u001b[1;32m      6\u001b[0m         \u001b[0mfound\u001b[0m \u001b[0;34m=\u001b[0m \u001b[0;32mTrue\u001b[0m\u001b[0;34m\u001b[0m\u001b[0;34m\u001b[0m\u001b[0m\n",
      "\u001b[0;31mNameError\u001b[0m: name 'match' is not defined"
     ]
    }
   ],
   "source": [
    "# loop else\n",
    "found = False\n",
    "while x and not found:\n",
    "    if match(x[0]):\n",
    "        print('Ni')\n",
    "        found = True\n",
    "    else:\n",
    "        x = x[1:]\n",
    "if not found:\n",
    "    print(\"Not found!\")"
   ]
  },
  {
   "cell_type": "markdown",
   "id": "580a5d32",
   "metadata": {},
   "source": [
    "# for loops"
   ]
  },
  {
   "cell_type": "code",
   "execution_count": 7,
   "id": "dfbbc977",
   "metadata": {},
   "outputs": [
    {
     "name": "stdout",
     "output_type": "stream",
     "text": [
      "spam eggs ham "
     ]
    }
   ],
   "source": [
    "for x in ['spam', 'eggs', 'ham']:\n",
    "    print(x, end=' ')"
   ]
  },
  {
   "cell_type": "code",
   "execution_count": 8,
   "id": "76726260",
   "metadata": {},
   "outputs": [],
   "source": [
    "sum = 0\n",
    "for x in [1, 2, 3, 4]:\n",
    "    sum = sum + x  # simple addition"
   ]
  },
  {
   "cell_type": "code",
   "execution_count": 9,
   "id": "e6b3eb51",
   "metadata": {},
   "outputs": [
    {
     "data": {
      "text/plain": [
       "10"
      ]
     },
     "execution_count": 9,
     "metadata": {},
     "output_type": "execute_result"
    }
   ],
   "source": [
    "sum"
   ]
  },
  {
   "cell_type": "code",
   "execution_count": 10,
   "id": "c79f3426",
   "metadata": {},
   "outputs": [],
   "source": [
    "prod = 1\n",
    "for item in [1, 2, 3, 4]: prod *= item  # multiplying all ofthem"
   ]
  },
  {
   "cell_type": "code",
   "execution_count": 11,
   "id": "d7ba932e",
   "metadata": {},
   "outputs": [
    {
     "data": {
      "text/plain": [
       "24"
      ]
     },
     "execution_count": 11,
     "metadata": {},
     "output_type": "execute_result"
    }
   ],
   "source": [
    "prod"
   ]
  },
  {
   "cell_type": "code",
   "execution_count": 12,
   "id": "dd3e6c17",
   "metadata": {},
   "outputs": [
    {
     "name": "stdout",
     "output_type": "stream",
     "text": [
      "l u m b e r j a c k "
     ]
    }
   ],
   "source": [
    "S = 'lumberjack'\n",
    "T = (\"and\", \"I'm\", \"Okay\")\n",
    "for x in S: print(x, end= ' ')"
   ]
  },
  {
   "cell_type": "code",
   "execution_count": 13,
   "id": "7a4f117c",
   "metadata": {},
   "outputs": [
    {
     "name": "stdout",
     "output_type": "stream",
     "text": [
      "and I'm Okay "
     ]
    }
   ],
   "source": [
    "for x in T: print(x, end=' ')"
   ]
  },
  {
   "cell_type": "code",
   "execution_count": 17,
   "id": "21e2a7c0",
   "metadata": {},
   "outputs": [
    {
     "name": "stdout",
     "output_type": "stream",
     "text": [
      "1 2\n",
      "3 4\n",
      "5 6\n"
     ]
    }
   ],
   "source": [
    "# unpacking tuples\n",
    "T = [(1, 2), (3, 4), (5, 6)]\n",
    "for (a, b) in T:  # Tuple assignment at work.\n",
    "    print(a, b)\n",
    "    "
   ]
  },
  {
   "cell_type": "code",
   "execution_count": 18,
   "id": "406adf59",
   "metadata": {},
   "outputs": [
    {
     "name": "stdout",
     "output_type": "stream",
     "text": [
      "(1, 2)\n",
      "(3, 4)\n",
      "(5, 6)\n"
     ]
    }
   ],
   "source": [
    "T = [(1, 2), (3, 4), (5, 6)]\n",
    "for i in T:  # Just returning tuples\n",
    "    print(i)\n",
    "    "
   ]
  },
  {
   "cell_type": "code",
   "execution_count": 19,
   "id": "4bc5f313",
   "metadata": {},
   "outputs": [
    {
     "name": "stdout",
     "output_type": "stream",
     "text": [
      "a => 1\n",
      "b => 2\n",
      "c => 3\n"
     ]
    }
   ],
   "source": [
    "# for loop through dictionary\n",
    "D = {'a': 1, 'b': 2, 'c': 3}\n",
    "for key in D:\n",
    "    print(key, '=>', D[key])  # Use dict keys iterator and index"
   ]
  },
  {
   "cell_type": "code",
   "execution_count": 20,
   "id": "dc52c0fa",
   "metadata": {},
   "outputs": [
    {
     "data": {
      "text/plain": [
       "[('a', 1), ('b', 2), ('c', 3)]"
      ]
     },
     "execution_count": 20,
     "metadata": {},
     "output_type": "execute_result"
    }
   ],
   "source": [
    "list(D.items())"
   ]
  },
  {
   "cell_type": "code",
   "execution_count": 22,
   "id": "165179f3",
   "metadata": {},
   "outputs": [
    {
     "name": "stdout",
     "output_type": "stream",
     "text": [
      "a => 1\n",
      "b => 2\n",
      "c => 3\n"
     ]
    }
   ],
   "source": [
    "for (key, value) in D.items():\n",
    "    print(key, '=>', value)  # Iterate over both Keys and values"
   ]
  },
  {
   "cell_type": "code",
   "execution_count": 23,
   "id": "751bf4b1",
   "metadata": {},
   "outputs": [
    {
     "name": "stdout",
     "output_type": "stream",
     "text": [
      "1 2\n",
      "3 4\n",
      "5 6\n"
     ]
    }
   ],
   "source": [
    "T = [(1, 2), (3, 4), (5, 6)]\n",
    "for both in T:\n",
    "    a, b = both  # Manual assignment equivalent\n",
    "    print(a, b)"
   ]
  },
  {
   "cell_type": "code",
   "execution_count": 24,
   "id": "53fb7964",
   "metadata": {},
   "outputs": [],
   "source": [
    "((a, b), c) = ((1, 2), 3)  # nested strucures automatic unpacking."
   ]
  },
  {
   "cell_type": "code",
   "execution_count": 25,
   "id": "af44f07b",
   "metadata": {},
   "outputs": [
    {
     "data": {
      "text/plain": [
       "(1, 2, 3)"
      ]
     },
     "execution_count": 25,
     "metadata": {},
     "output_type": "execute_result"
    }
   ],
   "source": [
    "a, b, c"
   ]
  },
  {
   "cell_type": "code",
   "execution_count": 27,
   "id": "b2842281",
   "metadata": {},
   "outputs": [
    {
     "name": "stdout",
     "output_type": "stream",
     "text": [
      "1 2 3\n",
      "4 5 6\n"
     ]
    }
   ],
   "source": [
    "L = [((1, 2), 3), ((4, 5), 6)]  # nested unpacking\n",
    "for ((a, b), c) in L: print(a, b, c)"
   ]
  },
  {
   "cell_type": "code",
   "execution_count": 28,
   "id": "4ede3b5d",
   "metadata": {},
   "outputs": [
    {
     "name": "stdout",
     "output_type": "stream",
     "text": [
      "1 2 3\n",
      "4 5 6\n"
     ]
    }
   ],
   "source": [
    "# python 3 extended sequence assignment in for loops\n",
    "for (a, b, c) in [(1, 2, 3),(4, 5, 6)]:\n",
    "    print(a, b, c)"
   ]
  },
  {
   "cell_type": "code",
   "execution_count": 29,
   "id": "2cdb1247",
   "metadata": {},
   "outputs": [],
   "source": [
    "# python 3 extended sequence assignment in for loops\n",
    "a, *b, c = (1, 2, 3, 4)"
   ]
  },
  {
   "cell_type": "code",
   "execution_count": 30,
   "id": "05b538fa",
   "metadata": {},
   "outputs": [
    {
     "data": {
      "text/plain": [
       "(1, [2, 3], 4)"
      ]
     },
     "execution_count": 30,
     "metadata": {},
     "output_type": "execute_result"
    }
   ],
   "source": [
    "a, b, c"
   ]
  },
  {
   "cell_type": "code",
   "execution_count": 34,
   "id": "2ee97f7a",
   "metadata": {},
   "outputs": [
    {
     "name": "stdout",
     "output_type": "stream",
     "text": [
      "1 [2, 3] 4\n",
      "5 [6, 7] 8\n"
     ]
    }
   ],
   "source": [
    "for (a, *b, c) in [(1, 2, 3, 4), (5, 6, 7, 8)]:\n",
    "    print(a, b, c)"
   ]
  },
  {
   "cell_type": "code",
   "execution_count": 38,
   "id": "bc8c3de4",
   "metadata": {},
   "outputs": [
    {
     "name": "stdout",
     "output_type": "stream",
     "text": [
      "(4, 5)  was found\n",
      "3.14  not found\n"
     ]
    }
   ],
   "source": [
    "# Nested for loops\n",
    "items = ['aaaa', 111, (4, 5), 2.01]\n",
    "tests = [(4, 5), 3.14]\n",
    "for key in tests:\n",
    "    for item in items:\n",
    "        if item == key:\n",
    "            print(key, ' was found')\n",
    "            break\n",
    "    else:\n",
    "        print(key, ' not found')\n",
    "            "
   ]
  },
  {
   "cell_type": "code",
   "execution_count": 39,
   "id": "db9ace2b",
   "metadata": {},
   "outputs": [
    {
     "name": "stdout",
     "output_type": "stream",
     "text": [
      "(4, 5)  was found\n",
      "3.14  not found!\n"
     ]
    }
   ],
   "source": [
    "# above example with in operator\n",
    "items = ['aaaa', 111, (4, 5), 2.01]\n",
    "tests = [(4, 5), 3.14]\n",
    "for key in tests:\n",
    "    if key in items:\n",
    "        print(key, ' was found')\n",
    "    else:\n",
    "        print(key, ' not found!')"
   ]
  },
  {
   "cell_type": "code",
   "execution_count": 40,
   "id": "b8841bab",
   "metadata": {},
   "outputs": [],
   "source": [
    "# creating a list manually with matches\n",
    "seq1 = 'spam'\n",
    "seq2 = 'scam'\n",
    "res = []\n",
    "for x in seq1:\n",
    "    if x in seq2:\n",
    "        res.append(x)"
   ]
  },
  {
   "cell_type": "code",
   "execution_count": 41,
   "id": "51f82c14",
   "metadata": {},
   "outputs": [
    {
     "data": {
      "text/plain": [
       "['s', 'a', 'm']"
      ]
     },
     "execution_count": 41,
     "metadata": {},
     "output_type": "execute_result"
    }
   ],
   "source": [
    "res"
   ]
  },
  {
   "cell_type": "code",
   "execution_count": 43,
   "id": "ca982f78",
   "metadata": {},
   "outputs": [
    {
     "data": {
      "text/plain": [
       "['s', 'a', 'm']"
      ]
     },
     "execution_count": 43,
     "metadata": {},
     "output_type": "execute_result"
    }
   ],
   "source": [
    "# let python collect the results\n",
    "seq1 = 'spam'\n",
    "seq2 = 'scam'\n",
    "[x for x in seq1 if x in seq2]"
   ]
  },
  {
   "cell_type": "markdown",
   "id": "9701b9b4",
   "metadata": {},
   "source": [
    "# Loop Coding Techniques"
   ]
  },
  {
   "cell_type": "code",
   "execution_count": 44,
   "id": "30fecefb",
   "metadata": {},
   "outputs": [],
   "source": [
    "# range, zip, enumerate, map"
   ]
  },
  {
   "cell_type": "markdown",
   "id": "19ea970d",
   "metadata": {},
   "source": [
    "Counter Loops: range"
   ]
  },
  {
   "cell_type": "code",
   "execution_count": 45,
   "id": "e59c75bd",
   "metadata": {},
   "outputs": [
    {
     "data": {
      "text/plain": [
       "([0, 1, 2, 3, 4], [2, 3, 4], [0, 2, 4, 6, 8])"
      ]
     },
     "execution_count": 45,
     "metadata": {},
     "output_type": "execute_result"
    }
   ],
   "source": [
    "list(range(5)), list(range(2, 5)), list(range(0, 10, 2))"
   ]
  },
  {
   "cell_type": "code",
   "execution_count": 46,
   "id": "ee2851e0",
   "metadata": {},
   "outputs": [
    {
     "data": {
      "text/plain": [
       "[-5, -4, -3, -2, -1, 0, 1, 2, 3, 4]"
      ]
     },
     "execution_count": 46,
     "metadata": {},
     "output_type": "execute_result"
    }
   ],
   "source": [
    "list(range(-5, 5))"
   ]
  },
  {
   "cell_type": "code",
   "execution_count": 49,
   "id": "36cc8943",
   "metadata": {},
   "outputs": [
    {
     "data": {
      "text/plain": [
       "[5, 4, 3, 2, 1, 0, -1, -2, -3, -4]"
      ]
     },
     "execution_count": 49,
     "metadata": {},
     "output_type": "execute_result"
    }
   ],
   "source": [
    "list(range(5, -5, -1))"
   ]
  },
  {
   "cell_type": "code",
   "execution_count": 51,
   "id": "0e763131",
   "metadata": {},
   "outputs": [
    {
     "name": "stdout",
     "output_type": "stream",
     "text": [
      "0 Pythons\n",
      "1 Pythons\n",
      "2 Pythons\n"
     ]
    }
   ],
   "source": [
    "for i in range(3):\n",
    "    print(i, 'Pythons')"
   ]
  },
  {
   "cell_type": "markdown",
   "id": "b88abb0c",
   "metadata": {},
   "source": [
    "Sequence Scans: While and range Versus for"
   ]
  },
  {
   "cell_type": "code",
   "execution_count": 52,
   "id": "9c0eb760",
   "metadata": {},
   "outputs": [
    {
     "name": "stdout",
     "output_type": "stream",
     "text": [
      "s p a m "
     ]
    }
   ],
   "source": [
    "X = 'spam'\n",
    "for item in X: print(item, end=' ')  # simple iteration"
   ]
  },
  {
   "cell_type": "code",
   "execution_count": 53,
   "id": "dd7fc037",
   "metadata": {},
   "outputs": [
    {
     "name": "stdout",
     "output_type": "stream",
     "text": [
      "s p a m "
     ]
    }
   ],
   "source": [
    "# manual while loop iteration\n",
    "X = 'spam'\n",
    "i = 0\n",
    "while i < len(X):\n",
    "    print(X[i], end=' ')\n",
    "    i += 1"
   ]
  },
  {
   "cell_type": "code",
   "execution_count": 56,
   "id": "a6702881",
   "metadata": {},
   "outputs": [
    {
     "name": "stdout",
     "output_type": "stream",
     "text": [
      "s p a m "
     ]
    }
   ],
   "source": [
    "# manual indexing with a for through range\n",
    "X = 'spam'\n",
    "for i in range(len(X)): print(X[i], end=' ')"
   ]
  },
  {
   "cell_type": "markdown",
   "id": "07267f95",
   "metadata": {},
   "source": [
    "Sequence Shufflers:range and len"
   ]
  },
  {
   "cell_type": "code",
   "execution_count": 4,
   "id": "47195834",
   "metadata": {},
   "outputs": [
    {
     "name": "stdout",
     "output_type": "stream",
     "text": [
      "pams amsp mspa spam "
     ]
    }
   ],
   "source": [
    "S = 'spam'\n",
    "for i in range(len(S)):\n",
    "    S = S[1:] + S[:1]\n",
    "    print(S, end=' ')"
   ]
  },
  {
   "cell_type": "code",
   "execution_count": 7,
   "id": "9cb7805d",
   "metadata": {},
   "outputs": [
    {
     "name": "stdout",
     "output_type": "stream",
     "text": [
      "spam pams mspa amsp "
     ]
    }
   ],
   "source": [
    "S = 'spam'\n",
    "for i in range(len(S)):\n",
    "    S = S[i:] + S[:i]\n",
    "    print(S, end= ' ')"
   ]
  },
  {
   "cell_type": "code",
   "execution_count": 9,
   "id": "2d0f516d",
   "metadata": {},
   "outputs": [
    {
     "name": "stdout",
     "output_type": "stream",
     "text": [
      "spam pams mspa amsp amsp amsp amsp amsp amsp amsp amsp "
     ]
    }
   ],
   "source": [
    "S = 'spam'\n",
    "for i in range(11):  # len of the word is crucual. Else, the sequence is just continous after one point.\n",
    "    S = S[i:] + S[:i]\n",
    "    print(S, end=' ')"
   ]
  },
  {
   "cell_type": "markdown",
   "id": "e34acef8",
   "metadata": {},
   "source": [
    "Nonexhaustive Traversals: range Versus Slices"
   ]
  },
  {
   "cell_type": "code",
   "execution_count": 10,
   "id": "e3ef981f",
   "metadata": {},
   "outputs": [
    {
     "data": {
      "text/plain": [
       "[0, 2, 4, 6, 8, 10]"
      ]
     },
     "execution_count": 10,
     "metadata": {},
     "output_type": "execute_result"
    }
   ],
   "source": [
    "S = 'abcdefghijk'\n",
    "list(range(0, len(S), 2))"
   ]
  },
  {
   "cell_type": "code",
   "execution_count": 11,
   "id": "dadf22dd",
   "metadata": {},
   "outputs": [
    {
     "name": "stdout",
     "output_type": "stream",
     "text": [
      "a c e g i k "
     ]
    }
   ],
   "source": [
    "for i in range(0, len(S), 2): print(S[i], end=' ')"
   ]
  },
  {
   "cell_type": "code",
   "execution_count": 13,
   "id": "c2f0c23d",
   "metadata": {},
   "outputs": [
    {
     "name": "stdout",
     "output_type": "stream",
     "text": [
      "a c e g i k "
     ]
    }
   ],
   "source": [
    "# Easier way to write this with slices\n",
    "S = 'abcdefghijk'\n",
    "for i in S[::2]: print(i, end=' ')"
   ]
  },
  {
   "cell_type": "markdown",
   "id": "2c004c71",
   "metadata": {},
   "source": [
    "Changing lists: Range versus comparision"
   ]
  },
  {
   "cell_type": "code",
   "execution_count": 14,
   "id": "e169e37a",
   "metadata": {},
   "outputs": [],
   "source": [
    "L = [1, 2, 3, 4, 5]\n",
    "for i in range(len(L)):\n",
    "    L[i] += 1"
   ]
  },
  {
   "cell_type": "code",
   "execution_count": 15,
   "id": "ada3efe7",
   "metadata": {},
   "outputs": [
    {
     "data": {
      "text/plain": [
       "[2, 3, 4, 5, 6]"
      ]
     },
     "execution_count": 15,
     "metadata": {},
     "output_type": "execute_result"
    }
   ],
   "source": [
    "L"
   ]
  },
  {
   "cell_type": "code",
   "execution_count": 16,
   "id": "648311ef",
   "metadata": {},
   "outputs": [],
   "source": [
    "# Using while loop for the above example\n",
    "L = [1, 2, 3, 4, 5]\n",
    "i = 0\n",
    "while i < len(L):\n",
    "    L[i] += 1\n",
    "    i += 1"
   ]
  },
  {
   "cell_type": "code",
   "execution_count": 17,
   "id": "d356d4ea",
   "metadata": {},
   "outputs": [
    {
     "data": {
      "text/plain": [
       "[2, 3, 4, 5, 6]"
      ]
     },
     "execution_count": 17,
     "metadata": {},
     "output_type": "execute_result"
    }
   ],
   "source": [
    "L"
   ]
  },
  {
   "cell_type": "code",
   "execution_count": 18,
   "id": "7ab2947d",
   "metadata": {},
   "outputs": [
    {
     "data": {
      "text/plain": [
       "[2, 3, 4, 5, 6]"
      ]
     },
     "execution_count": 18,
     "metadata": {},
     "output_type": "execute_result"
    }
   ],
   "source": [
    "# small list comprehension will do too\n",
    "L = [1, 2, 3, 4, 5]\n",
    "[i + 1 for i in L]"
   ]
  },
  {
   "cell_type": "markdown",
   "id": "43771b30",
   "metadata": {},
   "source": [
    "Parallel Traversals: zip and map"
   ]
  },
  {
   "cell_type": "code",
   "execution_count": 19,
   "id": "e0b4d7b5",
   "metadata": {},
   "outputs": [
    {
     "data": {
      "text/plain": [
       "[(1, 5), (2, 6), (3, 7), (4, 8)]"
      ]
     },
     "execution_count": 19,
     "metadata": {},
     "output_type": "execute_result"
    }
   ],
   "source": [
    "# using zip \n",
    "L1 = [1, 2, 3, 4]\n",
    "L2 = [5, 6, 7, 8]\n",
    "list(zip(L1, L2))"
   ]
  },
  {
   "cell_type": "code",
   "execution_count": 20,
   "id": "8eab4c29",
   "metadata": {},
   "outputs": [
    {
     "name": "stdout",
     "output_type": "stream",
     "text": [
      "1 6 -- 7\n",
      "2 7 -- 9\n",
      "3 8 -- 11\n",
      "4 9 -- 13\n",
      "5 10 -- 15\n"
     ]
    }
   ],
   "source": [
    "# adding for loop to zip which supports parallel iteration\n",
    "L1 = [1, 2, 3, 4, 5]\n",
    "L2 = [6, 7, 8, 9, 10]\n",
    "for (x, y) in zip(L1, L2):\n",
    "    print(x, y, '--', x + y)"
   ]
  },
  {
   "cell_type": "code",
   "execution_count": 21,
   "id": "db525d70",
   "metadata": {},
   "outputs": [],
   "source": [
    "# More with zip\n",
    "T1, T2, T3 = (1, 2, 3), (4, 5, 6), (7, 8, 9)\n",
    "\n"
   ]
  },
  {
   "cell_type": "code",
   "execution_count": 22,
   "id": "784308af",
   "metadata": {},
   "outputs": [
    {
     "data": {
      "text/plain": [
       "(1, 2, 3)"
      ]
     },
     "execution_count": 22,
     "metadata": {},
     "output_type": "execute_result"
    }
   ],
   "source": [
    "T1"
   ]
  },
  {
   "cell_type": "code",
   "execution_count": 23,
   "id": "1f0f096b",
   "metadata": {},
   "outputs": [
    {
     "data": {
      "text/plain": [
       "[(1, 4, 7), (2, 5, 8), (3, 6, 9)]"
      ]
     },
     "execution_count": 23,
     "metadata": {},
     "output_type": "execute_result"
    }
   ],
   "source": [
    "list(zip(T1, T2, T3))"
   ]
  },
  {
   "cell_type": "code",
   "execution_count": 24,
   "id": "e2158bba",
   "metadata": {},
   "outputs": [
    {
     "data": {
      "text/plain": [
       "[('a', 'x'), ('b', 'y'), ('c', 'z')]"
      ]
     },
     "execution_count": 24,
     "metadata": {},
     "output_type": "execute_result"
    }
   ],
   "source": [
    "# zip truncates at len(shortest)\n",
    "# However in python 2.x none will be placed.\n",
    "S1 = 'abc'\n",
    "S2 = 'xyz123'\n",
    "list(zip(S1, S2))"
   ]
  },
  {
   "cell_type": "code",
   "execution_count": 25,
   "id": "f25d5d81",
   "metadata": {},
   "outputs": [
    {
     "data": {
      "text/plain": [
       "[115, 112, 97, 109]"
      ]
     },
     "execution_count": 25,
     "metadata": {},
     "output_type": "execute_result"
    }
   ],
   "source": [
    "# sneakpeak of map\n",
    "list(map(ord, 'spam'))  # ord extracts the binary form of the input"
   ]
  },
  {
   "cell_type": "code",
   "execution_count": 26,
   "id": "46438722",
   "metadata": {},
   "outputs": [],
   "source": [
    "# same form as above\n",
    "res = []\n",
    "for c in 'spam': res.append(ord(c))"
   ]
  },
  {
   "cell_type": "code",
   "execution_count": 27,
   "id": "09d7421e",
   "metadata": {},
   "outputs": [
    {
     "data": {
      "text/plain": [
       "[115, 112, 97, 109]"
      ]
     },
     "execution_count": 27,
     "metadata": {},
     "output_type": "execute_result"
    }
   ],
   "source": [
    "res"
   ]
  },
  {
   "cell_type": "markdown",
   "id": "92fd069f",
   "metadata": {},
   "source": [
    "Dictionary construction with zip"
   ]
  },
  {
   "cell_type": "code",
   "execution_count": 28,
   "id": "8225c559",
   "metadata": {},
   "outputs": [
    {
     "data": {
      "text/plain": [
       "[('spam', 1), ('eggs', 2), ('toast', 3)]"
      ]
     },
     "execution_count": 28,
     "metadata": {},
     "output_type": "execute_result"
    }
   ],
   "source": [
    "keys = ['spam', 'eggs', 'toast']\n",
    "values = [1, 2, 3]\n",
    "list(zip(keys, values))  # return a tuple of lists"
   ]
  },
  {
   "cell_type": "code",
   "execution_count": 29,
   "id": "8360fe5b",
   "metadata": {},
   "outputs": [],
   "source": [
    "# One way to do it.\n",
    "D2 = {}\n",
    "for (k, v) in zip(keys, values): D2[k] = v"
   ]
  },
  {
   "cell_type": "code",
   "execution_count": 30,
   "id": "2c1dd85d",
   "metadata": {},
   "outputs": [
    {
     "data": {
      "text/plain": [
       "{'spam': 1, 'eggs': 2, 'toast': 3}"
      ]
     },
     "execution_count": 30,
     "metadata": {},
     "output_type": "execute_result"
    }
   ],
   "source": [
    "D2"
   ]
  },
  {
   "cell_type": "code",
   "execution_count": 31,
   "id": "9f522d37",
   "metadata": {},
   "outputs": [
    {
     "data": {
      "text/plain": [
       "{'spam': 1, 'eggs': 2, 'toast': 3}"
      ]
     },
     "execution_count": 31,
     "metadata": {},
     "output_type": "execute_result"
    }
   ],
   "source": [
    "# skipping the loop to create dict\n",
    "keys = ['spam', 'eggs', 'toast']\n",
    "vals = [1, 2, 3]\n",
    "D3 = dict(zip(keys, vals))\n",
    "D3"
   ]
  },
  {
   "cell_type": "code",
   "execution_count": 33,
   "id": "19d328c4",
   "metadata": {},
   "outputs": [
    {
     "data": {
      "text/plain": [
       "{'spam': 1, 'eggs': 2, 'toast': 3}"
      ]
     },
     "execution_count": 33,
     "metadata": {},
     "output_type": "execute_result"
    }
   ],
   "source": [
    "# list comprehension way\n",
    "keys = ['spam', 'eggs', 'toast']\n",
    "vals = [1, 2, 3]\n",
    "{k: v for k, v in zip(keys, vals)}"
   ]
  },
  {
   "cell_type": "markdown",
   "id": "260666e0",
   "metadata": {},
   "source": [
    "Generating Both Offsets and Items: enumerate"
   ]
  },
  {
   "cell_type": "code",
   "execution_count": 34,
   "id": "bf09027d",
   "metadata": {},
   "outputs": [
    {
     "name": "stdout",
     "output_type": "stream",
     "text": [
      "s appears at offset 0\n",
      "p appears at offset 1\n",
      "a appears at offset 2\n",
      "m appears at offset 3\n"
     ]
    }
   ],
   "source": [
    "# Traditional way\n",
    "S = 'spam'\n",
    "offset = 0\n",
    "for i in S:\n",
    "    print(i, 'appears at offset', offset)\n",
    "    offset += 1"
   ]
  },
  {
   "cell_type": "code",
   "execution_count": 35,
   "id": "508d3294",
   "metadata": {},
   "outputs": [
    {
     "name": "stdout",
     "output_type": "stream",
     "text": [
      "s appears at offset 0\n",
      "p appears at offset 1\n",
      "a appears at offset 2\n",
      "m appears at offset 3\n"
     ]
    }
   ],
   "source": [
    "# Using enumerate\n",
    "S = 'spam'\n",
    "for (offset, item) in enumerate(S):\n",
    "    print(item, 'appears at offset', offset)"
   ]
  },
  {
   "cell_type": "code",
   "execution_count": 36,
   "id": "5a755a21",
   "metadata": {},
   "outputs": [],
   "source": [
    "# enumerate is a generator function\n",
    "S = 'spam'\n",
    "E = enumerate(S)\n"
   ]
  },
  {
   "cell_type": "code",
   "execution_count": 37,
   "id": "21d4e138",
   "metadata": {},
   "outputs": [
    {
     "data": {
      "text/plain": [
       "<enumerate at 0x7f8a485d0100>"
      ]
     },
     "execution_count": 37,
     "metadata": {},
     "output_type": "execute_result"
    }
   ],
   "source": [
    "E"
   ]
  },
  {
   "cell_type": "code",
   "execution_count": 38,
   "id": "4014677e",
   "metadata": {},
   "outputs": [
    {
     "data": {
      "text/plain": [
       "(0, 's')"
      ]
     },
     "execution_count": 38,
     "metadata": {},
     "output_type": "execute_result"
    }
   ],
   "source": [
    "next(E)"
   ]
  },
  {
   "cell_type": "code",
   "execution_count": 39,
   "id": "92854110",
   "metadata": {},
   "outputs": [
    {
     "data": {
      "text/plain": [
       "(1, 'p')"
      ]
     },
     "execution_count": 39,
     "metadata": {},
     "output_type": "execute_result"
    }
   ],
   "source": [
    "next(E)"
   ]
  },
  {
   "cell_type": "code",
   "execution_count": 40,
   "id": "e4ba64d8",
   "metadata": {},
   "outputs": [
    {
     "data": {
      "text/plain": [
       "(2, 'a')"
      ]
     },
     "execution_count": 40,
     "metadata": {},
     "output_type": "execute_result"
    }
   ],
   "source": [
    "next(E)"
   ]
  },
  {
   "cell_type": "code",
   "execution_count": 41,
   "id": "a0d2a4b6",
   "metadata": {},
   "outputs": [
    {
     "data": {
      "text/plain": [
       "(3, 'm')"
      ]
     },
     "execution_count": 41,
     "metadata": {},
     "output_type": "execute_result"
    }
   ],
   "source": [
    "next(E)"
   ]
  },
  {
   "cell_type": "code",
   "execution_count": 42,
   "id": "5fdf6d21",
   "metadata": {},
   "outputs": [
    {
     "ename": "StopIteration",
     "evalue": "",
     "output_type": "error",
     "traceback": [
      "\u001b[0;31m---------------------------------------------------------------------------\u001b[0m",
      "\u001b[0;31mStopIteration\u001b[0m                             Traceback (most recent call last)",
      "\u001b[0;32m<ipython-input-42-8379ec971d5c>\u001b[0m in \u001b[0;36m<module>\u001b[0;34m\u001b[0m\n\u001b[0;32m----> 1\u001b[0;31m \u001b[0mnext\u001b[0m\u001b[0;34m(\u001b[0m\u001b[0mE\u001b[0m\u001b[0;34m)\u001b[0m\u001b[0;34m\u001b[0m\u001b[0;34m\u001b[0m\u001b[0m\n\u001b[0m",
      "\u001b[0;31mStopIteration\u001b[0m: "
     ]
    }
   ],
   "source": [
    "next(E)  # expected."
   ]
  },
  {
   "cell_type": "code",
   "execution_count": null,
   "id": "99a1c23a",
   "metadata": {},
   "outputs": [],
   "source": []
  }
 ],
 "metadata": {
  "kernelspec": {
   "display_name": "Python 3",
   "language": "python",
   "name": "python3"
  },
  "language_info": {
   "codemirror_mode": {
    "name": "ipython",
    "version": 3
   },
   "file_extension": ".py",
   "mimetype": "text/x-python",
   "name": "python",
   "nbconvert_exporter": "python",
   "pygments_lexer": "ipython3",
   "version": "3.8.8"
  }
 },
 "nbformat": 4,
 "nbformat_minor": 5
}
