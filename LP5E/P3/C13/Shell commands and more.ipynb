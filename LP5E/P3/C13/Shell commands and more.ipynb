{
 "cells": [
  {
   "cell_type": "code",
   "execution_count": 1,
   "id": "beb22286",
   "metadata": {},
   "outputs": [],
   "source": [
    "import os"
   ]
  },
  {
   "cell_type": "code",
   "execution_count": 12,
   "id": "adbc54c7",
   "metadata": {},
   "outputs": [],
   "source": [
    "F = os.popen('ls')"
   ]
  },
  {
   "cell_type": "code",
   "execution_count": 9,
   "id": "2b73d843",
   "metadata": {},
   "outputs": [
    {
     "data": {
      "text/plain": [
       "['Shell commands and more.ipynb\\n', 'While_and_for_loops.ipynb\\n']"
      ]
     },
     "execution_count": 9,
     "metadata": {},
     "output_type": "execute_result"
    }
   ],
   "source": [
    "F.readlines()  # Read lines"
   ]
  },
  {
   "cell_type": "code",
   "execution_count": 11,
   "id": "8b56172a",
   "metadata": {},
   "outputs": [
    {
     "data": {
      "text/plain": [
       "'Shell commands and more.ipynb\\n'"
      ]
     },
     "execution_count": 11,
     "metadata": {},
     "output_type": "execute_result"
    }
   ],
   "source": [
    "F.readline()  # Read per file"
   ]
  },
  {
   "cell_type": "code",
   "execution_count": 13,
   "id": "82fa126d",
   "metadata": {},
   "outputs": [
    {
     "data": {
      "text/plain": [
       "'Shell commands and m'"
      ]
     },
     "execution_count": 13,
     "metadata": {},
     "output_type": "execute_result"
    }
   ],
   "source": [
    "F.read(20)  # Read by sized blocks"
   ]
  },
  {
   "cell_type": "code",
   "execution_count": 14,
   "id": "3ad25ecd",
   "metadata": {},
   "outputs": [
    {
     "data": {
      "text/plain": [
       "'Shell commands and more.ipynb\\n'"
      ]
     },
     "execution_count": 14,
     "metadata": {},
     "output_type": "execute_result"
    }
   ],
   "source": [
    "os.popen('ls').readlines()[0]  # read all lines by index"
   ]
  },
  {
   "cell_type": "code",
   "execution_count": 15,
   "id": "02cb8889",
   "metadata": {},
   "outputs": [
    {
     "data": {
      "text/plain": [
       "'Shell commands and m'"
      ]
     },
     "execution_count": 15,
     "metadata": {},
     "output_type": "execute_result"
    }
   ],
   "source": [
    "os.popen('ls').read()[:20]  # reall all at once: slice"
   ]
  },
  {
   "cell_type": "code",
   "execution_count": 19,
   "id": "61d44ee3",
   "metadata": {},
   "outputs": [
    {
     "name": "stdout",
     "output_type": "stream",
     "text": [
      "Shell commands and more.ipynb\n",
      "While_and_for_loops.ipynb\n"
     ]
    }
   ],
   "source": [
    "for line in os.popen('ls'):  # File line iterator loop\n",
    "    print(line.rstrip())"
   ]
  },
  {
   "cell_type": "code",
   "execution_count": 22,
   "id": "9ec5f75a",
   "metadata": {},
   "outputs": [
    {
     "data": {
      "text/plain": [
       "0"
      ]
     },
     "execution_count": 22,
     "metadata": {},
     "output_type": "execute_result"
    }
   ],
   "source": [
    "os.system('lsblk')  # output in console, popup in IDLE..."
   ]
  },
  {
   "cell_type": "code",
   "execution_count": 30,
   "id": "92f4ebbd",
   "metadata": {},
   "outputs": [
    {
     "name": "stdout",
     "output_type": "stream",
     "text": [
      "total 36K\n",
      "-rw-rw-r-- 1 ravik ravik 3.6K Oct 21 09:56 Shell commands and more.ipynb\n",
      "-rw-rw-r-- 1 ravik ravik  32K Oct 21 09:26 While_and_for_loops.ipynb\n"
     ]
    }
   ],
   "source": [
    "for line in os.popen('ls -lh'): print(line.rstrip())"
   ]
  },
  {
   "cell_type": "code",
   "execution_count": 52,
   "id": "3c9a37ae",
   "metadata": {},
   "outputs": [
    {
     "name": "stdout",
     "output_type": "stream",
     "text": [
      "Shell commands and more.ipynb 0\n",
      "While_and_for_loops.ipynb 1\n"
     ]
    }
   ],
   "source": [
    "for (i, line) in enumerate(os.popen('ls')):\n",
    "    print(line.rstrip(), i)"
   ]
  },
  {
   "cell_type": "code",
   "execution_count": 53,
   "id": "6ac3b99a",
   "metadata": {},
   "outputs": [],
   "source": [
    "from urllib.request import urlopen"
   ]
  },
  {
   "cell_type": "code",
   "execution_count": 59,
   "id": "44c7db98",
   "metadata": {},
   "outputs": [
    {
     "name": "stdout",
     "output_type": "stream",
     "text": [
      "b'<!doctype html>\\n'\n",
      "b'<html>\\n'\n",
      "b'<head>\\n'\n",
      "b'    <title>Example Domain</title>\\n'\n",
      "b'\\n'\n",
      "b'    <meta charset=\"utf-8\" />\\n'\n",
      "b'    <meta http-equiv=\"Content-type\" content=\"text/html; charset=utf-8\" />\\n'\n",
      "b'    <meta name=\"viewport\" content=\"width=device-width, initial-scale=1\" />\\n'\n",
      "b'    <style type=\"text/css\">\\n'\n",
      "b'    body {\\n'\n",
      "b'        background-color: #f0f0f2;\\n'\n",
      "b'        margin: 0;\\n'\n",
      "b'        padding: 0;\\n'\n",
      "b'        font-family: -apple-system, system-ui, BlinkMacSystemFont, \"Segoe UI\", \"Open Sans\", \"Helvetica Neue\", Helvetica, Arial, sans-serif;\\n'\n",
      "b'        \\n'\n",
      "b'    }\\n'\n",
      "b'    div {\\n'\n",
      "b'        width: 600px;\\n'\n",
      "b'        margin: 5em auto;\\n'\n",
      "b'        padding: 2em;\\n'\n",
      "b'        background-color: #fdfdff;\\n'\n",
      "b'        border-radius: 0.5em;\\n'\n",
      "b'        box-shadow: 2px 3px 7px 2px rgba(0,0,0,0.02);\\n'\n",
      "b'    }\\n'\n",
      "b'    a:link, a:visited {\\n'\n",
      "b'        color: #38488f;\\n'\n",
      "b'        text-decoration: none;\\n'\n",
      "b'    }\\n'\n",
      "b'    @media (max-width: 700px) {\\n'\n",
      "b'        div {\\n'\n",
      "b'            margin: 0 auto;\\n'\n",
      "b'            width: auto;\\n'\n",
      "b'        }\\n'\n",
      "b'    }\\n'\n",
      "b'    </style>    \\n'\n",
      "b'</head>\\n'\n",
      "b'\\n'\n",
      "b'<body>\\n'\n",
      "b'<div>\\n'\n",
      "b'    <h1>Example Domain</h1>\\n'\n",
      "b'    <p>This domain is for use in illustrative examples in documents. You may use this\\n'\n",
      "b'    domain in literature without prior coordination or asking for permission.</p>\\n'\n",
      "b'    <p><a href=\"https://www.iana.org/domains/example\">More information...</a></p>\\n'\n",
      "b'</div>\\n'\n",
      "b'</body>\\n'\n",
      "b'</html>\\n'\n"
     ]
    }
   ],
   "source": [
    "for line in urlopen('https://www.example.com'):\n",
    "    print(line)"
   ]
  },
  {
   "cell_type": "code",
   "execution_count": 2,
   "id": "6866a3f4",
   "metadata": {},
   "outputs": [
    {
     "name": "stdout",
     "output_type": "stream",
     "text": [
      "0 total 40\n",
      "1 -rw-rw-r-- 1 ravik ravik  6989 Oct 21 10:12 Shell commands and more.ipynb\n",
      "2 -rw-rw-r-- 1 ravik ravik 32397 Oct 21 09:26 While_and_for_loops.ipynb\n"
     ]
    }
   ],
   "source": [
    "import os\n",
    "for i, j in enumerate(os.popen('ls -l')): print(i, j.rstrip())"
   ]
  },
  {
   "cell_type": "code",
   "execution_count": null,
   "id": "da99a4ac",
   "metadata": {},
   "outputs": [],
   "source": []
  }
 ],
 "metadata": {
  "kernelspec": {
   "display_name": "Python 3",
   "language": "python",
   "name": "python3"
  },
  "language_info": {
   "codemirror_mode": {
    "name": "ipython",
    "version": 3
   },
   "file_extension": ".py",
   "mimetype": "text/x-python",
   "name": "python",
   "nbconvert_exporter": "python",
   "pygments_lexer": "ipython3",
   "version": "3.8.8"
  }
 },
 "nbformat": 4,
 "nbformat_minor": 5
}
