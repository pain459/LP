{
 "cells": [
  {
   "cell_type": "markdown",
   "id": "b60e24f4",
   "metadata": {},
   "source": [
    "Examples"
   ]
  },
  {
   "cell_type": "code",
   "execution_count": 2,
   "id": "1d2a3698",
   "metadata": {},
   "outputs": [
    {
     "name": "stdout",
     "output_type": "stream",
     "text": [
      "spam pam am m "
     ]
    }
   ],
   "source": [
    "x = 'spam'\n",
    "while x:\n",
    "    print(x, end=' ')\n",
    "    x = x[1:]"
   ]
  },
  {
   "cell_type": "code",
   "execution_count": 5,
   "id": "34b11915",
   "metadata": {},
   "outputs": [
    {
     "name": "stdout",
     "output_type": "stream",
     "text": [
      "0 1 2 3 4 5 6 7 8 9 "
     ]
    }
   ],
   "source": [
    "a = 0; b = 10\n",
    "while a < b:\n",
    "    print(a, end=' ')\n",
    "    a += 1"
   ]
  },
  {
   "cell_type": "markdown",
   "id": "15cacce5",
   "metadata": {},
   "source": [
    "# break, continue, pass, and the Loop else"
   ]
  },
  {
   "cell_type": "markdown",
   "id": "20b67438",
   "metadata": {},
   "source": [
    "break - \n",
    "Jumps out of the closest enclosing loop (past the entire loop statement)\n",
    "\n",
    "continue - \n",
    "Jumps to the top of the closest enclosing loop (to the loop’s header line)\n",
    "\n",
    "pass - \n",
    "Does nothing at all: it’s an empty statement placeholder\n",
    "\n",
    "Loop else block - \n",
    "Runs if and only if the loop is exited normally (i.e., without hitting a break )"
   ]
  },
  {
   "cell_type": "markdown",
   "id": "8cb17d80",
   "metadata": {},
   "source": [
    "General format\n",
    "\n",
    "while test:\n",
    "    statements\n",
    "    if test: break  # Exit loop now, skip tp else if present\n",
    "    if test: continue  # Go to top of loop now, to test1\n",
    "else:\n",
    "    statements"
   ]
  },
  {
   "cell_type": "markdown",
   "id": "34ff44eb",
   "metadata": {},
   "source": [
    "Continue"
   ]
  },
  {
   "cell_type": "code",
   "execution_count": 11,
   "id": "3265ba06",
   "metadata": {},
   "outputs": [
    {
     "name": "stdout",
     "output_type": "stream",
     "text": [
      "8 6 4 2 0 "
     ]
    }
   ],
   "source": [
    "x = 10\n",
    "while x:\n",
    "    x -= 1  # decrement counter\n",
    "    if x % 2 != 0: continue  # continue if odd. print next if even.\n",
    "    print(x, end=' ')"
   ]
  },
  {
   "cell_type": "code",
   "execution_count": 12,
   "id": "9db12998",
   "metadata": {},
   "outputs": [
    {
     "name": "stdout",
     "output_type": "stream",
     "text": [
      "9 7 5 3 1 "
     ]
    }
   ],
   "source": [
    "x = 10\n",
    "while x:\n",
    "    x -= 1\n",
    "    if x % 2 == 0: continue  # prints only odd numbers\n",
    "    print(x, end = ' ')"
   ]
  },
  {
   "cell_type": "markdown",
   "id": "3b1c0f84",
   "metadata": {},
   "source": [
    "break"
   ]
  },
  {
   "cell_type": "code",
   "execution_count": 20,
   "id": "ab62b497",
   "metadata": {},
   "outputs": [
    {
     "name": "stdout",
     "output_type": "stream",
     "text": [
      "Enter name: RRR\n",
      "Enter age: 34\n",
      "Hello  RRR => 1156\n",
      "Enter name: stop\n"
     ]
    }
   ],
   "source": [
    "while True:\n",
    "    name = input('Enter name: ')\n",
    "    if name == 'stop': break\n",
    "    age = input('Enter age: ')\n",
    "    print('Hello ', name, '=>', int(age) ** 2)"
   ]
  },
  {
   "cell_type": "code",
   "execution_count": null,
   "id": "384b81b1",
   "metadata": {},
   "outputs": [],
   "source": []
  }
 ],
 "metadata": {
  "kernelspec": {
   "display_name": "Python 3",
   "language": "python",
   "name": "python3"
  },
  "language_info": {
   "codemirror_mode": {
    "name": "ipython",
    "version": 3
   },
   "file_extension": ".py",
   "mimetype": "text/x-python",
   "name": "python",
   "nbconvert_exporter": "python",
   "pygments_lexer": "ipython3",
   "version": "3.8.8"
  }
 },
 "nbformat": 4,
 "nbformat_minor": 5
}
