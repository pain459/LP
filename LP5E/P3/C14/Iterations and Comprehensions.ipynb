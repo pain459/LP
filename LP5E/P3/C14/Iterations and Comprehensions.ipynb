{
 "cells": [
  {
   "cell_type": "markdown",
   "id": "2ce6bc31",
   "metadata": {},
   "source": [
    "# Irerations: A first look"
   ]
  },
  {
   "cell_type": "code",
   "execution_count": 3,
   "id": "2e53e3a0",
   "metadata": {},
   "outputs": [
    {
     "name": "stdout",
     "output_type": "stream",
     "text": [
      "1 4 9 16 "
     ]
    }
   ],
   "source": [
    "for x in [1, 2, 3, 4]: print(x ** 2, end=' ')"
   ]
  },
  {
   "cell_type": "code",
   "execution_count": 4,
   "id": "de88424e",
   "metadata": {},
   "outputs": [
    {
     "name": "stdout",
     "output_type": "stream",
     "text": [
      "1 8 27 64 "
     ]
    }
   ],
   "source": [
    "for x in [1, 2, 3, 4]: print(x ** 3, end= ' ')"
   ]
  },
  {
   "cell_type": "code",
   "execution_count": 5,
   "id": "c40790b6",
   "metadata": {},
   "outputs": [
    {
     "name": "stdout",
     "output_type": "stream",
     "text": [
      "ss pp aa mm "
     ]
    }
   ],
   "source": [
    "for i in 'spam': print(i * 2, end=' ')"
   ]
  },
  {
   "cell_type": "code",
   "execution_count": 6,
   "id": "21a141e7",
   "metadata": {},
   "outputs": [
    {
     "name": "stdout",
     "output_type": "stream",
     "text": [
      "ssppaamm"
     ]
    }
   ],
   "source": [
    "for i in 'spam': print(i * 2, end='')"
   ]
  },
  {
   "cell_type": "markdown",
   "id": "51742b11",
   "metadata": {},
   "source": [
    "The Iteration Protocol: File Iterators"
   ]
  },
  {
   "cell_type": "code",
   "execution_count": 7,
   "id": "e75817aa",
   "metadata": {},
   "outputs": [
    {
     "name": "stdout",
     "output_type": "stream",
     "text": [
      "import sys\n",
      "print(sys.path)\n",
      "x = 2\n",
      "print(x ** 32)\n",
      "\n"
     ]
    }
   ],
   "source": [
    "print(open('script2.py').read())"
   ]
  },
  {
   "cell_type": "code",
   "execution_count": 8,
   "id": "fbb4a542",
   "metadata": {},
   "outputs": [
    {
     "data": {
      "text/plain": [
       "'import sys\\nprint(sys.path)\\nx = 2\\nprint(x ** 32)\\n'"
      ]
     },
     "execution_count": 8,
     "metadata": {},
     "output_type": "execute_result"
    }
   ],
   "source": [
    "open('script2.py').read()"
   ]
  },
  {
   "cell_type": "code",
   "execution_count": 9,
   "id": "88fb9af1",
   "metadata": {},
   "outputs": [],
   "source": [
    "f = open('script2.py')  # read a 4 line script fine in this directory"
   ]
  },
  {
   "cell_type": "code",
   "execution_count": 10,
   "id": "576096e8",
   "metadata": {},
   "outputs": [
    {
     "data": {
      "text/plain": [
       "'import sys\\n'"
      ]
     },
     "execution_count": 10,
     "metadata": {},
     "output_type": "execute_result"
    }
   ],
   "source": [
    "f.readline()  # readline loads one line on each call"
   ]
  },
  {
   "cell_type": "code",
   "execution_count": 11,
   "id": "6b050376",
   "metadata": {},
   "outputs": [
    {
     "data": {
      "text/plain": [
       "'print(sys.path)\\n'"
      ]
     },
     "execution_count": 11,
     "metadata": {},
     "output_type": "execute_result"
    }
   ],
   "source": [
    "f.readline()"
   ]
  },
  {
   "cell_type": "code",
   "execution_count": 12,
   "id": "a80f36cc",
   "metadata": {},
   "outputs": [
    {
     "data": {
      "text/plain": [
       "'x = 2\\n'"
      ]
     },
     "execution_count": 12,
     "metadata": {},
     "output_type": "execute_result"
    }
   ],
   "source": [
    "f.readline()"
   ]
  },
  {
   "cell_type": "code",
   "execution_count": 13,
   "id": "fd605adc",
   "metadata": {},
   "outputs": [
    {
     "data": {
      "text/plain": [
       "'print(x ** 32)\\n'"
      ]
     },
     "execution_count": 13,
     "metadata": {},
     "output_type": "execute_result"
    }
   ],
   "source": [
    "f.readline()  # last line can have \\n or not"
   ]
  },
  {
   "cell_type": "code",
   "execution_count": 14,
   "id": "42c94459",
   "metadata": {},
   "outputs": [
    {
     "data": {
      "text/plain": [
       "''"
      ]
     },
     "execution_count": 14,
     "metadata": {},
     "output_type": "execute_result"
    }
   ],
   "source": [
    "f.readline()  # empty string at the end of the line"
   ]
  },
  {
   "cell_type": "code",
   "execution_count": 15,
   "id": "bbe094c2",
   "metadata": {},
   "outputs": [],
   "source": [
    "# using __next__ instead of readline method\n",
    "f = open('script2.py')"
   ]
  },
  {
   "cell_type": "code",
   "execution_count": 16,
   "id": "6aa48fc8",
   "metadata": {},
   "outputs": [
    {
     "data": {
      "text/plain": [
       "'import sys\\n'"
      ]
     },
     "execution_count": 16,
     "metadata": {},
     "output_type": "execute_result"
    }
   ],
   "source": [
    "f.__next__()"
   ]
  },
  {
   "cell_type": "code",
   "execution_count": 17,
   "id": "1a14ff87",
   "metadata": {},
   "outputs": [
    {
     "data": {
      "text/plain": [
       "'print(sys.path)\\n'"
      ]
     },
     "execution_count": 17,
     "metadata": {},
     "output_type": "execute_result"
    }
   ],
   "source": [
    "f.__next__()"
   ]
  },
  {
   "cell_type": "code",
   "execution_count": 18,
   "id": "0538bcee",
   "metadata": {},
   "outputs": [
    {
     "data": {
      "text/plain": [
       "'x = 2\\n'"
      ]
     },
     "execution_count": 18,
     "metadata": {},
     "output_type": "execute_result"
    }
   ],
   "source": [
    "f.__next__()"
   ]
  },
  {
   "cell_type": "code",
   "execution_count": 19,
   "id": "b33df57d",
   "metadata": {},
   "outputs": [
    {
     "data": {
      "text/plain": [
       "'print(x ** 32)\\n'"
      ]
     },
     "execution_count": 19,
     "metadata": {},
     "output_type": "execute_result"
    }
   ],
   "source": [
    "f.__next__()"
   ]
  },
  {
   "cell_type": "code",
   "execution_count": 20,
   "id": "d732fb6d",
   "metadata": {},
   "outputs": [
    {
     "ename": "StopIteration",
     "evalue": "",
     "output_type": "error",
     "traceback": [
      "\u001b[0;31m---------------------------------------------------------------------------\u001b[0m",
      "\u001b[0;31mStopIteration\u001b[0m                             Traceback (most recent call last)",
      "\u001b[0;32m<ipython-input-20-dcf180275632>\u001b[0m in \u001b[0;36m<module>\u001b[0;34m\u001b[0m\n\u001b[0;32m----> 1\u001b[0;31m \u001b[0mf\u001b[0m\u001b[0;34m.\u001b[0m\u001b[0m__next__\u001b[0m\u001b[0;34m(\u001b[0m\u001b[0;34m)\u001b[0m\u001b[0;34m\u001b[0m\u001b[0;34m\u001b[0m\u001b[0m\n\u001b[0m",
      "\u001b[0;31mStopIteration\u001b[0m: "
     ]
    }
   ],
   "source": [
    "f.__next__()  # __next__ raises stopiteration exception at eof instead\\\n",
    "# of returning an empty string.\n",
    "# This is iteration protocol."
   ]
  },
  {
   "cell_type": "code",
   "execution_count": 22,
   "id": "28c79cc1",
   "metadata": {},
   "outputs": [
    {
     "name": "stdout",
     "output_type": "stream",
     "text": [
      "IMPORT SYS\n",
      "PRINT(SYS.PATH)\n",
      "X = 2\n",
      "PRINT(X ** 32)\n"
     ]
    }
   ],
   "source": [
    "# using file iterators to read by lines\n",
    "for line in open('script2.py'):\n",
    "    print(line.upper(), end='')  # calls __next__, catches StopIteration"
   ]
  },
  {
   "cell_type": "code",
   "execution_count": 23,
   "id": "b6afda38",
   "metadata": {},
   "outputs": [
    {
     "name": "stdout",
     "output_type": "stream",
     "text": [
      "IMPORT SYS\n",
      "PRINT(SYS.PATH)\n",
      "X = 2\n",
      "PRINT(X ** 32)\n"
     ]
    }
   ],
   "source": [
    "# loading the entire file into memory and then read the same\n",
    "# not best practice and inefficient memory management technique\n",
    "for line in open('script2.py').readlines():\n",
    "    print(line.upper(), end='')"
   ]
  },
  {
   "cell_type": "code",
   "execution_count": 25,
   "id": "aab6c34a",
   "metadata": {},
   "outputs": [
    {
     "name": "stdout",
     "output_type": "stream",
     "text": [
      "IMPORT SYS\n",
      "PRINT(SYS.PATH)\n",
      "X = 2\n",
      "PRINT(X ** 32)\n"
     ]
    }
   ],
   "source": [
    "# Reading with the while loop\n",
    "# Relatively slow as we are trading off C speed for Pythn bytecode PVM\n",
    "# in a while loop version of this code.\n",
    "f = open('script2.py')\n",
    "while True:\n",
    "    line = f.readline()\n",
    "    if not line: break\n",
    "    print(line.upper(), end='')"
   ]
  },
  {
   "cell_type": "markdown",
   "id": "f18b7225",
   "metadata": {},
   "source": [
    "Manual Iteration: iter and next"
   ]
  },
  {
   "cell_type": "code",
   "execution_count": 26,
   "id": "4e8a2ea9",
   "metadata": {},
   "outputs": [],
   "source": [
    "# calling iteration method directly\n",
    "f = open('script2.py')"
   ]
  },
  {
   "cell_type": "code",
   "execution_count": 27,
   "id": "0b1a6831",
   "metadata": {},
   "outputs": [
    {
     "data": {
      "text/plain": [
       "'import sys\\n'"
      ]
     },
     "execution_count": 27,
     "metadata": {},
     "output_type": "execute_result"
    }
   ],
   "source": [
    "f.__next__()"
   ]
  },
  {
   "cell_type": "code",
   "execution_count": 28,
   "id": "0a62d06f",
   "metadata": {},
   "outputs": [],
   "source": [
    "# The next(f) built-in calls f.__next__()\n",
    "f = open('script2.py')"
   ]
  },
  {
   "cell_type": "code",
   "execution_count": 29,
   "id": "19b724f2",
   "metadata": {},
   "outputs": [
    {
     "data": {
      "text/plain": [
       "'import sys\\n'"
      ]
     },
     "execution_count": 29,
     "metadata": {},
     "output_type": "execute_result"
    }
   ],
   "source": [
    "next(f)"
   ]
  },
  {
   "cell_type": "code",
   "execution_count": 1,
   "id": "09100055",
   "metadata": {},
   "outputs": [],
   "source": [
    "# how for loops process built-in sequence types, such as lists\n",
    "L = [1, 2, 3]\n"
   ]
  },
  {
   "cell_type": "code",
   "execution_count": 2,
   "id": "177254da",
   "metadata": {},
   "outputs": [],
   "source": [
    "I = iter(L)"
   ]
  },
  {
   "cell_type": "code",
   "execution_count": 3,
   "id": "7d27e716",
   "metadata": {},
   "outputs": [
    {
     "data": {
      "text/plain": [
       "1"
      ]
     },
     "execution_count": 3,
     "metadata": {},
     "output_type": "execute_result"
    }
   ],
   "source": [
    "I.__next__()"
   ]
  },
  {
   "cell_type": "code",
   "execution_count": 4,
   "id": "4f07947b",
   "metadata": {},
   "outputs": [
    {
     "data": {
      "text/plain": [
       "2"
      ]
     },
     "execution_count": 4,
     "metadata": {},
     "output_type": "execute_result"
    }
   ],
   "source": [
    "I.__next__()"
   ]
  },
  {
   "cell_type": "code",
   "execution_count": 5,
   "id": "493c51c8",
   "metadata": {},
   "outputs": [
    {
     "data": {
      "text/plain": [
       "3"
      ]
     },
     "execution_count": 5,
     "metadata": {},
     "output_type": "execute_result"
    }
   ],
   "source": [
    "I.__next__()"
   ]
  },
  {
   "cell_type": "code",
   "execution_count": 6,
   "id": "0c857908",
   "metadata": {},
   "outputs": [
    {
     "ename": "StopIteration",
     "evalue": "",
     "output_type": "error",
     "traceback": [
      "\u001b[0;31m---------------------------------------------------------------------------\u001b[0m",
      "\u001b[0;31mStopIteration\u001b[0m                             Traceback (most recent call last)",
      "\u001b[0;32m<ipython-input-6-a7fa90893753>\u001b[0m in \u001b[0;36m<module>\u001b[0;34m\u001b[0m\n\u001b[0;32m----> 1\u001b[0;31m \u001b[0mI\u001b[0m\u001b[0;34m.\u001b[0m\u001b[0m__next__\u001b[0m\u001b[0;34m(\u001b[0m\u001b[0;34m)\u001b[0m\u001b[0;34m\u001b[0m\u001b[0;34m\u001b[0m\u001b[0m\n\u001b[0m",
      "\u001b[0;31mStopIteration\u001b[0m: "
     ]
    }
   ],
   "source": [
    "I.__next__()"
   ]
  },
  {
   "cell_type": "code",
   "execution_count": 7,
   "id": "111a0170",
   "metadata": {},
   "outputs": [],
   "source": [
    "# how files are handled..\n",
    "f = open('script2.py')"
   ]
  },
  {
   "cell_type": "code",
   "execution_count": 8,
   "id": "4e869cec",
   "metadata": {},
   "outputs": [
    {
     "data": {
      "text/plain": [
       "True"
      ]
     },
     "execution_count": 8,
     "metadata": {},
     "output_type": "execute_result"
    }
   ],
   "source": [
    "iter(f) is f"
   ]
  },
  {
   "cell_type": "code",
   "execution_count": 9,
   "id": "1f10d69d",
   "metadata": {},
   "outputs": [
    {
     "data": {
      "text/plain": [
       "True"
      ]
     },
     "execution_count": 9,
     "metadata": {},
     "output_type": "execute_result"
    }
   ],
   "source": [
    "iter(f) is f.__iter__()"
   ]
  },
  {
   "cell_type": "code",
   "execution_count": 10,
   "id": "6f4206a2",
   "metadata": {},
   "outputs": [
    {
     "data": {
      "text/plain": [
       "'import sys\\n'"
      ]
     },
     "execution_count": 10,
     "metadata": {},
     "output_type": "execute_result"
    }
   ],
   "source": [
    "f.__next__()"
   ]
  },
  {
   "cell_type": "code",
   "execution_count": 11,
   "id": "660c4443",
   "metadata": {},
   "outputs": [],
   "source": [
    "# applying iter on list\n",
    "L = [1, 2, 3]"
   ]
  },
  {
   "cell_type": "code",
   "execution_count": 12,
   "id": "b971fc3e",
   "metadata": {},
   "outputs": [
    {
     "data": {
      "text/plain": [
       "False"
      ]
     },
     "execution_count": 12,
     "metadata": {},
     "output_type": "execute_result"
    }
   ],
   "source": [
    "iter(L) is L"
   ]
  },
  {
   "cell_type": "code",
   "execution_count": 13,
   "id": "1a97f8db",
   "metadata": {},
   "outputs": [
    {
     "ename": "AttributeError",
     "evalue": "'list' object has no attribute '__next__'",
     "output_type": "error",
     "traceback": [
      "\u001b[0;31m---------------------------------------------------------------------------\u001b[0m",
      "\u001b[0;31mAttributeError\u001b[0m                            Traceback (most recent call last)",
      "\u001b[0;32m<ipython-input-13-98b0c0707a44>\u001b[0m in \u001b[0;36m<module>\u001b[0;34m\u001b[0m\n\u001b[0;32m----> 1\u001b[0;31m \u001b[0mL\u001b[0m\u001b[0;34m.\u001b[0m\u001b[0m__next__\u001b[0m\u001b[0;34m(\u001b[0m\u001b[0;34m)\u001b[0m\u001b[0;34m\u001b[0m\u001b[0;34m\u001b[0m\u001b[0m\n\u001b[0m",
      "\u001b[0;31mAttributeError\u001b[0m: 'list' object has no attribute '__next__'"
     ]
    }
   ],
   "source": [
    "L.__next__()"
   ]
  },
  {
   "cell_type": "code",
   "execution_count": 14,
   "id": "20810f40",
   "metadata": {},
   "outputs": [],
   "source": [
    "I = iter(L)"
   ]
  },
  {
   "cell_type": "code",
   "execution_count": 15,
   "id": "a71499cd",
   "metadata": {},
   "outputs": [
    {
     "data": {
      "text/plain": [
       "1"
      ]
     },
     "execution_count": 15,
     "metadata": {},
     "output_type": "execute_result"
    }
   ],
   "source": [
    "I.__next__()"
   ]
  },
  {
   "cell_type": "markdown",
   "id": "2e0c78d0",
   "metadata": {},
   "source": [
    "Manual Iteration - how it works?"
   ]
  },
  {
   "cell_type": "code",
   "execution_count": 16,
   "id": "02f8a4dc",
   "metadata": {},
   "outputs": [
    {
     "name": "stdout",
     "output_type": "stream",
     "text": [
      "1 4 9 "
     ]
    }
   ],
   "source": [
    "# automatic iteration\n",
    "L = [1, 2, 3]\n",
    "for X in L:\n",
    "    print(X ** 2, end=' ')"
   ]
  },
  {
   "cell_type": "code",
   "execution_count": 17,
   "id": "324c6565",
   "metadata": {},
   "outputs": [
    {
     "name": "stdout",
     "output_type": "stream",
     "text": [
      "1 4 9 "
     ]
    }
   ],
   "source": [
    "# manual iteration\n",
    "L = [1, 2, 3]\n",
    "I = iter(L)\n",
    "while True:\n",
    "    try:\n",
    "        X = next(I)\n",
    "    except StopIteration:\n",
    "        break\n",
    "    print(X ** 2, end=' ')"
   ]
  },
  {
   "cell_type": "markdown",
   "id": "3c9d7f75",
   "metadata": {},
   "source": [
    "Other Built-in Type Iterables"
   ]
  },
  {
   "cell_type": "code",
   "execution_count": 18,
   "id": "051ad4a8",
   "metadata": {},
   "outputs": [
    {
     "name": "stdout",
     "output_type": "stream",
     "text": [
      "a 1\n",
      "b 2\n",
      "c 3\n"
     ]
    }
   ],
   "source": [
    "D = {'a':1, 'b':2, 'c':3}\n",
    "for key in D.keys():\n",
    "    print(key, D[key])"
   ]
  },
  {
   "cell_type": "code",
   "execution_count": 19,
   "id": "07e42728",
   "metadata": {},
   "outputs": [],
   "source": [
    "I = iter(D)  # dictionaries are iterables with an iterator that\n",
    "# automatically returns one key at a time in an iteration context."
   ]
  },
  {
   "cell_type": "code",
   "execution_count": 20,
   "id": "59a56319",
   "metadata": {},
   "outputs": [
    {
     "data": {
      "text/plain": [
       "'a'"
      ]
     },
     "execution_count": 20,
     "metadata": {},
     "output_type": "execute_result"
    }
   ],
   "source": [
    "next(I)"
   ]
  },
  {
   "cell_type": "code",
   "execution_count": 21,
   "id": "f14f07f3",
   "metadata": {},
   "outputs": [
    {
     "data": {
      "text/plain": [
       "'b'"
      ]
     },
     "execution_count": 21,
     "metadata": {},
     "output_type": "execute_result"
    }
   ],
   "source": [
    "next(I)"
   ]
  },
  {
   "cell_type": "code",
   "execution_count": 22,
   "id": "a6eaade7",
   "metadata": {},
   "outputs": [
    {
     "data": {
      "text/plain": [
       "'c'"
      ]
     },
     "execution_count": 22,
     "metadata": {},
     "output_type": "execute_result"
    }
   ],
   "source": [
    "next(I)"
   ]
  },
  {
   "cell_type": "code",
   "execution_count": 23,
   "id": "f98c9039",
   "metadata": {},
   "outputs": [
    {
     "ename": "StopIteration",
     "evalue": "",
     "output_type": "error",
     "traceback": [
      "\u001b[0;31m---------------------------------------------------------------------------\u001b[0m",
      "\u001b[0;31mStopIteration\u001b[0m                             Traceback (most recent call last)",
      "\u001b[0;32m<ipython-input-23-ebc5a6f5e444>\u001b[0m in \u001b[0;36m<module>\u001b[0;34m\u001b[0m\n\u001b[0;32m----> 1\u001b[0;31m \u001b[0mnext\u001b[0m\u001b[0;34m(\u001b[0m\u001b[0mI\u001b[0m\u001b[0;34m)\u001b[0m\u001b[0;34m\u001b[0m\u001b[0;34m\u001b[0m\u001b[0m\n\u001b[0m",
      "\u001b[0;31mStopIteration\u001b[0m: "
     ]
    }
   ],
   "source": [
    "next(I)"
   ]
  },
  {
   "cell_type": "code",
   "execution_count": 24,
   "id": "6cf700e6",
   "metadata": {},
   "outputs": [
    {
     "name": "stdout",
     "output_type": "stream",
     "text": [
      "a 1\n",
      "b 2\n",
      "c 3\n"
     ]
    }
   ],
   "source": [
    "# we no longer need to call keys method as it is internally use iteration\n",
    "# protocol to grab one key at a time.\n",
    "D = {'a':1, 'b':2, 'c':3}\n",
    "for key in D:\n",
    "    print(key, D[key])"
   ]
  },
  {
   "cell_type": "code",
   "execution_count": 25,
   "id": "a9cd458f",
   "metadata": {},
   "outputs": [],
   "source": [
    "# one more example\n",
    "import os\n",
    "P = os.popen('dir')"
   ]
  },
  {
   "cell_type": "code",
   "execution_count": 27,
   "id": "91d16148",
   "metadata": {},
   "outputs": [
    {
     "data": {
      "text/plain": [
       "'Iterations\\\\ and\\\\ Comprehensions.ipynb  script2.py\\n'"
      ]
     },
     "execution_count": 27,
     "metadata": {},
     "output_type": "execute_result"
    }
   ],
   "source": [
    "P.__next__()"
   ]
  },
  {
   "cell_type": "code",
   "execution_count": 28,
   "id": "f498c3e7",
   "metadata": {},
   "outputs": [
    {
     "ename": "StopIteration",
     "evalue": "",
     "output_type": "error",
     "traceback": [
      "\u001b[0;31m---------------------------------------------------------------------------\u001b[0m",
      "\u001b[0;31mStopIteration\u001b[0m                             Traceback (most recent call last)",
      "\u001b[0;32m<ipython-input-28-2fa4e78f70c7>\u001b[0m in \u001b[0;36m<module>\u001b[0;34m\u001b[0m\n\u001b[0;32m----> 1\u001b[0;31m \u001b[0mP\u001b[0m\u001b[0;34m.\u001b[0m\u001b[0m__next__\u001b[0m\u001b[0;34m(\u001b[0m\u001b[0;34m)\u001b[0m\u001b[0;34m\u001b[0m\u001b[0;34m\u001b[0m\u001b[0m\n\u001b[0m",
      "\u001b[0;31mStopIteration\u001b[0m: "
     ]
    }
   ],
   "source": [
    "P.__next__()"
   ]
  },
  {
   "cell_type": "code",
   "execution_count": 29,
   "id": "a8808531",
   "metadata": {},
   "outputs": [
    {
     "ename": "TypeError",
     "evalue": "'_wrap_close' object is not an iterator",
     "output_type": "error",
     "traceback": [
      "\u001b[0;31m---------------------------------------------------------------------------\u001b[0m",
      "\u001b[0;31mTypeError\u001b[0m                                 Traceback (most recent call last)",
      "\u001b[0;32m<ipython-input-29-cb4929832444>\u001b[0m in \u001b[0;36m<module>\u001b[0;34m\u001b[0m\n\u001b[0;32m----> 1\u001b[0;31m \u001b[0mnext\u001b[0m\u001b[0;34m(\u001b[0m\u001b[0mP\u001b[0m\u001b[0;34m)\u001b[0m\u001b[0;34m\u001b[0m\u001b[0;34m\u001b[0m\u001b[0m\n\u001b[0m",
      "\u001b[0;31mTypeError\u001b[0m: '_wrap_close' object is not an iterator"
     ]
    }
   ],
   "source": [
    "next(P)"
   ]
  },
  {
   "cell_type": "code",
   "execution_count": 37,
   "id": "298f8085",
   "metadata": {},
   "outputs": [],
   "source": [
    "# using top level iter call to support next call for the same object\n",
    "import os\n",
    "P = os.popen('dir')"
   ]
  },
  {
   "cell_type": "code",
   "execution_count": 38,
   "id": "5f438ac9",
   "metadata": {},
   "outputs": [],
   "source": [
    "I = iter(P)"
   ]
  },
  {
   "cell_type": "code",
   "execution_count": 35,
   "id": "5b723db0",
   "metadata": {},
   "outputs": [
    {
     "data": {
      "text/plain": [
       "'Iterations\\\\ and\\\\ Comprehensions.ipynb  script2.py\\n'"
      ]
     },
     "execution_count": 35,
     "metadata": {},
     "output_type": "execute_result"
    }
   ],
   "source": [
    "next(I)"
   ]
  },
  {
   "cell_type": "code",
   "execution_count": 39,
   "id": "9cf10354",
   "metadata": {},
   "outputs": [
    {
     "data": {
      "text/plain": [
       "'Iterations\\\\ and\\\\ Comprehensions.ipynb  script2.py\\n'"
      ]
     },
     "execution_count": 39,
     "metadata": {},
     "output_type": "execute_result"
    }
   ],
   "source": [
    "I.__next__()  # we did run this code after declaring iter for demo."
   ]
  },
  {
   "cell_type": "code",
   "execution_count": 42,
   "id": "abb027dd",
   "metadata": {},
   "outputs": [
    {
     "name": "stdout",
     "output_type": "stream",
     "text": [
      "/home/ravik/src_git/LP/LP5E/P1/C9\n",
      "[]\n",
      "['testjson.txt', 'objects_in_json.py', 'pickle.py']\n",
      "------------------------------------\n"
     ]
    }
   ],
   "source": [
    "# A small example with os.walk\n",
    "import os\n",
    "if __name__ == \"__main__\":\n",
    "    for (root, dirs, files) in os.walk('/home/ravik/src_git/LP/LP5E/P1/C9', topdown=True):\n",
    "        print(root)\n",
    "        print(dirs)\n",
    "        print(files)\n",
    "        print('------------------------------------')\n",
    "    "
   ]
  },
  {
   "cell_type": "code",
   "execution_count": 43,
   "id": "325ee5d4",
   "metadata": {},
   "outputs": [],
   "source": [
    "# Returning results in a list vs using iteration protocol\n",
    "R = range(5)"
   ]
  },
  {
   "cell_type": "code",
   "execution_count": 45,
   "id": "e14b417b",
   "metadata": {},
   "outputs": [
    {
     "data": {
      "text/plain": [
       "range(0, 5)"
      ]
     },
     "execution_count": 45,
     "metadata": {},
     "output_type": "execute_result"
    }
   ],
   "source": [
    "R"
   ]
  },
  {
   "cell_type": "code",
   "execution_count": 46,
   "id": "bb21ea36",
   "metadata": {},
   "outputs": [],
   "source": [
    "I = iter(R)  # Use iteration protocol to produce results."
   ]
  },
  {
   "cell_type": "code",
   "execution_count": 47,
   "id": "f8cd8bc9",
   "metadata": {},
   "outputs": [
    {
     "data": {
      "text/plain": [
       "0"
      ]
     },
     "execution_count": 47,
     "metadata": {},
     "output_type": "execute_result"
    }
   ],
   "source": [
    "next(I)"
   ]
  },
  {
   "cell_type": "code",
   "execution_count": 48,
   "id": "185cfdbc",
   "metadata": {},
   "outputs": [
    {
     "data": {
      "text/plain": [
       "[0, 1, 2, 3, 4]"
      ]
     },
     "execution_count": 48,
     "metadata": {},
     "output_type": "execute_result"
    }
   ],
   "source": [
    "list(range(5))  # using list to collect all results at once."
   ]
  },
  {
   "cell_type": "code",
   "execution_count": 49,
   "id": "54d4c7ce",
   "metadata": {},
   "outputs": [],
   "source": [
    "# enumeration and list comprehension\n",
    "E = enumerate('spam')  # enumerate is an iterable too"
   ]
  },
  {
   "cell_type": "code",
   "execution_count": 50,
   "id": "a60ec7e5",
   "metadata": {},
   "outputs": [
    {
     "data": {
      "text/plain": [
       "<enumerate at 0x7fce90c68b00>"
      ]
     },
     "execution_count": 50,
     "metadata": {},
     "output_type": "execute_result"
    }
   ],
   "source": [
    "E"
   ]
  },
  {
   "cell_type": "code",
   "execution_count": 51,
   "id": "40a4ae08",
   "metadata": {},
   "outputs": [],
   "source": [
    "I = iter(E)"
   ]
  },
  {
   "cell_type": "code",
   "execution_count": 52,
   "id": "d5c6e3fd",
   "metadata": {},
   "outputs": [
    {
     "data": {
      "text/plain": [
       "(0, 's')"
      ]
     },
     "execution_count": 52,
     "metadata": {},
     "output_type": "execute_result"
    }
   ],
   "source": [
    "next(I)  # generate results with iteration protocol"
   ]
  },
  {
   "cell_type": "code",
   "execution_count": 53,
   "id": "0083a4c5",
   "metadata": {},
   "outputs": [
    {
     "data": {
      "text/plain": [
       "(1, 'p')"
      ]
     },
     "execution_count": 53,
     "metadata": {},
     "output_type": "execute_result"
    }
   ],
   "source": [
    "next(I)"
   ]
  },
  {
   "cell_type": "code",
   "execution_count": 54,
   "id": "f37c8e92",
   "metadata": {},
   "outputs": [
    {
     "data": {
      "text/plain": [
       "[(0, 's'), (1, 'p'), (2, 'a'), (3, 'm')]"
      ]
     },
     "execution_count": 54,
     "metadata": {},
     "output_type": "execute_result"
    }
   ],
   "source": [
    "list(enumerate('spam'))  # use list to force generate to run"
   ]
  },
  {
   "cell_type": "code",
   "execution_count": null,
   "id": "f6413f30",
   "metadata": {},
   "outputs": [],
   "source": []
  }
 ],
 "metadata": {
  "kernelspec": {
   "display_name": "Python 3",
   "language": "python",
   "name": "python3"
  },
  "language_info": {
   "codemirror_mode": {
    "name": "ipython",
    "version": 3
   },
   "file_extension": ".py",
   "mimetype": "text/x-python",
   "name": "python",
   "nbconvert_exporter": "python",
   "pygments_lexer": "ipython3",
   "version": "3.8.8"
  }
 },
 "nbformat": 4,
 "nbformat_minor": 5
}
