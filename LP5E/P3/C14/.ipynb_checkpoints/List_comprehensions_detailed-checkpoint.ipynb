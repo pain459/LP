{
 "cells": [
  {
   "cell_type": "code",
   "execution_count": 4,
   "id": "d9c1a8c0",
   "metadata": {},
   "outputs": [],
   "source": [
    "#Tradition way with for loop\n",
    "L = [1, 2, 3, 4, 5]\n",
    "for i in range(len(L)):\n",
    "    L[i] += 10"
   ]
  },
  {
   "cell_type": "code",
   "execution_count": 5,
   "id": "d24c7faa",
   "metadata": {},
   "outputs": [
    {
     "data": {
      "text/plain": [
       "[11, 12, 13, 14, 15]"
      ]
     },
     "execution_count": 5,
     "metadata": {},
     "output_type": "execute_result"
    }
   ],
   "source": [
    "L  # obscelete practice to generate this"
   ]
  },
  {
   "cell_type": "code",
   "execution_count": 6,
   "id": "2b116123",
   "metadata": {},
   "outputs": [
    {
     "data": {
      "text/plain": [
       "[11, 12, 13, 14, 15]"
      ]
     },
     "execution_count": 6,
     "metadata": {},
     "output_type": "execute_result"
    }
   ],
   "source": [
    "# Magic of list comprehension \n",
    "L = [1, 2, 3, 4, 5]\n",
    "[i + 10 for i in L]"
   ]
  },
  {
   "cell_type": "code",
   "execution_count": 7,
   "id": "7a6929cf",
   "metadata": {},
   "outputs": [],
   "source": [
    "# what list comprehension does internally\n",
    "L = [1, 2, 3, 4, 5]\n",
    "res = []\n",
    "for x in L:\n",
    "    res.append(x + 10)"
   ]
  },
  {
   "cell_type": "code",
   "execution_count": 8,
   "id": "2de8da7f",
   "metadata": {},
   "outputs": [
    {
     "data": {
      "text/plain": [
       "[11, 12, 13, 14, 15]"
      ]
     },
     "execution_count": 8,
     "metadata": {},
     "output_type": "execute_result"
    }
   ],
   "source": [
    "res"
   ]
  },
  {
   "cell_type": "markdown",
   "id": "dde07904",
   "metadata": {},
   "source": [
    "# Using list comprehensions on files"
   ]
  },
  {
   "cell_type": "code",
   "execution_count": 9,
   "id": "a4cdef92",
   "metadata": {},
   "outputs": [],
   "source": [
    "# normal reading\n",
    "f = open('script2.py')\n",
    "lines = f.readlines()"
   ]
  },
  {
   "cell_type": "code",
   "execution_count": 10,
   "id": "79745332",
   "metadata": {},
   "outputs": [
    {
     "data": {
      "text/plain": [
       "['import sys\\n', 'print(sys.path)\\n', 'x = 2\\n', 'print(x ** 32)\\n']"
      ]
     },
     "execution_count": 10,
     "metadata": {},
     "output_type": "execute_result"
    }
   ],
   "source": [
    "lines"
   ]
  },
  {
   "cell_type": "code",
   "execution_count": 12,
   "id": "88184e22",
   "metadata": {},
   "outputs": [],
   "source": [
    "lines = [line.rstrip() for line in lines]"
   ]
  },
  {
   "cell_type": "code",
   "execution_count": 13,
   "id": "9e8c5717",
   "metadata": {},
   "outputs": [
    {
     "data": {
      "text/plain": [
       "['import sys', 'print(sys.path)', 'x = 2', 'print(x ** 32)']"
      ]
     },
     "execution_count": 13,
     "metadata": {},
     "output_type": "execute_result"
    }
   ],
   "source": [
    "lines"
   ]
  },
  {
   "cell_type": "code",
   "execution_count": 14,
   "id": "0b5ca3b1",
   "metadata": {},
   "outputs": [],
   "source": [
    "# entirely working with list comprehension\n",
    "lines = [i.rstrip() for i in open('script2.py')]"
   ]
  },
  {
   "cell_type": "code",
   "execution_count": 15,
   "id": "62c5a5a8",
   "metadata": {},
   "outputs": [
    {
     "data": {
      "text/plain": [
       "['import sys', 'print(sys.path)', 'x = 2', 'print(x ** 32)']"
      ]
     },
     "execution_count": 15,
     "metadata": {},
     "output_type": "execute_result"
    }
   ],
   "source": [
    "lines"
   ]
  },
  {
   "cell_type": "code",
   "execution_count": 16,
   "id": "1ed69901",
   "metadata": {},
   "outputs": [],
   "source": [
    "# String operations with list comprehensions"
   ]
  },
  {
   "cell_type": "code",
   "execution_count": 17,
   "id": "de55c41f",
   "metadata": {},
   "outputs": [
    {
     "data": {
      "text/plain": [
       "['IMPORT SYS\\n', 'PRINT(SYS.PATH)\\n', 'X = 2\\n', 'PRINT(X ** 32)\\n']"
      ]
     },
     "execution_count": 17,
     "metadata": {},
     "output_type": "execute_result"
    }
   ],
   "source": [
    "[i.upper() for i in open('script2.py')]"
   ]
  },
  {
   "cell_type": "code",
   "execution_count": 18,
   "id": "b2827c4a",
   "metadata": {},
   "outputs": [
    {
     "data": {
      "text/plain": [
       "['IMPORT SYS', 'PRINT(SYS.PATH)', 'X = 2', 'PRINT(X ** 32)']"
      ]
     },
     "execution_count": 18,
     "metadata": {},
     "output_type": "execute_result"
    }
   ],
   "source": [
    "[i.upper().rstrip() for i in open('script2.py')]"
   ]
  },
  {
   "cell_type": "code",
   "execution_count": 19,
   "id": "44a3b3e0",
   "metadata": {},
   "outputs": [
    {
     "data": {
      "text/plain": [
       "[['import', 'sys'],\n",
       " ['print(sys.path)'],\n",
       " ['x', '=', '2'],\n",
       " ['print(x', '**', '32)']]"
      ]
     },
     "execution_count": 19,
     "metadata": {},
     "output_type": "execute_result"
    }
   ],
   "source": [
    "[i.split() for i in open('script2.py')]"
   ]
  },
  {
   "cell_type": "code",
   "execution_count": 20,
   "id": "bb97bdb4",
   "metadata": {},
   "outputs": [
    {
     "data": {
      "text/plain": [
       "['import!sys\\n', 'print(sys.path)\\n', 'x!=!2\\n', 'print(x!**!32)\\n']"
      ]
     },
     "execution_count": 20,
     "metadata": {},
     "output_type": "execute_result"
    }
   ],
   "source": [
    "[i.replace(' ', '!') for i in open('script2.py')]"
   ]
  },
  {
   "cell_type": "code",
   "execution_count": 22,
   "id": "6dfecd6d",
   "metadata": {},
   "outputs": [
    {
     "data": {
      "text/plain": [
       "[(True, 'impor'), (True, 'print'), (False, 'x = 2'), (False, 'print')]"
      ]
     },
     "execution_count": 22,
     "metadata": {},
     "output_type": "execute_result"
    }
   ],
   "source": [
    "[('sys' in line, line[:5]) for line in open('script2.py')]"
   ]
  },
  {
   "cell_type": "markdown",
   "id": "36000800",
   "metadata": {},
   "source": [
    "##### Extended List Comprehension Syntax"
   ]
  },
  {
   "cell_type": "code",
   "execution_count": 23,
   "id": "51e0291b",
   "metadata": {},
   "outputs": [
    {
     "data": {
      "text/plain": [
       "['print(sys.path)', 'print(x ** 32)']"
      ]
     },
     "execution_count": 23,
     "metadata": {},
     "output_type": "execute_result"
    }
   ],
   "source": [
    "# filter clauses: if\n",
    "# finding the line starting with letter p\n",
    "[line.rstrip() for line in open('script2.py') if line[0] == 'p']"
   ]
  },
  {
   "cell_type": "code",
   "execution_count": 25,
   "id": "bc0b2192",
   "metadata": {},
   "outputs": [
    {
     "data": {
      "text/plain": [
       "['x = 2']"
      ]
     },
     "execution_count": 25,
     "metadata": {},
     "output_type": "execute_result"
    }
   ],
   "source": [
    "# lines ending witha digit\n",
    "[line.rstrip() for line in open('script2.py') if line.rstrip()[-1].isdigit()]"
   ]
  },
  {
   "cell_type": "code",
   "execution_count": 26,
   "id": "d98f3635",
   "metadata": {},
   "outputs": [],
   "source": [
    "fname = 'script2.py'"
   ]
  },
  {
   "cell_type": "code",
   "execution_count": 27,
   "id": "361b3c41",
   "metadata": {},
   "outputs": [
    {
     "data": {
      "text/plain": [
       "4"
      ]
     },
     "execution_count": 27,
     "metadata": {},
     "output_type": "execute_result"
    }
   ],
   "source": [
    "len(open(fname).readlines()) # with spaces"
   ]
  },
  {
   "cell_type": "code",
   "execution_count": 29,
   "id": "5968bb66",
   "metadata": {},
   "outputs": [
    {
     "data": {
      "text/plain": [
       "4"
      ]
     },
     "execution_count": 29,
     "metadata": {},
     "output_type": "execute_result"
    }
   ],
   "source": [
    "len([line for line in open(fname) if line.strip() != ''])  # without spaces"
   ]
  },
  {
   "cell_type": "markdown",
   "id": "5f5dd4d7",
   "metadata": {},
   "source": [
    "##### Nested Loops:for"
   ]
  },
  {
   "cell_type": "code",
   "execution_count": 30,
   "id": "e3a8d6bf",
   "metadata": {},
   "outputs": [
    {
     "data": {
      "text/plain": [
       "['ad', 'ae', 'af', 'bd', 'be', 'bf', 'cd', 'ce', 'cf']"
      ]
     },
     "execution_count": 30,
     "metadata": {},
     "output_type": "execute_result"
    }
   ],
   "source": [
    "# Concatenation possibilites of 2 strings in list comprehensions\n",
    "[i + j for i in 'abc' for j in 'def']"
   ]
  },
  {
   "cell_type": "code",
   "execution_count": 33,
   "id": "f36067fb",
   "metadata": {},
   "outputs": [
    {
     "data": {
      "text/plain": [
       "30"
      ]
     },
     "execution_count": 33,
     "metadata": {},
     "output_type": "execute_result"
    }
   ],
   "source": [
    "len([i + j for i in 'abcde' for j in 'fghijk'])"
   ]
  },
  {
   "cell_type": "markdown",
   "id": "280eea93",
   "metadata": {},
   "source": [
    "## Other Iteration Contexts"
   ]
  },
  {
   "cell_type": "code",
   "execution_count": 36,
   "id": "03aebcb8",
   "metadata": {},
   "outputs": [
    {
     "name": "stdout",
     "output_type": "stream",
     "text": [
      "IMPORT SYS\n",
      "PRINT(SYS.PATH)\n",
      "X = 2\n",
      "PRINT(X ** 32)\n"
     ]
    }
   ],
   "source": [
    "# use file iterators\n",
    "for line in open('script2.py'):\n",
    "    print(line.upper(), end='')"
   ]
  },
  {
   "cell_type": "code",
   "execution_count": 37,
   "id": "7d716e33",
   "metadata": {},
   "outputs": [],
   "source": [
    "#list comprehension and map in iterators"
   ]
  },
  {
   "cell_type": "code",
   "execution_count": 38,
   "id": "adca50af",
   "metadata": {},
   "outputs": [],
   "source": [
    "uppers = [line.upper() for line in open('script2.py')]"
   ]
  },
  {
   "cell_type": "code",
   "execution_count": 39,
   "id": "27d58115",
   "metadata": {},
   "outputs": [
    {
     "data": {
      "text/plain": [
       "['IMPORT SYS\\n', 'PRINT(SYS.PATH)\\n', 'X = 2\\n', 'PRINT(X ** 32)\\n']"
      ]
     },
     "execution_count": 39,
     "metadata": {},
     "output_type": "execute_result"
    }
   ],
   "source": [
    "uppers"
   ]
  },
  {
   "cell_type": "code",
   "execution_count": 40,
   "id": "85e8de4c",
   "metadata": {},
   "outputs": [
    {
     "data": {
      "text/plain": [
       "<map at 0x7fa637aca130>"
      ]
     },
     "execution_count": 40,
     "metadata": {},
     "output_type": "execute_result"
    }
   ],
   "source": [
    "# using map\n",
    "map(str.upper, open('script2.py'))"
   ]
  },
  {
   "cell_type": "code",
   "execution_count": 43,
   "id": "6a0af9d2",
   "metadata": {},
   "outputs": [
    {
     "data": {
      "text/plain": [
       "['IMPORT SYS\\n', 'PRINT(SYS.PATH)\\n', 'X = 2\\n', 'PRINT(X ** 32)\\n']"
      ]
     },
     "execution_count": 43,
     "metadata": {},
     "output_type": "execute_result"
    }
   ],
   "source": [
    "list(map(str.upper, open('script2.py')))"
   ]
  },
  {
   "cell_type": "markdown",
   "id": "f7b000a4",
   "metadata": {},
   "source": [
    "#### Some possible iterables"
   ]
  },
  {
   "cell_type": "code",
   "execution_count": 44,
   "id": "7bc7a651",
   "metadata": {},
   "outputs": [
    {
     "data": {
      "text/plain": [
       "['import sys\\n', 'print(sys.path)\\n', 'print(x ** 32)\\n', 'x = 2\\n']"
      ]
     },
     "execution_count": 44,
     "metadata": {},
     "output_type": "execute_result"
    }
   ],
   "source": [
    "sorted(open('script2.py'))"
   ]
  },
  {
   "cell_type": "code",
   "execution_count": 45,
   "id": "0ddd6de4",
   "metadata": {},
   "outputs": [
    {
     "data": {
      "text/plain": [
       "[('import sys\\n', 'import sys\\n'),\n",
       " ('print(sys.path)\\n', 'print(sys.path)\\n'),\n",
       " ('x = 2\\n', 'x = 2\\n'),\n",
       " ('print(x ** 32)\\n', 'print(x ** 32)\\n')]"
      ]
     },
     "execution_count": 45,
     "metadata": {},
     "output_type": "execute_result"
    }
   ],
   "source": [
    "list(zip(open('script2.py'), open('script2.py')))"
   ]
  },
  {
   "cell_type": "code",
   "execution_count": 47,
   "id": "3b857bcb",
   "metadata": {},
   "outputs": [
    {
     "data": {
      "text/plain": [
       "[(0, 'import sys\\n'),\n",
       " (1, 'print(sys.path)\\n'),\n",
       " (2, 'x = 2\\n'),\n",
       " (3, 'print(x ** 32)\\n')]"
      ]
     },
     "execution_count": 47,
     "metadata": {},
     "output_type": "execute_result"
    }
   ],
   "source": [
    "list(enumerate(open('script2.py')))"
   ]
  },
  {
   "cell_type": "code",
   "execution_count": 48,
   "id": "f9c203b1",
   "metadata": {},
   "outputs": [
    {
     "data": {
      "text/plain": [
       "['import sys\\n', 'print(sys.path)\\n', 'x = 2\\n', 'print(x ** 32)\\n']"
      ]
     },
     "execution_count": 48,
     "metadata": {},
     "output_type": "execute_result"
    }
   ],
   "source": [
    "list(filter(bool, open('script2.py')))  # nonempty = True"
   ]
  },
  {
   "cell_type": "code",
   "execution_count": 49,
   "id": "08f31005",
   "metadata": {},
   "outputs": [],
   "source": [
    "import functools, operator"
   ]
  },
  {
   "cell_type": "code",
   "execution_count": 50,
   "id": "d96fd62d",
   "metadata": {},
   "outputs": [
    {
     "data": {
      "text/plain": [
       "'import sys\\nprint(sys.path)\\nx = 2\\nprint(x ** 32)\\n'"
      ]
     },
     "execution_count": 50,
     "metadata": {},
     "output_type": "execute_result"
    }
   ],
   "source": [
    "functools.reduce(operator.add, open('script2.py'))"
   ]
  },
  {
   "cell_type": "markdown",
   "id": "6a8a3fa3",
   "metadata": {},
   "source": [
    "#### list and tuple creating new objects from iterables"
   ]
  },
  {
   "cell_type": "code",
   "execution_count": 51,
   "id": "cdf1bc7d",
   "metadata": {},
   "outputs": [
    {
     "data": {
      "text/plain": [
       "['import sys\\n', 'print(sys.path)\\n', 'x = 2\\n', 'print(x ** 32)\\n']"
      ]
     },
     "execution_count": 51,
     "metadata": {},
     "output_type": "execute_result"
    }
   ],
   "source": [
    "list(open('script2.py'))"
   ]
  },
  {
   "cell_type": "code",
   "execution_count": 52,
   "id": "df159075",
   "metadata": {},
   "outputs": [
    {
     "data": {
      "text/plain": [
       "('import sys\\n', 'print(sys.path)\\n', 'x = 2\\n', 'print(x ** 32)\\n')"
      ]
     },
     "execution_count": 52,
     "metadata": {},
     "output_type": "execute_result"
    }
   ],
   "source": [
    "tuple(open('script2.py'))"
   ]
  },
  {
   "cell_type": "code",
   "execution_count": 54,
   "id": "a16f0c62",
   "metadata": {},
   "outputs": [
    {
     "data": {
      "text/plain": [
       "'import sys\\n&&print(sys.path)\\n&&x = 2\\n&&print(x ** 32)\\n'"
      ]
     },
     "execution_count": 54,
     "metadata": {},
     "output_type": "execute_result"
    }
   ],
   "source": [
    "'&&'.join((open('script2.py')))"
   ]
  },
  {
   "cell_type": "markdown",
   "id": "08280723",
   "metadata": {},
   "source": [
    "###### sequence assignment, the in membership test, slice assignment, and the list’s extend method also leverage the iteration protocol to scan, and thus read a file by lines automatically"
   ]
  },
  {
   "cell_type": "code",
   "execution_count": 55,
   "id": "b47e2a3a",
   "metadata": {},
   "outputs": [],
   "source": [
    "a, b, c, d = open('script2.py')  # sequence assignment"
   ]
  },
  {
   "cell_type": "code",
   "execution_count": 56,
   "id": "5367efad",
   "metadata": {},
   "outputs": [
    {
     "data": {
      "text/plain": [
       "('import sys\\n', 'print(sys.path)\\n')"
      ]
     },
     "execution_count": 56,
     "metadata": {},
     "output_type": "execute_result"
    }
   ],
   "source": [
    "a, b"
   ]
  },
  {
   "cell_type": "code",
   "execution_count": 59,
   "id": "0c2ba943",
   "metadata": {},
   "outputs": [],
   "source": [
    "a, *b = open('script2.py')  # extended form"
   ]
  },
  {
   "cell_type": "code",
   "execution_count": 61,
   "id": "7d779498",
   "metadata": {},
   "outputs": [
    {
     "data": {
      "text/plain": [
       "('import sys\\n', ['print(sys.path)\\n', 'x = 2\\n', 'print(x ** 32)\\n'])"
      ]
     },
     "execution_count": 61,
     "metadata": {},
     "output_type": "execute_result"
    }
   ],
   "source": [
    "a, b"
   ]
  },
  {
   "cell_type": "code",
   "execution_count": 62,
   "id": "f7206fc7",
   "metadata": {},
   "outputs": [
    {
     "data": {
      "text/plain": [
       "False"
      ]
     },
     "execution_count": 62,
     "metadata": {},
     "output_type": "execute_result"
    }
   ],
   "source": [
    "'y = 2\\n' in open('script2.py')  # membership test"
   ]
  },
  {
   "cell_type": "code",
   "execution_count": 63,
   "id": "6fdc46d5",
   "metadata": {},
   "outputs": [
    {
     "data": {
      "text/plain": [
       "True"
      ]
     },
     "execution_count": 63,
     "metadata": {},
     "output_type": "execute_result"
    }
   ],
   "source": [
    "'x = 2\\n' in open('script2.py')"
   ]
  },
  {
   "cell_type": "code",
   "execution_count": 64,
   "id": "e82197c2",
   "metadata": {},
   "outputs": [],
   "source": [
    "L = [11, 22, 33, 44]  # slice assignment\n",
    "L[1:3] = open('script2.py')"
   ]
  },
  {
   "cell_type": "code",
   "execution_count": 65,
   "id": "3a976a8e",
   "metadata": {},
   "outputs": [
    {
     "data": {
      "text/plain": [
       "[11, 'import sys\\n', 'print(sys.path)\\n', 'x = 2\\n', 'print(x ** 32)\\n', 44]"
      ]
     },
     "execution_count": 65,
     "metadata": {},
     "output_type": "execute_result"
    }
   ],
   "source": [
    "L"
   ]
  },
  {
   "cell_type": "code",
   "execution_count": 66,
   "id": "aea93cf4",
   "metadata": {},
   "outputs": [],
   "source": [
    "L = [11]\n",
    "L.extend(open('script2.py'))  # list.Extend method"
   ]
  },
  {
   "cell_type": "code",
   "execution_count": 67,
   "id": "be4cd23a",
   "metadata": {},
   "outputs": [
    {
     "data": {
      "text/plain": [
       "[11, 'import sys\\n', 'print(sys.path)\\n', 'x = 2\\n', 'print(x ** 32)\\n']"
      ]
     },
     "execution_count": 67,
     "metadata": {},
     "output_type": "execute_result"
    }
   ],
   "source": [
    "L"
   ]
  },
  {
   "cell_type": "code",
   "execution_count": 68,
   "id": "9fb55ae3",
   "metadata": {},
   "outputs": [],
   "source": [
    "# append doesnot iterate automatically\n",
    "L = [11]\n",
    "L.append(open('script2.py'))"
   ]
  },
  {
   "cell_type": "code",
   "execution_count": 69,
   "id": "dda9e8ab",
   "metadata": {},
   "outputs": [
    {
     "data": {
      "text/plain": [
       "[11, <_io.TextIOWrapper name='script2.py' mode='r' encoding='UTF-8'>]"
      ]
     },
     "execution_count": 69,
     "metadata": {},
     "output_type": "execute_result"
    }
   ],
   "source": [
    "L  # This is because append doesn't iterate automatically."
   ]
  },
  {
   "cell_type": "code",
   "execution_count": 71,
   "id": "8345e20e",
   "metadata": {},
   "outputs": [
    {
     "data": {
      "text/plain": [
       "['import sys\\n', 'print(sys.path)\\n', 'x = 2\\n', 'print(x ** 32)\\n']"
      ]
     },
     "execution_count": 71,
     "metadata": {},
     "output_type": "execute_result"
    }
   ],
   "source": [
    "list(L[1])"
   ]
  },
  {
   "cell_type": "markdown",
   "id": "c846dff9",
   "metadata": {},
   "source": [
    "#### Dictionaries and sets with iterables"
   ]
  },
  {
   "cell_type": "code",
   "execution_count": 73,
   "id": "8c3cc466",
   "metadata": {},
   "outputs": [
    {
     "data": {
      "text/plain": [
       "{'import sys\\n', 'print(sys.path)\\n', 'print(x ** 32)\\n', 'x = 2\\n'}"
      ]
     },
     "execution_count": 73,
     "metadata": {},
     "output_type": "execute_result"
    }
   ],
   "source": [
    "set(open('script2.py'))"
   ]
  },
  {
   "cell_type": "code",
   "execution_count": 74,
   "id": "d5738153",
   "metadata": {},
   "outputs": [
    {
     "data": {
      "text/plain": [
       "{'import sys\\n', 'print(sys.path)\\n', 'print(x ** 32)\\n', 'x = 2\\n'}"
      ]
     },
     "execution_count": 74,
     "metadata": {},
     "output_type": "execute_result"
    }
   ],
   "source": [
    "{line for line in open('script2.py')}"
   ]
  },
  {
   "cell_type": "code",
   "execution_count": 76,
   "id": "85acc754",
   "metadata": {},
   "outputs": [
    {
     "data": {
      "text/plain": [
       "{0: 'import sys\\n',\n",
       " 1: 'print(sys.path)\\n',\n",
       " 2: 'x = 2\\n',\n",
       " 3: 'print(x ** 32)\\n'}"
      ]
     },
     "execution_count": 76,
     "metadata": {},
     "output_type": "execute_result"
    }
   ],
   "source": [
    "{ix: line for ix, line in enumerate(open('script2.py'))}"
   ]
  },
  {
   "cell_type": "code",
   "execution_count": 77,
   "id": "932244d2",
   "metadata": {},
   "outputs": [
    {
     "data": {
      "text/plain": [
       "{'print(sys.path)\\n', 'print(x ** 32)\\n'}"
      ]
     },
     "execution_count": 77,
     "metadata": {},
     "output_type": "execute_result"
    }
   ],
   "source": [
    "# adding if in sets\n",
    "{line for line in open('script2.py') if line[0] == 'p'}"
   ]
  },
  {
   "cell_type": "code",
   "execution_count": 78,
   "id": "fbc54cb6",
   "metadata": {},
   "outputs": [
    {
     "data": {
      "text/plain": [
       "{1: 'print(sys.path)\\n', 3: 'print(x ** 32)\\n'}"
      ]
     },
     "execution_count": 78,
     "metadata": {},
     "output_type": "execute_result"
    }
   ],
   "source": [
    "{ix: line for ix, line in enumerate(open('script2.py')) if line[0] == 'p'}"
   ]
  },
  {
   "cell_type": "code",
   "execution_count": 79,
   "id": "6a994f8b",
   "metadata": {},
   "outputs": [
    {
     "data": {
      "text/plain": [
       "{1: 'print(sys.path)', 3: 'print(x ** 32)'}"
      ]
     },
     "execution_count": 79,
     "metadata": {},
     "output_type": "execute_result"
    }
   ],
   "source": [
    "{ix: line.rstrip() for ix, line in enumerate(open('script2.py')) if line[0] == 'p'}"
   ]
  },
  {
   "cell_type": "code",
   "execution_count": 82,
   "id": "531f2ae1",
   "metadata": {},
   "outputs": [
    {
     "data": {
      "text/plain": [
       "['IMPORT SYS\\n', 'PRINT(SYS.PATH)\\n', 'X = 2\\n', 'PRINT(X ** 32)\\n']"
      ]
     },
     "execution_count": 82,
     "metadata": {},
     "output_type": "execute_result"
    }
   ],
   "source": [
    "# combining the file iteration and comprehension\n",
    "list(line.upper() for line in open('script2.py'))"
   ]
  },
  {
   "cell_type": "code",
   "execution_count": null,
   "id": "4eb19bd3",
   "metadata": {},
   "outputs": [],
   "source": []
  }
 ],
 "metadata": {
  "kernelspec": {
   "display_name": "Python 3",
   "language": "python",
   "name": "python3"
  },
  "language_info": {
   "codemirror_mode": {
    "name": "ipython",
    "version": 3
   },
   "file_extension": ".py",
   "mimetype": "text/x-python",
   "name": "python",
   "nbconvert_exporter": "python",
   "pygments_lexer": "ipython3",
   "version": "3.8.8"
  }
 },
 "nbformat": 4,
 "nbformat_minor": 5
}
