{
 "cells": [
  {
   "cell_type": "code",
   "execution_count": 3,
   "id": "7460952b",
   "metadata": {},
   "outputs": [],
   "source": [
    "# simple example of lambda\n",
    "M = map(lambda x: 2 ** x, range(3))"
   ]
  },
  {
   "cell_type": "code",
   "execution_count": 4,
   "id": "79394475",
   "metadata": {},
   "outputs": [
    {
     "name": "stdout",
     "output_type": "stream",
     "text": [
      "1\n",
      "2\n",
      "4\n"
     ]
    }
   ],
   "source": [
    "for i in M: print(i)"
   ]
  },
  {
   "cell_type": "code",
   "execution_count": 6,
   "id": "c9602d21",
   "metadata": {},
   "outputs": [],
   "source": [
    "for i in M: print(i)  # one pass only (zip too)"
   ]
  },
  {
   "cell_type": "markdown",
   "id": "724c0092",
   "metadata": {},
   "source": [
    "### The range iterable"
   ]
  },
  {
   "cell_type": "code",
   "execution_count": 7,
   "id": "97998c39",
   "metadata": {},
   "outputs": [],
   "source": [
    "R = range(10)  # range returns an iterable, not a list"
   ]
  },
  {
   "cell_type": "code",
   "execution_count": 9,
   "id": "3f663e53",
   "metadata": {},
   "outputs": [
    {
     "data": {
      "text/plain": [
       "range(0, 10)"
      ]
     },
     "execution_count": 9,
     "metadata": {},
     "output_type": "execute_result"
    }
   ],
   "source": [
    "R"
   ]
  },
  {
   "cell_type": "code",
   "execution_count": 10,
   "id": "4f34416c",
   "metadata": {},
   "outputs": [],
   "source": [
    "I = iter(R)"
   ]
  },
  {
   "cell_type": "code",
   "execution_count": 11,
   "id": "f7fd9859",
   "metadata": {},
   "outputs": [
    {
     "data": {
      "text/plain": [
       "0"
      ]
     },
     "execution_count": 11,
     "metadata": {},
     "output_type": "execute_result"
    }
   ],
   "source": [
    "next(I)"
   ]
  },
  {
   "cell_type": "code",
   "execution_count": 12,
   "id": "2e841931",
   "metadata": {},
   "outputs": [
    {
     "data": {
      "text/plain": [
       "1"
      ]
     },
     "execution_count": 12,
     "metadata": {},
     "output_type": "execute_result"
    }
   ],
   "source": [
    "next(I)"
   ]
  },
  {
   "cell_type": "code",
   "execution_count": 14,
   "id": "ea5ef3d3",
   "metadata": {},
   "outputs": [
    {
     "data": {
      "text/plain": [
       "[0, 1, 2, 3, 4, 5, 6, 7, 8, 9]"
      ]
     },
     "execution_count": 14,
     "metadata": {},
     "output_type": "execute_result"
    }
   ],
   "source": [
    "list(range(10))  # to force a list if required."
   ]
  },
  {
   "cell_type": "code",
   "execution_count": null,
   "id": "fc102503",
   "metadata": {},
   "outputs": [],
   "source": []
  }
 ],
 "metadata": {
  "kernelspec": {
   "display_name": "Python 3",
   "language": "python",
   "name": "python3"
  },
  "language_info": {
   "codemirror_mode": {
    "name": "ipython",
    "version": 3
   },
   "file_extension": ".py",
   "mimetype": "text/x-python",
   "name": "python",
   "nbconvert_exporter": "python",
   "pygments_lexer": "ipython3",
   "version": "3.8.8"
  }
 },
 "nbformat": 4,
 "nbformat_minor": 5
}
