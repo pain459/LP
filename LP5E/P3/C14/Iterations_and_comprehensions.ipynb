{
 "cells": [
  {
   "cell_type": "markdown",
   "id": "0d6c1e58-f4c1-4d6f-bef0-7130521eab4b",
   "metadata": {},
   "source": [
    "Iterations: A first Look"
   ]
  },
  {
   "cell_type": "markdown",
   "id": "21dbca44-8e76-4020-9723-e0d404781e6b",
   "metadata": {},
   "source": [
    "for loop works on almost any sequence."
   ]
  },
  {
   "cell_type": "code",
   "execution_count": 1,
   "id": "90cc613f-9f00-44eb-87b4-d0e95c0b241b",
   "metadata": {
    "execution": {
     "iopub.execute_input": "2021-11-02T05:04:11.503154Z",
     "iopub.status.busy": "2021-11-02T05:04:11.502780Z",
     "iopub.status.idle": "2021-11-02T05:04:11.590603Z",
     "shell.execute_reply": "2021-11-02T05:04:11.589845Z",
     "shell.execute_reply.started": "2021-11-02T05:04:11.503062Z"
    }
   },
   "outputs": [
    {
     "name": "stdout",
     "output_type": "stream",
     "text": [
      "1 4 9 16 "
     ]
    }
   ],
   "source": [
    "for x in [1, 2, 3, 4]: print(x ** 2, end=' ')"
   ]
  },
  {
   "cell_type": "code",
   "execution_count": 2,
   "id": "f3cb0445-46cb-4dc6-b32d-31ab01e1e4b1",
   "metadata": {
    "execution": {
     "iopub.execute_input": "2021-11-02T05:04:37.469253Z",
     "iopub.status.busy": "2021-11-02T05:04:37.468931Z",
     "iopub.status.idle": "2021-11-02T05:04:37.484760Z",
     "shell.execute_reply": "2021-11-02T05:04:37.483965Z",
     "shell.execute_reply.started": "2021-11-02T05:04:37.469228Z"
    }
   },
   "outputs": [
    {
     "name": "stdout",
     "output_type": "stream",
     "text": [
      "1 8 27 64 "
     ]
    }
   ],
   "source": [
    "for x in (1, 2, 3, 4): print(x ** 3, end=' ')"
   ]
  },
  {
   "cell_type": "code",
   "execution_count": 3,
   "id": "904e522b-c511-4037-b1ab-c1aa7641b449",
   "metadata": {
    "execution": {
     "iopub.execute_input": "2021-11-02T05:05:02.626571Z",
     "iopub.status.busy": "2021-11-02T05:05:02.626258Z",
     "iopub.status.idle": "2021-11-02T05:05:02.634866Z",
     "shell.execute_reply": "2021-11-02T05:05:02.634359Z",
     "shell.execute_reply.started": "2021-11-02T05:05:02.626546Z"
    }
   },
   "outputs": [
    {
     "name": "stdout",
     "output_type": "stream",
     "text": [
      "ss pp aa mm "
     ]
    }
   ],
   "source": [
    "for x in 'spam': print(x * 2, end=' ')"
   ]
  },
  {
   "cell_type": "markdown",
   "id": "9d4479ff-6972-4fc9-a0fa-774042c4f505",
   "metadata": {},
   "source": [
    "The Iteration Protocol: File Iterators"
   ]
  },
  {
   "cell_type": "code",
   "execution_count": 4,
   "id": "267a6475-15b2-4042-8035-2dce2e0a9fff",
   "metadata": {
    "execution": {
     "iopub.execute_input": "2021-11-05T04:31:32.665894Z",
     "iopub.status.busy": "2021-11-05T04:31:32.665546Z",
     "iopub.status.idle": "2021-11-05T04:31:32.673599Z",
     "shell.execute_reply": "2021-11-05T04:31:32.672989Z",
     "shell.execute_reply.started": "2021-11-05T04:31:32.665867Z"
    }
   },
   "outputs": [
    {
     "name": "stdout",
     "output_type": "stream",
     "text": [
      "import sys\n",
      "print(sys.path)\n",
      "x = 2\n",
      "print(x ** 32)\n",
      "\n"
     ]
    }
   ],
   "source": [
    "print(open('script2.py').read())"
   ]
  },
  {
   "cell_type": "code",
   "execution_count": 5,
   "id": "07c08969-fde6-4eb0-8300-b4586cabf42f",
   "metadata": {
    "execution": {
     "iopub.execute_input": "2021-11-05T04:31:51.841168Z",
     "iopub.status.busy": "2021-11-05T04:31:51.840862Z",
     "iopub.status.idle": "2021-11-05T04:31:51.854950Z",
     "shell.execute_reply": "2021-11-05T04:31:51.854414Z",
     "shell.execute_reply.started": "2021-11-05T04:31:51.841141Z"
    }
   },
   "outputs": [
    {
     "data": {
      "text/plain": [
       "'import sys\\nprint(sys.path)\\nx = 2\\nprint(x ** 32)\\n'"
      ]
     },
     "execution_count": 5,
     "metadata": {},
     "output_type": "execute_result"
    }
   ],
   "source": [
    "open('script2.py').read()"
   ]
  },
  {
   "cell_type": "markdown",
   "id": "55759338-55a5-4cde-bba0-36b5eafd4801",
   "metadata": {},
   "source": [
    "Using readline to detect the EOL"
   ]
  },
  {
   "cell_type": "code",
   "execution_count": 6,
   "id": "c9c2c08c-1fe2-41a9-9941-a060e32a2cd3",
   "metadata": {
    "execution": {
     "iopub.execute_input": "2021-11-05T04:32:52.522240Z",
     "iopub.status.busy": "2021-11-05T04:32:52.521948Z",
     "iopub.status.idle": "2021-11-05T04:32:52.528647Z",
     "shell.execute_reply": "2021-11-05T04:32:52.528125Z",
     "shell.execute_reply.started": "2021-11-05T04:32:52.522214Z"
    }
   },
   "outputs": [],
   "source": [
    "f = open('script2.py')"
   ]
  },
  {
   "cell_type": "code",
   "execution_count": 7,
   "id": "9a0c6ccc-e231-4b4b-bf90-cba9e835619e",
   "metadata": {
    "execution": {
     "iopub.execute_input": "2021-11-05T04:32:59.470105Z",
     "iopub.status.busy": "2021-11-05T04:32:59.469808Z",
     "iopub.status.idle": "2021-11-05T04:32:59.477492Z",
     "shell.execute_reply": "2021-11-05T04:32:59.476978Z",
     "shell.execute_reply.started": "2021-11-05T04:32:59.470079Z"
    }
   },
   "outputs": [
    {
     "data": {
      "text/plain": [
       "'import sys\\n'"
      ]
     },
     "execution_count": 7,
     "metadata": {},
     "output_type": "execute_result"
    }
   ],
   "source": [
    "f.readline()"
   ]
  },
  {
   "cell_type": "code",
   "execution_count": 8,
   "id": "38896ce1-fc94-48ee-8dda-5985c9ebd884",
   "metadata": {
    "execution": {
     "iopub.execute_input": "2021-11-05T04:33:03.649116Z",
     "iopub.status.busy": "2021-11-05T04:33:03.648820Z",
     "iopub.status.idle": "2021-11-05T04:33:03.657322Z",
     "shell.execute_reply": "2021-11-05T04:33:03.656764Z",
     "shell.execute_reply.started": "2021-11-05T04:33:03.649089Z"
    }
   },
   "outputs": [
    {
     "data": {
      "text/plain": [
       "'print(sys.path)\\n'"
      ]
     },
     "execution_count": 8,
     "metadata": {},
     "output_type": "execute_result"
    }
   ],
   "source": [
    "f.readline()"
   ]
  },
  {
   "cell_type": "code",
   "execution_count": 9,
   "id": "ffa1a8e7-5771-414c-b989-757cf3929eaa",
   "metadata": {
    "execution": {
     "iopub.execute_input": "2021-11-05T04:33:11.353873Z",
     "iopub.status.busy": "2021-11-05T04:33:11.353585Z",
     "iopub.status.idle": "2021-11-05T04:33:11.361240Z",
     "shell.execute_reply": "2021-11-05T04:33:11.360722Z",
     "shell.execute_reply.started": "2021-11-05T04:33:11.353848Z"
    }
   },
   "outputs": [
    {
     "data": {
      "text/plain": [
       "'x = 2\\n'"
      ]
     },
     "execution_count": 9,
     "metadata": {},
     "output_type": "execute_result"
    }
   ],
   "source": [
    "f.readline()"
   ]
  },
  {
   "cell_type": "code",
   "execution_count": 10,
   "id": "6bf08b89-85ef-4aec-be13-9e26e035bc26",
   "metadata": {
    "execution": {
     "iopub.execute_input": "2021-11-05T04:33:16.148792Z",
     "iopub.status.busy": "2021-11-05T04:33:16.148491Z",
     "iopub.status.idle": "2021-11-05T04:33:16.156382Z",
     "shell.execute_reply": "2021-11-05T04:33:16.155845Z",
     "shell.execute_reply.started": "2021-11-05T04:33:16.148767Z"
    }
   },
   "outputs": [
    {
     "data": {
      "text/plain": [
       "'print(x ** 32)\\n'"
      ]
     },
     "execution_count": 10,
     "metadata": {},
     "output_type": "execute_result"
    }
   ],
   "source": [
    "f.readline()  # Last lines may have a \\n or not."
   ]
  },
  {
   "cell_type": "code",
   "execution_count": 11,
   "id": "464d3c3c-d032-4906-bc13-4cacef8a06de",
   "metadata": {
    "execution": {
     "iopub.execute_input": "2021-11-05T04:33:26.168082Z",
     "iopub.status.busy": "2021-11-05T04:33:26.167793Z",
     "iopub.status.idle": "2021-11-05T04:33:26.175649Z",
     "shell.execute_reply": "2021-11-05T04:33:26.174999Z",
     "shell.execute_reply.started": "2021-11-05T04:33:26.168057Z"
    }
   },
   "outputs": [
    {
     "data": {
      "text/plain": [
       "''"
      ]
     },
     "execution_count": 11,
     "metadata": {},
     "output_type": "execute_result"
    }
   ],
   "source": [
    "f.readline()  # returns empty string at end of line."
   ]
  },
  {
   "cell_type": "markdown",
   "id": "602e0a3b-ee6d-4278-b1ac-445736d5fb48",
   "metadata": {},
   "source": [
    "reading a file with __next__() and observing builtin StopIteration"
   ]
  },
  {
   "cell_type": "code",
   "execution_count": 12,
   "id": "ec94b4aa-164b-4bd1-ac80-4179f8567254",
   "metadata": {
    "execution": {
     "iopub.execute_input": "2021-11-05T04:36:17.292471Z",
     "iopub.status.busy": "2021-11-05T04:36:17.292160Z",
     "iopub.status.idle": "2021-11-05T04:36:17.299547Z",
     "shell.execute_reply": "2021-11-05T04:36:17.299055Z",
     "shell.execute_reply.started": "2021-11-05T04:36:17.292443Z"
    }
   },
   "outputs": [],
   "source": [
    "f = open('script2.py')"
   ]
  },
  {
   "cell_type": "code",
   "execution_count": 13,
   "id": "e5c3e099-479b-42bc-9e00-4fd410bc4e70",
   "metadata": {
    "execution": {
     "iopub.execute_input": "2021-11-05T04:36:22.327795Z",
     "iopub.status.busy": "2021-11-05T04:36:22.327354Z",
     "iopub.status.idle": "2021-11-05T04:36:22.335420Z",
     "shell.execute_reply": "2021-11-05T04:36:22.334940Z",
     "shell.execute_reply.started": "2021-11-05T04:36:22.327764Z"
    }
   },
   "outputs": [
    {
     "data": {
      "text/plain": [
       "'import sys\\n'"
      ]
     },
     "execution_count": 13,
     "metadata": {},
     "output_type": "execute_result"
    }
   ],
   "source": [
    "f.__next__()"
   ]
  },
  {
   "cell_type": "code",
   "execution_count": 14,
   "id": "8b80c1d0-4045-4571-b043-150756b74217",
   "metadata": {
    "execution": {
     "iopub.execute_input": "2021-11-05T04:36:28.775622Z",
     "iopub.status.busy": "2021-11-05T04:36:28.775307Z",
     "iopub.status.idle": "2021-11-05T04:36:28.783793Z",
     "shell.execute_reply": "2021-11-05T04:36:28.783281Z",
     "shell.execute_reply.started": "2021-11-05T04:36:28.775594Z"
    }
   },
   "outputs": [
    {
     "data": {
      "text/plain": [
       "'print(sys.path)\\n'"
      ]
     },
     "execution_count": 14,
     "metadata": {},
     "output_type": "execute_result"
    }
   ],
   "source": [
    "f.__next__()"
   ]
  },
  {
   "cell_type": "code",
   "execution_count": 15,
   "id": "1f5561e2-7b31-46b4-9121-224354f4c7a2",
   "metadata": {
    "execution": {
     "iopub.execute_input": "2021-11-05T04:36:39.549770Z",
     "iopub.status.busy": "2021-11-05T04:36:39.549321Z",
     "iopub.status.idle": "2021-11-05T04:36:39.557454Z",
     "shell.execute_reply": "2021-11-05T04:36:39.556911Z",
     "shell.execute_reply.started": "2021-11-05T04:36:39.549741Z"
    }
   },
   "outputs": [
    {
     "data": {
      "text/plain": [
       "'x = 2\\n'"
      ]
     },
     "execution_count": 15,
     "metadata": {},
     "output_type": "execute_result"
    }
   ],
   "source": [
    "f.__next__()"
   ]
  },
  {
   "cell_type": "code",
   "execution_count": 16,
   "id": "b7ed9e18-80f8-4dea-85bc-5b2f07969214",
   "metadata": {
    "execution": {
     "iopub.execute_input": "2021-11-05T04:36:46.288566Z",
     "iopub.status.busy": "2021-11-05T04:36:46.288259Z",
     "iopub.status.idle": "2021-11-05T04:36:46.296890Z",
     "shell.execute_reply": "2021-11-05T04:36:46.296411Z",
     "shell.execute_reply.started": "2021-11-05T04:36:46.288539Z"
    }
   },
   "outputs": [
    {
     "data": {
      "text/plain": [
       "'print(x ** 32)\\n'"
      ]
     },
     "execution_count": 16,
     "metadata": {},
     "output_type": "execute_result"
    }
   ],
   "source": [
    "f.__next__()"
   ]
  },
  {
   "cell_type": "code",
   "execution_count": 17,
   "id": "27809533-8b01-4c49-b48a-de071d1de0e5",
   "metadata": {
    "execution": {
     "iopub.execute_input": "2021-11-05T04:36:51.937719Z",
     "iopub.status.busy": "2021-11-05T04:36:51.937420Z",
     "iopub.status.idle": "2021-11-05T04:36:51.949366Z",
     "shell.execute_reply": "2021-11-05T04:36:51.948618Z",
     "shell.execute_reply.started": "2021-11-05T04:36:51.937692Z"
    }
   },
   "outputs": [
    {
     "ename": "StopIteration",
     "evalue": "",
     "output_type": "error",
     "traceback": [
      "\u001b[0;31m---------------------------------------------------------------------------\u001b[0m",
      "\u001b[0;31mStopIteration\u001b[0m                             Traceback (most recent call last)",
      "\u001b[0;32m/tmp/ipykernel_18952/1328500492.py\u001b[0m in \u001b[0;36m<module>\u001b[0;34m\u001b[0m\n\u001b[0;32m----> 1\u001b[0;31m \u001b[0mf\u001b[0m\u001b[0;34m.\u001b[0m\u001b[0m__next__\u001b[0m\u001b[0;34m(\u001b[0m\u001b[0;34m)\u001b[0m\u001b[0;34m\u001b[0m\u001b[0;34m\u001b[0m\u001b[0m\n\u001b[0m",
      "\u001b[0;31mStopIteration\u001b[0m: "
     ]
    }
   ],
   "source": [
    "f.__next__()  # observing StopIteration as typical generator o/p"
   ]
  },
  {
   "cell_type": "markdown",
   "id": "018c5c70-c7ce-4549-b081-4347cfa46574",
   "metadata": {},
   "source": [
    "Using for loop to avoid the StopIteration and empty EOF o/p. for loop will take care of this automatically and it is a preferred method."
   ]
  },
  {
   "cell_type": "code",
   "execution_count": 19,
   "id": "a1d8ba45-401f-4c67-a4a7-5c3dcd44d685",
   "metadata": {
    "execution": {
     "iopub.execute_input": "2021-11-05T04:42:11.760083Z",
     "iopub.status.busy": "2021-11-05T04:42:11.759720Z",
     "iopub.status.idle": "2021-11-05T04:42:11.768478Z",
     "shell.execute_reply": "2021-11-05T04:42:11.767974Z",
     "shell.execute_reply.started": "2021-11-05T04:42:11.760054Z"
    },
    "tags": []
   },
   "outputs": [
    {
     "name": "stdout",
     "output_type": "stream",
     "text": [
      "IMPORT SYS\n",
      "PRINT(SYS.PATH)\n",
      "X = 2\n",
      "PRINT(X ** 32)\n"
     ]
    }
   ],
   "source": [
    "for line in open('script2.py'): print(line.upper(), end='')  # Use file iterators to read by lines\n",
    "# and calls __next__, catches StopIteration"
   ]
  },
  {
   "cell_type": "markdown",
   "id": "13a2db73-b308-4f47-a725-006a9e9e58a1",
   "metadata": {},
   "source": [
    "older method of reading the text file with readlines(). Its not a good practice as it loads everything into memory and then execute the same. Only for demonstration purpose. Do not use in actual code."
   ]
  },
  {
   "cell_type": "code",
   "execution_count": 20,
   "id": "b148b276-b923-4915-acc5-deb2d7e81fdd",
   "metadata": {
    "execution": {
     "iopub.execute_input": "2021-11-05T05:05:46.117048Z",
     "iopub.status.busy": "2021-11-05T05:05:46.116747Z",
     "iopub.status.idle": "2021-11-05T05:05:46.125435Z",
     "shell.execute_reply": "2021-11-05T05:05:46.124915Z",
     "shell.execute_reply.started": "2021-11-05T05:05:46.117021Z"
    }
   },
   "outputs": [
    {
     "name": "stdout",
     "output_type": "stream",
     "text": [
      "IMPORT SYS\n",
      "PRINT(SYS.PATH)\n",
      "X = 2\n",
      "PRINT(X ** 32)\n"
     ]
    }
   ],
   "source": [
    "for line in open('script2.py').readlines(): print(line.upper(), end='')"
   ]
  },
  {
   "cell_type": "markdown",
   "id": "00a46a23-b184-43d0-80f9-5282d45abdb8",
   "metadata": {},
   "source": [
    "One more way to acheive the read is via while loop, but we are sacrificing c code speed to python bytecode through the PVM. Trading python byte code for C code, speed tends to increase."
   ]
  },
  {
   "cell_type": "code",
   "execution_count": 21,
   "id": "35cc67bd-e8d9-43b1-bfd4-cca75e5087cb",
   "metadata": {
    "execution": {
     "iopub.execute_input": "2021-11-05T05:09:22.527254Z",
     "iopub.status.busy": "2021-11-05T05:09:22.526855Z",
     "iopub.status.idle": "2021-11-05T05:09:22.534397Z",
     "shell.execute_reply": "2021-11-05T05:09:22.533856Z",
     "shell.execute_reply.started": "2021-11-05T05:09:22.527225Z"
    }
   },
   "outputs": [],
   "source": [
    "f = open('script2.py')"
   ]
  },
  {
   "cell_type": "code",
   "execution_count": 23,
   "id": "801c0d53-e045-4e69-80f8-9216bce1e22c",
   "metadata": {
    "execution": {
     "iopub.execute_input": "2021-11-05T05:10:15.612226Z",
     "iopub.status.busy": "2021-11-05T05:10:15.611843Z",
     "iopub.status.idle": "2021-11-05T05:10:15.620349Z",
     "shell.execute_reply": "2021-11-05T05:10:15.619780Z",
     "shell.execute_reply.started": "2021-11-05T05:10:15.612198Z"
    },
    "tags": []
   },
   "outputs": [
    {
     "name": "stdout",
     "output_type": "stream",
     "text": [
      "IMPORT SYS\n",
      "PRINT(SYS.PATH)\n",
      "X = 2\n",
      "PRINT(X ** 32)\n"
     ]
    }
   ],
   "source": [
    "while True:\n",
    "    line = f.readline()\n",
    "    if not line: break\n",
    "    print(line.upper(), end='')"
   ]
  },
  {
   "cell_type": "markdown",
   "id": "c2345165-a6d3-46f8-9595-112f0547c193",
   "metadata": {},
   "source": [
    "Internal code of iteration for somethinglike lists."
   ]
  },
  {
   "cell_type": "code",
   "execution_count": 24,
   "id": "128209e4-bfe5-4c61-b43b-221ea32d98e8",
   "metadata": {
    "execution": {
     "iopub.execute_input": "2021-11-05T07:45:20.292978Z",
     "iopub.status.busy": "2021-11-05T07:45:20.292662Z",
     "iopub.status.idle": "2021-11-05T07:45:20.302190Z",
     "shell.execute_reply": "2021-11-05T07:45:20.299696Z",
     "shell.execute_reply.started": "2021-11-05T07:45:20.292950Z"
    }
   },
   "outputs": [],
   "source": [
    "L = [1, 2, 3]"
   ]
  },
  {
   "cell_type": "code",
   "execution_count": 25,
   "id": "868f505d-96ce-46cf-9096-db31d35dcd01",
   "metadata": {
    "execution": {
     "iopub.execute_input": "2021-11-05T07:45:28.752162Z",
     "iopub.status.busy": "2021-11-05T07:45:28.750504Z",
     "iopub.status.idle": "2021-11-05T07:45:28.763638Z",
     "shell.execute_reply": "2021-11-05T07:45:28.762917Z",
     "shell.execute_reply.started": "2021-11-05T07:45:28.752123Z"
    }
   },
   "outputs": [],
   "source": [
    "I = iter(L)"
   ]
  },
  {
   "cell_type": "code",
   "execution_count": 26,
   "id": "5fa9cda0-e61c-4091-ae57-15f8055acc96",
   "metadata": {
    "execution": {
     "iopub.execute_input": "2021-11-05T07:45:34.193631Z",
     "iopub.status.busy": "2021-11-05T07:45:34.193182Z",
     "iopub.status.idle": "2021-11-05T07:45:34.201706Z",
     "shell.execute_reply": "2021-11-05T07:45:34.201159Z",
     "shell.execute_reply.started": "2021-11-05T07:45:34.193600Z"
    }
   },
   "outputs": [
    {
     "data": {
      "text/plain": [
       "1"
      ]
     },
     "execution_count": 26,
     "metadata": {},
     "output_type": "execute_result"
    }
   ],
   "source": [
    "I.__next__()"
   ]
  },
  {
   "cell_type": "code",
   "execution_count": 28,
   "id": "ee6df911-eecf-4cba-b435-669514df18c6",
   "metadata": {
    "execution": {
     "iopub.execute_input": "2021-11-05T07:46:00.705871Z",
     "iopub.status.busy": "2021-11-05T07:46:00.705526Z",
     "iopub.status.idle": "2021-11-05T07:46:00.715927Z",
     "shell.execute_reply": "2021-11-05T07:46:00.715169Z",
     "shell.execute_reply.started": "2021-11-05T07:46:00.705844Z"
    },
    "tags": []
   },
   "outputs": [
    {
     "ename": "StopIteration",
     "evalue": "",
     "output_type": "error",
     "traceback": [
      "\u001b[0;31m---------------------------------------------------------------------------\u001b[0m",
      "\u001b[0;31mStopIteration\u001b[0m                             Traceback (most recent call last)",
      "\u001b[0;32m/tmp/ipykernel_18952/1661952106.py\u001b[0m in \u001b[0;36m<module>\u001b[0;34m\u001b[0m\n\u001b[0;32m----> 1\u001b[0;31m \u001b[0mI\u001b[0m\u001b[0;34m.\u001b[0m\u001b[0m__next__\u001b[0m\u001b[0;34m(\u001b[0m\u001b[0;34m)\u001b[0m\u001b[0;34m\u001b[0m\u001b[0;34m\u001b[0m\u001b[0m\n\u001b[0m\u001b[1;32m      2\u001b[0m \u001b[0mI\u001b[0m\u001b[0;34m.\u001b[0m\u001b[0m__next__\u001b[0m\u001b[0;34m(\u001b[0m\u001b[0;34m)\u001b[0m\u001b[0;34m\u001b[0m\u001b[0;34m\u001b[0m\u001b[0m\n\u001b[1;32m      3\u001b[0m \u001b[0mI\u001b[0m\u001b[0;34m.\u001b[0m\u001b[0m__next__\u001b[0m\u001b[0;34m(\u001b[0m\u001b[0;34m)\u001b[0m\u001b[0;34m\u001b[0m\u001b[0;34m\u001b[0m\u001b[0m\n",
      "\u001b[0;31mStopIteration\u001b[0m: "
     ]
    }
   ],
   "source": [
    "I.__next__()\n",
    "I.__next__()\n",
    "I.__next__()"
   ]
  },
  {
   "cell_type": "markdown",
   "id": "21b7985f-19da-49ad-a9bf-a891856a765e",
   "metadata": {},
   "source": [
    "No need to iter the file as it is its own iterator."
   ]
  },
  {
   "cell_type": "code",
   "execution_count": 29,
   "id": "0a188acb-5574-4b6e-8322-1f5f01c8007e",
   "metadata": {
    "execution": {
     "iopub.execute_input": "2021-11-05T07:46:38.554951Z",
     "iopub.status.busy": "2021-11-05T07:46:38.554660Z",
     "iopub.status.idle": "2021-11-05T07:46:38.562181Z",
     "shell.execute_reply": "2021-11-05T07:46:38.561545Z",
     "shell.execute_reply.started": "2021-11-05T07:46:38.554925Z"
    }
   },
   "outputs": [],
   "source": [
    "f = open('script2.py')"
   ]
  },
  {
   "cell_type": "code",
   "execution_count": 30,
   "id": "5f667289-9286-4347-ba68-eb909ca46046",
   "metadata": {
    "execution": {
     "iopub.execute_input": "2021-11-05T07:46:44.155976Z",
     "iopub.status.busy": "2021-11-05T07:46:44.155655Z",
     "iopub.status.idle": "2021-11-05T07:46:44.164381Z",
     "shell.execute_reply": "2021-11-05T07:46:44.163832Z",
     "shell.execute_reply.started": "2021-11-05T07:46:44.155935Z"
    }
   },
   "outputs": [
    {
     "data": {
      "text/plain": [
       "True"
      ]
     },
     "execution_count": 30,
     "metadata": {},
     "output_type": "execute_result"
    }
   ],
   "source": [
    "iter(f) is f"
   ]
  },
  {
   "cell_type": "code",
   "execution_count": 31,
   "id": "9059ebfc-9c73-4597-a1ea-e7973b3f876b",
   "metadata": {
    "execution": {
     "iopub.execute_input": "2021-11-05T07:47:03.968752Z",
     "iopub.status.busy": "2021-11-05T07:47:03.968470Z",
     "iopub.status.idle": "2021-11-05T07:47:03.976706Z",
     "shell.execute_reply": "2021-11-05T07:47:03.976186Z",
     "shell.execute_reply.started": "2021-11-05T07:47:03.968727Z"
    }
   },
   "outputs": [
    {
     "data": {
      "text/plain": [
       "True"
      ]
     },
     "execution_count": 31,
     "metadata": {},
     "output_type": "execute_result"
    }
   ],
   "source": [
    "iter(f) is f.__iter__()"
   ]
  },
  {
   "cell_type": "code",
   "execution_count": 32,
   "id": "fa954d0b-e3d6-4824-9c66-4e58149dbece",
   "metadata": {
    "execution": {
     "iopub.execute_input": "2021-11-05T07:47:12.125074Z",
     "iopub.status.busy": "2021-11-05T07:47:12.124784Z",
     "iopub.status.idle": "2021-11-05T07:47:12.132775Z",
     "shell.execute_reply": "2021-11-05T07:47:12.132165Z",
     "shell.execute_reply.started": "2021-11-05T07:47:12.125047Z"
    }
   },
   "outputs": [
    {
     "data": {
      "text/plain": [
       "'import sys\\n'"
      ]
     },
     "execution_count": 32,
     "metadata": {},
     "output_type": "execute_result"
    }
   ],
   "source": [
    "f.__next__()"
   ]
  },
  {
   "cell_type": "markdown",
   "id": "cce9073f-8be2-49ef-bdd4-5084e9fab294",
   "metadata": {},
   "source": [
    "Lists and many other object are ot their own iterators because they support multiple open iterators"
   ]
  },
  {
   "cell_type": "code",
   "execution_count": 33,
   "id": "dca3f969-af9e-43aa-be7f-ff5a21095a15",
   "metadata": {
    "execution": {
     "iopub.execute_input": "2021-11-05T07:52:18.982565Z",
     "iopub.status.busy": "2021-11-05T07:52:18.982267Z",
     "iopub.status.idle": "2021-11-05T07:52:18.989453Z",
     "shell.execute_reply": "2021-11-05T07:52:18.988845Z",
     "shell.execute_reply.started": "2021-11-05T07:52:18.982539Z"
    }
   },
   "outputs": [],
   "source": [
    "L = [1, 2, 3]"
   ]
  },
  {
   "cell_type": "code",
   "execution_count": 34,
   "id": "b4c1d67e-fb98-48a7-9b64-74e63a575453",
   "metadata": {
    "execution": {
     "iopub.execute_input": "2021-11-05T07:52:25.366869Z",
     "iopub.status.busy": "2021-11-05T07:52:25.366549Z",
     "iopub.status.idle": "2021-11-05T07:52:25.374646Z",
     "shell.execute_reply": "2021-11-05T07:52:25.374080Z",
     "shell.execute_reply.started": "2021-11-05T07:52:25.366843Z"
    }
   },
   "outputs": [
    {
     "data": {
      "text/plain": [
       "False"
      ]
     },
     "execution_count": 34,
     "metadata": {},
     "output_type": "execute_result"
    }
   ],
   "source": [
    "iter(L) is L"
   ]
  },
  {
   "cell_type": "code",
   "execution_count": 35,
   "id": "81df0013-979c-4be4-8153-7d536174c177",
   "metadata": {
    "execution": {
     "iopub.execute_input": "2021-11-05T07:52:31.737648Z",
     "iopub.status.busy": "2021-11-05T07:52:31.737313Z",
     "iopub.status.idle": "2021-11-05T07:52:31.747690Z",
     "shell.execute_reply": "2021-11-05T07:52:31.746870Z",
     "shell.execute_reply.started": "2021-11-05T07:52:31.737622Z"
    }
   },
   "outputs": [
    {
     "ename": "AttributeError",
     "evalue": "'list' object has no attribute '__next__'",
     "output_type": "error",
     "traceback": [
      "\u001b[0;31m---------------------------------------------------------------------------\u001b[0m",
      "\u001b[0;31mAttributeError\u001b[0m                            Traceback (most recent call last)",
      "\u001b[0;32m/tmp/ipykernel_18952/2794946690.py\u001b[0m in \u001b[0;36m<module>\u001b[0;34m\u001b[0m\n\u001b[0;32m----> 1\u001b[0;31m \u001b[0mL\u001b[0m\u001b[0;34m.\u001b[0m\u001b[0m__next__\u001b[0m\u001b[0;34m(\u001b[0m\u001b[0;34m)\u001b[0m\u001b[0;34m\u001b[0m\u001b[0;34m\u001b[0m\u001b[0m\n\u001b[0m",
      "\u001b[0;31mAttributeError\u001b[0m: 'list' object has no attribute '__next__'"
     ]
    }
   ],
   "source": [
    "L.__next__()"
   ]
  },
  {
   "cell_type": "code",
   "execution_count": 36,
   "id": "6b6b6761-67ac-42c4-a2e9-52325e5fd8be",
   "metadata": {
    "execution": {
     "iopub.execute_input": "2021-11-05T07:52:41.104530Z",
     "iopub.status.busy": "2021-11-05T07:52:41.104172Z",
     "iopub.status.idle": "2021-11-05T07:52:41.111293Z",
     "shell.execute_reply": "2021-11-05T07:52:41.110632Z",
     "shell.execute_reply.started": "2021-11-05T07:52:41.104502Z"
    }
   },
   "outputs": [],
   "source": [
    "I = iter(L)"
   ]
  },
  {
   "cell_type": "code",
   "execution_count": 37,
   "id": "42d5cdec-90c2-457b-8a4e-a94ff37d3952",
   "metadata": {
    "execution": {
     "iopub.execute_input": "2021-11-05T07:52:47.377122Z",
     "iopub.status.busy": "2021-11-05T07:52:47.375998Z",
     "iopub.status.idle": "2021-11-05T07:52:47.384230Z",
     "shell.execute_reply": "2021-11-05T07:52:47.383695Z",
     "shell.execute_reply.started": "2021-11-05T07:52:47.377088Z"
    }
   },
   "outputs": [
    {
     "data": {
      "text/plain": [
       "1"
      ]
     },
     "execution_count": 37,
     "metadata": {},
     "output_type": "execute_result"
    }
   ],
   "source": [
    "I.__next__()"
   ]
  },
  {
   "cell_type": "markdown",
   "id": "b29628ae-b1fa-4d01-9792-495289b37681",
   "metadata": {},
   "source": [
    "Manual iteration.\n",
    "System will handle this automatically but we can still simulate it."
   ]
  },
  {
   "cell_type": "code",
   "execution_count": 38,
   "id": "04e1bbba-ca84-42f6-8ab4-1c5c5531335e",
   "metadata": {
    "execution": {
     "iopub.execute_input": "2021-11-05T07:54:10.577989Z",
     "iopub.status.busy": "2021-11-05T07:54:10.577698Z",
     "iopub.status.idle": "2021-11-05T07:54:10.586027Z",
     "shell.execute_reply": "2021-11-05T07:54:10.585412Z",
     "shell.execute_reply.started": "2021-11-05T07:54:10.577963Z"
    }
   },
   "outputs": [
    {
     "name": "stdout",
     "output_type": "stream",
     "text": [
      "1 4 9 "
     ]
    }
   ],
   "source": [
    "# automatic iteration handled by system.\n",
    "L = [1, 2, 3]\n",
    "for X in L: print(X ** 2, end=' ')"
   ]
  },
  {
   "cell_type": "code",
   "execution_count": 43,
   "id": "a29ffd5d-ef9a-4ea2-9d83-41c32f3e734f",
   "metadata": {
    "execution": {
     "iopub.execute_input": "2021-11-05T07:57:49.001368Z",
     "iopub.status.busy": "2021-11-05T07:57:49.001015Z",
     "iopub.status.idle": "2021-11-05T07:57:49.011007Z",
     "shell.execute_reply": "2021-11-05T07:57:49.010336Z",
     "shell.execute_reply.started": "2021-11-05T07:57:49.001336Z"
    },
    "tags": []
   },
   "outputs": [
    {
     "name": "stdout",
     "output_type": "stream",
     "text": [
      "1 4 9 "
     ]
    }
   ],
   "source": [
    "# handling the iteration manually.\n",
    "L = [1, 2, 3]\n",
    "I = iter(L)\n",
    "while True:\n",
    "    try:\n",
    "        X = I.__next__()\n",
    "    except StopIteration:\n",
    "        break\n",
    "    print(X ** 2, end=' ')"
   ]
  },
  {
   "cell_type": "markdown",
   "id": "b291a27b-c512-4c15-a192-ec550802db66",
   "metadata": {},
   "source": [
    "Other Built-In Type Iterables"
   ]
  },
  {
   "cell_type": "code",
   "execution_count": 44,
   "id": "f2440d09-dc3c-4e49-8bc9-d74435f1a434",
   "metadata": {
    "execution": {
     "iopub.execute_input": "2021-11-05T14:50:43.099241Z",
     "iopub.status.busy": "2021-11-05T14:50:43.098936Z",
     "iopub.status.idle": "2021-11-05T14:50:43.107782Z",
     "shell.execute_reply": "2021-11-05T14:50:43.107251Z",
     "shell.execute_reply.started": "2021-11-05T14:50:43.099214Z"
    }
   },
   "outputs": [
    {
     "name": "stdout",
     "output_type": "stream",
     "text": [
      "a 1\n",
      "b 2\n",
      "c 3\n"
     ]
    }
   ],
   "source": [
    "D = {'a': 1, 'b': 2, 'c': 3}\n",
    "for key in D.keys(): print(key, D[key])"
   ]
  },
  {
   "cell_type": "code",
   "execution_count": 45,
   "id": "11e6f6cf-f401-43b3-9030-bbe1749afba3",
   "metadata": {
    "execution": {
     "iopub.execute_input": "2021-11-05T14:51:34.185882Z",
     "iopub.status.busy": "2021-11-05T14:51:34.185592Z",
     "iopub.status.idle": "2021-11-05T14:51:34.192622Z",
     "shell.execute_reply": "2021-11-05T14:51:34.192094Z",
     "shell.execute_reply.started": "2021-11-05T14:51:34.185857Z"
    }
   },
   "outputs": [],
   "source": [
    "# dictionaries are iterables too.\n",
    "D = {'a': 1, 'b': 2, 'c': 3}\n",
    "I = iter(D)"
   ]
  },
  {
   "cell_type": "code",
   "execution_count": 46,
   "id": "11b399c6-e305-4f31-a2e8-0c1043ae389f",
   "metadata": {
    "execution": {
     "iopub.execute_input": "2021-11-05T14:51:42.801895Z",
     "iopub.status.busy": "2021-11-05T14:51:42.801605Z",
     "iopub.status.idle": "2021-11-05T14:51:42.809663Z",
     "shell.execute_reply": "2021-11-05T14:51:42.809058Z",
     "shell.execute_reply.started": "2021-11-05T14:51:42.801869Z"
    }
   },
   "outputs": [
    {
     "data": {
      "text/plain": [
       "'a'"
      ]
     },
     "execution_count": 46,
     "metadata": {},
     "output_type": "execute_result"
    }
   ],
   "source": [
    "I.__next__()"
   ]
  },
  {
   "cell_type": "code",
   "execution_count": 47,
   "id": "34e7bd5e-03ef-4875-8ddb-1dc9fd54be49",
   "metadata": {
    "execution": {
     "iopub.execute_input": "2021-11-05T14:54:31.331950Z",
     "iopub.status.busy": "2021-11-05T14:54:31.331665Z",
     "iopub.status.idle": "2021-11-05T14:54:31.340378Z",
     "shell.execute_reply": "2021-11-05T14:54:31.339763Z",
     "shell.execute_reply.started": "2021-11-05T14:54:31.331925Z"
    }
   },
   "outputs": [
    {
     "name": "stdout",
     "output_type": "stream",
     "text": [
      "a 1\n",
      "b 2\n",
      "c 3\n"
     ]
    }
   ],
   "source": [
    "# We no longer need to call the keys method to step through dictionary keys as a net effect.\n",
    "D = {'a': 1, 'b': 2, 'c': 3}\n",
    "for keys in D: print(keys, D[keys])"
   ]
  },
  {
   "cell_type": "code",
   "execution_count": 50,
   "id": "b9bfebff-0852-45a7-ba68-16757daac0fd",
   "metadata": {
    "execution": {
     "iopub.execute_input": "2021-11-05T14:56:39.099413Z",
     "iopub.status.busy": "2021-11-05T14:56:39.099060Z",
     "iopub.status.idle": "2021-11-05T14:56:39.124407Z",
     "shell.execute_reply": "2021-11-05T14:56:39.123586Z",
     "shell.execute_reply.started": "2021-11-05T14:56:39.099386Z"
    },
    "tags": []
   },
   "outputs": [],
   "source": [
    "# iterating through os.open\n",
    "import os\n",
    "p = os.popen('uname -r')"
   ]
  },
  {
   "cell_type": "code",
   "execution_count": 51,
   "id": "c7bb7beb-4d3e-4a7a-9bd1-f069ba782589",
   "metadata": {
    "execution": {
     "iopub.execute_input": "2021-11-05T14:56:40.105062Z",
     "iopub.status.busy": "2021-11-05T14:56:40.104758Z",
     "iopub.status.idle": "2021-11-05T14:56:40.114239Z",
     "shell.execute_reply": "2021-11-05T14:56:40.113725Z",
     "shell.execute_reply.started": "2021-11-05T14:56:40.105034Z"
    },
    "tags": []
   },
   "outputs": [
    {
     "data": {
      "text/plain": [
       "'3.10.0-1160.42.2.el7.x86_64\\n'"
      ]
     },
     "execution_count": 51,
     "metadata": {},
     "output_type": "execute_result"
    }
   ],
   "source": [
    "p.__next__()"
   ]
  },
  {
   "cell_type": "code",
   "execution_count": 52,
   "id": "9746e666-e4b2-4af6-9f43-b3af740691ea",
   "metadata": {
    "execution": {
     "iopub.execute_input": "2021-11-05T14:56:51.586619Z",
     "iopub.status.busy": "2021-11-05T14:56:51.586315Z",
     "iopub.status.idle": "2021-11-05T14:56:51.596755Z",
     "shell.execute_reply": "2021-11-05T14:56:51.595934Z",
     "shell.execute_reply.started": "2021-11-05T14:56:51.586594Z"
    }
   },
   "outputs": [
    {
     "ename": "StopIteration",
     "evalue": "",
     "output_type": "error",
     "traceback": [
      "\u001b[0;31m---------------------------------------------------------------------------\u001b[0m",
      "\u001b[0;31mStopIteration\u001b[0m                             Traceback (most recent call last)",
      "\u001b[0;32m/tmp/ipykernel_18952/728627596.py\u001b[0m in \u001b[0;36m<module>\u001b[0;34m\u001b[0m\n\u001b[0;32m----> 1\u001b[0;31m \u001b[0mp\u001b[0m\u001b[0;34m.\u001b[0m\u001b[0m__next__\u001b[0m\u001b[0;34m(\u001b[0m\u001b[0;34m)\u001b[0m\u001b[0;34m\u001b[0m\u001b[0;34m\u001b[0m\u001b[0m\n\u001b[0m",
      "\u001b[0;31mStopIteration\u001b[0m: "
     ]
    }
   ],
   "source": [
    "p.__next__()"
   ]
  },
  {
   "cell_type": "code",
   "execution_count": 53,
   "id": "e368d123-039a-4036-ae2f-973aedf41cd5",
   "metadata": {
    "execution": {
     "iopub.execute_input": "2021-11-05T15:02:10.468432Z",
     "iopub.status.busy": "2021-11-05T15:02:10.468122Z",
     "iopub.status.idle": "2021-11-05T15:02:10.475111Z",
     "shell.execute_reply": "2021-11-05T15:02:10.474516Z",
     "shell.execute_reply.started": "2021-11-05T15:02:10.468406Z"
    }
   },
   "outputs": [],
   "source": [
    "# Running iteration on range function\n",
    "R = range(5)"
   ]
  },
  {
   "cell_type": "code",
   "execution_count": 54,
   "id": "f82cb93f-6db9-44d4-97ff-e48f4d4817e6",
   "metadata": {
    "execution": {
     "iopub.execute_input": "2021-11-05T15:02:11.797060Z",
     "iopub.status.busy": "2021-11-05T15:02:11.796723Z",
     "iopub.status.idle": "2021-11-05T15:02:11.804823Z",
     "shell.execute_reply": "2021-11-05T15:02:11.804246Z",
     "shell.execute_reply.started": "2021-11-05T15:02:11.797035Z"
    }
   },
   "outputs": [
    {
     "data": {
      "text/plain": [
       "range(0, 5)"
      ]
     },
     "execution_count": 54,
     "metadata": {},
     "output_type": "execute_result"
    }
   ],
   "source": [
    "R"
   ]
  },
  {
   "cell_type": "code",
   "execution_count": 56,
   "id": "89f74edc-eedd-4db2-abd7-73ea2c3fb2df",
   "metadata": {
    "execution": {
     "iopub.execute_input": "2021-11-05T15:02:28.327765Z",
     "iopub.status.busy": "2021-11-05T15:02:28.327491Z",
     "iopub.status.idle": "2021-11-05T15:02:28.334814Z",
     "shell.execute_reply": "2021-11-05T15:02:28.334142Z",
     "shell.execute_reply.started": "2021-11-05T15:02:28.327741Z"
    },
    "tags": []
   },
   "outputs": [],
   "source": [
    "I = iter(R)  # Use iteration protocol to produce results."
   ]
  },
  {
   "cell_type": "code",
   "execution_count": 57,
   "id": "d1c2aa4f-f546-4ef7-abdd-ff9e918307ca",
   "metadata": {
    "execution": {
     "iopub.execute_input": "2021-11-05T15:02:38.173822Z",
     "iopub.status.busy": "2021-11-05T15:02:38.173535Z",
     "iopub.status.idle": "2021-11-05T15:02:38.181459Z",
     "shell.execute_reply": "2021-11-05T15:02:38.180911Z",
     "shell.execute_reply.started": "2021-11-05T15:02:38.173796Z"
    }
   },
   "outputs": [
    {
     "data": {
      "text/plain": [
       "0"
      ]
     },
     "execution_count": 57,
     "metadata": {},
     "output_type": "execute_result"
    }
   ],
   "source": [
    "I.__next__()  "
   ]
  },
  {
   "cell_type": "code",
   "execution_count": 58,
   "id": "dfb559f8-5385-46cf-9df3-89befd21c53e",
   "metadata": {
    "execution": {
     "iopub.execute_input": "2021-11-05T15:02:49.953317Z",
     "iopub.status.busy": "2021-11-05T15:02:49.953032Z",
     "iopub.status.idle": "2021-11-05T15:02:49.961432Z",
     "shell.execute_reply": "2021-11-05T15:02:49.960839Z",
     "shell.execute_reply.started": "2021-11-05T15:02:49.953291Z"
    }
   },
   "outputs": [
    {
     "data": {
      "text/plain": [
       "[0, 1, 2, 3, 4]"
      ]
     },
     "execution_count": 58,
     "metadata": {},
     "output_type": "execute_result"
    }
   ],
   "source": [
    "list(range(5))  # Using the list to collect all the results at once."
   ]
  },
  {
   "cell_type": "code",
   "execution_count": 59,
   "id": "b4b38111-ed17-46ff-a7ec-14480909c4e1",
   "metadata": {
    "execution": {
     "iopub.execute_input": "2021-11-05T15:04:33.471351Z",
     "iopub.status.busy": "2021-11-05T15:04:33.470991Z",
     "iopub.status.idle": "2021-11-05T15:04:33.478226Z",
     "shell.execute_reply": "2021-11-05T15:04:33.477610Z",
     "shell.execute_reply.started": "2021-11-05T15:04:33.471323Z"
    }
   },
   "outputs": [],
   "source": [
    "# Using iter protocol on enumerate\n",
    "E = enumerate('spam')"
   ]
  },
  {
   "cell_type": "code",
   "execution_count": 60,
   "id": "63aaff26-6023-4180-9bdb-e7abcee872af",
   "metadata": {
    "execution": {
     "iopub.execute_input": "2021-11-05T15:04:34.797779Z",
     "iopub.status.busy": "2021-11-05T15:04:34.797462Z",
     "iopub.status.idle": "2021-11-05T15:04:34.804880Z",
     "shell.execute_reply": "2021-11-05T15:04:34.804380Z",
     "shell.execute_reply.started": "2021-11-05T15:04:34.797753Z"
    }
   },
   "outputs": [
    {
     "data": {
      "text/plain": [
       "<enumerate at 0x7fe7c6566780>"
      ]
     },
     "execution_count": 60,
     "metadata": {},
     "output_type": "execute_result"
    }
   ],
   "source": [
    "E"
   ]
  },
  {
   "cell_type": "code",
   "execution_count": 61,
   "id": "fecbcb14-7725-459d-ac46-41ec05182ca1",
   "metadata": {
    "execution": {
     "iopub.execute_input": "2021-11-05T15:04:43.909133Z",
     "iopub.status.busy": "2021-11-05T15:04:43.908804Z",
     "iopub.status.idle": "2021-11-05T15:04:43.915604Z",
     "shell.execute_reply": "2021-11-05T15:04:43.915094Z",
     "shell.execute_reply.started": "2021-11-05T15:04:43.909108Z"
    }
   },
   "outputs": [],
   "source": [
    "I = iter(E)"
   ]
  },
  {
   "cell_type": "code",
   "execution_count": 62,
   "id": "6f27e0dd-2b80-4b54-9d7f-27bd3ffed166",
   "metadata": {
    "execution": {
     "iopub.execute_input": "2021-11-05T15:04:54.800764Z",
     "iopub.status.busy": "2021-11-05T15:04:54.799857Z",
     "iopub.status.idle": "2021-11-05T15:04:54.808002Z",
     "shell.execute_reply": "2021-11-05T15:04:54.807452Z",
     "shell.execute_reply.started": "2021-11-05T15:04:54.800736Z"
    }
   },
   "outputs": [
    {
     "data": {
      "text/plain": [
       "(0, 's')"
      ]
     },
     "execution_count": 62,
     "metadata": {},
     "output_type": "execute_result"
    }
   ],
   "source": [
    "I.__next__()"
   ]
  },
  {
   "cell_type": "code",
   "execution_count": 63,
   "id": "f3795b49-27cd-43d9-b888-4f98f7aefd77",
   "metadata": {
    "execution": {
     "iopub.execute_input": "2021-11-05T15:05:07.263680Z",
     "iopub.status.busy": "2021-11-05T15:05:07.263325Z",
     "iopub.status.idle": "2021-11-05T15:05:07.270897Z",
     "shell.execute_reply": "2021-11-05T15:05:07.270386Z",
     "shell.execute_reply.started": "2021-11-05T15:05:07.263652Z"
    }
   },
   "outputs": [
    {
     "data": {
      "text/plain": [
       "(1, 'p')"
      ]
     },
     "execution_count": 63,
     "metadata": {},
     "output_type": "execute_result"
    }
   ],
   "source": [
    "I.__next__()"
   ]
  },
  {
   "cell_type": "code",
   "execution_count": 64,
   "id": "2065a457-5263-4b88-9608-087e5822cd07",
   "metadata": {
    "execution": {
     "iopub.execute_input": "2021-11-05T15:05:20.985204Z",
     "iopub.status.busy": "2021-11-05T15:05:20.984867Z",
     "iopub.status.idle": "2021-11-05T15:05:20.992679Z",
     "shell.execute_reply": "2021-11-05T15:05:20.992172Z",
     "shell.execute_reply.started": "2021-11-05T15:05:20.985178Z"
    }
   },
   "outputs": [
    {
     "data": {
      "text/plain": [
       "[(0, 's'), (1, 'p'), (2, 'a'), (3, 'm')]"
      ]
     },
     "execution_count": 64,
     "metadata": {},
     "output_type": "execute_result"
    }
   ],
   "source": [
    "list(enumerate('spam'))"
   ]
  },
  {
   "cell_type": "code",
   "execution_count": 65,
   "id": "7a871428-ef64-4520-9777-62aab993a82c",
   "metadata": {
    "execution": {
     "iopub.execute_input": "2021-11-05T15:07:04.488304Z",
     "iopub.status.busy": "2021-11-05T15:07:04.488021Z",
     "iopub.status.idle": "2021-11-05T15:07:04.494352Z",
     "shell.execute_reply": "2021-11-05T15:07:04.493789Z",
     "shell.execute_reply.started": "2021-11-05T15:07:04.488278Z"
    }
   },
   "outputs": [],
   "source": [
    "# Everything that scans left to right in Python employs the iteration protocol in the same way\n",
    "# including the topic of the next section."
   ]
  },
  {
   "cell_type": "markdown",
   "id": "51d54690-1de7-403f-a221-53c2f178c96e",
   "metadata": {},
   "source": [
    "List comprehensions: A first detailed look"
   ]
  },
  {
   "cell_type": "code",
   "execution_count": 66,
   "id": "3e8e2c9e-a614-48e6-a039-8f480df99849",
   "metadata": {
    "execution": {
     "iopub.execute_input": "2021-11-05T15:08:25.773443Z",
     "iopub.status.busy": "2021-11-05T15:08:25.773086Z",
     "iopub.status.idle": "2021-11-05T15:08:25.779884Z",
     "shell.execute_reply": "2021-11-05T15:08:25.779353Z",
     "shell.execute_reply.started": "2021-11-05T15:08:25.773415Z"
    }
   },
   "outputs": [],
   "source": [
    "L = [1, 2, 3, 4, 5]"
   ]
  },
  {
   "cell_type": "code",
   "execution_count": 67,
   "id": "e43b4097-2aaa-4c2c-840c-a362c2195617",
   "metadata": {
    "execution": {
     "iopub.execute_input": "2021-11-05T15:09:02.957158Z",
     "iopub.status.busy": "2021-11-05T15:09:02.956812Z",
     "iopub.status.idle": "2021-11-05T15:09:02.964356Z",
     "shell.execute_reply": "2021-11-05T15:09:02.963792Z",
     "shell.execute_reply.started": "2021-11-05T15:09:02.957133Z"
    }
   },
   "outputs": [],
   "source": [
    "for i in range(len(L)): L[i] += 10  # Updating a list. Not so optimal method."
   ]
  },
  {
   "cell_type": "code",
   "execution_count": 68,
   "id": "9ebe117c-7c7e-41cd-be93-288c265732c1",
   "metadata": {
    "execution": {
     "iopub.execute_input": "2021-11-05T15:09:05.070431Z",
     "iopub.status.busy": "2021-11-05T15:09:05.070082Z",
     "iopub.status.idle": "2021-11-05T15:09:05.078724Z",
     "shell.execute_reply": "2021-11-05T15:09:05.078163Z",
     "shell.execute_reply.started": "2021-11-05T15:09:05.070405Z"
    }
   },
   "outputs": [
    {
     "data": {
      "text/plain": [
       "[11, 12, 13, 14, 15]"
      ]
     },
     "execution_count": 68,
     "metadata": {},
     "output_type": "execute_result"
    }
   ],
   "source": [
    "L"
   ]
  },
  {
   "cell_type": "code",
   "execution_count": 71,
   "id": "eac758ce-73f5-425a-9a11-f7af2e701883",
   "metadata": {
    "execution": {
     "iopub.execute_input": "2021-11-05T15:12:32.047247Z",
     "iopub.status.busy": "2021-11-05T15:12:32.046924Z",
     "iopub.status.idle": "2021-11-05T15:12:32.055624Z",
     "shell.execute_reply": "2021-11-05T15:12:32.055142Z",
     "shell.execute_reply.started": "2021-11-05T15:12:32.047221Z"
    },
    "tags": []
   },
   "outputs": [
    {
     "data": {
      "text/plain": [
       "[21, 22, 23, 24, 25]"
      ]
     },
     "execution_count": 71,
     "metadata": {},
     "output_type": "execute_result"
    }
   ],
   "source": [
    "# Using list comprehension\n",
    "L = [1, 2, 3, 4, 5]\n",
    "L = [x + 20 for x in L]\n",
    "L"
   ]
  },
  {
   "cell_type": "markdown",
   "id": "4023b03c-4ea6-4f11-be9c-173b77305984",
   "metadata": {},
   "source": [
    "List comprehension basics"
   ]
  },
  {
   "cell_type": "code",
   "execution_count": 72,
   "id": "5a004b9c-f628-4c4c-b6aa-38874725db60",
   "metadata": {
    "execution": {
     "iopub.execute_input": "2021-11-05T15:14:09.469728Z",
     "iopub.status.busy": "2021-11-05T15:14:09.469440Z",
     "iopub.status.idle": "2021-11-05T15:14:09.477869Z",
     "shell.execute_reply": "2021-11-05T15:14:09.477405Z",
     "shell.execute_reply.started": "2021-11-05T15:14:09.469703Z"
    }
   },
   "outputs": [
    {
     "data": {
      "text/plain": [
       "[31, 32, 33, 34, 35]"
      ]
     },
     "execution_count": 72,
     "metadata": {},
     "output_type": "execute_result"
    }
   ],
   "source": [
    "# What list comprehension does internally.\n",
    "L = [1, 2, 3, 4, 5]\n",
    "res = []\n",
    "for x in L: res.append(x + 30)\n",
    "res"
   ]
  },
  {
   "cell_type": "markdown",
   "id": "06074e7a-0e64-46d2-bfe0-88bced81aa43",
   "metadata": {},
   "source": [
    "Using list comprehensions on files"
   ]
  },
  {
   "cell_type": "code",
   "execution_count": 73,
   "id": "aba67e76-2c22-43c7-99bb-7c1fbc57ab82",
   "metadata": {
    "execution": {
     "iopub.execute_input": "2021-11-05T15:14:45.499838Z",
     "iopub.status.busy": "2021-11-05T15:14:45.499550Z",
     "iopub.status.idle": "2021-11-05T15:14:45.506604Z",
     "shell.execute_reply": "2021-11-05T15:14:45.506044Z",
     "shell.execute_reply.started": "2021-11-05T15:14:45.499812Z"
    }
   },
   "outputs": [],
   "source": [
    "f = open('script2.py')"
   ]
  },
  {
   "cell_type": "code",
   "execution_count": 74,
   "id": "520afbf6-0786-4b82-acf3-bfe241fbcc57",
   "metadata": {
    "execution": {
     "iopub.execute_input": "2021-11-05T15:14:53.861013Z",
     "iopub.status.busy": "2021-11-05T15:14:53.860702Z",
     "iopub.status.idle": "2021-11-05T15:14:53.867930Z",
     "shell.execute_reply": "2021-11-05T15:14:53.867400Z",
     "shell.execute_reply.started": "2021-11-05T15:14:53.860971Z"
    }
   },
   "outputs": [],
   "source": [
    "lines = f.readlines()"
   ]
  },
  {
   "cell_type": "code",
   "execution_count": 75,
   "id": "8425618e-e4df-4c29-8333-bc9fd487e576",
   "metadata": {
    "execution": {
     "iopub.execute_input": "2021-11-05T15:14:57.023134Z",
     "iopub.status.busy": "2021-11-05T15:14:57.022805Z",
     "iopub.status.idle": "2021-11-05T15:14:57.030586Z",
     "shell.execute_reply": "2021-11-05T15:14:57.030121Z",
     "shell.execute_reply.started": "2021-11-05T15:14:57.023109Z"
    }
   },
   "outputs": [
    {
     "data": {
      "text/plain": [
       "['import sys\\n', 'print(sys.path)\\n', 'x = 2\\n', 'print(x ** 32)\\n']"
      ]
     },
     "execution_count": 75,
     "metadata": {},
     "output_type": "execute_result"
    }
   ],
   "source": [
    "lines"
   ]
  },
  {
   "cell_type": "code",
   "execution_count": 79,
   "id": "5b596012-b99d-41a4-b8e6-fbfdbcb0b14c",
   "metadata": {
    "execution": {
     "iopub.execute_input": "2021-11-05T15:17:55.509198Z",
     "iopub.status.busy": "2021-11-05T15:17:55.508916Z",
     "iopub.status.idle": "2021-11-05T15:17:55.518016Z",
     "shell.execute_reply": "2021-11-05T15:17:55.517504Z",
     "shell.execute_reply.started": "2021-11-05T15:17:55.509173Z"
    },
    "tags": []
   },
   "outputs": [
    {
     "data": {
      "text/plain": [
       "['import sys', 'print(sys.path)', 'x = 2', 'print(x ** 32)']"
      ]
     },
     "execution_count": 79,
     "metadata": {},
     "output_type": "execute_result"
    }
   ],
   "source": [
    "f = open('script2.py')\n",
    "lines = f.readlines()\n",
    "lines = [i.rstrip() for i in lines]\n",
    "lines"
   ]
  },
  {
   "cell_type": "code",
   "execution_count": 81,
   "id": "46612129-42ec-4d11-8f05-2633ab02bf52",
   "metadata": {
    "execution": {
     "iopub.execute_input": "2021-11-05T15:19:07.951774Z",
     "iopub.status.busy": "2021-11-05T15:19:07.951435Z",
     "iopub.status.idle": "2021-11-05T15:19:07.959818Z",
     "shell.execute_reply": "2021-11-05T15:19:07.959306Z",
     "shell.execute_reply.started": "2021-11-05T15:19:07.951748Z"
    },
    "tags": []
   },
   "outputs": [
    {
     "data": {
      "text/plain": [
       "['import sys', 'print(sys.path)', 'x = 2', 'print(x ** 32)']"
      ]
     },
     "execution_count": 81,
     "metadata": {},
     "output_type": "execute_result"
    }
   ],
   "source": [
    "# incorporating everything in one line\n",
    "lines = [i.rstrip() for i in open('script2.py')]\n",
    "lines"
   ]
  },
  {
   "cell_type": "code",
   "execution_count": 82,
   "id": "a93760ba-136a-4ba7-9158-3faba61c7336",
   "metadata": {
    "execution": {
     "iopub.execute_input": "2021-11-05T15:19:45.761475Z",
     "iopub.status.busy": "2021-11-05T15:19:45.761182Z",
     "iopub.status.idle": "2021-11-05T15:19:45.767710Z",
     "shell.execute_reply": "2021-11-05T15:19:45.767141Z",
     "shell.execute_reply.started": "2021-11-05T15:19:45.761448Z"
    }
   },
   "outputs": [],
   "source": [
    "# more examples on the same lines."
   ]
  },
  {
   "cell_type": "code",
   "execution_count": 83,
   "id": "0e5b5246-9214-4981-ad9d-a1cc5d3d5920",
   "metadata": {
    "execution": {
     "iopub.execute_input": "2021-11-05T15:20:15.022513Z",
     "iopub.status.busy": "2021-11-05T15:20:15.022192Z",
     "iopub.status.idle": "2021-11-05T15:20:15.032053Z",
     "shell.execute_reply": "2021-11-05T15:20:15.031502Z",
     "shell.execute_reply.started": "2021-11-05T15:20:15.022485Z"
    }
   },
   "outputs": [
    {
     "data": {
      "text/plain": [
       "['IMPORT SYS\\n', 'PRINT(SYS.PATH)\\n', 'X = 2\\n', 'PRINT(X ** 32)\\n']"
      ]
     },
     "execution_count": 83,
     "metadata": {},
     "output_type": "execute_result"
    }
   ],
   "source": [
    "[line.upper() for line in open('script2.py')]"
   ]
  },
  {
   "cell_type": "code",
   "execution_count": 84,
   "id": "436b4753-4cdb-44ea-b952-6c69db45bc7e",
   "metadata": {
    "execution": {
     "iopub.execute_input": "2021-11-05T15:20:46.669539Z",
     "iopub.status.busy": "2021-11-05T15:20:46.669246Z",
     "iopub.status.idle": "2021-11-05T15:20:46.677771Z",
     "shell.execute_reply": "2021-11-05T15:20:46.677271Z",
     "shell.execute_reply.started": "2021-11-05T15:20:46.669514Z"
    }
   },
   "outputs": [
    {
     "data": {
      "text/plain": [
       "['import sys', 'print(sys.path)', 'x = 2', 'print(x ** 32)']"
      ]
     },
     "execution_count": 84,
     "metadata": {},
     "output_type": "execute_result"
    }
   ],
   "source": [
    "[line.strip() for line in open('script2.py')]"
   ]
  },
  {
   "cell_type": "code",
   "execution_count": 85,
   "id": "aa985e70-cf57-4135-9f1b-479a0c741ce8",
   "metadata": {
    "execution": {
     "iopub.execute_input": "2021-11-05T15:21:14.471447Z",
     "iopub.status.busy": "2021-11-05T15:21:14.471154Z",
     "iopub.status.idle": "2021-11-05T15:21:14.479667Z",
     "shell.execute_reply": "2021-11-05T15:21:14.479179Z",
     "shell.execute_reply.started": "2021-11-05T15:21:14.471422Z"
    }
   },
   "outputs": [
    {
     "data": {
      "text/plain": [
       "[['import', 'sys'],\n",
       " ['print(sys.path)'],\n",
       " ['x', '=', '2'],\n",
       " ['print(x', '**', '32)']]"
      ]
     },
     "execution_count": 85,
     "metadata": {},
     "output_type": "execute_result"
    }
   ],
   "source": [
    "[line.split() for line in open('script2.py')]"
   ]
  },
  {
   "cell_type": "code",
   "execution_count": 86,
   "id": "3cd1fa57-d5a7-418a-9e74-c952c316da05",
   "metadata": {
    "execution": {
     "iopub.execute_input": "2021-11-05T15:21:55.046510Z",
     "iopub.status.busy": "2021-11-05T15:21:55.046170Z",
     "iopub.status.idle": "2021-11-05T15:21:55.054945Z",
     "shell.execute_reply": "2021-11-05T15:21:55.054409Z",
     "shell.execute_reply.started": "2021-11-05T15:21:55.046485Z"
    }
   },
   "outputs": [
    {
     "data": {
      "text/plain": [
       "['import|sys\\n', 'print(sys.path)\\n', 'x|=|2\\n', 'print(x|**|32)\\n']"
      ]
     },
     "execution_count": 86,
     "metadata": {},
     "output_type": "execute_result"
    }
   ],
   "source": [
    "[i.replace(' ', '|') for i in open('script2.py')]"
   ]
  },
  {
   "cell_type": "code",
   "execution_count": 87,
   "id": "1cfd4e32-996c-4c47-af18-177acfd96c30",
   "metadata": {
    "execution": {
     "iopub.execute_input": "2021-11-05T15:23:06.991824Z",
     "iopub.status.busy": "2021-11-05T15:23:06.991487Z",
     "iopub.status.idle": "2021-11-05T15:23:07.000920Z",
     "shell.execute_reply": "2021-11-05T15:23:07.000407Z",
     "shell.execute_reply.started": "2021-11-05T15:23:06.991798Z"
    }
   },
   "outputs": [
    {
     "data": {
      "text/plain": [
       "[(True, 'impor'), (True, 'print'), (False, 'x = 2'), (False, 'print')]"
      ]
     },
     "execution_count": 87,
     "metadata": {},
     "output_type": "execute_result"
    }
   ],
   "source": [
    "[('sys' in line, line[:5]) for line in open('script2.py')]"
   ]
  },
  {
   "cell_type": "markdown",
   "id": "f55ec453-d8c2-4179-8c70-bf58ad323995",
   "metadata": {},
   "source": [
    "Extended List Comprehension Syntax"
   ]
  },
  {
   "cell_type": "code",
   "execution_count": 89,
   "id": "247a013e-a110-4cb5-bba9-b7d60b4fa720",
   "metadata": {
    "execution": {
     "iopub.execute_input": "2021-11-05T15:25:04.738077Z",
     "iopub.status.busy": "2021-11-05T15:25:04.737794Z",
     "iopub.status.idle": "2021-11-05T15:25:04.747037Z",
     "shell.execute_reply": "2021-11-05T15:25:04.746555Z",
     "shell.execute_reply.started": "2021-11-05T15:25:04.738052Z"
    },
    "tags": []
   },
   "outputs": [
    {
     "data": {
      "text/plain": [
       "['print(sys.path)', 'print(x ** 32)']"
      ]
     },
     "execution_count": 89,
     "metadata": {},
     "output_type": "execute_result"
    }
   ],
   "source": [
    "# Filter clauses: if\n",
    "lines = [line.strip() for line in open('script2.py') if line[0] == 'p']\n",
    "lines"
   ]
  },
  {
   "cell_type": "markdown",
   "id": "b4620fa2-28bb-43de-a2fa-9542ad4868ae",
   "metadata": {},
   "source": [
    "Nested Loops: for"
   ]
  },
  {
   "cell_type": "code",
   "execution_count": 90,
   "id": "9a188d64-621f-4c16-9073-b5a373a3fcf3",
   "metadata": {
    "execution": {
     "iopub.execute_input": "2021-11-05T15:29:03.514344Z",
     "iopub.status.busy": "2021-11-05T15:29:03.514058Z",
     "iopub.status.idle": "2021-11-05T15:29:03.522178Z",
     "shell.execute_reply": "2021-11-05T15:29:03.521724Z",
     "shell.execute_reply.started": "2021-11-05T15:29:03.514318Z"
    }
   },
   "outputs": [
    {
     "data": {
      "text/plain": [
       "['al', 'am', 'an', 'bl', 'bm', 'bn', 'cl', 'cm', 'cn']"
      ]
     },
     "execution_count": 90,
     "metadata": {},
     "output_type": "execute_result"
    }
   ],
   "source": [
    "[x + y for x in 'abc' for y in 'lmn']"
   ]
  },
  {
   "cell_type": "markdown",
   "id": "e76c69a5-c86d-45ea-bd30-38f04d93847c",
   "metadata": {},
   "source": [
    "Other Iteration Contexts"
   ]
  },
  {
   "cell_type": "code",
   "execution_count": 91,
   "id": "1f2e5029-9e43-457e-b5b4-55c920df3c36",
   "metadata": {
    "execution": {
     "iopub.execute_input": "2021-11-05T15:30:00.253116Z",
     "iopub.status.busy": "2021-11-05T15:30:00.252831Z",
     "iopub.status.idle": "2021-11-05T15:30:00.261284Z",
     "shell.execute_reply": "2021-11-05T15:30:00.260745Z",
     "shell.execute_reply.started": "2021-11-05T15:30:00.253091Z"
    }
   },
   "outputs": [
    {
     "name": "stdout",
     "output_type": "stream",
     "text": [
      "IMPORT SYS\n",
      "PRINT(SYS.PATH)\n",
      "X = 2\n",
      "PRINT(X ** 32)\n"
     ]
    }
   ],
   "source": [
    "for line in open('script2.py'): print(line.upper(), end='')  # Using file iterators"
   ]
  },
  {
   "cell_type": "code",
   "execution_count": 93,
   "id": "ad65fcf8-deba-4590-99a7-9eb7a841b7d3",
   "metadata": {
    "execution": {
     "iopub.execute_input": "2021-11-05T15:32:19.924656Z",
     "iopub.status.busy": "2021-11-05T15:32:19.924295Z",
     "iopub.status.idle": "2021-11-05T15:32:19.932657Z",
     "shell.execute_reply": "2021-11-05T15:32:19.932147Z",
     "shell.execute_reply.started": "2021-11-05T15:32:19.924627Z"
    },
    "tags": []
   },
   "outputs": [
    {
     "data": {
      "text/plain": [
       "['IMPORT SYS\\n', 'PRINT(SYS.PATH)\\n', 'X = 2\\n', 'PRINT(X ** 32)\\n']"
      ]
     },
     "execution_count": 93,
     "metadata": {},
     "output_type": "execute_result"
    }
   ],
   "source": [
    "uppers = [line.upper() for line in open('script2.py')]\n",
    "uppers"
   ]
  },
  {
   "cell_type": "code",
   "execution_count": 95,
   "id": "aa2e0f44-ca33-4032-8e2c-2d0739497258",
   "metadata": {
    "execution": {
     "iopub.execute_input": "2021-11-05T15:33:29.471558Z",
     "iopub.status.busy": "2021-11-05T15:33:29.471256Z",
     "iopub.status.idle": "2021-11-05T15:33:29.480118Z",
     "shell.execute_reply": "2021-11-05T15:33:29.479252Z",
     "shell.execute_reply.started": "2021-11-05T15:33:29.471532Z"
    },
    "tags": []
   },
   "outputs": [
    {
     "data": {
      "text/plain": [
       "<map at 0x7fe7c626ad10>"
      ]
     },
     "execution_count": 95,
     "metadata": {},
     "output_type": "execute_result"
    }
   ],
   "source": [
    "# Map is itself an iterable in python 3\n",
    "map(str.upper, open('script2.py'))"
   ]
  },
  {
   "cell_type": "code",
   "execution_count": 96,
   "id": "2d60f023-b34a-401b-b2dc-e2bb6d2502a5",
   "metadata": {
    "execution": {
     "iopub.execute_input": "2021-11-05T15:33:47.902050Z",
     "iopub.status.busy": "2021-11-05T15:33:47.901673Z",
     "iopub.status.idle": "2021-11-05T15:33:47.911095Z",
     "shell.execute_reply": "2021-11-05T15:33:47.910559Z",
     "shell.execute_reply.started": "2021-11-05T15:33:47.902020Z"
    }
   },
   "outputs": [
    {
     "data": {
      "text/plain": [
       "['IMPORT SYS\\n', 'PRINT(SYS.PATH)\\n', 'X = 2\\n', 'PRINT(X ** 32)\\n']"
      ]
     },
     "execution_count": 96,
     "metadata": {},
     "output_type": "execute_result"
    }
   ],
   "source": [
    "list(map(str.upper, open('script2.py')))"
   ]
  },
  {
   "cell_type": "code",
   "execution_count": 97,
   "id": "0ae56e44-8d9f-48dc-961a-828ae0b2b09e",
   "metadata": {
    "execution": {
     "iopub.execute_input": "2021-11-05T15:34:24.096832Z",
     "iopub.status.busy": "2021-11-05T15:34:24.096484Z",
     "iopub.status.idle": "2021-11-05T15:34:24.104496Z",
     "shell.execute_reply": "2021-11-05T15:34:24.103641Z",
     "shell.execute_reply.started": "2021-11-05T15:34:24.096804Z"
    }
   },
   "outputs": [],
   "source": [
    "# More examples "
   ]
  },
  {
   "cell_type": "code",
   "execution_count": 98,
   "id": "0aa9f552-5cba-468e-8862-2d58392d3142",
   "metadata": {
    "execution": {
     "iopub.execute_input": "2021-11-05T15:34:33.118928Z",
     "iopub.status.busy": "2021-11-05T15:34:33.118572Z",
     "iopub.status.idle": "2021-11-05T15:34:33.128083Z",
     "shell.execute_reply": "2021-11-05T15:34:33.127408Z",
     "shell.execute_reply.started": "2021-11-05T15:34:33.118885Z"
    }
   },
   "outputs": [
    {
     "data": {
      "text/plain": [
       "['import sys\\n', 'print(sys.path)\\n', 'print(x ** 32)\\n', 'x = 2\\n']"
      ]
     },
     "execution_count": 98,
     "metadata": {},
     "output_type": "execute_result"
    }
   ],
   "source": [
    "sorted(open('script2.py'))  # sorted ny first alphabet"
   ]
  },
  {
   "cell_type": "code",
   "execution_count": null,
   "id": "020b48a6-07df-49b9-b6da-ffbc08dde949",
   "metadata": {
    "execution": {
     "iopub.execute_input": "2021-11-05T15:35:15.469437Z",
     "iopub.status.busy": "2021-11-05T15:35:15.468965Z",
     "iopub.status.idle": "2021-11-05T15:35:15.478171Z",
     "shell.execute_reply": "2021-11-05T15:35:15.477672Z",
     "shell.execute_reply.started": "2021-11-05T15:35:15.469410Z"
    }
   },
   "outputs": [],
   "source": [
    "list(zip(open('script2.py'), open('script2.py')))"
   ]
  },
  {
   "cell_type": "code",
   "execution_count": 100,
   "id": "49684ac4-2482-4b99-aa95-4839bf24703a",
   "metadata": {
    "execution": {
     "iopub.execute_input": "2021-11-05T15:36:48.326673Z",
     "iopub.status.busy": "2021-11-05T15:36:48.326054Z",
     "iopub.status.idle": "2021-11-05T15:36:48.334539Z",
     "shell.execute_reply": "2021-11-05T15:36:48.334035Z",
     "shell.execute_reply.started": "2021-11-05T15:36:48.326644Z"
    }
   },
   "outputs": [
    {
     "data": {
      "text/plain": [
       "[(0, 'import sys\\n'),\n",
       " (1, 'print(sys.path)\\n'),\n",
       " (2, 'x = 2\\n'),\n",
       " (3, 'print(x ** 32)\\n')]"
      ]
     },
     "execution_count": 100,
     "metadata": {},
     "output_type": "execute_result"
    }
   ],
   "source": [
    "list(enumerate(open('script2.py')))"
   ]
  },
  {
   "cell_type": "code",
   "execution_count": 101,
   "id": "90ec6bee-08d9-4fd0-938e-231bd9647816",
   "metadata": {
    "execution": {
     "iopub.execute_input": "2021-11-05T15:37:13.756424Z",
     "iopub.status.busy": "2021-11-05T15:37:13.756131Z",
     "iopub.status.idle": "2021-11-05T15:37:13.764519Z",
     "shell.execute_reply": "2021-11-05T15:37:13.763961Z",
     "shell.execute_reply.started": "2021-11-05T15:37:13.756398Z"
    }
   },
   "outputs": [
    {
     "data": {
      "text/plain": [
       "['import sys\\n', 'print(sys.path)\\n', 'x = 2\\n', 'print(x ** 32)\\n']"
      ]
     },
     "execution_count": 101,
     "metadata": {},
     "output_type": "execute_result"
    }
   ],
   "source": [
    "list(filter(bool, open('script2.py')))  # nonempty = True"
   ]
  },
  {
   "cell_type": "code",
   "execution_count": 102,
   "id": "c11b347b-f209-4f9c-b61c-4b8bf229b780",
   "metadata": {
    "execution": {
     "iopub.execute_input": "2021-11-05T15:38:00.932724Z",
     "iopub.status.busy": "2021-11-05T15:38:00.932349Z",
     "iopub.status.idle": "2021-11-05T15:38:00.940966Z",
     "shell.execute_reply": "2021-11-05T15:38:00.940435Z",
     "shell.execute_reply.started": "2021-11-05T15:38:00.932697Z"
    }
   },
   "outputs": [
    {
     "data": {
      "text/plain": [
       "'import sys\\nprint(sys.path)\\nx = 2\\nprint(x ** 32)\\n'"
      ]
     },
     "execution_count": 102,
     "metadata": {},
     "output_type": "execute_result"
    }
   ],
   "source": [
    "import functools, operator\n",
    "functools.reduce(operator.add, open('script2.py'))"
   ]
  },
  {
   "cell_type": "markdown",
   "id": "a6b9dcf1-ccc3-4c83-b82b-be9f7d43efb3",
   "metadata": {},
   "source": [
    "New Iterables in Python 3.X"
   ]
  },
  {
   "cell_type": "code",
   "execution_count": null,
   "id": "0fe4794f-0d4e-4d68-b901-462112697f12",
   "metadata": {},
   "outputs": [],
   "source": []
  }
 ],
 "metadata": {
  "kernelspec": {
   "display_name": "Python 3 (ipykernel)",
   "language": "python",
   "name": "python3"
  },
  "language_info": {
   "codemirror_mode": {
    "name": "ipython",
    "version": 3
   },
   "file_extension": ".py",
   "mimetype": "text/x-python",
   "name": "python",
   "nbconvert_exporter": "python",
   "pygments_lexer": "ipython3",
   "version": "3.7.4"
  },
  "widgets": {
   "application/vnd.jupyter.widget-state+json": {
    "state": {},
    "version_major": 2,
    "version_minor": 0
   }
  }
 },
 "nbformat": 4,
 "nbformat_minor": 5
}
