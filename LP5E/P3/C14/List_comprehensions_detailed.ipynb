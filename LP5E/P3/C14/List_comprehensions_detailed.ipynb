{
 "cells": [
  {
   "cell_type": "code",
   "execution_count": 4,
   "id": "62635be7",
   "metadata": {},
   "outputs": [],
   "source": [
    "#Tradition way with for loop\n",
    "L = [1, 2, 3, 4, 5]\n",
    "for i in range(len(L)):\n",
    "    L[i] += 10"
   ]
  },
  {
   "cell_type": "code",
   "execution_count": 5,
   "id": "e60fc87d",
   "metadata": {},
   "outputs": [
    {
     "data": {
      "text/plain": [
       "[11, 12, 13, 14, 15]"
      ]
     },
     "execution_count": 5,
     "metadata": {},
     "output_type": "execute_result"
    }
   ],
   "source": [
    "L  # obscelete practice to generate this"
   ]
  },
  {
   "cell_type": "code",
   "execution_count": 6,
   "id": "06da96de",
   "metadata": {},
   "outputs": [
    {
     "data": {
      "text/plain": [
       "[11, 12, 13, 14, 15]"
      ]
     },
     "execution_count": 6,
     "metadata": {},
     "output_type": "execute_result"
    }
   ],
   "source": [
    "# Magic of list comprehension \n",
    "L = [1, 2, 3, 4, 5]\n",
    "[i + 10 for i in L]"
   ]
  },
  {
   "cell_type": "code",
   "execution_count": 7,
   "id": "d29b0dec",
   "metadata": {},
   "outputs": [],
   "source": [
    "# what list comprehension does internally\n",
    "L = [1, 2, 3, 4, 5]\n",
    "res = []\n",
    "for x in L:\n",
    "    res.append(x + 10)"
   ]
  },
  {
   "cell_type": "code",
   "execution_count": 8,
   "id": "476c56ae",
   "metadata": {},
   "outputs": [
    {
     "data": {
      "text/plain": [
       "[11, 12, 13, 14, 15]"
      ]
     },
     "execution_count": 8,
     "metadata": {},
     "output_type": "execute_result"
    }
   ],
   "source": [
    "res"
   ]
  },
  {
   "cell_type": "markdown",
   "id": "115a9c89",
   "metadata": {},
   "source": [
    "# Using list comprehensions on files"
   ]
  },
  {
   "cell_type": "code",
   "execution_count": 9,
   "id": "b0e7febf",
   "metadata": {},
   "outputs": [],
   "source": [
    "# normal reading\n",
    "f = open('script2.py')\n",
    "lines = f.readlines()"
   ]
  },
  {
   "cell_type": "code",
   "execution_count": 10,
   "id": "da39e15b",
   "metadata": {},
   "outputs": [
    {
     "data": {
      "text/plain": [
       "['import sys\\n', 'print(sys.path)\\n', 'x = 2\\n', 'print(x ** 32)\\n']"
      ]
     },
     "execution_count": 10,
     "metadata": {},
     "output_type": "execute_result"
    }
   ],
   "source": [
    "lines"
   ]
  },
  {
   "cell_type": "code",
   "execution_count": 12,
   "id": "7d6b5c44",
   "metadata": {},
   "outputs": [],
   "source": [
    "lines = [line.rstrip() for line in lines]"
   ]
  },
  {
   "cell_type": "code",
   "execution_count": 13,
   "id": "083ab261",
   "metadata": {},
   "outputs": [
    {
     "data": {
      "text/plain": [
       "['import sys', 'print(sys.path)', 'x = 2', 'print(x ** 32)']"
      ]
     },
     "execution_count": 13,
     "metadata": {},
     "output_type": "execute_result"
    }
   ],
   "source": [
    "lines"
   ]
  },
  {
   "cell_type": "code",
   "execution_count": 14,
   "id": "d4111d0a",
   "metadata": {},
   "outputs": [],
   "source": [
    "# entirely working with list comprehension\n",
    "lines = [i.rstrip() for i in open('script2.py')]"
   ]
  },
  {
   "cell_type": "code",
   "execution_count": 15,
   "id": "1d083655",
   "metadata": {},
   "outputs": [
    {
     "data": {
      "text/plain": [
       "['import sys', 'print(sys.path)', 'x = 2', 'print(x ** 32)']"
      ]
     },
     "execution_count": 15,
     "metadata": {},
     "output_type": "execute_result"
    }
   ],
   "source": [
    "lines"
   ]
  },
  {
   "cell_type": "code",
   "execution_count": 16,
   "id": "7e5cb01a",
   "metadata": {},
   "outputs": [],
   "source": [
    "# String operations with list comprehensions"
   ]
  },
  {
   "cell_type": "code",
   "execution_count": 17,
   "id": "5f8262b9",
   "metadata": {},
   "outputs": [
    {
     "data": {
      "text/plain": [
       "['IMPORT SYS\\n', 'PRINT(SYS.PATH)\\n', 'X = 2\\n', 'PRINT(X ** 32)\\n']"
      ]
     },
     "execution_count": 17,
     "metadata": {},
     "output_type": "execute_result"
    }
   ],
   "source": [
    "[i.upper() for i in open('script2.py')]"
   ]
  },
  {
   "cell_type": "code",
   "execution_count": 18,
   "id": "7bc8cb3f",
   "metadata": {},
   "outputs": [
    {
     "data": {
      "text/plain": [
       "['IMPORT SYS', 'PRINT(SYS.PATH)', 'X = 2', 'PRINT(X ** 32)']"
      ]
     },
     "execution_count": 18,
     "metadata": {},
     "output_type": "execute_result"
    }
   ],
   "source": [
    "[i.upper().rstrip() for i in open('script2.py')]"
   ]
  },
  {
   "cell_type": "code",
   "execution_count": 19,
   "id": "20b1dacd",
   "metadata": {},
   "outputs": [
    {
     "data": {
      "text/plain": [
       "[['import', 'sys'],\n",
       " ['print(sys.path)'],\n",
       " ['x', '=', '2'],\n",
       " ['print(x', '**', '32)']]"
      ]
     },
     "execution_count": 19,
     "metadata": {},
     "output_type": "execute_result"
    }
   ],
   "source": [
    "[i.split() for i in open('script2.py')]"
   ]
  },
  {
   "cell_type": "code",
   "execution_count": 20,
   "id": "a80e7555",
   "metadata": {},
   "outputs": [
    {
     "data": {
      "text/plain": [
       "['import!sys\\n', 'print(sys.path)\\n', 'x!=!2\\n', 'print(x!**!32)\\n']"
      ]
     },
     "execution_count": 20,
     "metadata": {},
     "output_type": "execute_result"
    }
   ],
   "source": [
    "[i.replace(' ', '!') for i in open('script2.py')]"
   ]
  },
  {
   "cell_type": "code",
   "execution_count": 22,
   "id": "4c802a35",
   "metadata": {},
   "outputs": [
    {
     "data": {
      "text/plain": [
       "[(True, 'impor'), (True, 'print'), (False, 'x = 2'), (False, 'print')]"
      ]
     },
     "execution_count": 22,
     "metadata": {},
     "output_type": "execute_result"
    }
   ],
   "source": [
    "[('sys' in line, line[:5]) for line in open('script2.py')]"
   ]
  },
  {
   "cell_type": "markdown",
   "id": "6bc58473",
   "metadata": {},
   "source": [
    "##### Extended List Comprehension Syntax"
   ]
  },
  {
   "cell_type": "code",
   "execution_count": 23,
   "id": "5c9b5ab7",
   "metadata": {},
   "outputs": [
    {
     "data": {
      "text/plain": [
       "['print(sys.path)', 'print(x ** 32)']"
      ]
     },
     "execution_count": 23,
     "metadata": {},
     "output_type": "execute_result"
    }
   ],
   "source": [
    "# filter clauses: if\n",
    "# finding the line starting with letter p\n",
    "[line.rstrip() for line in open('script2.py') if line[0] == 'p']"
   ]
  },
  {
   "cell_type": "code",
   "execution_count": 25,
   "id": "91ef8ba9",
   "metadata": {},
   "outputs": [
    {
     "data": {
      "text/plain": [
       "['x = 2']"
      ]
     },
     "execution_count": 25,
     "metadata": {},
     "output_type": "execute_result"
    }
   ],
   "source": [
    "# lines ending witha digit\n",
    "[line.rstrip() for line in open('script2.py') if line.rstrip()[-1].isdigit()]"
   ]
  },
  {
   "cell_type": "code",
   "execution_count": 26,
   "id": "43ca9ce3",
   "metadata": {},
   "outputs": [],
   "source": [
    "fname = 'script2.py'"
   ]
  },
  {
   "cell_type": "code",
   "execution_count": 27,
   "id": "1878a791",
   "metadata": {},
   "outputs": [
    {
     "data": {
      "text/plain": [
       "4"
      ]
     },
     "execution_count": 27,
     "metadata": {},
     "output_type": "execute_result"
    }
   ],
   "source": [
    "len(open(fname).readlines()) # with spaces"
   ]
  },
  {
   "cell_type": "code",
   "execution_count": 29,
   "id": "13441387",
   "metadata": {},
   "outputs": [
    {
     "data": {
      "text/plain": [
       "4"
      ]
     },
     "execution_count": 29,
     "metadata": {},
     "output_type": "execute_result"
    }
   ],
   "source": [
    "len([line for line in open(fname) if line.strip() != ''])  # without spaces"
   ]
  },
  {
   "cell_type": "markdown",
   "id": "67600383",
   "metadata": {},
   "source": [
    "##### Nested Loops:for"
   ]
  },
  {
   "cell_type": "code",
   "execution_count": 30,
   "id": "c1158d1a",
   "metadata": {},
   "outputs": [
    {
     "data": {
      "text/plain": [
       "['ad', 'ae', 'af', 'bd', 'be', 'bf', 'cd', 'ce', 'cf']"
      ]
     },
     "execution_count": 30,
     "metadata": {},
     "output_type": "execute_result"
    }
   ],
   "source": [
    "# Concatenation possibilites of 2 strings in list comprehensions\n",
    "[i + j for i in 'abc' for j in 'def']"
   ]
  },
  {
   "cell_type": "code",
   "execution_count": 33,
   "id": "5854da12",
   "metadata": {},
   "outputs": [
    {
     "data": {
      "text/plain": [
       "30"
      ]
     },
     "execution_count": 33,
     "metadata": {},
     "output_type": "execute_result"
    }
   ],
   "source": [
    "len([i + j for i in 'abcde' for j in 'fghijk'])"
   ]
  },
  {
   "cell_type": "markdown",
   "id": "28df336e",
   "metadata": {},
   "source": [
    "## Other Iteration Contexts"
   ]
  },
  {
   "cell_type": "code",
   "execution_count": 36,
   "id": "bb9455b9",
   "metadata": {},
   "outputs": [
    {
     "name": "stdout",
     "output_type": "stream",
     "text": [
      "IMPORT SYS\n",
      "PRINT(SYS.PATH)\n",
      "X = 2\n",
      "PRINT(X ** 32)\n"
     ]
    }
   ],
   "source": [
    "# use file iterators\n",
    "for line in open('script2.py'):\n",
    "    print(line.upper(), end='')"
   ]
  },
  {
   "cell_type": "code",
   "execution_count": 37,
   "id": "ffdd2ada",
   "metadata": {},
   "outputs": [],
   "source": [
    "#list comprehension and map in iterators"
   ]
  },
  {
   "cell_type": "code",
   "execution_count": 38,
   "id": "8376d211",
   "metadata": {},
   "outputs": [],
   "source": [
    "uppers = [line.upper() for line in open('script2.py')]"
   ]
  },
  {
   "cell_type": "code",
   "execution_count": 39,
   "id": "f930b3fe",
   "metadata": {},
   "outputs": [
    {
     "data": {
      "text/plain": [
       "['IMPORT SYS\\n', 'PRINT(SYS.PATH)\\n', 'X = 2\\n', 'PRINT(X ** 32)\\n']"
      ]
     },
     "execution_count": 39,
     "metadata": {},
     "output_type": "execute_result"
    }
   ],
   "source": [
    "uppers"
   ]
  },
  {
   "cell_type": "code",
   "execution_count": 40,
   "id": "1941c2f5",
   "metadata": {},
   "outputs": [
    {
     "data": {
      "text/plain": [
       "<map at 0x7fa637aca130>"
      ]
     },
     "execution_count": 40,
     "metadata": {},
     "output_type": "execute_result"
    }
   ],
   "source": [
    "# using map\n",
    "map(str.upper, open('script2.py'))"
   ]
  },
  {
   "cell_type": "code",
   "execution_count": 43,
   "id": "2f0af519",
   "metadata": {},
   "outputs": [
    {
     "data": {
      "text/plain": [
       "['IMPORT SYS\\n', 'PRINT(SYS.PATH)\\n', 'X = 2\\n', 'PRINT(X ** 32)\\n']"
      ]
     },
     "execution_count": 43,
     "metadata": {},
     "output_type": "execute_result"
    }
   ],
   "source": [
    "list(map(str.upper, open('script2.py')))"
   ]
  },
  {
   "cell_type": "markdown",
   "id": "23151ff9",
   "metadata": {},
   "source": [
    "#### Some possible iterables"
   ]
  },
  {
   "cell_type": "code",
   "execution_count": 44,
   "id": "31e3cc18",
   "metadata": {},
   "outputs": [
    {
     "data": {
      "text/plain": [
       "['import sys\\n', 'print(sys.path)\\n', 'print(x ** 32)\\n', 'x = 2\\n']"
      ]
     },
     "execution_count": 44,
     "metadata": {},
     "output_type": "execute_result"
    }
   ],
   "source": [
    "sorted(open('script2.py'))"
   ]
  },
  {
   "cell_type": "code",
   "execution_count": 45,
   "id": "4fc02798",
   "metadata": {},
   "outputs": [
    {
     "data": {
      "text/plain": [
       "[('import sys\\n', 'import sys\\n'),\n",
       " ('print(sys.path)\\n', 'print(sys.path)\\n'),\n",
       " ('x = 2\\n', 'x = 2\\n'),\n",
       " ('print(x ** 32)\\n', 'print(x ** 32)\\n')]"
      ]
     },
     "execution_count": 45,
     "metadata": {},
     "output_type": "execute_result"
    }
   ],
   "source": [
    "list(zip(open('script2.py'), open('script2.py')))"
   ]
  },
  {
   "cell_type": "code",
   "execution_count": 47,
   "id": "a5a8d83e",
   "metadata": {},
   "outputs": [
    {
     "data": {
      "text/plain": [
       "[(0, 'import sys\\n'),\n",
       " (1, 'print(sys.path)\\n'),\n",
       " (2, 'x = 2\\n'),\n",
       " (3, 'print(x ** 32)\\n')]"
      ]
     },
     "execution_count": 47,
     "metadata": {},
     "output_type": "execute_result"
    }
   ],
   "source": [
    "list(enumerate(open('script2.py')))"
   ]
  },
  {
   "cell_type": "code",
   "execution_count": 48,
   "id": "3bd822cc",
   "metadata": {},
   "outputs": [
    {
     "data": {
      "text/plain": [
       "['import sys\\n', 'print(sys.path)\\n', 'x = 2\\n', 'print(x ** 32)\\n']"
      ]
     },
     "execution_count": 48,
     "metadata": {},
     "output_type": "execute_result"
    }
   ],
   "source": [
    "list(filter(bool, open('script2.py')))  # nonempty = True"
   ]
  },
  {
   "cell_type": "code",
   "execution_count": 49,
   "id": "f9d286f2",
   "metadata": {},
   "outputs": [],
   "source": [
    "import functools, operator"
   ]
  },
  {
   "cell_type": "code",
   "execution_count": 50,
   "id": "e509859f",
   "metadata": {},
   "outputs": [
    {
     "data": {
      "text/plain": [
       "'import sys\\nprint(sys.path)\\nx = 2\\nprint(x ** 32)\\n'"
      ]
     },
     "execution_count": 50,
     "metadata": {},
     "output_type": "execute_result"
    }
   ],
   "source": [
    "functools.reduce(operator.add, open('script2.py'))"
   ]
  },
  {
   "cell_type": "markdown",
   "id": "629b4a6d",
   "metadata": {},
   "source": [
    "#### list and tuple creating new objects from iterables"
   ]
  },
  {
   "cell_type": "code",
   "execution_count": 51,
   "id": "02cb3b30",
   "metadata": {},
   "outputs": [
    {
     "data": {
      "text/plain": [
       "['import sys\\n', 'print(sys.path)\\n', 'x = 2\\n', 'print(x ** 32)\\n']"
      ]
     },
     "execution_count": 51,
     "metadata": {},
     "output_type": "execute_result"
    }
   ],
   "source": [
    "list(open('script2.py'))"
   ]
  },
  {
   "cell_type": "code",
   "execution_count": 52,
   "id": "72dd1de1",
   "metadata": {},
   "outputs": [
    {
     "data": {
      "text/plain": [
       "('import sys\\n', 'print(sys.path)\\n', 'x = 2\\n', 'print(x ** 32)\\n')"
      ]
     },
     "execution_count": 52,
     "metadata": {},
     "output_type": "execute_result"
    }
   ],
   "source": [
    "tuple(open('script2.py'))"
   ]
  },
  {
   "cell_type": "code",
   "execution_count": 54,
   "id": "a34b4824",
   "metadata": {},
   "outputs": [
    {
     "data": {
      "text/plain": [
       "'import sys\\n&&print(sys.path)\\n&&x = 2\\n&&print(x ** 32)\\n'"
      ]
     },
     "execution_count": 54,
     "metadata": {},
     "output_type": "execute_result"
    }
   ],
   "source": [
    "'&&'.join((open('script2.py')))"
   ]
  },
  {
   "cell_type": "markdown",
   "id": "fda1f889",
   "metadata": {},
   "source": [
    "###### sequence assignment, the in membership test, slice assignment, and the list’s extend method also leverage the iteration protocol to scan, and thus read a file by lines automatically"
   ]
  },
  {
   "cell_type": "code",
   "execution_count": 55,
   "id": "e8e5e7e4",
   "metadata": {},
   "outputs": [],
   "source": [
    "a, b, c, d = open('script2.py')  # sequence assignment"
   ]
  },
  {
   "cell_type": "code",
   "execution_count": 56,
   "id": "7af890e2",
   "metadata": {},
   "outputs": [
    {
     "data": {
      "text/plain": [
       "('import sys\\n', 'print(sys.path)\\n')"
      ]
     },
     "execution_count": 56,
     "metadata": {},
     "output_type": "execute_result"
    }
   ],
   "source": [
    "a, b"
   ]
  },
  {
   "cell_type": "code",
   "execution_count": 59,
   "id": "0e308548",
   "metadata": {},
   "outputs": [],
   "source": [
    "a, *b = open('script2.py')  # extended form"
   ]
  },
  {
   "cell_type": "code",
   "execution_count": 61,
   "id": "fa8cdd77",
   "metadata": {},
   "outputs": [
    {
     "data": {
      "text/plain": [
       "('import sys\\n', ['print(sys.path)\\n', 'x = 2\\n', 'print(x ** 32)\\n'])"
      ]
     },
     "execution_count": 61,
     "metadata": {},
     "output_type": "execute_result"
    }
   ],
   "source": [
    "a, b"
   ]
  },
  {
   "cell_type": "code",
   "execution_count": 62,
   "id": "d3466dfd",
   "metadata": {},
   "outputs": [
    {
     "data": {
      "text/plain": [
       "False"
      ]
     },
     "execution_count": 62,
     "metadata": {},
     "output_type": "execute_result"
    }
   ],
   "source": [
    "'y = 2\\n' in open('script2.py')  # membership test"
   ]
  },
  {
   "cell_type": "code",
   "execution_count": 63,
   "id": "cb9ec7ff",
   "metadata": {},
   "outputs": [
    {
     "data": {
      "text/plain": [
       "True"
      ]
     },
     "execution_count": 63,
     "metadata": {},
     "output_type": "execute_result"
    }
   ],
   "source": [
    "'x = 2\\n' in open('script2.py')"
   ]
  },
  {
   "cell_type": "code",
   "execution_count": 64,
   "id": "0bf8716d",
   "metadata": {},
   "outputs": [],
   "source": [
    "L = [11, 22, 33, 44]  # slice assignment\n",
    "L[1:3] = open('script2.py')"
   ]
  },
  {
   "cell_type": "code",
   "execution_count": 65,
   "id": "f4aed31e",
   "metadata": {},
   "outputs": [
    {
     "data": {
      "text/plain": [
       "[11, 'import sys\\n', 'print(sys.path)\\n', 'x = 2\\n', 'print(x ** 32)\\n', 44]"
      ]
     },
     "execution_count": 65,
     "metadata": {},
     "output_type": "execute_result"
    }
   ],
   "source": [
    "L"
   ]
  },
  {
   "cell_type": "code",
   "execution_count": 66,
   "id": "8e7bbe94",
   "metadata": {},
   "outputs": [],
   "source": [
    "L = [11]\n",
    "L.extend(open('script2.py'))  # list.Extend method"
   ]
  },
  {
   "cell_type": "code",
   "execution_count": 67,
   "id": "21cef3af",
   "metadata": {},
   "outputs": [
    {
     "data": {
      "text/plain": [
       "[11, 'import sys\\n', 'print(sys.path)\\n', 'x = 2\\n', 'print(x ** 32)\\n']"
      ]
     },
     "execution_count": 67,
     "metadata": {},
     "output_type": "execute_result"
    }
   ],
   "source": [
    "L"
   ]
  },
  {
   "cell_type": "code",
   "execution_count": 68,
   "id": "d0ef46e1",
   "metadata": {},
   "outputs": [],
   "source": [
    "# append doesnot iterate automatically\n",
    "L = [11]\n",
    "L.append(open('script2.py'))"
   ]
  },
  {
   "cell_type": "code",
   "execution_count": 69,
   "id": "541ab119",
   "metadata": {},
   "outputs": [
    {
     "data": {
      "text/plain": [
       "[11, <_io.TextIOWrapper name='script2.py' mode='r' encoding='UTF-8'>]"
      ]
     },
     "execution_count": 69,
     "metadata": {},
     "output_type": "execute_result"
    }
   ],
   "source": [
    "L  # This is because append doesn't iterate automatically."
   ]
  },
  {
   "cell_type": "code",
   "execution_count": 71,
   "id": "03ad8d5d",
   "metadata": {},
   "outputs": [
    {
     "data": {
      "text/plain": [
       "['import sys\\n', 'print(sys.path)\\n', 'x = 2\\n', 'print(x ** 32)\\n']"
      ]
     },
     "execution_count": 71,
     "metadata": {},
     "output_type": "execute_result"
    }
   ],
   "source": [
    "list(L[1])"
   ]
  },
  {
   "cell_type": "markdown",
   "id": "a4124c7f",
   "metadata": {},
   "source": [
    "#### Dictionaries and sets with iterables"
   ]
  },
  {
   "cell_type": "code",
   "execution_count": 73,
   "id": "380e81f0",
   "metadata": {},
   "outputs": [
    {
     "data": {
      "text/plain": [
       "{'import sys\\n', 'print(sys.path)\\n', 'print(x ** 32)\\n', 'x = 2\\n'}"
      ]
     },
     "execution_count": 73,
     "metadata": {},
     "output_type": "execute_result"
    }
   ],
   "source": [
    "set(open('script2.py'))"
   ]
  },
  {
   "cell_type": "code",
   "execution_count": 74,
   "id": "be69d229",
   "metadata": {},
   "outputs": [
    {
     "data": {
      "text/plain": [
       "{'import sys\\n', 'print(sys.path)\\n', 'print(x ** 32)\\n', 'x = 2\\n'}"
      ]
     },
     "execution_count": 74,
     "metadata": {},
     "output_type": "execute_result"
    }
   ],
   "source": [
    "{line for line in open('script2.py')}"
   ]
  },
  {
   "cell_type": "code",
   "execution_count": 76,
   "id": "3668277f",
   "metadata": {},
   "outputs": [
    {
     "data": {
      "text/plain": [
       "{0: 'import sys\\n',\n",
       " 1: 'print(sys.path)\\n',\n",
       " 2: 'x = 2\\n',\n",
       " 3: 'print(x ** 32)\\n'}"
      ]
     },
     "execution_count": 76,
     "metadata": {},
     "output_type": "execute_result"
    }
   ],
   "source": [
    "{ix: line for ix, line in enumerate(open('script2.py'))}"
   ]
  },
  {
   "cell_type": "code",
   "execution_count": 77,
   "id": "ffd16193",
   "metadata": {},
   "outputs": [
    {
     "data": {
      "text/plain": [
       "{'print(sys.path)\\n', 'print(x ** 32)\\n'}"
      ]
     },
     "execution_count": 77,
     "metadata": {},
     "output_type": "execute_result"
    }
   ],
   "source": [
    "# adding if in sets\n",
    "{line for line in open('script2.py') if line[0] == 'p'}"
   ]
  },
  {
   "cell_type": "code",
   "execution_count": 78,
   "id": "23856a68",
   "metadata": {},
   "outputs": [
    {
     "data": {
      "text/plain": [
       "{1: 'print(sys.path)\\n', 3: 'print(x ** 32)\\n'}"
      ]
     },
     "execution_count": 78,
     "metadata": {},
     "output_type": "execute_result"
    }
   ],
   "source": [
    "{ix: line for ix, line in enumerate(open('script2.py')) if line[0] == 'p'}"
   ]
  },
  {
   "cell_type": "code",
   "execution_count": 79,
   "id": "bd9d9858",
   "metadata": {},
   "outputs": [
    {
     "data": {
      "text/plain": [
       "{1: 'print(sys.path)', 3: 'print(x ** 32)'}"
      ]
     },
     "execution_count": 79,
     "metadata": {},
     "output_type": "execute_result"
    }
   ],
   "source": [
    "{ix: line.rstrip() for ix, line in enumerate(open('script2.py')) if line[0] == 'p'}"
   ]
  },
  {
   "cell_type": "code",
   "execution_count": 82,
   "id": "05b9a25b",
   "metadata": {},
   "outputs": [
    {
     "data": {
      "text/plain": [
       "['IMPORT SYS\\n', 'PRINT(SYS.PATH)\\n', 'X = 2\\n', 'PRINT(X ** 32)\\n']"
      ]
     },
     "execution_count": 82,
     "metadata": {},
     "output_type": "execute_result"
    }
   ],
   "source": [
    "# combining the file iteration and comprehension\n",
    "list(line.upper() for line in open('script2.py'))"
   ]
  },
  {
   "cell_type": "markdown",
   "id": "fa431252",
   "metadata": {},
   "source": [
    "### adding other builtin functions to iteration lists"
   ]
  },
  {
   "cell_type": "code",
   "execution_count": 83,
   "id": "00662b74",
   "metadata": {},
   "outputs": [
    {
     "data": {
      "text/plain": [
       "15"
      ]
     },
     "execution_count": 83,
     "metadata": {},
     "output_type": "execute_result"
    }
   ],
   "source": [
    "sum([1, 2, 3, 4, 5])"
   ]
  },
  {
   "cell_type": "code",
   "execution_count": 84,
   "id": "190682aa",
   "metadata": {},
   "outputs": [
    {
     "data": {
      "text/plain": [
       "False"
      ]
     },
     "execution_count": 84,
     "metadata": {},
     "output_type": "execute_result"
    }
   ],
   "source": [
    "all([1, 2, 0])  # using and case"
   ]
  },
  {
   "cell_type": "code",
   "execution_count": 85,
   "id": "aa711bee",
   "metadata": {},
   "outputs": [
    {
     "data": {
      "text/plain": [
       "True"
      ]
     },
     "execution_count": 85,
     "metadata": {},
     "output_type": "execute_result"
    }
   ],
   "source": [
    "any([1, 2, 3, 0])  # using or case"
   ]
  },
  {
   "cell_type": "code",
   "execution_count": 86,
   "id": "519a3228",
   "metadata": {},
   "outputs": [
    {
     "data": {
      "text/plain": [
       "True"
      ]
     },
     "execution_count": 86,
     "metadata": {},
     "output_type": "execute_result"
    }
   ],
   "source": [
    "any(['spam', '', 'eggs'])  # or condition"
   ]
  },
  {
   "cell_type": "code",
   "execution_count": 87,
   "id": "e6610155",
   "metadata": {},
   "outputs": [
    {
     "data": {
      "text/plain": [
       "6"
      ]
     },
     "execution_count": 87,
     "metadata": {},
     "output_type": "execute_result"
    }
   ],
   "source": [
    "max([3, 4, 2, 1, 6, 3])"
   ]
  },
  {
   "cell_type": "code",
   "execution_count": 88,
   "id": "872be987",
   "metadata": {},
   "outputs": [
    {
     "data": {
      "text/plain": [
       "1"
      ]
     },
     "execution_count": 88,
     "metadata": {},
     "output_type": "execute_result"
    }
   ],
   "source": [
    "min([1, 2, 3, 2, 1, 4, 2])"
   ]
  },
  {
   "cell_type": "code",
   "execution_count": 89,
   "id": "7fc0f509",
   "metadata": {},
   "outputs": [
    {
     "data": {
      "text/plain": [
       "'x = 2\\n'"
      ]
     },
     "execution_count": 89,
     "metadata": {},
     "output_type": "execute_result"
    }
   ],
   "source": [
    "max(open('script2.py'))  # line with max or min string value"
   ]
  },
  {
   "cell_type": "code",
   "execution_count": 90,
   "id": "5797653e",
   "metadata": {},
   "outputs": [
    {
     "data": {
      "text/plain": [
       "'import sys\\n'"
      ]
     },
     "execution_count": 90,
     "metadata": {},
     "output_type": "execute_result"
    }
   ],
   "source": [
    "min(open('script2.py'))"
   ]
  },
  {
   "cell_type": "markdown",
   "id": "05690fba",
   "metadata": {},
   "source": [
    "##### *args intro into iteration"
   ]
  },
  {
   "cell_type": "code",
   "execution_count": 91,
   "id": "67119d78",
   "metadata": {},
   "outputs": [],
   "source": [
    "def f(a, b, c, d): print(a, b, c, d, sep='&')"
   ]
  },
  {
   "cell_type": "code",
   "execution_count": 92,
   "id": "67d67e08",
   "metadata": {},
   "outputs": [
    {
     "name": "stdout",
     "output_type": "stream",
     "text": [
      "1&2&3&4\n"
     ]
    }
   ],
   "source": [
    "f(1, 2, 3, 4)"
   ]
  },
  {
   "cell_type": "code",
   "execution_count": 94,
   "id": "c3803917",
   "metadata": {},
   "outputs": [
    {
     "name": "stdout",
     "output_type": "stream",
     "text": [
      "1&2&3&4\n"
     ]
    }
   ],
   "source": [
    "f(*[1, 2, 3, 4])"
   ]
  },
  {
   "cell_type": "code",
   "execution_count": 97,
   "id": "53da27b6",
   "metadata": {},
   "outputs": [
    {
     "name": "stdout",
     "output_type": "stream",
     "text": [
      "import sys\n",
      "&print(sys.path)\n",
      "&x = 2\n",
      "&print(x ** 32)\n",
      "\n"
     ]
    }
   ],
   "source": [
    "f(*open('script2.py'))"
   ]
  },
  {
   "cell_type": "code",
   "execution_count": 98,
   "id": "353a8344",
   "metadata": {},
   "outputs": [],
   "source": [
    "# Using zip in iterables with *args"
   ]
  },
  {
   "cell_type": "code",
   "execution_count": 99,
   "id": "c110b614",
   "metadata": {},
   "outputs": [
    {
     "data": {
      "text/plain": [
       "[(1, 3), (2, 4)]"
      ]
     },
     "execution_count": 99,
     "metadata": {},
     "output_type": "execute_result"
    }
   ],
   "source": [
    "x = (1, 2)\n",
    "y = (3, 4)\n",
    "list(zip(x, y))"
   ]
  },
  {
   "cell_type": "code",
   "execution_count": 104,
   "id": "55e13001",
   "metadata": {},
   "outputs": [],
   "source": [
    "#Unpacking\n",
    "A, B = zip(*zip(x, y))"
   ]
  },
  {
   "cell_type": "code",
   "execution_count": 105,
   "id": "9830cdc5",
   "metadata": {},
   "outputs": [
    {
     "data": {
      "text/plain": [
       "(1, 2)"
      ]
     },
     "execution_count": 105,
     "metadata": {},
     "output_type": "execute_result"
    }
   ],
   "source": [
    "A"
   ]
  },
  {
   "cell_type": "code",
   "execution_count": 106,
   "id": "17fc29aa",
   "metadata": {},
   "outputs": [
    {
     "data": {
      "text/plain": [
       "(3, 4)"
      ]
     },
     "execution_count": 106,
     "metadata": {},
     "output_type": "execute_result"
    }
   ],
   "source": [
    "B"
   ]
  },
  {
   "cell_type": "code",
   "execution_count": null,
   "id": "e91823ef",
   "metadata": {},
   "outputs": [],
   "source": []
  }
 ],
 "metadata": {
  "kernelspec": {
   "display_name": "Python 3",
   "language": "python",
   "name": "python3"
  },
  "language_info": {
   "codemirror_mode": {
    "name": "ipython",
    "version": 3
   },
   "file_extension": ".py",
   "mimetype": "text/x-python",
   "name": "python",
   "nbconvert_exporter": "python",
   "pygments_lexer": "ipython3",
   "version": "3.8.8"
  }
 },
 "nbformat": 4,
 "nbformat_minor": 5
}
