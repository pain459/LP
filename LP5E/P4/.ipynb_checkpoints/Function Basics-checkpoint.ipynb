{
 "cells": [
  {
   "cell_type": "markdown",
   "id": "8f1ae659-13c2-4316-9547-760855a4644c",
   "metadata": {
    "jupyter": {
     "source_hidden": true
    },
    "tags": []
   },
   "source": [
    "## A First Example: Definitions and Calls"
   ]
  },
  {
   "cell_type": "code",
   "execution_count": 1,
   "id": "956c2d07-465f-416c-b578-70856c3c50c5",
   "metadata": {},
   "outputs": [],
   "source": [
    "def times(x, y):\n",
    "    return x * y"
   ]
  },
  {
   "cell_type": "code",
   "execution_count": 2,
   "id": "2474e96d-92df-4e85-bc7f-6ea1c795684c",
   "metadata": {},
   "outputs": [
    {
     "data": {
      "text/plain": [
       "3"
      ]
     },
     "execution_count": 2,
     "metadata": {},
     "output_type": "execute_result"
    }
   ],
   "source": [
    "times(1, 3)"
   ]
  },
  {
   "cell_type": "code",
   "execution_count": 3,
   "id": "1308d6f1-de3d-4e82-9be3-976f88e937d2",
   "metadata": {},
   "outputs": [
    {
     "data": {
      "text/plain": [
       "12"
      ]
     },
     "execution_count": 3,
     "metadata": {},
     "output_type": "execute_result"
    }
   ],
   "source": [
    "x = times(3, 4)\n",
    "x"
   ]
  },
  {
   "cell_type": "markdown",
   "id": "608ef713-359a-4427-852f-72683089812a",
   "metadata": {},
   "source": [
    "## A Second Example: Intersecting Sequences"
   ]
  },
  {
   "cell_type": "code",
   "execution_count": 4,
   "id": "e41b5df7-446c-4178-9645-14f6b9c06a4f",
   "metadata": {},
   "outputs": [],
   "source": [
    "def intersect(seq1, seq2):\n",
    "    res = []\n",
    "    for x in seq1:\n",
    "        if x in seq2:\n",
    "            res.append(x)\n",
    "    return res"
   ]
  },
  {
   "cell_type": "code",
   "execution_count": 5,
   "id": "ae994092-13bb-4fd6-8611-92ef4eeb0d8a",
   "metadata": {},
   "outputs": [
    {
     "data": {
      "text/plain": [
       "['S', 'A', 'M']"
      ]
     },
     "execution_count": 5,
     "metadata": {},
     "output_type": "execute_result"
    }
   ],
   "source": [
    "s1 = 'SPAM'\n",
    "s2 = 'SCAM'\n",
    "intersect(s1, s2)"
   ]
  },
  {
   "cell_type": "code",
   "execution_count": 7,
   "id": "4747971a-e8e5-4078-9fc1-acba8b69a9cf",
   "metadata": {},
   "outputs": [
    {
     "data": {
      "text/plain": [
       "['S', 'A', 'M']"
      ]
     },
     "execution_count": 7,
     "metadata": {},
     "output_type": "execute_result"
    }
   ],
   "source": [
    "# Using list comprehensions.\n",
    "x = [x for x in s1 if x in s2]\n",
    "x"
   ]
  },
  {
   "cell_type": "code",
   "execution_count": null,
   "id": "4d891876-551e-4e3a-b6da-f45b07bc4268",
   "metadata": {},
   "outputs": [],
   "source": []
  }
 ],
 "metadata": {
  "kernelspec": {
   "display_name": "Python 3 (ipykernel)",
   "language": "python",
   "name": "python3"
  },
  "language_info": {
   "codemirror_mode": {
    "name": "ipython",
    "version": 3
   },
   "file_extension": ".py",
   "mimetype": "text/x-python",
   "name": "python",
   "nbconvert_exporter": "python",
   "pygments_lexer": "ipython3",
   "version": "3.7.9"
  }
 },
 "nbformat": 4,
 "nbformat_minor": 5
}
