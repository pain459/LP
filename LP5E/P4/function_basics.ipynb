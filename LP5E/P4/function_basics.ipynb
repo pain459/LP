{
 "cells": [
  {
   "cell_type": "markdown",
   "id": "ca87149e-c622-492a-8a88-ea0dc2a40ac7",
   "metadata": {},
   "source": [
    "Function Basics"
   ]
  },
  {
   "cell_type": "code",
   "execution_count": 1,
   "id": "8117b09c-5077-48ff-ae84-b55a0f3d83b0",
   "metadata": {
    "execution": {
     "iopub.execute_input": "2021-11-05T16:03:05.645132Z",
     "iopub.status.busy": "2021-11-05T16:03:05.644695Z",
     "iopub.status.idle": "2021-11-05T16:03:05.738029Z",
     "shell.execute_reply": "2021-11-05T16:03:05.737089Z",
     "shell.execute_reply.started": "2021-11-05T16:03:05.645046Z"
    }
   },
   "outputs": [],
   "source": [
    "# A first example: Definitions and calls\n",
    "def times(x, y):\n",
    "    return x * y"
   ]
  },
  {
   "cell_type": "code",
   "execution_count": 2,
   "id": "eac640a9-352d-493a-bcb8-ea5ddf6fecea",
   "metadata": {
    "execution": {
     "iopub.execute_input": "2021-11-05T16:03:09.853275Z",
     "iopub.status.busy": "2021-11-05T16:03:09.852613Z",
     "iopub.status.idle": "2021-11-05T16:03:09.866827Z",
     "shell.execute_reply": "2021-11-05T16:03:09.866296Z",
     "shell.execute_reply.started": "2021-11-05T16:03:09.853249Z"
    }
   },
   "outputs": [
    {
     "data": {
      "text/plain": [
       "8"
      ]
     },
     "execution_count": 2,
     "metadata": {},
     "output_type": "execute_result"
    }
   ],
   "source": [
    "times(2, 4)"
   ]
  },
  {
   "cell_type": "code",
   "execution_count": 3,
   "id": "6d7d3c8c-4273-491f-a361-e8f750a3b4c3",
   "metadata": {
    "execution": {
     "iopub.execute_input": "2021-11-05T16:03:26.230257Z",
     "iopub.status.busy": "2021-11-05T16:03:26.229978Z",
     "iopub.status.idle": "2021-11-05T16:03:26.237169Z",
     "shell.execute_reply": "2021-11-05T16:03:26.236580Z",
     "shell.execute_reply.started": "2021-11-05T16:03:26.230232Z"
    }
   },
   "outputs": [],
   "source": [
    "x = times(3.14, 5)"
   ]
  },
  {
   "cell_type": "code",
   "execution_count": 4,
   "id": "2edeab67-c7e3-4fa0-9010-a58f28684645",
   "metadata": {
    "execution": {
     "iopub.execute_input": "2021-11-05T16:03:27.769977Z",
     "iopub.status.busy": "2021-11-05T16:03:27.769696Z",
     "iopub.status.idle": "2021-11-05T16:03:27.778173Z",
     "shell.execute_reply": "2021-11-05T16:03:27.777601Z",
     "shell.execute_reply.started": "2021-11-05T16:03:27.769952Z"
    }
   },
   "outputs": [
    {
     "data": {
      "text/plain": [
       "15.700000000000001"
      ]
     },
     "execution_count": 4,
     "metadata": {},
     "output_type": "execute_result"
    }
   ],
   "source": [
    "x"
   ]
  },
  {
   "cell_type": "code",
   "execution_count": 5,
   "id": "091ee04e-01c4-44c8-bef4-fca74ff4b485",
   "metadata": {
    "execution": {
     "iopub.execute_input": "2021-11-05T16:03:47.279815Z",
     "iopub.status.busy": "2021-11-05T16:03:47.278820Z",
     "iopub.status.idle": "2021-11-05T16:03:47.287184Z",
     "shell.execute_reply": "2021-11-05T16:03:47.286564Z",
     "shell.execute_reply.started": "2021-11-05T16:03:47.279788Z"
    }
   },
   "outputs": [
    {
     "data": {
      "text/plain": [
       "'NiNiNiNi'"
      ]
     },
     "execution_count": 5,
     "metadata": {},
     "output_type": "execute_result"
    }
   ],
   "source": [
    "times('Ni', 4)"
   ]
  },
  {
   "cell_type": "code",
   "execution_count": 6,
   "id": "36ef8c2b-c184-437a-bae8-6fef37f48f37",
   "metadata": {
    "execution": {
     "iopub.execute_input": "2021-11-05T16:08:16.069271Z",
     "iopub.status.busy": "2021-11-05T16:08:16.068955Z",
     "iopub.status.idle": "2021-11-05T16:08:16.077352Z",
     "shell.execute_reply": "2021-11-05T16:08:16.076745Z",
     "shell.execute_reply.started": "2021-11-05T16:08:16.069244Z"
    }
   },
   "outputs": [],
   "source": [
    "# A second example: Intersecting Sequences\n",
    "def intersect(seq1, seq2):\n",
    "    res = []\n",
    "    for x in seq1:\n",
    "        if x in seq2:\n",
    "            res.append(x)\n",
    "    return res"
   ]
  },
  {
   "cell_type": "code",
   "execution_count": 7,
   "id": "1960d2b0-5d26-4c88-aa82-df074ad76c64",
   "metadata": {
    "execution": {
     "iopub.execute_input": "2021-11-05T16:08:48.271086Z",
     "iopub.status.busy": "2021-11-05T16:08:48.270769Z",
     "iopub.status.idle": "2021-11-05T16:08:48.279242Z",
     "shell.execute_reply": "2021-11-05T16:08:48.278724Z",
     "shell.execute_reply.started": "2021-11-05T16:08:48.271059Z"
    }
   },
   "outputs": [
    {
     "data": {
      "text/plain": [
       "['s', 'a', 'm']"
      ]
     },
     "execution_count": 7,
     "metadata": {},
     "output_type": "execute_result"
    }
   ],
   "source": [
    "s1 = 'spam'\n",
    "s2 = 'scam'\n",
    "intersect(s1, s2)"
   ]
  },
  {
   "cell_type": "code",
   "execution_count": 8,
   "id": "c57d6e99-e0b4-477e-b1a2-2389b6de2023",
   "metadata": {
    "execution": {
     "iopub.execute_input": "2021-11-05T16:10:30.998429Z",
     "iopub.status.busy": "2021-11-05T16:10:30.998032Z",
     "iopub.status.idle": "2021-11-05T16:10:31.005432Z",
     "shell.execute_reply": "2021-11-05T16:10:31.004924Z",
     "shell.execute_reply.started": "2021-11-05T16:10:30.998402Z"
    }
   },
   "outputs": [],
   "source": [
    "# testing polymorphism\n",
    "x = intersect([1, 2, 3], (1, 4))"
   ]
  },
  {
   "cell_type": "code",
   "execution_count": 9,
   "id": "b42c5932-4548-4a97-bb70-58460acff3dc",
   "metadata": {
    "execution": {
     "iopub.execute_input": "2021-11-05T16:10:32.470640Z",
     "iopub.status.busy": "2021-11-05T16:10:32.470257Z",
     "iopub.status.idle": "2021-11-05T16:10:32.478029Z",
     "shell.execute_reply": "2021-11-05T16:10:32.477501Z",
     "shell.execute_reply.started": "2021-11-05T16:10:32.470613Z"
    }
   },
   "outputs": [
    {
     "data": {
      "text/plain": [
       "[1]"
      ]
     },
     "execution_count": 9,
     "metadata": {},
     "output_type": "execute_result"
    }
   ],
   "source": [
    "x"
   ]
  },
  {
   "cell_type": "code",
   "execution_count": null,
   "id": "3712c0cb-7d25-4a42-b533-e5d1818674b6",
   "metadata": {},
   "outputs": [],
   "source": []
  }
 ],
 "metadata": {
  "kernelspec": {
   "display_name": "Python 3 (ipykernel)",
   "language": "python",
   "name": "python3"
  },
  "language_info": {
   "codemirror_mode": {
    "name": "ipython",
    "version": 3
   },
   "file_extension": ".py",
   "mimetype": "text/x-python",
   "name": "python",
   "nbconvert_exporter": "python",
   "pygments_lexer": "ipython3",
   "version": "3.7.4"
  },
  "widgets": {
   "application/vnd.jupyter.widget-state+json": {
    "state": {},
    "version_major": 2,
    "version_minor": 0
   }
  }
 },
 "nbformat": 4,
 "nbformat_minor": 5
}
