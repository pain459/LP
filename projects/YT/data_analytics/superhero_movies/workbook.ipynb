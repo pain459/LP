{
 "cells": [
  {
   "cell_type": "code",
   "execution_count": 1,
   "metadata": {},
   "outputs": [],
   "source": [
    "import kaggle"
   ]
  },
  {
   "cell_type": "code",
   "execution_count": 4,
   "metadata": {},
   "outputs": [
    {
     "name": "stdout",
     "output_type": "stream",
     "text": [
      "Dataset URL: https://www.kaggle.com/datasets/bwandowando/rotten-tomatoesall-time-best-super-hero-movies\n",
      "License(s): CC-BY-NC-SA-4.0\n",
      "Downloading rotten-tomatoesall-time-best-super-hero-movies.zip to /home/ravik/src_git/LP/projects/YT/data_analytics/superhero_movies\n",
      "100%|████████████████████████████████████████| 211M/211M [00:12<00:00, 19.8MB/s]\n",
      "100%|████████████████████████████████████████| 211M/211M [00:12<00:00, 17.6MB/s]\n"
     ]
    }
   ],
   "source": [
    "# Download datasets\n",
    "!kaggle datasets download -d bwandowando/rotten-tomatoesall-time-best-super-hero-movies\n"
   ]
  },
  {
   "cell_type": "code",
   "execution_count": 6,
   "metadata": {},
   "outputs": [],
   "source": [
    "# unzipping in python\n",
    "import zipfile\n",
    "zip_ref = zipfile.ZipFile(\"movies.zip\")\n",
    "zip_ref.extractall()\n",
    "zip_ref.close()"
   ]
  },
  {
   "cell_type": "code",
   "execution_count": 9,
   "metadata": {},
   "outputs": [
    {
     "data": {
      "text/html": [
       "<div>\n",
       "<style scoped>\n",
       "    .dataframe tbody tr th:only-of-type {\n",
       "        vertical-align: middle;\n",
       "    }\n",
       "\n",
       "    .dataframe tbody tr th {\n",
       "        vertical-align: top;\n",
       "    }\n",
       "\n",
       "    .dataframe thead th {\n",
       "        text-align: right;\n",
       "    }\n",
       "</style>\n",
       "<table border=\"1\" class=\"dataframe\">\n",
       "  <thead>\n",
       "    <tr style=\"text-align: right;\">\n",
       "      <th></th>\n",
       "      <th>movieId</th>\n",
       "      <th>movieTitle</th>\n",
       "      <th>movieYear</th>\n",
       "      <th>movieURL</th>\n",
       "      <th>movieRank</th>\n",
       "      <th>critic_score</th>\n",
       "      <th>audience_score</th>\n",
       "    </tr>\n",
       "  </thead>\n",
       "  <tbody>\n",
       "    <tr>\n",
       "      <th>0</th>\n",
       "      <td>4517f650-c60a-4edc-b37e-9236213c2b93</td>\n",
       "      <td>Spider-Man: Into the Spider-Verse</td>\n",
       "      <td>2018</td>\n",
       "      <td>https://www.rottentomatoes.com/m/spider_man_in...</td>\n",
       "      <td>1</td>\n",
       "      <td>97%</td>\n",
       "      <td>94%</td>\n",
       "    </tr>\n",
       "    <tr>\n",
       "      <th>1</th>\n",
       "      <td>9ddacc49-1918-3722-b5d9-4a1fa6b9b2a3</td>\n",
       "      <td>The Incredibles</td>\n",
       "      <td>2004</td>\n",
       "      <td>https://www.rottentomatoes.com/m/the_incredibles</td>\n",
       "      <td>2</td>\n",
       "      <td>97%</td>\n",
       "      <td>75%</td>\n",
       "    </tr>\n",
       "    <tr>\n",
       "      <th>2</th>\n",
       "      <td>e1374d4d-19b0-31b2-a6cc-c4189f2b27ca</td>\n",
       "      <td>Black Panther</td>\n",
       "      <td>2018</td>\n",
       "      <td>https://www.rottentomatoes.com/m/black_panther...</td>\n",
       "      <td>3</td>\n",
       "      <td>96%</td>\n",
       "      <td>79%</td>\n",
       "    </tr>\n",
       "    <tr>\n",
       "      <th>3</th>\n",
       "      <td>27539355-4940-4c29-aaab-d3fe4dafa4ee</td>\n",
       "      <td>Spider-Man: Across the Spider-Verse</td>\n",
       "      <td>2023</td>\n",
       "      <td>https://www.rottentomatoes.com/m/spider_man_ac...</td>\n",
       "      <td>4</td>\n",
       "      <td>95%</td>\n",
       "      <td>94%</td>\n",
       "    </tr>\n",
       "    <tr>\n",
       "      <th>4</th>\n",
       "      <td>2da44bd6-2a22-3238-a139-a40ab1769550</td>\n",
       "      <td>Teenage Mutant Ninja Turtles: Mutant Mayhem</td>\n",
       "      <td>2023</td>\n",
       "      <td>https://www.rottentomatoes.com/m/teenage_mutan...</td>\n",
       "      <td>5</td>\n",
       "      <td>95%</td>\n",
       "      <td>90%</td>\n",
       "    </tr>\n",
       "  </tbody>\n",
       "</table>\n",
       "</div>"
      ],
      "text/plain": [
       "                                movieId  \\\n",
       "0  4517f650-c60a-4edc-b37e-9236213c2b93   \n",
       "1  9ddacc49-1918-3722-b5d9-4a1fa6b9b2a3   \n",
       "2  e1374d4d-19b0-31b2-a6cc-c4189f2b27ca   \n",
       "3  27539355-4940-4c29-aaab-d3fe4dafa4ee   \n",
       "4  2da44bd6-2a22-3238-a139-a40ab1769550   \n",
       "\n",
       "                                    movieTitle  movieYear  \\\n",
       "0            Spider-Man: Into the Spider-Verse       2018   \n",
       "1                              The Incredibles       2004   \n",
       "2                                Black Panther       2018   \n",
       "3          Spider-Man: Across the Spider-Verse       2023   \n",
       "4  Teenage Mutant Ninja Turtles: Mutant Mayhem       2023   \n",
       "\n",
       "                                            movieURL  movieRank critic_score  \\\n",
       "0  https://www.rottentomatoes.com/m/spider_man_in...          1          97%   \n",
       "1   https://www.rottentomatoes.com/m/the_incredibles          2          97%   \n",
       "2  https://www.rottentomatoes.com/m/black_panther...          3          96%   \n",
       "3  https://www.rottentomatoes.com/m/spider_man_ac...          4          95%   \n",
       "4  https://www.rottentomatoes.com/m/teenage_mutan...          5          95%   \n",
       "\n",
       "  audience_score  \n",
       "0            94%  \n",
       "1            75%  \n",
       "2            79%  \n",
       "3            94%  \n",
       "4            90%  "
      ]
     },
     "execution_count": 9,
     "metadata": {},
     "output_type": "execute_result"
    }
   ],
   "source": [
    "# Read the file the file and handle null values\n",
    "import pandas as pd\n",
    "df_movies = pd.read_csv(\"movies.csv/movies.csv\")\n",
    "df_user_reviews = pd.read_csv(\"user_reviews.csv/user_reviews.csv\")\n",
    "df_critic_reviews = pd.read_csv(\"critic_reviews.csv/critic_reviews.csv\")\n",
    "df_movies.head(5)"
   ]
  },
  {
   "cell_type": "code",
   "execution_count": 10,
   "metadata": {},
   "outputs": [
    {
     "data": {
      "text/plain": [
       "movieId           object\n",
       "movieTitle        object\n",
       "movieYear          int64\n",
       "movieURL          object\n",
       "movieRank          int64\n",
       "critic_score      object\n",
       "audience_score    object\n",
       "dtype: object"
      ]
     },
     "execution_count": 10,
     "metadata": {},
     "output_type": "execute_result"
    }
   ],
   "source": [
    "df_movies.dtypes"
   ]
  },
  {
   "cell_type": "code",
   "execution_count": 11,
   "metadata": {},
   "outputs": [],
   "source": [
    "# Load the data into pg server using replace option\n",
    "from sqlalchemy import create_engine\n",
    "dbname = 'postgres'\n",
    "user = 'postgres'\n",
    "password = 'mysecretpassword'\n",
    "host = 'localhost'\n",
    "port = '5432'\n",
    "\n",
    "engine = create_engine(f'postgresql+psycopg2://{user}:{password}@{host}:{port}/{dbname}')\n",
    "conn = engine.connect()"
   ]
  },
  {
   "cell_type": "code",
   "execution_count": 12,
   "metadata": {},
   "outputs": [
    {
     "data": {
      "text/plain": [
       "100"
      ]
     },
     "execution_count": 12,
     "metadata": {},
     "output_type": "execute_result"
    }
   ],
   "source": [
    "df_movies.to_sql('df_movies', con=conn, index=False, if_exists='replace')"
   ]
  },
  {
   "cell_type": "code",
   "execution_count": 13,
   "metadata": {},
   "outputs": [
    {
     "data": {
      "text/plain": [
       "583"
      ]
     },
     "execution_count": 13,
     "metadata": {},
     "output_type": "execute_result"
    }
   ],
   "source": [
    "df_user_reviews.to_sql('df_user_reviews', con=conn, index=False, if_exists='replace')"
   ]
  },
  {
   "cell_type": "code",
   "execution_count": 14,
   "metadata": {},
   "outputs": [
    {
     "data": {
      "text/plain": [
       "142"
      ]
     },
     "execution_count": 14,
     "metadata": {},
     "output_type": "execute_result"
    }
   ],
   "source": [
    "df_critic_reviews.to_sql('df_critic_reviews', con=conn, index=False, if_exists='replace')"
   ]
  },
  {
   "cell_type": "code",
   "execution_count": null,
   "metadata": {},
   "outputs": [],
   "source": []
  }
 ],
 "metadata": {
  "kernelspec": {
   "display_name": "env",
   "language": "python",
   "name": "python3"
  },
  "language_info": {
   "codemirror_mode": {
    "name": "ipython",
    "version": 3
   },
   "file_extension": ".py",
   "mimetype": "text/x-python",
   "name": "python",
   "nbconvert_exporter": "python",
   "pygments_lexer": "ipython3",
   "version": "3.12.3"
  }
 },
 "nbformat": 4,
 "nbformat_minor": 2
}
