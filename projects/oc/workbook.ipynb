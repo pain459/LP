{
 "cells": [
  {
   "cell_type": "code",
   "execution_count": 4,
   "metadata": {},
   "outputs": [],
   "source": [
    "import pandas as pd\n",
    "import openpyxl"
   ]
  },
  {
   "cell_type": "code",
   "execution_count": 6,
   "metadata": {},
   "outputs": [],
   "source": [
    "# Load the uploaded Excel file\n",
    "file_path = '/home/ravik/src_git/LP/projects/oc/sch.xlsx'\n",
    "df = pd.read_excel(file_path)\n",
    "\n",
    "# Convert DATE column to datetime format if it's not already\n",
    "df['DATE'] = pd.to_datetime(df['DATE'])\n",
    "\n",
    "# Function to filter the DataFrame by date range and convert to dictionary\n",
    "def filter_and_convert_to_dict(df, start_date, end_date):\n",
    "    # Convert the input dates to datetime format\n",
    "    start_date = pd.to_datetime(start_date)\n",
    "    end_date = pd.to_datetime(end_date)\n",
    "    \n",
    "    # Filter the DataFrame by the date range\n",
    "    filtered_df = df[(df['DATE'] >= start_date) & (df['DATE'] <= end_date)]\n",
    "    \n",
    "    # Convert the filtered DataFrame to the desired dictionary format\n",
    "    result_dict = {}\n",
    "    for index, row in filtered_df.iterrows():\n",
    "        date_str = row['DATE'].strftime('%Y%m%d')\n",
    "        result_dict[date_str] = [\n",
    "            {'O1': row['O1']},\n",
    "            {'O2': row['O2']},\n",
    "            {'O3': row['O3']},\n",
    "            {'D1': row['D1']},\n",
    "            {'D2': row['D2']}\n",
    "        ]\n",
    "    return result_dict\n",
    "\n",
    "# Example usage\n",
    "start_date = '06/12/2024'\n",
    "end_date = '06/30/2024'\n",
    "filtered_dict = filter_and_convert_to_dict(df, start_date, end_date)\n"
   ]
  },
  {
   "cell_type": "code",
   "execution_count": 7,
   "metadata": {},
   "outputs": [
    {
     "data": {
      "text/plain": [
       "{'20240612': [{'O1': 'string1'},\n",
       "  {'O2': 'string1'},\n",
       "  {'O3': 'string1'},\n",
       "  {'D1': 'dstring1'},\n",
       "  {'D2': 'dstring1'}],\n",
       " '20240613': [{'O1': 'string2'},\n",
       "  {'O2': 'string2'},\n",
       "  {'O3': 'string2'},\n",
       "  {'D1': 'dstring2'},\n",
       "  {'D2': 'dstring2'}],\n",
       " '20240614': [{'O1': 'string3'},\n",
       "  {'O2': 'string3'},\n",
       "  {'O3': 'string3'},\n",
       "  {'D1': 'dstring3'},\n",
       "  {'D2': 'dstring3'}],\n",
       " '20240615': [{'O1': 'string4'},\n",
       "  {'O2': 'string4'},\n",
       "  {'O3': 'string4'},\n",
       "  {'D1': 'dstring4'},\n",
       "  {'D2': 'dstring4'}],\n",
       " '20240616': [{'O1': 'string5'},\n",
       "  {'O2': 'string5'},\n",
       "  {'O3': 'string5'},\n",
       "  {'D1': 'dstring5'},\n",
       "  {'D2': 'dstring5'}],\n",
       " '20240617': [{'O1': 'string6'},\n",
       "  {'O2': 'string6'},\n",
       "  {'O3': 'string6'},\n",
       "  {'D1': 'dstring6'},\n",
       "  {'D2': 'dstring6'}],\n",
       " '20240618': [{'O1': 'string7'},\n",
       "  {'O2': 'string7'},\n",
       "  {'O3': 'string7'},\n",
       "  {'D1': 'dstring7'},\n",
       "  {'D2': 'dstring7'}],\n",
       " '20240619': [{'O1': 'string8'},\n",
       "  {'O2': 'string8'},\n",
       "  {'O3': 'string8'},\n",
       "  {'D1': 'dstring8'},\n",
       "  {'D2': 'dstring8'}],\n",
       " '20240620': [{'O1': 'string9'},\n",
       "  {'O2': 'string9'},\n",
       "  {'O3': 'string9'},\n",
       "  {'D1': 'dstring9'},\n",
       "  {'D2': 'dstring9'}],\n",
       " '20240621': [{'O1': 'string10'},\n",
       "  {'O2': 'string10'},\n",
       "  {'O3': 'string10'},\n",
       "  {'D1': 'dstring10'},\n",
       "  {'D2': 'dstring10'}],\n",
       " '20240622': [{'O1': 'string11'},\n",
       "  {'O2': 'string11'},\n",
       "  {'O3': 'string11'},\n",
       "  {'D1': 'dstring11'},\n",
       "  {'D2': 'dstring11'}],\n",
       " '20240623': [{'O1': 'string12'},\n",
       "  {'O2': 'string12'},\n",
       "  {'O3': 'string12'},\n",
       "  {'D1': 'dstring12'},\n",
       "  {'D2': 'dstring12'}],\n",
       " '20240624': [{'O1': 'string13'},\n",
       "  {'O2': 'string13'},\n",
       "  {'O3': 'string13'},\n",
       "  {'D1': 'dstring13'},\n",
       "  {'D2': 'dstring13'}],\n",
       " '20240625': [{'O1': 'string14'},\n",
       "  {'O2': 'string14'},\n",
       "  {'O3': 'string14'},\n",
       "  {'D1': 'dstring14'},\n",
       "  {'D2': 'dstring14'}],\n",
       " '20240626': [{'O1': 'string15'},\n",
       "  {'O2': 'string15'},\n",
       "  {'O3': 'string15'},\n",
       "  {'D1': 'dstring15'},\n",
       "  {'D2': 'dstring15'}],\n",
       " '20240627': [{'O1': 'string16'},\n",
       "  {'O2': 'string16'},\n",
       "  {'O3': 'string16'},\n",
       "  {'D1': 'dstring16'},\n",
       "  {'D2': 'dstring16'}],\n",
       " '20240628': [{'O1': 'string17'},\n",
       "  {'O2': 'string17'},\n",
       "  {'O3': 'string17'},\n",
       "  {'D1': 'dstring17'},\n",
       "  {'D2': 'dstring17'}],\n",
       " '20240629': [{'O1': 'string18'},\n",
       "  {'O2': 'string18'},\n",
       "  {'O3': 'string18'},\n",
       "  {'D1': 'dstring18'},\n",
       "  {'D2': 'dstring18'}],\n",
       " '20240630': [{'O1': 'string19'},\n",
       "  {'O2': 'string19'},\n",
       "  {'O3': 'string19'},\n",
       "  {'D1': 'dstring19'},\n",
       "  {'D2': 'dstring19'}]}"
      ]
     },
     "execution_count": 7,
     "metadata": {},
     "output_type": "execute_result"
    }
   ],
   "source": [
    "filtered_dict"
   ]
  },
  {
   "cell_type": "code",
   "execution_count": 9,
   "metadata": {},
   "outputs": [
    {
     "data": {
      "text/plain": [
       "[{'O1': 'string1'},\n",
       " {'O2': 'string1'},\n",
       " {'O3': 'string1'},\n",
       " {'D1': 'dstring1'},\n",
       " {'D2': 'dstring1'}]"
      ]
     },
     "execution_count": 9,
     "metadata": {},
     "output_type": "execute_result"
    }
   ],
   "source": [
    "filtered_dict['20240612']"
   ]
  },
  {
   "cell_type": "code",
   "execution_count": null,
   "metadata": {},
   "outputs": [],
   "source": []
  }
 ],
 "metadata": {
  "kernelspec": {
   "display_name": "env",
   "language": "python",
   "name": "python3"
  },
  "language_info": {
   "codemirror_mode": {
    "name": "ipython",
    "version": 3
   },
   "file_extension": ".py",
   "mimetype": "text/x-python",
   "name": "python",
   "nbconvert_exporter": "python",
   "pygments_lexer": "ipython3",
   "version": "3.12.3"
  }
 },
 "nbformat": 4,
 "nbformat_minor": 2
}
