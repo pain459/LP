{
 "cells": [
  {
   "cell_type": "code",
   "execution_count": 12,
   "metadata": {},
   "outputs": [],
   "source": [
    "import pandas as pd\n",
    "import openpyxl"
   ]
  },
  {
   "cell_type": "code",
   "execution_count": 13,
   "metadata": {},
   "outputs": [],
   "source": [
    "# Load the uploaded Excel file\n",
    "file_path = '/home/ravik/src_git/LP/projects/oc/sch.xlsx'\n",
    "df = pd.read_excel(file_path)\n",
    "\n",
    "# Convert DATE column to datetime format if it's not already\n",
    "df['DATE'] = pd.to_datetime(df['DATE'])\n",
    "\n",
    "# Function to filter the DataFrame by date range and convert to dictionary\n",
    "def filter_and_convert_to_dict(df, start_date, end_date):\n",
    "    # Convert the input dates to datetime format\n",
    "    start_date = pd.to_datetime(start_date)\n",
    "    end_date = pd.to_datetime(end_date)\n",
    "    \n",
    "    # Filter the DataFrame by the date range\n",
    "    filtered_df = df[(df['DATE'] >= start_date) & (df['DATE'] <= end_date)]\n",
    "    \n",
    "    # Convert the filtered DataFrame to the desired dictionary format\n",
    "    result_dict = {}\n",
    "    for index, row in filtered_df.iterrows():\n",
    "        date_str = row['DATE'].strftime('%Y%m%d')\n",
    "        result_dict[date_str] = [\n",
    "            {'O1': row['O1']},\n",
    "            {'O2': row['O2']},\n",
    "            {'O3': row['O3']},\n",
    "            {'D1': row['D1']},\n",
    "            {'D2': row['D2']}\n",
    "        ]\n",
    "    return result_dict\n",
    "\n",
    "# Example usage\n",
    "start_date = '06/12/2024'\n",
    "end_date = '06/30/2024'\n",
    "filtered_dict = filter_and_convert_to_dict(df, start_date, end_date)\n"
   ]
  },
  {
   "cell_type": "code",
   "execution_count": 14,
   "metadata": {},
   "outputs": [
    {
     "data": {
      "text/plain": [
       "{'20240612': [{'O1': 'string1'},\n",
       "  {'O2': 'string1'},\n",
       "  {'O3': 'string1'},\n",
       "  {'D1': 'dstring1'},\n",
       "  {'D2': 'dstring1'}],\n",
       " '20240613': [{'O1': 'string2'},\n",
       "  {'O2': 'string2'},\n",
       "  {'O3': 'string2'},\n",
       "  {'D1': 'dstring2'},\n",
       "  {'D2': 'dstring2'}],\n",
       " '20240614': [{'O1': 'string3'},\n",
       "  {'O2': 'string3'},\n",
       "  {'O3': 'string3'},\n",
       "  {'D1': 'dstring3'},\n",
       "  {'D2': 'dstring3'}],\n",
       " '20240615': [{'O1': 'string4'},\n",
       "  {'O2': 'string4'},\n",
       "  {'O3': 'string4'},\n",
       "  {'D1': 'dstring4'},\n",
       "  {'D2': 'dstring4'}],\n",
       " '20240616': [{'O1': 'string5'},\n",
       "  {'O2': 'string5'},\n",
       "  {'O3': 'string5'},\n",
       "  {'D1': 'dstring5'},\n",
       "  {'D2': 'dstring5'}],\n",
       " '20240617': [{'O1': 'string6'},\n",
       "  {'O2': 'string6'},\n",
       "  {'O3': 'string6'},\n",
       "  {'D1': 'dstring6'},\n",
       "  {'D2': 'dstring6'}],\n",
       " '20240618': [{'O1': 'string7'},\n",
       "  {'O2': 'string7'},\n",
       "  {'O3': 'string7'},\n",
       "  {'D1': 'dstring7'},\n",
       "  {'D2': 'dstring7'}],\n",
       " '20240619': [{'O1': 'string8'},\n",
       "  {'O2': 'string8'},\n",
       "  {'O3': 'string8'},\n",
       "  {'D1': 'dstring8'},\n",
       "  {'D2': 'dstring8'}],\n",
       " '20240620': [{'O1': 'string9'},\n",
       "  {'O2': 'string9'},\n",
       "  {'O3': 'string9'},\n",
       "  {'D1': 'dstring9'},\n",
       "  {'D2': 'dstring9'}],\n",
       " '20240621': [{'O1': 'string10'},\n",
       "  {'O2': 'string10'},\n",
       "  {'O3': 'string10'},\n",
       "  {'D1': 'dstring10'},\n",
       "  {'D2': 'dstring10'}],\n",
       " '20240622': [{'O1': 'string11'},\n",
       "  {'O2': 'string11'},\n",
       "  {'O3': 'string11'},\n",
       "  {'D1': 'dstring11'},\n",
       "  {'D2': 'dstring11'}],\n",
       " '20240623': [{'O1': 'string12'},\n",
       "  {'O2': 'string12'},\n",
       "  {'O3': 'string12'},\n",
       "  {'D1': 'dstring12'},\n",
       "  {'D2': 'dstring12'}],\n",
       " '20240624': [{'O1': 'string13'},\n",
       "  {'O2': 'string13'},\n",
       "  {'O3': 'string13'},\n",
       "  {'D1': 'dstring13'},\n",
       "  {'D2': 'dstring13'}],\n",
       " '20240625': [{'O1': 'string14'},\n",
       "  {'O2': 'string14'},\n",
       "  {'O3': 'string14'},\n",
       "  {'D1': 'dstring14'},\n",
       "  {'D2': 'dstring14'}],\n",
       " '20240626': [{'O1': 'string15'},\n",
       "  {'O2': 'string15'},\n",
       "  {'O3': 'string15'},\n",
       "  {'D1': 'dstring15'},\n",
       "  {'D2': 'dstring15'}],\n",
       " '20240627': [{'O1': 'string16'},\n",
       "  {'O2': 'string16'},\n",
       "  {'O3': 'string16'},\n",
       "  {'D1': 'dstring16'},\n",
       "  {'D2': 'dstring16'}],\n",
       " '20240628': [{'O1': 'string17'},\n",
       "  {'O2': 'string17'},\n",
       "  {'O3': 'string17'},\n",
       "  {'D1': 'dstring17'},\n",
       "  {'D2': 'dstring17'}],\n",
       " '20240629': [{'O1': 'string18'},\n",
       "  {'O2': 'string18'},\n",
       "  {'O3': 'string18'},\n",
       "  {'D1': 'dstring18'},\n",
       "  {'D2': 'dstring18'}],\n",
       " '20240630': [{'O1': 'string19'},\n",
       "  {'O2': 'string19'},\n",
       "  {'O3': 'string19'},\n",
       "  {'D1': 'dstring19'},\n",
       "  {'D2': 'dstring19'}]}"
      ]
     },
     "execution_count": 14,
     "metadata": {},
     "output_type": "execute_result"
    }
   ],
   "source": [
    "filtered_dict"
   ]
  },
  {
   "cell_type": "code",
   "execution_count": 15,
   "metadata": {},
   "outputs": [
    {
     "data": {
      "text/plain": [
       "[{'O1': 'string1'},\n",
       " {'O2': 'string1'},\n",
       " {'O3': 'string1'},\n",
       " {'D1': 'dstring1'},\n",
       " {'D2': 'dstring1'}]"
      ]
     },
     "execution_count": 15,
     "metadata": {},
     "output_type": "execute_result"
    }
   ],
   "source": [
    "filtered_dict['20240612']"
   ]
  },
  {
   "cell_type": "code",
   "execution_count": 16,
   "metadata": {},
   "outputs": [],
   "source": [
    "# Define an iterator class to iterate through the dictionary incrementally based on date\n",
    "class DateDictIterator:\n",
    "    def __init__(self, data_dict):\n",
    "        # Sort the dates to ensure incremental iteration\n",
    "        self.data_dict = dict(sorted(data_dict.items()))\n",
    "        self.keys = list(self.data_dict.keys())\n",
    "        self.index = 0\n",
    "\n",
    "    def __iter__(self):\n",
    "        return self\n",
    "\n",
    "    def __next__(self):\n",
    "        if self.index < len(self.keys):\n",
    "            key = self.keys[self.index]\n",
    "            self.index += 1\n",
    "            return key, self.data_dict[key]\n",
    "        else:\n",
    "            raise StopIteration"
   ]
  },
  {
   "cell_type": "code",
   "execution_count": 17,
   "metadata": {},
   "outputs": [],
   "source": [
    "# Create an instance of the iterator with the filtered dictionary\n",
    "date_iterator = DateDictIterator(filtered_dict)"
   ]
  },
  {
   "cell_type": "code",
   "execution_count": 18,
   "metadata": {},
   "outputs": [],
   "source": [
    "# Function to get the next item in the iterator\n",
    "def get_next_item(iterator):\n",
    "    try:\n",
    "        return next(iterator)\n",
    "    except StopIteration:\n",
    "        return None"
   ]
  },
  {
   "cell_type": "code",
   "execution_count": 19,
   "metadata": {},
   "outputs": [
    {
     "name": "stdout",
     "output_type": "stream",
     "text": [
      "Date: 20240612, Data: [{'O1': 'string1'}, {'O2': 'string1'}, {'O3': 'string1'}, {'D1': 'dstring1'}, {'D2': 'dstring1'}]\n",
      "Date: 20240613, Data: [{'O1': 'string2'}, {'O2': 'string2'}, {'O3': 'string2'}, {'D1': 'dstring2'}, {'D2': 'dstring2'}]\n",
      "Date: 20240614, Data: [{'O1': 'string3'}, {'O2': 'string3'}, {'O3': 'string3'}, {'D1': 'dstring3'}, {'D2': 'dstring3'}]\n",
      "Date: 20240615, Data: [{'O1': 'string4'}, {'O2': 'string4'}, {'O3': 'string4'}, {'D1': 'dstring4'}, {'D2': 'dstring4'}]\n",
      "Date: 20240616, Data: [{'O1': 'string5'}, {'O2': 'string5'}, {'O3': 'string5'}, {'D1': 'dstring5'}, {'D2': 'dstring5'}]\n",
      "Date: 20240617, Data: [{'O1': 'string6'}, {'O2': 'string6'}, {'O3': 'string6'}, {'D1': 'dstring6'}, {'D2': 'dstring6'}]\n",
      "Date: 20240618, Data: [{'O1': 'string7'}, {'O2': 'string7'}, {'O3': 'string7'}, {'D1': 'dstring7'}, {'D2': 'dstring7'}]\n",
      "Date: 20240619, Data: [{'O1': 'string8'}, {'O2': 'string8'}, {'O3': 'string8'}, {'D1': 'dstring8'}, {'D2': 'dstring8'}]\n",
      "Date: 20240620, Data: [{'O1': 'string9'}, {'O2': 'string9'}, {'O3': 'string9'}, {'D1': 'dstring9'}, {'D2': 'dstring9'}]\n",
      "Date: 20240621, Data: [{'O1': 'string10'}, {'O2': 'string10'}, {'O3': 'string10'}, {'D1': 'dstring10'}, {'D2': 'dstring10'}]\n",
      "Date: 20240622, Data: [{'O1': 'string11'}, {'O2': 'string11'}, {'O3': 'string11'}, {'D1': 'dstring11'}, {'D2': 'dstring11'}]\n",
      "Date: 20240623, Data: [{'O1': 'string12'}, {'O2': 'string12'}, {'O3': 'string12'}, {'D1': 'dstring12'}, {'D2': 'dstring12'}]\n",
      "Date: 20240624, Data: [{'O1': 'string13'}, {'O2': 'string13'}, {'O3': 'string13'}, {'D1': 'dstring13'}, {'D2': 'dstring13'}]\n",
      "Date: 20240625, Data: [{'O1': 'string14'}, {'O2': 'string14'}, {'O3': 'string14'}, {'D1': 'dstring14'}, {'D2': 'dstring14'}]\n",
      "Date: 20240626, Data: [{'O1': 'string15'}, {'O2': 'string15'}, {'O3': 'string15'}, {'D1': 'dstring15'}, {'D2': 'dstring15'}]\n",
      "Date: 20240627, Data: [{'O1': 'string16'}, {'O2': 'string16'}, {'O3': 'string16'}, {'D1': 'dstring16'}, {'D2': 'dstring16'}]\n",
      "Date: 20240628, Data: [{'O1': 'string17'}, {'O2': 'string17'}, {'O3': 'string17'}, {'D1': 'dstring17'}, {'D2': 'dstring17'}]\n",
      "Date: 20240629, Data: [{'O1': 'string18'}, {'O2': 'string18'}, {'O3': 'string18'}, {'D1': 'dstring18'}, {'D2': 'dstring18'}]\n",
      "Date: 20240630, Data: [{'O1': 'string19'}, {'O2': 'string19'}, {'O3': 'string19'}, {'D1': 'dstring19'}, {'D2': 'dstring19'}]\n"
     ]
    }
   ],
   "source": [
    "\n",
    "# Example usage to iterate through the dictionary\n",
    "for key, value in date_iterator:\n",
    "    print(f\"Date: {key}, Data: {value}\")"
   ]
  },
  {
   "cell_type": "code",
   "execution_count": null,
   "metadata": {},
   "outputs": [],
   "source": []
  }
 ],
 "metadata": {
  "kernelspec": {
   "display_name": "env",
   "language": "python",
   "name": "python3"
  },
  "language_info": {
   "codemirror_mode": {
    "name": "ipython",
    "version": 3
   },
   "file_extension": ".py",
   "mimetype": "text/x-python",
   "name": "python",
   "nbconvert_exporter": "python",
   "pygments_lexer": "ipython3",
   "version": "3.12.3"
  }
 },
 "nbformat": 4,
 "nbformat_minor": 2
}
