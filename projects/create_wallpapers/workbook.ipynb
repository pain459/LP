{
 "cells": [
  {
   "cell_type": "code",
   "execution_count": 1,
   "metadata": {},
   "outputs": [
    {
     "name": "stdout",
     "output_type": "stream",
     "text": [
      "Python 3.12.3\n"
     ]
    }
   ],
   "source": [
    "! python --version"
   ]
  },
  {
   "cell_type": "code",
   "execution_count": 2,
   "metadata": {},
   "outputs": [
    {
     "name": "stdout",
     "output_type": "stream",
     "text": [
      "Requirement already satisfied: pillow in /home/ravik/src_git/LP/env/lib64/python3.12/site-packages (10.3.0)\n",
      "Requirement already satisfied: cairosvg in /home/ravik/src_git/LP/env/lib64/python3.12/site-packages (2.7.1)\n",
      "Requirement already satisfied: cairocffi in /home/ravik/src_git/LP/env/lib64/python3.12/site-packages (from cairosvg) (1.7.0)\n",
      "Requirement already satisfied: cssselect2 in /home/ravik/src_git/LP/env/lib64/python3.12/site-packages (from cairosvg) (0.7.0)\n",
      "Requirement already satisfied: defusedxml in /home/ravik/src_git/LP/env/lib64/python3.12/site-packages (from cairosvg) (0.7.1)\n",
      "Requirement already satisfied: tinycss2 in /home/ravik/src_git/LP/env/lib64/python3.12/site-packages (from cairosvg) (1.3.0)\n",
      "Requirement already satisfied: cffi>=1.1.0 in /home/ravik/src_git/LP/env/lib64/python3.12/site-packages (from cairocffi->cairosvg) (1.16.0)\n",
      "Requirement already satisfied: webencodings in /home/ravik/src_git/LP/env/lib64/python3.12/site-packages (from cssselect2->cairosvg) (0.5.1)\n",
      "Requirement already satisfied: pycparser in /home/ravik/src_git/LP/env/lib64/python3.12/site-packages (from cffi>=1.1.0->cairocffi->cairosvg) (2.22)\n"
     ]
    }
   ],
   "source": [
    "! pip install pillow cairosvg"
   ]
  },
  {
   "cell_type": "markdown",
   "metadata": {},
   "source": [
    "#### Create basic Artwork"
   ]
  },
  {
   "cell_type": "code",
   "execution_count": 3,
   "metadata": {},
   "outputs": [],
   "source": [
    "from PIL import Image, ImageDraw"
   ]
  },
  {
   "cell_type": "code",
   "execution_count": 4,
   "metadata": {},
   "outputs": [],
   "source": [
    "# Define wallpaper size\n",
    "width, height = 1920, 1200"
   ]
  },
  {
   "cell_type": "code",
   "execution_count": 5,
   "metadata": {},
   "outputs": [],
   "source": [
    "# Create a new image with white background\n",
    "img = Image.new('RGB', (width, height), 'white')\n",
    "draw = ImageDraw.Draw(img)"
   ]
  },
  {
   "cell_type": "code",
   "execution_count": 7,
   "metadata": {},
   "outputs": [],
   "source": [
    "img.save('wallpaper.png')"
   ]
  },
  {
   "cell_type": "code",
   "execution_count": null,
   "metadata": {},
   "outputs": [],
   "source": []
  }
 ],
 "metadata": {
  "kernelspec": {
   "display_name": "env",
   "language": "python",
   "name": "python3"
  },
  "language_info": {
   "codemirror_mode": {
    "name": "ipython",
    "version": 3
   },
   "file_extension": ".py",
   "mimetype": "text/x-python",
   "name": "python",
   "nbconvert_exporter": "python",
   "pygments_lexer": "ipython3",
   "version": "3.12.3"
  }
 },
 "nbformat": 4,
 "nbformat_minor": 2
}
