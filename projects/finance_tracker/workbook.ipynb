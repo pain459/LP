{
 "cells": [
  {
   "cell_type": "code",
   "execution_count": 1,
   "metadata": {},
   "outputs": [],
   "source": [
    "import sqlite3"
   ]
  },
  {
   "cell_type": "code",
   "execution_count": 2,
   "metadata": {},
   "outputs": [],
   "source": [
    "conn = sqlite3.connect('instance/finance.db')\n",
    "c = conn.cursor()"
   ]
  },
  {
   "cell_type": "code",
   "execution_count": 3,
   "metadata": {},
   "outputs": [],
   "source": [
    "# Insert new income\n",
    "c.execute(\"INSERT INTO income (amount, category) VALUES (?, ?)\", (1000.0, 'Salary'))\n",
    "conn.commit()\n",
    "\n",
    "# Insert new expense\n",
    "c.execute(\"INSERT INTO expense (amount, category) VALUES (?, ?)\", (200.0, 'Groceries'))\n",
    "conn.commit()\n",
    "\n",
    "conn.close()"
   ]
  },
  {
   "cell_type": "code",
   "execution_count": 5,
   "metadata": {},
   "outputs": [],
   "source": [
    "conn = sqlite3.connect('instance/finance.db')\n",
    "c = conn.cursor()"
   ]
  },
  {
   "cell_type": "code",
   "execution_count": 6,
   "metadata": {},
   "outputs": [
    {
     "name": "stdout",
     "output_type": "stream",
     "text": [
      "[(1, 1000.0, 'Salary')] [(1, 200.0, 'Groceries')] (1, 1000.0, 'Salary')\n"
     ]
    }
   ],
   "source": [
    "# Fetch all income records\n",
    "c.execute(\"SELECT * FROM income\")\n",
    "incomes = c.fetchall()\n",
    "\n",
    "# Fetch all expense records\n",
    "c.execute(\"SELECT * FROM expense\")\n",
    "expenses = c.fetchall()\n",
    "\n",
    "# Fetch a specific income by ID\n",
    "c.execute(\"SELECT * FROM income WHERE id = ?\", (1,))\n",
    "income = c.fetchone()\n",
    "\n",
    "print(incomes, expenses, income)\n",
    "\n",
    "conn.close()"
   ]
  },
  {
   "cell_type": "code",
   "execution_count": 7,
   "metadata": {},
   "outputs": [],
   "source": [
    "conn = sqlite3.connect('instance/finance.db')\n",
    "c = conn.cursor()\n",
    "\n",
    "# Update a specific income record\n",
    "c.execute(\"UPDATE income SET amount = ? WHERE id = ?\", (1200.0, 1))\n",
    "conn.commit()\n",
    "\n",
    "# Update a specific expense record\n",
    "c.execute(\"UPDATE expense SET category = ? WHERE id = ?\", ('Utilities', 2))\n",
    "conn.commit()\n",
    "\n",
    "conn.close()"
   ]
  },
  {
   "cell_type": "code",
   "execution_count": 8,
   "metadata": {},
   "outputs": [],
   "source": [
    "conn = sqlite3.connect('instance/finance.db')\n",
    "c = conn.cursor()\n",
    "\n",
    "# Delete a specific income record\n",
    "c.execute(\"DELETE FROM income WHERE id = ?\", (1,))\n",
    "conn.commit()\n",
    "\n",
    "# Delete a specific expense record\n",
    "c.execute(\"DELETE FROM expense WHERE id = ?\", (2,))\n",
    "conn.commit()\n",
    "\n",
    "conn.close()\n"
   ]
  },
  {
   "cell_type": "code",
   "execution_count": null,
   "metadata": {},
   "outputs": [],
   "source": []
  }
 ],
 "metadata": {
  "kernelspec": {
   "display_name": "env",
   "language": "python",
   "name": "python3"
  },
  "language_info": {
   "codemirror_mode": {
    "name": "ipython",
    "version": 3
   },
   "file_extension": ".py",
   "mimetype": "text/x-python",
   "name": "python",
   "nbconvert_exporter": "python",
   "pygments_lexer": "ipython3",
   "version": "3.12.7"
  }
 },
 "nbformat": 4,
 "nbformat_minor": 2
}
