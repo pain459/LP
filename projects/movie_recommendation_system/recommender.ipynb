{
 "cells": [
  {
   "cell_type": "code",
   "execution_count": 26,
   "metadata": {},
   "outputs": [],
   "source": [
    "import pandas as pd"
   ]
  },
  {
   "cell_type": "markdown",
   "metadata": {},
   "source": [
    "### Loading and inspecting"
   ]
  },
  {
   "cell_type": "code",
   "execution_count": 27,
   "metadata": {},
   "outputs": [],
   "source": [
    "# Load the datasets\n",
    "movies = pd.read_csv('movies.csv')\n",
    "ratings = pd.read_csv('ratings.csv')"
   ]
  },
  {
   "cell_type": "code",
   "execution_count": 28,
   "metadata": {},
   "outputs": [
    {
     "name": "stdout",
     "output_type": "stream",
     "text": [
      "   movieId                               title  \\\n",
      "0        1                    Toy Story (1995)   \n",
      "1        2                      Jumanji (1995)   \n",
      "2        3             Grumpier Old Men (1995)   \n",
      "3        4            Waiting to Exhale (1995)   \n",
      "4        5  Father of the Bride Part II (1995)   \n",
      "\n",
      "                                        genres  \n",
      "0  Adventure|Animation|Children|Comedy|Fantasy  \n",
      "1                   Adventure|Children|Fantasy  \n",
      "2                               Comedy|Romance  \n",
      "3                         Comedy|Drama|Romance  \n",
      "4                                       Comedy  \n",
      "   userId  movieId  rating   timestamp\n",
      "0       1      296     5.0  1147880044\n",
      "1       1      306     3.5  1147868817\n",
      "2       1      307     5.0  1147868828\n",
      "3       1      665     5.0  1147878820\n",
      "4       1      899     3.5  1147868510\n"
     ]
    }
   ],
   "source": [
    "# Inspect the datasets\n",
    "print(movies.head())\n",
    "print(ratings.head())"
   ]
  },
  {
   "cell_type": "markdown",
   "metadata": {},
   "source": [
    "### Data preprocessing"
   ]
  },
  {
   "cell_type": "code",
   "execution_count": 29,
   "metadata": {},
   "outputs": [],
   "source": [
    "# Merge datasets\n",
    "data = pd.merge(ratings, movies, on='movieId')"
   ]
  },
  {
   "cell_type": "code",
   "execution_count": 30,
   "metadata": {},
   "outputs": [
    {
     "data": {
      "text/html": [
       "<div>\n",
       "<style scoped>\n",
       "    .dataframe tbody tr th:only-of-type {\n",
       "        vertical-align: middle;\n",
       "    }\n",
       "\n",
       "    .dataframe tbody tr th {\n",
       "        vertical-align: top;\n",
       "    }\n",
       "\n",
       "    .dataframe thead th {\n",
       "        text-align: right;\n",
       "    }\n",
       "</style>\n",
       "<table border=\"1\" class=\"dataframe\">\n",
       "  <thead>\n",
       "    <tr style=\"text-align: right;\">\n",
       "      <th></th>\n",
       "      <th>userId</th>\n",
       "      <th>movieId</th>\n",
       "      <th>rating</th>\n",
       "      <th>timestamp</th>\n",
       "      <th>title</th>\n",
       "      <th>genres</th>\n",
       "    </tr>\n",
       "  </thead>\n",
       "  <tbody>\n",
       "    <tr>\n",
       "      <th>0</th>\n",
       "      <td>1</td>\n",
       "      <td>296</td>\n",
       "      <td>5.0</td>\n",
       "      <td>1147880044</td>\n",
       "      <td>Pulp Fiction (1994)</td>\n",
       "      <td>Comedy|Crime|Drama|Thriller</td>\n",
       "    </tr>\n",
       "    <tr>\n",
       "      <th>1</th>\n",
       "      <td>1</td>\n",
       "      <td>306</td>\n",
       "      <td>3.5</td>\n",
       "      <td>1147868817</td>\n",
       "      <td>Three Colors: Red (Trois couleurs: Rouge) (1994)</td>\n",
       "      <td>Drama</td>\n",
       "    </tr>\n",
       "    <tr>\n",
       "      <th>2</th>\n",
       "      <td>1</td>\n",
       "      <td>307</td>\n",
       "      <td>5.0</td>\n",
       "      <td>1147868828</td>\n",
       "      <td>Three Colors: Blue (Trois couleurs: Bleu) (1993)</td>\n",
       "      <td>Drama</td>\n",
       "    </tr>\n",
       "    <tr>\n",
       "      <th>3</th>\n",
       "      <td>1</td>\n",
       "      <td>665</td>\n",
       "      <td>5.0</td>\n",
       "      <td>1147878820</td>\n",
       "      <td>Underground (1995)</td>\n",
       "      <td>Comedy|Drama|War</td>\n",
       "    </tr>\n",
       "    <tr>\n",
       "      <th>4</th>\n",
       "      <td>1</td>\n",
       "      <td>899</td>\n",
       "      <td>3.5</td>\n",
       "      <td>1147868510</td>\n",
       "      <td>Singin' in the Rain (1952)</td>\n",
       "      <td>Comedy|Musical|Romance</td>\n",
       "    </tr>\n",
       "  </tbody>\n",
       "</table>\n",
       "</div>"
      ],
      "text/plain": [
       "   userId  movieId  rating   timestamp  \\\n",
       "0       1      296     5.0  1147880044   \n",
       "1       1      306     3.5  1147868817   \n",
       "2       1      307     5.0  1147868828   \n",
       "3       1      665     5.0  1147878820   \n",
       "4       1      899     3.5  1147868510   \n",
       "\n",
       "                                              title  \\\n",
       "0                               Pulp Fiction (1994)   \n",
       "1  Three Colors: Red (Trois couleurs: Rouge) (1994)   \n",
       "2  Three Colors: Blue (Trois couleurs: Bleu) (1993)   \n",
       "3                                Underground (1995)   \n",
       "4                        Singin' in the Rain (1952)   \n",
       "\n",
       "                        genres  \n",
       "0  Comedy|Crime|Drama|Thriller  \n",
       "1                        Drama  \n",
       "2                        Drama  \n",
       "3             Comedy|Drama|War  \n",
       "4       Comedy|Musical|Romance  "
      ]
     },
     "execution_count": 30,
     "metadata": {},
     "output_type": "execute_result"
    }
   ],
   "source": [
    "# Sample data\n",
    "data.head()"
   ]
  },
  {
   "cell_type": "code",
   "execution_count": 31,
   "metadata": {},
   "outputs": [
    {
     "name": "stdout",
     "output_type": "stream",
     "text": [
      "userId       0\n",
      "movieId      0\n",
      "rating       0\n",
      "timestamp    0\n",
      "title        0\n",
      "genres       0\n",
      "dtype: int64\n"
     ]
    }
   ],
   "source": [
    "# Check for missing values\n",
    "print(data.isnull().sum())"
   ]
  },
  {
   "cell_type": "markdown",
   "metadata": {},
   "source": [
    "### Exploratory data analysis"
   ]
  },
  {
   "cell_type": "code",
   "execution_count": 32,
   "metadata": {},
   "outputs": [
    {
     "data": {
      "text/plain": [
       "<Axes: xlabel='rating'>"
      ]
     },
     "execution_count": 32,
     "metadata": {},
     "output_type": "execute_result"
    },
    {
     "data": {
      "image/png": "[encoded data removed]",
      "text/plain": [
       "<Figure size 640x480 with 1 Axes>"
      ]
     },
     "metadata": {},
     "output_type": "display_data"
    }
   ],
   "source": [
    "# Distribution of ratings\n",
    "data['rating'].value_counts().plot(kind='bar')"
   ]
  },
  {
   "cell_type": "code",
   "execution_count": 33,
   "metadata": {},
   "outputs": [
    {
     "data": {
      "text/plain": [
       "title\n",
       "Forrest Gump (1994)                 81491\n",
       "Shawshank Redemption, The (1994)    81482\n",
       "Pulp Fiction (1994)                 79672\n",
       "Silence of the Lambs, The (1991)    74127\n",
       "Matrix, The (1999)                  72674\n",
       "dtype: int64"
      ]
     },
     "execution_count": 33,
     "metadata": {},
     "output_type": "execute_result"
    }
   ],
   "source": [
    "# Most popular movies\n",
    "popular_movies = data.groupby('title').size().sort_values(ascending=False).head(10)\n",
    "popular_movies.head()"
   ]
  },
  {
   "cell_type": "markdown",
   "metadata": {},
   "source": [
    "### Build the recommender system"
   ]
  },
  {
   "cell_type": "markdown",
   "metadata": {},
   "source": [
    "### BELOW METHOD OF PIVOT CREATION TAKES REQUIRES MORE MEMORY AND FAIL ON 64G MACHINE."
   ]
  },
  {
   "cell_type": "code",
   "execution_count": 34,
   "metadata": {},
   "outputs": [],
   "source": [
    "# user_movie_matrix = data.pivot_table(index='userId', columns='title', values='rating')"
   ]
  },
  {
   "cell_type": "markdown",
   "metadata": {},
   "source": [
    "### Lets use dask to adjust the memory needs"
   ]
  },
  {
   "cell_type": "code",
   "execution_count": 35,
   "metadata": {},
   "outputs": [
    {
     "name": "stdout",
     "output_type": "stream",
     "text": [
      "Requirement already satisfied: dask in /home/ravik/src_git/LP/env/lib64/python3.12/site-packages (2024.6.2)\n",
      "Requirement already satisfied: click>=8.1 in /home/ravik/src_git/LP/env/lib64/python3.12/site-packages (from dask) (8.1.7)\n",
      "Requirement already satisfied: cloudpickle>=1.5.0 in /home/ravik/src_git/LP/env/lib64/python3.12/site-packages (from dask) (3.0.0)\n",
      "Requirement already satisfied: fsspec>=2021.09.0 in /home/ravik/src_git/LP/env/lib64/python3.12/site-packages (from dask) (2024.5.0)\n",
      "Requirement already satisfied: packaging>=20.0 in /home/ravik/src_git/LP/env/lib64/python3.12/site-packages (from dask) (24.0)\n",
      "Requirement already satisfied: partd>=1.2.0 in /home/ravik/src_git/LP/env/lib64/python3.12/site-packages (from dask) (1.4.2)\n",
      "Requirement already satisfied: pyyaml>=5.3.1 in /home/ravik/src_git/LP/env/lib64/python3.12/site-packages (from dask) (6.0.1)\n",
      "Requirement already satisfied: toolz>=0.10.0 in /home/ravik/src_git/LP/env/lib64/python3.12/site-packages (from dask) (0.12.1)\n",
      "Requirement already satisfied: locket in /home/ravik/src_git/LP/env/lib64/python3.12/site-packages (from partd>=1.2.0->dask) (1.0.0)\n"
     ]
    }
   ],
   "source": [
    "! pip install dask"
   ]
  },
  {
   "cell_type": "code",
   "execution_count": 36,
   "metadata": {},
   "outputs": [],
   "source": [
    "import dask.dataframe as dd"
   ]
  },
  {
   "cell_type": "code",
   "execution_count": 37,
   "metadata": {},
   "outputs": [
    {
     "data": {
      "text/html": [
       "<div>\n",
       "<style scoped>\n",
       "    .dataframe tbody tr th:only-of-type {\n",
       "        vertical-align: middle;\n",
       "    }\n",
       "\n",
       "    .dataframe tbody tr th {\n",
       "        vertical-align: top;\n",
       "    }\n",
       "\n",
       "    .dataframe thead th {\n",
       "        text-align: right;\n",
       "    }\n",
       "</style>\n",
       "<table border=\"1\" class=\"dataframe\">\n",
       "  <thead>\n",
       "    <tr style=\"text-align: right;\">\n",
       "      <th></th>\n",
       "      <th>userId</th>\n",
       "      <th>movieId</th>\n",
       "      <th>rating</th>\n",
       "      <th>timestamp</th>\n",
       "      <th>title</th>\n",
       "      <th>genres</th>\n",
       "    </tr>\n",
       "  </thead>\n",
       "  <tbody>\n",
       "    <tr>\n",
       "      <th>0</th>\n",
       "      <td>1</td>\n",
       "      <td>296</td>\n",
       "      <td>5.0</td>\n",
       "      <td>1147880044</td>\n",
       "      <td>Pulp Fiction (1994)</td>\n",
       "      <td>Comedy|Crime|Drama|Thriller</td>\n",
       "    </tr>\n",
       "    <tr>\n",
       "      <th>1</th>\n",
       "      <td>1</td>\n",
       "      <td>306</td>\n",
       "      <td>3.5</td>\n",
       "      <td>1147868817</td>\n",
       "      <td>Three Colors: Red (Trois couleurs: Rouge) (1994)</td>\n",
       "      <td>Drama</td>\n",
       "    </tr>\n",
       "    <tr>\n",
       "      <th>2</th>\n",
       "      <td>1</td>\n",
       "      <td>307</td>\n",
       "      <td>5.0</td>\n",
       "      <td>1147868828</td>\n",
       "      <td>Three Colors: Blue (Trois couleurs: Bleu) (1993)</td>\n",
       "      <td>Drama</td>\n",
       "    </tr>\n",
       "    <tr>\n",
       "      <th>3</th>\n",
       "      <td>1</td>\n",
       "      <td>665</td>\n",
       "      <td>5.0</td>\n",
       "      <td>1147878820</td>\n",
       "      <td>Underground (1995)</td>\n",
       "      <td>Comedy|Drama|War</td>\n",
       "    </tr>\n",
       "    <tr>\n",
       "      <th>4</th>\n",
       "      <td>1</td>\n",
       "      <td>899</td>\n",
       "      <td>3.5</td>\n",
       "      <td>1147868510</td>\n",
       "      <td>Singin' in the Rain (1952)</td>\n",
       "      <td>Comedy|Musical|Romance</td>\n",
       "    </tr>\n",
       "  </tbody>\n",
       "</table>\n",
       "</div>"
      ],
      "text/plain": [
       "   userId  movieId  rating   timestamp  \\\n",
       "0       1      296     5.0  1147880044   \n",
       "1       1      306     3.5  1147868817   \n",
       "2       1      307     5.0  1147868828   \n",
       "3       1      665     5.0  1147878820   \n",
       "4       1      899     3.5  1147868510   \n",
       "\n",
       "                                              title  \\\n",
       "0                               Pulp Fiction (1994)   \n",
       "1  Three Colors: Red (Trois couleurs: Rouge) (1994)   \n",
       "2  Three Colors: Blue (Trois couleurs: Bleu) (1993)   \n",
       "3                                Underground (1995)   \n",
       "4                        Singin' in the Rain (1952)   \n",
       "\n",
       "                        genres  \n",
       "0  Comedy|Crime|Drama|Thriller  \n",
       "1                        Drama  \n",
       "2                        Drama  \n",
       "3             Comedy|Drama|War  \n",
       "4       Comedy|Musical|Romance  "
      ]
     },
     "execution_count": 37,
     "metadata": {},
     "output_type": "execute_result"
    }
   ],
   "source": [
    "# Loading with using dask\n",
    "ratings = dd.read_csv('ratings.csv')\n",
    "movies = dd.read_csv('movies.csv')\n",
    "\n",
    "# Merge datasets\n",
    "data = dd.merge(ratings, movies, on='movieId')\n",
    "data.head()\n"
   ]
  },
  {
   "cell_type": "markdown",
   "metadata": {},
   "source": [
    "#### Convert 'title' to category dtype"
   ]
  },
  {
   "cell_type": "code",
   "execution_count": 38,
   "metadata": {},
   "outputs": [
    {
     "name": "stderr",
     "output_type": "stream",
     "text": [
      "2024-06-26 09:23:08,801 - distributed.shuffle._scheduler_plugin - WARNING - Shuffle ac68c446ef0c1a696e92970b9805aa9d initialized by task ('shuffle-transfer-ac68c446ef0c1a696e92970b9805aa9d', 6) executed on worker tcp://127.0.0.1:34043\n",
      "2024-06-26 09:23:09,711 - distributed.shuffle._scheduler_plugin - WARNING - Shuffle ac68c446ef0c1a696e92970b9805aa9d deactivated due to stimulus 'task-finished-1719373989.709692'\n"
     ]
    }
   ],
   "source": [
    "data['title'] = data['title'].astype('category').cat.as_known()"
   ]
  },
  {
   "cell_type": "markdown",
   "metadata": {},
   "source": [
    "### DONOT EXECUTE THE BELOW PIVOT CREATION. IT WILL TAKE DOWN THE SYSTEM"
   ]
  },
  {
   "cell_type": "code",
   "execution_count": 39,
   "metadata": {},
   "outputs": [],
   "source": [
    "# Create a pivot table\n",
    "# user_movie_matrix = data.pivot_table(index='userId', columns='title', values='rating').compute()"
   ]
  },
  {
   "cell_type": "markdown",
   "metadata": {},
   "source": [
    "### Using dask in distributed mode "
   ]
  },
  {
   "cell_type": "code",
   "execution_count": 40,
   "metadata": {},
   "outputs": [
    {
     "name": "stdout",
     "output_type": "stream",
     "text": [
      "Requirement already satisfied: dask in /home/ravik/src_git/LP/env/lib64/python3.12/site-packages (2024.6.2)\n",
      "Requirement already satisfied: distributed in /home/ravik/src_git/LP/env/lib64/python3.12/site-packages (2024.6.2)\n",
      "Requirement already satisfied: click>=8.1 in /home/ravik/src_git/LP/env/lib64/python3.12/site-packages (from dask) (8.1.7)\n",
      "Requirement already satisfied: cloudpickle>=1.5.0 in /home/ravik/src_git/LP/env/lib64/python3.12/site-packages (from dask) (3.0.0)\n",
      "Requirement already satisfied: fsspec>=2021.09.0 in /home/ravik/src_git/LP/env/lib64/python3.12/site-packages (from dask) (2024.5.0)\n",
      "Requirement already satisfied: packaging>=20.0 in /home/ravik/src_git/LP/env/lib64/python3.12/site-packages (from dask) (24.0)\n",
      "Requirement already satisfied: partd>=1.2.0 in /home/ravik/src_git/LP/env/lib64/python3.12/site-packages (from dask) (1.4.2)\n",
      "Requirement already satisfied: pyyaml>=5.3.1 in /home/ravik/src_git/LP/env/lib64/python3.12/site-packages (from dask) (6.0.1)\n",
      "Requirement already satisfied: toolz>=0.10.0 in /home/ravik/src_git/LP/env/lib64/python3.12/site-packages (from dask) (0.12.1)\n",
      "Requirement already satisfied: jinja2>=2.10.3 in /home/ravik/src_git/LP/env/lib64/python3.12/site-packages (from distributed) (3.1.4)\n",
      "Requirement already satisfied: locket>=1.0.0 in /home/ravik/src_git/LP/env/lib64/python3.12/site-packages (from distributed) (1.0.0)\n",
      "Requirement already satisfied: msgpack>=1.0.0 in /home/ravik/src_git/LP/env/lib64/python3.12/site-packages (from distributed) (1.0.8)\n",
      "Requirement already satisfied: psutil>=5.7.2 in /home/ravik/src_git/LP/env/lib64/python3.12/site-packages (from distributed) (5.9.8)\n",
      "Requirement already satisfied: sortedcontainers>=2.0.5 in /home/ravik/src_git/LP/env/lib64/python3.12/site-packages (from distributed) (2.4.0)\n",
      "Requirement already satisfied: tblib>=1.6.0 in /home/ravik/src_git/LP/env/lib64/python3.12/site-packages (from distributed) (3.0.0)\n",
      "Requirement already satisfied: tornado>=6.0.4 in /home/ravik/src_git/LP/env/lib64/python3.12/site-packages (from distributed) (6.4)\n",
      "Requirement already satisfied: urllib3>=1.24.3 in /home/ravik/src_git/LP/env/lib64/python3.12/site-packages (from distributed) (2.2.1)\n",
      "Requirement already satisfied: zict>=3.0.0 in /home/ravik/src_git/LP/env/lib64/python3.12/site-packages (from distributed) (3.0.0)\n",
      "Requirement already satisfied: MarkupSafe>=2.0 in /home/ravik/src_git/LP/env/lib64/python3.12/site-packages (from jinja2>=2.10.3->distributed) (2.1.5)\n"
     ]
    }
   ],
   "source": [
    "! pip install dask distributed"
   ]
  },
  {
   "cell_type": "code",
   "execution_count": 41,
   "metadata": {},
   "outputs": [],
   "source": [
    "import dask.dataframe as dd\n",
    "from dask.distributed import Client\n",
    "import pandas as pd\n",
    "from sklearn.metrics.pairwise import cosine_similarity\n",
    "import dask_ml.metrics"
   ]
  },
  {
   "cell_type": "code",
   "execution_count": 42,
   "metadata": {},
   "outputs": [
    {
     "name": "stderr",
     "output_type": "stream",
     "text": [
      "/home/ravik/src_git/LP/env/lib64/python3.12/site-packages/distributed/node.py:182: UserWarning: Port 8787 is already in use.\n",
      "Perhaps you already have a cluster running?\n",
      "Hosting the HTTP server on port 43965 instead\n",
      "  warnings.warn(\n"
     ]
    }
   ],
   "source": [
    "# Start a sask client\n",
    "client = Client(n_workers=4, threads_per_worker=8, memory_limit='8GB')"
   ]
  },
  {
   "cell_type": "code",
   "execution_count": 43,
   "metadata": {},
   "outputs": [],
   "source": [
    "# load the data with dask\n",
    "movies = dd.read_csv('movies.csv')\n",
    "ratings = dd.read_csv('ratings.csv')"
   ]
  },
  {
   "cell_type": "code",
   "execution_count": 44,
   "metadata": {},
   "outputs": [],
   "source": [
    "# merge datasets\n",
    "data = dd.merge(movies, ratings, on='movieId')"
   ]
  },
  {
   "cell_type": "code",
   "execution_count": 45,
   "metadata": {},
   "outputs": [
    {
     "name": "stderr",
     "output_type": "stream",
     "text": [
      "2024-06-26 09:23:14,095 - distributed.shuffle._scheduler_plugin - WARNING - Shuffle 432c92aeb648301c6b965ecde8103380 initialized by task ('shuffle-transfer-432c92aeb648301c6b965ecde8103380', 8) executed on worker tcp://127.0.0.1:38937\n",
      "2024-06-26 09:23:14,720 - distributed.shuffle._scheduler_plugin - WARNING - Shuffle 432c92aeb648301c6b965ecde8103380 deactivated due to stimulus 'task-finished-1719373994.7171013'\n",
      "2024-06-26 09:23:25,199 - distributed.nanny.memory - WARNING - Worker tcp://127.0.0.1:38937 (pid=42568) exceeded 95% memory budget. Restarting...\n",
      "2024-06-26 09:23:25,367 - distributed.scheduler - WARNING - Removing worker 'tcp://127.0.0.1:38937' caused the cluster to lose already computed task(s), which will be recomputed elsewhere: {('read_csv-fused-assign-0968dffa12bfe270319462c6c2bf95ae', 7), ('read_csv-fused-assign-0968dffa12bfe270319462c6c2bf95ae', 6)} (stimulus_id='handle-worker-cleanup-1719374005.3668325')\n",
      "2024-06-26 09:23:25,480 - distributed.nanny.memory - WARNING - Worker tcp://127.0.0.1:46427 (pid=42565) exceeded 95% memory budget. Restarting...\n",
      "2024-06-26 09:23:25,484 - distributed.nanny - WARNING - Restarting worker\n",
      "2024-06-26 09:23:25,687 - distributed.scheduler - WARNING - Removing worker 'tcp://127.0.0.1:46427' caused the cluster to lose already computed task(s), which will be recomputed elsewhere: {('read_csv-fused-assign-0968dffa12bfe270319462c6c2bf95ae', 3), ('read_csv-fused-assign-0968dffa12bfe270319462c6c2bf95ae', 0)} (stimulus_id='handle-worker-cleanup-1719374005.686959')\n",
      "2024-06-26 09:23:25,916 - distributed.nanny - WARNING - Restarting worker\n",
      "2024-06-26 09:23:27,399 - distributed.nanny.memory - WARNING - Worker tcp://127.0.0.1:36137 (pid=42558) exceeded 95% memory budget. Restarting...\n",
      "2024-06-26 09:23:27,500 - distributed.nanny.memory - WARNING - Worker tcp://127.0.0.1:34633 (pid=42561) exceeded 95% memory budget. Restarting...\n",
      "2024-06-26 09:23:27,518 - distributed.scheduler - WARNING - Removing worker 'tcp://127.0.0.1:36137' caused the cluster to lose already computed task(s), which will be recomputed elsewhere: {('read_csv-fused-assign-0968dffa12bfe270319462c6c2bf95ae', 1), ('read_csv-fused-assign-0968dffa12bfe270319462c6c2bf95ae', 2), ('read_csv-fused-assign-0968dffa12bfe270319462c6c2bf95ae', 8)} (stimulus_id='handle-worker-cleanup-1719374007.5182846')\n",
      "2024-06-26 09:23:27,578 - distributed.scheduler - WARNING - Removing worker 'tcp://127.0.0.1:34633' caused the cluster to lose already computed task(s), which will be recomputed elsewhere: {('read_csv-fused-assign-0968dffa12bfe270319462c6c2bf95ae', 9), ('read_csv-fused-assign-0968dffa12bfe270319462c6c2bf95ae', 4), ('read_csv-fused-assign-0968dffa12bfe270319462c6c2bf95ae', 5)} (stimulus_id='handle-worker-cleanup-1719374007.5783741')\n",
      "2024-06-26 09:23:27,644 - distributed.nanny - WARNING - Restarting worker\n",
      "2024-06-26 09:23:27,646 - distributed.nanny - WARNING - Restarting worker\n",
      "2024-06-26 09:23:36,201 - distributed.nanny.memory - WARNING - Worker tcp://127.0.0.1:33787 (pid=42718) exceeded 95% memory budget. Restarting...\n",
      "2024-06-26 09:23:36,474 - distributed.scheduler - WARNING - Removing worker 'tcp://127.0.0.1:33787' caused the cluster to lose already computed task(s), which will be recomputed elsewhere: {('read_csv-fused-assign-0968dffa12bfe270319462c6c2bf95ae', 7), ('read_csv-fused-assign-0968dffa12bfe270319462c6c2bf95ae', 5), ('read_csv-fused-assign-0968dffa12bfe270319462c6c2bf95ae', 4), ('read_csv-fused-assign-0968dffa12bfe270319462c6c2bf95ae', 0)} (stimulus_id='handle-worker-cleanup-1719374016.4739275')\n",
      "2024-06-26 09:23:36,651 - distributed.nanny - WARNING - Restarting worker\n",
      "2024-06-26 09:23:36,900 - distributed.nanny.memory - WARNING - Worker tcp://127.0.0.1:33409 (pid=42714) exceeded 95% memory budget. Restarting...\n",
      "2024-06-26 09:23:37,090 - distributed.scheduler - WARNING - Removing worker 'tcp://127.0.0.1:33409' caused the cluster to lose already computed task(s), which will be recomputed elsewhere: {('read_csv-fused-assign-0968dffa12bfe270319462c6c2bf95ae', 1), ('read_csv-fused-assign-0968dffa12bfe270319462c6c2bf95ae', 2), ('read_csv-fused-assign-0968dffa12bfe270319462c6c2bf95ae', 3), ('read_csv-fused-assign-0968dffa12bfe270319462c6c2bf95ae', 6)} (stimulus_id='handle-worker-cleanup-1719374017.0905526')\n",
      "2024-06-26 09:23:37,243 - distributed.nanny - WARNING - Restarting worker\n",
      "2024-06-26 09:23:37,999 - distributed.nanny.memory - WARNING - Worker tcp://127.0.0.1:36087 (pid=42741) exceeded 95% memory budget. Restarting...\n",
      "2024-06-26 09:23:38,083 - distributed.scheduler - WARNING - Removing worker 'tcp://127.0.0.1:36087' caused the cluster to lose already computed task(s), which will be recomputed elsewhere: {('read_csv-fused-assign-0968dffa12bfe270319462c6c2bf95ae', 8)} (stimulus_id='handle-worker-cleanup-1719374018.083063')\n",
      "2024-06-26 09:23:38,147 - distributed.nanny - WARNING - Restarting worker\n",
      "2024-06-26 09:23:38,498 - distributed.nanny.memory - WARNING - Worker tcp://127.0.0.1:45501 (pid=42744) exceeded 95% memory budget. Restarting...\n",
      "2024-06-26 09:23:38,593 - distributed.scheduler - WARNING - Removing worker 'tcp://127.0.0.1:45501' caused the cluster to lose already computed task(s), which will be recomputed elsewhere: {('read_csv-fused-assign-0968dffa12bfe270319462c6c2bf95ae', 9)} (stimulus_id='handle-worker-cleanup-1719374018.593613')\n",
      "2024-06-26 09:23:38,688 - distributed.nanny - WARNING - Restarting worker\n",
      "2024-06-26 09:23:46,403 - distributed.nanny.memory - WARNING - Worker tcp://127.0.0.1:38153 (pid=42821) exceeded 95% memory budget. Restarting...\n",
      "2024-06-26 09:23:46,695 - distributed.scheduler - WARNING - Removing worker 'tcp://127.0.0.1:38153' caused the cluster to lose already computed task(s), which will be recomputed elsewhere: {('read_csv-fused-assign-0968dffa12bfe270319462c6c2bf95ae', 7), ('read_csv-fused-assign-0968dffa12bfe270319462c6c2bf95ae', 8), ('read_csv-fused-assign-0968dffa12bfe270319462c6c2bf95ae', 4), ('read_csv-fused-assign-0968dffa12bfe270319462c6c2bf95ae', 0)} (stimulus_id='handle-worker-cleanup-1719374026.6953335')\n",
      "2024-06-26 09:23:46,841 - distributed.nanny - WARNING - Restarting worker\n",
      "2024-06-26 09:23:48,899 - distributed.nanny.memory - WARNING - Worker tcp://127.0.0.1:39073 (pid=42827) exceeded 95% memory budget. Restarting...\n",
      "2024-06-26 09:23:49,069 - distributed.scheduler - ERROR - Task ('pivot_sum-885296ada7fd580a647e07f530a58cad', 9) marked as failed because 4 workers died while trying to run it\n",
      "2024-06-26 09:23:49,070 - distributed.scheduler - WARNING - Removing worker 'tcp://127.0.0.1:39073' caused the cluster to lose already computed task(s), which will be recomputed elsewhere: {('read_csv-fused-assign-0968dffa12bfe270319462c6c2bf95ae', 1), ('read_csv-fused-assign-0968dffa12bfe270319462c6c2bf95ae', 2), ('read_csv-fused-assign-0968dffa12bfe270319462c6c2bf95ae', 3), ('read_csv-fused-assign-0968dffa12bfe270319462c6c2bf95ae', 9)} (stimulus_id='handle-worker-cleanup-1719374029.0691788')\n",
      "2024-06-26 09:23:49,175 - distributed.nanny - WARNING - Restarting worker\n",
      "2024-06-26 09:23:49,400 - distributed.nanny.memory - WARNING - Worker tcp://127.0.0.1:44273 (pid=42869) exceeded 95% memory budget. Restarting...\n",
      "2024-06-26 09:23:49,520 - distributed.nanny - WARNING - Restarting worker\n",
      "2024-06-26 09:23:52,798 - distributed.nanny.memory - WARNING - Worker tcp://127.0.0.1:40411 (pid=42856) exceeded 95% memory budget. Restarting...\n",
      "2024-06-26 09:23:52,838 - distributed.nanny - WARNING - Restarting worker\n"
     ]
    }
   ],
   "source": [
    "# Convert 'title' to Category Dtype and Set Known Categories\n",
    "data['title'] = data['title'].astype('category').cat.as_known()"
   ]
  },
  {
   "cell_type": "code",
   "execution_count": 46,
   "metadata": {},
   "outputs": [],
   "source": [
    "# Create a pivot table in chunks\n",
    "user_movie_matrix = data.pivot_table(index='userId', columns='title', values='rating').persist()"
   ]
  },
  {
   "cell_type": "code",
   "execution_count": 47,
   "metadata": {},
   "outputs": [
    {
     "name": "stderr",
     "output_type": "stream",
     "text": [
      "2024-06-26 09:23:37,380 - distributed.worker - ERROR - Worker stream died during communication: tcp://127.0.0.1:33409\n",
      "Traceback (most recent call last):\n",
      "  File \"/home/ravik/src_git/LP/env/lib64/python3.12/site-packages/distributed/comm/tcp.py\", line 230, in read\n",
      "    buffer = await read_bytes_rw(stream, buffer_nbytes)\n",
      "             ^^^^^^^^^^^^^^^^^^^^^^^^^^^^^^^^^^^^^^^^^^\n",
      "  File \"/home/ravik/src_git/LP/env/lib64/python3.12/site-packages/distributed/comm/tcp.py\", line 366, in read_bytes_rw\n",
      "    actual = await stream.read_into(chunk)  # type: ignore[arg-type]\n",
      "             ^^^^^^^^^^^^^^^^^^^^^^^^^^^^^\n",
      "tornado.iostream.StreamClosedError: Stream is closed\n",
      "\n",
      "The above exception was the direct cause of the following exception:\n",
      "\n",
      "Traceback (most recent call last):\n",
      "  File \"/home/ravik/src_git/LP/env/lib64/python3.12/site-packages/distributed/worker.py\", line 2058, in gather_dep\n",
      "    response = await get_data_from_worker(\n",
      "               ^^^^^^^^^^^^^^^^^^^^^^^^^^^\n",
      "  File \"/home/ravik/src_git/LP/env/lib64/python3.12/site-packages/distributed/worker.py\", line 2866, in get_data_from_worker\n",
      "    response = await send_recv(\n",
      "               ^^^^^^^^^^^^^^^^\n",
      "  File \"/home/ravik/src_git/LP/env/lib64/python3.12/site-packages/distributed/core.py\", line 1154, in send_recv\n",
      "    response = await comm.read(deserializers=deserializers)\n",
      "               ^^^^^^^^^^^^^^^^^^^^^^^^^^^^^^^^^^^^^^^^^^^^\n",
      "  File \"/home/ravik/src_git/LP/env/lib64/python3.12/site-packages/distributed/comm/tcp.py\", line 236, in read\n",
      "    convert_stream_closed_error(self, e)\n",
      "  File \"/home/ravik/src_git/LP/env/lib64/python3.12/site-packages/distributed/comm/tcp.py\", line 142, in convert_stream_closed_error\n",
      "    raise CommClosedError(f\"in {obj}: {exc}\") from exc\n",
      "distributed.comm.core.CommClosedError: in <TCP (closed) Ephemeral Worker->Worker for gather local=tcp://127.0.0.1:55490 remote=tcp://127.0.0.1:33409>: Stream is closed\n"
     ]
    },
    {
     "ename": "KilledWorker",
     "evalue": "Attempted to run task ('pivot_sum-885296ada7fd580a647e07f530a58cad', 9) on 4 different workers, but all those workers died while running it. The last worker that attempt to run the task was tcp://127.0.0.1:39073. Inspecting worker logs is often a good next step to diagnose what went wrong. For more information see https://distributed.dask.org/en/stable/killed.html.",
     "output_type": "error",
     "traceback": [
      "\u001b[0;31m---------------------------------------------------------------------------\u001b[0m",
      "\u001b[0;31mKilledWorker\u001b[0m                              Traceback (most recent call last)",
      "Cell \u001b[0;32mIn[47], line 1\u001b[0m\n\u001b[0;32m----> 1\u001b[0m \u001b[43muser_movie_matrix\u001b[49m\u001b[38;5;241;43m.\u001b[39;49m\u001b[43mhead\u001b[49m\u001b[43m(\u001b[49m\u001b[43m)\u001b[49m\n",
      "File \u001b[0;32m~/src_git/LP/env/lib64/python3.12/site-packages/dask_expr/_collection.py:702\u001b[0m, in \u001b[0;36mFrameBase.head\u001b[0;34m(self, n, npartitions, compute)\u001b[0m\n\u001b[1;32m    700\u001b[0m out \u001b[38;5;241m=\u001b[39m new_collection(expr\u001b[38;5;241m.\u001b[39mHead(\u001b[38;5;28mself\u001b[39m, n\u001b[38;5;241m=\u001b[39mn, npartitions\u001b[38;5;241m=\u001b[39mnpartitions))\n\u001b[1;32m    701\u001b[0m \u001b[38;5;28;01mif\u001b[39;00m compute:\n\u001b[0;32m--> 702\u001b[0m     out \u001b[38;5;241m=\u001b[39m \u001b[43mout\u001b[49m\u001b[38;5;241;43m.\u001b[39;49m\u001b[43mcompute\u001b[49m\u001b[43m(\u001b[49m\u001b[43m)\u001b[49m\n\u001b[1;32m    703\u001b[0m \u001b[38;5;28;01mreturn\u001b[39;00m out\n",
      "File \u001b[0;32m~/src_git/LP/env/lib64/python3.12/site-packages/dask_expr/_collection.py:476\u001b[0m, in \u001b[0;36mFrameBase.compute\u001b[0;34m(self, fuse, **kwargs)\u001b[0m\n\u001b[1;32m    474\u001b[0m     out \u001b[38;5;241m=\u001b[39m out\u001b[38;5;241m.\u001b[39mrepartition(npartitions\u001b[38;5;241m=\u001b[39m\u001b[38;5;241m1\u001b[39m)\n\u001b[1;32m    475\u001b[0m out \u001b[38;5;241m=\u001b[39m out\u001b[38;5;241m.\u001b[39moptimize(fuse\u001b[38;5;241m=\u001b[39mfuse)\n\u001b[0;32m--> 476\u001b[0m \u001b[38;5;28;01mreturn\u001b[39;00m \u001b[43mDaskMethodsMixin\u001b[49m\u001b[38;5;241;43m.\u001b[39;49m\u001b[43mcompute\u001b[49m\u001b[43m(\u001b[49m\u001b[43mout\u001b[49m\u001b[43m,\u001b[49m\u001b[43m \u001b[49m\u001b[38;5;241;43m*\u001b[39;49m\u001b[38;5;241;43m*\u001b[39;49m\u001b[43mkwargs\u001b[49m\u001b[43m)\u001b[49m\n",
      "File \u001b[0;32m~/src_git/LP/env/lib64/python3.12/site-packages/dask/base.py:376\u001b[0m, in \u001b[0;36mDaskMethodsMixin.compute\u001b[0;34m(self, **kwargs)\u001b[0m\n\u001b[1;32m    352\u001b[0m \u001b[38;5;28;01mdef\u001b[39;00m \u001b[38;5;21mcompute\u001b[39m(\u001b[38;5;28mself\u001b[39m, \u001b[38;5;241m*\u001b[39m\u001b[38;5;241m*\u001b[39mkwargs):\n\u001b[1;32m    353\u001b[0m \u001b[38;5;250m    \u001b[39m\u001b[38;5;124;03m\"\"\"Compute this dask collection\u001b[39;00m\n\u001b[1;32m    354\u001b[0m \n\u001b[1;32m    355\u001b[0m \u001b[38;5;124;03m    This turns a lazy Dask collection into its in-memory equivalent.\u001b[39;00m\n\u001b[0;32m   (...)\u001b[0m\n\u001b[1;32m    374\u001b[0m \u001b[38;5;124;03m    dask.compute\u001b[39;00m\n\u001b[1;32m    375\u001b[0m \u001b[38;5;124;03m    \"\"\"\u001b[39;00m\n\u001b[0;32m--> 376\u001b[0m     (result,) \u001b[38;5;241m=\u001b[39m \u001b[43mcompute\u001b[49m\u001b[43m(\u001b[49m\u001b[38;5;28;43mself\u001b[39;49m\u001b[43m,\u001b[49m\u001b[43m \u001b[49m\u001b[43mtraverse\u001b[49m\u001b[38;5;241;43m=\u001b[39;49m\u001b[38;5;28;43;01mFalse\u001b[39;49;00m\u001b[43m,\u001b[49m\u001b[43m \u001b[49m\u001b[38;5;241;43m*\u001b[39;49m\u001b[38;5;241;43m*\u001b[39;49m\u001b[43mkwargs\u001b[49m\u001b[43m)\u001b[49m\n\u001b[1;32m    377\u001b[0m     \u001b[38;5;28;01mreturn\u001b[39;00m result\n",
      "File \u001b[0;32m~/src_git/LP/env/lib64/python3.12/site-packages/dask/base.py:662\u001b[0m, in \u001b[0;36mcompute\u001b[0;34m(traverse, optimize_graph, scheduler, get, *args, **kwargs)\u001b[0m\n\u001b[1;32m    659\u001b[0m     postcomputes\u001b[38;5;241m.\u001b[39mappend(x\u001b[38;5;241m.\u001b[39m__dask_postcompute__())\n\u001b[1;32m    661\u001b[0m \u001b[38;5;28;01mwith\u001b[39;00m shorten_traceback():\n\u001b[0;32m--> 662\u001b[0m     results \u001b[38;5;241m=\u001b[39m \u001b[43mschedule\u001b[49m\u001b[43m(\u001b[49m\u001b[43mdsk\u001b[49m\u001b[43m,\u001b[49m\u001b[43m \u001b[49m\u001b[43mkeys\u001b[49m\u001b[43m,\u001b[49m\u001b[43m \u001b[49m\u001b[38;5;241;43m*\u001b[39;49m\u001b[38;5;241;43m*\u001b[39;49m\u001b[43mkwargs\u001b[49m\u001b[43m)\u001b[49m\n\u001b[1;32m    664\u001b[0m \u001b[38;5;28;01mreturn\u001b[39;00m repack([f(r, \u001b[38;5;241m*\u001b[39ma) \u001b[38;5;28;01mfor\u001b[39;00m r, (f, a) \u001b[38;5;129;01min\u001b[39;00m \u001b[38;5;28mzip\u001b[39m(results, postcomputes)])\n",
      "File \u001b[0;32m~/src_git/LP/env/lib64/python3.12/site-packages/distributed/client.py:2234\u001b[0m, in \u001b[0;36mClient._gather\u001b[0;34m(self, futures, errors, direct, local_worker)\u001b[0m\n\u001b[1;32m   2232\u001b[0m         exc \u001b[38;5;241m=\u001b[39m CancelledError(key)\n\u001b[1;32m   2233\u001b[0m     \u001b[38;5;28;01melse\u001b[39;00m:\n\u001b[0;32m-> 2234\u001b[0m         \u001b[38;5;28;01mraise\u001b[39;00m exception\u001b[38;5;241m.\u001b[39mwith_traceback(traceback)\n\u001b[1;32m   2235\u001b[0m     \u001b[38;5;28;01mraise\u001b[39;00m exc\n\u001b[1;32m   2236\u001b[0m \u001b[38;5;28;01mif\u001b[39;00m errors \u001b[38;5;241m==\u001b[39m \u001b[38;5;124m\"\u001b[39m\u001b[38;5;124mskip\u001b[39m\u001b[38;5;124m\"\u001b[39m:\n",
      "\u001b[0;31mKilledWorker\u001b[0m: Attempted to run task ('pivot_sum-885296ada7fd580a647e07f530a58cad', 9) on 4 different workers, but all those workers died while running it. The last worker that attempt to run the task was tcp://127.0.0.1:39073. Inspecting worker logs is often a good next step to diagnose what went wrong. For more information see https://distributed.dask.org/en/stable/killed.html."
     ]
    },
    {
     "name": "stderr",
     "output_type": "stream",
     "text": [
      "2024-06-26 09:23:49,315 - distributed.worker - ERROR - Worker stream died during communication: tcp://127.0.0.1:39073\n",
      "Traceback (most recent call last):\n",
      "  File \"/home/ravik/src_git/LP/env/lib64/python3.12/site-packages/distributed/comm/tcp.py\", line 227, in read\n",
      "    frames_nosplit = await read_bytes_rw(stream, frames_nosplit_nbytes)\n",
      "                     ^^^^^^^^^^^^^^^^^^^^^^^^^^^^^^^^^^^^^^^^^^^^^^^^^^\n",
      "  File \"/home/ravik/src_git/LP/env/lib64/python3.12/site-packages/distributed/comm/tcp.py\", line 366, in read_bytes_rw\n",
      "    actual = await stream.read_into(chunk)  # type: ignore[arg-type]\n",
      "             ^^^^^^^^^^^^^^^^^^^^^^^^^^^^^\n",
      "tornado.iostream.StreamClosedError: Stream is closed\n",
      "\n",
      "The above exception was the direct cause of the following exception:\n",
      "\n",
      "Traceback (most recent call last):\n",
      "  File \"/home/ravik/src_git/LP/env/lib64/python3.12/site-packages/distributed/worker.py\", line 2058, in gather_dep\n",
      "    response = await get_data_from_worker(\n",
      "               ^^^^^^^^^^^^^^^^^^^^^^^^^^^\n",
      "  File \"/home/ravik/src_git/LP/env/lib64/python3.12/site-packages/distributed/worker.py\", line 2866, in get_data_from_worker\n",
      "    response = await send_recv(\n",
      "               ^^^^^^^^^^^^^^^^\n",
      "  File \"/home/ravik/src_git/LP/env/lib64/python3.12/site-packages/distributed/core.py\", line 1154, in send_recv\n",
      "    response = await comm.read(deserializers=deserializers)\n",
      "               ^^^^^^^^^^^^^^^^^^^^^^^^^^^^^^^^^^^^^^^^^^^^\n",
      "  File \"/home/ravik/src_git/LP/env/lib64/python3.12/site-packages/distributed/comm/tcp.py\", line 236, in read\n",
      "    convert_stream_closed_error(self, e)\n",
      "  File \"/home/ravik/src_git/LP/env/lib64/python3.12/site-packages/distributed/comm/tcp.py\", line 142, in convert_stream_closed_error\n",
      "    raise CommClosedError(f\"in {obj}: {exc}\") from exc\n",
      "distributed.comm.core.CommClosedError: in <TCP (closed) Ephemeral Worker->Worker for gather local=tcp://127.0.0.1:34704 remote=tcp://127.0.0.1:39073>: Stream is closed\n",
      "2024-06-26 09:23:50,620 - distributed.worker.memory - WARNING - Worker is at 85% memory usage. Pausing worker.  Process memory: 6.38 GiB -- Worker memory limit: 7.45 GiB\n",
      "2024-06-26 09:23:50,621 - distributed.worker.memory - WARNING - Unmanaged memory use is high. This may indicate a memory leak or the memory may not be released to the OS; see https://distributed.dask.org/en/latest/worker-memory.html#memory-not-released-back-to-the-os for more information. -- Unmanaged memory: 6.38 GiB -- Worker memory limit: 7.45 GiB\n",
      "2024-06-26 09:23:51,351 - distributed.worker.memory - WARNING - Worker is at 79% memory usage. Resuming worker. Process memory: 5.95 GiB -- Worker memory limit: 7.45 GiB\n",
      "2024-06-26 09:23:51,551 - distributed.worker.memory - WARNING - Worker is at 80% memory usage. Pausing worker.  Process memory: 6.00 GiB -- Worker memory limit: 7.45 GiB\n"
     ]
    }
   ],
   "source": [
    "user_movie_matrix.head()"
   ]
  },
  {
   "cell_type": "code",
   "execution_count": null,
   "metadata": {},
   "outputs": [],
   "source": []
  }
 ],
 "metadata": {
  "kernelspec": {
   "display_name": "env",
   "language": "python",
   "name": "python3"
  },
  "language_info": {
   "codemirror_mode": {
    "name": "ipython",
    "version": 3
   },
   "file_extension": ".py",
   "mimetype": "text/x-python",
   "name": "python",
   "nbconvert_exporter": "python",
   "pygments_lexer": "ipython3",
   "version": "3.12.3"
  }
 },
 "nbformat": 4,
 "nbformat_minor": 2
}
