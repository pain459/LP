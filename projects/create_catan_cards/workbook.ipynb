{
 "cells": [
  {
   "cell_type": "code",
   "execution_count": 11,
   "metadata": {},
   "outputs": [
    {
     "name": "stdout",
     "output_type": "stream",
     "text": [
      "Card dimensions in pixels: 637 x 944\n"
     ]
    }
   ],
   "source": [
    "from PIL import Image\n",
    "\n",
    "# Convert mm to pixels for 300 DPI\n",
    "def mm_to_px(mm, dpi=300):\n",
    "    return int((mm / 25.4) * dpi)\n",
    "\n",
    "# Card dimensions in mm\n",
    "card_width_mm = 54\n",
    "card_height_mm = 80\n",
    "\n",
    "# Convert card dimensions to pixels\n",
    "card_width_px = mm_to_px(card_width_mm)\n",
    "card_height_px = mm_to_px(card_height_mm)\n",
    "\n",
    "# Print out the dimensions for verification\n",
    "print(f\"Card dimensions in pixels: {card_width_px} x {card_height_px}\")\n"
   ]
  },
  {
   "cell_type": "code",
   "execution_count": 12,
   "metadata": {},
   "outputs": [
    {
     "name": "stdout",
     "output_type": "stream",
     "text": [
      "Original image size: (1024, 1024)\n"
     ]
    }
   ],
   "source": [
    "# Load the .webp image\n",
    "image_path = \"/home/ravik/src_git/LP/projects/create_catan_cards/sheep.webp\"  # Replace with your image path\n",
    "image = Image.open(image_path)\n",
    "\n",
    "# Print the original image size for verification\n",
    "print(f\"Original image size: {image.size}\")"
   ]
  },
  {
   "cell_type": "code",
   "execution_count": 15,
   "metadata": {},
   "outputs": [
    {
     "name": "stdout",
     "output_type": "stream",
     "text": [
      "Opening in existing browser session.\n"
     ]
    }
   ],
   "source": [
    "# Create a blank card (white background)\n",
    "card = Image.new('RGB', (card_width_px, card_height_px), 'white')\n",
    "\n",
    "# Get the dimensions of the image\n",
    "image_width, image_height = image.size\n",
    "\n",
    "# Calculate the position to center the image on the card\n",
    "x_offset = (card_width_px - image_width) // 2\n",
    "y_offset = (card_height_px - image_height) // 2\n",
    "\n",
    "# Paste the image onto the card, centering it\n",
    "card.paste(image, (x_offset, y_offset))\n",
    "\n",
    "# Crop the card to the card size (cuts off any part of the image that extends beyond the card size)\n",
    "card_cropped = card.crop((0, 0, card_width_px, card_height_px))\n",
    "\n",
    "# Save the card to verify the output visually\n",
    "card_cropped.save(\"output_card_centered.png\", dpi=(300, 300))\n",
    "\n",
    "# Optionally, show the card image (if you're using a local environment)\n",
    "card_cropped.show()\n"
   ]
  },
  {
   "cell_type": "code",
   "execution_count": null,
   "metadata": {},
   "outputs": [],
   "source": []
  }
 ],
 "metadata": {
  "kernelspec": {
   "display_name": "venv",
   "language": "python",
   "name": "python3"
  },
  "language_info": {
   "codemirror_mode": {
    "name": "ipython",
    "version": 3
   },
   "file_extension": ".py",
   "mimetype": "text/x-python",
   "name": "python",
   "nbconvert_exporter": "python",
   "pygments_lexer": "ipython3",
   "version": "3.12.3"
  }
 },
 "nbformat": 4,
 "nbformat_minor": 2
}
