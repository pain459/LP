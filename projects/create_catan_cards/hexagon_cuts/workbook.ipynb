{
 "cells": [
  {
   "cell_type": "code",
   "execution_count": 8,
   "metadata": {},
   "outputs": [
    {
     "name": "stdout",
     "output_type": "stream",
     "text": [
      "Image has been resized to hexagon dimensions: width = 75mm, height = 85mm.\n",
      "PDF created successfully with 6 hexagons, each 75mm wide and 85mm high, placed in the center of 6 sections on an A4 sheet.\n"
     ]
    }
   ],
   "source": [
    "from PIL import Image\n",
    "from reportlab.lib.pagesizes import A4\n",
    "from reportlab.pdfgen import canvas\n",
    "\n",
    "# Function to resize the image to fit a hexagon with a specific width and height\n",
    "def resize_to_hexagon(image_file, hex_width_mm, hex_height_mm):\n",
    "    # Convert mm to pixels for PIL (assuming 300 DPI)\n",
    "    dpi = 300\n",
    "    hex_width_px = int((hex_width_mm / 25.4) * dpi)\n",
    "    hex_height_px = int((hex_height_mm / 25.4) * dpi)\n",
    "\n",
    "    # Load the image and resize it using LANCZOS resampling\n",
    "    image = Image.open(image_file)\n",
    "    \n",
    "    # Convert RGBA to RGB if needed (JPEG can't handle transparency)\n",
    "    if image.mode == 'RGBA':\n",
    "        image = image.convert('RGB')\n",
    "\n",
    "    resized_image = image.resize((hex_width_px, hex_height_px), Image.Resampling.LANCZOS)\n",
    "\n",
    "    # Print confirmation\n",
    "    print(f\"Image has been resized to hexagon dimensions: width = {hex_width_mm}mm, height = {hex_height_mm}mm.\")\n",
    "\n",
    "    return resized_image, hex_width_mm, hex_height_mm\n",
    "\n",
    "# Function to create a PDF with resized hexagons placed in the center of 6 sections on A4\n",
    "def create_hexagon_pdf(image_file, hex_width_mm, hex_height_mm, output_file=\"hexagons_output.pdf\"):\n",
    "    # Resize the image to fit the hexagon with the specified width and height\n",
    "    resized_image, hex_width_mm, hex_height_mm = resize_to_hexagon(image_file, hex_width_mm, hex_height_mm)\n",
    "    \n",
    "    # Convert A4 size from mm to points (1mm = 2.83465 points)\n",
    "    A4_width, A4_height = [dim * 2.83465 for dim in [210, 297]]\n",
    "    \n",
    "    # Convert hexagon dimensions from mm to points\n",
    "    hex_width_pt = hex_width_mm * 2.83465\n",
    "    hex_height_pt = hex_height_mm * 2.83465\n",
    "\n",
    "    # Create a PDF canvas\n",
    "    pdf = canvas.Canvas(output_file, pagesize=A4)\n",
    "\n",
    "    # Divide the page into 6 equal sections (3 rows and 2 columns)\n",
    "    num_cols = 2\n",
    "    num_rows = 3\n",
    "    section_width = A4_width / num_cols\n",
    "    section_height = A4_height / num_rows\n",
    "\n",
    "    # Calculate the center of each section and place the image\n",
    "    for row in range(num_rows):\n",
    "        for col in range(num_cols):\n",
    "            # Calculate the center of the current section\n",
    "            x_center = (col * section_width) + (section_width / 2)\n",
    "            y_center = (A4_height - (row * section_height) - (section_height / 2))\n",
    "\n",
    "            # Place the hexagon at the center of the section\n",
    "            x_offset = x_center - (hex_width_pt / 2)\n",
    "            y_offset = y_center - (hex_height_pt / 2)\n",
    "\n",
    "            # Save the resized image to a temporary file\n",
    "            resized_image.save(\"resized_hexagon_image.jpg\")\n",
    "\n",
    "            # Draw the hexagon image at the calculated position\n",
    "            pdf.drawImage(\"resized_hexagon_image.jpg\", x_offset, y_offset, width=hex_width_pt, height=hex_height_pt)\n",
    "\n",
    "    # Save the PDF\n",
    "    pdf.save()\n",
    "\n",
    "    # Print confirmation of completion\n",
    "    print(f\"PDF created successfully with 6 hexagons, each {hex_width_mm}mm wide and {hex_height_mm}mm high, placed in the center of 6 sections on an A4 sheet.\")\n",
    "\n",
    "# Example usage\n",
    "image_file = \"wood_hexagon.png\"  # Path to the input image (supports PNG or other formats with transparency)\n",
    "create_hexagon_pdf(image_file, 75, 85)  # Resize hexagon to 75mm width and 85mm height, then create the PDF\n"
   ]
  }
 ],
 "metadata": {
  "kernelspec": {
   "display_name": ".venv",
   "language": "python",
   "name": "python3"
  },
  "language_info": {
   "codemirror_mode": {
    "name": "ipython",
    "version": 3
   },
   "file_extension": ".py",
   "mimetype": "text/x-python",
   "name": "python",
   "nbconvert_exporter": "python",
   "pygments_lexer": "ipython3",
   "version": "3.12.3"
  }
 },
 "nbformat": 4,
 "nbformat_minor": 2
}
