{
 "cells": [
  {
   "cell_type": "code",
   "execution_count": 21,
   "metadata": {},
   "outputs": [
    {
     "name": "stdout",
     "output_type": "stream",
     "text": [
      "Card dimensions in pixels: 637 x 944\n"
     ]
    }
   ],
   "source": [
    "from PIL import Image\n",
    "\n",
    "# Convert mm to pixels for 300 DPI\n",
    "def mm_to_px(mm, dpi=300):\n",
    "    return int((mm / 25.4) * dpi)\n",
    "\n",
    "# Card dimensions in mm\n",
    "card_width_mm = 54\n",
    "card_height_mm = 80\n",
    "\n",
    "# Convert card dimensions to pixels\n",
    "card_width_px = mm_to_px(card_width_mm)\n",
    "card_height_px = mm_to_px(card_height_mm)\n",
    "\n",
    "# Print out the dimensions for verification\n",
    "print(f\"Card dimensions in pixels: {card_width_px} x {card_height_px}\")\n"
   ]
  },
  {
   "cell_type": "code",
   "execution_count": 22,
   "metadata": {},
   "outputs": [
    {
     "name": "stdout",
     "output_type": "stream",
     "text": [
      "New card dimensions with padding in pixels: 685 x 992\n"
     ]
    }
   ],
   "source": [
    "# New card dimensions with additional 4mm padding on each side\n",
    "additional_padding_mm = 4\n",
    "new_card_width_mm = card_width_mm + additional_padding_mm\n",
    "new_card_height_mm = card_height_mm + additional_padding_mm\n",
    "\n",
    "# Convert new card dimensions to pixels for 300 DPI\n",
    "new_card_width_px = mm_to_px(new_card_width_mm)\n",
    "new_card_height_px = mm_to_px(new_card_height_mm)\n",
    "\n",
    "# Print out the new dimensions for verification\n",
    "print(f\"New card dimensions with padding in pixels: {new_card_width_px} x {new_card_height_px}\")\n"
   ]
  },
  {
   "cell_type": "code",
   "execution_count": 23,
   "metadata": {},
   "outputs": [],
   "source": [
    "from PIL import Image, ImageDraw\n",
    "\n",
    "# Convert mm to pixels for 300 DPI\n",
    "def mm_to_px(mm, dpi=300):\n",
    "    return int((mm / 25.4) * dpi)\n",
    "\n",
    "# Original card dimensions in mm\n",
    "card_width_mm = 54\n",
    "card_height_mm = 80\n",
    "additional_padding_mm = 4\n",
    "\n",
    "# New card dimensions with 4mm padding on each side\n",
    "new_card_width_mm = card_width_mm + additional_padding_mm\n",
    "new_card_height_mm = card_height_mm + additional_padding_mm\n",
    "\n",
    "# Convert new card dimensions to pixels\n",
    "new_card_width_px = mm_to_px(new_card_width_mm)\n",
    "new_card_height_px = mm_to_px(new_card_height_mm)\n",
    "card_width_px = mm_to_px(card_width_mm)\n",
    "card_height_px = mm_to_px(card_height_mm)\n",
    "\n",
    "# Load the .webp image\n",
    "image_path = \"/home/ravik/src_git/LP/projects/create_catan_cards/back.webp\" # Replace with your image path\n",
    "image = Image.open(image_path)\n",
    "\n",
    "# Create a blank card with the new dimensions (white background)\n",
    "card_with_padding = Image.new('RGB', (new_card_width_px, new_card_height_px), 'white')\n",
    "\n",
    "# Get the dimensions of the image\n",
    "image_width, image_height = image.size\n",
    "\n",
    "# Calculate the position to center the image on the original card area\n",
    "x_offset = (card_width_px - image_width) // 2 + (new_card_width_px - card_width_px) // 2\n",
    "y_offset = (card_height_px - image_height) // 2 + (new_card_height_px - card_height_px) // 2\n",
    "\n",
    "# Paste the image onto the card (centered on the original card area)\n",
    "card_with_padding.paste(image, (x_offset, y_offset))\n",
    "\n",
    "# Draw a dark border around the original card area\n",
    "draw = ImageDraw.Draw(card_with_padding)\n",
    "border_thickness = 5  # Adjust the border thickness as needed\n",
    "border_color = (50, 50, 50)  # Dark gray color\n",
    "\n",
    "# Draw the border (inside the larger card but around the original card size)\n",
    "draw.rectangle(\n",
    "    [(new_card_width_px - card_width_px) // 2, (new_card_height_px - card_height_px) // 2,\n",
    "     (new_card_width_px + card_width_px) // 2, (new_card_height_px + card_height_px) // 2],\n",
    "    outline=border_color, width=border_thickness\n",
    ")\n",
    "\n",
    "# Draw a dotted black line as a cutting guide\n",
    "dotted_line_color = (0, 0, 0)  # Black\n",
    "dotted_line_spacing = 5  # Spacing between dots\n",
    "for x in range((new_card_width_px - card_width_px) // 2, (new_card_width_px + card_width_px) // 2, dotted_line_spacing * 2):\n",
    "    draw.line([(x, (new_card_height_px - card_height_px) // 2), (x + dotted_line_spacing, (new_card_height_px - card_height_px) // 2)], fill=dotted_line_color, width=1)\n",
    "    draw.line([(x, (new_card_height_px + card_height_px) // 2), (x + dotted_line_spacing, (new_card_height_px + card_height_px) // 2)], fill=dotted_line_color, width=1)\n",
    "\n",
    "for y in range((new_card_height_px - card_height_px) // 2, (new_card_height_px + card_height_px) // 2, dotted_line_spacing * 2):\n",
    "    draw.line([((new_card_width_px - card_width_px) // 2, y), ((new_card_width_px - card_width_px) // 2, y + dotted_line_spacing)], fill=dotted_line_color, width=1)\n",
    "    draw.line([((new_card_width_px + card_width_px) // 2, y), ((new_card_width_px + card_width_px) // 2, y + dotted_line_spacing)], fill=dotted_line_color, width=1)\n",
    "\n",
    "# Save the card to verify the output visually\n",
    "card_with_padding.save(\"back_card_with_border.png\", dpi=(300, 300))\n",
    "\n",
    "# Optionally, show the card image (if you're using a local environment)\n",
    "card_with_padding.show()\n"
   ]
  },
  {
   "cell_type": "code",
   "execution_count": 24,
   "metadata": {},
   "outputs": [
    {
     "name": "stdout",
     "output_type": "stream",
     "text": [
      "Opening in existing browser session.\n",
      "PDF generated successfully!\n"
     ]
    }
   ],
   "source": [
    "from reportlab.pdfgen import canvas\n",
    "from reportlab.lib.pagesizes import A4\n",
    "from reportlab.lib.units import mm\n",
    "from PIL import Image\n",
    "\n",
    "# Convert mm to points for ReportLab (1 mm = 2.83465 points)\n",
    "def mm_to_pt(mm_value):\n",
    "    return mm_value * 2.83465\n",
    "\n",
    "# Card dimensions with padding (in mm)\n",
    "card_width_mm = 58\n",
    "card_height_mm = 84\n",
    "\n",
    "# Convert card dimensions to points for the PDF\n",
    "card_width_pt = mm_to_pt(card_width_mm)\n",
    "card_height_pt = mm_to_pt(card_height_mm)\n",
    "\n",
    "# Number of cards per page based on available space\n",
    "cards_per_row = 3\n",
    "cards_per_column = 3\n",
    "cards_per_page = cards_per_row * cards_per_column\n",
    "\n",
    "# Total number of cards (in this case, 25)\n",
    "total_cards = 100\n",
    "\n",
    "# Generate PDF with proper handling of images and empty space\n",
    "def generate_pdf():\n",
    "    c = canvas.Canvas(\"back_catan_cards.pdf\", pagesize=A4)\n",
    "    \n",
    "    card_image_path = \"/home/ravik/src_git/LP/projects/create_catan_cards/back_card_with_border.png\"  # Replace with actual card image\n",
    "\n",
    "    for i in range(total_cards):\n",
    "        # Calculate row and column for each card\n",
    "        row = (i % cards_per_page) // cards_per_row\n",
    "        col = i % cards_per_row\n",
    "\n",
    "        # X and Y position for the card on the A4 page\n",
    "        x_pos = mm_to_pt(10) + col * card_width_pt  # Adding 10mm as the margin\n",
    "        y_pos = A4[1] - (mm_to_pt(10) + row * card_height_pt + card_height_pt)  # Start from the top\n",
    "\n",
    "        # Draw the card image onto the PDF\n",
    "        c.drawImage(card_image_path, x_pos, y_pos, card_width_pt, card_height_pt, mask='auto')\n",
    "\n",
    "        # If we have placed enough cards for one page or reach the end of the set, create a new page\n",
    "        if (i + 1) % cards_per_page == 0 and (i + 1) < total_cards:\n",
    "            c.showPage()\n",
    "\n",
    "    c.save()\n",
    "    print(\"PDF generated successfully!\")\n",
    "\n",
    "# Call the function to generate the PDF\n",
    "generate_pdf()\n"
   ]
  },
  {
   "cell_type": "code",
   "execution_count": null,
   "metadata": {},
   "outputs": [],
   "source": []
  }
 ],
 "metadata": {
  "kernelspec": {
   "display_name": "venv",
   "language": "python",
   "name": "python3"
  },
  "language_info": {
   "codemirror_mode": {
    "name": "ipython",
    "version": 3
   },
   "file_extension": ".py",
   "mimetype": "text/x-python",
   "name": "python",
   "nbconvert_exporter": "python",
   "pygments_lexer": "ipython3",
   "version": "3.12.3"
  }
 },
 "nbformat": 4,
 "nbformat_minor": 2
}
