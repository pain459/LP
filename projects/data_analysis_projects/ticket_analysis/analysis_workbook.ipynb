{
 "cells": [
  {
   "cell_type": "code",
   "execution_count": 2,
   "metadata": {},
   "outputs": [],
   "source": [
    "import pandas as pd\n",
    "import matplotlib.pyplot as plt\n",
    "import seaborn as sns"
   ]
  },
  {
   "cell_type": "code",
   "execution_count": 3,
   "metadata": {},
   "outputs": [
    {
     "data": {
      "text/html": [
       "<div>\n",
       "<style scoped>\n",
       "    .dataframe tbody tr th:only-of-type {\n",
       "        vertical-align: middle;\n",
       "    }\n",
       "\n",
       "    .dataframe tbody tr th {\n",
       "        vertical-align: top;\n",
       "    }\n",
       "\n",
       "    .dataframe thead th {\n",
       "        text-align: right;\n",
       "    }\n",
       "</style>\n",
       "<table border=\"1\" class=\"dataframe\">\n",
       "  <thead>\n",
       "    <tr style=\"text-align: right;\">\n",
       "      <th></th>\n",
       "      <th>severity</th>\n",
       "      <th>req#</th>\n",
       "      <th>subject</th>\n",
       "      <th>logged_date</th>\n",
       "      <th>last_updated</th>\n",
       "      <th>service</th>\n",
       "    </tr>\n",
       "  </thead>\n",
       "  <tbody>\n",
       "    <tr>\n",
       "      <th>0</th>\n",
       "      <td>medium</td>\n",
       "      <td>100002</td>\n",
       "      <td>Paper jam</td>\n",
       "      <td>10/27/2023 14:55:58 IST</td>\n",
       "      <td>10/29/2023 15:55:58 IST</td>\n",
       "      <td>Service 9</td>\n",
       "    </tr>\n",
       "    <tr>\n",
       "      <th>1</th>\n",
       "      <td>high</td>\n",
       "      <td>100006</td>\n",
       "      <td>Paper jam</td>\n",
       "      <td>08/12/2023 07:02:50 IST</td>\n",
       "      <td>08/14/2023 04:02:50 IST</td>\n",
       "      <td>Service 10</td>\n",
       "    </tr>\n",
       "    <tr>\n",
       "      <th>2</th>\n",
       "      <td>high</td>\n",
       "      <td>100007</td>\n",
       "      <td>Cannot connect to printer</td>\n",
       "      <td>08/12/2023 14:08:28 IST</td>\n",
       "      <td>08/14/2023 23:08:28 IST</td>\n",
       "      <td>Service 4</td>\n",
       "    </tr>\n",
       "    <tr>\n",
       "      <th>3</th>\n",
       "      <td>high</td>\n",
       "      <td>100010</td>\n",
       "      <td>Low ink warning</td>\n",
       "      <td>10/17/2023 21:51:06 IST</td>\n",
       "      <td>10/18/2023 13:51:06 IST</td>\n",
       "      <td>Service 2</td>\n",
       "    </tr>\n",
       "    <tr>\n",
       "      <th>4</th>\n",
       "      <td>medium</td>\n",
       "      <td>100012</td>\n",
       "      <td>Cannot connect to printer</td>\n",
       "      <td>03/21/2023 11:02:31 IST</td>\n",
       "      <td>03/23/2023 00:02:31 IST</td>\n",
       "      <td>Service 7</td>\n",
       "    </tr>\n",
       "  </tbody>\n",
       "</table>\n",
       "</div>"
      ],
      "text/plain": [
       "  severity    req#                    subject              logged_date  \\\n",
       "0   medium  100002                  Paper jam  10/27/2023 14:55:58 IST   \n",
       "1     high  100006                  Paper jam  08/12/2023 07:02:50 IST   \n",
       "2     high  100007  Cannot connect to printer  08/12/2023 14:08:28 IST   \n",
       "3     high  100010            Low ink warning  10/17/2023 21:51:06 IST   \n",
       "4   medium  100012  Cannot connect to printer  03/21/2023 11:02:31 IST   \n",
       "\n",
       "              last_updated     service  \n",
       "0  10/29/2023 15:55:58 IST   Service 9  \n",
       "1  08/14/2023 04:02:50 IST  Service 10  \n",
       "2  08/14/2023 23:08:28 IST   Service 4  \n",
       "3  10/18/2023 13:51:06 IST   Service 2  \n",
       "4  03/23/2023 00:02:31 IST   Service 7  "
      ]
     },
     "execution_count": 3,
     "metadata": {},
     "output_type": "execute_result"
    }
   ],
   "source": [
    "# load the dataset\n",
    "df = pd.read_csv('generated_it_service_data.csv')\n",
    "df.head()"
   ]
  },
  {
   "cell_type": "code",
   "execution_count": null,
   "metadata": {},
   "outputs": [],
   "source": []
  }
 ],
 "metadata": {
  "kernelspec": {
   "display_name": "venv",
   "language": "python",
   "name": "python3"
  },
  "language_info": {
   "codemirror_mode": {
    "name": "ipython",
    "version": 3
   },
   "file_extension": ".py",
   "mimetype": "text/x-python",
   "name": "python",
   "nbconvert_exporter": "python",
   "pygments_lexer": "ipython3",
   "version": "3.12.3"
  }
 },
 "nbformat": 4,
 "nbformat_minor": 2
}
