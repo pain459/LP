{
 "cells": [
  {
   "cell_type": "markdown",
   "metadata": {},
   "source": [
    "## EDA on movies dataset"
   ]
  },
  {
   "cell_type": "code",
   "execution_count": 32,
   "metadata": {},
   "outputs": [],
   "source": [
    "import pandas as pd\n",
    "import warnings\n",
    "import seaborn as sns\n",
    "import matplotlib.pyplot as plt"
   ]
  },
  {
   "cell_type": "code",
   "execution_count": 18,
   "metadata": {},
   "outputs": [],
   "source": [
    "warnings.filterwarnings('error')"
   ]
  },
  {
   "cell_type": "code",
   "execution_count": 19,
   "metadata": {},
   "outputs": [
    {
     "data": {
      "text/html": [
       "<div>\n",
       "<style scoped>\n",
       "    .dataframe tbody tr th:only-of-type {\n",
       "        vertical-align: middle;\n",
       "    }\n",
       "\n",
       "    .dataframe tbody tr th {\n",
       "        vertical-align: top;\n",
       "    }\n",
       "\n",
       "    .dataframe thead th {\n",
       "        text-align: right;\n",
       "    }\n",
       "</style>\n",
       "<table border=\"1\" class=\"dataframe\">\n",
       "  <thead>\n",
       "    <tr style=\"text-align: right;\">\n",
       "      <th></th>\n",
       "      <th>Unnamed: 0</th>\n",
       "      <th>Title</th>\n",
       "      <th>Release Date</th>\n",
       "      <th>Description</th>\n",
       "      <th>Rating</th>\n",
       "      <th>No of Persons Voted</th>\n",
       "      <th>Directed by</th>\n",
       "      <th>Written by</th>\n",
       "      <th>Duration</th>\n",
       "      <th>Genres</th>\n",
       "    </tr>\n",
       "  </thead>\n",
       "  <tbody>\n",
       "    <tr>\n",
       "      <th>0</th>\n",
       "      <td>0</td>\n",
       "      <td>Dekalog (1988)</td>\n",
       "      <td>Mar 22, 1996</td>\n",
       "      <td>This masterwork by Krzysztof Kieślowski is one...</td>\n",
       "      <td>7.4</td>\n",
       "      <td>118</td>\n",
       "      <td>Krzysztof Kieslowski</td>\n",
       "      <td>Krzysztof Kieslowski, Krzysztof Piesiewicz</td>\n",
       "      <td>9 h 32 m</td>\n",
       "      <td>Drama</td>\n",
       "    </tr>\n",
       "    <tr>\n",
       "      <th>1</th>\n",
       "      <td>1</td>\n",
       "      <td>Three Colors: Red</td>\n",
       "      <td>Nov 23, 1994</td>\n",
       "      <td>Krzysztof Kieslowski closes his Three Colors t...</td>\n",
       "      <td>8.3</td>\n",
       "      <td>241</td>\n",
       "      <td>Krzysztof Kieslowski</td>\n",
       "      <td>Krzysztof Kieslowski, Krzysztof Piesiewicz, Ag...</td>\n",
       "      <td>1 h 39 m</td>\n",
       "      <td>Drama,Mystery,Romance</td>\n",
       "    </tr>\n",
       "    <tr>\n",
       "      <th>2</th>\n",
       "      <td>2</td>\n",
       "      <td>The Conformist</td>\n",
       "      <td>Oct 22, 1970</td>\n",
       "      <td>Set in Rome in the 1930s, this re-release of B...</td>\n",
       "      <td>7.3</td>\n",
       "      <td>106</td>\n",
       "      <td>Bernardo Bertolucci</td>\n",
       "      <td>Alberto Moravia, Bernardo Bertolucci</td>\n",
       "      <td>1 h 47 m</td>\n",
       "      <td>Drama</td>\n",
       "    </tr>\n",
       "    <tr>\n",
       "      <th>3</th>\n",
       "      <td>3</td>\n",
       "      <td>Tokyo Story</td>\n",
       "      <td>Mar 13, 1972</td>\n",
       "      <td>Yasujiro Ozu’s Tokyo Story follows an aging co...</td>\n",
       "      <td>8.1</td>\n",
       "      <td>147</td>\n",
       "      <td>Yasujirô Ozu</td>\n",
       "      <td>Kôgo Noda, Yasujirô Ozu</td>\n",
       "      <td>2 h 16 m</td>\n",
       "      <td>Drama</td>\n",
       "    </tr>\n",
       "    <tr>\n",
       "      <th>4</th>\n",
       "      <td>4</td>\n",
       "      <td>The Leopard (re-release)</td>\n",
       "      <td>Aug 13, 2004</td>\n",
       "      <td>Set in Sicily in 1860, Luchino Visconti's spec...</td>\n",
       "      <td>7.8</td>\n",
       "      <td>85</td>\n",
       "      <td>Luchino Visconti</td>\n",
       "      <td>Giuseppe Tomasi di Lampedusa, Suso Cecchi D'Am...</td>\n",
       "      <td>3 h 7 m</td>\n",
       "      <td>Drama,History</td>\n",
       "    </tr>\n",
       "  </tbody>\n",
       "</table>\n",
       "</div>"
      ],
      "text/plain": [
       "   Unnamed: 0                     Title  Release Date  \\\n",
       "0           0            Dekalog (1988)  Mar 22, 1996   \n",
       "1           1         Three Colors: Red  Nov 23, 1994   \n",
       "2           2            The Conformist  Oct 22, 1970   \n",
       "3           3               Tokyo Story  Mar 13, 1972   \n",
       "4           4  The Leopard (re-release)  Aug 13, 2004   \n",
       "\n",
       "                                         Description  Rating  \\\n",
       "0  This masterwork by Krzysztof Kieślowski is one...     7.4   \n",
       "1  Krzysztof Kieslowski closes his Three Colors t...     8.3   \n",
       "2  Set in Rome in the 1930s, this re-release of B...     7.3   \n",
       "3  Yasujiro Ozu’s Tokyo Story follows an aging co...     8.1   \n",
       "4  Set in Sicily in 1860, Luchino Visconti's spec...     7.8   \n",
       "\n",
       "  No of Persons Voted           Directed by  \\\n",
       "0                 118  Krzysztof Kieslowski   \n",
       "1                 241  Krzysztof Kieslowski   \n",
       "2                 106   Bernardo Bertolucci   \n",
       "3                 147          Yasujirô Ozu   \n",
       "4                  85      Luchino Visconti   \n",
       "\n",
       "                                          Written by  Duration  \\\n",
       "0         Krzysztof Kieslowski, Krzysztof Piesiewicz  9 h 32 m   \n",
       "1  Krzysztof Kieslowski, Krzysztof Piesiewicz, Ag...  1 h 39 m   \n",
       "2               Alberto Moravia, Bernardo Bertolucci  1 h 47 m   \n",
       "3                            Kôgo Noda, Yasujirô Ozu  2 h 16 m   \n",
       "4  Giuseppe Tomasi di Lampedusa, Suso Cecchi D'Am...   3 h 7 m   \n",
       "\n",
       "                  Genres  \n",
       "0                  Drama  \n",
       "1  Drama,Mystery,Romance  \n",
       "2                  Drama  \n",
       "3                  Drama  \n",
       "4          Drama,History  "
      ]
     },
     "execution_count": 19,
     "metadata": {},
     "output_type": "execute_result"
    }
   ],
   "source": [
    "# Loading the dataset\n",
    "df = pd.read_csv(\"16k_Movies.csv\")\n",
    "df.head()"
   ]
  },
  {
   "cell_type": "code",
   "execution_count": 20,
   "metadata": {},
   "outputs": [
    {
     "name": "stdout",
     "output_type": "stream",
     "text": [
      "<class 'pandas.core.frame.DataFrame'>\n",
      "RangeIndex: 16290 entries, 0 to 16289\n",
      "Data columns (total 10 columns):\n",
      " #   Column               Non-Null Count  Dtype  \n",
      "---  ------               --------------  -----  \n",
      " 0   Unnamed: 0           16290 non-null  int64  \n",
      " 1   Title                16290 non-null  object \n",
      " 2   Release Date         16290 non-null  object \n",
      " 3   Description          16290 non-null  object \n",
      " 4   Rating               12846 non-null  float64\n",
      " 5   No of Persons Voted  12829 non-null  object \n",
      " 6   Directed by          16283 non-null  object \n",
      " 7   Written by           15327 non-null  object \n",
      " 8   Duration             16277 non-null  object \n",
      " 9   Genres               16285 non-null  object \n",
      "dtypes: float64(1), int64(1), object(8)\n",
      "memory usage: 1.2+ MB\n"
     ]
    }
   ],
   "source": [
    "# basic information about dataset\n",
    "df.info()"
   ]
  },
  {
   "cell_type": "code",
   "execution_count": 21,
   "metadata": {},
   "outputs": [
    {
     "data": {
      "text/plain": [
       "Unnamed: 0                0\n",
       "Title                     0\n",
       "Release Date              0\n",
       "Description               0\n",
       "Rating                 3444\n",
       "No of Persons Voted    3461\n",
       "Directed by               7\n",
       "Written by              963\n",
       "Duration                 13\n",
       "Genres                    5\n",
       "dtype: int64"
      ]
     },
     "execution_count": 21,
     "metadata": {},
     "output_type": "execute_result"
    }
   ],
   "source": [
    "# Check for missing values\n",
    "df.isnull().sum()"
   ]
  },
  {
   "cell_type": "code",
   "execution_count": 22,
   "metadata": {},
   "outputs": [
    {
     "data": {
      "text/plain": [
       "(16290, 10)"
      ]
     },
     "execution_count": 22,
     "metadata": {},
     "output_type": "execute_result"
    }
   ],
   "source": [
    "# Shape of the table.\n",
    "df.shape"
   ]
  },
  {
   "cell_type": "code",
   "execution_count": 23,
   "metadata": {},
   "outputs": [],
   "source": [
    "# not filling the rating and number of persons voted as it can create wrong impression of the movie recommendation."
   ]
  },
  {
   "cell_type": "code",
   "execution_count": 24,
   "metadata": {},
   "outputs": [
    {
     "data": {
      "text/plain": [
       "\"\\nTitle: The name of the movie.\\nRelease Date: When the movie was released.\\nDescription: A brief synopsis of the movie.\\nRating: User/critic ratings (depending on the source).\\nNo of Persons Voted: The number of votes the movie has received.\\nDirected by: The director(s) of the movie.\\nWritten by: The writer(s) of the movie.\\nDuration: The runtime of the movie.\\nGenres: The movie's genres.\\n\""
      ]
     },
     "execution_count": 24,
     "metadata": {},
     "output_type": "execute_result"
    }
   ],
   "source": [
    "# Column info.\n",
    "'''\n",
    "Title: The name of the movie.\n",
    "Release Date: When the movie was released.\n",
    "Description: A brief synopsis of the movie.\n",
    "Rating: User/critic ratings (depending on the source).\n",
    "No of Persons Voted: The number of votes the movie has received.\n",
    "Directed by: The director(s) of the movie.\n",
    "Written by: The writer(s) of the movie.\n",
    "Duration: The runtime of the movie.\n",
    "Genres: The movie's genres.\n",
    "'''"
   ]
  },
  {
   "cell_type": "code",
   "execution_count": 25,
   "metadata": {},
   "outputs": [],
   "source": [
    "# Dropping the unwanted columns\n",
    "df.drop(columns=['Unnamed: 0'], inplace=True)"
   ]
  },
  {
   "cell_type": "code",
   "execution_count": 26,
   "metadata": {},
   "outputs": [
    {
     "data": {
      "text/html": [
       "<div>\n",
       "<style scoped>\n",
       "    .dataframe tbody tr th:only-of-type {\n",
       "        vertical-align: middle;\n",
       "    }\n",
       "\n",
       "    .dataframe tbody tr th {\n",
       "        vertical-align: top;\n",
       "    }\n",
       "\n",
       "    .dataframe thead th {\n",
       "        text-align: right;\n",
       "    }\n",
       "</style>\n",
       "<table border=\"1\" class=\"dataframe\">\n",
       "  <thead>\n",
       "    <tr style=\"text-align: right;\">\n",
       "      <th></th>\n",
       "      <th>Title</th>\n",
       "      <th>Release Date</th>\n",
       "      <th>Description</th>\n",
       "      <th>Rating</th>\n",
       "      <th>No of Persons Voted</th>\n",
       "      <th>Directed by</th>\n",
       "      <th>Written by</th>\n",
       "      <th>Duration</th>\n",
       "      <th>Genres</th>\n",
       "    </tr>\n",
       "  </thead>\n",
       "  <tbody>\n",
       "    <tr>\n",
       "      <th>0</th>\n",
       "      <td>Dekalog (1988)</td>\n",
       "      <td>Mar 22, 1996</td>\n",
       "      <td>This masterwork by Krzysztof Kieślowski is one...</td>\n",
       "      <td>7.4</td>\n",
       "      <td>118</td>\n",
       "      <td>Krzysztof Kieslowski</td>\n",
       "      <td>Krzysztof Kieslowski, Krzysztof Piesiewicz</td>\n",
       "      <td>9 h 32 m</td>\n",
       "      <td>Drama</td>\n",
       "    </tr>\n",
       "    <tr>\n",
       "      <th>1</th>\n",
       "      <td>Three Colors: Red</td>\n",
       "      <td>Nov 23, 1994</td>\n",
       "      <td>Krzysztof Kieslowski closes his Three Colors t...</td>\n",
       "      <td>8.3</td>\n",
       "      <td>241</td>\n",
       "      <td>Krzysztof Kieslowski</td>\n",
       "      <td>Krzysztof Kieslowski, Krzysztof Piesiewicz, Ag...</td>\n",
       "      <td>1 h 39 m</td>\n",
       "      <td>Drama,Mystery,Romance</td>\n",
       "    </tr>\n",
       "    <tr>\n",
       "      <th>2</th>\n",
       "      <td>The Conformist</td>\n",
       "      <td>Oct 22, 1970</td>\n",
       "      <td>Set in Rome in the 1930s, this re-release of B...</td>\n",
       "      <td>7.3</td>\n",
       "      <td>106</td>\n",
       "      <td>Bernardo Bertolucci</td>\n",
       "      <td>Alberto Moravia, Bernardo Bertolucci</td>\n",
       "      <td>1 h 47 m</td>\n",
       "      <td>Drama</td>\n",
       "    </tr>\n",
       "    <tr>\n",
       "      <th>3</th>\n",
       "      <td>Tokyo Story</td>\n",
       "      <td>Mar 13, 1972</td>\n",
       "      <td>Yasujiro Ozu’s Tokyo Story follows an aging co...</td>\n",
       "      <td>8.1</td>\n",
       "      <td>147</td>\n",
       "      <td>Yasujirô Ozu</td>\n",
       "      <td>Kôgo Noda, Yasujirô Ozu</td>\n",
       "      <td>2 h 16 m</td>\n",
       "      <td>Drama</td>\n",
       "    </tr>\n",
       "    <tr>\n",
       "      <th>4</th>\n",
       "      <td>The Leopard (re-release)</td>\n",
       "      <td>Aug 13, 2004</td>\n",
       "      <td>Set in Sicily in 1860, Luchino Visconti's spec...</td>\n",
       "      <td>7.8</td>\n",
       "      <td>85</td>\n",
       "      <td>Luchino Visconti</td>\n",
       "      <td>Giuseppe Tomasi di Lampedusa, Suso Cecchi D'Am...</td>\n",
       "      <td>3 h 7 m</td>\n",
       "      <td>Drama,History</td>\n",
       "    </tr>\n",
       "  </tbody>\n",
       "</table>\n",
       "</div>"
      ],
      "text/plain": [
       "                      Title  Release Date  \\\n",
       "0            Dekalog (1988)  Mar 22, 1996   \n",
       "1         Three Colors: Red  Nov 23, 1994   \n",
       "2            The Conformist  Oct 22, 1970   \n",
       "3               Tokyo Story  Mar 13, 1972   \n",
       "4  The Leopard (re-release)  Aug 13, 2004   \n",
       "\n",
       "                                         Description  Rating  \\\n",
       "0  This masterwork by Krzysztof Kieślowski is one...     7.4   \n",
       "1  Krzysztof Kieslowski closes his Three Colors t...     8.3   \n",
       "2  Set in Rome in the 1930s, this re-release of B...     7.3   \n",
       "3  Yasujiro Ozu’s Tokyo Story follows an aging co...     8.1   \n",
       "4  Set in Sicily in 1860, Luchino Visconti's spec...     7.8   \n",
       "\n",
       "  No of Persons Voted           Directed by  \\\n",
       "0                 118  Krzysztof Kieslowski   \n",
       "1                 241  Krzysztof Kieslowski   \n",
       "2                 106   Bernardo Bertolucci   \n",
       "3                 147          Yasujirô Ozu   \n",
       "4                  85      Luchino Visconti   \n",
       "\n",
       "                                          Written by  Duration  \\\n",
       "0         Krzysztof Kieslowski, Krzysztof Piesiewicz  9 h 32 m   \n",
       "1  Krzysztof Kieslowski, Krzysztof Piesiewicz, Ag...  1 h 39 m   \n",
       "2               Alberto Moravia, Bernardo Bertolucci  1 h 47 m   \n",
       "3                            Kôgo Noda, Yasujirô Ozu  2 h 16 m   \n",
       "4  Giuseppe Tomasi di Lampedusa, Suso Cecchi D'Am...   3 h 7 m   \n",
       "\n",
       "                  Genres  \n",
       "0                  Drama  \n",
       "1  Drama,Mystery,Romance  \n",
       "2                  Drama  \n",
       "3                  Drama  \n",
       "4          Drama,History  "
      ]
     },
     "execution_count": 26,
     "metadata": {},
     "output_type": "execute_result"
    }
   ],
   "source": [
    "df.head()"
   ]
  },
  {
   "cell_type": "code",
   "execution_count": 30,
   "metadata": {},
   "outputs": [
    {
     "data": {
      "text/html": [
       "<div>\n",
       "<style scoped>\n",
       "    .dataframe tbody tr th:only-of-type {\n",
       "        vertical-align: middle;\n",
       "    }\n",
       "\n",
       "    .dataframe tbody tr th {\n",
       "        vertical-align: top;\n",
       "    }\n",
       "\n",
       "    .dataframe thead th {\n",
       "        text-align: right;\n",
       "    }\n",
       "</style>\n",
       "<table border=\"1\" class=\"dataframe\">\n",
       "  <thead>\n",
       "    <tr style=\"text-align: right;\">\n",
       "      <th></th>\n",
       "      <th>Title</th>\n",
       "      <th>Release Date</th>\n",
       "      <th>Description</th>\n",
       "      <th>Rating</th>\n",
       "      <th>No of Persons Voted</th>\n",
       "      <th>Directed by</th>\n",
       "      <th>Written by</th>\n",
       "      <th>Duration</th>\n",
       "      <th>Genres</th>\n",
       "    </tr>\n",
       "  </thead>\n",
       "  <tbody>\n",
       "    <tr>\n",
       "      <th>0</th>\n",
       "      <td>Dekalog (1988)</td>\n",
       "      <td>1996</td>\n",
       "      <td>This masterwork by Krzysztof Kieślowski is one...</td>\n",
       "      <td>7.4</td>\n",
       "      <td>118</td>\n",
       "      <td>Krzysztof Kieslowski</td>\n",
       "      <td>Krzysztof Kieslowski, Krzysztof Piesiewicz</td>\n",
       "      <td>9 h 32 m</td>\n",
       "      <td>Drama</td>\n",
       "    </tr>\n",
       "    <tr>\n",
       "      <th>1</th>\n",
       "      <td>Three Colors: Red</td>\n",
       "      <td>1994</td>\n",
       "      <td>Krzysztof Kieslowski closes his Three Colors t...</td>\n",
       "      <td>8.3</td>\n",
       "      <td>241</td>\n",
       "      <td>Krzysztof Kieslowski</td>\n",
       "      <td>Krzysztof Kieslowski, Krzysztof Piesiewicz, Ag...</td>\n",
       "      <td>1 h 39 m</td>\n",
       "      <td>Drama,Mystery,Romance</td>\n",
       "    </tr>\n",
       "  </tbody>\n",
       "</table>\n",
       "</div>"
      ],
      "text/plain": [
       "               Title  Release Date  \\\n",
       "0     Dekalog (1988)          1996   \n",
       "1  Three Colors: Red          1994   \n",
       "\n",
       "                                         Description  Rating  \\\n",
       "0  This masterwork by Krzysztof Kieślowski is one...     7.4   \n",
       "1  Krzysztof Kieslowski closes his Three Colors t...     8.3   \n",
       "\n",
       "  No of Persons Voted           Directed by  \\\n",
       "0                 118  Krzysztof Kieslowski   \n",
       "1                 241  Krzysztof Kieslowski   \n",
       "\n",
       "                                          Written by  Duration  \\\n",
       "0         Krzysztof Kieslowski, Krzysztof Piesiewicz  9 h 32 m   \n",
       "1  Krzysztof Kieslowski, Krzysztof Piesiewicz, Ag...  1 h 39 m   \n",
       "\n",
       "                  Genres  \n",
       "0                  Drama  \n",
       "1  Drama,Mystery,Romance  "
      ]
     },
     "execution_count": 30,
     "metadata": {},
     "output_type": "execute_result"
    }
   ],
   "source": [
    "# date handling.\n",
    "df['Release Date'] = pd.to_datetime(df['Release Date'], errors='coerce')\n",
    "# Extract the year only\n",
    "df['Release Date'] = df['Release Date'].dt.year\n",
    "df.head(2)"
   ]
  },
  {
   "cell_type": "markdown",
   "metadata": {},
   "source": [
    "### Univariate Analysis"
   ]
  },
  {
   "cell_type": "markdown",
   "metadata": {},
   "source": [
    "#### Rating"
   ]
  },
  {
   "cell_type": "code",
   "execution_count": 35,
   "metadata": {},
   "outputs": [
    {
     "data": {
      "image/png": "[encoded data removed]",
      "text/plain": [
       "<Figure size 800x600 with 1 Axes>"
      ]
     },
     "metadata": {},
     "output_type": "display_data"
    }
   ],
   "source": [
    "# Distribution of ratings\n",
    "plt.figure(figsize=(8, 6))\n",
    "sns.histplot(df['Rating'], bins=20, kde=True)\n",
    "plt.title('Distribution of Movie Ratings')\n",
    "plt.show()"
   ]
  },
  {
   "cell_type": "markdown",
   "metadata": {},
   "source": [
    "#### No. of Persons Voted"
   ]
  },
  {
   "cell_type": "code",
   "execution_count": 43,
   "metadata": {},
   "outputs": [
    {
     "data": {
      "image/png": "[encoded data removed]",
      "text/plain": [
       "<Figure size 800x600 with 1 Axes>"
      ]
     },
     "metadata": {},
     "output_type": "display_data"
    }
   ],
   "source": [
    "# Distribution of number of persons voted\n",
    "plt.figure(figsize=(8, 6))\n",
    "my_plot = sns.histplot(df['No of Persons Voted'], bins=30, kde=True)\n",
    "plt.title(\"Distribution of number of votes\")\n",
    "# rotate the x ticks\n",
    "# plt.xticks(rotation=90) \n",
    "plt.show()"
   ]
  },
  {
   "cell_type": "code",
   "execution_count": null,
   "metadata": {},
   "outputs": [],
   "source": []
  }
 ],
 "metadata": {
  "kernelspec": {
   "display_name": "venv",
   "language": "python",
   "name": "python3"
  },
  "language_info": {
   "codemirror_mode": {
    "name": "ipython",
    "version": 3
   },
   "file_extension": ".py",
   "mimetype": "text/x-python",
   "name": "python",
   "nbconvert_exporter": "python",
   "pygments_lexer": "ipython3",
   "version": "3.12.3"
  }
 },
 "nbformat": 4,
 "nbformat_minor": 2
}
