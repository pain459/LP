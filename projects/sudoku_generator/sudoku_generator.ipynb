{
 "cells": [
  {
   "cell_type": "code",
   "execution_count": 3,
   "metadata": {},
   "outputs": [],
   "source": [
    "from sudoku import Sudoku"
   ]
  },
  {
   "cell_type": "code",
   "execution_count": 7,
   "metadata": {},
   "outputs": [
    {
     "name": "stdout",
     "output_type": "stream",
     "text": [
      "+-------+-------+-------+\n",
      "| 3 5   | 7 1   | 2 6   |\n",
      "| 7     |       | 1     |\n",
      "| 2 1 6 | 5     |     7 |\n",
      "+-------+-------+-------+\n",
      "|     5 | 2   3 | 9 4   |\n",
      "| 9   2 | 8 4   |     6 |\n",
      "|   4   | 1   6 |   5 2 |\n",
      "+-------+-------+-------+\n",
      "|     3 |   2   | 8     |\n",
      "| 6 2 1 |     4 | 5 7 3 |\n",
      "|     8 | 3   7 |       |\n",
      "+-------+-------+-------+\n",
      "\n"
     ]
    }
   ],
   "source": [
    "puzzle = Sudoku(3).difficulty(0.5)\n",
    "puzzle.show()"
   ]
  },
  {
   "cell_type": "code",
   "execution_count": 9,
   "metadata": {},
   "outputs": [
    {
     "name": "stdout",
     "output_type": "stream",
     "text": [
      "+-------+-------+-------+\n",
      "| 3 5 4 | 7 1 8 | 2 6 9 |\n",
      "| 7 8 9 | 4 6 2 | 1 3 5 |\n",
      "| 2 1 6 | 5 3 9 | 4 8 7 |\n",
      "+-------+-------+-------+\n",
      "| 1 6 5 | 2 7 3 | 9 4 8 |\n",
      "| 9 3 2 | 8 4 5 | 7 1 6 |\n",
      "| 8 4 7 | 1 9 6 | 3 5 2 |\n",
      "+-------+-------+-------+\n",
      "| 5 7 3 | 6 2 1 | 8 9 4 |\n",
      "| 6 2 1 | 9 8 4 | 5 7 3 |\n",
      "| 4 9 8 | 3 5 7 | 6 2 1 |\n",
      "+-------+-------+-------+\n",
      "\n"
     ]
    }
   ],
   "source": [
    "solution = puzzle.solve()\n",
    "solution.show()"
   ]
  },
  {
   "cell_type": "code",
   "execution_count": 10,
   "metadata": {},
   "outputs": [
    {
     "data": {
      "text/plain": [
       "[[3, 5, 4, 7, 1, 8, 2, 6, 9],\n",
       " [7, 8, 9, 4, 6, 2, 1, 3, 5],\n",
       " [2, 1, 6, 5, 3, 9, 4, 8, 7],\n",
       " [1, 6, 5, 2, 7, 3, 9, 4, 8],\n",
       " [9, 3, 2, 8, 4, 5, 7, 1, 6],\n",
       " [8, 4, 7, 1, 9, 6, 3, 5, 2],\n",
       " [5, 7, 3, 6, 2, 1, 8, 9, 4],\n",
       " [6, 2, 1, 9, 8, 4, 5, 7, 3],\n",
       " [4, 9, 8, 3, 5, 7, 6, 2, 1]]"
      ]
     },
     "execution_count": 10,
     "metadata": {},
     "output_type": "execute_result"
    }
   ],
   "source": [
    "solution.board"
   ]
  },
  {
   "cell_type": "code",
   "execution_count": 11,
   "metadata": {},
   "outputs": [
    {
     "name": "stdout",
     "output_type": "stream",
     "text": [
      "+-------+-------+-------+\n",
      "|       |       | 2 6   |\n",
      "| 7     |       |       |\n",
      "|     6 |       |       |\n",
      "+-------+-------+-------+\n",
      "|       |       |       |\n",
      "|       |       |     6 |\n",
      "|   4   |       |       |\n",
      "+-------+-------+-------+\n",
      "|       |       |       |\n",
      "|     1 |       | 5   3 |\n",
      "|       |       |       |\n",
      "+-------+-------+-------+\n",
      "\n"
     ]
    }
   ],
   "source": [
    "# creating puzzle with multiple difficulties.\n",
    "puzzle1 = Sudoku(3).difficulty(0.9)\n",
    "puzzle1.show()"
   ]
  },
  {
   "cell_type": "code",
   "execution_count": 12,
   "metadata": {},
   "outputs": [
    {
     "name": "stdout",
     "output_type": "stream",
     "text": [
      "+-------+-------+-------+\n",
      "| 3 1 4 | 5 7 8 | 2 6 9 |\n",
      "| 7 2 5 | 4 6 9 | 3 8 1 |\n",
      "| 8 9 6 | 1 2 3 | 4 5 7 |\n",
      "+-------+-------+-------+\n",
      "| 1 3 2 | 7 4 6 | 8 9 5 |\n",
      "| 5 7 9 | 3 8 2 | 1 4 6 |\n",
      "| 6 4 8 | 9 1 5 | 7 3 2 |\n",
      "+-------+-------+-------+\n",
      "| 2 8 3 | 6 5 1 | 9 7 4 |\n",
      "| 4 6 1 | 8 9 7 | 5 2 3 |\n",
      "| 9 5 7 | 2 3 4 | 6 1 8 |\n",
      "+-------+-------+-------+\n",
      "\n"
     ]
    }
   ],
   "source": [
    "solution1 = puzzle1.solve()\n",
    "solution1.show()"
   ]
  },
  {
   "cell_type": "code",
   "execution_count": null,
   "metadata": {},
   "outputs": [],
   "source": []
  }
 ],
 "metadata": {
  "kernelspec": {
   "display_name": ".venv",
   "language": "python",
   "name": "python3"
  },
  "language_info": {
   "codemirror_mode": {
    "name": "ipython",
    "version": 3
   },
   "file_extension": ".py",
   "mimetype": "text/x-python",
   "name": "python",
   "nbconvert_exporter": "python",
   "pygments_lexer": "ipython3",
   "version": "3.10.12"
  }
 },
 "nbformat": 4,
 "nbformat_minor": 2
}
