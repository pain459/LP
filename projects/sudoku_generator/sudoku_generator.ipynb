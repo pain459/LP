{
 "cells": [
  {
   "cell_type": "code",
   "execution_count": 3,
   "metadata": {},
   "outputs": [],
   "source": [
    "from sudoku import Sudoku"
   ]
  },
  {
   "cell_type": "code",
   "execution_count": 7,
   "metadata": {},
   "outputs": [
    {
     "name": "stdout",
     "output_type": "stream",
     "text": [
      "+-------+-------+-------+\n",
      "| 3 5   | 7 1   | 2 6   |\n",
      "| 7     |       | 1     |\n",
      "| 2 1 6 | 5     |     7 |\n",
      "+-------+-------+-------+\n",
      "|     5 | 2   3 | 9 4   |\n",
      "| 9   2 | 8 4   |     6 |\n",
      "|   4   | 1   6 |   5 2 |\n",
      "+-------+-------+-------+\n",
      "|     3 |   2   | 8     |\n",
      "| 6 2 1 |     4 | 5 7 3 |\n",
      "|     8 | 3   7 |       |\n",
      "+-------+-------+-------+\n",
      "\n"
     ]
    }
   ],
   "source": [
    "puzzle = Sudoku(3).difficulty(0.5)\n",
    "puzzle.show()"
   ]
  },
  {
   "cell_type": "code",
   "execution_count": 9,
   "metadata": {},
   "outputs": [
    {
     "name": "stdout",
     "output_type": "stream",
     "text": [
      "+-------+-------+-------+\n",
      "| 3 5 4 | 7 1 8 | 2 6 9 |\n",
      "| 7 8 9 | 4 6 2 | 1 3 5 |\n",
      "| 2 1 6 | 5 3 9 | 4 8 7 |\n",
      "+-------+-------+-------+\n",
      "| 1 6 5 | 2 7 3 | 9 4 8 |\n",
      "| 9 3 2 | 8 4 5 | 7 1 6 |\n",
      "| 8 4 7 | 1 9 6 | 3 5 2 |\n",
      "+-------+-------+-------+\n",
      "| 5 7 3 | 6 2 1 | 8 9 4 |\n",
      "| 6 2 1 | 9 8 4 | 5 7 3 |\n",
      "| 4 9 8 | 3 5 7 | 6 2 1 |\n",
      "+-------+-------+-------+\n",
      "\n"
     ]
    }
   ],
   "source": [
    "solution = puzzle.solve()\n",
    "solution.show()"
   ]
  },
  {
   "cell_type": "code",
   "execution_count": null,
   "metadata": {},
   "outputs": [],
   "source": []
  }
 ],
 "metadata": {
  "kernelspec": {
   "display_name": ".venv",
   "language": "python",
   "name": "python3"
  },
  "language_info": {
   "codemirror_mode": {
    "name": "ipython",
    "version": 3
   },
   "file_extension": ".py",
   "mimetype": "text/x-python",
   "name": "python",
   "nbconvert_exporter": "python",
   "pygments_lexer": "ipython3",
   "version": "3.10.12"
  }
 },
 "nbformat": 4,
 "nbformat_minor": 2
}
