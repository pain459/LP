{
 "cells": [
  {
   "cell_type": "code",
   "execution_count": 2,
   "metadata": {},
   "outputs": [],
   "source": [
    "from sudoku import Sudoku"
   ]
  },
  {
   "cell_type": "code",
   "execution_count": 3,
   "metadata": {},
   "outputs": [
    {
     "name": "stdout",
     "output_type": "stream",
     "text": [
      "+-------+-------+-------+\n",
      "| 8   5 |   4   |   6 7 |\n",
      "| 3 1 4 | 6 7 2 | 9 8 5 |\n",
      "|   7   | 3   8 |     4 |\n",
      "+-------+-------+-------+\n",
      "|     8 | 9 3   | 2 7   |\n",
      "| 2 6 3 | 7     | 4 9 1 |\n",
      "|     9 | 2     |     3 |\n",
      "+-------+-------+-------+\n",
      "|       |   6   | 5     |\n",
      "|       | 4   1 | 6 3   |\n",
      "|       | 5 9   |       |\n",
      "+-------+-------+-------+\n",
      "\n"
     ]
    }
   ],
   "source": [
    "puzzle = Sudoku(3).difficulty(0.5)\n",
    "puzzle.show()"
   ]
  },
  {
   "cell_type": "code",
   "execution_count": 4,
   "metadata": {},
   "outputs": [
    {
     "name": "stdout",
     "output_type": "stream",
     "text": [
      "+-------+-------+-------+\n",
      "| 8 2 5 | 1 4 9 | 3 6 7 |\n",
      "| 3 1 4 | 6 7 2 | 9 8 5 |\n",
      "| 9 7 6 | 3 5 8 | 1 2 4 |\n",
      "+-------+-------+-------+\n",
      "| 1 5 8 | 9 3 4 | 2 7 6 |\n",
      "| 2 6 3 | 7 8 5 | 4 9 1 |\n",
      "| 7 4 9 | 2 1 6 | 8 5 3 |\n",
      "+-------+-------+-------+\n",
      "| 4 3 2 | 8 6 7 | 5 1 9 |\n",
      "| 5 9 7 | 4 2 1 | 6 3 8 |\n",
      "| 6 8 1 | 5 9 3 | 7 4 2 |\n",
      "+-------+-------+-------+\n",
      "\n"
     ]
    }
   ],
   "source": [
    "solution = puzzle.solve()\n",
    "solution.show()"
   ]
  },
  {
   "cell_type": "code",
   "execution_count": 5,
   "metadata": {},
   "outputs": [
    {
     "data": {
      "text/plain": [
       "[[8, 2, 5, 1, 4, 9, 3, 6, 7],\n",
       " [3, 1, 4, 6, 7, 2, 9, 8, 5],\n",
       " [9, 7, 6, 3, 5, 8, 1, 2, 4],\n",
       " [1, 5, 8, 9, 3, 4, 2, 7, 6],\n",
       " [2, 6, 3, 7, 8, 5, 4, 9, 1],\n",
       " [7, 4, 9, 2, 1, 6, 8, 5, 3],\n",
       " [4, 3, 2, 8, 6, 7, 5, 1, 9],\n",
       " [5, 9, 7, 4, 2, 1, 6, 3, 8],\n",
       " [6, 8, 1, 5, 9, 3, 7, 4, 2]]"
      ]
     },
     "execution_count": 5,
     "metadata": {},
     "output_type": "execute_result"
    }
   ],
   "source": [
    "solution.board"
   ]
  },
  {
   "cell_type": "code",
   "execution_count": 6,
   "metadata": {},
   "outputs": [
    {
     "name": "stdout",
     "output_type": "stream",
     "text": [
      "+-------+-------+-------+\n",
      "| 8     |       |   6   |\n",
      "|       |       | 9     |\n",
      "|       |     8 |       |\n",
      "+-------+-------+-------+\n",
      "|       | 9     |   7   |\n",
      "|       | 7     |   9   |\n",
      "|       |       |       |\n",
      "+-------+-------+-------+\n",
      "|       |   6   |       |\n",
      "|       |       |       |\n",
      "|       |       |       |\n",
      "+-------+-------+-------+\n",
      "\n"
     ]
    }
   ],
   "source": [
    "# creating puzzle with multiple difficulties.\n",
    "puzzle1 = Sudoku(3).difficulty(0.9)\n",
    "puzzle1.show()"
   ]
  },
  {
   "cell_type": "code",
   "execution_count": 7,
   "metadata": {},
   "outputs": [
    {
     "name": "stdout",
     "output_type": "stream",
     "text": [
      "+-------+-------+-------+\n",
      "| 8 4 5 | 1 7 9 | 2 6 3 |\n",
      "| 1 3 7 | 5 2 6 | 9 4 8 |\n",
      "| 2 6 9 | 4 3 8 | 5 1 7 |\n",
      "+-------+-------+-------+\n",
      "| 3 1 2 | 9 8 5 | 6 7 4 |\n",
      "| 6 5 8 | 7 4 2 | 3 9 1 |\n",
      "| 7 9 4 | 6 1 3 | 8 5 2 |\n",
      "+-------+-------+-------+\n",
      "| 5 8 1 | 2 6 7 | 4 3 9 |\n",
      "| 4 2 6 | 3 9 1 | 7 8 5 |\n",
      "| 9 7 3 | 8 5 4 | 1 2 6 |\n",
      "+-------+-------+-------+\n",
      "\n"
     ]
    }
   ],
   "source": [
    "solution1 = puzzle1.solve()\n",
    "solution1.show()"
   ]
  },
  {
   "cell_type": "code",
   "execution_count": 9,
   "metadata": {},
   "outputs": [
    {
     "data": {
      "text/plain": [
       "[[8, None, None, None, None, None, None, 6, None],\n",
       " [None, None, None, None, None, None, 9, None, None],\n",
       " [None, None, None, None, None, 8, None, None, None],\n",
       " [None, None, None, 9, None, None, None, 7, None],\n",
       " [None, None, None, 7, None, None, None, 9, None],\n",
       " [None, None, None, None, None, None, None, None, None],\n",
       " [None, None, None, None, 6, None, None, None, None],\n",
       " [None, None, None, None, None, None, None, None, None],\n",
       " [None, None, None, None, None, None, None, None, None]]"
      ]
     },
     "execution_count": 9,
     "metadata": {},
     "output_type": "execute_result"
    }
   ],
   "source": [
    "puzzle1.board"
   ]
  },
  {
   "cell_type": "code",
   "execution_count": null,
   "metadata": {},
   "outputs": [],
   "source": []
  }
 ],
 "metadata": {
  "kernelspec": {
   "display_name": ".venv",
   "language": "python",
   "name": "python3"
  },
  "language_info": {
   "codemirror_mode": {
    "name": "ipython",
    "version": 3
   },
   "file_extension": ".py",
   "mimetype": "text/x-python",
   "name": "python",
   "nbconvert_exporter": "python",
   "pygments_lexer": "ipython3",
   "version": "3.10.12"
  }
 },
 "nbformat": 4,
 "nbformat_minor": 2
}
