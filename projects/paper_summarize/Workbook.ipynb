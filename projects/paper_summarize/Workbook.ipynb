{
 "cells": [
  {
   "cell_type": "markdown",
   "metadata": {},
   "source": [
    "### Step:1 Extract the text PDFs"
   ]
  },
  {
   "cell_type": "code",
   "execution_count": 2,
   "metadata": {},
   "outputs": [],
   "source": [
    "from pathlib import Path\n",
    "import PyPDF2"
   ]
  },
  {
   "cell_type": "code",
   "execution_count": 3,
   "metadata": {},
   "outputs": [],
   "source": [
    "def extract_text_from_pdf(pdf_path):\n",
    "    \"\"\"\n",
    "    Extracts text from a PDF file.\n",
    "    :param pdf_path: Path to the PDF file.\n",
    "    :return: Extracted text as a string.\n",
    "    \"\"\"\n",
    "    text = \"\"\n",
    "    with open(pdf_path, 'rb') as file:\n",
    "        reader = PyPDF2.PdfReader(file)\n",
    "        for page in reader.pages:\n",
    "            text += page.extract_text()\n",
    "    return text"
   ]
  },
  {
   "cell_type": "code",
   "execution_count": 4,
   "metadata": {},
   "outputs": [],
   "source": [
    "def extract_text_from_pdfs(input_dir, output_dir):\n",
    "    \"\"\"\n",
    "    Extracts text from all PDF files in a directory and saves them to text files.\n",
    "    :param input_dir: Directory containing PDF files.\n",
    "    :param output_dir: Directory to save extracted text files.\n",
    "    \"\"\"\n",
    "    input_path = Path(input_dir)\n",
    "    output_path = Path(output_dir)\n",
    "    output_path.mkdir(parents=True, exist_ok=True)\n",
    "\n",
    "    for pdf_file in input_path.glob(\"*.pdf\"):\n",
    "        print(f\"Processing {pdf_file.name}\")\n",
    "        text = extract_text_from_pdf(pdf_file)\n",
    "        output_file = output_path / f\"{pdf_file.stem}.txt\"\n",
    "        with open(output_file, 'w', encoding='utf-8') as f:\n",
    "            f.write(text)\n",
    "        print(f\"Extracted text saved to {output_file}\")"
   ]
  },
  {
   "cell_type": "code",
   "execution_count": 7,
   "metadata": {},
   "outputs": [
    {
     "name": "stdout",
     "output_type": "stream",
     "text": [
      "Processing kafka.pdf\n",
      "Extracted text saved to D:\\src_git\\LP\\LP\\projects\\paper_summarize\\summary\\kafka.txt\n",
      "Processing unikernels.pdf\n",
      "Extracted text saved to D:\\src_git\\LP\\LP\\projects\\paper_summarize\\summary\\unikernels.txt\n"
     ]
    }
   ],
   "source": [
    "# Usage\n",
    "extract_text_from_pdfs(\"D:\\\\src_git\\\\LP\\\\LP\\\\projects\\\\paper_summarize\\\\\", \"D:\\\\src_git\\\\LP\\\\LP\\\\projects\\\\paper_summarize\\\\summary\\\\\" )"
   ]
  },
  {
   "cell_type": "code",
   "execution_count": null,
   "metadata": {},
   "outputs": [],
   "source": []
  }
 ],
 "metadata": {
  "kernelspec": {
   "display_name": "venv",
   "language": "python",
   "name": "python3"
  },
  "language_info": {
   "codemirror_mode": {
    "name": "ipython",
    "version": 3
   },
   "file_extension": ".py",
   "mimetype": "text/x-python",
   "name": "python",
   "nbconvert_exporter": "python",
   "pygments_lexer": "ipython3",
   "version": "3.12.6"
  }
 },
 "nbformat": 4,
 "nbformat_minor": 2
}
