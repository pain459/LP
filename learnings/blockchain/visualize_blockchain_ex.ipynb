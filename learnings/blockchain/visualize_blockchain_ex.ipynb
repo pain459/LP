{
 "cells": [
  {
   "cell_type": "code",
   "execution_count": 7,
   "metadata": {},
   "outputs": [
    {
     "data": {
      "text/html": [
       "<div>\n",
       "<style scoped>\n",
       "    .dataframe tbody tr th:only-of-type {\n",
       "        vertical-align: middle;\n",
       "    }\n",
       "\n",
       "    .dataframe tbody tr th {\n",
       "        vertical-align: top;\n",
       "    }\n",
       "\n",
       "    .dataframe thead th {\n",
       "        text-align: right;\n",
       "    }\n",
       "</style>\n",
       "<table border=\"1\" class=\"dataframe\">\n",
       "  <thead>\n",
       "    <tr style=\"text-align: right;\">\n",
       "      <th></th>\n",
       "      <th>Index</th>\n",
       "      <th>Previous Hash</th>\n",
       "      <th>Timestamp</th>\n",
       "      <th>Voter ID</th>\n",
       "      <th>Candidate</th>\n",
       "      <th>Hash</th>\n",
       "    </tr>\n",
       "  </thead>\n",
       "  <tbody>\n",
       "    <tr>\n",
       "      <th>0</th>\n",
       "      <td>0</td>\n",
       "      <td>0</td>\n",
       "      <td>1718730483</td>\n",
       "      <td>0</td>\n",
       "      <td>Genesis</td>\n",
       "      <td>31194d2319388617b293d5ee0c3fa8d452d8a05a28dd45...</td>\n",
       "    </tr>\n",
       "    <tr>\n",
       "      <th>1</th>\n",
       "      <td>1</td>\n",
       "      <td>31194d2319388617b293d5ee0c3fa8d452d8a05a28dd45...</td>\n",
       "      <td>1718730483</td>\n",
       "      <td>Voter1</td>\n",
       "      <td>CandidateA</td>\n",
       "      <td>0aabf25634e0f77a8754e5572b238123d87844e1521b79...</td>\n",
       "    </tr>\n",
       "    <tr>\n",
       "      <th>2</th>\n",
       "      <td>2</td>\n",
       "      <td>0aabf25634e0f77a8754e5572b238123d87844e1521b79...</td>\n",
       "      <td>1718730483</td>\n",
       "      <td>Voter2</td>\n",
       "      <td>CandidateB</td>\n",
       "      <td>c0b6add37a9e3533971ab310a8fd6dac68ef92296c4576...</td>\n",
       "    </tr>\n",
       "    <tr>\n",
       "      <th>3</th>\n",
       "      <td>3</td>\n",
       "      <td>c0b6add37a9e3533971ab310a8fd6dac68ef92296c4576...</td>\n",
       "      <td>1718730483</td>\n",
       "      <td>Voter3</td>\n",
       "      <td>CandidateA</td>\n",
       "      <td>41d14c240f193c98d53b9f712793dbc33e9907ab3f141b...</td>\n",
       "    </tr>\n",
       "  </tbody>\n",
       "</table>\n",
       "</div>"
      ],
      "text/plain": [
       "   Index                                      Previous Hash   Timestamp  \\\n",
       "0      0                                                  0  1718730483   \n",
       "1      1  31194d2319388617b293d5ee0c3fa8d452d8a05a28dd45...  1718730483   \n",
       "2      2  0aabf25634e0f77a8754e5572b238123d87844e1521b79...  1718730483   \n",
       "3      3  c0b6add37a9e3533971ab310a8fd6dac68ef92296c4576...  1718730483   \n",
       "\n",
       "  Voter ID   Candidate                                               Hash  \n",
       "0        0     Genesis  31194d2319388617b293d5ee0c3fa8d452d8a05a28dd45...  \n",
       "1   Voter1  CandidateA  0aabf25634e0f77a8754e5572b238123d87844e1521b79...  \n",
       "2   Voter2  CandidateB  c0b6add37a9e3533971ab310a8fd6dac68ef92296c4576...  \n",
       "3   Voter3  CandidateA  41d14c240f193c98d53b9f712793dbc33e9907ab3f141b...  "
      ]
     },
     "metadata": {},
     "output_type": "display_data"
    },
    {
     "data": {
      "image/png": "[encoded data removed]",
      "text/plain": [
       "<Figure size 640x480 with 1 Axes>"
      ]
     },
     "metadata": {},
     "output_type": "display_data"
    }
   ],
   "source": [
    "import pandas as pd\n",
    "import matplotlib.pyplot as plt\n",
    "\n",
    "# Create a DataFrame to visualize the blockchain\n",
    "def visualize_blockchain(blockchain):\n",
    "    data = {\n",
    "        \"Index\": [block.index for block in blockchain],\n",
    "        \"Previous Hash\": [block.previous_hash for block in blockchain],\n",
    "        \"Timestamp\": [block.timestamp for block in blockchain],\n",
    "        \"Voter ID\": [block.voter_id for block in blockchain],\n",
    "        \"Candidate\": [block.candidate for block in blockchain],\n",
    "        \"Hash\": [block.hash for block in blockchain]\n",
    "    }\n",
    "    df = pd.DataFrame(data)\n",
    "    display(df)\n",
    "\n",
    "# Visualize the current blockchain\n",
    "visualize_blockchain(blockchain)\n",
    "\n",
    "# Plot the votes\n",
    "votes = tally_votes(blockchain)\n",
    "plt.bar(votes.keys(), votes.values())\n",
    "plt.xlabel('Candidates')\n",
    "plt.ylabel('Number of Votes')\n",
    "plt.title('Vote Tally')\n",
    "plt.show()\n"
   ]
  },
  {
   "cell_type": "code",
   "execution_count": null,
   "metadata": {},
   "outputs": [],
   "source": []
  }
 ],
 "metadata": {
  "kernelspec": {
   "display_name": "env",
   "language": "python",
   "name": "python3"
  },
  "language_info": {
   "codemirror_mode": {
    "name": "ipython",
    "version": 3
   },
   "file_extension": ".py",
   "mimetype": "text/x-python",
   "name": "python",
   "nbconvert_exporter": "python",
   "pygments_lexer": "ipython3",
   "version": "3.12.3"
  }
 },
 "nbformat": 4,
 "nbformat_minor": 2
}
