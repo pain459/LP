{
 "cells": [
  {
   "cell_type": "code",
   "execution_count": 1,
   "metadata": {},
   "outputs": [
    {
     "name": "stdout",
     "output_type": "stream",
     "text": [
      "Requirement already satisfied: duckdb in /home/ravik/src_git/LP/env/lib64/python3.12/site-packages (1.0.0)\n"
     ]
    }
   ],
   "source": [
    "# Install duckdb\n",
    "! pip install duckdb"
   ]
  },
  {
   "cell_type": "code",
   "execution_count": 2,
   "metadata": {},
   "outputs": [],
   "source": [
    "import duckdb\n",
    "\n",
    "# Create a connection to an in-memory database\n",
    "conn = duckdb.connect(database=':memory:')"
   ]
  },
  {
   "cell_type": "code",
   "execution_count": 3,
   "metadata": {},
   "outputs": [
    {
     "name": "stdout",
     "output_type": "stream",
     "text": [
      "Table created successfully.\n"
     ]
    }
   ],
   "source": [
    "# Create a table\n",
    "conn.execute(\"\"\"\n",
    "CREATE TABLE students (\n",
    "             roll_num INTEGER,\n",
    "             name VARCHAR,\n",
    "             sub1 INTEGER,\n",
    "             sub2 INTEGER,\n",
    "             sub3 INTEGER,\n",
    "             sub4 INTEGER\n",
    ")\n",
    "\"\"\")\n",
    "print('Table created successfully.')"
   ]
  },
  {
   "cell_type": "code",
   "execution_count": 4,
   "metadata": {},
   "outputs": [
    {
     "name": "stdout",
     "output_type": "stream",
     "text": [
      "Data inserted successfully.\n"
     ]
    }
   ],
   "source": [
    "# Inserting data into the table\n",
    "conn.execute(\"\"\"\n",
    "INSERT INTO students VALUES\n",
    "             (1, 'student1', 85, 80, 90, 92),\n",
    "             (2, 'student2', 99, 89, 78, 90),\n",
    "             (3, 'student3', 99, 89, 87, 79),\n",
    "             (4, 'student4', 89, 98, 98, 89)\n",
    "\"\"\")\n",
    "print('Data inserted successfully.')"
   ]
  },
  {
   "cell_type": "code",
   "execution_count": 7,
   "metadata": {},
   "outputs": [
    {
     "data": {
      "text/plain": [
       "[(1, 'student1', 85, 80, 90, 92),\n",
       " (2, 'student2', 99, 89, 78, 90),\n",
       " (3, 'student3', 99, 89, 87, 79),\n",
       " (4, 'student4', 89, 98, 98, 89)]"
      ]
     },
     "execution_count": 7,
     "metadata": {},
     "output_type": "execute_result"
    }
   ],
   "source": [
    "# Querying the data\n",
    "result = conn.execute(\"SELECT * FROM students\").fetchall()\n",
    "result"
   ]
  },
  {
   "cell_type": "code",
   "execution_count": 8,
   "metadata": {},
   "outputs": [
    {
     "name": "stdout",
     "output_type": "stream",
     "text": [
      "(1, 'student1', 85, 80, 90, 92)\n",
      "(2, 'student2', 99, 89, 78, 90)\n",
      "(3, 'student3', 99, 89, 87, 79)\n",
      "(4, 'student4', 89, 98, 98, 89)\n"
     ]
    }
   ],
   "source": [
    "for row in result:\n",
    "    print(row)"
   ]
  },
  {
   "cell_type": "code",
   "execution_count": 10,
   "metadata": {},
   "outputs": [
    {
     "name": "stdout",
     "output_type": "stream",
     "text": [
      "Average Scores:\n",
      "student1: 86.750000\n",
      "student2: 89.000000\n",
      "student3: 88.500000\n",
      "student4: 93.500000\n"
     ]
    }
   ],
   "source": [
    "# Calculate the average score for a student\n",
    "average_result = conn.execute(\"\"\"\n",
    "SELECT name, (sub1 + sub2 + sub3 + sub4) / 4.0 AS average_score\n",
    "                              FROM students\n",
    "\"\"\").fetchall()\n",
    "print(\"Average Scores:\")\n",
    "for row in average_result:\n",
    "    print(f'{row[0]}: {row[1]:2f}')"
   ]
  },
  {
   "cell_type": "code",
   "execution_count": null,
   "metadata": {},
   "outputs": [],
   "source": []
  }
 ],
 "metadata": {
  "kernelspec": {
   "display_name": "env",
   "language": "python",
   "name": "python3"
  },
  "language_info": {
   "codemirror_mode": {
    "name": "ipython",
    "version": 3
   },
   "file_extension": ".py",
   "mimetype": "text/x-python",
   "name": "python",
   "nbconvert_exporter": "python",
   "pygments_lexer": "ipython3",
   "version": "3.12.3"
  }
 },
 "nbformat": 4,
 "nbformat_minor": 2
}
