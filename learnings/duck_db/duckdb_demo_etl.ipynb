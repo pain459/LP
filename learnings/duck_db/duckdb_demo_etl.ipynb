{
 "cells": [
  {
   "cell_type": "code",
   "execution_count": 1,
   "metadata": {},
   "outputs": [],
   "source": [
    "# generate sample data\n",
    "import pandas as pd\n",
    "import random\n",
    "\n",
    "\n",
    "# generate sample data\n",
    "data = {\n",
    "    'roll_num': range(1, 1000001),\n",
    "    'name': [f'student {i}' for i in range(1, 1000001)],\n",
    "    'sub1': [round(random.uniform(600, 1000), 2) for _ in range(1000000)],\n",
    "    'sub2': [round(random.uniform(600, 1000), 2) for _ in range(1000000)],\n",
    "    'sub3': [round(random.uniform(600, 1000), 2) for _ in range(1000000)],\n",
    "    'sub4': [round(random.uniform(600, 1000), 2) for _ in range(1000000)],\n",
    "    'sub5': [round(random.uniform(600, 1000), 2) for _ in range(1000000)],\n",
    "    'sub6': [round(random.uniform(600, 1000), 2) for _ in range(1000000)],\n",
    "    'sub7': [round(random.uniform(600, 1000), 2) for _ in range(1000000)]\n",
    "}\n"
   ]
  },
  {
   "cell_type": "code",
   "execution_count": 2,
   "metadata": {},
   "outputs": [],
   "source": [
    "# Create a dataframe\n",
    "df = pd.DataFrame(data)"
   ]
  },
  {
   "cell_type": "code",
   "execution_count": 3,
   "metadata": {},
   "outputs": [
    {
     "name": "stdout",
     "output_type": "stream",
     "text": [
      "Sample CSV file 'students.csv' created!\n"
     ]
    }
   ],
   "source": [
    "# Save to CSV\n",
    "df.to_csv('students.csv', index=False)\n",
    "print(\"Sample CSV file 'students.csv' created!\")"
   ]
  },
  {
   "cell_type": "code",
   "execution_count": 4,
   "metadata": {},
   "outputs": [
    {
     "name": "stdout",
     "output_type": "stream",
     "text": [
      "Data extracted in 0.42 seconds.\n"
     ]
    }
   ],
   "source": [
    "# ETL pipeline implementation\n",
    "\n",
    "import duckdb\n",
    "import pandas as pd\n",
    "import time\n",
    "\n",
    "# Extract: load time to CSV\n",
    "start_time = time.time()\n",
    "df = pd.read_csv('students.csv')\n",
    "extract_time = time.time() - start_time\n",
    "print(f\"Data extracted in {extract_time:.2f} seconds.\")"
   ]
  },
  {
   "cell_type": "code",
   "execution_count": 5,
   "metadata": {},
   "outputs": [
    {
     "data": {
      "text/html": [
       "<div>\n",
       "<style scoped>\n",
       "    .dataframe tbody tr th:only-of-type {\n",
       "        vertical-align: middle;\n",
       "    }\n",
       "\n",
       "    .dataframe tbody tr th {\n",
       "        vertical-align: top;\n",
       "    }\n",
       "\n",
       "    .dataframe thead th {\n",
       "        text-align: right;\n",
       "    }\n",
       "</style>\n",
       "<table border=\"1\" class=\"dataframe\">\n",
       "  <thead>\n",
       "    <tr style=\"text-align: right;\">\n",
       "      <th></th>\n",
       "      <th>roll_num</th>\n",
       "      <th>name</th>\n",
       "      <th>sub1</th>\n",
       "      <th>sub2</th>\n",
       "      <th>sub3</th>\n",
       "      <th>sub4</th>\n",
       "    </tr>\n",
       "  </thead>\n",
       "  <tbody>\n",
       "    <tr>\n",
       "      <th>0</th>\n",
       "      <td>1</td>\n",
       "      <td>student 1</td>\n",
       "      <td>992.89</td>\n",
       "      <td>897.64</td>\n",
       "      <td>964.23</td>\n",
       "      <td>881.64</td>\n",
       "    </tr>\n",
       "    <tr>\n",
       "      <th>1</th>\n",
       "      <td>2</td>\n",
       "      <td>student 2</td>\n",
       "      <td>978.02</td>\n",
       "      <td>802.29</td>\n",
       "      <td>621.58</td>\n",
       "      <td>629.92</td>\n",
       "    </tr>\n",
       "    <tr>\n",
       "      <th>2</th>\n",
       "      <td>3</td>\n",
       "      <td>student 3</td>\n",
       "      <td>958.62</td>\n",
       "      <td>939.72</td>\n",
       "      <td>895.76</td>\n",
       "      <td>723.03</td>\n",
       "    </tr>\n",
       "    <tr>\n",
       "      <th>3</th>\n",
       "      <td>4</td>\n",
       "      <td>student 4</td>\n",
       "      <td>638.21</td>\n",
       "      <td>856.87</td>\n",
       "      <td>611.92</td>\n",
       "      <td>834.12</td>\n",
       "    </tr>\n",
       "    <tr>\n",
       "      <th>4</th>\n",
       "      <td>5</td>\n",
       "      <td>student 5</td>\n",
       "      <td>641.62</td>\n",
       "      <td>612.04</td>\n",
       "      <td>659.39</td>\n",
       "      <td>829.27</td>\n",
       "    </tr>\n",
       "  </tbody>\n",
       "</table>\n",
       "</div>"
      ],
      "text/plain": [
       "   roll_num       name    sub1    sub2    sub3    sub4\n",
       "0         1  student 1  992.89  897.64  964.23  881.64\n",
       "1         2  student 2  978.02  802.29  621.58  629.92\n",
       "2         3  student 3  958.62  939.72  895.76  723.03\n",
       "3         4  student 4  638.21  856.87  611.92  834.12\n",
       "4         5  student 5  641.62  612.04  659.39  829.27"
      ]
     },
     "execution_count": 5,
     "metadata": {},
     "output_type": "execute_result"
    }
   ],
   "source": [
    "df.head()"
   ]
  },
  {
   "cell_type": "code",
   "execution_count": 6,
   "metadata": {},
   "outputs": [],
   "source": [
    "# Connect to duck DB\n",
    "conn = duckdb.connect(database=':memory:')"
   ]
  },
  {
   "cell_type": "code",
   "execution_count": 7,
   "metadata": {},
   "outputs": [
    {
     "name": "stdout",
     "output_type": "stream",
     "text": [
      "Data transformed in 0.08 seconds.\n"
     ]
    }
   ],
   "source": [
    "# Transform: clean and aggregate data\n",
    "start_time = time.time()\n",
    "df['average_score'] = df [['sub1', 'sub2', 'sub3', 'sub4', 'sub5', 'sub6', 'sub7']].mean(axis=1)\n",
    "transform_time = time.time() - start_time\n",
    "print(f\"Data transformed in {transform_time:.2f} seconds.\")"
   ]
  },
  {
   "cell_type": "code",
   "execution_count": 8,
   "metadata": {},
   "outputs": [
    {
     "name": "stdout",
     "output_type": "stream",
     "text": [
      "Data loaded into DuckDB in 0.14 seconds.\n"
     ]
    }
   ],
   "source": [
    "# load data into DuckDB table\n",
    "start_time = time.time()\n",
    "conn.execute(\"CREATE TABLE students AS SELECT * FROM df\")\n",
    "load_time = time.time() - start_time\n",
    "print(f\"Data loaded into DuckDB in {load_time:.2f} seconds.\")"
   ]
  },
  {
   "cell_type": "code",
   "execution_count": 9,
   "metadata": {},
   "outputs": [
    {
     "name": "stdout",
     "output_type": "stream",
     "text": [
      "Total ETL time: 0.64 seconds.\n"
     ]
    }
   ],
   "source": [
    "# performance stats\n",
    "total_time = extract_time + transform_time + load_time\n",
    "print(f\"Total ETL time: {total_time:.2f} seconds.\")"
   ]
  },
  {
   "cell_type": "code",
   "execution_count": 10,
   "metadata": {},
   "outputs": [
    {
     "name": "stdout",
     "output_type": "stream",
     "text": [
      "Data queried in 0.19 seconds\n"
     ]
    }
   ],
   "source": [
    "# Analyze: Querying the data\n",
    "start_time = time.time()\n",
    "result = conn.execute(\"SELECT * FROM students WHERE average_score > 850\").fetchall()\n",
    "query_time = time.time() - start_time\n",
    "print(f\"Data queried in {query_time:.2f} seconds\")"
   ]
  },
  {
   "cell_type": "code",
   "execution_count": 11,
   "metadata": {},
   "outputs": [
    {
     "name": "stdout",
     "output_type": "stream",
     "text": [
      "Query Result:\n",
      "(1, 'student 1', 992.89, 897.64, 964.23, 881.64, 934.1)\n",
      "(3, 'student 3', 958.62, 939.72, 895.76, 723.03, 879.2825)\n",
      "(8, 'student 8', 976.13, 801.04, 794.07, 833.61, 851.2125000000001)\n",
      "(14, 'student 14', 931.81, 749.59, 833.81, 936.23, 862.86)\n",
      "(19, 'student 19', 998.72, 916.76, 822.72, 896.08, 908.5699999999999)\n",
      "(21, 'student 21', 860.06, 720.85, 912.66, 993.71, 871.8199999999999)\n",
      "(22, 'student 22', 886.68, 887.91, 974.11, 971.2, 929.9749999999999)\n",
      "(27, 'student 27', 946.24, 971.62, 919.18, 961.74, 949.6949999999999)\n",
      "(34, 'student 34', 878.94, 848.41, 762.31, 944.7, 858.5899999999999)\n",
      "(42, 'student 42', 685.55, 863.44, 931.17, 920.71, 850.2175)\n"
     ]
    }
   ],
   "source": [
    "# Output results\n",
    "print(\"Query Result:\")\n",
    "for row in result[:10]:  # Display first 10 results for brevity\n",
    "    print(row)"
   ]
  },
  {
   "cell_type": "code",
   "execution_count": 12,
   "metadata": {},
   "outputs": [],
   "source": [
    "# Summary of performance stats\n",
    "performance_stats = {\n",
    "    'Extract Time': extract_time,\n",
    "    'Transform Time': transform_time,\n",
    "    'Load Time': load_time,\n",
    "    'Query Time': query_time,\n",
    "    'Total ETL Time': total_time\n",
    "}\n"
   ]
  },
  {
   "cell_type": "code",
   "execution_count": 13,
   "metadata": {},
   "outputs": [
    {
     "name": "stdout",
     "output_type": "stream",
     "text": [
      "\n",
      "Performance Stats:\n",
      "Extract Time: 0.42 seconds\n",
      "Transform Time: 0.08 seconds\n",
      "Load Time: 0.14 seconds\n",
      "Query Time: 0.19 seconds\n",
      "Total ETL Time: 0.64 seconds\n"
     ]
    }
   ],
   "source": [
    "print(\"\\nPerformance Stats:\")\n",
    "for key, value in performance_stats.items():\n",
    "    print(f\"{key}: {value:.2f} seconds\")"
   ]
  },
  {
   "cell_type": "code",
   "execution_count": null,
   "metadata": {},
   "outputs": [],
   "source": []
  }
 ],
 "metadata": {
  "kernelspec": {
   "display_name": "env",
   "language": "python",
   "name": "python3"
  },
  "language_info": {
   "codemirror_mode": {
    "name": "ipython",
    "version": 3
   },
   "file_extension": ".py",
   "mimetype": "text/x-python",
   "name": "python",
   "nbconvert_exporter": "python",
   "pygments_lexer": "ipython3",
   "version": "3.12.3"
  }
 },
 "nbformat": 4,
 "nbformat_minor": 2
}
