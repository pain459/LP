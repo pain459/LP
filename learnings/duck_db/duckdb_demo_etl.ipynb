{
 "cells": [
  {
   "cell_type": "code",
   "execution_count": 1,
   "metadata": {},
   "outputs": [],
   "source": [
    "# generate sample data\n",
    "import pandas as pd\n",
    "import random\n",
    "\n",
    "\n",
    "# generate sample data\n",
    "data = {\n",
    "    'roll_num': range(1, 1000001),\n",
    "    'name': [f'student {i}' for i in range(1, 1000001)],\n",
    "    'sub1': [round(random.uniform(600, 1000), 2) for _ in range(1000000)],\n",
    "    'sub2': [round(random.uniform(600, 1000), 2) for _ in range(1000000)],\n",
    "    'sub3': [round(random.uniform(600, 1000), 2) for _ in range(1000000)],\n",
    "    'sub4': [round(random.uniform(600, 1000), 2) for _ in range(1000000)],\n",
    "    'sub5': [round(random.uniform(600, 1000), 2) for _ in range(1000000)],\n",
    "    'sub6': [round(random.uniform(600, 1000), 2) for _ in range(1000000)],\n",
    "    'sub7': [round(random.uniform(600, 1000), 2) for _ in range(1000000)]\n",
    "}\n"
   ]
  },
  {
   "cell_type": "code",
   "execution_count": 2,
   "metadata": {},
   "outputs": [],
   "source": [
    "# Create a dataframe\n",
    "df = pd.DataFrame(data)"
   ]
  },
  {
   "cell_type": "code",
   "execution_count": 3,
   "metadata": {},
   "outputs": [
    {
     "name": "stdout",
     "output_type": "stream",
     "text": [
      "Sample CSV file 'students.csv' created!\n"
     ]
    }
   ],
   "source": [
    "# Save to CSV\n",
    "df.to_csv('students.csv', index=False)\n",
    "print(\"Sample CSV file 'students.csv' created!\")"
   ]
  },
  {
   "cell_type": "code",
   "execution_count": 4,
   "metadata": {},
   "outputs": [
    {
     "name": "stdout",
     "output_type": "stream",
     "text": [
      "Data extracted in 0.55 seconds.\n"
     ]
    }
   ],
   "source": [
    "# ETL pipeline implementation\n",
    "\n",
    "import duckdb\n",
    "import pandas as pd\n",
    "import time\n",
    "\n",
    "# Extract: load time to CSV\n",
    "start_time = time.time()\n",
    "df = pd.read_csv('students.csv')\n",
    "extract_time = time.time() - start_time\n",
    "print(f\"Data extracted in {extract_time:.2f} seconds.\")"
   ]
  },
  {
   "cell_type": "code",
   "execution_count": 5,
   "metadata": {},
   "outputs": [
    {
     "data": {
      "text/html": [
       "<div>\n",
       "<style scoped>\n",
       "    .dataframe tbody tr th:only-of-type {\n",
       "        vertical-align: middle;\n",
       "    }\n",
       "\n",
       "    .dataframe tbody tr th {\n",
       "        vertical-align: top;\n",
       "    }\n",
       "\n",
       "    .dataframe thead th {\n",
       "        text-align: right;\n",
       "    }\n",
       "</style>\n",
       "<table border=\"1\" class=\"dataframe\">\n",
       "  <thead>\n",
       "    <tr style=\"text-align: right;\">\n",
       "      <th></th>\n",
       "      <th>roll_num</th>\n",
       "      <th>name</th>\n",
       "      <th>sub1</th>\n",
       "      <th>sub2</th>\n",
       "      <th>sub3</th>\n",
       "      <th>sub4</th>\n",
       "      <th>sub5</th>\n",
       "      <th>sub6</th>\n",
       "      <th>sub7</th>\n",
       "    </tr>\n",
       "  </thead>\n",
       "  <tbody>\n",
       "    <tr>\n",
       "      <th>0</th>\n",
       "      <td>1</td>\n",
       "      <td>student 1</td>\n",
       "      <td>616.79</td>\n",
       "      <td>971.42</td>\n",
       "      <td>681.52</td>\n",
       "      <td>708.81</td>\n",
       "      <td>881.05</td>\n",
       "      <td>822.41</td>\n",
       "      <td>850.59</td>\n",
       "    </tr>\n",
       "    <tr>\n",
       "      <th>1</th>\n",
       "      <td>2</td>\n",
       "      <td>student 2</td>\n",
       "      <td>800.10</td>\n",
       "      <td>922.32</td>\n",
       "      <td>985.76</td>\n",
       "      <td>992.82</td>\n",
       "      <td>841.45</td>\n",
       "      <td>922.07</td>\n",
       "      <td>946.11</td>\n",
       "    </tr>\n",
       "    <tr>\n",
       "      <th>2</th>\n",
       "      <td>3</td>\n",
       "      <td>student 3</td>\n",
       "      <td>664.89</td>\n",
       "      <td>677.54</td>\n",
       "      <td>705.38</td>\n",
       "      <td>628.24</td>\n",
       "      <td>925.87</td>\n",
       "      <td>736.38</td>\n",
       "      <td>638.88</td>\n",
       "    </tr>\n",
       "    <tr>\n",
       "      <th>3</th>\n",
       "      <td>4</td>\n",
       "      <td>student 4</td>\n",
       "      <td>960.66</td>\n",
       "      <td>862.70</td>\n",
       "      <td>643.17</td>\n",
       "      <td>667.93</td>\n",
       "      <td>820.62</td>\n",
       "      <td>896.77</td>\n",
       "      <td>948.53</td>\n",
       "    </tr>\n",
       "    <tr>\n",
       "      <th>4</th>\n",
       "      <td>5</td>\n",
       "      <td>student 5</td>\n",
       "      <td>698.17</td>\n",
       "      <td>696.24</td>\n",
       "      <td>884.86</td>\n",
       "      <td>745.53</td>\n",
       "      <td>610.06</td>\n",
       "      <td>659.08</td>\n",
       "      <td>705.93</td>\n",
       "    </tr>\n",
       "  </tbody>\n",
       "</table>\n",
       "</div>"
      ],
      "text/plain": [
       "   roll_num       name    sub1    sub2    sub3    sub4    sub5    sub6    sub7\n",
       "0         1  student 1  616.79  971.42  681.52  708.81  881.05  822.41  850.59\n",
       "1         2  student 2  800.10  922.32  985.76  992.82  841.45  922.07  946.11\n",
       "2         3  student 3  664.89  677.54  705.38  628.24  925.87  736.38  638.88\n",
       "3         4  student 4  960.66  862.70  643.17  667.93  820.62  896.77  948.53\n",
       "4         5  student 5  698.17  696.24  884.86  745.53  610.06  659.08  705.93"
      ]
     },
     "execution_count": 5,
     "metadata": {},
     "output_type": "execute_result"
    }
   ],
   "source": [
    "df.head()"
   ]
  },
  {
   "cell_type": "code",
   "execution_count": 6,
   "metadata": {},
   "outputs": [],
   "source": [
    "# Connect to duck DB\n",
    "conn = duckdb.connect(database=':memory:')"
   ]
  },
  {
   "cell_type": "code",
   "execution_count": 7,
   "metadata": {},
   "outputs": [
    {
     "name": "stdout",
     "output_type": "stream",
     "text": [
      "Data transformed in 0.08 seconds.\n"
     ]
    }
   ],
   "source": [
    "# Transform: clean and aggregate data\n",
    "start_time = time.time()\n",
    "df['average_score'] = df [['sub1', 'sub2', 'sub3', 'sub4', 'sub5', 'sub6', 'sub7']].mean(axis=1)\n",
    "transform_time = time.time() - start_time\n",
    "print(f\"Data transformed in {transform_time:.2f} seconds.\")"
   ]
  },
  {
   "cell_type": "code",
   "execution_count": 8,
   "metadata": {},
   "outputs": [
    {
     "name": "stdout",
     "output_type": "stream",
     "text": [
      "Data loaded into DuckDB in 0.18 seconds.\n"
     ]
    }
   ],
   "source": [
    "# load data into DuckDB table\n",
    "start_time = time.time()\n",
    "conn.execute(\"CREATE TABLE students AS SELECT * FROM df\")\n",
    "load_time = time.time() - start_time\n",
    "print(f\"Data loaded into DuckDB in {load_time:.2f} seconds.\")"
   ]
  },
  {
   "cell_type": "code",
   "execution_count": 9,
   "metadata": {},
   "outputs": [
    {
     "name": "stdout",
     "output_type": "stream",
     "text": [
      "Total ETL time: 0.81 seconds.\n"
     ]
    }
   ],
   "source": [
    "# performance stats\n",
    "total_time = extract_time + transform_time + load_time\n",
    "print(f\"Total ETL time: {total_time:.2f} seconds.\")"
   ]
  },
  {
   "cell_type": "code",
   "execution_count": 10,
   "metadata": {},
   "outputs": [
    {
     "name": "stdout",
     "output_type": "stream",
     "text": [
      "Data queried in 0.17 seconds\n"
     ]
    }
   ],
   "source": [
    "# Analyze: Querying the data\n",
    "start_time = time.time()\n",
    "result = conn.execute(\"SELECT * FROM students WHERE average_score > 850\").fetchall()\n",
    "query_time = time.time() - start_time\n",
    "print(f\"Data queried in {query_time:.2f} seconds\")"
   ]
  },
  {
   "cell_type": "code",
   "execution_count": 11,
   "metadata": {},
   "outputs": [
    {
     "name": "stdout",
     "output_type": "stream",
     "text": [
      "Query Result:\n",
      "(2, 'student 2', 800.1, 922.32, 985.76, 992.82, 841.45, 922.07, 946.11, 915.8042857142857)\n",
      "(10, 'student 10', 938.3, 705.44, 861.62, 913.12, 991.64, 986.75, 852.19, 892.722857142857)\n",
      "(40, 'student 40', 925.2, 758.75, 958.98, 812.36, 820.68, 939.02, 999.02, 887.7157142857143)\n",
      "(42, 'student 42', 999.03, 955.24, 894.15, 662.87, 811.9, 924.44, 896.1, 877.6757142857142)\n",
      "(43, 'student 43', 633.32, 979.44, 922.28, 863.02, 969.71, 894.77, 769.71, 861.7500000000001)\n",
      "(50, 'student 50', 971.5, 715.75, 953.28, 732.43, 951.79, 909.97, 870.92, 872.2342857142858)\n",
      "(64, 'student 64', 807.6, 883.31, 893.11, 915.23, 936.11, 808.48, 789.59, 861.9185714285715)\n",
      "(67, 'student 67', 842.56, 809.57, 919.16, 857.29, 821.4, 859.81, 973.2, 868.9985714285713)\n",
      "(73, 'student 73', 982.65, 939.42, 806.35, 780.68, 629.72, 841.77, 982.15, 851.8199999999999)\n",
      "(77, 'student 77', 666.71, 807.47, 928.29, 898.91, 970.23, 996.43, 702.69, 852.9614285714288)\n"
     ]
    }
   ],
   "source": [
    "# Output results\n",
    "print(\"Query Result:\")\n",
    "for row in result[:10]:  # Display first 10 results for brevity\n",
    "    print(row)"
   ]
  },
  {
   "cell_type": "code",
   "execution_count": 12,
   "metadata": {},
   "outputs": [],
   "source": [
    "# Summary of performance stats\n",
    "performance_stats = {\n",
    "    'Extract Time': extract_time,\n",
    "    'Transform Time': transform_time,\n",
    "    'Load Time': load_time,\n",
    "    'Query Time': query_time,\n",
    "    'Total ETL Time': total_time\n",
    "}\n"
   ]
  },
  {
   "cell_type": "code",
   "execution_count": 13,
   "metadata": {},
   "outputs": [
    {
     "name": "stdout",
     "output_type": "stream",
     "text": [
      "\n",
      "Performance Stats:\n",
      "Extract Time: 0.55 seconds\n",
      "Transform Time: 0.08 seconds\n",
      "Load Time: 0.18 seconds\n",
      "Query Time: 0.17 seconds\n",
      "Total ETL Time: 0.81 seconds\n"
     ]
    }
   ],
   "source": [
    "print(\"\\nPerformance Stats:\")\n",
    "for key, value in performance_stats.items():\n",
    "    print(f\"{key}: {value:.2f} seconds\")"
   ]
  },
  {
   "cell_type": "code",
   "execution_count": 14,
   "metadata": {},
   "outputs": [
    {
     "name": "stdout",
     "output_type": "stream",
     "text": [
      "Large sample CSV file 'large_students.csv' created.\n"
     ]
    }
   ],
   "source": [
    "# Complex example\n",
    "import pandas as pd\n",
    "import random\n",
    "\n",
    "# Generate larger sample data\n",
    "num_students = 1000000  # 1 million records\n",
    "data = {\n",
    "    'roll_num': range(1, num_students + 1),\n",
    "    'name': [f'Student {i}' for i in range(1, num_students + 1)],\n",
    "    'sub1': [round(random.uniform(60, 100), 2) for _ in range(num_students)],\n",
    "    'sub2': [round(random.uniform(60, 100), 2) for _ in range(num_students)],\n",
    "    'sub3': [round(random.uniform(60, 100), 2) for _ in range(num_students)],\n",
    "    'sub4': [round(random.uniform(60, 100), 2) for _ in range(num_students)]\n",
    "}\n",
    "\n",
    "# Create a DataFrame\n",
    "df = pd.DataFrame(data)\n",
    "\n",
    "# Save to CSV\n",
    "df.to_csv('large_students.csv', index=False)\n",
    "print(\"Large sample CSV file 'large_students.csv' created.\")\n"
   ]
  },
  {
   "cell_type": "code",
   "execution_count": 15,
   "metadata": {},
   "outputs": [
    {
     "name": "stdout",
     "output_type": "stream",
     "text": [
      "Data extracted in 0.43 seconds\n",
      "Data transformed in 0.28 seconds\n",
      "Data loaded into DuckDB in 0.18 seconds\n",
      "Total ETL time: 0.89 seconds\n",
      "Top 10 Average Scores by Name Pattern:\n",
      "('Student ', 79.99854541999974)\n",
      "Top 10 Total Scores:\n",
      "('Student 899985', 397.73)\n",
      "('Student 871072', 397.21000000000004)\n",
      "('Student 883718', 396.5)\n",
      "('Student 981421', 396.31999999999994)\n",
      "('Student 444703', 395.96999999999997)\n",
      "('Student 141646', 395.94000000000005)\n",
      "('Student 6483', 395.93999999999994)\n",
      "('Student 607768', 395.9)\n",
      "('Student 782565', 395.39)\n",
      "('Student 168355', 395.13)\n",
      "\n",
      "Performance Stats:\n",
      "Extract Time: 0.43 seconds\n",
      "Transform Time: 0.28 seconds\n",
      "Load Time: 0.18 seconds\n",
      "Query Average Score Time: 0.01 seconds\n",
      "Query Max Score Time: 0.01 seconds\n",
      "Total ETL Time: 0.89 seconds\n"
     ]
    }
   ],
   "source": [
    "# ETL\n",
    "import duckdb\n",
    "import pandas as pd\n",
    "import time\n",
    "\n",
    "# Extract: Load data from CSV\n",
    "start_time = time.time()\n",
    "df = pd.read_csv('large_students.csv')\n",
    "extract_time = time.time() - start_time\n",
    "print(f\"Data extracted in {extract_time:.2f} seconds\")\n",
    "\n",
    "# Connect to DuckDB\n",
    "conn = duckdb.connect(database=':memory:')\n",
    "\n",
    "# Transform: Complex transformations\n",
    "start_time = time.time()\n",
    "df['average_score'] = df[['sub1', 'sub2', 'sub3', 'sub4']].mean(axis=1)\n",
    "df['total_score'] = df[['sub1', 'sub2', 'sub3', 'sub4']].sum(axis=1)\n",
    "df['max_score'] = df[['sub1', 'sub2', 'sub3', 'sub4']].max(axis=1)\n",
    "df['min_score'] = df[['sub1', 'sub2', 'sub3', 'sub4']].min(axis=1)\n",
    "transform_time = time.time() - start_time\n",
    "print(f\"Data transformed in {transform_time:.2f} seconds\")\n",
    "\n",
    "# Load: Insert data into DuckDB table\n",
    "start_time = time.time()\n",
    "conn.execute(\"CREATE TABLE students AS SELECT * FROM df\")\n",
    "load_time = time.time() - start_time\n",
    "print(f\"Data loaded into DuckDB in {load_time:.2f} seconds\")\n",
    "\n",
    "# Performance stats\n",
    "total_time = extract_time + transform_time + load_time\n",
    "print(f\"Total ETL time: {total_time:.2f} seconds\")\n",
    "\n",
    "# Analyze: Complex aggregations and calculations\n",
    "start_time = time.time()\n",
    "# Average score by name pattern\n",
    "result_avg = conn.execute(\"\"\"\n",
    "SELECT substr(name, 1, 8) AS name_pattern, AVG(average_score) AS avg_score\n",
    "FROM students\n",
    "GROUP BY name_pattern\n",
    "ORDER BY avg_score DESC\n",
    "LIMIT 10\n",
    "\"\"\").fetchall()\n",
    "query_avg_time = time.time() - start_time\n",
    "\n",
    "# Max score details\n",
    "start_time = time.time()\n",
    "result_max = conn.execute(\"\"\"\n",
    "SELECT name, total_score\n",
    "FROM students\n",
    "ORDER BY total_score DESC\n",
    "LIMIT 10\n",
    "\"\"\").fetchall()\n",
    "query_max_time = time.time() - start_time\n",
    "\n",
    "# Output results\n",
    "print(\"Top 10 Average Scores by Name Pattern:\")\n",
    "for row in result_avg:\n",
    "    print(row)\n",
    "\n",
    "print(\"Top 10 Total Scores:\")\n",
    "for row in result_max:\n",
    "    print(row)\n",
    "\n",
    "# Summary of performance stats\n",
    "performance_stats = {\n",
    "    'Extract Time': extract_time,\n",
    "    'Transform Time': transform_time,\n",
    "    'Load Time': load_time,\n",
    "    'Query Average Score Time': query_avg_time,\n",
    "    'Query Max Score Time': query_max_time,\n",
    "    'Total ETL Time': total_time\n",
    "}\n",
    "\n",
    "print(\"\\nPerformance Stats:\")\n",
    "for key, value in performance_stats.items():\n",
    "    print(f\"{key}: {value:.2f} seconds\")\n"
   ]
  },
  {
   "cell_type": "code",
   "execution_count": null,
   "metadata": {},
   "outputs": [],
   "source": []
  }
 ],
 "metadata": {
  "kernelspec": {
   "display_name": "env",
   "language": "python",
   "name": "python3"
  },
  "language_info": {
   "codemirror_mode": {
    "name": "ipython",
    "version": 3
   },
   "file_extension": ".py",
   "mimetype": "text/x-python",
   "name": "python",
   "nbconvert_exporter": "python",
   "pygments_lexer": "ipython3",
   "version": "3.12.3"
  }
 },
 "nbformat": 4,
 "nbformat_minor": 2
}
