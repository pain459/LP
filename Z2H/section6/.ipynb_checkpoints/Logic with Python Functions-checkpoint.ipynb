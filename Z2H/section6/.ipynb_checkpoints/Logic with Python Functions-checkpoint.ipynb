{
 "cells": [
  {
   "cell_type": "code",
   "execution_count": 4,
   "id": "a706e298",
   "metadata": {},
   "outputs": [
    {
     "data": {
      "text/plain": [
       "'Even number'"
      ]
     },
     "execution_count": 4,
     "metadata": {},
     "output_type": "execute_result"
    }
   ],
   "source": [
    "def check_even(i):\n",
    "    if i % 2 == 0:\n",
    "        return 'Even number'\n",
    "    else:\n",
    "        return 'Odd number'\n",
    "    \n",
    "check_even(22)"
   ]
  },
  {
   "cell_type": "code",
   "execution_count": 5,
   "id": "b8fffa14",
   "metadata": {},
   "outputs": [
    {
     "data": {
      "text/plain": [
       "'Odd number'"
      ]
     },
     "execution_count": 5,
     "metadata": {},
     "output_type": "execute_result"
    }
   ],
   "source": [
    "check_even(23)"
   ]
  },
  {
   "cell_type": "code",
   "execution_count": 6,
   "id": "b4f7f019",
   "metadata": {},
   "outputs": [
    {
     "data": {
      "text/plain": [
       "'Odd number'"
      ]
     },
     "execution_count": 6,
     "metadata": {},
     "output_type": "execute_result"
    }
   ],
   "source": [
    "check_even(23.5)"
   ]
  },
  {
   "cell_type": "code",
   "execution_count": 8,
   "id": "cd7a7e9d",
   "metadata": {},
   "outputs": [
    {
     "data": {
      "text/plain": [
       "'Odd number'"
      ]
     },
     "execution_count": 8,
     "metadata": {},
     "output_type": "execute_result"
    }
   ],
   "source": [
    "check_even(True)"
   ]
  },
  {
   "cell_type": "code",
   "execution_count": 9,
   "id": "28ac6fad",
   "metadata": {},
   "outputs": [
    {
     "ename": "TypeError",
     "evalue": "not all arguments converted during string formatting",
     "output_type": "error",
     "traceback": [
      "\u001b[0;31m---------------------------------------------------------------------------\u001b[0m",
      "\u001b[0;31mTypeError\u001b[0m                                 Traceback (most recent call last)",
      "\u001b[0;32m<ipython-input-9-f5601a1c5c1c>\u001b[0m in \u001b[0;36m<module>\u001b[0;34m\u001b[0m\n\u001b[0;32m----> 1\u001b[0;31m \u001b[0mcheck_even\u001b[0m\u001b[0;34m(\u001b[0m\u001b[0;34m'R'\u001b[0m\u001b[0;34m)\u001b[0m\u001b[0;34m\u001b[0m\u001b[0;34m\u001b[0m\u001b[0m\n\u001b[0m",
      "\u001b[0;32m<ipython-input-4-63d98526e108>\u001b[0m in \u001b[0;36mcheck_even\u001b[0;34m(i)\u001b[0m\n\u001b[1;32m      1\u001b[0m \u001b[0;32mdef\u001b[0m \u001b[0mcheck_even\u001b[0m\u001b[0;34m(\u001b[0m\u001b[0mi\u001b[0m\u001b[0;34m)\u001b[0m\u001b[0;34m:\u001b[0m\u001b[0;34m\u001b[0m\u001b[0;34m\u001b[0m\u001b[0m\n\u001b[0;32m----> 2\u001b[0;31m     \u001b[0;32mif\u001b[0m \u001b[0mi\u001b[0m \u001b[0;34m%\u001b[0m \u001b[0;36m2\u001b[0m \u001b[0;34m==\u001b[0m \u001b[0;36m0\u001b[0m\u001b[0;34m:\u001b[0m\u001b[0;34m\u001b[0m\u001b[0;34m\u001b[0m\u001b[0m\n\u001b[0m\u001b[1;32m      3\u001b[0m         \u001b[0;32mreturn\u001b[0m \u001b[0;34m'Even number'\u001b[0m\u001b[0;34m\u001b[0m\u001b[0;34m\u001b[0m\u001b[0m\n\u001b[1;32m      4\u001b[0m     \u001b[0;32melse\u001b[0m\u001b[0;34m:\u001b[0m\u001b[0;34m\u001b[0m\u001b[0;34m\u001b[0m\u001b[0m\n\u001b[1;32m      5\u001b[0m         \u001b[0;32mreturn\u001b[0m \u001b[0;34m'Odd number'\u001b[0m\u001b[0;34m\u001b[0m\u001b[0;34m\u001b[0m\u001b[0m\n",
      "\u001b[0;31mTypeError\u001b[0m: not all arguments converted during string formatting"
     ]
    }
   ],
   "source": [
    "check_even('R')"
   ]
  },
  {
   "cell_type": "code",
   "execution_count": 10,
   "id": "b2ae5388",
   "metadata": {},
   "outputs": [
    {
     "data": {
      "text/plain": [
       "True"
      ]
     },
     "execution_count": 10,
     "metadata": {},
     "output_type": "execute_result"
    }
   ],
   "source": [
    "# to retun bool output.\n",
    "def even_check(number):\n",
    "    return number % 2 == 0\n",
    "\n",
    "even_check(100)"
   ]
  },
  {
   "cell_type": "code",
   "execution_count": 29,
   "id": "785099d6",
   "metadata": {},
   "outputs": [
    {
     "data": {
      "text/plain": [
       "(True, 10)"
      ]
     },
     "execution_count": 29,
     "metadata": {},
     "output_type": "execute_result"
    }
   ],
   "source": [
    "# Return True if any number is even INSIDE A LIST. Checking for atleast 1\n",
    "def check_even_list(num_list):\n",
    "    for i in num_list:\n",
    "        if i % 2 == 0:\n",
    "            return True, i\n",
    "            break\n",
    "    else:\n",
    "        print('No even number found')\n",
    "\n",
    "        \n",
    "list1 = [1, 3, 5, 7, 9, 10]\n",
    "check_even_list(list1)"
   ]
  },
  {
   "cell_type": "code",
   "execution_count": 34,
   "id": "193a2fd7",
   "metadata": {},
   "outputs": [
    {
     "data": {
      "text/plain": [
       "True"
      ]
     },
     "execution_count": 34,
     "metadata": {},
     "output_type": "execute_result"
    }
   ],
   "source": [
    "# Checking the entire list if there is an even number\n",
    "def check_even_list(l):\n",
    "    for i in l:\n",
    "        if i % 2 == 0:\n",
    "            return True\n",
    "        else:\n",
    "            pass\n",
    "    return False\n",
    "\n",
    "l = [1, 3, 5, 7, 9, 10]\n",
    "check_even_list(l)"
   ]
  },
  {
   "cell_type": "code",
   "execution_count": 39,
   "id": "fc011d10",
   "metadata": {},
   "outputs": [
    {
     "data": {
      "text/plain": [
       "[50, 10, 12]"
      ]
     },
     "execution_count": 39,
     "metadata": {},
     "output_type": "execute_result"
    }
   ],
   "source": [
    "# Retun only even numbers from the list.\n",
    "def return_even(list1):\n",
    "    op = []\n",
    "    for i in list1:\n",
    "        if i % 2 == 0:\n",
    "            op.append(i)\n",
    "        else:\n",
    "            pass\n",
    "    return op\n",
    "\n",
    "\n",
    "l = [1, 3, 50, 7, 9, 10, 12]\n",
    "return_even(l)"
   ]
  },
  {
   "cell_type": "code",
   "execution_count": 1,
   "id": "a24586d2",
   "metadata": {},
   "outputs": [
    {
     "data": {
      "text/plain": [
       "0"
      ]
     },
     "execution_count": 1,
     "metadata": {},
     "output_type": "execute_result"
    }
   ],
   "source": [
    "10 % 2"
   ]
  },
  {
   "cell_type": "markdown",
   "id": "e5a9276d",
   "metadata": {},
   "source": [
    "11 % 2"
   ]
  },
  {
   "cell_type": "code",
   "execution_count": 2,
   "id": "68b81b07",
   "metadata": {},
   "outputs": [
    {
     "data": {
      "text/plain": [
       "1"
      ]
     },
     "execution_count": 2,
     "metadata": {},
     "output_type": "execute_result"
    }
   ],
   "source": [
    "11 % 2"
   ]
  },
  {
   "cell_type": "code",
   "execution_count": 3,
   "id": "784d646a",
   "metadata": {},
   "outputs": [
    {
     "data": {
      "text/plain": [
       "1"
      ]
     },
     "execution_count": 3,
     "metadata": {},
     "output_type": "execute_result"
    }
   ],
   "source": [
    "41 % 40"
   ]
  },
  {
   "cell_type": "code",
   "execution_count": 7,
   "id": "2de2b5e3",
   "metadata": {},
   "outputs": [],
   "source": [
    "def even_number_check(x):\n",
    "    if x % 2 == 0:\n",
    "        print('Even Number!')\n",
    "    else:\n",
    "        print('Odd Number!')"
   ]
  },
  {
   "cell_type": "code",
   "execution_count": 8,
   "id": "e0a26722",
   "metadata": {},
   "outputs": [
    {
     "name": "stdout",
     "output_type": "stream",
     "text": [
      "Even Number!\n"
     ]
    }
   ],
   "source": [
    "even_number_check(10)"
   ]
  },
  {
   "cell_type": "code",
   "execution_count": 9,
   "id": "c69b3ec1",
   "metadata": {},
   "outputs": [
    {
     "name": "stdout",
     "output_type": "stream",
     "text": [
      "Odd Number!\n"
     ]
    }
   ],
   "source": [
    "even_number_check(21)"
   ]
  },
  {
   "cell_type": "code",
   "execution_count": 10,
   "id": "59d41b7a",
   "metadata": {},
   "outputs": [],
   "source": [
    "def even_check(x):\n",
    "    return x % 2 == 0"
   ]
  },
  {
   "cell_type": "code",
   "execution_count": 11,
   "id": "6fe28480",
   "metadata": {},
   "outputs": [
    {
     "data": {
      "text/plain": [
       "True"
      ]
     },
     "execution_count": 11,
     "metadata": {},
     "output_type": "execute_result"
    }
   ],
   "source": [
    "even_check(10)"
   ]
  },
  {
   "cell_type": "code",
   "execution_count": 12,
   "id": "0d0a8051",
   "metadata": {},
   "outputs": [],
   "source": [
    "# Return true if any number is even inside the list"
   ]
  },
  {
   "cell_type": "code",
   "execution_count": 15,
   "id": "965dd6c8",
   "metadata": {},
   "outputs": [],
   "source": [
    "def check_even_list(x_list):\n",
    "    for i in x_list:\n",
    "        if i % 2 == 0:\n",
    "            return True\n",
    "        else:\n",
    "            pass  # Don't do anything"
   ]
  },
  {
   "cell_type": "code",
   "execution_count": 18,
   "id": "035708c3",
   "metadata": {},
   "outputs": [],
   "source": [
    "list1 = [13, 5, 7, 9, 11]"
   ]
  },
  {
   "cell_type": "code",
   "execution_count": 19,
   "id": "bb458895",
   "metadata": {},
   "outputs": [],
   "source": [
    "check_even_list(list1)"
   ]
  },
  {
   "cell_type": "code",
   "execution_count": 20,
   "id": "d1a8fd64",
   "metadata": {},
   "outputs": [],
   "source": [
    "# Returning false if no even number is found"
   ]
  },
  {
   "cell_type": "code",
   "execution_count": 21,
   "id": "c07d54e2",
   "metadata": {},
   "outputs": [],
   "source": [
    "def check_even_list(x_list):\n",
    "    for i in x_list:\n",
    "        if i % 2 == 0:\n",
    "            return True\n",
    "        else:\n",
    "            pass  # Never do return False here. It will break the loop at first number itself.\n",
    "    return False"
   ]
  },
  {
   "cell_type": "code",
   "execution_count": 22,
   "id": "4351aae8",
   "metadata": {},
   "outputs": [
    {
     "data": {
      "text/plain": [
       "True"
      ]
     },
     "execution_count": 22,
     "metadata": {},
     "output_type": "execute_result"
    }
   ],
   "source": [
    "check_even_list([11, 11, 4, 5])"
   ]
  },
  {
   "cell_type": "code",
   "execution_count": 23,
   "id": "f748e6f1",
   "metadata": {},
   "outputs": [
    {
     "data": {
      "text/plain": [
       "False"
      ]
     },
     "execution_count": 23,
     "metadata": {},
     "output_type": "execute_result"
    }
   ],
   "source": [
    "check_even_list([11, 11, 11, 3])"
   ]
  },
  {
   "cell_type": "code",
   "execution_count": 24,
   "id": "eff483cf",
   "metadata": {},
   "outputs": [],
   "source": [
    "def even_check_return_list(x_list):\n",
    "    even_numbers = []\n",
    "    for i in x_list:\n",
    "        if i % 2 == 0:\n",
    "            even_numbers.append(i)\n",
    "        else:\n",
    "            pass\n",
    "    return even_numbers"
   ]
  },
  {
   "cell_type": "code",
   "execution_count": 25,
   "id": "15bc6bdf",
   "metadata": {},
   "outputs": [
    {
     "data": {
      "text/plain": [
       "[2, 4, 6]"
      ]
     },
     "execution_count": 25,
     "metadata": {},
     "output_type": "execute_result"
    }
   ],
   "source": [
    "even_check_return_list([1, 2, 3, 4, 5, 6])"
   ]
  },
  {
   "cell_type": "code",
   "execution_count": null,
   "id": "26b953a3",
   "metadata": {},
   "outputs": [],
   "source": []
  }
 ],
 "metadata": {
  "kernelspec": {
   "display_name": "Python 3",
   "language": "python",
   "name": "python3"
  },
  "language_info": {
   "codemirror_mode": {
    "name": "ipython",
    "version": 3
   },
   "file_extension": ".py",
   "mimetype": "text/x-python",
   "name": "python",
   "nbconvert_exporter": "python",
   "pygments_lexer": "ipython3",
   "version": "3.8.8"
  }
 },
 "nbformat": 4,
 "nbformat_minor": 5
}
