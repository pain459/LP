{
 "cells": [
  {
   "cell_type": "code",
   "execution_count": 1,
   "id": "fb416446",
   "metadata": {},
   "outputs": [],
   "source": [
    "def myfunc(a, b):\n",
    "    # returns 5% of the sum of a and b\n",
    "    return sum((a,b)) * 0.05"
   ]
  },
  {
   "cell_type": "code",
   "execution_count": 2,
   "id": "6c7ba025",
   "metadata": {},
   "outputs": [
    {
     "data": {
      "text/plain": [
       "4.5"
      ]
     },
     "execution_count": 2,
     "metadata": {},
     "output_type": "execute_result"
    }
   ],
   "source": [
    "myfunc(40, 50)"
   ]
  },
  {
   "cell_type": "code",
   "execution_count": 3,
   "id": "b4749d7b",
   "metadata": {},
   "outputs": [
    {
     "data": {
      "text/plain": [
       "5.0"
      ]
     },
     "execution_count": 3,
     "metadata": {},
     "output_type": "execute_result"
    }
   ],
   "source": [
    "myfunc(40, 60)"
   ]
  },
  {
   "cell_type": "code",
   "execution_count": 4,
   "id": "47bd50a0",
   "metadata": {},
   "outputs": [
    {
     "ename": "TypeError",
     "evalue": "sum() takes at most 2 arguments (3 given)",
     "output_type": "error",
     "traceback": [
      "\u001b[0;31m---------------------------------------------------------------------------\u001b[0m",
      "\u001b[0;31mTypeError\u001b[0m                                 Traceback (most recent call last)",
      "\u001b[0;32m<ipython-input-4-2c4065447b68>\u001b[0m in \u001b[0;36m<module>\u001b[0;34m\u001b[0m\n\u001b[0;32m----> 1\u001b[0;31m \u001b[0msum\u001b[0m\u001b[0;34m(\u001b[0m\u001b[0;36m10\u001b[0m\u001b[0;34m,\u001b[0m \u001b[0;36m20\u001b[0m \u001b[0;34m,\u001b[0m \u001b[0;36m30\u001b[0m\u001b[0;34m)\u001b[0m\u001b[0;34m\u001b[0m\u001b[0;34m\u001b[0m\u001b[0m\n\u001b[0m",
      "\u001b[0;31mTypeError\u001b[0m: sum() takes at most 2 arguments (3 given)"
     ]
    }
   ],
   "source": [
    "sum(10, 20 , 30) # sum takes 2 but if you pass tuple, it will do it"
   ]
  },
  {
   "cell_type": "code",
   "execution_count": 6,
   "id": "10f0400b",
   "metadata": {},
   "outputs": [
    {
     "data": {
      "text/plain": [
       "60"
      ]
     },
     "execution_count": 6,
     "metadata": {},
     "output_type": "execute_result"
    }
   ],
   "source": [
    "sum((10, 20, 30))  # passing tuple to bypass limit"
   ]
  },
  {
   "cell_type": "code",
   "execution_count": 7,
   "id": "77cb68e4",
   "metadata": {},
   "outputs": [],
   "source": [
    "def myfunc(*args):  # pass this as a tuple\n",
    "    return sum(args) * 0.05"
   ]
  },
  {
   "cell_type": "code",
   "execution_count": 8,
   "id": "3217c1d6",
   "metadata": {},
   "outputs": [
    {
     "data": {
      "text/plain": [
       "7.5"
      ]
     },
     "execution_count": 8,
     "metadata": {},
     "output_type": "execute_result"
    }
   ],
   "source": [
    "myfunc(40, 50, 60)"
   ]
  },
  {
   "cell_type": "code",
   "execution_count": 9,
   "id": "81874faa",
   "metadata": {},
   "outputs": [],
   "source": [
    "def myfunc(*a):  # we can use anything here, * matters. \n",
    "    # per pep8 standards, use *args for consistency\n",
    "    return sum(a)"
   ]
  },
  {
   "cell_type": "code",
   "execution_count": 10,
   "id": "971f93cb",
   "metadata": {},
   "outputs": [
    {
     "data": {
      "text/plain": [
       "30"
      ]
     },
     "execution_count": 10,
     "metadata": {},
     "output_type": "execute_result"
    }
   ],
   "source": [
    "myfunc(10, 10, 10)"
   ]
  },
  {
   "cell_type": "code",
   "execution_count": 11,
   "id": "1ae8fd45",
   "metadata": {},
   "outputs": [],
   "source": [
    "def myfunc(*args):\n",
    "    for i in args:\n",
    "        print(i)"
   ]
  },
  {
   "cell_type": "code",
   "execution_count": 12,
   "id": "9ff50f81",
   "metadata": {},
   "outputs": [
    {
     "name": "stdout",
     "output_type": "stream",
     "text": [
      "1\n",
      "2\n",
      "3\n",
      "4\n"
     ]
    }
   ],
   "source": [
    "myfunc(1, 2, 3, 4,)"
   ]
  },
  {
   "cell_type": "code",
   "execution_count": 16,
   "id": "e1db8e1b",
   "metadata": {},
   "outputs": [],
   "source": [
    "def myfunc(**kwargs):\n",
    "    print(kwargs)# **kwargs allows a dictionary of k:v pairs\n",
    "    if 'fruit' in kwargs:\n",
    "        print('My fruit of choice {}'.format(kwargs['fruit']))\n",
    "    else:\n",
    "        print('I did not find any fruit here')"
   ]
  },
  {
   "cell_type": "code",
   "execution_count": 17,
   "id": "20928f88",
   "metadata": {},
   "outputs": [
    {
     "name": "stdout",
     "output_type": "stream",
     "text": [
      "{'fruit': 'apple', 'veggie': 'lettuce'}\n",
      "My fruit of choice apple\n"
     ]
    }
   ],
   "source": [
    "myfunc(fruit='apple',veggie='lettuce')"
   ]
  },
  {
   "cell_type": "code",
   "execution_count": 22,
   "id": "0959214e",
   "metadata": {},
   "outputs": [],
   "source": [
    "def myfunc(*args, **kwargs):\n",
    "    print(args)\n",
    "    print(kwargs)\n",
    "    print('I would like {} {}'.format(args[0], kwargs['food']))"
   ]
  },
  {
   "cell_type": "code",
   "execution_count": 23,
   "id": "26bf659d",
   "metadata": {},
   "outputs": [
    {
     "name": "stdout",
     "output_type": "stream",
     "text": [
      "(10, 20, 30)\n",
      "{'fruit': 'orange', 'food': 'eggs', 'animal': 'dog'}\n",
      "I would like 10 eggs\n"
     ]
    }
   ],
   "source": [
    "myfunc(10,20,30,fruit='orange', food='eggs',animal='dog')"
   ]
  },
  {
   "cell_type": "code",
   "execution_count": 24,
   "id": "39c46851",
   "metadata": {},
   "outputs": [],
   "source": [
    "def myfunc(*args):\n",
    "    even_list = []\n",
    "    for i in args:\n",
    "        if i % 2 == 0:\n",
    "            even_list.append(i)\n",
    "        else:\n",
    "            pass\n",
    "    return even_list"
   ]
  },
  {
   "cell_type": "code",
   "execution_count": 25,
   "id": "28bfa325",
   "metadata": {},
   "outputs": [
    {
     "data": {
      "text/plain": [
       "[4, 8, 4, 6]"
      ]
     },
     "execution_count": 25,
     "metadata": {},
     "output_type": "execute_result"
    }
   ],
   "source": [
    "myfunc(1, 4, 5, 7, 8, 3, 4, 33, 6, 7,)"
   ]
  },
  {
   "cell_type": "code",
   "execution_count": 26,
   "id": "2d57ca5f",
   "metadata": {},
   "outputs": [],
   "source": [
    "a = 'asdfgh'"
   ]
  },
  {
   "cell_type": "code",
   "execution_count": 28,
   "id": "802e5497",
   "metadata": {},
   "outputs": [
    {
     "name": "stdout",
     "output_type": "stream",
     "text": [
      "a\n",
      "s\n",
      "d\n",
      "f\n",
      "g\n",
      "h\n"
     ]
    }
   ],
   "source": [
    "for i in a:\n",
    "    print(i)"
   ]
  },
  {
   "cell_type": "code",
   "execution_count": 29,
   "id": "b9e5f9ff",
   "metadata": {},
   "outputs": [
    {
     "data": {
      "text/plain": [
       "6"
      ]
     },
     "execution_count": 29,
     "metadata": {},
     "output_type": "execute_result"
    }
   ],
   "source": [
    "len(a)"
   ]
  },
  {
   "cell_type": "code",
   "execution_count": 30,
   "id": "40d71525",
   "metadata": {},
   "outputs": [],
   "source": [
    "x = 0\n",
    "a_camel = ''\n",
    "while x < len(a):\n",
    "    for i in a:\n",
    "        if x % 2 == 0:\n",
    "            i = i.lower()\n",
    "            a_camel = a_camel + i\n",
    "            x += 1\n",
    "        elif x % 2 != 0:\n",
    "            i = i.upper()\n",
    "            a_camel = a_camel + i\n",
    "            x += 1\n",
    "        else:\n",
    "            pass\n",
    "        \n",
    "    "
   ]
  },
  {
   "cell_type": "code",
   "execution_count": 1,
   "id": "a8f8a301",
   "metadata": {
    "execution": {
     "iopub.execute_input": "2021-10-08T09:56:35.990151Z",
     "iopub.status.busy": "2021-10-08T09:56:35.989735Z",
     "iopub.status.idle": "2021-10-08T09:56:36.094243Z",
     "shell.execute_reply": "2021-10-08T09:56:36.093514Z",
     "shell.execute_reply.started": "2021-10-08T09:56:35.990056Z"
    }
   },
   "outputs": [],
   "source": [
    "def camel_creator(a):\n",
    "    x = 0\n",
    "    a_camel = ''\n",
    "    while x < len(a):\n",
    "        for i in a:\n",
    "            if x % 2 == 0:\n",
    "                i = i.lower()\n",
    "                a_camel = a_camel + i\n",
    "                x += 1\n",
    "            elif x % 2 != 0:\n",
    "                i = i.upper()\n",
    "                a_camel = a_camel + i\n",
    "                x += 1\n",
    "            else:\n",
    "                pass\n",
    "    return a_camel"
   ]
  },
  {
   "cell_type": "code",
   "execution_count": 2,
   "id": "926b0eba",
   "metadata": {
    "execution": {
     "iopub.execute_input": "2021-10-08T09:56:43.334436Z",
     "iopub.status.busy": "2021-10-08T09:56:43.334083Z",
     "iopub.status.idle": "2021-10-08T09:56:43.341625Z",
     "shell.execute_reply": "2021-10-08T09:56:43.341070Z",
     "shell.execute_reply.started": "2021-10-08T09:56:43.334403Z"
    }
   },
   "outputs": [],
   "source": [
    "a = 'asdfghadfsdfasfdasfdsfd'"
   ]
  },
  {
   "cell_type": "code",
   "execution_count": 3,
   "id": "0642ba4a",
   "metadata": {
    "execution": {
     "iopub.execute_input": "2021-10-08T09:56:47.741889Z",
     "iopub.status.busy": "2021-10-08T09:56:47.741520Z",
     "iopub.status.idle": "2021-10-08T09:56:47.756547Z",
     "shell.execute_reply": "2021-10-08T09:56:47.755927Z",
     "shell.execute_reply.started": "2021-10-08T09:56:47.741862Z"
    }
   },
   "outputs": [
    {
     "data": {
      "text/plain": [
       "'aSdFgHaDfSdFaSfDaSfDsFd'"
      ]
     },
     "execution_count": 3,
     "metadata": {},
     "output_type": "execute_result"
    }
   ],
   "source": [
    "camel_creator(a)"
   ]
  },
  {
   "cell_type": "code",
   "execution_count": 4,
   "id": "b2de2db1",
   "metadata": {
    "execution": {
     "iopub.execute_input": "2021-10-08T10:00:18.451263Z",
     "iopub.status.busy": "2021-10-08T10:00:18.450882Z",
     "iopub.status.idle": "2021-10-08T10:00:18.459938Z",
     "shell.execute_reply": "2021-10-08T10:00:18.459333Z",
     "shell.execute_reply.started": "2021-10-08T10:00:18.451235Z"
    }
   },
   "outputs": [],
   "source": [
    "# Testing *args\n",
    "def odd_numbers_extractor(*args):\n",
    "    odd_numbers = []\n",
    "    for i in args:\n",
    "        if i % 2 != 0:\n",
    "            odd_numbers.append(i)\n",
    "        else:\n",
    "            pass\n",
    "    return odd_numbers"
   ]
  },
  {
   "cell_type": "code",
   "execution_count": 5,
   "id": "e34cd19a",
   "metadata": {
    "execution": {
     "iopub.execute_input": "2021-10-08T10:00:59.247109Z",
     "iopub.status.busy": "2021-10-08T10:00:59.246750Z",
     "iopub.status.idle": "2021-10-08T10:00:59.256222Z",
     "shell.execute_reply": "2021-10-08T10:00:59.255630Z",
     "shell.execute_reply.started": "2021-10-08T10:00:59.247082Z"
    }
   },
   "outputs": [
    {
     "data": {
      "text/plain": [
       "[23, 45, 3, 67, 5]"
      ]
     },
     "execution_count": 5,
     "metadata": {},
     "output_type": "execute_result"
    }
   ],
   "source": [
    "odd_numbers_extractor(23, 45, 4, 3, 67, 5, 2)"
   ]
  },
  {
   "cell_type": "code",
   "execution_count": 17,
   "id": "886bd800",
   "metadata": {
    "execution": {
     "iopub.execute_input": "2021-10-08T10:17:05.435028Z",
     "iopub.status.busy": "2021-10-08T10:17:05.434730Z",
     "iopub.status.idle": "2021-10-08T10:17:05.443955Z",
     "shell.execute_reply": "2021-10-08T10:17:05.443287Z",
     "shell.execute_reply.started": "2021-10-08T10:17:05.435002Z"
    }
   },
   "outputs": [],
   "source": [
    "# Testing *kwargs\n",
    "# Giving profit to stocks when supplied as an input\n",
    "def stocks_percentage_modifier(**kwargs):\n",
    "    i = 0\n",
    "    while i < len(kwargs):\n",
    "        v_new = 0\n",
    "        for k,v in kwargs:\n",
    "            v_new = v * 0.05\n",
    "            kwargs[k] = v_new\n",
    "            i += 1\n",
    "    return kwargs\n",
    "        \n",
    "        "
   ]
  },
  {
   "cell_type": "code",
   "execution_count": 18,
   "id": "42fd5a24",
   "metadata": {
    "execution": {
     "iopub.execute_input": "2021-10-08T10:17:07.583403Z",
     "iopub.status.busy": "2021-10-08T10:17:07.582731Z",
     "iopub.status.idle": "2021-10-08T10:17:07.616038Z",
     "shell.execute_reply": "2021-10-08T10:17:07.614388Z",
     "shell.execute_reply.started": "2021-10-08T10:17:07.583356Z"
    }
   },
   "outputs": [
    {
     "ename": "ValueError",
     "evalue": "not enough values to unpack (expected 2, got 1)",
     "output_type": "error",
     "traceback": [
      "\u001b[0;31m---------------------------------------------------------------------------\u001b[0m",
      "\u001b[0;31mValueError\u001b[0m                                Traceback (most recent call last)",
      "\u001b[0;32m/tmp/ipykernel_64454/3951008533.py\u001b[0m in \u001b[0;36m<module>\u001b[0;34m\u001b[0m\n\u001b[0;32m----> 1\u001b[0;31m \u001b[0mstocks_percentage_modifier\u001b[0m\u001b[0;34m(\u001b[0m\u001b[0mA\u001b[0m\u001b[0;34m=\u001b[0m\u001b[0;36m1002\u001b[0m\u001b[0;34m,\u001b[0m\u001b[0mB\u001b[0m\u001b[0;34m=\u001b[0m\u001b[0;36m2003\u001b[0m\u001b[0;34m,\u001b[0m\u001b[0mC\u001b[0m\u001b[0;34m=\u001b[0m\u001b[0;36m2345\u001b[0m\u001b[0;34m)\u001b[0m\u001b[0;34m\u001b[0m\u001b[0;34m\u001b[0m\u001b[0m\n\u001b[0m",
      "\u001b[0;32m/tmp/ipykernel_64454/811933498.py\u001b[0m in \u001b[0;36mstocks_percentage_modifier\u001b[0;34m(**kwargs)\u001b[0m\n\u001b[1;32m      5\u001b[0m     \u001b[0;32mwhile\u001b[0m \u001b[0mi\u001b[0m \u001b[0;34m<\u001b[0m \u001b[0mlen\u001b[0m\u001b[0;34m(\u001b[0m\u001b[0mkwargs\u001b[0m\u001b[0;34m)\u001b[0m\u001b[0;34m:\u001b[0m\u001b[0;34m\u001b[0m\u001b[0;34m\u001b[0m\u001b[0m\n\u001b[1;32m      6\u001b[0m         \u001b[0mj_new\u001b[0m \u001b[0;34m=\u001b[0m \u001b[0;36m0\u001b[0m\u001b[0;34m\u001b[0m\u001b[0;34m\u001b[0m\u001b[0m\n\u001b[0;32m----> 7\u001b[0;31m         \u001b[0;32mfor\u001b[0m \u001b[0mk\u001b[0m\u001b[0;34m,\u001b[0m\u001b[0mj\u001b[0m \u001b[0;32min\u001b[0m \u001b[0mkwargs\u001b[0m\u001b[0;34m:\u001b[0m\u001b[0;34m\u001b[0m\u001b[0;34m\u001b[0m\u001b[0m\n\u001b[0m\u001b[1;32m      8\u001b[0m             \u001b[0mj_new\u001b[0m \u001b[0;34m=\u001b[0m \u001b[0mj\u001b[0m \u001b[0;34m*\u001b[0m \u001b[0;36m0.05\u001b[0m\u001b[0;34m\u001b[0m\u001b[0;34m\u001b[0m\u001b[0m\n\u001b[1;32m      9\u001b[0m             \u001b[0mkwargs\u001b[0m\u001b[0;34m[\u001b[0m\u001b[0mk\u001b[0m\u001b[0;34m]\u001b[0m \u001b[0;34m=\u001b[0m \u001b[0mj_new\u001b[0m\u001b[0;34m\u001b[0m\u001b[0;34m\u001b[0m\u001b[0m\n",
      "\u001b[0;31mValueError\u001b[0m: not enough values to unpack (expected 2, got 1)"
     ]
    }
   ],
   "source": [
    "stocks_percentage_modifier(A=1002,B=2003,C=2345)"
   ]
  },
  {
   "cell_type": "code",
   "execution_count": 19,
   "id": "269dd042",
   "metadata": {
    "execution": {
     "iopub.execute_input": "2021-10-08T10:18:26.422811Z",
     "iopub.status.busy": "2021-10-08T10:18:26.422327Z",
     "iopub.status.idle": "2021-10-08T10:18:26.430439Z",
     "shell.execute_reply": "2021-10-08T10:18:26.429850Z",
     "shell.execute_reply.started": "2021-10-08T10:18:26.422781Z"
    }
   },
   "outputs": [],
   "source": [
    "def test_kwargs(**kwargs):\n",
    "    print(kwargs)"
   ]
  },
  {
   "cell_type": "code",
   "execution_count": 20,
   "id": "6099e1e5",
   "metadata": {
    "execution": {
     "iopub.execute_input": "2021-10-08T10:18:39.829632Z",
     "iopub.status.busy": "2021-10-08T10:18:39.829315Z",
     "iopub.status.idle": "2021-10-08T10:18:39.837039Z",
     "shell.execute_reply": "2021-10-08T10:18:39.836475Z",
     "shell.execute_reply.started": "2021-10-08T10:18:39.829606Z"
    }
   },
   "outputs": [
    {
     "name": "stdout",
     "output_type": "stream",
     "text": [
      "{'A': 11, 'B': 12}\n"
     ]
    }
   ],
   "source": [
    "test_kwargs(A=11, B=12)"
   ]
  },
  {
   "cell_type": "code",
   "execution_count": null,
   "id": "daf766d9",
   "metadata": {},
   "outputs": [],
   "source": []
  }
 ],
 "metadata": {
  "kernelspec": {
   "display_name": "Python 3 (ipykernel)",
   "language": "python",
   "name": "python3"
  },
  "language_info": {
   "codemirror_mode": {
    "name": "ipython",
    "version": 3
   },
   "file_extension": ".py",
   "mimetype": "text/x-python",
   "name": "python",
   "nbconvert_exporter": "python",
   "pygments_lexer": "ipython3",
   "version": "3.7.4"
  }
 },
 "nbformat": 4,
 "nbformat_minor": 5
}
