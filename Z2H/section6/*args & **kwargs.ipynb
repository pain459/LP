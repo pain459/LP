{
 "cells": [
  {
   "cell_type": "code",
   "execution_count": 1,
   "id": "6de0e014",
   "metadata": {},
   "outputs": [],
   "source": [
    "def myfunc(a, b):\n",
    "    # returns 5% of the sum of a and b\n",
    "    return sum((a,b)) * 0.05"
   ]
  },
  {
   "cell_type": "code",
   "execution_count": 2,
   "id": "f3b26cd5",
   "metadata": {},
   "outputs": [
    {
     "data": {
      "text/plain": [
       "4.5"
      ]
     },
     "execution_count": 2,
     "metadata": {},
     "output_type": "execute_result"
    }
   ],
   "source": [
    "myfunc(40, 50)"
   ]
  },
  {
   "cell_type": "code",
   "execution_count": 3,
   "id": "6a440174",
   "metadata": {},
   "outputs": [
    {
     "data": {
      "text/plain": [
       "5.0"
      ]
     },
     "execution_count": 3,
     "metadata": {},
     "output_type": "execute_result"
    }
   ],
   "source": [
    "myfunc(40, 60)"
   ]
  },
  {
   "cell_type": "code",
   "execution_count": 4,
   "id": "9240bfce",
   "metadata": {},
   "outputs": [
    {
     "ename": "TypeError",
     "evalue": "sum() takes at most 2 arguments (3 given)",
     "output_type": "error",
     "traceback": [
      "\u001b[0;31m---------------------------------------------------------------------------\u001b[0m",
      "\u001b[0;31mTypeError\u001b[0m                                 Traceback (most recent call last)",
      "\u001b[0;32m<ipython-input-4-2c4065447b68>\u001b[0m in \u001b[0;36m<module>\u001b[0;34m\u001b[0m\n\u001b[0;32m----> 1\u001b[0;31m \u001b[0msum\u001b[0m\u001b[0;34m(\u001b[0m\u001b[0;36m10\u001b[0m\u001b[0;34m,\u001b[0m \u001b[0;36m20\u001b[0m \u001b[0;34m,\u001b[0m \u001b[0;36m30\u001b[0m\u001b[0;34m)\u001b[0m\u001b[0;34m\u001b[0m\u001b[0;34m\u001b[0m\u001b[0m\n\u001b[0m",
      "\u001b[0;31mTypeError\u001b[0m: sum() takes at most 2 arguments (3 given)"
     ]
    }
   ],
   "source": [
    "sum(10, 20 , 30) # sum takes 2 but if you pass tuple, it will do it"
   ]
  },
  {
   "cell_type": "code",
   "execution_count": 6,
   "id": "e799f9a5",
   "metadata": {},
   "outputs": [
    {
     "data": {
      "text/plain": [
       "60"
      ]
     },
     "execution_count": 6,
     "metadata": {},
     "output_type": "execute_result"
    }
   ],
   "source": [
    "sum((10, 20, 30))  # passing tuple to bypass limit"
   ]
  },
  {
   "cell_type": "code",
   "execution_count": 7,
   "id": "04ca3a75",
   "metadata": {},
   "outputs": [],
   "source": [
    "def myfunc(*args):  # pass this as a tuple\n",
    "    return sum(args) * 0.05"
   ]
  },
  {
   "cell_type": "code",
   "execution_count": 8,
   "id": "10e79d69",
   "metadata": {},
   "outputs": [
    {
     "data": {
      "text/plain": [
       "7.5"
      ]
     },
     "execution_count": 8,
     "metadata": {},
     "output_type": "execute_result"
    }
   ],
   "source": [
    "myfunc(40, 50, 60)"
   ]
  },
  {
   "cell_type": "code",
   "execution_count": 9,
   "id": "5d068224",
   "metadata": {},
   "outputs": [],
   "source": [
    "def myfunc(*a):  # we can use anything here, * matters. \n",
    "    # per pep8 standards, use *args for consistency\n",
    "    return sum(a)"
   ]
  },
  {
   "cell_type": "code",
   "execution_count": 10,
   "id": "d8bc576b",
   "metadata": {},
   "outputs": [
    {
     "data": {
      "text/plain": [
       "30"
      ]
     },
     "execution_count": 10,
     "metadata": {},
     "output_type": "execute_result"
    }
   ],
   "source": [
    "myfunc(10, 10, 10)"
   ]
  },
  {
   "cell_type": "code",
   "execution_count": 11,
   "id": "fd9dbaa9",
   "metadata": {},
   "outputs": [],
   "source": [
    "def myfunc(*args):\n",
    "    for i in args:\n",
    "        print(i)"
   ]
  },
  {
   "cell_type": "code",
   "execution_count": 12,
   "id": "d3b8fd2f",
   "metadata": {},
   "outputs": [
    {
     "name": "stdout",
     "output_type": "stream",
     "text": [
      "1\n",
      "2\n",
      "3\n",
      "4\n"
     ]
    }
   ],
   "source": [
    "myfunc(1, 2, 3, 4,)"
   ]
  },
  {
   "cell_type": "code",
   "execution_count": 16,
   "id": "2609fd91",
   "metadata": {},
   "outputs": [],
   "source": [
    "def myfunc(**kwargs):\n",
    "    print(kwargs)# **kwargs allows a dictionary of k:v pairs\n",
    "    if 'fruit' in kwargs:\n",
    "        print('My fruit of choice {}'.format(kwargs['fruit']))\n",
    "    else:\n",
    "        print('I did not find any fruit here')"
   ]
  },
  {
   "cell_type": "code",
   "execution_count": 17,
   "id": "3f4c5448",
   "metadata": {},
   "outputs": [
    {
     "name": "stdout",
     "output_type": "stream",
     "text": [
      "{'fruit': 'apple', 'veggie': 'lettuce'}\n",
      "My fruit of choice apple\n"
     ]
    }
   ],
   "source": [
    "myfunc(fruit='apple',veggie='lettuce')"
   ]
  },
  {
   "cell_type": "code",
   "execution_count": 22,
   "id": "90738065",
   "metadata": {},
   "outputs": [],
   "source": [
    "def myfunc(*args, **kwargs):\n",
    "    print(args)\n",
    "    print(kwargs)\n",
    "    print('I would like {} {}'.format(args[0], kwargs['food']))"
   ]
  },
  {
   "cell_type": "code",
   "execution_count": 23,
   "id": "79aefdd4",
   "metadata": {},
   "outputs": [
    {
     "name": "stdout",
     "output_type": "stream",
     "text": [
      "(10, 20, 30)\n",
      "{'fruit': 'orange', 'food': 'eggs', 'animal': 'dog'}\n",
      "I would like 10 eggs\n"
     ]
    }
   ],
   "source": [
    "myfunc(10,20,30,fruit='orange', food='eggs',animal='dog')"
   ]
  },
  {
   "cell_type": "code",
   "execution_count": 24,
   "id": "8501d126",
   "metadata": {},
   "outputs": [],
   "source": [
    "def myfunc(*args):\n",
    "    even_list = []\n",
    "    for i in args:\n",
    "        if i % 2 == 0:\n",
    "            even_list.append(i)\n",
    "        else:\n",
    "            pass\n",
    "    return even_list"
   ]
  },
  {
   "cell_type": "code",
   "execution_count": 25,
   "id": "8e5e9e70",
   "metadata": {},
   "outputs": [
    {
     "data": {
      "text/plain": [
       "[4, 8, 4, 6]"
      ]
     },
     "execution_count": 25,
     "metadata": {},
     "output_type": "execute_result"
    }
   ],
   "source": [
    "myfunc(1, 4, 5, 7, 8, 3, 4, 33, 6, 7,)"
   ]
  },
  {
   "cell_type": "code",
   "execution_count": 26,
   "id": "3c58b867",
   "metadata": {},
   "outputs": [],
   "source": [
    "a = 'asdfgh'"
   ]
  },
  {
   "cell_type": "code",
   "execution_count": 28,
   "id": "963d0186",
   "metadata": {},
   "outputs": [
    {
     "name": "stdout",
     "output_type": "stream",
     "text": [
      "a\n",
      "s\n",
      "d\n",
      "f\n",
      "g\n",
      "h\n"
     ]
    }
   ],
   "source": [
    "for i in a:\n",
    "    print(i)"
   ]
  },
  {
   "cell_type": "code",
   "execution_count": 29,
   "id": "b9823850",
   "metadata": {},
   "outputs": [
    {
     "data": {
      "text/plain": [
       "6"
      ]
     },
     "execution_count": 29,
     "metadata": {},
     "output_type": "execute_result"
    }
   ],
   "source": [
    "len(a)"
   ]
  },
  {
   "cell_type": "code",
   "execution_count": 30,
   "id": "3ca0c8d8",
   "metadata": {},
   "outputs": [],
   "source": [
    "x = 0\n",
    "a_camel = ''\n",
    "while x < len(a):\n",
    "    for i in a:\n",
    "        if x % 2 == 0:\n",
    "            i = i.lower()\n",
    "            a_camel = a_camel + i\n",
    "            x += 1\n",
    "        elif x % 2 != 0:\n",
    "            i = i.upper()\n",
    "            a_camel = a_camel + i\n",
    "            x += 1\n",
    "        else:\n",
    "            pass\n",
    "        \n",
    "    "
   ]
  },
  {
   "cell_type": "code",
   "execution_count": 31,
   "id": "29112ccf",
   "metadata": {},
   "outputs": [],
   "source": [
    "def camel_creator(a):\n",
    "    x = 0\n",
    "    a_camel = ''\n",
    "    while x < len(a):\n",
    "        for i in a:\n",
    "            if x % 2 == 0:\n",
    "                i = i.lower()\n",
    "                a_camel = a_camel + i\n",
    "                x += 1\n",
    "            elif x % 2 != 0:\n",
    "                i = i.upper()\n",
    "                a_camel = a_camel + i\n",
    "                x += 1\n",
    "            else:\n",
    "                pass\n",
    "    return a_camel"
   ]
  },
  {
   "cell_type": "code",
   "execution_count": 32,
   "id": "db593c9f",
   "metadata": {},
   "outputs": [],
   "source": [
    "a = 'asdfgh'"
   ]
  },
  {
   "cell_type": "code",
   "execution_count": 33,
   "id": "2ecc4437",
   "metadata": {},
   "outputs": [
    {
     "data": {
      "text/plain": [
       "'aSdFgH'"
      ]
     },
     "execution_count": 33,
     "metadata": {},
     "output_type": "execute_result"
    }
   ],
   "source": [
    "camel_creator(a)"
   ]
  },
  {
   "cell_type": "code",
   "execution_count": null,
   "id": "d81463d3",
   "metadata": {},
   "outputs": [],
   "source": []
  }
 ],
 "metadata": {
  "kernelspec": {
   "display_name": "Python 3",
   "language": "python",
   "name": "python3"
  },
  "language_info": {
   "codemirror_mode": {
    "name": "ipython",
    "version": 3
   },
   "file_extension": ".py",
   "mimetype": "text/x-python",
   "name": "python",
   "nbconvert_exporter": "python",
   "pygments_lexer": "ipython3",
   "version": "3.8.8"
  }
 },
 "nbformat": 4,
 "nbformat_minor": 5
}
