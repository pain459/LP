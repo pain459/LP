{
 "cells": [
  {
   "cell_type": "code",
   "execution_count": 1,
   "id": "7d930f88",
   "metadata": {},
   "outputs": [],
   "source": [
    "x = 25\n",
    "\n",
    "def printer():\n",
    "    x = 50\n",
    "    return x"
   ]
  },
  {
   "cell_type": "code",
   "execution_count": 2,
   "id": "b90a6ac6",
   "metadata": {},
   "outputs": [
    {
     "name": "stdout",
     "output_type": "stream",
     "text": [
      "25\n"
     ]
    }
   ],
   "source": [
    "print(x)"
   ]
  },
  {
   "cell_type": "code",
   "execution_count": 3,
   "id": "11ffaa4e",
   "metadata": {},
   "outputs": [
    {
     "name": "stdout",
     "output_type": "stream",
     "text": [
      "50\n"
     ]
    }
   ],
   "source": [
    "print(printer())"
   ]
  },
  {
   "attachments": {},
   "cell_type": "markdown",
   "id": "62968445",
   "metadata": {},
   "source": [
    "In Python, the LEGB rule is used to decide the order in which the namespaces are to be searched for scope resolution.\n",
    "The scopes are listed below in terms of hierarchy(highest to lowest/narrowest to broadest):\n",
    "\n",
    "    Local(L): Defined inside function/class\n",
    "\n",
    "    Enclosed(E): Defined inside enclosing functions(Nested function concept)\n",
    "\n",
    "    Global(G): Defined at the uppermost level\n",
    "\n",
    "    Built-in(B): Reserved names in Python builtin modules\n",
    "\n",
    "https://www.geeksforgeeks.org/scope-resolution-in-python-legb-rule/\n",
    "    "
   ]
  },
  {
   "cell_type": "code",
   "execution_count": 7,
   "id": "92388d0f",
   "metadata": {},
   "outputs": [
    {
     "data": {
      "text/plain": [
       "<function __main__.<lambda>(num)>"
      ]
     },
     "execution_count": 7,
     "metadata": {},
     "output_type": "execute_result"
    }
   ],
   "source": [
    "lambda num:num ** 2"
   ]
  },
  {
   "cell_type": "code",
   "execution_count": 11,
   "id": "44e005fd",
   "metadata": {},
   "outputs": [
    {
     "name": "stdout",
     "output_type": "stream",
     "text": [
      "Hello Im a local\n"
     ]
    }
   ],
   "source": [
    "# Enlosing function locals\n",
    "# Global variable\n",
    "name = 'This is a global string'\n",
    "\n",
    "def greet():\n",
    "    # Enclosing variable\n",
    "    name = 'sammy'  # variable name set to sammy\n",
    "    # Comment this out and it will go to global\n",
    "    \n",
    "    def hello():\n",
    "        # Local variable\n",
    "        # Comment this out and it will go to Enclosing\n",
    "        name = 'Im a local'\n",
    "        print('Hello ' + name)  \n",
    "        # Extracted from enclosing function.\n",
    "    \n",
    "    hello()\n",
    "    \n",
    "greet()"
   ]
  },
  {
   "cell_type": "code",
   "execution_count": 18,
   "id": "e9ca88d3",
   "metadata": {},
   "outputs": [
    {
     "name": "stdout",
     "output_type": "stream",
     "text": [
      "x is 50\n",
      "I locally changed x to 200\n"
     ]
    }
   ],
   "source": [
    "x = 50\n",
    "\n",
    "def func(x):\n",
    "    print(f'x is {x}')\n",
    "    # Local re-assignment\n",
    "    x = 200\n",
    "    print(f'I locally changed x to {x}')\n",
    "    \n",
    "func(x)"
   ]
  },
  {
   "cell_type": "code",
   "execution_count": 14,
   "id": "044b29dd",
   "metadata": {},
   "outputs": [
    {
     "name": "stdout",
     "output_type": "stream",
     "text": [
      "50\n"
     ]
    }
   ],
   "source": [
    "print(x)"
   ]
  },
  {
   "cell_type": "code",
   "execution_count": 19,
   "id": "d0c400c9",
   "metadata": {},
   "outputs": [],
   "source": [
    "# Demonstration of global x\n",
    "\n",
    "x = 50\n",
    "\n",
    "def func():\n",
    "    global x  # Avoid unless absolutely necessary.\n",
    "    print(f'x is {x}')\n",
    "    # Local re-assignment on a global variable\n",
    "    x = 'NEW VALUE'\n",
    "    print(f'I locally changed global x to {x}')"
   ]
  },
  {
   "cell_type": "code",
   "execution_count": 20,
   "id": "98dc8428",
   "metadata": {},
   "outputs": [
    {
     "name": "stdout",
     "output_type": "stream",
     "text": [
      "50\n"
     ]
    }
   ],
   "source": [
    "print(x)"
   ]
  },
  {
   "cell_type": "code",
   "execution_count": 21,
   "id": "4042c198",
   "metadata": {},
   "outputs": [
    {
     "name": "stdout",
     "output_type": "stream",
     "text": [
      "x is 50\n",
      "I locally changed global x to NEW VALUE\n"
     ]
    }
   ],
   "source": [
    "func()"
   ]
  },
  {
   "cell_type": "code",
   "execution_count": 22,
   "id": "05399b77",
   "metadata": {},
   "outputs": [
    {
     "name": "stdout",
     "output_type": "stream",
     "text": [
      "NEW VALUE\n"
     ]
    }
   ],
   "source": [
    "print(x)"
   ]
  },
  {
   "cell_type": "code",
   "execution_count": 23,
   "id": "3ac36de1",
   "metadata": {},
   "outputs": [],
   "source": [
    "# DAvoiding global\n",
    "\n",
    "x = 50\n",
    "\n",
    "def func(x):\n",
    "    #global x  # Avoid unless absolutely necessary.\n",
    "    print(f'x is {x}')\n",
    "    # Local re-assignment on a global variable\n",
    "    x = 'NEW VALUE'\n",
    "    print(f'I locally changed global x to {x}')\n",
    "    return x"
   ]
  },
  {
   "cell_type": "code",
   "execution_count": 24,
   "id": "c0690f26",
   "metadata": {},
   "outputs": [
    {
     "name": "stdout",
     "output_type": "stream",
     "text": [
      "50\n"
     ]
    }
   ],
   "source": [
    "print(x)"
   ]
  },
  {
   "cell_type": "code",
   "execution_count": 25,
   "id": "e1b76cae",
   "metadata": {},
   "outputs": [
    {
     "name": "stdout",
     "output_type": "stream",
     "text": [
      "x is 50\n",
      "I locally changed global x to NEW VALUE\n"
     ]
    },
    {
     "data": {
      "text/plain": [
       "'NEW VALUE'"
      ]
     },
     "execution_count": 25,
     "metadata": {},
     "output_type": "execute_result"
    }
   ],
   "source": [
    "func(x)"
   ]
  },
  {
   "cell_type": "code",
   "execution_count": 26,
   "id": "87ab3aff",
   "metadata": {},
   "outputs": [
    {
     "name": "stdout",
     "output_type": "stream",
     "text": [
      "x is 50\n",
      "I locally changed global x to NEW VALUE\n"
     ]
    }
   ],
   "source": [
    "x = func(x)"
   ]
  },
  {
   "cell_type": "code",
   "execution_count": 27,
   "id": "f8eab7d3",
   "metadata": {},
   "outputs": [
    {
     "data": {
      "text/plain": [
       "'NEW VALUE'"
      ]
     },
     "execution_count": 27,
     "metadata": {},
     "output_type": "execute_result"
    }
   ],
   "source": [
    "x "
   ]
  },
  {
   "cell_type": "code",
   "execution_count": null,
   "id": "10d44e0e",
   "metadata": {},
   "outputs": [],
   "source": []
  }
 ],
 "metadata": {
  "kernelspec": {
   "display_name": "Python 3",
   "language": "python",
   "name": "python3"
  },
  "language_info": {
   "codemirror_mode": {
    "name": "ipython",
    "version": 3
   },
   "file_extension": ".py",
   "mimetype": "text/x-python",
   "name": "python",
   "nbconvert_exporter": "python",
   "pygments_lexer": "ipython3",
   "version": "3.8.8"
  }
 },
 "nbformat": 4,
 "nbformat_minor": 5
}
