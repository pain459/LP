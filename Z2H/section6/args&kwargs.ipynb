{
 "cells": [
  {
   "cell_type": "code",
   "execution_count": 1,
   "id": "366fa195",
   "metadata": {},
   "outputs": [],
   "source": [
    "def myfunc(a, b):\n",
    "    # returns 5% of the sum of a and b\n",
    "    return sum((a,b)) * 0.05"
   ]
  },
  {
   "cell_type": "code",
   "execution_count": 2,
   "id": "dcf1223a",
   "metadata": {},
   "outputs": [
    {
     "data": {
      "text/plain": [
       "4.5"
      ]
     },
     "execution_count": 2,
     "metadata": {},
     "output_type": "execute_result"
    }
   ],
   "source": [
    "myfunc(40, 50)"
   ]
  },
  {
   "cell_type": "code",
   "execution_count": 3,
   "id": "6845ca32",
   "metadata": {},
   "outputs": [
    {
     "data": {
      "text/plain": [
       "5.0"
      ]
     },
     "execution_count": 3,
     "metadata": {},
     "output_type": "execute_result"
    }
   ],
   "source": [
    "myfunc(40, 60)"
   ]
  },
  {
   "cell_type": "code",
   "execution_count": 4,
   "id": "03766db8",
   "metadata": {},
   "outputs": [
    {
     "ename": "TypeError",
     "evalue": "sum() takes at most 2 arguments (3 given)",
     "output_type": "error",
     "traceback": [
      "\u001b[0;31m---------------------------------------------------------------------------\u001b[0m",
      "\u001b[0;31mTypeError\u001b[0m                                 Traceback (most recent call last)",
      "\u001b[0;32m<ipython-input-4-2c4065447b68>\u001b[0m in \u001b[0;36m<module>\u001b[0;34m\u001b[0m\n\u001b[0;32m----> 1\u001b[0;31m \u001b[0msum\u001b[0m\u001b[0;34m(\u001b[0m\u001b[0;36m10\u001b[0m\u001b[0;34m,\u001b[0m \u001b[0;36m20\u001b[0m \u001b[0;34m,\u001b[0m \u001b[0;36m30\u001b[0m\u001b[0;34m)\u001b[0m\u001b[0;34m\u001b[0m\u001b[0;34m\u001b[0m\u001b[0m\n\u001b[0m",
      "\u001b[0;31mTypeError\u001b[0m: sum() takes at most 2 arguments (3 given)"
     ]
    }
   ],
   "source": [
    "sum(10, 20 , 30) # sum takes 2 but if you pass tuple, it will do it"
   ]
  },
  {
   "cell_type": "code",
   "execution_count": 6,
   "id": "1e65ae9b",
   "metadata": {},
   "outputs": [
    {
     "data": {
      "text/plain": [
       "60"
      ]
     },
     "execution_count": 6,
     "metadata": {},
     "output_type": "execute_result"
    }
   ],
   "source": [
    "sum((10, 20, 30))  # passing tuple to bypass limit"
   ]
  },
  {
   "cell_type": "code",
   "execution_count": 7,
   "id": "141a879d",
   "metadata": {},
   "outputs": [],
   "source": [
    "def myfunc(*args):  # pass this as a tuple\n",
    "    return sum(args) * 0.05"
   ]
  },
  {
   "cell_type": "code",
   "execution_count": 8,
   "id": "10c16808",
   "metadata": {},
   "outputs": [
    {
     "data": {
      "text/plain": [
       "7.5"
      ]
     },
     "execution_count": 8,
     "metadata": {},
     "output_type": "execute_result"
    }
   ],
   "source": [
    "myfunc(40, 50, 60)"
   ]
  },
  {
   "cell_type": "code",
   "execution_count": 9,
   "id": "f986f2f0",
   "metadata": {},
   "outputs": [],
   "source": [
    "def myfunc(*a):  # we can use anything here, * matters. \n",
    "    # per pep8 standards, use *args for consistency\n",
    "    return sum(a)"
   ]
  },
  {
   "cell_type": "code",
   "execution_count": 10,
   "id": "a1a298a1",
   "metadata": {},
   "outputs": [
    {
     "data": {
      "text/plain": [
       "30"
      ]
     },
     "execution_count": 10,
     "metadata": {},
     "output_type": "execute_result"
    }
   ],
   "source": [
    "myfunc(10, 10, 10)"
   ]
  },
  {
   "cell_type": "code",
   "execution_count": 11,
   "id": "26355613",
   "metadata": {},
   "outputs": [],
   "source": [
    "def myfunc(*args):\n",
    "    for i in args:\n",
    "        print(i)"
   ]
  },
  {
   "cell_type": "code",
   "execution_count": 12,
   "id": "747b325f",
   "metadata": {},
   "outputs": [
    {
     "name": "stdout",
     "output_type": "stream",
     "text": [
      "1\n",
      "2\n",
      "3\n",
      "4\n"
     ]
    }
   ],
   "source": [
    "myfunc(1, 2, 3, 4,)"
   ]
  },
  {
   "cell_type": "code",
   "execution_count": 16,
   "id": "ead84e26",
   "metadata": {},
   "outputs": [],
   "source": [
    "def myfunc(**kwargs):\n",
    "    print(kwargs)# **kwargs allows a dictionary of k:v pairs\n",
    "    if 'fruit' in kwargs:\n",
    "        print('My fruit of choice {}'.format(kwargs['fruit']))\n",
    "    else:\n",
    "        print('I did not find any fruit here')"
   ]
  },
  {
   "cell_type": "code",
   "execution_count": 17,
   "id": "4b67e03e",
   "metadata": {},
   "outputs": [
    {
     "name": "stdout",
     "output_type": "stream",
     "text": [
      "{'fruit': 'apple', 'veggie': 'lettuce'}\n",
      "My fruit of choice apple\n"
     ]
    }
   ],
   "source": [
    "myfunc(fruit='apple',veggie='lettuce')"
   ]
  },
  {
   "cell_type": "code",
   "execution_count": 22,
   "id": "c2352c03",
   "metadata": {},
   "outputs": [],
   "source": [
    "def myfunc(*args, **kwargs):\n",
    "    print(args)\n",
    "    print(kwargs)\n",
    "    print('I would like {} {}'.format(args[0], kwargs['food']))"
   ]
  },
  {
   "cell_type": "code",
   "execution_count": 23,
   "id": "6a7e2035",
   "metadata": {},
   "outputs": [
    {
     "name": "stdout",
     "output_type": "stream",
     "text": [
      "(10, 20, 30)\n",
      "{'fruit': 'orange', 'food': 'eggs', 'animal': 'dog'}\n",
      "I would like 10 eggs\n"
     ]
    }
   ],
   "source": [
    "myfunc(10,20,30,fruit='orange', food='eggs',animal='dog')"
   ]
  },
  {
   "cell_type": "code",
   "execution_count": 24,
   "id": "248bec74",
   "metadata": {},
   "outputs": [],
   "source": [
    "def myfunc(*args):\n",
    "    even_list = []\n",
    "    for i in args:\n",
    "        if i % 2 == 0:\n",
    "            even_list.append(i)\n",
    "        else:\n",
    "            pass\n",
    "    return even_list"
   ]
  },
  {
   "cell_type": "code",
   "execution_count": 25,
   "id": "24236563",
   "metadata": {},
   "outputs": [
    {
     "data": {
      "text/plain": [
       "[4, 8, 4, 6]"
      ]
     },
     "execution_count": 25,
     "metadata": {},
     "output_type": "execute_result"
    }
   ],
   "source": [
    "myfunc(1, 4, 5, 7, 8, 3, 4, 33, 6, 7,)"
   ]
  },
  {
   "cell_type": "code",
   "execution_count": 26,
   "id": "75d41f36",
   "metadata": {},
   "outputs": [],
   "source": [
    "a = 'asdfgh'"
   ]
  },
  {
   "cell_type": "code",
   "execution_count": 28,
   "id": "56d6220f",
   "metadata": {},
   "outputs": [
    {
     "name": "stdout",
     "output_type": "stream",
     "text": [
      "a\n",
      "s\n",
      "d\n",
      "f\n",
      "g\n",
      "h\n"
     ]
    }
   ],
   "source": [
    "for i in a:\n",
    "    print(i)"
   ]
  },
  {
   "cell_type": "code",
   "execution_count": 29,
   "id": "211afa4d",
   "metadata": {},
   "outputs": [
    {
     "data": {
      "text/plain": [
       "6"
      ]
     },
     "execution_count": 29,
     "metadata": {},
     "output_type": "execute_result"
    }
   ],
   "source": [
    "len(a)"
   ]
  },
  {
   "cell_type": "code",
   "execution_count": 30,
   "id": "5e8e438c",
   "metadata": {},
   "outputs": [],
   "source": [
    "x = 0\n",
    "a_camel = ''\n",
    "while x < len(a):\n",
    "    for i in a:\n",
    "        if x % 2 == 0:\n",
    "            i = i.lower()\n",
    "            a_camel = a_camel + i\n",
    "            x += 1\n",
    "        elif x % 2 != 0:\n",
    "            i = i.upper()\n",
    "            a_camel = a_camel + i\n",
    "            x += 1\n",
    "        else:\n",
    "            pass\n",
    "        \n",
    "    "
   ]
  },
  {
   "cell_type": "code",
   "execution_count": 1,
   "id": "68caba8e",
   "metadata": {
    "execution": {
     "iopub.execute_input": "2021-10-08T09:56:35.990151Z",
     "iopub.status.busy": "2021-10-08T09:56:35.989735Z",
     "iopub.status.idle": "2021-10-08T09:56:36.094243Z",
     "shell.execute_reply": "2021-10-08T09:56:36.093514Z",
     "shell.execute_reply.started": "2021-10-08T09:56:35.990056Z"
    }
   },
   "outputs": [],
   "source": [
    "def camel_creator(a):\n",
    "    x = 0\n",
    "    a_camel = ''\n",
    "    while x < len(a):\n",
    "        for i in a:\n",
    "            if x % 2 == 0:\n",
    "                i = i.lower()\n",
    "                a_camel = a_camel + i\n",
    "                x += 1\n",
    "            elif x % 2 != 0:\n",
    "                i = i.upper()\n",
    "                a_camel = a_camel + i\n",
    "                x += 1\n",
    "            else:\n",
    "                pass\n",
    "    return a_camel"
   ]
  },
  {
   "cell_type": "code",
   "execution_count": 2,
   "id": "f893734b",
   "metadata": {
    "execution": {
     "iopub.execute_input": "2021-10-08T09:56:43.334436Z",
     "iopub.status.busy": "2021-10-08T09:56:43.334083Z",
     "iopub.status.idle": "2021-10-08T09:56:43.341625Z",
     "shell.execute_reply": "2021-10-08T09:56:43.341070Z",
     "shell.execute_reply.started": "2021-10-08T09:56:43.334403Z"
    }
   },
   "outputs": [],
   "source": [
    "a = 'asdfghadfsdfasfdasfdsfd'"
   ]
  },
  {
   "cell_type": "code",
   "execution_count": 3,
   "id": "92562c59",
   "metadata": {
    "execution": {
     "iopub.execute_input": "2021-10-08T09:56:47.741889Z",
     "iopub.status.busy": "2021-10-08T09:56:47.741520Z",
     "iopub.status.idle": "2021-10-08T09:56:47.756547Z",
     "shell.execute_reply": "2021-10-08T09:56:47.755927Z",
     "shell.execute_reply.started": "2021-10-08T09:56:47.741862Z"
    }
   },
   "outputs": [
    {
     "data": {
      "text/plain": [
       "'aSdFgHaDfSdFaSfDaSfDsFd'"
      ]
     },
     "execution_count": 3,
     "metadata": {},
     "output_type": "execute_result"
    }
   ],
   "source": [
    "camel_creator(a)"
   ]
  },
  {
   "cell_type": "code",
   "execution_count": 4,
   "id": "3d24899f",
   "metadata": {
    "execution": {
     "iopub.execute_input": "2021-10-08T10:00:18.451263Z",
     "iopub.status.busy": "2021-10-08T10:00:18.450882Z",
     "iopub.status.idle": "2021-10-08T10:00:18.459938Z",
     "shell.execute_reply": "2021-10-08T10:00:18.459333Z",
     "shell.execute_reply.started": "2021-10-08T10:00:18.451235Z"
    }
   },
   "outputs": [],
   "source": [
    "# Testing *args\n",
    "def odd_numbers_extractor(*args):\n",
    "    odd_numbers = []\n",
    "    for i in args:\n",
    "        if i % 2 != 0:\n",
    "            odd_numbers.append(i)\n",
    "        else:\n",
    "            pass\n",
    "    return odd_numbers"
   ]
  },
  {
   "cell_type": "code",
   "execution_count": 5,
   "id": "e646229f",
   "metadata": {
    "execution": {
     "iopub.execute_input": "2021-10-08T10:00:59.247109Z",
     "iopub.status.busy": "2021-10-08T10:00:59.246750Z",
     "iopub.status.idle": "2021-10-08T10:00:59.256222Z",
     "shell.execute_reply": "2021-10-08T10:00:59.255630Z",
     "shell.execute_reply.started": "2021-10-08T10:00:59.247082Z"
    }
   },
   "outputs": [
    {
     "data": {
      "text/plain": [
       "[23, 45, 3, 67, 5]"
      ]
     },
     "execution_count": 5,
     "metadata": {},
     "output_type": "execute_result"
    }
   ],
   "source": [
    "odd_numbers_extractor(23, 45, 4, 3, 67, 5, 2)"
   ]
  },
  {
   "cell_type": "code",
   "execution_count": 51,
   "id": "cc1d540c",
   "metadata": {
    "execution": {
     "iopub.execute_input": "2021-10-08T11:05:51.116018Z",
     "iopub.status.busy": "2021-10-08T11:05:51.115732Z",
     "iopub.status.idle": "2021-10-08T11:05:51.124384Z",
     "shell.execute_reply": "2021-10-08T11:05:51.123851Z",
     "shell.execute_reply.started": "2021-10-08T11:05:51.115992Z"
    }
   },
   "outputs": [],
   "source": [
    "# Testing *kwargs\n",
    "# Giving profit to stocks when supplied as an input\n",
    "def stocks_percentage_modifier(**kwargs):\n",
    "    i = 0\n",
    "    while i < len(kwargs):\n",
    "        print('from while loop. Should execute only once.')\n",
    "        for j in kwargs.values():\n",
    "            #print('from kwargs loop')\n",
    "            j = j + (j * 0.05)\n",
    "            print(f'Revised prices are {j}')\n",
    "            i += 1\n",
    "        \n",
    "        "
   ]
  },
  {
   "cell_type": "code",
   "execution_count": 52,
   "id": "f3aaccdf",
   "metadata": {
    "execution": {
     "iopub.execute_input": "2021-10-08T11:05:53.158825Z",
     "iopub.status.busy": "2021-10-08T11:05:53.158266Z",
     "iopub.status.idle": "2021-10-08T11:05:53.165953Z",
     "shell.execute_reply": "2021-10-08T11:05:53.165405Z",
     "shell.execute_reply.started": "2021-10-08T11:05:53.158797Z"
    }
   },
   "outputs": [
    {
     "name": "stdout",
     "output_type": "stream",
     "text": [
      "from while loop. Should execute only once.\n",
      "Revised prices are 1052.1\n",
      "Revised prices are 2103.15\n",
      "Revised prices are 2462.25\n"
     ]
    }
   ],
   "source": [
    "stocks_percentage_modifier(A=1002,B=2003,C=2345)"
   ]
  },
  {
   "cell_type": "code",
   "execution_count": 53,
   "id": "a1db4ee3",
   "metadata": {
    "execution": {
     "iopub.execute_input": "2021-10-08T11:18:42.717384Z",
     "iopub.status.busy": "2021-10-08T11:18:42.717098Z",
     "iopub.status.idle": "2021-10-08T11:18:42.724361Z",
     "shell.execute_reply": "2021-10-08T11:18:42.723822Z",
     "shell.execute_reply.started": "2021-10-08T11:18:42.717358Z"
    }
   },
   "outputs": [],
   "source": [
    "def test_kwargs(**kwargs):\n",
    "    print(kwargs)\n",
    "    for i in kwargs:\n",
    "        print(i + 'C')"
   ]
  },
  {
   "cell_type": "code",
   "execution_count": 54,
   "id": "275047e0",
   "metadata": {
    "execution": {
     "iopub.execute_input": "2021-10-08T11:18:44.708899Z",
     "iopub.status.busy": "2021-10-08T11:18:44.708616Z",
     "iopub.status.idle": "2021-10-08T11:18:44.715937Z",
     "shell.execute_reply": "2021-10-08T11:18:44.715400Z",
     "shell.execute_reply.started": "2021-10-08T11:18:44.708872Z"
    }
   },
   "outputs": [
    {
     "name": "stdout",
     "output_type": "stream",
     "text": [
      "{'A': 11, 'B': 12}\n",
      "AC\n",
      "BC\n"
     ]
    }
   ],
   "source": [
    "test_kwargs(A=11, B=12)"
   ]
  },
  {
   "cell_type": "code",
   "execution_count": null,
   "id": "24fdcf9e",
   "metadata": {},
   "outputs": [],
   "source": []
  }
 ],
 "metadata": {
  "kernelspec": {
   "display_name": "Python 3 (ipykernel)",
   "language": "python",
   "name": "python3"
  },
  "language_info": {
   "codemirror_mode": {
    "name": "ipython",
    "version": 3
   },
   "file_extension": ".py",
   "mimetype": "text/x-python",
   "name": "python",
   "nbconvert_exporter": "python",
   "pygments_lexer": "ipython3",
   "version": "3.7.4"
  }
 },
 "nbformat": 4,
 "nbformat_minor": 5
}
