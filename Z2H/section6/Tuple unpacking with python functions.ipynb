{
 "cells": [
  {
   "cell_type": "code",
   "execution_count": 1,
   "id": "fa6372ac",
   "metadata": {},
   "outputs": [],
   "source": [
    "stock_prices = [('AAPL',200), ('GOOG',400), ('MSFT',100)]"
   ]
  },
  {
   "cell_type": "code",
   "execution_count": 2,
   "id": "b26b3b6d",
   "metadata": {},
   "outputs": [
    {
     "name": "stdout",
     "output_type": "stream",
     "text": [
      "('AAPL', 200)\n",
      "('GOOG', 400)\n",
      "('MSFT', 100)\n"
     ]
    }
   ],
   "source": [
    "for i in stock_prices:\n",
    "    print(i)"
   ]
  },
  {
   "cell_type": "code",
   "execution_count": 3,
   "id": "2fa35273",
   "metadata": {},
   "outputs": [
    {
     "name": "stdout",
     "output_type": "stream",
     "text": [
      "220.0\n",
      "440.0\n",
      "110.0\n"
     ]
    }
   ],
   "source": [
    "for i, j in stock_prices:\n",
    "    print(j + (0.1 * j))"
   ]
  },
  {
   "cell_type": "code",
   "execution_count": 8,
   "id": "f983f874",
   "metadata": {},
   "outputs": [],
   "source": [
    "# some complicated example\n",
    "work_hours = [('Abby',100), ('Billy', 400), ('Cassie', 800)]"
   ]
  },
  {
   "cell_type": "code",
   "execution_count": 10,
   "id": "637f3022",
   "metadata": {},
   "outputs": [],
   "source": [
    "def employee_check(work_hours):\n",
    "    current_max = 0\n",
    "    employee_of_month = ''\n",
    "    for i, j in work_hours:\n",
    "        if j > current_max:\n",
    "            current_max = j\n",
    "            employee_of_month = i\n",
    "        else:\n",
    "            pass\n",
    "    # returning finally\n",
    "    return (employee_of_month, current_max)\n",
    "\n",
    "result = employee_check(work_hours)"
   ]
  },
  {
   "cell_type": "code",
   "execution_count": 11,
   "id": "eebeb261",
   "metadata": {},
   "outputs": [],
   "source": [
    "name, hours = result  # Good practice is to explore result and then unpack."
   ]
  },
  {
   "cell_type": "code",
   "execution_count": 14,
   "id": "c7277d7f",
   "metadata": {},
   "outputs": [
    {
     "data": {
      "text/plain": [
       "'Cassie'"
      ]
     },
     "execution_count": 14,
     "metadata": {},
     "output_type": "execute_result"
    }
   ],
   "source": [
    "name"
   ]
  },
  {
   "cell_type": "code",
   "execution_count": 13,
   "id": "3da00b8b",
   "metadata": {},
   "outputs": [
    {
     "data": {
      "text/plain": [
       "800"
      ]
     },
     "execution_count": 13,
     "metadata": {},
     "output_type": "execute_result"
    }
   ],
   "source": [
    "hours"
   ]
  },
  {
   "cell_type": "code",
   "execution_count": 1,
   "id": "2d72763d",
   "metadata": {},
   "outputs": [],
   "source": [
    "stock_prices = [('AAPL',200), ('GOOG',400), ('MSFT',100)]"
   ]
  },
  {
   "cell_type": "code",
   "execution_count": 2,
   "id": "097a078e",
   "metadata": {},
   "outputs": [
    {
     "name": "stdout",
     "output_type": "stream",
     "text": [
      "('AAPL', 200)\n",
      "('GOOG', 400)\n",
      "('MSFT', 100)\n"
     ]
    }
   ],
   "source": [
    "for i in stock_prices:\n",
    "    print(i)"
   ]
  },
  {
   "cell_type": "code",
   "execution_count": 5,
   "id": "09750db9",
   "metadata": {},
   "outputs": [
    {
     "name": "stdout",
     "output_type": "stream",
     "text": [
      "200\n",
      "400\n",
      "100\n"
     ]
    }
   ],
   "source": [
    "for i in stock_prices:\n",
    "    print(i[1])"
   ]
  },
  {
   "cell_type": "code",
   "execution_count": 6,
   "id": "739d61d0",
   "metadata": {},
   "outputs": [
    {
     "name": "stdout",
     "output_type": "stream",
     "text": [
      "AAPL 200\n",
      "GOOG 400\n",
      "MSFT 100\n"
     ]
    }
   ],
   "source": [
    "for i,j in stock_prices:\n",
    "    print(i,j)"
   ]
  },
  {
   "cell_type": "code",
   "execution_count": 7,
   "id": "1012e96a",
   "metadata": {},
   "outputs": [
    {
     "name": "stdout",
     "output_type": "stream",
     "text": [
      "200\n",
      "400\n",
      "100\n"
     ]
    }
   ],
   "source": [
    "for i,j in stock_prices:\n",
    "    print(j)"
   ]
  },
  {
   "cell_type": "code",
   "execution_count": 8,
   "id": "695334dc",
   "metadata": {},
   "outputs": [
    {
     "name": "stdout",
     "output_type": "stream",
     "text": [
      "220.0\n",
      "440.0\n",
      "110.0\n"
     ]
    }
   ],
   "source": [
    "for i,j in stock_prices:\n",
    "    print(j + (j * 0.1))  # quick 10 % increase."
   ]
  },
  {
   "cell_type": "code",
   "execution_count": 9,
   "id": "7a86df6d",
   "metadata": {},
   "outputs": [],
   "source": [
    "work_hours = [('Abby',100), ('Billy', 400), ('Cassie', 800)]"
   ]
  },
  {
   "cell_type": "code",
   "execution_count": 10,
   "id": "0c7ca309",
   "metadata": {},
   "outputs": [],
   "source": [
    "# who worked more to get the award"
   ]
  },
  {
   "cell_type": "code",
   "execution_count": 13,
   "id": "8ff151fd",
   "metadata": {},
   "outputs": [],
   "source": [
    "def employee_of_month(data_list):\n",
    "    current_max = 0\n",
    "    employee_of_month = ''\n",
    "    for i,j in data_list:\n",
    "        if j > current_max:\n",
    "            current_max = j\n",
    "            employee_of_month = i\n",
    "        else:\n",
    "            pass\n",
    "    \n",
    "    \n",
    "    return(employee_of_month, current_max)\n",
    "        "
   ]
  },
  {
   "cell_type": "code",
   "execution_count": 14,
   "id": "ba90d884",
   "metadata": {},
   "outputs": [
    {
     "data": {
      "text/plain": [
       "('Cassie', 800)"
      ]
     },
     "execution_count": 14,
     "metadata": {},
     "output_type": "execute_result"
    }
   ],
   "source": [
    "employee_of_month(work_hours)"
   ]
  },
  {
   "cell_type": "code",
   "execution_count": 15,
   "id": "aac7bdd4",
   "metadata": {},
   "outputs": [],
   "source": [
    "winner_candidate = employee_of_month(work_hours)"
   ]
  },
  {
   "cell_type": "code",
   "execution_count": 16,
   "id": "1cb51d95",
   "metadata": {},
   "outputs": [
    {
     "name": "stdout",
     "output_type": "stream",
     "text": [
      "Cassie\n"
     ]
    }
   ],
   "source": [
    "print(winner_candidate[0])"
   ]
  },
  {
   "cell_type": "code",
   "execution_count": null,
   "id": "df2054be",
   "metadata": {},
   "outputs": [],
   "source": []
  }
 ],
 "metadata": {
  "kernelspec": {
   "display_name": "Python 3",
   "language": "python",
   "name": "python3"
  },
  "language_info": {
   "codemirror_mode": {
    "name": "ipython",
    "version": 3
   },
   "file_extension": ".py",
   "mimetype": "text/x-python",
   "name": "python",
   "nbconvert_exporter": "python",
   "pygments_lexer": "ipython3",
   "version": "3.8.8"
  }
 },
 "nbformat": 4,
 "nbformat_minor": 5
}
