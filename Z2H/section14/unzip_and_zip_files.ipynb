{
 "cells": [
  {
   "cell_type": "code",
   "execution_count": 2,
   "id": "df04f979",
   "metadata": {
    "execution": {
     "iopub.execute_input": "2021-10-11T20:15:22.674286Z",
     "iopub.status.busy": "2021-10-11T20:15:22.673921Z",
     "iopub.status.idle": "2021-10-11T20:15:22.682380Z",
     "shell.execute_reply": "2021-10-11T20:15:22.681857Z",
     "shell.execute_reply.started": "2021-10-11T20:15:22.674255Z"
    }
   },
   "outputs": [],
   "source": [
    "f = open('file1.txt', 'w+')\n",
    "f.write('ONE FILE')\n",
    "f.close()"
   ]
  },
  {
   "cell_type": "code",
   "execution_count": 3,
   "id": "aacb9f9c",
   "metadata": {
    "execution": {
     "iopub.execute_input": "2021-10-11T20:15:44.966203Z",
     "iopub.status.busy": "2021-10-11T20:15:44.965879Z",
     "iopub.status.idle": "2021-10-11T20:15:44.974263Z",
     "shell.execute_reply": "2021-10-11T20:15:44.973732Z",
     "shell.execute_reply.started": "2021-10-11T20:15:44.966177Z"
    }
   },
   "outputs": [],
   "source": [
    "f = open('file2.txt', 'w+')\n",
    "f.write('TWO FILE')\n",
    "f.close()"
   ]
  },
  {
   "cell_type": "code",
   "execution_count": 4,
   "id": "8044ec4e",
   "metadata": {
    "execution": {
     "iopub.execute_input": "2021-10-11T20:16:08.436089Z",
     "iopub.status.busy": "2021-10-11T20:16:08.435815Z",
     "iopub.status.idle": "2021-10-11T20:16:08.442617Z",
     "shell.execute_reply": "2021-10-11T20:16:08.442064Z",
     "shell.execute_reply.started": "2021-10-11T20:16:08.436064Z"
    }
   },
   "outputs": [],
   "source": [
    "import zipfile"
   ]
  },
  {
   "cell_type": "code",
   "execution_count": 5,
   "id": "3c670aeb",
   "metadata": {
    "execution": {
     "iopub.execute_input": "2021-10-11T20:16:44.921619Z",
     "iopub.status.busy": "2021-10-11T20:16:44.921242Z",
     "iopub.status.idle": "2021-10-11T20:16:44.928997Z",
     "shell.execute_reply": "2021-10-11T20:16:44.928449Z",
     "shell.execute_reply.started": "2021-10-11T20:16:44.921593Z"
    }
   },
   "outputs": [],
   "source": [
    "comp_file = zipfile.ZipFile('comp_file.zip','w')"
   ]
  },
  {
   "cell_type": "code",
   "execution_count": 6,
   "id": "a408bee9",
   "metadata": {
    "execution": {
     "iopub.execute_input": "2021-10-11T20:17:54.464857Z",
     "iopub.status.busy": "2021-10-11T20:17:54.464533Z",
     "iopub.status.idle": "2021-10-11T20:17:54.472842Z",
     "shell.execute_reply": "2021-10-11T20:17:54.472212Z",
     "shell.execute_reply.started": "2021-10-11T20:17:54.464830Z"
    }
   },
   "outputs": [],
   "source": [
    "comp_file.write('file1.txt', compress_type=zipfile.ZIP_DEFLATED)"
   ]
  },
  {
   "cell_type": "code",
   "execution_count": 7,
   "id": "ee717ab8",
   "metadata": {
    "execution": {
     "iopub.execute_input": "2021-10-11T20:18:04.719801Z",
     "iopub.status.busy": "2021-10-11T20:18:04.719485Z",
     "iopub.status.idle": "2021-10-11T20:18:04.727213Z",
     "shell.execute_reply": "2021-10-11T20:18:04.726635Z",
     "shell.execute_reply.started": "2021-10-11T20:18:04.719774Z"
    }
   },
   "outputs": [],
   "source": [
    "comp_file.write('file2.txt', compress_type=zipfile.ZIP_DEFLATED)"
   ]
  },
  {
   "cell_type": "code",
   "execution_count": 9,
   "id": "3e36b105",
   "metadata": {
    "execution": {
     "iopub.execute_input": "2021-10-11T20:18:33.974152Z",
     "iopub.status.busy": "2021-10-11T20:18:33.973868Z",
     "iopub.status.idle": "2021-10-11T20:18:33.981767Z",
     "shell.execute_reply": "2021-10-11T20:18:33.981111Z",
     "shell.execute_reply.started": "2021-10-11T20:18:33.974126Z"
    }
   },
   "outputs": [],
   "source": [
    "comp_file.close()"
   ]
  },
  {
   "cell_type": "code",
   "execution_count": 10,
   "id": "492d723c",
   "metadata": {
    "execution": {
     "iopub.execute_input": "2021-10-11T20:19:05.076909Z",
     "iopub.status.busy": "2021-10-11T20:19:05.076621Z",
     "iopub.status.idle": "2021-10-11T20:19:05.083053Z",
     "shell.execute_reply": "2021-10-11T20:19:05.082563Z",
     "shell.execute_reply.started": "2021-10-11T20:19:05.076883Z"
    }
   },
   "outputs": [],
   "source": [
    "# Now exacting the files."
   ]
  },
  {
   "cell_type": "code",
   "execution_count": 11,
   "id": "f2cc5851",
   "metadata": {
    "execution": {
     "iopub.execute_input": "2021-10-11T20:19:32.709758Z",
     "iopub.status.busy": "2021-10-11T20:19:32.709475Z",
     "iopub.status.idle": "2021-10-11T20:19:32.717096Z",
     "shell.execute_reply": "2021-10-11T20:19:32.716547Z",
     "shell.execute_reply.started": "2021-10-11T20:19:32.709733Z"
    }
   },
   "outputs": [],
   "source": [
    "zip_obj = zipfile.ZipFile('comp_file.zip', 'r')"
   ]
  },
  {
   "cell_type": "code",
   "execution_count": 12,
   "id": "ed925004",
   "metadata": {
    "execution": {
     "iopub.execute_input": "2021-10-11T20:20:07.351994Z",
     "iopub.status.busy": "2021-10-11T20:20:07.351630Z",
     "iopub.status.idle": "2021-10-11T20:20:07.368004Z",
     "shell.execute_reply": "2021-10-11T20:20:07.367258Z",
     "shell.execute_reply.started": "2021-10-11T20:20:07.351962Z"
    }
   },
   "outputs": [],
   "source": [
    "zip_obj.extractall('extracted_content')"
   ]
  },
  {
   "cell_type": "code",
   "execution_count": 13,
   "id": "0771d927",
   "metadata": {
    "execution": {
     "iopub.execute_input": "2021-10-11T20:21:33.167761Z",
     "iopub.status.busy": "2021-10-11T20:21:33.167378Z",
     "iopub.status.idle": "2021-10-11T20:21:33.173978Z",
     "shell.execute_reply": "2021-10-11T20:21:33.173450Z",
     "shell.execute_reply.started": "2021-10-11T20:21:33.167733Z"
    }
   },
   "outputs": [],
   "source": [
    "# Using shutil to do folder level zip"
   ]
  },
  {
   "cell_type": "code",
   "execution_count": 14,
   "id": "4d65124e",
   "metadata": {
    "execution": {
     "iopub.execute_input": "2021-10-11T20:21:40.410102Z",
     "iopub.status.busy": "2021-10-11T20:21:40.409781Z",
     "iopub.status.idle": "2021-10-11T20:21:40.416874Z",
     "shell.execute_reply": "2021-10-11T20:21:40.416121Z",
     "shell.execute_reply.started": "2021-10-11T20:21:40.410075Z"
    }
   },
   "outputs": [],
   "source": [
    "import shutil"
   ]
  },
  {
   "cell_type": "code",
   "execution_count": 15,
   "id": "d7ad1cb3",
   "metadata": {
    "execution": {
     "iopub.execute_input": "2021-10-11T20:22:41.132177Z",
     "iopub.status.busy": "2021-10-11T20:22:41.131756Z",
     "iopub.status.idle": "2021-10-11T20:22:41.139052Z",
     "shell.execute_reply": "2021-10-11T20:22:41.138495Z",
     "shell.execute_reply.started": "2021-10-11T20:22:41.132149Z"
    }
   },
   "outputs": [],
   "source": [
    "dir_to_zip = '/u/kumarrav/code/LP/Z2H/section14/extracted_content'"
   ]
  },
  {
   "cell_type": "code",
   "execution_count": 16,
   "id": "48bfa308",
   "metadata": {
    "execution": {
     "iopub.execute_input": "2021-10-11T20:23:00.169853Z",
     "iopub.status.busy": "2021-10-11T20:23:00.169503Z",
     "iopub.status.idle": "2021-10-11T20:23:00.177606Z",
     "shell.execute_reply": "2021-10-11T20:23:00.176893Z",
     "shell.execute_reply.started": "2021-10-11T20:23:00.169827Z"
    }
   },
   "outputs": [],
   "source": [
    "output_filename = 'example'"
   ]
  },
  {
   "cell_type": "code",
   "execution_count": 17,
   "id": "45f07419",
   "metadata": {
    "execution": {
     "iopub.execute_input": "2021-10-11T20:23:40.853243Z",
     "iopub.status.busy": "2021-10-11T20:23:40.852924Z",
     "iopub.status.idle": "2021-10-11T20:23:40.872681Z",
     "shell.execute_reply": "2021-10-11T20:23:40.872081Z",
     "shell.execute_reply.started": "2021-10-11T20:23:40.853216Z"
    }
   },
   "outputs": [
    {
     "data": {
      "text/plain": [
       "'/u/kumarrav/code/LP/Z2H/section14/example.zip'"
      ]
     },
     "execution_count": 17,
     "metadata": {},
     "output_type": "execute_result"
    }
   ],
   "source": [
    "shutil.make_archive(output_filename, 'zip', dir_to_zip)"
   ]
  },
  {
   "cell_type": "code",
   "execution_count": 18,
   "id": "8a7f6cd8",
   "metadata": {
    "execution": {
     "iopub.execute_input": "2021-10-11T20:25:11.410896Z",
     "iopub.status.busy": "2021-10-11T20:25:11.410573Z",
     "iopub.status.idle": "2021-10-11T20:25:11.422626Z",
     "shell.execute_reply": "2021-10-11T20:25:11.421935Z",
     "shell.execute_reply.started": "2021-10-11T20:25:11.410868Z"
    }
   },
   "outputs": [],
   "source": [
    "shutil.unpack_archive('example.zip', 'final_unzip', 'zip')"
   ]
  },
  {
   "cell_type": "code",
   "execution_count": null,
   "id": "6ed5c0f2",
   "metadata": {},
   "outputs": [],
   "source": []
  }
 ],
 "metadata": {
  "kernelspec": {
   "display_name": "Python 3 (ipykernel)",
   "language": "python",
   "name": "python3"
  },
  "language_info": {
   "codemirror_mode": {
    "name": "ipython",
    "version": 3
   },
   "file_extension": ".py",
   "mimetype": "text/x-python",
   "name": "python",
   "nbconvert_exporter": "python",
   "pygments_lexer": "ipython3",
   "version": "3.7.4"
  }
 },
 "nbformat": 4,
 "nbformat_minor": 5
}
