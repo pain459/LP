{
 "cells": [
  {
   "cell_type": "markdown",
   "id": "05ba7a51",
   "metadata": {},
   "source": [
    "# Shutil & OS Modules"
   ]
  },
  {
   "cell_type": "code",
   "execution_count": 1,
   "id": "e4193219",
   "metadata": {},
   "outputs": [
    {
     "data": {
      "text/plain": [
       "'/home/ravik/src_git/LP/Z2H/section14'"
      ]
     },
     "execution_count": 1,
     "metadata": {},
     "output_type": "execute_result"
    }
   ],
   "source": [
    "pwd"
   ]
  },
  {
   "cell_type": "code",
   "execution_count": 2,
   "id": "0222da58",
   "metadata": {},
   "outputs": [],
   "source": [
    "f = open('practice.txt', 'w+')\n",
    "f.write('This is a test string')\n",
    "f.close()"
   ]
  },
  {
   "cell_type": "code",
   "execution_count": 3,
   "id": "7256466d",
   "metadata": {},
   "outputs": [],
   "source": [
    "import os"
   ]
  },
  {
   "cell_type": "code",
   "execution_count": 4,
   "id": "26b9e4da",
   "metadata": {},
   "outputs": [
    {
     "data": {
      "text/plain": [
       "'/home/ravik/src_git/LP/Z2H/section14'"
      ]
     },
     "execution_count": 4,
     "metadata": {},
     "output_type": "execute_result"
    }
   ],
   "source": [
    "os.getcwd()"
   ]
  },
  {
   "cell_type": "code",
   "execution_count": 6,
   "id": "6abb442a",
   "metadata": {},
   "outputs": [
    {
     "data": {
      "text/plain": [
       "['Collections Module.ipynb',\n",
       " 'Opening and Reading Files and Folders (Python OS module).ipynb',\n",
       " '.ipynb_checkpoints',\n",
       " 'practice.txt']"
      ]
     },
     "execution_count": 6,
     "metadata": {},
     "output_type": "execute_result"
    }
   ],
   "source": [
    "os.listdir()"
   ]
  },
  {
   "cell_type": "code",
   "execution_count": 7,
   "id": "feb1d771",
   "metadata": {},
   "outputs": [
    {
     "data": {
      "text/plain": [
       "['awesome-sre',\n",
       " 'certified-kubernetes-administrator-course',\n",
       " 'latexcv',\n",
       " 'python-snippets',\n",
       " 'PG',\n",
       " 'LP',\n",
       " '.idea',\n",
       " 'dockerfiles',\n",
       " 'EpubToPdf',\n",
       " 'Complete-Python-3-Bootcamp',\n",
       " 'kubernetes-notes',\n",
       " 'resume',\n",
       " 'docker-mastery-notes']"
      ]
     },
     "execution_count": 7,
     "metadata": {},
     "output_type": "execute_result"
    }
   ],
   "source": [
    "os.listdir('/home/ravik/src_git/')"
   ]
  },
  {
   "cell_type": "code",
   "execution_count": 8,
   "id": "d1710c76",
   "metadata": {},
   "outputs": [],
   "source": [
    "import shutil"
   ]
  },
  {
   "cell_type": "code",
   "execution_count": 9,
   "id": "02a6a147",
   "metadata": {},
   "outputs": [
    {
     "data": {
      "text/plain": [
       "'/home/ravik/src_git/LP/Z2H/section14'"
      ]
     },
     "execution_count": 9,
     "metadata": {},
     "output_type": "execute_result"
    }
   ],
   "source": [
    "os.getcwd()"
   ]
  },
  {
   "cell_type": "code",
   "execution_count": 10,
   "id": "40e182aa",
   "metadata": {},
   "outputs": [
    {
     "data": {
      "text/plain": [
       "'/home/ravik/practice.txt'"
      ]
     },
     "execution_count": 10,
     "metadata": {},
     "output_type": "execute_result"
    }
   ],
   "source": [
    "shutil.move('practice.txt','/home/ravik/')"
   ]
  },
  {
   "cell_type": "code",
   "execution_count": 11,
   "id": "3bd98aa8",
   "metadata": {},
   "outputs": [
    {
     "data": {
      "text/plain": [
       "['.zcompdump',\n",
       " '.kube',\n",
       " '.oh-my-zsh',\n",
       " '.anaconda',\n",
       " '.local',\n",
       " '.zsh_history',\n",
       " 'Desktop',\n",
       " 'experiments',\n",
       " '.shell.pre-oh-my-zsh',\n",
       " 'Music',\n",
       " 'Downloads',\n",
       " 'VirtualBox VMs',\n",
       " 'Templates',\n",
       " '.sudo_as_admin_successful',\n",
       " '.nvidia-settings-rc',\n",
       " '.ipython',\n",
       " '.bashrc',\n",
       " '.zshrc',\n",
       " '.condarc',\n",
       " 'Public',\n",
       " '.lyx',\n",
       " '.config',\n",
       " '.gitconfig',\n",
       " 'anaconda3',\n",
       " '.cache',\n",
       " 'snap',\n",
       " '.pylint.d',\n",
       " '.zcompdump-BUFFALO-5.8',\n",
       " 'Pictures',\n",
       " '.pki',\n",
       " '.wget-hsts',\n",
       " '.vim',\n",
       " '.python_history',\n",
       " '.mozilla',\n",
       " '.bash_logout',\n",
       " '.ssh',\n",
       " '.gnupg',\n",
       " '.java',\n",
       " '.profile',\n",
       " '.bash_history',\n",
       " 'Videos',\n",
       " 'Calibre Library',\n",
       " 'knowledge',\n",
       " '.pgadmin',\n",
       " 'PycharmProjects',\n",
       " '.viminfo',\n",
       " '.conda',\n",
       " 'IdeaProjects',\n",
       " '.android',\n",
       " 'share',\n",
       " '.texlive2019',\n",
       " '.vscode',\n",
       " '.vimrc',\n",
       " '.jupyter',\n",
       " 'src_git',\n",
       " 'Documents',\n",
       " '.continuum',\n",
       " 'practice.txt']"
      ]
     },
     "execution_count": 11,
     "metadata": {},
     "output_type": "execute_result"
    }
   ],
   "source": [
    "os.listdir('/home/ravik/')"
   ]
  },
  {
   "cell_type": "code",
   "execution_count": 12,
   "id": "c76d8a71",
   "metadata": {},
   "outputs": [],
   "source": [
    "import send2trash"
   ]
  },
  {
   "cell_type": "code",
   "execution_count": 13,
   "id": "742f7f73",
   "metadata": {},
   "outputs": [
    {
     "data": {
      "text/plain": [
       "'/home/ravik/src_git/LP/Z2H/section14/practice.txt'"
      ]
     },
     "execution_count": 13,
     "metadata": {},
     "output_type": "execute_result"
    }
   ],
   "source": [
    "shutil.move('/home/ravik/practice.txt', os.getcwd())"
   ]
  },
  {
   "cell_type": "code",
   "execution_count": 14,
   "id": "385fcb8d",
   "metadata": {},
   "outputs": [
    {
     "data": {
      "text/plain": [
       "['Collections Module.ipynb',\n",
       " 'Opening and Reading Files and Folders (Python OS module).ipynb',\n",
       " '.ipynb_checkpoints',\n",
       " 'practice.txt']"
      ]
     },
     "execution_count": 14,
     "metadata": {},
     "output_type": "execute_result"
    }
   ],
   "source": [
    "os.listdir()"
   ]
  },
  {
   "cell_type": "code",
   "execution_count": 15,
   "id": "7c9e81d3",
   "metadata": {},
   "outputs": [],
   "source": [
    "send2trash.send2trash('/home/ravik/src_git/LP/Z2H/section14/practice.txt')"
   ]
  },
  {
   "cell_type": "code",
   "execution_count": 16,
   "id": "b9af34ac",
   "metadata": {},
   "outputs": [
    {
     "data": {
      "text/plain": [
       "['Collections Module.ipynb',\n",
       " 'Opening and Reading Files and Folders (Python OS module).ipynb',\n",
       " '.ipynb_checkpoints']"
      ]
     },
     "execution_count": 16,
     "metadata": {},
     "output_type": "execute_result"
    }
   ],
   "source": [
    "os.listdir()"
   ]
  },
  {
   "cell_type": "code",
   "execution_count": 19,
   "id": "50dccb13",
   "metadata": {},
   "outputs": [],
   "source": [
    "file_path = '/home/ravik/src_git/LP/Z2H/section14'\n"
   ]
  },
  {
   "cell_type": "code",
   "execution_count": 24,
   "id": "b06a7e85",
   "metadata": {},
   "outputs": [
    {
     "name": "stdout",
     "output_type": "stream",
     "text": [
      "Currently looking at /home/ravik/src_git/LP/Z2H/section14\n",
      "\n",
      "\n",
      "The subfolders are: \n",
      "Subfolder: .ipynb_checkpoints\n",
      "\n",
      "\n",
      "the files are:\n",
      "File: Collections Module.ipynb\n",
      "File: Opening and Reading Files and Folders (Python OS module).ipynb\n",
      "\n",
      "\n",
      "Currently looking at /home/ravik/src_git/LP/Z2H/section14/.ipynb_checkpoints\n",
      "\n",
      "\n",
      "The subfolders are: \n",
      "\n",
      "\n",
      "the files are:\n",
      "File: Collections Module-checkpoint.ipynb\n",
      "File: Opening and Reading Files and Folders (Python OS module)-checkpoint.ipynb\n",
      "\n",
      "\n"
     ]
    }
   ],
   "source": [
    "for folder, sub_folders, files in os.walk(file_path):\n",
    "    print(f'Currently looking at {folder}')\n",
    "    print('\\n')\n",
    "    print('The subfolders are: ')\n",
    "    for i in sub_folders:\n",
    "        print(f'Subfolder: {i}')\n",
    "        \n",
    "    print('\\n')\n",
    "    print('the files are:')\n",
    "    for f in files:\n",
    "        print(f'File: {f}')\n",
    "    print('\\n')"
   ]
  },
  {
   "cell_type": "code",
   "execution_count": null,
   "id": "c413b982",
   "metadata": {},
   "outputs": [],
   "source": []
  }
 ],
 "metadata": {
  "kernelspec": {
   "display_name": "Python 3",
   "language": "python",
   "name": "python3"
  },
  "language_info": {
   "codemirror_mode": {
    "name": "ipython",
    "version": 3
   },
   "file_extension": ".py",
   "mimetype": "text/x-python",
   "name": "python",
   "nbconvert_exporter": "python",
   "pygments_lexer": "ipython3",
   "version": "3.8.8"
  }
 },
 "nbformat": 4,
 "nbformat_minor": 5
}
