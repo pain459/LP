{
 "cells": [
  {
   "cell_type": "code",
   "execution_count": 1,
   "id": "fb85f81e",
   "metadata": {
    "execution": {
     "iopub.execute_input": "2021-10-11T20:00:23.041040Z",
     "iopub.status.busy": "2021-10-11T20:00:23.040574Z",
     "iopub.status.idle": "2021-10-11T20:00:23.145917Z",
     "shell.execute_reply": "2021-10-11T20:00:23.144898Z",
     "shell.execute_reply.started": "2021-10-11T20:00:23.040931Z"
    }
   },
   "outputs": [],
   "source": [
    "def func_one(n):\n",
    "    return [str(num) for num in range(n)]"
   ]
  },
  {
   "cell_type": "code",
   "execution_count": 2,
   "id": "3f134d9b",
   "metadata": {
    "execution": {
     "iopub.execute_input": "2021-10-11T20:00:30.509757Z",
     "iopub.status.busy": "2021-10-11T20:00:30.509471Z",
     "iopub.status.idle": "2021-10-11T20:00:30.523424Z",
     "shell.execute_reply": "2021-10-11T20:00:30.522908Z",
     "shell.execute_reply.started": "2021-10-11T20:00:30.509731Z"
    }
   },
   "outputs": [
    {
     "data": {
      "text/plain": [
       "['0', '1', '2', '3', '4', '5', '6', '7', '8', '9']"
      ]
     },
     "execution_count": 2,
     "metadata": {},
     "output_type": "execute_result"
    }
   ],
   "source": [
    "func_one(10)"
   ]
  },
  {
   "cell_type": "code",
   "execution_count": 3,
   "id": "d987dade",
   "metadata": {
    "execution": {
     "iopub.execute_input": "2021-10-11T20:00:59.997993Z",
     "iopub.status.busy": "2021-10-11T20:00:59.997649Z",
     "iopub.status.idle": "2021-10-11T20:01:00.004897Z",
     "shell.execute_reply": "2021-10-11T20:01:00.004380Z",
     "shell.execute_reply.started": "2021-10-11T20:00:59.997966Z"
    }
   },
   "outputs": [],
   "source": [
    "def func_two(n):\n",
    "    return list(map(str, range(n)))"
   ]
  },
  {
   "cell_type": "code",
   "execution_count": 4,
   "id": "6b80cb74",
   "metadata": {
    "execution": {
     "iopub.execute_input": "2021-10-11T20:01:05.638323Z",
     "iopub.status.busy": "2021-10-11T20:01:05.638022Z",
     "iopub.status.idle": "2021-10-11T20:01:05.646535Z",
     "shell.execute_reply": "2021-10-11T20:01:05.645894Z",
     "shell.execute_reply.started": "2021-10-11T20:01:05.638297Z"
    }
   },
   "outputs": [
    {
     "data": {
      "text/plain": [
       "['0', '1', '2', '3', '4', '5', '6', '7', '8', '9']"
      ]
     },
     "execution_count": 4,
     "metadata": {},
     "output_type": "execute_result"
    }
   ],
   "source": [
    "func_two(10)"
   ]
  },
  {
   "cell_type": "code",
   "execution_count": 5,
   "id": "58e28399",
   "metadata": {
    "execution": {
     "iopub.execute_input": "2021-10-11T20:01:27.357308Z",
     "iopub.status.busy": "2021-10-11T20:01:27.357005Z",
     "iopub.status.idle": "2021-10-11T20:01:27.364620Z",
     "shell.execute_reply": "2021-10-11T20:01:27.363987Z",
     "shell.execute_reply.started": "2021-10-11T20:01:27.357281Z"
    }
   },
   "outputs": [],
   "source": [
    "import time\n",
    "\n",
    "# limitation is it is hard to catch the run time if the command complete fast. 1/10 sec."
   ]
  },
  {
   "cell_type": "code",
   "execution_count": 7,
   "id": "d97c27dd",
   "metadata": {
    "execution": {
     "iopub.execute_input": "2021-10-11T20:03:42.429880Z",
     "iopub.status.busy": "2021-10-11T20:03:42.429587Z",
     "iopub.status.idle": "2021-10-11T20:03:42.709001Z",
     "shell.execute_reply": "2021-10-11T20:03:42.708441Z",
     "shell.execute_reply.started": "2021-10-11T20:03:42.429852Z"
    }
   },
   "outputs": [
    {
     "name": "stdout",
     "output_type": "stream",
     "text": [
      "0.2707972526550293\n"
     ]
    }
   ],
   "source": [
    "# current time before \n",
    "start_time = time.time()\n",
    "# run code\n",
    "result = func_one(1000000)\n",
    "# current time after running code\n",
    "end_time = time.time()\n",
    "# elapsed time\n",
    "elapsed_time = end_time - start_time\n",
    "\n",
    "print(elapsed_time)"
   ]
  },
  {
   "cell_type": "code",
   "execution_count": 8,
   "id": "1a77755a",
   "metadata": {
    "execution": {
     "iopub.execute_input": "2021-10-11T20:03:59.286154Z",
     "iopub.status.busy": "2021-10-11T20:03:59.285872Z",
     "iopub.status.idle": "2021-10-11T20:03:59.543056Z",
     "shell.execute_reply": "2021-10-11T20:03:59.542369Z",
     "shell.execute_reply.started": "2021-10-11T20:03:59.286129Z"
    }
   },
   "outputs": [
    {
     "name": "stdout",
     "output_type": "stream",
     "text": [
      "0.24785494804382324\n"
     ]
    }
   ],
   "source": [
    "# current time before \n",
    "start_time = time.time()\n",
    "# run code\n",
    "result = func_two(1000000)\n",
    "# current time after running code\n",
    "end_time = time.time()\n",
    "# elapsed time\n",
    "elapsed_time = end_time - start_time\n",
    "\n",
    "print(elapsed_time)"
   ]
  },
  {
   "cell_type": "code",
   "execution_count": 9,
   "id": "7709d9e3",
   "metadata": {
    "execution": {
     "iopub.execute_input": "2021-10-11T20:05:57.014938Z",
     "iopub.status.busy": "2021-10-11T20:05:57.014568Z",
     "iopub.status.idle": "2021-10-11T20:05:57.022376Z",
     "shell.execute_reply": "2021-10-11T20:05:57.021840Z",
     "shell.execute_reply.started": "2021-10-11T20:05:57.014909Z"
    }
   },
   "outputs": [],
   "source": [
    "# We will use timeit module now."
   ]
  },
  {
   "cell_type": "code",
   "execution_count": 10,
   "id": "a0a0f8d4",
   "metadata": {
    "execution": {
     "iopub.execute_input": "2021-10-11T20:06:02.165794Z",
     "iopub.status.busy": "2021-10-11T20:06:02.165428Z",
     "iopub.status.idle": "2021-10-11T20:06:02.172142Z",
     "shell.execute_reply": "2021-10-11T20:06:02.171644Z",
     "shell.execute_reply.started": "2021-10-11T20:06:02.165767Z"
    }
   },
   "outputs": [],
   "source": [
    "import timeit"
   ]
  },
  {
   "cell_type": "code",
   "execution_count": 19,
   "id": "5873ff0f",
   "metadata": {
    "execution": {
     "iopub.execute_input": "2021-10-11T20:10:10.639739Z",
     "iopub.status.busy": "2021-10-11T20:10:10.639451Z",
     "iopub.status.idle": "2021-10-11T20:10:10.646010Z",
     "shell.execute_reply": "2021-10-11T20:10:10.645505Z",
     "shell.execute_reply.started": "2021-10-11T20:10:10.639713Z"
    }
   },
   "outputs": [],
   "source": [
    "stmt = '''\n",
    "func_one(100)\n",
    "'''"
   ]
  },
  {
   "cell_type": "code",
   "execution_count": 20,
   "id": "32885bf6",
   "metadata": {
    "execution": {
     "iopub.execute_input": "2021-10-11T20:10:11.154692Z",
     "iopub.status.busy": "2021-10-11T20:10:11.154403Z",
     "iopub.status.idle": "2021-10-11T20:10:11.160994Z",
     "shell.execute_reply": "2021-10-11T20:10:11.160460Z",
     "shell.execute_reply.started": "2021-10-11T20:10:11.154666Z"
    }
   },
   "outputs": [],
   "source": [
    "setup = '''\n",
    "def func_one(n):\n",
    "    return [str(num) for num in range(n)]\n",
    "'''"
   ]
  },
  {
   "cell_type": "code",
   "execution_count": 25,
   "id": "fc19cc0b",
   "metadata": {
    "execution": {
     "iopub.execute_input": "2021-10-11T20:10:32.787563Z",
     "iopub.status.busy": "2021-10-11T20:10:32.787252Z",
     "iopub.status.idle": "2021-10-11T20:10:50.850489Z",
     "shell.execute_reply": "2021-10-11T20:10:50.849829Z",
     "shell.execute_reply.started": "2021-10-11T20:10:32.787537Z"
    }
   },
   "outputs": [
    {
     "data": {
      "text/plain": [
       "18.05324202403426"
      ]
     },
     "execution_count": 25,
     "metadata": {},
     "output_type": "execute_result"
    }
   ],
   "source": [
    "timeit.timeit(stmt, setup, number=1000000)"
   ]
  },
  {
   "cell_type": "code",
   "execution_count": 22,
   "id": "53a571d6",
   "metadata": {
    "execution": {
     "iopub.execute_input": "2021-10-11T20:10:17.020843Z",
     "iopub.status.busy": "2021-10-11T20:10:17.020543Z",
     "iopub.status.idle": "2021-10-11T20:10:17.029238Z",
     "shell.execute_reply": "2021-10-11T20:10:17.028670Z",
     "shell.execute_reply.started": "2021-10-11T20:10:17.020816Z"
    }
   },
   "outputs": [],
   "source": [
    "stmt2 = '''\n",
    "func_two(100)\n",
    "'''"
   ]
  },
  {
   "cell_type": "code",
   "execution_count": 23,
   "id": "c3b8e91d",
   "metadata": {
    "execution": {
     "iopub.execute_input": "2021-10-11T20:10:17.938896Z",
     "iopub.status.busy": "2021-10-11T20:10:17.938541Z",
     "iopub.status.idle": "2021-10-11T20:10:17.945072Z",
     "shell.execute_reply": "2021-10-11T20:10:17.944510Z",
     "shell.execute_reply.started": "2021-10-11T20:10:17.938869Z"
    }
   },
   "outputs": [],
   "source": [
    "setup2 = '''\n",
    "def func_two(n):\n",
    "    return list(map(str, range(n)))\n",
    "'''"
   ]
  },
  {
   "cell_type": "code",
   "execution_count": 26,
   "id": "b81ff601",
   "metadata": {
    "execution": {
     "iopub.execute_input": "2021-10-11T20:10:50.852123Z",
     "iopub.status.busy": "2021-10-11T20:10:50.851883Z",
     "iopub.status.idle": "2021-10-11T20:11:04.698515Z",
     "shell.execute_reply": "2021-10-11T20:11:04.697858Z",
     "shell.execute_reply.started": "2021-10-11T20:10:50.852096Z"
    }
   },
   "outputs": [
    {
     "data": {
      "text/plain": [
       "13.834839173825458"
      ]
     },
     "execution_count": 26,
     "metadata": {},
     "output_type": "execute_result"
    }
   ],
   "source": [
    "timeit.timeit(stmt2, setup2, number=1000000)"
   ]
  },
  {
   "cell_type": "code",
   "execution_count": 27,
   "id": "3f357423",
   "metadata": {
    "execution": {
     "iopub.execute_input": "2021-10-11T20:11:33.402830Z",
     "iopub.status.busy": "2021-10-11T20:11:33.402521Z",
     "iopub.status.idle": "2021-10-11T20:11:33.411142Z",
     "shell.execute_reply": "2021-10-11T20:11:33.410553Z",
     "shell.execute_reply.started": "2021-10-11T20:11:33.402801Z"
    }
   },
   "outputs": [],
   "source": [
    "# magic method ony for jupyter notebook"
   ]
  },
  {
   "cell_type": "code",
   "execution_count": 28,
   "id": "d9955994",
   "metadata": {
    "execution": {
     "iopub.execute_input": "2021-10-11T20:11:48.433110Z",
     "iopub.status.busy": "2021-10-11T20:11:48.432749Z",
     "iopub.status.idle": "2021-10-11T20:12:03.290751Z",
     "shell.execute_reply": "2021-10-11T20:12:03.290182Z",
     "shell.execute_reply.started": "2021-10-11T20:11:48.433084Z"
    }
   },
   "outputs": [
    {
     "name": "stdout",
     "output_type": "stream",
     "text": [
      "18.3 µs ± 23.1 ns per loop (mean ± std. dev. of 7 runs, 100000 loops each)\n"
     ]
    }
   ],
   "source": [
    "%%timeit\n",
    "func_one(100)"
   ]
  },
  {
   "cell_type": "code",
   "execution_count": 29,
   "id": "52cd79b7",
   "metadata": {
    "execution": {
     "iopub.execute_input": "2021-10-11T20:12:03.292024Z",
     "iopub.status.busy": "2021-10-11T20:12:03.291798Z",
     "iopub.status.idle": "2021-10-11T20:12:14.515516Z",
     "shell.execute_reply": "2021-10-11T20:12:14.514846Z",
     "shell.execute_reply.started": "2021-10-11T20:12:03.291999Z"
    }
   },
   "outputs": [
    {
     "name": "stdout",
     "output_type": "stream",
     "text": [
      "13.8 µs ± 22.2 ns per loop (mean ± std. dev. of 7 runs, 100000 loops each)\n"
     ]
    }
   ],
   "source": [
    "%%timeit\n",
    "func_two(100)"
   ]
  },
  {
   "cell_type": "code",
   "execution_count": null,
   "id": "9ee13d83",
   "metadata": {},
   "outputs": [],
   "source": []
  }
 ],
 "metadata": {
  "kernelspec": {
   "display_name": "Python 3 (ipykernel)",
   "language": "python",
   "name": "python3"
  },
  "language_info": {
   "codemirror_mode": {
    "name": "ipython",
    "version": 3
   },
   "file_extension": ".py",
   "mimetype": "text/x-python",
   "name": "python",
   "nbconvert_exporter": "python",
   "pygments_lexer": "ipython3",
   "version": "3.7.4"
  }
 },
 "nbformat": 4,
 "nbformat_minor": 5
}
