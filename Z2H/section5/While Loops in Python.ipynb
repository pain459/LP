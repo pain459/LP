{
 "cells": [
  {
   "cell_type": "code",
   "execution_count": 1,
   "id": "6f4da2ff",
   "metadata": {},
   "outputs": [
    {
     "name": "stdout",
     "output_type": "stream",
     "text": [
      "0\n",
      "1\n",
      "2\n",
      "3\n",
      "4\n"
     ]
    }
   ],
   "source": [
    "i = 0\n",
    "while i < 5:\n",
    "    print(i)\n",
    "    i += 1"
   ]
  },
  {
   "cell_type": "code",
   "execution_count": 4,
   "id": "ef69b6b6",
   "metadata": {},
   "outputs": [
    {
     "name": "stdout",
     "output_type": "stream",
     "text": [
      "Current value is: 10\n",
      "Current value is: 9\n",
      "Current value is: 8\n",
      "Current value is: 7\n",
      "Current value is: 6\n",
      "Current value is: 5\n",
      "Current value is: 4\n",
      "Current value is: 3\n",
      "Current value is: 2\n",
      "Current value is: 1\n",
      "i is no longer greater than 0\n"
     ]
    }
   ],
   "source": [
    "i = 10\n",
    "while i > 0:\n",
    "    print(f'Current value is: {i}')\n",
    "    i -= 1\n",
    "else:\n",
    "    print('i is no longer greater than 0')"
   ]
  },
  {
   "cell_type": "code",
   "execution_count": 14,
   "id": "6bbf4680",
   "metadata": {},
   "outputs": [
    {
     "name": "stdout",
     "output_type": "stream",
     "text": [
      "This wont print\n",
      "This wont print\n",
      "This wont print\n",
      "This wont print\n",
      "This will only print\n",
      "100\n"
     ]
    }
   ],
   "source": [
    "y = 0\n",
    "x = list(range(4))\n",
    "for i in x:\n",
    "    pass\n",
    "    print('This wont print')\n",
    "    y = 100\n",
    "print('This will only print')\n",
    "print(y)"
   ]
  },
  {
   "cell_type": "code",
   "execution_count": 13,
   "id": "63e4259d",
   "metadata": {},
   "outputs": [
    {
     "name": "stdout",
     "output_type": "stream",
     "text": [
      "This will be printed\n",
      "0\n"
     ]
    }
   ],
   "source": [
    "_ = list\n",
    "y = 0\n",
    "x = _(range(1, 11))\n",
    "for i in x:\n",
    "    break\n",
    "    y = 100\n",
    "    print('Nope. This will not print either')\n",
    "print('This will be printed')\n",
    "print(y)"
   ]
  },
  {
   "cell_type": "code",
   "execution_count": 17,
   "id": "8a17a044",
   "metadata": {},
   "outputs": [
    {
     "name": "stdout",
     "output_type": "stream",
     "text": [
      "i is now 1\n",
      "i is now 2\n",
      "i is now 3\n",
      "i is now 4\n",
      "i is now 5\n",
      "This will print\n",
      "0\n"
     ]
    }
   ],
   "source": [
    "_ = list\n",
    "y = 0\n",
    "x = _(range(1, 6))\n",
    "for i in x:\n",
    "    print(f'i is now {i}')\n",
    "    continue\n",
    "    print(\"This won't print!\")\n",
    "    y = 100\n",
    "print(\"This will print\")\n",
    "print(y)"
   ]
  },
  {
   "cell_type": "code",
   "execution_count": 19,
   "id": "5650eec1",
   "metadata": {},
   "outputs": [
    {
     "name": "stdout",
     "output_type": "stream",
     "text": [
      "m\n",
      "i\n",
      "i\n",
      "i\n",
      "p\n",
      "p\n",
      "i\n"
     ]
    }
   ],
   "source": [
    "name1 = 'mississippi'\n",
    "for i in name1:   # loop\n",
    "    if i == 's':  # statement\n",
    "        continue\n",
    "        print(i)  # This won't kick in if i == 's'\n",
    "    else:\n",
    "        print(i)"
   ]
  },
  {
   "cell_type": "code",
   "execution_count": 21,
   "id": "66502cd5",
   "metadata": {},
   "outputs": [
    {
     "name": "stdout",
     "output_type": "stream",
     "text": [
      "0\n",
      "1\n"
     ]
    }
   ],
   "source": [
    "x = 0\n",
    "while x < 5:\n",
    "    if x == 2:\n",
    "        break\n",
    "    print(x)\n",
    "    x = x + 1"
   ]
  },
  {
   "cell_type": "code",
   "execution_count": null,
   "id": "88b43b96",
   "metadata": {},
   "outputs": [],
   "source": []
  }
 ],
 "metadata": {
  "kernelspec": {
   "display_name": "Python 3",
   "language": "python",
   "name": "python3"
  },
  "language_info": {
   "codemirror_mode": {
    "name": "ipython",
    "version": 3
   },
   "file_extension": ".py",
   "mimetype": "text/x-python",
   "name": "python",
   "nbconvert_exporter": "python",
   "pygments_lexer": "ipython3",
   "version": "3.8.8"
  }
 },
 "nbformat": 4,
 "nbformat_minor": 5
}
