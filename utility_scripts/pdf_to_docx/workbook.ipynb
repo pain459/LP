{
 "cells": [
  {
   "cell_type": "code",
   "execution_count": 1,
   "metadata": {},
   "outputs": [
    {
     "name": "stdout",
     "output_type": "stream",
     "text": [
      "Requirement already satisfied: pdf2docx in /home/ravik/src_git/LP/venv/lib/python3.12/site-packages (0.5.8)\n",
      "Requirement already satisfied: PyMuPDF>=1.19.0 in /home/ravik/src_git/LP/venv/lib/python3.12/site-packages (from pdf2docx) (1.24.9)\n",
      "Requirement already satisfied: python-docx>=0.8.10 in /home/ravik/src_git/LP/venv/lib/python3.12/site-packages (from pdf2docx) (1.1.2)\n",
      "Requirement already satisfied: fonttools>=4.24.0 in /home/ravik/src_git/LP/venv/lib/python3.12/site-packages (from pdf2docx) (4.53.1)\n",
      "Requirement already satisfied: numpy>=1.17.2 in /home/ravik/src_git/LP/venv/lib/python3.12/site-packages (from pdf2docx) (2.1.0)\n",
      "Requirement already satisfied: opencv-python-headless>=4.5 in /home/ravik/src_git/LP/venv/lib/python3.12/site-packages (from pdf2docx) (4.10.0.84)\n",
      "Requirement already satisfied: fire>=0.3.0 in /home/ravik/src_git/LP/venv/lib/python3.12/site-packages (from pdf2docx) (0.6.0)\n",
      "Requirement already satisfied: six in /home/ravik/src_git/LP/venv/lib/python3.12/site-packages (from fire>=0.3.0->pdf2docx) (1.16.0)\n",
      "Requirement already satisfied: termcolor in /home/ravik/src_git/LP/venv/lib/python3.12/site-packages (from fire>=0.3.0->pdf2docx) (2.4.0)\n",
      "Requirement already satisfied: PyMuPDFb==1.24.9 in /home/ravik/src_git/LP/venv/lib/python3.12/site-packages (from PyMuPDF>=1.19.0->pdf2docx) (1.24.9)\n",
      "Requirement already satisfied: lxml>=3.1.0 in /home/ravik/src_git/LP/venv/lib/python3.12/site-packages (from python-docx>=0.8.10->pdf2docx) (5.3.0)\n",
      "Requirement already satisfied: typing-extensions>=4.9.0 in /home/ravik/src_git/LP/venv/lib/python3.12/site-packages (from python-docx>=0.8.10->pdf2docx) (4.12.2)\n"
     ]
    }
   ],
   "source": [
    "!pip install pdf2docx"
   ]
  },
  {
   "cell_type": "code",
   "execution_count": 3,
   "metadata": {},
   "outputs": [],
   "source": [
    "from pdf2docx import Converter\n"
   ]
  },
  {
   "cell_type": "code",
   "execution_count": 4,
   "metadata": {},
   "outputs": [],
   "source": [
    "# Specify the file and output DOCX file\n",
    "pdf_fie = 'sample.pdf'\n",
    "docx_file = 'samle.docx'"
   ]
  },
  {
   "cell_type": "code",
   "execution_count": 5,
   "metadata": {},
   "outputs": [],
   "source": [
    "# Create a converter object\n",
    "cv = Converter(pdf_file=pdf_fie)"
   ]
  },
  {
   "cell_type": "code",
   "execution_count": 6,
   "metadata": {},
   "outputs": [
    {
     "name": "stderr",
     "output_type": "stream",
     "text": [
      "[INFO] Start to convert sample.pdf\n",
      "[INFO] \u001b[1;36m[1/4] Opening document...\u001b[0m\n",
      "[INFO] \u001b[1;36m[2/4] Analyzing document...\u001b[0m\n",
      "[INFO] \u001b[1;36m[3/4] Parsing pages...\u001b[0m\n",
      "[INFO] (1/1) Page 1\n",
      "[INFO] \u001b[1;36m[4/4] Creating pages...\u001b[0m\n",
      "[INFO] (1/1) Page 1\n",
      "[INFO] Terminated in 0.21s.\n"
     ]
    }
   ],
   "source": [
    "# Convert the file to DOCX format\n",
    "cv.convert(docx_file, start=0, end=None) # page range. None indicates to the end"
   ]
  },
  {
   "cell_type": "code",
   "execution_count": 7,
   "metadata": {},
   "outputs": [],
   "source": [
    "cv.close()"
   ]
  },
  {
   "cell_type": "code",
   "execution_count": null,
   "metadata": {},
   "outputs": [],
   "source": []
  }
 ],
 "metadata": {
  "kernelspec": {
   "display_name": "env",
   "language": "python",
   "name": "python3"
  },
  "language_info": {
   "codemirror_mode": {
    "name": "ipython",
    "version": 3
   },
   "file_extension": ".py",
   "mimetype": "text/x-python",
   "name": "python",
   "nbconvert_exporter": "python",
   "pygments_lexer": "ipython3",
   "version": "3.12.3"
  }
 },
 "nbformat": 4,
 "nbformat_minor": 2
}
