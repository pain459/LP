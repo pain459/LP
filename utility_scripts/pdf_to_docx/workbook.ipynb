{
 "cells": [
  {
   "cell_type": "code",
   "execution_count": 1,
   "metadata": {},
   "outputs": [
    {
     "name": "stdout",
     "output_type": "stream",
     "text": [
      "Requirement already satisfied: pdf2docx in ./venv/lib/python3.12/site-packages (0.5.8)\n",
      "Requirement already satisfied: PyMuPDF>=1.19.0 in ./venv/lib/python3.12/site-packages (from pdf2docx) (1.24.9)\n",
      "Requirement already satisfied: python-docx>=0.8.10 in ./venv/lib/python3.12/site-packages (from pdf2docx) (1.1.2)\n",
      "Requirement already satisfied: fonttools>=4.24.0 in ./venv/lib/python3.12/site-packages (from pdf2docx) (4.53.1)\n",
      "Requirement already satisfied: numpy>=1.17.2 in ./venv/lib/python3.12/site-packages (from pdf2docx) (2.1.0)\n",
      "Requirement already satisfied: opencv-python-headless>=4.5 in ./venv/lib/python3.12/site-packages (from pdf2docx) (4.10.0.84)\n",
      "Requirement already satisfied: fire>=0.3.0 in ./venv/lib/python3.12/site-packages (from pdf2docx) (0.6.0)\n",
      "Requirement already satisfied: six in ./venv/lib/python3.12/site-packages (from fire>=0.3.0->pdf2docx) (1.16.0)\n",
      "Requirement already satisfied: termcolor in ./venv/lib/python3.12/site-packages (from fire>=0.3.0->pdf2docx) (2.4.0)\n",
      "Requirement already satisfied: PyMuPDFb==1.24.9 in ./venv/lib/python3.12/site-packages (from PyMuPDF>=1.19.0->pdf2docx) (1.24.9)\n",
      "Requirement already satisfied: lxml>=3.1.0 in ./venv/lib/python3.12/site-packages (from python-docx>=0.8.10->pdf2docx) (5.3.0)\n",
      "Requirement already satisfied: typing-extensions>=4.9.0 in ./venv/lib/python3.12/site-packages (from python-docx>=0.8.10->pdf2docx) (4.12.2)\n"
     ]
    }
   ],
   "source": [
    "!pip install pdf2docx"
   ]
  },
  {
   "cell_type": "code",
   "execution_count": null,
   "metadata": {},
   "outputs": [],
   "source": []
  }
 ],
 "metadata": {
  "kernelspec": {
   "display_name": "env",
   "language": "python",
   "name": "python3"
  },
  "language_info": {
   "name": "python"
  }
 },
 "nbformat": 4,
 "nbformat_minor": 2
}
