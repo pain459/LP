{
 "cells": [
  {
   "cell_type": "code",
   "execution_count": 2,
   "metadata": {},
   "outputs": [],
   "source": [
    "# library imports\n",
    "\n",
    "import dash\n",
    "from dash import dcc, html\n",
    "from dash.dependencies import Input, Output\n",
    "import plotly.express as px\n",
    "import pandas as pd\n",
    "\n",
    "# Initialize the Dash app\n",
    "app = dash.Dash(__name__)\n",
    "app.title = \"Interactive Sales Dashboard\""
   ]
  },
  {
   "cell_type": "code",
   "execution_count": 4,
   "metadata": {},
   "outputs": [],
   "source": [
    "# Load sample sales data\n",
    "# Replace with actual data or a path to your CSV file\n",
    "df = pd.read_csv('sales_data.csv')\n",
    "\n",
    "# Ensure date is in datetime format\n",
    "df['Date'] = pd.to_datetime(df['Date'])\n"
   ]
  },
  {
   "cell_type": "code",
   "execution_count": 5,
   "metadata": {},
   "outputs": [
    {
     "data": {
      "text/html": [
       "<div>\n",
       "<style scoped>\n",
       "    .dataframe tbody tr th:only-of-type {\n",
       "        vertical-align: middle;\n",
       "    }\n",
       "\n",
       "    .dataframe tbody tr th {\n",
       "        vertical-align: top;\n",
       "    }\n",
       "\n",
       "    .dataframe thead th {\n",
       "        text-align: right;\n",
       "    }\n",
       "</style>\n",
       "<table border=\"1\" class=\"dataframe\">\n",
       "  <thead>\n",
       "    <tr style=\"text-align: right;\">\n",
       "      <th></th>\n",
       "      <th>Date</th>\n",
       "      <th>Product Category</th>\n",
       "      <th>Region</th>\n",
       "      <th>Sales Amount</th>\n",
       "      <th>Units Sold</th>\n",
       "    </tr>\n",
       "  </thead>\n",
       "  <tbody>\n",
       "    <tr>\n",
       "      <th>0</th>\n",
       "      <td>2024-07-08</td>\n",
       "      <td>Furniture</td>\n",
       "      <td>North</td>\n",
       "      <td>2212.66</td>\n",
       "      <td>12</td>\n",
       "    </tr>\n",
       "    <tr>\n",
       "      <th>1</th>\n",
       "      <td>2024-02-23</td>\n",
       "      <td>Furniture</td>\n",
       "      <td>West</td>\n",
       "      <td>4054.13</td>\n",
       "      <td>7</td>\n",
       "    </tr>\n",
       "    <tr>\n",
       "      <th>2</th>\n",
       "      <td>2024-10-29</td>\n",
       "      <td>Office Supplies</td>\n",
       "      <td>North</td>\n",
       "      <td>2718.40</td>\n",
       "      <td>13</td>\n",
       "    </tr>\n",
       "    <tr>\n",
       "      <th>3</th>\n",
       "      <td>2024-07-28</td>\n",
       "      <td>Furniture</td>\n",
       "      <td>West</td>\n",
       "      <td>3303.49</td>\n",
       "      <td>5</td>\n",
       "    </tr>\n",
       "    <tr>\n",
       "      <th>4</th>\n",
       "      <td>2024-04-27</td>\n",
       "      <td>Furniture</td>\n",
       "      <td>North</td>\n",
       "      <td>3223.86</td>\n",
       "      <td>13</td>\n",
       "    </tr>\n",
       "  </tbody>\n",
       "</table>\n",
       "</div>"
      ],
      "text/plain": [
       "        Date Product Category Region  Sales Amount  Units Sold\n",
       "0 2024-07-08        Furniture  North       2212.66          12\n",
       "1 2024-02-23        Furniture   West       4054.13           7\n",
       "2 2024-10-29  Office Supplies  North       2718.40          13\n",
       "3 2024-07-28        Furniture   West       3303.49           5\n",
       "4 2024-04-27        Furniture  North       3223.86          13"
      ]
     },
     "execution_count": 5,
     "metadata": {},
     "output_type": "execute_result"
    }
   ],
   "source": [
    "df.head()"
   ]
  },
  {
   "cell_type": "code",
   "execution_count": 7,
   "metadata": {},
   "outputs": [],
   "source": [
    "# Step 4: Create Dashboard Layout\n",
    "\n",
    "app.layout = html.Div([\n",
    "    html.H1(\"Sales Dashboard\", style={'text-align': 'center'}),\n",
    "\n",
    "    # Date range filter\n",
    "    dcc.DatePickerRange(\n",
    "        id='date-picker',\n",
    "        min_date_allowed=df['Date'].min(),\n",
    "        max_date_allowed=df['Date'].max(),\n",
    "        start_date=df['Date'].min(),\n",
    "        end_date=df['Date'].max()\n",
    "    ),\n",
    "\n",
    "    # Dropdowns for category and region filters\n",
    "    html.Div([\n",
    "        html.Label(\"Product Category\"),\n",
    "        dcc.Dropdown(\n",
    "            id='category-dropdown',\n",
    "            options=[{'label': cat, 'value': cat} for cat in df['Product Category'].unique()],\n",
    "            multi=True\n",
    "        )\n",
    "    ], style={'width': '30%', 'display': 'inline-block'}),\n",
    "\n",
    "    html.Div([\n",
    "        html.Label(\"Region\"),\n",
    "        dcc.Dropdown(\n",
    "            id='region-dropdown',\n",
    "            options=[{'label': region, 'value': region} for region in df['Region'].unique()],\n",
    "            multi=True\n",
    "        )\n",
    "    ], style={'width': '30%', 'display': 'inline-block'}),\n",
    "\n",
    "    # KPIs and charts placeholders\n",
    "    html.Div(id=\"kpi-section\", style={'display': 'flex', 'justify-content': 'space-around'}),\n",
    "\n",
    "    dcc.Graph(id='sales-trend-chart'),\n",
    "    dcc.Graph(id='category-breakdown-chart'),\n",
    "    dcc.Graph(id='region-sales-map'),\n",
    "    dcc.Graph(id='customer-segmentation-pie')\n",
    "])"
   ]
  },
  {
   "cell_type": "code",
   "execution_count": 8,
   "metadata": {},
   "outputs": [],
   "source": [
    "# Step 5: Add Callback Functions for Interactivity\n",
    "\n",
    "@app.callback(\n",
    "    Output('sales-trend-chart', 'figure'),\n",
    "    [Input('date-picker', 'start_date'),\n",
    "     Input('date-picker', 'end_date'),\n",
    "     Input('category-dropdown', 'value'),\n",
    "     Input('region-dropdown', 'value')]\n",
    ")\n",
    "def update_sales_trend(start_date, end_date, selected_categories, selected_regions):\n",
    "    # Filter data based on user inputs\n",
    "    filtered_df = df[(df['Date'] >= start_date) & (df['Date'] <= end_date)]\n",
    "\n",
    "    if selected_categories:\n",
    "        filtered_df = filtered_df[filtered_df['Product Category'].isin(selected_categories)]\n",
    "    if selected_regions:\n",
    "        filtered_df = filtered_df[filtered_df['Region'].isin(selected_regions)]\n",
    "\n",
    "    # Create a line chart\n",
    "    fig = px.line(filtered_df, x='Date', y='Sales Amount', title=\"Sales Trend Over Time\")\n",
    "    return fig\n"
   ]
  },
  {
   "cell_type": "code",
   "execution_count": 9,
   "metadata": {},
   "outputs": [
    {
     "data": {
      "text/html": [
       "\n",
       "        <iframe\n",
       "            width=\"100%\"\n",
       "            height=\"650\"\n",
       "            src=\"http://127.0.0.1:8050/\"\n",
       "            frameborder=\"0\"\n",
       "            allowfullscreen\n",
       "            \n",
       "        ></iframe>\n",
       "        "
      ],
      "text/plain": [
       "<IPython.lib.display.IFrame at 0x20d7483c2f0>"
      ]
     },
     "metadata": {},
     "output_type": "display_data"
    }
   ],
   "source": [
    "# Step 6: Run the App\n",
    "\n",
    "if __name__ == '__main__':\n",
    "    app.run_server(debug=True)"
   ]
  },
  {
   "cell_type": "code",
   "execution_count": null,
   "metadata": {},
   "outputs": [],
   "source": []
  }
 ],
 "metadata": {
  "kernelspec": {
   "display_name": "venv",
   "language": "python",
   "name": "python3"
  },
  "language_info": {
   "codemirror_mode": {
    "name": "ipython",
    "version": 3
   },
   "file_extension": ".py",
   "mimetype": "text/x-python",
   "name": "python",
   "nbconvert_exporter": "python",
   "pygments_lexer": "ipython3",
   "version": "3.12.6"
  }
 },
 "nbformat": 4,
 "nbformat_minor": 2
}
