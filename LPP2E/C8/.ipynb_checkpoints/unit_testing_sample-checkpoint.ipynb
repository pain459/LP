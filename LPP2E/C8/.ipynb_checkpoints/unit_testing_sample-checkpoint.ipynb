{
 "cells": [
  {
   "cell_type": "markdown",
   "id": "ad879a80-150c-4ccf-b22c-5282c807be00",
   "metadata": {},
   "source": [
    "# Unit Testing"
   ]
  },
  {
   "cell_type": "markdown",
   "id": "0cf8f8e8-7781-4e1c-b8e8-7ad0f5facee1",
   "metadata": {},
   "source": [
    "### Testing a CSV generator"
   ]
  },
  {
   "cell_type": "code",
   "execution_count": 4,
   "id": "ae701ac3-0067-4693-b725-07d71e5bbbed",
   "metadata": {},
   "outputs": [],
   "source": [
    "# api.py\n",
    "import os\n",
    "import csv\n",
    "from copy import deepcopy\n",
    "\n",
    "from marshmallow import Schema, fields, pre_load\n",
    "from marshmallow.validate import Length, Range\n",
    "\n",
    "class UserSchema(Schema):\n",
    "    \"\"\"Represent a *valid* user.\"\"\"\n",
    "    email = fields.Email(required=True)\n",
    "    name = fields.String(required=True, validate=Length(min=1))\n",
    "    age = fields.Integer(required=True, validate=Range(min=18, max=65))\n",
    "    role = fields.String()\n",
    "    \n",
    "    @pre_load(pass_many=False)\n",
    "    def strip_name(self, data):\n",
    "        data_copy = deepcopy(data)\n",
    "        \n",
    "        try:\n",
    "            data_copy['name'] = data_copy['name'].strip()\n",
    "        except (AttributeError, KeyError, TypeError):\n",
    "            pass\n",
    "        \n",
    "        return data_copy\n",
    "    \n",
    "schema = UserSchema()\n",
    "\n",
    "def export(filename, users, overwrite=True):\n",
    "    if not overwrite and os.path.isfile(filename):\n",
    "        raise IOError(f\"'{filename}' already exists.\")\n",
    "    \n",
    "    valid_users = get_valid_users(users)\n",
    "    write_csv(filename, valid_users)\n",
    "    \n",
    "def get_valid_users(users):\n",
    "    yield from filter(is_valid, users)\n",
    "    \n",
    "def is_valid(user):\n",
    "    return not schema.validate(user)\n",
    "\n",
    "def write_csv(filename, users):\n",
    "    fieldnames = ['email', 'name', 'age', 'role']\n",
    "    \n",
    "    with open(filename, 'x', newline='') as csvfile:\n",
    "        writer = csv.DictWriter(csvfile, fieldnames=fieldnames)\n",
    "        writer.writeheader()\n",
    "        for user in users:\n",
    "            writer.writerow(users)"
   ]
  },
  {
   "cell_type": "code",
   "execution_count": null,
   "id": "a5a1b020-b868-46d7-acce-556fce7fab3d",
   "metadata": {},
   "outputs": [],
   "source": []
  }
 ],
 "metadata": {
  "kernelspec": {
   "display_name": "Python 3 (ipykernel)",
   "language": "python",
   "name": "python3"
  },
  "language_info": {
   "codemirror_mode": {
    "name": "ipython",
    "version": 3
   },
   "file_extension": ".py",
   "mimetype": "text/x-python",
   "name": "python",
   "nbconvert_exporter": "python",
   "pygments_lexer": "ipython3",
   "version": "3.7.9"
  }
 },
 "nbformat": 4,
 "nbformat_minor": 5
}
