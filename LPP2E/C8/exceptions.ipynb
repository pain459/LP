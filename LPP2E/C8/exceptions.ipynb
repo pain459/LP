{
 "cells": [
  {
   "cell_type": "code",
   "execution_count": 1,
   "id": "ca47ff90-8501-416f-a040-ee7f4316caaf",
   "metadata": {},
   "outputs": [],
   "source": [
    "# first.example.py\n",
    "\n",
    "gen = (n for n in range(2))"
   ]
  },
  {
   "cell_type": "code",
   "execution_count": 2,
   "id": "a105709f-f5bf-4eba-bc33-57c8ad053e90",
   "metadata": {},
   "outputs": [
    {
     "data": {
      "text/plain": [
       "0"
      ]
     },
     "execution_count": 2,
     "metadata": {},
     "output_type": "execute_result"
    }
   ],
   "source": [
    "next(gen)"
   ]
  },
  {
   "cell_type": "code",
   "execution_count": 3,
   "id": "fe13368c-b788-49e8-85eb-b6adc8e381d4",
   "metadata": {},
   "outputs": [
    {
     "data": {
      "text/plain": [
       "1"
      ]
     },
     "execution_count": 3,
     "metadata": {},
     "output_type": "execute_result"
    }
   ],
   "source": [
    "next(gen)"
   ]
  },
  {
   "cell_type": "code",
   "execution_count": 4,
   "id": "32f0bec4-a779-4ef2-9166-c9e7fa73200b",
   "metadata": {},
   "outputs": [
    {
     "ename": "StopIteration",
     "evalue": "",
     "output_type": "error",
     "traceback": [
      "\u001b[1;31m---------------------------------------------------------------------------\u001b[0m",
      "\u001b[1;31mStopIteration\u001b[0m                             Traceback (most recent call last)",
      "\u001b[1;32m~\\AppData\\Local\\Temp/ipykernel_23024/4293081279.py\u001b[0m in \u001b[0;36m<module>\u001b[1;34m\u001b[0m\n\u001b[1;32m----> 1\u001b[1;33m \u001b[0mnext\u001b[0m\u001b[1;33m(\u001b[0m\u001b[0mgen\u001b[0m\u001b[1;33m)\u001b[0m\u001b[1;33m\u001b[0m\u001b[1;33m\u001b[0m\u001b[0m\n\u001b[0m",
      "\u001b[1;31mStopIteration\u001b[0m: "
     ]
    }
   ],
   "source": [
    "next(gen)"
   ]
  },
  {
   "cell_type": "code",
   "execution_count": 5,
   "id": "2ba8b142-5f7c-42bd-977b-d391b294722d",
   "metadata": {},
   "outputs": [
    {
     "ename": "NameError",
     "evalue": "name 'undefined_name' is not defined",
     "output_type": "error",
     "traceback": [
      "\u001b[1;31m---------------------------------------------------------------------------\u001b[0m",
      "\u001b[1;31mNameError\u001b[0m                                 Traceback (most recent call last)",
      "\u001b[1;32m~\\AppData\\Local\\Temp/ipykernel_23024/382649847.py\u001b[0m in \u001b[0;36m<module>\u001b[1;34m\u001b[0m\n\u001b[1;32m----> 1\u001b[1;33m \u001b[0mprint\u001b[0m\u001b[1;33m(\u001b[0m\u001b[0mundefined_name\u001b[0m\u001b[1;33m)\u001b[0m\u001b[1;33m\u001b[0m\u001b[1;33m\u001b[0m\u001b[0m\n\u001b[0m",
      "\u001b[1;31mNameError\u001b[0m: name 'undefined_name' is not defined"
     ]
    }
   ],
   "source": [
    "print(undefined_name)"
   ]
  },
  {
   "cell_type": "code",
   "execution_count": 6,
   "id": "4aa11991-169c-4304-b7a4-59469dc848f0",
   "metadata": {},
   "outputs": [
    {
     "name": "stdout",
     "output_type": "stream",
     "text": [
      "In the try block: 12/4\n",
      "The result is: 3.0\n",
      "Exiting\n",
      "3.0\n",
      "In the try block: 11/0\n",
      "division by zero\n",
      "Exiting\n",
      "None\n"
     ]
    }
   ],
   "source": [
    "# try.syntax.py\n",
    "\n",
    "def try_syntax(numerator, denominator):\n",
    "    try:\n",
    "        print(f'In the try block: {numerator}/{denominator}')\n",
    "        result = numerator / denominator\n",
    "        \n",
    "    except ZeroDivisionError as zde:\n",
    "        print(zde)\n",
    "    else:\n",
    "        print('The result is:', result)\n",
    "        return result\n",
    "    finally:\n",
    "        print('Exiting')\n",
    "        \n",
    "print(try_syntax(12, 4))\n",
    "print(try_syntax(11, 0))"
   ]
  },
  {
   "cell_type": "code",
   "execution_count": 7,
   "id": "66713dfc-dfbe-4012-b18f-5e66a625041e",
   "metadata": {},
   "outputs": [
    {
     "name": "stdout",
     "output_type": "stream",
     "text": [
      "79 99 95\n"
     ]
    }
   ],
   "source": [
    "# for.loop.exceptions.py\n",
    "\n",
    "n = 100\n",
    "found = False\n",
    "for a in range(n):\n",
    "    if found: break\n",
    "    for b in range(n):\n",
    "        if found: break\n",
    "        for c in range(n):\n",
    "            if 42 * a + 17 * b + c == 5096:\n",
    "                found = True\n",
    "                print(a, b, c)"
   ]
  },
  {
   "cell_type": "code",
   "execution_count": 9,
   "id": "f5a1910f-d648-43e3-a884-f8f3ec0a343d",
   "metadata": {},
   "outputs": [
    {
     "name": "stdout",
     "output_type": "stream",
     "text": [
      "(0, 0, 0)\n"
     ]
    }
   ],
   "source": [
    "# for.loop.oop.py\n",
    "\n",
    "class ExitLoopException(Exception):\n",
    "    pass\n",
    "\n",
    "try:\n",
    "    n = 100\n",
    "    for a in range(n):\n",
    "        for b in range(n):\n",
    "            for c in range(n):\n",
    "                if 42 * a + 17 * b + c == 5096:\n",
    "                    raise ExitLoopException(a, b, c)\n",
    "except ExitLoopException as ele:\n",
    "    print(ele)"
   ]
  },
  {
   "cell_type": "code",
   "execution_count": null,
   "id": "ef9bc7ab-d774-4803-b3e0-9a65e8864a62",
   "metadata": {},
   "outputs": [],
   "source": []
  }
 ],
 "metadata": {
  "kernelspec": {
   "display_name": "Python 3 (ipykernel)",
   "language": "python",
   "name": "python3"
  },
  "language_info": {
   "codemirror_mode": {
    "name": "ipython",
    "version": 3
   },
   "file_extension": ".py",
   "mimetype": "text/x-python",
   "name": "python",
   "nbconvert_exporter": "python",
   "pygments_lexer": "ipython3",
   "version": "3.7.9"
  }
 },
 "nbformat": 4,
 "nbformat_minor": 5
}
