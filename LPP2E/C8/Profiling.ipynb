{
 "cells": [
  {
   "cell_type": "code",
   "execution_count": 3,
   "id": "3cad402d-d3c2-4f93-bc4e-ba73a846f721",
   "metadata": {},
   "outputs": [],
   "source": [
    "# triples.py\n",
    "def calc_triples(mx):\n",
    "    triples = []\n",
    "    for a in range(1, mx + 1):\n",
    "        for b in range(a, mx + 1):\n",
    "            hypotenuese = calc_hypotenuese(a, b)\n",
    "            if is_int(hypotenuese):\n",
    "                triples.append((a, b, int(hypotenuese)))\n",
    "    return triples\n",
    "\n",
    "def calc_hypotenuese(a, b):\n",
    "    return (a**2 + b**2) ** .5\n",
    "\n",
    "def is_int(n):\n",
    "    return n.is_integer()\n",
    "\n",
    "triples = calc_triples(1000)"
   ]
  },
  {
   "cell_type": "code",
   "execution_count": null,
   "id": "241c8769-a4d4-460c-a716-1670cb85720e",
   "metadata": {},
   "outputs": [],
   "source": []
  }
 ],
 "metadata": {
  "kernelspec": {
   "display_name": "Python 3 (ipykernel)",
   "language": "python",
   "name": "python3"
  },
  "language_info": {
   "codemirror_mode": {
    "name": "ipython",
    "version": 3
   },
   "file_extension": ".py",
   "mimetype": "text/x-python",
   "name": "python",
   "nbconvert_exporter": "python",
   "pygments_lexer": "ipython3",
   "version": "3.7.9"
  }
 },
 "nbformat": 4,
 "nbformat_minor": 5
}
