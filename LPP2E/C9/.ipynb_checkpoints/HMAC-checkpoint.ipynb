{
 "cells": [
  {
   "cell_type": "code",
   "execution_count": 3,
   "id": "f610943d-2f7b-4704-a641-9544eb4ac1a9",
   "metadata": {},
   "outputs": [],
   "source": [
    "import hmac\n",
    "import hashlib\n",
    "\n",
    "def calc_digest(key, message):\n",
    "    key = bytes(key, 'utf-8')\n",
    "    message = bytes(message, 'utf-8')\n",
    "    dig = hmac.new(key, message, hashlib.sha256)\n",
    "    return dig.hexdigest()\n",
    "\n",
    "digest = calc_digest('secret-key', 'Important Message')"
   ]
  },
  {
   "cell_type": "code",
   "execution_count": 4,
   "id": "300185c3-a1f6-48c5-b369-b951abcdc36c",
   "metadata": {},
   "outputs": [
    {
     "name": "stdout",
     "output_type": "stream",
     "text": [
      "1db5d806d73d76e779b7fd31091e026362a64177368e82e0cab91e0c2fb6435e\n"
     ]
    }
   ],
   "source": [
    "print(digest)"
   ]
  },
  {
   "cell_type": "code",
   "execution_count": null,
   "id": "9df10136-d14b-4097-99db-d0fc4a0cd4b0",
   "metadata": {},
   "outputs": [],
   "source": []
  }
 ],
 "metadata": {
  "kernelspec": {
   "display_name": "Python 3 (ipykernel)",
   "language": "python",
   "name": "python3"
  },
  "language_info": {
   "codemirror_mode": {
    "name": "ipython",
    "version": 3
   },
   "file_extension": ".py",
   "mimetype": "text/x-python",
   "name": "python",
   "nbconvert_exporter": "python",
   "pygments_lexer": "ipython3",
   "version": "3.7.9"
  }
 },
 "nbformat": 4,
 "nbformat_minor": 5
}
