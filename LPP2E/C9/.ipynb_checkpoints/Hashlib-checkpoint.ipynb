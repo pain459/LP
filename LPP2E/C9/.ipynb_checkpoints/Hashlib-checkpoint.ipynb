{
 "cells": [
  {
   "cell_type": "code",
   "execution_count": 2,
   "id": "a9eb4405-18d3-4637-877a-8ccb83c341e2",
   "metadata": {},
   "outputs": [
    {
     "data": {
      "text/plain": [
       "{'blake2b',\n",
       " 'blake2s',\n",
       " 'md5',\n",
       " 'sha1',\n",
       " 'sha224',\n",
       " 'sha256',\n",
       " 'sha384',\n",
       " 'sha3_224',\n",
       " 'sha3_256',\n",
       " 'sha3_384',\n",
       " 'sha3_512',\n",
       " 'sha512',\n",
       " 'shake_128',\n",
       " 'shake_256'}"
      ]
     },
     "execution_count": 2,
     "metadata": {},
     "output_type": "execute_result"
    }
   ],
   "source": [
    "import hashlib\n",
    "hashlib.algorithms_available"
   ]
  },
  {
   "cell_type": "code",
   "execution_count": 3,
   "id": "07fdd92e-777a-4391-9149-f4e9f0328424",
   "metadata": {},
   "outputs": [
    {
     "data": {
      "text/plain": [
       "{'blake2b',\n",
       " 'blake2s',\n",
       " 'md5',\n",
       " 'sha1',\n",
       " 'sha224',\n",
       " 'sha256',\n",
       " 'sha384',\n",
       " 'sha3_224',\n",
       " 'sha3_256',\n",
       " 'sha3_384',\n",
       " 'sha3_512',\n",
       " 'sha512',\n",
       " 'shake_128',\n",
       " 'shake_256'}"
      ]
     },
     "execution_count": 3,
     "metadata": {},
     "output_type": "execute_result"
    }
   ],
   "source": [
    "hashlib.algorithms_guaranteed  # always pick one from this list"
   ]
  },
  {
   "cell_type": "code",
   "execution_count": 4,
   "id": "cb57e59c-68eb-4748-ae6f-e8f10abf2d46",
   "metadata": {},
   "outputs": [
    {
     "data": {
      "text/plain": [
       "'56441b566db9aafcf8cdad3a4729fa4b2bfaab0ada36155ece29f52ff70e1e9d7f54cacfe44bc97c7e904cf79944357d023877929430bc58eb2dae168e73cedf'"
      ]
     },
     "execution_count": 4,
     "metadata": {},
     "output_type": "execute_result"
    }
   ],
   "source": [
    "h = hashlib.blake2b()\n",
    "h.update(b'Hash me')\n",
    "h.update(b' now!')\n",
    "h.hexdigest()"
   ]
  },
  {
   "cell_type": "code",
   "execution_count": 5,
   "id": "bd245688-b689-4b3e-b9af-d5bebfeeb10e",
   "metadata": {},
   "outputs": [
    {
     "data": {
      "text/plain": [
       "b'VD\\x1bVm\\xb9\\xaa\\xfc\\xf8\\xcd\\xad:G)\\xfaK+\\xfa\\xab\\n\\xda6\\x15^\\xce)\\xf5/\\xf7\\x0e\\x1e\\x9d\\x7fT\\xca\\xcf\\xe4K\\xc9|~\\x90L\\xf7\\x99D5}\\x028w\\x92\\x940\\xbcX\\xeb-\\xae\\x16\\x8es\\xce\\xdf'"
      ]
     },
     "execution_count": 5,
     "metadata": {},
     "output_type": "execute_result"
    }
   ],
   "source": [
    "h.digest()"
   ]
  },
  {
   "cell_type": "code",
   "execution_count": 6,
   "id": "deefdf62-be4e-4727-b4cd-64376855e7f8",
   "metadata": {},
   "outputs": [
    {
     "data": {
      "text/plain": [
       "128"
      ]
     },
     "execution_count": 6,
     "metadata": {},
     "output_type": "execute_result"
    }
   ],
   "source": [
    "h.block_size"
   ]
  },
  {
   "cell_type": "code",
   "execution_count": 7,
   "id": "31585b4f-a483-4969-950c-9a70ef265869",
   "metadata": {},
   "outputs": [
    {
     "data": {
      "text/plain": [
       "64"
      ]
     },
     "execution_count": 7,
     "metadata": {},
     "output_type": "execute_result"
    }
   ],
   "source": [
    "h.digest_size"
   ]
  },
  {
   "cell_type": "code",
   "execution_count": 8,
   "id": "ca12df25-4040-4ff5-ba2c-0225a8970bc5",
   "metadata": {},
   "outputs": [
    {
     "data": {
      "text/plain": [
       "'blake2b'"
      ]
     },
     "execution_count": 8,
     "metadata": {},
     "output_type": "execute_result"
    }
   ],
   "source": [
    "h.name"
   ]
  },
  {
   "cell_type": "code",
   "execution_count": 9,
   "id": "9d2b87fd-d0c4-45f5-9e81-66790fed2ffa",
   "metadata": {},
   "outputs": [
    {
     "data": {
      "text/plain": [
       "'56441b566db9aafcf8cdad3a4729fa4b2bfaab0ada36155ece29f52ff70e1e9d7f54cacfe44bc97c7e904cf79944357d023877929430bc58eb2dae168e73cedf'"
      ]
     },
     "execution_count": 9,
     "metadata": {},
     "output_type": "execute_result"
    }
   ],
   "source": [
    "# doing all this in a single line\n",
    "hashlib.blake2b(b'Hash me now!').hexdigest()"
   ]
  },
  {
   "cell_type": "code",
   "execution_count": 10,
   "id": "031faa23-3056-4007-a19f-b97e1beadd3e",
   "metadata": {},
   "outputs": [
    {
     "data": {
      "text/plain": [
       "'10d561fa94a89a25ea0c7aa47708bdb353bbb062a17820292cd905a3a60d6783'"
      ]
     },
     "execution_count": 10,
     "metadata": {},
     "output_type": "execute_result"
    }
   ],
   "source": [
    "# using other algorithm\n",
    "hashlib.sha256(b'Hash me now!').hexdigest()"
   ]
  },
  {
   "cell_type": "code",
   "execution_count": 11,
   "id": "4f7b772e-99b5-4a28-8f04-863db6a55616",
   "metadata": {},
   "outputs": [],
   "source": [
    "# adding extra values of key, salt, person to generate new hash\n",
    "h = hashlib.blake2b(b'Important payload', digest_size=16, \n",
    "                    key=b'secret-key', salt=b'random-salt', person=b'fabrizio')"
   ]
  },
  {
   "cell_type": "code",
   "execution_count": 12,
   "id": "63b02d65-0ec8-49ad-9e96-8cc03fd6b9e5",
   "metadata": {},
   "outputs": [
    {
     "data": {
      "text/plain": [
       "'c2d63ead796d0d6d734a5c3c578b6e41'"
      ]
     },
     "execution_count": 12,
     "metadata": {},
     "output_type": "execute_result"
    }
   ],
   "source": [
    "h.hexdigest()"
   ]
  },
  {
   "cell_type": "code",
   "execution_count": 13,
   "id": "dc171ffc-6a58-4ca7-95bb-b7a122adf5f3",
   "metadata": {},
   "outputs": [
    {
     "ename": "ValueError",
     "evalue": "unsupported hash type",
     "output_type": "error",
     "traceback": [
      "\u001b[1;31m---------------------------------------------------------------------------\u001b[0m",
      "\u001b[1;31mValueError\u001b[0m                                Traceback (most recent call last)",
      "\u001b[1;32m~\\AppData\\Local\\Temp/ipykernel_33572/370986210.py\u001b[0m in \u001b[0;36m<module>\u001b[1;34m\u001b[0m\n\u001b[0;32m      2\u001b[0m \u001b[1;32mimport\u001b[0m \u001b[0mos\u001b[0m\u001b[1;33m\u001b[0m\u001b[1;33m\u001b[0m\u001b[0m\n\u001b[0;32m      3\u001b[0m \u001b[1;32mimport\u001b[0m \u001b[0mhashlib\u001b[0m\u001b[1;33m\u001b[0m\u001b[1;33m\u001b[0m\u001b[0m\n\u001b[1;32m----> 4\u001b[1;33m \u001b[0mdk\u001b[0m \u001b[1;33m=\u001b[0m \u001b[0mhashlib\u001b[0m\u001b[1;33m.\u001b[0m\u001b[0mpbkdf2_hmac\u001b[0m\u001b[1;33m(\u001b[0m\u001b[1;34m'sha265'\u001b[0m\u001b[1;33m,\u001b[0m \u001b[1;34mb'Password123'\u001b[0m\u001b[1;33m,\u001b[0m \u001b[0mos\u001b[0m\u001b[1;33m.\u001b[0m\u001b[0murandom\u001b[0m\u001b[1;33m(\u001b[0m\u001b[1;36m16\u001b[0m\u001b[1;33m)\u001b[0m\u001b[1;33m,\u001b[0m \u001b[1;36m100000\u001b[0m\u001b[1;33m)\u001b[0m\u001b[1;33m\u001b[0m\u001b[1;33m\u001b[0m\u001b[0m\n\u001b[0m\u001b[0;32m      5\u001b[0m \u001b[0mdk\u001b[0m\u001b[1;33m.\u001b[0m\u001b[0mhex\u001b[0m\u001b[1;33m(\u001b[0m\u001b[1;33m)\u001b[0m\u001b[1;33m\u001b[0m\u001b[1;33m\u001b[0m\u001b[0m\n",
      "\u001b[1;31mValueError\u001b[0m: unsupported hash type"
     ]
    }
   ],
   "source": [
    "# Hashing password properly\n",
    "import os\n",
    "import hashlib\n",
    "dk = hashlib.pbkdf2_hmac('sha265', b'Password123', os.urandom(16), 100000)\n",
    "dk.hex()\n",
    "\n",
    "# it appears that we don't have this algorithm installed."
   ]
  },
  {
   "cell_type": "code",
   "execution_count": null,
   "id": "e5b635c5-5cfe-49b3-843f-f2e3822cb0c2",
   "metadata": {},
   "outputs": [],
   "source": []
  }
 ],
 "metadata": {
  "kernelspec": {
   "display_name": "Python 3 (ipykernel)",
   "language": "python",
   "name": "python3"
  },
  "language_info": {
   "codemirror_mode": {
    "name": "ipython",
    "version": 3
   },
   "file_extension": ".py",
   "mimetype": "text/x-python",
   "name": "python",
   "nbconvert_exporter": "python",
   "pygments_lexer": "ipython3",
   "version": "3.7.9"
  }
 },
 "nbformat": 4,
 "nbformat_minor": 5
}
