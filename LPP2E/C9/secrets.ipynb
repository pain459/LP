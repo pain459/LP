{
 "cells": [
  {
   "cell_type": "markdown",
   "id": "ee7ad60b-8068-42de-9961-59ecd92f4e99",
   "metadata": {},
   "source": [
    "## Random numbers"
   ]
  },
  {
   "cell_type": "code",
   "execution_count": 9,
   "id": "31e5d7b7-9629-41eb-a778-7b2e79696e0e",
   "metadata": {},
   "outputs": [
    {
     "name": "stdout",
     "output_type": "stream",
     "text": [
      "one\n",
      "462682\n",
      "2522642752\n"
     ]
    }
   ],
   "source": [
    "# secr_rand.py\n",
    "import secrets\n",
    "print(secrets.choice('Choose one of these words'.split()))\n",
    "print(secrets.randbelow(10 ** 6))\n",
    "print(secrets.randbits(32))"
   ]
  },
  {
   "cell_type": "markdown",
   "id": "49e15328-a139-408e-825f-e052542e33f4",
   "metadata": {},
   "source": [
    "## Token generation"
   ]
  },
  {
   "cell_type": "code",
   "execution_count": 12,
   "id": "c349494a-3f89-4e14-ab0a-ba0570b01827",
   "metadata": {},
   "outputs": [
    {
     "name": "stdout",
     "output_type": "stream",
     "text": [
      "b'g\\xc4\\x10n\\x95\\xec\\xfdG\\x16r\\\\\\xec\\xbf\\xf6\\xc9d'\n",
      "61826d5c13408b2f0a5e2afa91f6d2029ce7c88660cf8264270953660d12a550\n",
      "U5U7ktOa2zK1U1CXUBjmOfEbBK0InQcRzs5g2L-ptdI\n"
     ]
    }
   ],
   "source": [
    "import secrets\n",
    "print(secrets.token_bytes(16))\n",
    "print(secrets.token_hex(32))\n",
    "print(secrets.token_urlsafe(32))"
   ]
  },
  {
   "cell_type": "code",
   "execution_count": 43,
   "id": "ef95160d-1b63-4cb5-9dab-ead27a6e3535",
   "metadata": {},
   "outputs": [
    {
     "ename": "ValueError",
     "evalue": "Nice try!",
     "output_type": "error",
     "traceback": [
      "\u001b[1;31m---------------------------------------------------------------------------\u001b[0m",
      "\u001b[1;31mValueError\u001b[0m                                Traceback (most recent call last)",
      "\u001b[1;32m~\\AppData\\Local\\Temp/ipykernel_28792/754554694.py\u001b[0m in \u001b[0;36m<module>\u001b[1;34m\u001b[0m\n\u001b[0;32m     19\u001b[0m             \u001b[1;32mreturn\u001b[0m \u001b[0mpwd\u001b[0m\u001b[1;33m\u001b[0m\u001b[1;33m\u001b[0m\u001b[0m\n\u001b[0;32m     20\u001b[0m \u001b[1;33m\u001b[0m\u001b[0m\n\u001b[1;32m---> 21\u001b[1;33m \u001b[0mprint\u001b[0m\u001b[1;33m(\u001b[0m\u001b[0mgenerate_secure_pwd\u001b[0m\u001b[1;33m(\u001b[0m\u001b[0mlength\u001b[0m\u001b[1;33m=\u001b[0m\u001b[1;36m2\u001b[0m\u001b[1;33m)\u001b[0m\u001b[1;33m)\u001b[0m\u001b[1;33m\u001b[0m\u001b[1;33m\u001b[0m\u001b[0m\n\u001b[0m\u001b[0;32m     22\u001b[0m \u001b[0mprint\u001b[0m\u001b[1;33m(\u001b[0m\u001b[0mgenerate_secure_pwd\u001b[0m\u001b[1;33m(\u001b[0m\u001b[0mlength\u001b[0m\u001b[1;33m=\u001b[0m\u001b[1;36m3\u001b[0m\u001b[1;33m,\u001b[0m \u001b[0mupper\u001b[0m\u001b[1;33m=\u001b[0m\u001b[1;36m1\u001b[0m\u001b[1;33m,\u001b[0m \u001b[0mdigits\u001b[0m\u001b[1;33m=\u001b[0m\u001b[1;36m1\u001b[0m\u001b[1;33m)\u001b[0m\u001b[1;33m)\u001b[0m\u001b[1;33m\u001b[0m\u001b[1;33m\u001b[0m\u001b[0m\n",
      "\u001b[1;32m~\\AppData\\Local\\Temp/ipykernel_28792/754554694.py\u001b[0m in \u001b[0;36mgenerate_secure_pwd\u001b[1;34m(length, upper, digits)\u001b[0m\n\u001b[0;32m     11\u001b[0m \u001b[1;32mdef\u001b[0m \u001b[0mgenerate_secure_pwd\u001b[0m\u001b[1;33m(\u001b[0m\u001b[0mlength\u001b[0m\u001b[1;33m=\u001b[0m\u001b[1;36m16\u001b[0m\u001b[1;33m,\u001b[0m \u001b[0mupper\u001b[0m\u001b[1;33m=\u001b[0m\u001b[1;36m3\u001b[0m\u001b[1;33m,\u001b[0m \u001b[0mdigits\u001b[0m\u001b[1;33m=\u001b[0m\u001b[1;36m3\u001b[0m\u001b[1;33m)\u001b[0m\u001b[1;33m:\u001b[0m\u001b[1;33m\u001b[0m\u001b[1;33m\u001b[0m\u001b[0m\n\u001b[0;32m     12\u001b[0m     \u001b[1;32mif\u001b[0m \u001b[0mlength\u001b[0m \u001b[1;33m<\u001b[0m \u001b[0mupper\u001b[0m \u001b[1;33m+\u001b[0m \u001b[0mdigits\u001b[0m \u001b[1;33m+\u001b[0m \u001b[1;36m1\u001b[0m\u001b[1;33m:\u001b[0m\u001b[1;33m\u001b[0m\u001b[1;33m\u001b[0m\u001b[0m\n\u001b[1;32m---> 13\u001b[1;33m         \u001b[1;32mraise\u001b[0m \u001b[0mValueError\u001b[0m\u001b[1;33m(\u001b[0m\u001b[1;34m\"Nice try!\"\u001b[0m\u001b[1;33m)\u001b[0m\u001b[1;33m\u001b[0m\u001b[1;33m\u001b[0m\u001b[0m\n\u001b[0m\u001b[0;32m     14\u001b[0m     \u001b[1;32mwhile\u001b[0m \u001b[1;32mTrue\u001b[0m\u001b[1;33m:\u001b[0m\u001b[1;33m\u001b[0m\u001b[1;33m\u001b[0m\u001b[0m\n\u001b[0;32m     15\u001b[0m         \u001b[0mpwd\u001b[0m \u001b[1;33m=\u001b[0m \u001b[0mgenerate_pwd\u001b[0m\u001b[1;33m(\u001b[0m\u001b[0mlength\u001b[0m\u001b[1;33m)\u001b[0m\u001b[1;33m\u001b[0m\u001b[1;33m\u001b[0m\u001b[0m\n",
      "\u001b[1;31mValueError\u001b[0m: Nice try!"
     ]
    }
   ],
   "source": [
    "# random_password_generator.py\n",
    "import secrets\n",
    "from string import digits, ascii_letters\n",
    "_ = list\n",
    "\n",
    "def generate_pwd(length=8):\n",
    "    chars = digits + ascii_letters\n",
    "    return ''.join(secrets.choice(chars) for c in range(length))\n",
    "\n",
    "\n",
    "def generate_secure_pwd(length=16, upper=3, digits=3):\n",
    "    if length < upper + digits + 1:\n",
    "        raise ValueError(\"Nice try!\")\n",
    "    while True:\n",
    "        pwd = generate_pwd(length)\n",
    "        if (any(c.islower() for c in pwd)\n",
    "            and sum(c.isupper() for c in pwd) >= upper\n",
    "            and sum(c.isdigit() for c in pwd) >= digits):\n",
    "            return pwd\n",
    "            \n",
    "print(generate_secure_pwd(length=2))\n",
    "print(generate_secure_pwd(length=3, upper=1, digits=1))"
   ]
  },
  {
   "cell_type": "code",
   "execution_count": 45,
   "id": "b13ad95f-418a-4da1-a927-a8410651906c",
   "metadata": {},
   "outputs": [
    {
     "name": "stdout",
     "output_type": "stream",
     "text": [
      "https://somesite.com/reset-pwd/8vSU86pA2n_-m36MhfyTmQ\n"
     ]
    }
   ],
   "source": [
    "# generating reset links directly\n",
    "import secrets\n",
    "\n",
    "def get_reset_pwd_url(token_length=16):\n",
    "    token = secrets.token_urlsafe(token_length)\n",
    "    return f'https://somesite.com/reset-pwd/{token}'\n",
    "\n",
    "print(get_reset_pwd_url())"
   ]
  },
  {
   "cell_type": "code",
   "execution_count": null,
   "id": "b184898a-63b6-4b94-b8a1-ca4f9c0cabde",
   "metadata": {},
   "outputs": [],
   "source": []
  }
 ],
 "metadata": {
  "kernelspec": {
   "display_name": "Python 3 (ipykernel)",
   "language": "python",
   "name": "python3"
  },
  "language_info": {
   "codemirror_mode": {
    "name": "ipython",
    "version": 3
   },
   "file_extension": ".py",
   "mimetype": "text/x-python",
   "name": "python",
   "nbconvert_exporter": "python",
   "pygments_lexer": "ipython3",
   "version": "3.7.9"
  }
 },
 "nbformat": 4,
 "nbformat_minor": 5
}
