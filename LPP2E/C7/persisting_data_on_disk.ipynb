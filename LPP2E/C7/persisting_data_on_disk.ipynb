{
 "cells": [
  {
   "cell_type": "markdown",
   "id": "dee462c5-1cbc-43d1-92e4-8edd70109d0d",
   "metadata": {},
   "source": [
    "## Serializing data with pickle"
   ]
  },
  {
   "cell_type": "code",
   "execution_count": 2,
   "id": "51bdf010-223a-4a4c-9377-25edff9f5f0c",
   "metadata": {},
   "outputs": [
    {
     "name": "stdout",
     "output_type": "stream",
     "text": [
      "Hi, I am A B and my ID is 123\n",
      "Hi, I am C D and my ID is 456\n"
     ]
    }
   ],
   "source": [
    "# pickler.py\n",
    "\n",
    "import pickle\n",
    "from dataclasses import dataclass\n",
    "\n",
    "@dataclass\n",
    "class Person:\n",
    "    first_name: str\n",
    "    last_name: str\n",
    "    id: int\n",
    "    \n",
    "    def greet(self):\n",
    "        print(f'Hi, I am {self.first_name} {self.last_name}'\n",
    "              f' and my ID is {self.id}'\n",
    "             )\n",
    "people = [Person('A', 'B', 123), Person('C', 'D', 456),]\n",
    "    \n",
    "# save data in binary format to a file\n",
    "with open('data.pickle', 'wb') as stream:\n",
    "    pickle.dump(people, stream)\n",
    "        \n",
    "# load data from a file\n",
    "with open('data.pickle', 'rb') as stream:\n",
    "    peeps = pickle.load(stream)\n",
    "        \n",
    "for person in peeps:\n",
    "    person.greet()"
   ]
  },
  {
   "cell_type": "code",
   "execution_count": null,
   "id": "81bfa4b2-d0a7-4aa3-93c2-7f70fad4d191",
   "metadata": {},
   "outputs": [],
   "source": []
  }
 ],
 "metadata": {
  "kernelspec": {
   "display_name": "Python 3 (ipykernel)",
   "language": "python",
   "name": "python3"
  },
  "language_info": {
   "codemirror_mode": {
    "name": "ipython",
    "version": 3
   },
   "file_extension": ".py",
   "mimetype": "text/x-python",
   "name": "python",
   "nbconvert_exporter": "python",
   "pygments_lexer": "ipython3",
   "version": "3.7.9"
  }
 },
 "nbformat": 4,
 "nbformat_minor": 5
}
