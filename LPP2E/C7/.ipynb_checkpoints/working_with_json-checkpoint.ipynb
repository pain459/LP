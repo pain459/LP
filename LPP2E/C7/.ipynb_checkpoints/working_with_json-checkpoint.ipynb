{
 "cells": [
  {
   "cell_type": "code",
   "execution_count": 4,
   "id": "7f63a1a1-f35a-4a6a-856a-24128934d95d",
   "metadata": {},
   "outputs": [],
   "source": [
    "# json_basic.py\n",
    "\n",
    "import sys\n",
    "import json\n",
    "\n",
    "data = {\n",
    "    'big_number': 2 ** 3141,\n",
    "    'max_float': sys.float_info.max,\n",
    "    'a_list': [2, 3, 5, 7]\n",
    "}\n",
    "\n",
    "json_data = json.dumps(data)  # serialization\n",
    "data_out = json.loads(json_data)  # deserialization\n",
    "assert data == data_out"
   ]
  },
  {
   "cell_type": "code",
   "execution_count": 6,
   "id": "e0235bc7-92c8-4f3c-aed3-080f4358ffcf",
   "metadata": {},
   "outputs": [
    {
     "name": "stdout",
     "output_type": "stream",
     "text": [
      "{\n",
      "  \"address\": {\n",
      "    \"city\": \"London\",\n",
      "    \"country\": \"UK\",\n",
      "    \"street\": \"221B Baker St\",\n",
      "    \"zip\": \"NW1 6XE\"\n",
      "  },\n",
      "  \"full_name\": \"Sherlock Holmes\"\n",
      "}\n"
     ]
    }
   ],
   "source": [
    "# json_basic.py\n",
    "\n",
    "import json\n",
    "info = {\n",
    "    'full_name': 'Sherlock Holmes',\n",
    "    'address': {\n",
    "        'street': '221B Baker St',\n",
    "        'zip': 'NW1 6XE',\n",
    "        'city': 'London',\n",
    "        'country': 'UK',\n",
    "    }\n",
    "}\n",
    "print(json.dumps(info, indent=2, sort_keys=True))"
   ]
  },
  {
   "cell_type": "code",
   "execution_count": 8,
   "id": "ad3999ae-5c84-4975-bf16-e2d358b5d21b",
   "metadata": {},
   "outputs": [
    {
     "name": "stdout",
     "output_type": "stream",
     "text": [
      "{'address': {'city': 'London', 'country': 'UK', 'street': '221B Baker St', 'zip': 'NW1 6XE'}, 'full_name': 'Sherlock Holmes'}\n"
     ]
    }
   ],
   "source": [
    "# json_basic.py\n",
    "\n",
    "import json\n",
    "info = {\n",
    "    'full_name': 'Sherlock Holmes',\n",
    "    'address': {\n",
    "        'street': '221B Baker St',\n",
    "        'zip': 'NW1 6XE',\n",
    "        'city': 'London',\n",
    "        'country': 'UK',\n",
    "    }\n",
    "}\n",
    "x = json.dumps(info, indent=2, sort_keys=True)\n",
    "print(json.loads(x))  # deserialization"
   ]
  },
  {
   "cell_type": "code",
   "execution_count": 30,
   "id": "6293bc3d-0712-4243-9529-edbedf02f2dd",
   "metadata": {},
   "outputs": [
    {
     "name": "stdout",
     "output_type": "stream",
     "text": [
      "{'streetAddress': '101', 'city': 'San Diego', 'state': 'CA'}\n",
      "{\n",
      "    \"firstName\": \"Joe\",\n",
      "    \"lastName\": \"Jackson\",\n",
      "    \"gender\": \"male\",\n",
      "    \"age\": 28,\n",
      "    \"address\": {\n",
      "        \"streetAddress\": \"101\",\n",
      "        \"city\": \"San Diego\",\n",
      "        \"state\": \"CA\"\n",
      "    },\n",
      "    \"phoneNumbers\": [\n",
      "        {\n",
      "            \"type\": \"home\",\n",
      "            \"number\": \"7349282382\"\n",
      "        }\n",
      "    ]\n",
      "}\n"
     ]
    }
   ],
   "source": [
    "# serialize sample2.json file\n",
    "\n",
    "import json\n",
    "\n",
    "f = open('sample2.json',)\n",
    "    \n",
    "js_s = json.load(f)\n",
    "\n",
    "print(js_s['address'])\n",
    "\n",
    "js_ds = json.dumps(js_s, indent=4)\n",
    "print(js_ds)\n",
    "f.close()"
   ]
  },
  {
   "cell_type": "code",
   "execution_count": 38,
   "id": "7fecdf29-23d9-4248-927f-f6b1d36143cd",
   "metadata": {},
   "outputs": [
    {
     "name": "stdout",
     "output_type": "stream",
     "text": [
      "{\"a_tuple\": [1, 2, 3, 4, 5]}\n",
      "{'a_tuple': [1, 2, 3, 4, 5]}\n",
      "[1, 2, 3, 4, 5]\n"
     ]
    }
   ],
   "source": [
    "# json_tuple.py\n",
    "\n",
    "import json\n",
    "data_in = {\n",
    "    'a_tuple': (1, 2, 3, 4, 5),\n",
    "}\n",
    "\n",
    "json_data = json.dumps(data_in)\n",
    "print(json_data)\n",
    "# print(json_data['a_tuple'])  # not queryiable after dumping the data.\n",
    "data_out = json.loads(json_data)\n",
    "print(data_out)\n",
    "print(data_out['a_tuple'])"
   ]
  },
  {
   "cell_type": "code",
   "execution_count": null,
   "id": "c9112301-6fc4-475d-808b-14e0838c8289",
   "metadata": {},
   "outputs": [],
   "source": []
  }
 ],
 "metadata": {
  "kernelspec": {
   "display_name": "Python 3 (ipykernel)",
   "language": "python",
   "name": "python3"
  },
  "language_info": {
   "codemirror_mode": {
    "name": "ipython",
    "version": 3
   },
   "file_extension": ".py",
   "mimetype": "text/x-python",
   "name": "python",
   "nbconvert_exporter": "python",
   "pygments_lexer": "ipython3",
   "version": "3.7.9"
  }
 },
 "nbformat": 4,
 "nbformat_minor": 5
}
