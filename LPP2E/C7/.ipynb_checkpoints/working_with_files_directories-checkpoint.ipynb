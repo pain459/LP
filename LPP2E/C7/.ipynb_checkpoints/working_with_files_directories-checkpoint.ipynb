{
 "cells": [
  {
   "cell_type": "markdown",
   "id": "3d5b456b-2395-4be4-bde9-c9bf280c6aab",
   "metadata": {},
   "source": [
    "## Opening files"
   ]
  },
  {
   "cell_type": "code",
   "execution_count": 4,
   "id": "cd13ea73-1ecd-402e-8bef-918abb02dfce",
   "metadata": {},
   "outputs": [
    {
     "name": "stdout",
     "output_type": "stream",
     "text": [
      "An excerpt from Fear - By Thich Nhat Hanh\n",
      "The Present Is Free from Fear\n",
      "When we are not fully present, we are not really living. We're not really\n",
      "there, either for our loved ones or for ourselves. If we're not there, then\n",
      "where are we? We are running, running, running, even during our sleep. We\n",
      "run because we're trying to escape from our fear.\n",
      "...\n"
     ]
    }
   ],
   "source": [
    "# open_try.py\n",
    "fh = open('fear.txt', 'rt')  # r: read, t: text\n",
    "\n",
    "for line in fh.readlines():\n",
    "    print(line.strip())\n",
    "\n",
    "fh.close()"
   ]
  },
  {
   "cell_type": "code",
   "execution_count": 6,
   "id": "788a7966-82d0-42d1-90c7-39219c92ab81",
   "metadata": {},
   "outputs": [
    {
     "name": "stdout",
     "output_type": "stream",
     "text": [
      "An excerpt from Fear - By Thich Nhat Hanh\n",
      "The Present Is Free from Fear\n",
      "When we are not fully present, we are not really living. We're not really\n",
      "there, either for our loved ones or for ourselves. If we're not there, then\n",
      "where are we? We are running, running, running, even during our sleep. We\n",
      "run because we're trying to escape from our fear.\n",
      "...\n"
     ]
    }
   ],
   "source": [
    "# open_try.py\n",
    "# opening the file and closing with precaution\n",
    "try:\n",
    "    fh = open('fear.txt', 'rt')\n",
    "    for line in fh.readlines():\n",
    "        print(line.strip())\n",
    "finally:\n",
    "    fh.close()"
   ]
  },
  {
   "cell_type": "code",
   "execution_count": 7,
   "id": "ac4bab7a-afaf-41bb-b1b5-30cf2d9cb860",
   "metadata": {},
   "outputs": [
    {
     "name": "stdout",
     "output_type": "stream",
     "text": [
      "An excerpt from Fear - By Thich Nhat Hanh\n",
      "The Present Is Free from Fear\n",
      "When we are not fully present, we are not really living. We're not really\n",
      "there, either for our loved ones or for ourselves. If we're not there, then\n",
      "where are we? We are running, running, running, even during our sleep. We\n",
      "run because we're trying to escape from our fear.\n",
      "...\n"
     ]
    }
   ],
   "source": [
    "# open_try.py\n",
    "# simplifying the previous example\n",
    "\n",
    "try:\n",
    "    fh = open('fear.txt')  # rt is default\n",
    "    for line in fh:  # for loop on file use iteration protocol by default.\n",
    "        print(line.strip())\n",
    "        \n",
    "finally:\n",
    "    fh.close()"
   ]
  },
  {
   "cell_type": "markdown",
   "id": "c6c7ea6a-a72d-4e9f-aa7f-8378ac24fbb0",
   "metadata": {},
   "source": [
    "### Using a context manager to open a file"
   ]
  },
  {
   "cell_type": "code",
   "execution_count": 8,
   "id": "5aded067-e480-435b-adb4-f62f87aaec52",
   "metadata": {},
   "outputs": [
    {
     "name": "stdout",
     "output_type": "stream",
     "text": [
      "An excerpt from Fear - By Thich Nhat Hanh\n",
      "The Present Is Free from Fear\n",
      "When we are not fully present, we are not really living. We're not really\n",
      "there, either for our loved ones or for ourselves. If we're not there, then\n",
      "where are we? We are running, running, running, even during our sleep. We\n",
      "run because we're trying to escape from our fear.\n",
      "...\n"
     ]
    }
   ],
   "source": [
    "# open_with.py\n",
    "with open('fear.txt') as fh:\n",
    "    for line in fh:\n",
    "        print(line.strip())"
   ]
  },
  {
   "cell_type": "markdown",
   "id": "e5fdb4a7-b428-4281-85cb-7ace0e3d4f4f",
   "metadata": {},
   "source": [
    "## Reading and writing to a file"
   ]
  },
  {
   "cell_type": "code",
   "execution_count": 9,
   "id": "6f4d30aa-21ee-49ff-bfe8-e47e4a3583ad",
   "metadata": {},
   "outputs": [],
   "source": [
    "# print_file.py\n",
    "\n",
    "with open('print_example.txt', 'w') as fw:\n",
    "    print('Hey I an printing into a file!!!', file=fw)"
   ]
  },
  {
   "cell_type": "code",
   "execution_count": 10,
   "id": "d4c39f55-8e0f-41b3-8315-d60a7f6567fa",
   "metadata": {},
   "outputs": [],
   "source": [
    "# read_write.py\n",
    "with open('fear.txt') as f:\n",
    "    lines = [line.strip() for line in f]\n",
    "    \n",
    "with open('fear_copy.txt', 'w') as fw:\n",
    "    fw.write('\\n'.join(lines))"
   ]
  },
  {
   "cell_type": "markdown",
   "id": "8932bfda-0de9-4d4d-8604-48124d0c430d",
   "metadata": {},
   "source": [
    "## Reading and writing in binary mode"
   ]
  },
  {
   "cell_type": "code",
   "execution_count": 11,
   "id": "3d080766-7df7-4fd3-b3e8-66cdd540cfdb",
   "metadata": {},
   "outputs": [
    {
     "name": "stdout",
     "output_type": "stream",
     "text": [
      "b'THis is binary data...'\n"
     ]
    }
   ],
   "source": [
    "# read_write_bin.py\n",
    "with open('example.bin', 'wb') as fw:\n",
    "    fw.write(b'THis is binary data...')\n",
    "    \n",
    "with open('example.bin', 'rb') as f:\n",
    "    print(f.read())"
   ]
  },
  {
   "cell_type": "markdown",
   "id": "73e42962-0a37-4df4-a8c0-2ed2a5744c23",
   "metadata": {},
   "source": [
    "## Protecting against overriding an existing file"
   ]
  },
  {
   "cell_type": "code",
   "execution_count": 14,
   "id": "a635c49c-0272-49b9-b0f7-0ec23807809f",
   "metadata": {},
   "outputs": [
    {
     "ename": "FileExistsError",
     "evalue": "[Errno 17] File exists: 'write_x.txt'",
     "output_type": "error",
     "traceback": [
      "\u001b[1;31m---------------------------------------------------------------------------\u001b[0m",
      "\u001b[1;31mFileExistsError\u001b[0m                           Traceback (most recent call last)",
      "\u001b[1;32m~\\AppData\\Local\\Temp/ipykernel_32740/1616496864.py\u001b[0m in \u001b[0;36m<module>\u001b[1;34m\u001b[0m\n\u001b[0;32m      1\u001b[0m \u001b[1;31m# write_not_exists.py\u001b[0m\u001b[1;33m\u001b[0m\u001b[1;33m\u001b[0m\u001b[1;33m\u001b[0m\u001b[0m\n\u001b[1;32m----> 2\u001b[1;33m \u001b[1;32mwith\u001b[0m \u001b[0mopen\u001b[0m\u001b[1;33m(\u001b[0m\u001b[1;34m'write_x.txt'\u001b[0m\u001b[1;33m,\u001b[0m \u001b[1;34m'x'\u001b[0m\u001b[1;33m)\u001b[0m \u001b[1;32mas\u001b[0m \u001b[0mfw\u001b[0m\u001b[1;33m:\u001b[0m\u001b[1;33m\u001b[0m\u001b[1;33m\u001b[0m\u001b[0m\n\u001b[0m\u001b[0;32m      3\u001b[0m     \u001b[0mfw\u001b[0m\u001b[1;33m.\u001b[0m\u001b[0mwrite\u001b[0m\u001b[1;33m(\u001b[0m\u001b[1;34m'Writing line 1'\u001b[0m\u001b[1;33m)\u001b[0m\u001b[1;33m\u001b[0m\u001b[1;33m\u001b[0m\u001b[0m\n\u001b[0;32m      4\u001b[0m \u001b[1;33m\u001b[0m\u001b[0m\n\u001b[0;32m      5\u001b[0m \u001b[1;32mwith\u001b[0m \u001b[0mopen\u001b[0m\u001b[1;33m(\u001b[0m\u001b[1;34m'write_x.txt'\u001b[0m\u001b[1;33m)\u001b[0m \u001b[1;32mas\u001b[0m \u001b[0mf\u001b[0m\u001b[1;33m:\u001b[0m\u001b[1;33m\u001b[0m\u001b[1;33m\u001b[0m\u001b[0m\n",
      "\u001b[1;31mFileExistsError\u001b[0m: [Errno 17] File exists: 'write_x.txt'"
     ]
    }
   ],
   "source": [
    "# write_not_exists.py\n",
    "with open('write_x.txt', 'x') as fw:\n",
    "    fw.write('Writing line 1')\n",
    "    \n",
    "# execute the above again and it will fail."
   ]
  },
  {
   "cell_type": "code",
   "execution_count": 16,
   "id": "db92a71d-5e85-4c06-beb9-391731b26eed",
   "metadata": {},
   "outputs": [
    {
     "name": "stdout",
     "output_type": "stream",
     "text": [
      "Writing line 1\n"
     ]
    }
   ],
   "source": [
    "with open('write_x.txt') as f:\n",
    "    for line in f:\n",
    "        print(line)  # veriying."
   ]
  },
  {
   "cell_type": "markdown",
   "id": "bb6526f3-dc56-4182-be39-7f76b294c282",
   "metadata": {},
   "source": [
    "## Checking for file and directory existence"
   ]
  },
  {
   "cell_type": "code",
   "execution_count": 20,
   "id": "d88f0d94-b728-4c90-8224-911c88e103d2",
   "metadata": {},
   "outputs": [
    {
     "name": "stdout",
     "output_type": "stream",
     "text": [
      "True\n",
      "True\n",
      "C:\\code\\LP\\LPP2E\\C7\n"
     ]
    }
   ],
   "source": [
    "# existence.py\n",
    "import os\n",
    "\n",
    "filename = 'fear.txt'\n",
    "path = os.path.dirname(os.path.abspath(filename))\n",
    "\n",
    "print(os.path.isfile(filename))\n",
    "print(os.path.isdir(path))\n",
    "print(path)"
   ]
  },
  {
   "cell_type": "code",
   "execution_count": 29,
   "id": "34c30695-8e17-4dc2-811f-7447cebd3527",
   "metadata": {},
   "outputs": [
    {
     "data": {
      "text/plain": [
       "WindowsPath('LP/LPP2E/C7/fear.txt')"
      ]
     },
     "execution_count": 29,
     "metadata": {},
     "output_type": "execute_result"
    }
   ],
   "source": [
    "# working with pathlib\n",
    "import pathlib\n",
    "p = pathlib.Path('C:/code/LP/LPP2E/C7/fear.txt')\n",
    "p.name\n",
    "p.drive\n",
    "p.root\n",
    "p.parts\n",
    "p.relative_to('C:/code/')"
   ]
  },
  {
   "cell_type": "markdown",
   "id": "7600b4cc-52a4-4e5d-b8d6-36125bb518e0",
   "metadata": {},
   "source": [
    "## Manipulating files and directories"
   ]
  },
  {
   "cell_type": "code",
   "execution_count": null,
   "id": "8606045b-566c-4039-a2d9-0667b56721eb",
   "metadata": {},
   "outputs": [],
   "source": [
    "# manipulation.py\n",
    "from collections import Counter\n",
    "from string import ascii_letters\n",
    "\n",
    "chars = ascii_letters + ' '\n",
    "\n",
    "def sanitize(s, chars):\n",
    "    return "
   ]
  }
 ],
 "metadata": {
  "kernelspec": {
   "display_name": "Python 3 (ipykernel)",
   "language": "python",
   "name": "python3"
  },
  "language_info": {
   "codemirror_mode": {
    "name": "ipython",
    "version": 3
   },
   "file_extension": ".py",
   "mimetype": "text/x-python",
   "name": "python",
   "nbconvert_exporter": "python",
   "pygments_lexer": "ipython3",
   "version": "3.7.9"
  }
 },
 "nbformat": 4,
 "nbformat_minor": 5
}
