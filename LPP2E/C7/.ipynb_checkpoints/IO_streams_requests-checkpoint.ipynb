{
 "cells": [
  {
   "cell_type": "markdown",
   "id": "3c8de065-0ba7-4d0a-9d22-9f6c5016caf3",
   "metadata": {},
   "source": [
    "## Using an in-memory stream"
   ]
  },
  {
   "cell_type": "code",
   "execution_count": 1,
   "id": "6197e098-887f-47e1-a03d-b09a8fb1567a",
   "metadata": {},
   "outputs": [
    {
     "name": "stdout",
     "output_type": "stream",
     "text": [
      "Learning Python Programming. \n",
      "Become a Python ninja!\n",
      "\n"
     ]
    }
   ],
   "source": [
    "# string_io.py\n",
    "\n",
    "import io\n",
    "\n",
    "stream = io.StringIO()\n",
    "stream.write('Learning Python Programming. \\n')\n",
    "print('Become a Python ninja!', file=stream)\n",
    "\n",
    "contents = stream.getvalue()\n",
    "print(contents)\n",
    "\n",
    "stream.close()"
   ]
  },
  {
   "cell_type": "code",
   "execution_count": 2,
   "id": "688348c3-7ee7-4e35-8173-8bf166db68e5",
   "metadata": {},
   "outputs": [
    {
     "name": "stdout",
     "output_type": "stream",
     "text": [
      "Learning Python Programming. \n",
      "Become a Python ninja\n",
      "\n"
     ]
    }
   ],
   "source": [
    "# Using context manager\n",
    "# string_io_context_manager.py\n",
    "\n",
    "import io\n",
    "with io.StringIO() as stream:\n",
    "    stream.write('Learning Python Programming. \\n')\n",
    "    print('Become a Python ninja', file=stream)\n",
    "    contents = stream.getvalue()\n",
    "    print(contents)"
   ]
  },
  {
   "cell_type": "markdown",
   "id": "4dfa8632-566f-41ee-a55f-ddc90cde3bc5",
   "metadata": {},
   "source": [
    "## Making HTTP requests"
   ]
  },
  {
   "cell_type": "code",
   "execution_count": 7,
   "id": "cd2bb98b-57d5-4e25-b318-2e4770cf1886",
   "metadata": {},
   "outputs": [
    {
     "name": "stdout",
     "output_type": "stream",
     "text": [
      "Response for get\n",
      "{'args': {'title': 'learn python programming'}, 'headers': {'Accept': '*/*', 'Accept-Encoding': 'gzip, deflate', 'Host': 'httpbin.org', 'User-Agent': 'python-requests/2.26.0', 'X-Amzn-Trace-Id': 'Root=1-618a1689-15e10cb4515897f94330b0d6'}, 'origin': '115.112.81.240', 'url': 'https://httpbin.org/get?title=learn+python+programming'}\n",
      "----------------------------------------\n",
      "Response for headers\n",
      "{'headers': {'Accept': '*/*', 'Accept-Encoding': 'gzip, deflate', 'Host': 'httpbin.org', 'User-Agent': 'python-requests/2.26.0', 'X-Amzn-Trace-Id': 'Root=1-618a168a-7e1b15c2307798b128dd5d9e'}}\n",
      "----------------------------------------\n",
      "Response for user-agent\n",
      "{'user-agent': 'python-requests/2.26.0'}\n",
      "----------------------------------------\n",
      "Response for UUID\n",
      "{'uuid': '8e8a0520-ff2b-4c96-bfd1-e4c515aa86fb'}\n",
      "----------------------------------------\n"
     ]
    }
   ],
   "source": [
    "import requests\n",
    "urls = {\n",
    "    'get': 'https://httpbin.org/get?title=learn+python+programming',\n",
    "    'headers': 'https://httpbin.org/headers',\n",
    "    #'ip': 'https://httpbin.org/ip',\n",
    "    #'now': 'https://now.httpbin.org/',\n",
    "    'user-agent': 'https://httpbin.org/user-agent',\n",
    "    'UUID': 'https://httpbin.org/uuid',\n",
    "}\n",
    "\n",
    "def get_content(title, url):\n",
    "    resp = requests.get(url)\n",
    "    print(f'Response for {title}')\n",
    "    print(resp.json())\n",
    "    \n",
    "for title, url in urls.items():\n",
    "    get_content(title, url)\n",
    "    print('-' * 40)"
   ]
  },
  {
   "cell_type": "code",
   "execution_count": 8,
   "id": "841ac9ad-f56f-4210-8d82-4c1c0253162f",
   "metadata": {},
   "outputs": [
    {
     "name": "stdout",
     "output_type": "stream",
     "text": [
      "Response for POST\n",
      "{'args': {}, 'data': '', 'files': {}, 'form': {'title': 'Learn Python Programming'}, 'headers': {'Accept': '*/*', 'Accept-Encoding': 'gzip, deflate', 'Content-Length': '30', 'Content-Type': 'application/x-www-form-urlencoded', 'Host': 'httpbin.org', 'User-Agent': 'python-requests/2.26.0', 'X-Amzn-Trace-Id': 'Root=1-618a1910-741eaee45199273f7b7299e6'}, 'json': None, 'origin': '115.112.81.240', 'url': 'https://httpbin.org/post'}\n"
     ]
    }
   ],
   "source": [
    "# reqs_post.py\n",
    "\n",
    "import requests\n",
    "\n",
    "url = 'https://httpbin.org/post'\n",
    "data = dict(title='Learn Python Programming')\n",
    "\n",
    "resp = requests.post(url, data=data)\n",
    "print('Response for POST')\n",
    "print(resp.json())"
   ]
  },
  {
   "cell_type": "code",
   "execution_count": 15,
   "id": "60fd5e22-8b45-4a63-b706-559efe4dee2e",
   "metadata": {},
   "outputs": [
    {
     "name": "stdout",
     "output_type": "stream",
     "text": [
      "{'status': 'success', 'country': 'India', 'countryCode': 'IN', 'region': 'TG', 'regionName': 'Telangana', 'city': 'Hyderabad', 'zip': '500044', 'lat': 17.4254, 'lon': 78.5075, 'timezone': 'Asia/Kolkata', 'isp': 'TATACOMM', 'org': '', 'as': 'AS4755 TATA Communications formerly VSNL is Leading ISP', 'query': '115.112.81.240'}\n",
      "----------------------------------------\n",
      "{\"status\": \"success\", \"country\": \"India\", \"countryCode\": \"IN\", \"region\": \"TG\", \"regionName\": \"Telangana\", \"city\": \"Hyderabad\", \"zip\": \"500044\", \"lat\": 17.4254, \"lon\": 78.5075, \"timezone\": \"Asia/Kolkata\", \"isp\": \"TATACOMM\", \"org\": \"\", \"as\": \"AS4755 TATA Communications formerly VSNL is Leading ISP\", \"query\": \"115.112.81.240\"}\n"
     ]
    }
   ],
   "source": [
    "# trying to read my ip onfo using requests\n",
    "\n",
    "import requests\n",
    "import json\n",
    "\n",
    "def get_content(title, url):\n",
    "    resp = requests.get(url)\n",
    "    print(f'Response for {title}')\n",
    "    print(resp.json())\n",
    "\n",
    "url = 'http://ip-api.com/json'\n",
    "response = requests.get(url)\n",
    "response_json = json.dumps(response.json())\n",
    "print(response.json())\n",
    "print('-' * 40)\n",
    "print(response_json)\n",
    "response_json_out = json.loads(response_json)\n",
    "print('-' * 40)\n",
    "print(response_json_out)"
   ]
  },
  {
   "cell_type": "code",
   "execution_count": null,
   "id": "a0740f33-f6b3-4de9-abe9-20a4985cd4a3",
   "metadata": {},
   "outputs": [],
   "source": []
  }
 ],
 "metadata": {
  "kernelspec": {
   "display_name": "Python 3 (ipykernel)",
   "language": "python",
   "name": "python3"
  },
  "language_info": {
   "codemirror_mode": {
    "name": "ipython",
    "version": 3
   },
   "file_extension": ".py",
   "mimetype": "text/x-python",
   "name": "python",
   "nbconvert_exporter": "python",
   "pygments_lexer": "ipython3",
   "version": "3.7.9"
  }
 },
 "nbformat": 4,
 "nbformat_minor": 5
}
