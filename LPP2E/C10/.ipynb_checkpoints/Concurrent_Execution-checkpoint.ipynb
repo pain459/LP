{
 "cells": [
  {
   "cell_type": "markdown",
   "id": "c0742d0e-79b2-445d-af84-1509ededcbcb",
   "metadata": {},
   "source": [
    "## Concurrency vs parallelism "
   ]
  },
  {
   "cell_type": "markdown",
   "id": "94e86d35-78a3-4fee-a02e-dc64c5df4a4e",
   "metadata": {},
   "source": [
    "##### Concurrency and parallelism are often mistaken for the same thing, but there is a distinction between them. Concurrency is the ability to run multiple things at the same time, not necessarily in parallel. Parallelism is the ability to do a number of things at the same time."
   ]
  },
  {
   "cell_type": "markdown",
   "id": "ac05c4f1-4b8b-4387-9af6-27a530fe078f",
   "metadata": {},
   "source": [
    "### Concurrent execution in Python"
   ]
  },
  {
   "cell_type": "markdown",
   "id": "a7f99d24-5b90-4804-b897-3e8ff6fc52f2",
   "metadata": {},
   "source": [
    "#### Starting a thread"
   ]
  },
  {
   "cell_type": "code",
   "execution_count": 1,
   "id": "20e02957-8ce3-4f72-96bb-bad6c23da757",
   "metadata": {},
   "outputs": [
    {
     "name": "stdout",
     "output_type": "stream",
     "text": [
      "3 + 7 = 10, 3 * 7 = 21\n"
     ]
    }
   ],
   "source": [
    "# start.py\n",
    "import threading\n",
    "\n",
    "def sum_and_product(a, b):\n",
    "    s, p = a + b, a * b\n",
    "    print(f'{a} + {b} = {s}, {a} * {b} = {p}')\n",
    "    \n",
    "t = threading.Thread(target = sum_and_product, name = 'SumProd', args=(3, 7))\n",
    "\n",
    "t.start()"
   ]
  },
  {
   "cell_type": "code",
   "execution_count": 17,
   "id": "c35c036b-04fe-4445-8377-924181ead8e0",
   "metadata": {},
   "outputs": [
    {
     "name": "stdout",
     "output_type": "stream",
     "text": [
      "The current thread is <_MainThread(MainThread, started 30576)>.\n",
      "Threads: [<_MainThread(MainThread, started 30576)>, <Thread(Thread-6, started daemon 17308)>, <Heartbeat(Thread-7, started daemon 27952)>, <ControlThread(Thread-5, started daemon 28096)>, <HistorySavingThread(IPythonHistorySavingThread, started 28124)>, <ParentPollerWindows(Thread-4, started daemon 31268)>]\n",
      "Thread SumProd is alive.\n",
      "The current thread is <Thread(SumProd, started 16884)>.\n",
      "Threads: [<_MainThread(MainThread, started 30576)>, <Thread(Thread-6, started daemon 17308)>, <Heartbeat(Thread-7, started daemon 27952)>, <ControlThread(Thread-5, started daemon 28096)>, <HistorySavingThread(IPythonHistorySavingThread, started 28124)>, <ParentPollerWindows(Thread-4, started daemon 31268)>, <Thread(SumProd, started 16884)>]\n",
      "30000 + 700000 = 730000, 30000 * 700000 = 21000000000\n",
      "Thread SumProd is terminated.\n"
     ]
    }
   ],
   "source": [
    "# start_with_info.py\n",
    "import threading\n",
    "from time import sleep\n",
    "\n",
    "def sum_and_product(a, b):\n",
    "    sleep(.2)\n",
    "    print_current()\n",
    "    s, p = a + b, a * b\n",
    "    print(f'{a} + {b} = {s}, {a} * {b} = {p}')\n",
    "    \n",
    "def status(t):\n",
    "    if t.is_alive():\n",
    "        print(f'Thread {t.name} is alive.')\n",
    "    else:\n",
    "        print(f'Thread {t.name} is terminated.')\n",
    "        \n",
    "def print_current():\n",
    "    print('The current thread is {}.'.format(threading.current_thread()))\n",
    "    print('Threads: {}'.format(list(threading.enumerate())))\n",
    "\n",
    "print_current()\n",
    "t = threading.Thread(target = sum_and_product, name = 'SumProd', args=(30000, 700000))\n",
    "\n",
    "t.start()\n",
    "status(t)\n",
    "t.join()\n",
    "status(t)"
   ]
  },
  {
   "cell_type": "markdown",
   "id": "03b607ee-89bb-462d-a966-8d716a5c1149",
   "metadata": {},
   "source": [
    "#### Starting a process"
   ]
  },
  {
   "cell_type": "code",
   "execution_count": null,
   "id": "45873a0f-3602-4a46-94e3-e3fc11d70fc1",
   "metadata": {},
   "outputs": [],
   "source": [
    "# start_proc_info.py\n",
    "import multiprocessing\n",
    "from time import sleep\n",
    "\n",
    "def sum_and_product(a, b):\n",
    "    sleep(.2)\n",
    "    print_current()\n",
    "    s, p = a + b, a * b\n",
    "    print(f'{a} + {b} = {s}, {a} * {b} = {p}')\n",
    "    \n",
    "def status(t):\n",
    "    if t.is_alive():\n",
    "        print(f'Thread {p.name} is alive.')\n",
    "    else:\n",
    "        print(f'Thread {p.name} is terminated.')\n",
    "        \n",
    "def print_current():\n",
    "    print('The current thread is {}.'.format(threading.current_thread()))\n",
    "    print('Threads: {}'.format(list(threading.enumerate())))\n",
    "\n",
    "print_current()\n",
    "p = multiprocessing.Process(target = sum_and_product, name = 'SumProdProd', args=(30000, 700000))\n",
    "\n",
    "p.start()\n",
    "status(p)\n",
    "p.join()\n",
    "status(p)"
   ]
  }
 ],
 "metadata": {
  "kernelspec": {
   "display_name": "Python 3 (ipykernel)",
   "language": "python",
   "name": "python3"
  },
  "language_info": {
   "codemirror_mode": {
    "name": "ipython",
    "version": 3
   },
   "file_extension": ".py",
   "mimetype": "text/x-python",
   "name": "python",
   "nbconvert_exporter": "python",
   "pygments_lexer": "ipython3",
   "version": "3.7.9"
  }
 },
 "nbformat": 4,
 "nbformat_minor": 5
}
