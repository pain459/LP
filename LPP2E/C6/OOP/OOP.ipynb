{
 "cells": [
  {
   "cell_type": "markdown",
   "id": "15439edc-305c-4831-8d36-c31fb61c0fe2",
   "metadata": {},
   "source": [
    "# Object-Oriented Programming (OOP)"
   ]
  },
  {
   "cell_type": "markdown",
   "id": "3dc52dde-c856-4aeb-9be4-c4ac99fd0b40",
   "metadata": {},
   "source": [
    "### The simplest Python class"
   ]
  },
  {
   "cell_type": "code",
   "execution_count": 4,
   "id": "3c556e80-9afc-43af-96a7-5d657d716f52",
   "metadata": {},
   "outputs": [
    {
     "name": "stdout",
     "output_type": "stream",
     "text": [
      "<class 'type'>\n",
      "<class '__main__.Simplest'>\n",
      "True\n"
     ]
    }
   ],
   "source": [
    "# simplest.class.py\n",
    "class Simplest():  # when empty, the braces are optional\n",
    "    pass\n",
    "\n",
    "print(type(Simplest))  # what type is this object?\n",
    "simp = Simplest()  # we create an instance of Simplest: simp\n",
    "print(type(simp))\n",
    "print(type(Simplest) == type(Simplest))"
   ]
  },
  {
   "cell_type": "markdown",
   "id": "c38838f6-101a-4a84-bbf7-5fb12786fb0e",
   "metadata": {},
   "source": [
    "### Class and object namespaces"
   ]
  },
  {
   "cell_type": "code",
   "execution_count": 11,
   "id": "c577001c-aab8-43ff-8780-fd72605f4d5a",
   "metadata": {},
   "outputs": [
    {
     "name": "stdout",
     "output_type": "stream",
     "text": [
      "Human\n",
      "True\n",
      "Human\n",
      "True\n",
      "False\n",
      "Darth Vader\n"
     ]
    }
   ],
   "source": [
    "# class.namespaces.py\n",
    "class Person:\n",
    "    species = 'Human'\n",
    "    \n",
    "print(Person.species)  # Human\n",
    "Person.alive = True  # Added dynamically\n",
    "print(Person.alive)  # True\n",
    "\n",
    "man = Person()  # Instantiation\n",
    "print(man.species)  # Human (inherited)\n",
    "print(man.alive)  # True (inherited)\n",
    "\n",
    "Person.alive = False\n",
    "print(man.alive)  # False (inherited from above update)\n",
    "\n",
    "man.name = 'Darth'\n",
    "man.surname = 'Vader'\n",
    "print(man.name, man.surname)  # Darth Vader"
   ]
  },
  {
   "cell_type": "markdown",
   "id": "5b44dd1e-8335-444f-8900-1b2dfcdd0e64",
   "metadata": {},
   "source": [
    "### Attribute shadowing"
   ]
  },
  {
   "cell_type": "code",
   "execution_count": 19,
   "id": "60db5cdb-8a56-4c00-821c-090af3967f99",
   "metadata": {},
   "outputs": [
    {
     "name": "stdout",
     "output_type": "stream",
     "text": [
      "10\n",
      "7\n",
      "12\n",
      "10\n",
      "10\n",
      "3\n"
     ]
    },
    {
     "ename": "AttributeError",
     "evalue": "type object 'Point' has no attribute 'z'",
     "output_type": "error",
     "traceback": [
      "\u001b[1;31m---------------------------------------------------------------------------\u001b[0m",
      "\u001b[1;31mAttributeError\u001b[0m                            Traceback (most recent call last)",
      "\u001b[1;32m~\\AppData\\Local\\Temp/ipykernel_31192/1129783991.py\u001b[0m in \u001b[0;36m<module>\u001b[1;34m\u001b[0m\n\u001b[0;32m     19\u001b[0m \u001b[0mprint\u001b[0m\u001b[1;33m(\u001b[0m\u001b[0mp\u001b[0m\u001b[1;33m.\u001b[0m\u001b[0mz\u001b[0m\u001b[1;33m)\u001b[0m  \u001b[1;31m# 3\u001b[0m\u001b[1;33m\u001b[0m\u001b[1;33m\u001b[0m\u001b[0m\n\u001b[0;32m     20\u001b[0m \u001b[1;33m\u001b[0m\u001b[0m\n\u001b[1;32m---> 21\u001b[1;33m \u001b[0mprint\u001b[0m\u001b[1;33m(\u001b[0m\u001b[0mPoint\u001b[0m\u001b[1;33m.\u001b[0m\u001b[0mz\u001b[0m\u001b[1;33m)\u001b[0m\u001b[1;33m\u001b[0m\u001b[1;33m\u001b[0m\u001b[0m\n\u001b[0m",
      "\u001b[1;31mAttributeError\u001b[0m: type object 'Point' has no attribute 'z'"
     ]
    }
   ],
   "source": [
    "# class.attribute.shadowing.py\n",
    "\n",
    "class Point:\n",
    "    x = 10\n",
    "    y = 7\n",
    "    \n",
    "p = Point()\n",
    "print(p.x)  # 10 (from class attribute)\n",
    "print(p.y)  # 7 (from class attribute)\n",
    "\n",
    "p.x = 12  # p gets its own attribute\n",
    "print(p.x)  # 12 (now found in local instance)\n",
    "print(Point.x)  # 10 (class attribute is still the same)\n",
    "\n",
    "del p.x  # deleting the instance attribute\n",
    "print(p.x)  # 10 (now search has to go again to find class attr)\n",
    "\n",
    "p.z = 3  # making it a 3d point. p gets a new attribute\n",
    "print(p.z)  # 3 \n",
    "\n",
    "print(Point.z)  # expect attribute error"
   ]
  },
  {
   "cell_type": "markdown",
   "id": "dae75234-b4aa-43ad-b61a-c9c4496f06fc",
   "metadata": {},
   "source": [
    "### Me, myself and I - using the self variable"
   ]
  },
  {
   "cell_type": "code",
   "execution_count": 25,
   "id": "34a62ac1-6844-4cf4-9206-6baebc9ab4c3",
   "metadata": {},
   "outputs": [
    {
     "name": "stdout",
     "output_type": "stream",
     "text": [
      "64\n",
      "64\n",
      "100\n"
     ]
    }
   ],
   "source": [
    "# class.self.py\n",
    "class Square:\n",
    "    side = 8\n",
    "    def area(self):  # self is the reference to the instance\n",
    "        return self.side ** 2\n",
    "    \n",
    "sq = Square()\n",
    "print(sq.area())  # 64 (side is found on the class)\n",
    "print(Square.area(sq))  # 64 (equivalent to sq.area())\n",
    "\n",
    "sq.side = 10  # local instance\n",
    "print(sq.area())  # 100 (side is found on the instance)"
   ]
  },
  {
   "cell_type": "code",
   "execution_count": 30,
   "id": "e2b24f6b-1f03-4e31-9ec4-d5d445cf8889",
   "metadata": {},
   "outputs": [
    {
     "name": "stdout",
     "output_type": "stream",
     "text": [
      "110.0\n",
      "110.0\n"
     ]
    }
   ],
   "source": [
    "# bit better example\n",
    "# class.price.py\n",
    "\n",
    "class Price:\n",
    "    def final_price(self, vat, discount=0):\n",
    "        \"\"\"Returns price after applying vat and fixed discount\"\"\"\n",
    "        return (self.net_price * (100 + vat) / 100) - discount\n",
    "    \n",
    "p1 = Price()\n",
    "p1.net_price = 100\n",
    "print(Price.final_price(p1, 20, 10))\n",
    "print(p1.final_price(20, 10))  # same"
   ]
  },
  {
   "cell_type": "markdown",
   "id": "ac1599fb-df30-46db-ab39-b78dc1753aef",
   "metadata": {},
   "source": [
    "### Initializing and instance"
   ]
  },
  {
   "cell_type": "code",
   "execution_count": 34,
   "id": "535005da-94bd-4efc-80fe-0fb913f38817",
   "metadata": {},
   "outputs": [
    {
     "name": "stdout",
     "output_type": "stream",
     "text": [
      "10 4\n",
      "40\n",
      "21\n"
     ]
    }
   ],
   "source": [
    "# class.init.py\n",
    "class Rectangle:\n",
    "    def __init__(self, side_a, side_b):\n",
    "        self.side_a = side_a\n",
    "        self.side_b = side_b\n",
    "        \n",
    "    def area(self):\n",
    "        return self.side_a * self.side_b\n",
    "    \n",
    "r1 = Rectangle(10, 4)\n",
    "print(r1.side_a, r1.side_b)\n",
    "print(r1.area())\n",
    "\n",
    "r2 = Rectangle(7, 3)\n",
    "print(r2.area())"
   ]
  },
  {
   "cell_type": "code",
   "execution_count": 36,
   "id": "baa5bb80-935f-4074-bf02-29a113f95457",
   "metadata": {},
   "outputs": [
    {
     "name": "stdout",
     "output_type": "stream",
     "text": [
      "314.1592653589793\n"
     ]
    }
   ],
   "source": [
    "# area of a circle\n",
    "from math import pi\n",
    "class circle:\n",
    "    def __init__(self, radius):\n",
    "        self.radius = radius\n",
    "        \n",
    "    def area(self):\n",
    "        return pi * (self.radius ** 2)\n",
    "    \n",
    "a1 = circle(10)\n",
    "print(a1.area())"
   ]
  },
  {
   "cell_type": "code",
   "execution_count": 39,
   "id": "165c67bb-6014-438a-b234-35e09c8159bc",
   "metadata": {},
   "outputs": [
    {
     "name": "stdout",
     "output_type": "stream",
     "text": [
      "10681.415\n"
     ]
    }
   ],
   "source": [
    "# volume of a cylinder\n",
    "#pi * (r ** 2) * h\n",
    "from math import pi\n",
    "class cylinder:\n",
    "    def __init__(self, radius, height):\n",
    "        self.radius = radius\n",
    "        self.height = height\n",
    "        \n",
    "    def volume(self):\n",
    "        return round(pi * (self.radius ** 2) * self.height, 4)\n",
    "    \n",
    "c1 = cylinder(10, 34)\n",
    "print(c1.volume())"
   ]
  },
  {
   "cell_type": "code",
   "execution_count": 41,
   "id": "5351797b-5744-4a49-b489-7ac4554e8d6a",
   "metadata": {},
   "outputs": [
    {
     "name": "stdout",
     "output_type": "stream",
     "text": [
      "Starting engine Engine for car Car... Wroom, wroom!!\n",
      "Starting engine V8Engine for car RaceCar... Wroom, wroom!!\n",
      "Starting engine ElectricEngine for car CityCar... Wroom, wroom!!\n",
      "Starting engine V8Engine for car F1Car... Wroom, wroom!!\n"
     ]
    }
   ],
   "source": [
    "# class_inheritance.py\n",
    "\n",
    "class Engine:\n",
    "    def start(self):\n",
    "        pass\n",
    "    def stop(self):\n",
    "        pass\n",
    "    \n",
    "class ElectricEngine(Engine):\n",
    "    pass\n",
    "\n",
    "class V8Engine(Engine):\n",
    "    pass\n",
    "\n",
    "class Car:\n",
    "    engine_cls = Engine\n",
    "    \n",
    "    def __init__(self):\n",
    "        self.engine = self.engine_cls()\n",
    "        \n",
    "    def start(self):\n",
    "        print('Starting engine {0} for car {1}... Wroom, wroom!!'.format(self.engine.__class__.__name__,\n",
    "                                                                        self.__class__.__name__))\n",
    "        self.engine.start()\n",
    "        \n",
    "    def stop(self):\n",
    "        self.engine.stop()\n",
    "        \n",
    "class RaceCar(Car):\n",
    "    engine_cls = V8Engine\n",
    "    \n",
    "class CityCar(Car):\n",
    "    engine_cls = ElectricEngine\n",
    "    \n",
    "class F1Car(RaceCar):\n",
    "    pass\n",
    "\n",
    "car = Car()\n",
    "racecar = RaceCar()\n",
    "citycar = CityCar()\n",
    "f1car = F1Car()\n",
    "cars = [car, racecar, citycar, f1car]\n",
    "\n",
    "for car in cars:\n",
    "    car.start()"
   ]
  },
  {
   "cell_type": "markdown",
   "id": "b7527cef-6d2c-435d-8358-a7757c708369",
   "metadata": {},
   "source": [
    "### Accessing a base class"
   ]
  },
  {
   "cell_type": "code",
   "execution_count": 42,
   "id": "5c623c0d-e921-4d36-bd6b-ca2a5ff23627",
   "metadata": {},
   "outputs": [
    {
     "ename": "SyntaxError",
     "evalue": "invalid syntax (Temp/ipykernel_31192/1635362815.py, line 10)",
     "output_type": "error",
     "traceback": [
      "\u001b[1;36m  File \u001b[1;32m\"C:\\Users\\kumarrav\\AppData\\Local\\Temp/ipykernel_31192/1635362815.py\"\u001b[1;36m, line \u001b[1;32m10\u001b[0m\n\u001b[1;33m    def\u001b[0m\n\u001b[1;37m        ^\u001b[0m\n\u001b[1;31mSyntaxError\u001b[0m\u001b[1;31m:\u001b[0m invalid syntax\n"
     ]
    }
   ],
   "source": [
    "# super.duplication.py\n",
    "\n",
    "class Book:\n",
    "    def __init__(self, title, publisher, pages):\n",
    "        self.title = title\n",
    "        self.publisher = publisher\n",
    "        self.pages = pages\n",
    "        \n",
    "class Ebook(Book):\n",
    "    def __init__(self, title, publisher, pages, format_):  # bad practice\n",
    "        self.title = title\n",
    "        self.publisher = publisher\n",
    "        self.pages = pages\n",
    "        self.format_ = format_"
   ]
  },
  {
   "cell_type": "code",
   "execution_count": 45,
   "id": "a9d09c84-bf87-4334-93fd-a050d4278d8b",
   "metadata": {},
   "outputs": [
    {
     "name": "stdout",
     "output_type": "stream",
     "text": [
      "LP2E\n",
      "packt\n",
      "500\n",
      "PDF\n"
     ]
    }
   ],
   "source": [
    "# super.explicit.py\n",
    "\n",
    "class Book:\n",
    "    def __init__(self, title, publisher, pages):\n",
    "        self.title = title\n",
    "        self.publisher = publisher\n",
    "        self.pages = pages\n",
    "        \n",
    "class Ebook(Book):\n",
    "    def __init__(self, title, publisher, pages, format_):\n",
    "        Book.__init__(self, title, publisher, pages)\n",
    "        self.format_ = format_\n",
    "        \n",
    "ebook = Ebook('LP2E', 'packt', 500, 'PDF')\n",
    "\n",
    "print(ebook.title)\n",
    "print(ebook.publisher)\n",
    "print(ebook.pages)\n",
    "print(ebook.format_)"
   ]
  },
  {
   "cell_type": "code",
   "execution_count": 46,
   "id": "b824abba-76e7-4cd2-a07c-f0e76e60fe98",
   "metadata": {},
   "outputs": [
    {
     "name": "stdout",
     "output_type": "stream",
     "text": [
      "LP2E\n"
     ]
    }
   ],
   "source": [
    "# super.implicit.py\n",
    "\n",
    "class Book:\n",
    "    def __init__(self, title, publisher, pages):\n",
    "        self.title = title\n",
    "        self.publisher = publisher\n",
    "        self.pages = pages\n",
    "        \n",
    "class Ebook(Book):\n",
    "    def __init__(self, title, publisher, pages, format_):\n",
    "        super().__init__(title, publisher, pages)  # with super in place, we don't need to touch the logic\n",
    "        # even if the base class name changes.\n",
    "        self.format_ = format_\n",
    "        \n",
    "ebook = Ebook('LP2E', 'packt', 500, 'PDF')\n",
    "print(ebook.title)"
   ]
  },
  {
   "cell_type": "code",
   "execution_count": 53,
   "id": "9e3d7d3b-0506-4859-885d-9e6cbde76dfb",
   "metadata": {},
   "outputs": [
    {
     "name": "stdout",
     "output_type": "stream",
     "text": [
      "Amazon\n",
      "500\n"
     ]
    }
   ],
   "source": [
    "# expanding.super.implicit.py\n",
    "\n",
    "class Book:\n",
    "    def __init__(self, title, publisher, pages):\n",
    "        self.title = title\n",
    "        self. publisher = publisher\n",
    "        self.pages = pages\n",
    "        \n",
    "class Ebook(Book):\n",
    "    def __init__(self, title, publisher, pages, format_):\n",
    "        super().__init__(title, publisher, pages)\n",
    "        self.format_ = format_\n",
    "        \n",
    "class Vendor(Ebook):\n",
    "    def __init__(self, title, publisher, pages, format_, merchant):\n",
    "        super().__init__(title, publisher, pages, format_)\n",
    "        self.merchant = merchant\n",
    "        \n",
    "ebook_a = Vendor('LP2E', 'packt', 500, 'epub', 'Amazon')\n",
    "book_b = Book('LP2E', 'packt', 500,)\n",
    "\n",
    "print(ebook_a.merchant)\n",
    "print(book_b.pages)"
   ]
  },
  {
   "cell_type": "markdown",
   "id": "faa72ba6-7dce-43d3-83d8-9c3c94be4f04",
   "metadata": {},
   "source": [
    "### Multiple inheritance"
   ]
  },
  {
   "cell_type": "code",
   "execution_count": 64,
   "id": "dc4eef46-43c2-47b0-85c5-c363c56b1e1c",
   "metadata": {},
   "outputs": [
    {
     "name": "stdout",
     "output_type": "stream",
     "text": [
      "259.8076211353316\n",
      "RegularHexagon\n",
      "Plotting at (75, 77), ratio 0.8\n",
      "144\n",
      "Square\n",
      "Plotting at (74, 75), ratio 0.93\n"
     ]
    }
   ],
   "source": [
    "# multiple.inheritance.py\n",
    "\n",
    "class Shape:\n",
    "    geometric_type = 'Generic Shape'\n",
    "    def area(self):\n",
    "        raise NotImplementedError\n",
    "    def get_geometric_type(self):\n",
    "        return self.geometric_type\n",
    "    \n",
    "class Plotter:\n",
    "    def plot(self, ratio, topleft):\n",
    "        print('Plotting at {}, ratio {}'.format(topleft, ratio))\n",
    "        \n",
    "class Polygon(Shape, Plotter):\n",
    "    geometric_type = 'Polygon'\n",
    "    \n",
    "class RegularPolygon(Polygon):\n",
    "    geometric_type = 'Regular Polygon'\n",
    "    def __init__(self, side):\n",
    "        self.side = side\n",
    "        \n",
    "class RegularHexagon(RegularPolygon):\n",
    "    geometric_type = 'RegularHexagon'\n",
    "    def area(self):\n",
    "        return 1.5 * (3 ** .5 * self.side ** 2)\n",
    "    \n",
    "class Square(RegularPolygon):\n",
    "    geometric_type = 'Square'\n",
    "    def area(self):\n",
    "        return self.side * self.side\n",
    "\n",
    "hexagon = RegularHexagon(10)\n",
    "print(hexagon.area())\n",
    "print(hexagon.get_geometric_type())\n",
    "hexagon.plot(0.8, (75, 77))\n",
    "\n",
    "square = Square(12)\n",
    "print(square.area())\n",
    "print(square.get_geometric_type())\n",
    "square.plot(0.93, (74, 75))"
   ]
  },
  {
   "cell_type": "markdown",
   "id": "50f6d5e2-fe66-4126-91da-f007e91c4e72",
   "metadata": {},
   "source": [
    "## Class and static methods"
   ]
  },
  {
   "cell_type": "code",
   "execution_count": 68,
   "id": "fefb5220-3c1b-436d-807d-dc7e80653ac4",
   "metadata": {},
   "outputs": [
    {
     "name": "stdout",
     "output_type": "stream",
     "text": [
      "True\n",
      "False\n",
      "{'palindromes.', 'I', 'really', 'love', 'them!!!'}\n"
     ]
    }
   ],
   "source": [
    "# static.methods.py\n",
    "\n",
    "class StringUtil:\n",
    "    \n",
    "    @staticmethod\n",
    "    def is_palindrome(s, case_insensitive=True):\n",
    "        # we allow only letters and numbers\n",
    "        s = ''.join(c for c in s if c.isalnum())  # tricky generator\n",
    "        # for case insensitive comparisionm, we lower-case s\n",
    "        if case_insensitive:\n",
    "            s = s.lower()\n",
    "        for c in range(len(s) // 2):\n",
    "            if s[c] != s[-c -1]:  # reverse sequence\n",
    "                return False\n",
    "        return True\n",
    "    \n",
    "    @staticmethod\n",
    "    def get_unique_words(sentence):\n",
    "        return set(sentence.split())\n",
    "    \n",
    "print(StringUtil.is_palindrome('Radar', case_insensitive=True))\n",
    "print(StringUtil.is_palindrome('Radar', case_insensitive=False))\n",
    "\n",
    "print(StringUtil.get_unique_words('I love palindromes. I really really love them!!!'))"
   ]
  },
  {
   "cell_type": "code",
   "execution_count": 71,
   "id": "7e7f77f0-ec8f-4f24-bf39-561fb0b99960",
   "metadata": {},
   "outputs": [
    {
     "name": "stdout",
     "output_type": "stream",
     "text": [
      "3 7\n",
      "3 7\n"
     ]
    }
   ],
   "source": [
    "# class.methods.factory.py\n",
    "\n",
    "class Point:\n",
    "    def __init__(self, x, y):\n",
    "        self.x = x\n",
    "        self.y = y\n",
    "    \n",
    "    @classmethod\n",
    "    def from_tuple(cls, coords):  # cls is Point\n",
    "        return cls(*coords)\n",
    "    \n",
    "    @classmethod\n",
    "    def from_point(cls, point):\n",
    "        return cls(point.x, point.y)\n",
    "    \n",
    "p = Point.from_tuple((3, 7))\n",
    "print(p.x, p.y)\n",
    "\n",
    "q = Point.from_point(p)\n",
    "print(q.x, q.y)"
   ]
  },
  {
   "cell_type": "markdown",
   "id": "4eef5326-2a95-4fd2-8723-90d5c09ebcce",
   "metadata": {},
   "source": [
    "### Private methods and name mangling"
   ]
  },
  {
   "cell_type": "code",
   "execution_count": 74,
   "id": "24e7a4d1-22e1-4844-85cd-ad62840b360e",
   "metadata": {},
   "outputs": [
    {
     "name": "stdout",
     "output_type": "stream",
     "text": [
      "Op1 with factor 100...\n",
      "Op2 with factor 42...\n",
      "Op1 with factor 100...\n"
     ]
    }
   ],
   "source": [
    "# private.attrs.py\n",
    "class A:\n",
    "    def __init__(self, factor):\n",
    "        self.__factor = factor\n",
    "        \n",
    "    def op1(self):\n",
    "        print('Op1 with factor {}...'.format(self.__factor))\n",
    "        \n",
    "class B(A):\n",
    "    def op2(self, factor):\n",
    "        self.__factor = factor\n",
    "        print('Op2 with factor {}...'.format(self.__factor))\n",
    "        \n",
    "obj = B(100)\n",
    "obj.op1()\n",
    "obj.op2(42)\n",
    "obj.op1()\n",
    "        "
   ]
  },
  {
   "cell_type": "code",
   "execution_count": null,
   "id": "7129d1bf-061b-4f32-a0d6-6268513a5356",
   "metadata": {},
   "outputs": [],
   "source": []
  }
 ],
 "metadata": {
  "kernelspec": {
   "display_name": "Python 3 (ipykernel)",
   "language": "python",
   "name": "python3"
  },
  "language_info": {
   "codemirror_mode": {
    "name": "ipython",
    "version": 3
   },
   "file_extension": ".py",
   "mimetype": "text/x-python",
   "name": "python",
   "nbconvert_exporter": "python",
   "pygments_lexer": "ipython3",
   "version": "3.7.9"
  }
 },
 "nbformat": 4,
 "nbformat_minor": 5
}
