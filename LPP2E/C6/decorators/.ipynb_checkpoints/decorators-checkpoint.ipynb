{
 "cells": [
  {
   "cell_type": "code",
   "execution_count": 1,
   "id": "c064e202-eb59-4d10-b56c-45349b589309",
   "metadata": {},
   "outputs": [
    {
     "name": "stdout",
     "output_type": "stream",
     "text": [
      "f took: 0.3046743869781494\n",
      "g took: 0.5127854347229004\n"
     ]
    }
   ],
   "source": [
    "# time.measure.start.py\n",
    "from time import sleep, time\n",
    "\n",
    "def f():\n",
    "    sleep(.3)\n",
    "    \n",
    "def g():\n",
    "    sleep(.5)\n",
    "    \n",
    "t = time()\n",
    "f()\n",
    "print('f took:', time() - t)\n",
    "\n",
    "t = time()\n",
    "g()\n",
    "print('g took:', time() - t)"
   ]
  },
  {
   "cell_type": "code",
   "execution_count": 2,
   "id": "05603432-1927-4a65-84a3-ad13a67a3e97",
   "metadata": {},
   "outputs": [
    {
     "name": "stdout",
     "output_type": "stream",
     "text": [
      "f took: 0.30739665031433105\n",
      "g took: 0.5062332153320312\n"
     ]
    }
   ],
   "source": [
    "# improvising the above code. Reducing repeating logic to calculate time.\n",
    "# time.measure.dry.py\n",
    "\n",
    "from time import sleep, time\n",
    "\n",
    "def f():\n",
    "    sleep(.3)\n",
    "\n",
    "def g():\n",
    "    sleep(.5)\n",
    "    \n",
    "def measure(func):\n",
    "    t = time()\n",
    "    func()\n",
    "    print(func.__name__, 'took:', time() - t)\n",
    "    \n",
    "measure(f)\n",
    "measure(g)"
   ]
  },
  {
   "cell_type": "code",
   "execution_count": 8,
   "id": "2cad79b3-96a0-47d6-8732-6eff156a680a",
   "metadata": {},
   "outputs": [
    {
     "name": "stdout",
     "output_type": "stream",
     "text": [
      "f took: 0.30181455612182617\n",
      "f took: 0.4075634479522705\n",
      "f took: 0.11276745796203613\n"
     ]
    }
   ],
   "source": [
    "# improvising the above again. Simplifying the function names and allow to input value to the function\n",
    "# time.measure.arguments.py\n",
    "\n",
    "from time import sleep, time\n",
    "\n",
    "def f(sleep_time=0.1):\n",
    "    sleep(sleep_time)\n",
    "    \n",
    "def measure(func, *args, **kwargs):  # *args to take value for function as input and **kwargs to acept key=value \n",
    "    t = time()\n",
    "    func(*args, **kwargs)\n",
    "    print(func.__name__, 'took:', time() - t)\n",
    "    \n",
    "measure(f, sleep_time=0.3)\n",
    "measure(f, 0.4)\n",
    "measure(f)"
   ]
  },
  {
   "cell_type": "code",
   "execution_count": 11,
   "id": "12c42d60-8671-42a7-99a5-2ef28c6e8ced",
   "metadata": {},
   "outputs": [
    {
     "name": "stdout",
     "output_type": "stream",
     "text": [
      "f took: 0.20592737197875977\n",
      "f took: 0.30672788619995117\n",
      "wrapper\n"
     ]
    }
   ],
   "source": [
    "# building in calculation function into f itself.\n",
    "# time.measure.deco1.py\n",
    "\n",
    "from time import sleep, time\n",
    "\n",
    "def f(sleep_time=0.1):\n",
    "    sleep(sleep_time)\n",
    "    \n",
    "def measure(func):\n",
    "    def wrapper(*args, **kwargs):\n",
    "        t = time()\n",
    "        func(*args, **kwargs)\n",
    "        print(func.__name__, 'took:', time() - t)\n",
    "    return wrapper\n",
    "\n",
    "f = measure(f)  # decoration point\n",
    "\n",
    "f(0.2)\n",
    "f(sleep_time=0.3)\n",
    "print(f.__name__)"
   ]
  },
  {
   "cell_type": "markdown",
   "id": "f900a8ad-1d45-40c8-9231-fd4605f0f9b4",
   "metadata": {},
   "source": [
    "### Some samples with decorator"
   ]
  },
  {
   "cell_type": "code",
   "execution_count": 18,
   "id": "11f03c14-9948-42ab-b4ee-a949b716ace7",
   "metadata": {},
   "outputs": [
    {
     "ename": "SyntaxError",
     "evalue": "invalid syntax (Temp/ipykernel_33524/1320929622.py, line 2)",
     "output_type": "error",
     "traceback": [
      "\u001b[1;36m  File \u001b[1;32m\"C:\\Users\\kumarrav\\AppData\\Local\\Temp/ipykernel_33524/1320929622.py\"\u001b[1;36m, line \u001b[1;32m2\u001b[0m\n\u001b[1;33m    def func(arg1, arg2, ...):\u001b[0m\n\u001b[1;37m                           ^\u001b[0m\n\u001b[1;31mSyntaxError\u001b[0m\u001b[1;31m:\u001b[0m invalid syntax\n"
     ]
    }
   ],
   "source": [
    "# decorators/syntax.py  # example. Do not execute.\n",
    "def func(arg1, arg2, ...):\n",
    "pass\n",
    "func = decorator(func)\n",
    "# is equivalent to the following:\n",
    "@decorator\n",
    "def func(arg1, arg2, ...):\n",
    "pass"
   ]
  },
  {
   "cell_type": "code",
   "execution_count": null,
   "id": "b08c2278-8371-46f3-a2d4-cb06ab2ecd82",
   "metadata": {},
   "outputs": [],
   "source": [
    "# decorators/syntax.py\n",
    "def func(arg1, arg2, ...):\n",
    "pass\n",
    "func = deco1(deco2(func))\n",
    "# is equivalent to the following:\n",
    "@deco1\n",
    "@deco2\n",
    "def func(arg1, arg2, ...):\n",
    "pass\n",
    "\n",
    "# order of applying decorators matters."
   ]
  },
  {
   "cell_type": "code",
   "execution_count": 25,
   "id": "d2624649-7660-4695-9535-2a58ef257482",
   "metadata": {},
   "outputs": [
    {
     "name": "stdout",
     "output_type": "stream",
     "text": [
      "f took: 0.3002157211303711\n",
      "f took: 0.31505465507507324\n",
      "f : I'm a cat. I love to sleep!\n"
     ]
    }
   ],
   "source": [
    "# time.measure.deco2.py\n",
    "\n",
    "from time import sleep, time\n",
    "from functools import wraps\n",
    "\n",
    "def measure(func):\n",
    "    @wraps(func)\n",
    "    def wrapper(*args, **kwargs):\n",
    "        t = time()\n",
    "        func(*args, **kwargs)\n",
    "        print(func.__name__, 'took:', time() - t)\n",
    "    return wrapper\n",
    "\n",
    "@measure\n",
    "def f(sleep_time=0.1):\n",
    "    \"\"\"I'm a cat. I love to sleep!\"\"\"\n",
    "    sleep(sleep_time)\n",
    "    \n",
    "f(sleep_time=0.3)\n",
    "f(0.3)\n",
    "print(f.__name__,':',f.__doc__)"
   ]
  },
  {
   "cell_type": "code",
   "execution_count": 55,
   "id": "e1a227f3-191a-4c0f-8b18-54a6b126ac73",
   "metadata": {},
   "outputs": [
    {
     "name": "stdout",
     "output_type": "stream",
     "text": [
      "Resuls is too big (125). Max allowed is 100.\n",
      "cube took: 0.0\n",
      "125\n"
     ]
    }
   ],
   "source": [
    "# two.decorators.py\n",
    "\n",
    "from time import sleep, time\n",
    "from functools import wraps\n",
    "\n",
    "def measure(func):\n",
    "    @wraps(func)\n",
    "    def wrapper(*args, **kwargs):\n",
    "        t = time()\n",
    "        result = func(*args, **kwargs)\n",
    "        print(func.__name__, 'took:', time() - t)\n",
    "        return result\n",
    "    return wrapper\n",
    "        \n",
    "def max_result(func):\n",
    "    @wraps(func)\n",
    "    def wrapper(*args, **kwargs):\n",
    "        result = func(*args, **kwargs)\n",
    "        if result > 100:\n",
    "            print('Resuls is too big ({0}). Max allowed is 100.'.format(result))\n",
    "        return result\n",
    "    return wrapper\n",
    "\n",
    "@measure\n",
    "@max_result\n",
    "def cube(n):\n",
    "    return n ** 3\n",
    "\n",
    "\n",
    "#print(cube(3))\n",
    "print(cube(5))"
   ]
  },
  {
   "cell_type": "markdown",
   "id": "0a156ad0-29bb-44e4-97eb-02eb2096af26",
   "metadata": {},
   "source": [
    "### Decorators tutorial with some youtube tutorial"
   ]
  },
  {
   "cell_type": "code",
   "execution_count": 37,
   "id": "8c5dc3b7-70ac-482a-83fc-bebf85c2364b",
   "metadata": {},
   "outputs": [
    {
     "data": {
      "text/plain": [
       "2.0"
      ]
     },
     "execution_count": 37,
     "metadata": {},
     "output_type": "execute_result"
    }
   ],
   "source": [
    "# Division based decorator example\n",
    "# a function div will take 2 inputs. numerator should be the big number all the time.\n",
    "\n",
    "def div(a, b):\n",
    "    return a / b\n",
    "\n",
    "def smart_div(func):\n",
    "    def wrapper(a, b):\n",
    "        if a < b:\n",
    "            a, b = b, a\n",
    "            return func(a, b)\n",
    "    return wrapper\n",
    "\n",
    "div = smart_div(div)  \n",
    "div(5, 10)"
   ]
  },
  {
   "cell_type": "code",
   "execution_count": 78,
   "id": "6b4a2647-8d7c-432c-b0b5-1d63836f8918",
   "metadata": {},
   "outputs": [
    {
     "name": "stdout",
     "output_type": "stream",
     "text": [
      "Division by zero error observed\n"
     ]
    },
    {
     "data": {
      "text/plain": [
       "12.0"
      ]
     },
     "execution_count": 78,
     "metadata": {},
     "output_type": "execute_result"
    }
   ],
   "source": [
    "# write a decorator to avoid division by 0 error\n",
    "\n",
    "from functools import wraps\n",
    "\n",
    "def zero_avoider(func):\n",
    "    @wraps(func)\n",
    "    def wrapper(a, b):\n",
    "        if a == 0:\n",
    "            a = 1\n",
    "        if b == 0:\n",
    "            b = 1\n",
    "        return func(a, b)\n",
    "    return wrapper\n",
    "\n",
    "def zero_finder(func):\n",
    "    @wraps(func)\n",
    "    def wrapper(a, b):\n",
    "        if a == 0 or b == 0:\n",
    "            print('Division by zero error observed')\n",
    "        return func(a, b)\n",
    "    return wrapper\n",
    "\n",
    "#div = zero_avoider(div)\n",
    "#div = zero_finder(div)\n",
    "\n",
    "@zero_finder\n",
    "@zero_avoider\n",
    "def div(a, b):\n",
    "    return a / b\n",
    "\n",
    "div(12, 0.0)"
   ]
  },
  {
   "cell_type": "code",
   "execution_count": 82,
   "id": "db600395-3051-427e-b2cf-1822f34aa28a",
   "metadata": {},
   "outputs": [
    {
     "name": "stdout",
     "output_type": "stream",
     "text": [
      "Hi\n"
     ]
    }
   ],
   "source": [
    "# decorator tutorial\n",
    "\n",
    "def outer_function():\n",
    "    message = 'Hi'\n",
    "    \n",
    "    def inner_function():\n",
    "        print(message)\n",
    "    return inner_function\n",
    "\n",
    "my_func = outer_function()\n",
    "my_func()"
   ]
  },
  {
   "cell_type": "code",
   "execution_count": 99,
   "id": "7ce5c8a3-0d5d-42d8-85bd-dead5a1c8196",
   "metadata": {},
   "outputs": [
    {
     "name": "stdout",
     "output_type": "stream",
     "text": [
      "cube took: 0.30658936500549316\n",
      "1000\n"
     ]
    }
   ],
   "source": [
    "# calculate time taken for cubes to be calculated and return warning if it exceeds the specified\n",
    "# limit\n",
    "\n",
    "from time import sleep, time\n",
    "from functools import wraps\n",
    "\n",
    "def measure(func):\n",
    "    @wraps(func)\n",
    "    def wrapper(*args, **kwargs):\n",
    "        t = time()\n",
    "        sleep(.3)  # cheating just to see the value\n",
    "        result = func(*args, **kwargs)\n",
    "        print(func.__name__, 'took:', time() - t)\n",
    "        return result\n",
    "    return wrapper\n",
    "\n",
    "def max_result(func):\n",
    "    @wraps(func)\n",
    "    def wrapper(*args, **kwargs):\n",
    "        result = func(*args, **kwargs)\n",
    "        if result > 10000:\n",
    "            print('Result is too big ({0}). Max allowed is 1000.'.format(result))\n",
    "        return result\n",
    "    return wrapper\n",
    "\n",
    "@max_result\n",
    "@measure\n",
    "def cube(n):\n",
    "    return n ** 3\n",
    "\n",
    "print(cube(10))"
   ]
  },
  {
   "cell_type": "code",
   "execution_count": 107,
   "id": "1e6a764e-9402-4bae-ba75-d6a15ed7c6a4",
   "metadata": {},
   "outputs": [
    {
     "name": "stdout",
     "output_type": "stream",
     "text": [
      "Result too big (10000). Max allowed is 100.\n"
     ]
    },
    {
     "data": {
      "text/plain": [
       "1000"
      ]
     },
     "execution_count": 107,
     "metadata": {},
     "output_type": "execute_result"
    }
   ],
   "source": [
    "# decorators.factory.py\n",
    "# we should be able to define a threshold to check and return if breached\n",
    "\n",
    "from functools import wraps\n",
    "\n",
    "def max_result(threshold):\n",
    "    def decorator(func):\n",
    "        @wraps(func)\n",
    "        def wrapper(*args, **kwargs):\n",
    "            result = func(*args, **kwargs)\n",
    "            if result > threshold:\n",
    "                print('Result too big ({0}). Max allowed is {1}.'.format(result, threshold))\n",
    "            return result\n",
    "        return wrapper\n",
    "    return decorator\n",
    "                \n",
    "@max_result(10000)\n",
    "def cube(n):\n",
    "    return n ** 3\n",
    "\n",
    "@max_result(100)\n",
    "def mult(a, b):\n",
    "    return a * b\n",
    "\n",
    "\n",
    "mult(100, 100)"
   ]
  },
  {
   "cell_type": "code",
   "execution_count": null,
   "id": "6650fd94-1261-4d1f-8217-bd7de63a5546",
   "metadata": {},
   "outputs": [],
   "source": []
  }
 ],
 "metadata": {
  "kernelspec": {
   "display_name": "Python 3 (ipykernel)",
   "language": "python",
   "name": "python3"
  },
  "language_info": {
   "codemirror_mode": {
    "name": "ipython",
    "version": 3
   },
   "file_extension": ".py",
   "mimetype": "text/x-python",
   "name": "python",
   "nbconvert_exporter": "python",
   "pygments_lexer": "ipython3",
   "version": "3.7.9"
  }
 },
 "nbformat": 4,
 "nbformat_minor": 5
}
