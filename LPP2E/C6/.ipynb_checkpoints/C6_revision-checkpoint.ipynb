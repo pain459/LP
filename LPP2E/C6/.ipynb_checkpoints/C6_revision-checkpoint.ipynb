{
 "cells": [
  {
   "cell_type": "markdown",
   "id": "6b3c7611-fac5-4663-9409-cdc981a947e7",
   "metadata": {},
   "source": [
    "## Decorators"
   ]
  },
  {
   "cell_type": "code",
   "execution_count": 1,
   "id": "dde31b0e-6d81-49a7-b151-281e2a2be3ca",
   "metadata": {},
   "outputs": [
    {
     "name": "stdout",
     "output_type": "stream",
     "text": [
      "f took: 0.3007066249847412\n",
      "g took: 0.5009288787841797\n"
     ]
    }
   ],
   "source": [
    "# time.measure.start.py\n",
    "from time import sleep, time\n",
    "\n",
    "def f():\n",
    "    sleep(.3)\n",
    "def g():\n",
    "    sleep(.5)\n",
    "    \n",
    "t = time()\n",
    "f()\n",
    "print('f took:', time() - t)\n",
    "t = time()\n",
    "g()\n",
    "print('g took:', time() - t)"
   ]
  },
  {
   "cell_type": "code",
   "execution_count": 2,
   "id": "f5e818b0-003c-49f9-b490-eb2de06c33b5",
   "metadata": {},
   "outputs": [
    {
     "name": "stdout",
     "output_type": "stream",
     "text": [
      "f took 0.30034828186035156\n",
      "g took 0.5006189346313477\n"
     ]
    }
   ],
   "source": [
    "# time.measure.dry.py\n",
    "from time import sleep, time\n",
    "\n",
    "def f():\n",
    "    sleep(.3)\n",
    "    \n",
    "def g():\n",
    "    sleep(.5)\n",
    "\n",
    "def measure(func):\n",
    "    t = time()\n",
    "    func()\n",
    "    print(func.__name__, 'took', time() - t)\n",
    "    \n",
    "measure(f)\n",
    "measure(g)"
   ]
  },
  {
   "cell_type": "code",
   "execution_count": 5,
   "id": "2b6b934e-283a-44e9-bbcf-931d6dccc15e",
   "metadata": {},
   "outputs": [
    {
     "name": "stdout",
     "output_type": "stream",
     "text": [
      "f took 0.6006519794464111\n"
     ]
    }
   ],
   "source": [
    "# time.measure.arguments.py\n",
    "from time import sleep, time\n",
    "def f(sleep_time=.1):\n",
    "    sleep(sleep_time)\n",
    "    \n",
    "def measure(func, *args, **kwargs):\n",
    "    t = time()\n",
    "    func(*args, **kwargs)\n",
    "    print(func.__name__, 'took', time() - t)\n",
    "    \n",
    "measure(f, sleep_time=.6)"
   ]
  },
  {
   "cell_type": "code",
   "execution_count": 10,
   "id": "9c19f86d-36e7-4955-b67a-33a135d50bec",
   "metadata": {},
   "outputs": [
    {
     "name": "stdout",
     "output_type": "stream",
     "text": [
      "f took 0.3004298210144043\n"
     ]
    }
   ],
   "source": [
    "measure(f, .3)"
   ]
  },
  {
   "cell_type": "code",
   "execution_count": 17,
   "id": "07cea43c-6a06-4e34-a367-b23da15486ce",
   "metadata": {},
   "outputs": [
    {
     "name": "stdout",
     "output_type": "stream",
     "text": [
      "f took 0.30045104026794434\n"
     ]
    }
   ],
   "source": [
    "# time.measure.deco1.py\n",
    "from time import time, sleep\n",
    "\n",
    "def f(sleep_time=.1):\n",
    "    sleep(sleep_time)\n",
    "    \n",
    "def measure(func):\n",
    "    def wrapper(*args, **kwargs):\n",
    "        t = time()\n",
    "        func(*args, **kwargs)\n",
    "        print(func.__name__, 'took', time() - t)\n",
    "    return wrapper\n",
    "\n",
    "f = measure(f)  # decoration\n",
    "\n",
    "f(.3)"
   ]
  },
  {
   "cell_type": "code",
   "execution_count": 18,
   "id": "91ff0a64-e6f8-4a1c-bde4-ce04c5dc3b79",
   "metadata": {},
   "outputs": [
    {
     "name": "stdout",
     "output_type": "stream",
     "text": [
      "f took 0.20034527778625488\n"
     ]
    }
   ],
   "source": [
    "f(sleep_time=.2)"
   ]
  },
  {
   "cell_type": "code",
   "execution_count": 19,
   "id": "c2e4dde7-7d35-4b61-869f-919c0efb6324",
   "metadata": {},
   "outputs": [
    {
     "name": "stdout",
     "output_type": "stream",
     "text": [
      "wrapper\n"
     ]
    }
   ],
   "source": [
    "print(f.__name__)"
   ]
  },
  {
   "cell_type": "code",
   "execution_count": 3,
   "id": "76011676-0b6c-4166-b1bf-304f38d66576",
   "metadata": {},
   "outputs": [
    {
     "name": "stdout",
     "output_type": "stream",
     "text": [
      "f took 0.30045557022094727\n"
     ]
    }
   ],
   "source": [
    "# time.measure.deco2.py\n",
    "from time import sleep, time\n",
    "from functools import wraps\n",
    "\n",
    "def measure(func):\n",
    "    @wraps(func)\n",
    "    def wrapper(*args, **kwargs):\n",
    "        t = time()\n",
    "        func(*args, **kwargs)\n",
    "        print(func.__name__, 'took', time() - t)\n",
    "    return wrapper\n",
    "\n",
    "@measure\n",
    "def f(sleep_time=.1):\n",
    "    \"\"\"This is a func doc\"\"\"\n",
    "    sleep(sleep_time)\n",
    "    \n",
    "f(sleep_time=.3)"
   ]
  },
  {
   "cell_type": "code",
   "execution_count": 4,
   "id": "99a012a1-0283-437a-b765-ce408caadf43",
   "metadata": {},
   "outputs": [
    {
     "name": "stdout",
     "output_type": "stream",
     "text": [
      "f : This is a func doc\n"
     ]
    }
   ],
   "source": [
    "print(f.__name__, ':', f.__doc__)"
   ]
  },
  {
   "cell_type": "code",
   "execution_count": 5,
   "id": "8c8b7df1-6adf-4542-a339-9658481e9a97",
   "metadata": {},
   "outputs": [
    {
     "name": "stdout",
     "output_type": "stream",
     "text": [
      "f took 0.6007468700408936\n"
     ]
    }
   ],
   "source": [
    "f(.6)"
   ]
  },
  {
   "cell_type": "code",
   "execution_count": 18,
   "id": "ce6f3afa-7b8f-425d-b129-05c3f3b2e2df",
   "metadata": {},
   "outputs": [
    {
     "name": "stdout",
     "output_type": "stream",
     "text": [
      "cube took 0.20033550262451172\n"
     ]
    },
    {
     "data": {
      "text/plain": [
       "8"
      ]
     },
     "execution_count": 18,
     "metadata": {},
     "output_type": "execute_result"
    }
   ],
   "source": [
    "# two.decorators.py\n",
    "from time import sleep, time\n",
    "from functools import wraps\n",
    "\n",
    "def measure(func):\n",
    "    @wraps(func)\n",
    "    def wrapper(*args, **kwargs):\n",
    "        t = time()\n",
    "        sleep(.2)  # just to see some valid ouput in time.\n",
    "        result = func(*args, **kwargs)\n",
    "        print(func.__name__, 'took', time() - t)\n",
    "        return result\n",
    "    return wrapper\n",
    "\n",
    "def max_result(func):\n",
    "    @wraps(func)\n",
    "    def wrapper(*args, **kwargs):\n",
    "        result = func(*args, **kwargs)\n",
    "        if result >= 1000:\n",
    "            print('Result too big ({0}). Max allowed is 100.'.format(result))\n",
    "        return result\n",
    "    return wrapper\n",
    "\n",
    "@measure     # This will be applied second.\n",
    "@max_result  # This will be applied first as it is close to the function.\n",
    "def cube(n):\n",
    "    return n ** 3\n",
    "\n",
    "cube(2)\n"
   ]
  },
  {
   "cell_type": "code",
   "execution_count": null,
   "id": "5b6b7b0d-679b-4f4a-bd81-e2927cc9fbc7",
   "metadata": {},
   "outputs": [],
   "source": [
    "# decorators.factory.py\n"
   ]
  },
  {
   "cell_type": "code",
   "execution_count": 27,
   "id": "d40bcd17-c513-495f-96be-e029f6d53f50",
   "metadata": {},
   "outputs": [
    {
     "name": "stdout",
     "output_type": "stream",
     "text": [
      "Result is too big (1000). Max allowed is (100)\n",
      "1000\n",
      "Result is too big (93326215443944152681699238856266700490715968264381621468592963895217599993229915608941463976156518286253697920827223758251185210916864000000000000000000000000). Max allowed is (1000)\n",
      "93326215443944152681699238856266700490715968264381621468592963895217599993229915608941463976156518286253697920827223758251185210916864000000000000000000000000\n"
     ]
    }
   ],
   "source": [
    "from time import time, sleep\n",
    "from functools import wraps\n",
    "from math import factorial as ff\n",
    "\n",
    "def max_threshold(threshold):\n",
    "    def decorator(func):\n",
    "        @wraps(func)\n",
    "        def wrapper(*args, **kwargs):\n",
    "            result = func(*args, **kwargs)\n",
    "            if result >= threshold:\n",
    "                print('Result is too big ({0}). Max allowed is ({1})'\n",
    "                      .format(result, threshold))\n",
    "            return result\n",
    "        return wrapper\n",
    "    return decorator\n",
    "\n",
    "\n",
    "@max_threshold(100)\n",
    "def cube(n):\n",
    "    return n ** 3\n",
    "\n",
    "print(cube(10))\n",
    "\n",
    "@max_threshold(1000)\n",
    "def factorial_f(n):\n",
    "    return ff(n)\n",
    "print(factorial_f(100))"
   ]
  },
  {
   "cell_type": "markdown",
   "id": "6b81017f-8a54-404f-bf73-53e605e989a1",
   "metadata": {},
   "source": [
    "# OOP"
   ]
  },
  {
   "cell_type": "code",
   "execution_count": 31,
   "id": "3dececb0-3dc5-4fe3-9b98-6e8a166678b4",
   "metadata": {},
   "outputs": [
    {
     "name": "stdout",
     "output_type": "stream",
     "text": [
      "<class 'type'>\n",
      "<class '__main__.Simplest'>\n",
      "True\n"
     ]
    }
   ],
   "source": [
    "# simplest.class.py\n",
    "class Simplest():\n",
    "    pass\n",
    "\n",
    "print(type(Simplest))\n",
    "simp=Simplest()\n",
    "print(type(simp))\n",
    "print(type(simp) == Simplest)"
   ]
  },
  {
   "cell_type": "code",
   "execution_count": 33,
   "id": "41de2a4b-2cb4-458e-92ed-f42bb1a54925",
   "metadata": {},
   "outputs": [
    {
     "name": "stdout",
     "output_type": "stream",
     "text": [
      "Human\n",
      "True\n"
     ]
    }
   ],
   "source": [
    "# class.namespaces.py\n",
    "\n",
    "class Person:\n",
    "    species = 'Human'\n",
    "    \n",
    "print(Person.species)\n",
    "Person.alive = True  # dynamic addition\n",
    "print(Person.alive)"
   ]
  },
  {
   "cell_type": "code",
   "execution_count": 34,
   "id": "bc2a6e6a-c3bb-4163-b486-7cbd436ca25d",
   "metadata": {},
   "outputs": [
    {
     "name": "stdout",
     "output_type": "stream",
     "text": [
      "Human\n",
      "True\n"
     ]
    }
   ],
   "source": [
    "man = Person()\n",
    "print(man.species)\n",
    "print(man.alive)"
   ]
  },
  {
   "cell_type": "code",
   "execution_count": 37,
   "id": "ffe53da5-41f2-4565-af4b-8fa169a60cdf",
   "metadata": {},
   "outputs": [
    {
     "name": "stdout",
     "output_type": "stream",
     "text": [
      "False\n",
      "True\n"
     ]
    }
   ],
   "source": [
    "man.alive = False  # doesn't effect the parent class values\n",
    "print(man.alive)\n",
    "print(Person.alive)"
   ]
  },
  {
   "cell_type": "code",
   "execution_count": 38,
   "id": "4bf210c0-075e-42b0-bbeb-6f981daeca81",
   "metadata": {},
   "outputs": [
    {
     "name": "stdout",
     "output_type": "stream",
     "text": [
      "Darth Vader\n"
     ]
    }
   ],
   "source": [
    "man.name = 'Darth'\n",
    "man.surname = 'Vader'\n",
    "print(man.name, man.surname)"
   ]
  },
  {
   "cell_type": "code",
   "execution_count": 39,
   "id": "72c1acff-261e-4b8c-954b-d471b320741a",
   "metadata": {},
   "outputs": [
    {
     "ename": "AttributeError",
     "evalue": "type object 'Person' has no attribute 'name'",
     "output_type": "error",
     "traceback": [
      "\u001b[0;31m---------------------------------------------------------------------------\u001b[0m",
      "\u001b[0;31mAttributeError\u001b[0m                            Traceback (most recent call last)",
      "\u001b[0;32m/tmp/ipykernel_8653/804749929.py\u001b[0m in \u001b[0;36m<module>\u001b[0;34m\u001b[0m\n\u001b[0;32m----> 1\u001b[0;31m \u001b[0mprint\u001b[0m\u001b[0;34m(\u001b[0m\u001b[0mPerson\u001b[0m\u001b[0;34m.\u001b[0m\u001b[0mname\u001b[0m\u001b[0;34m,\u001b[0m \u001b[0mPerson\u001b[0m\u001b[0;34m.\u001b[0m\u001b[0msurname\u001b[0m\u001b[0;34m)\u001b[0m\u001b[0;34m\u001b[0m\u001b[0;34m\u001b[0m\u001b[0m\n\u001b[0m",
      "\u001b[0;31mAttributeError\u001b[0m: type object 'Person' has no attribute 'name'"
     ]
    }
   ],
   "source": [
    "print(Person.name, Person.surname)  # This is what I'm looking for."
   ]
  },
  {
   "cell_type": "code",
   "execution_count": 40,
   "id": "7031b3c8-cc45-441c-827b-fffe1089e5ee",
   "metadata": {},
   "outputs": [
    {
     "name": "stdout",
     "output_type": "stream",
     "text": [
      "10\n",
      "7\n"
     ]
    }
   ],
   "source": [
    "# attribute.shadowing.py\n",
    "class Point:\n",
    "    x = 10\n",
    "    y = 7\n",
    "    \n",
    "p = Point()\n",
    "\n",
    "print(p.x)\n",
    "print(p.y)"
   ]
  },
  {
   "cell_type": "code",
   "execution_count": 41,
   "id": "5d04520a-b166-448d-a5af-0c291616d9ae",
   "metadata": {},
   "outputs": [
    {
     "name": "stdout",
     "output_type": "stream",
     "text": [
      "12\n",
      "10\n"
     ]
    }
   ],
   "source": [
    "p.x = 12\n",
    "print(p.x)\n",
    "print(Point.x)"
   ]
  },
  {
   "cell_type": "code",
   "execution_count": 42,
   "id": "82f809fa-6d24-4b08-a7c1-6577e5e9a036",
   "metadata": {},
   "outputs": [
    {
     "name": "stdout",
     "output_type": "stream",
     "text": [
      "10\n",
      "10\n"
     ]
    }
   ],
   "source": [
    "del p.x\n",
    "print(p.x)\n",
    "print(Point.x)"
   ]
  },
  {
   "cell_type": "code",
   "execution_count": 43,
   "id": "c1d86711-bea8-450d-a853-760beb7115e8",
   "metadata": {},
   "outputs": [
    {
     "name": "stdout",
     "output_type": "stream",
     "text": [
      "3\n"
     ]
    },
    {
     "ename": "AttributeError",
     "evalue": "type object 'Point' has no attribute 'z'",
     "output_type": "error",
     "traceback": [
      "\u001b[0;31m---------------------------------------------------------------------------\u001b[0m",
      "\u001b[0;31mAttributeError\u001b[0m                            Traceback (most recent call last)",
      "\u001b[0;32m/tmp/ipykernel_8653/3585774632.py\u001b[0m in \u001b[0;36m<module>\u001b[0;34m\u001b[0m\n\u001b[1;32m      1\u001b[0m \u001b[0mp\u001b[0m\u001b[0;34m.\u001b[0m\u001b[0mz\u001b[0m \u001b[0;34m=\u001b[0m \u001b[0;36m3\u001b[0m\u001b[0;34m\u001b[0m\u001b[0;34m\u001b[0m\u001b[0m\n\u001b[1;32m      2\u001b[0m \u001b[0mprint\u001b[0m\u001b[0;34m(\u001b[0m\u001b[0mp\u001b[0m\u001b[0;34m.\u001b[0m\u001b[0mz\u001b[0m\u001b[0;34m)\u001b[0m\u001b[0;34m\u001b[0m\u001b[0;34m\u001b[0m\u001b[0m\n\u001b[0;32m----> 3\u001b[0;31m \u001b[0mprint\u001b[0m\u001b[0;34m(\u001b[0m\u001b[0mPoint\u001b[0m\u001b[0;34m.\u001b[0m\u001b[0mz\u001b[0m\u001b[0;34m)\u001b[0m\u001b[0;34m\u001b[0m\u001b[0;34m\u001b[0m\u001b[0m\n\u001b[0m",
      "\u001b[0;31mAttributeError\u001b[0m: type object 'Point' has no attribute 'z'"
     ]
    }
   ],
   "source": [
    "p.z = 3\n",
    "print(p.z)\n",
    "print(Point.z)  # This should fail."
   ]
  },
  {
   "cell_type": "code",
   "execution_count": 56,
   "id": "118caf36-1180-4a72-ad92-db8eae2a9933",
   "metadata": {},
   "outputs": [
    {
     "name": "stdout",
     "output_type": "stream",
     "text": [
      "64\n",
      "8\n",
      "12\n",
      "144\n",
      "8\n"
     ]
    }
   ],
   "source": [
    "# self.class.py\n",
    "class Square:\n",
    "    side = 8\n",
    "    def area(self):\n",
    "        return self.side ** 2\n",
    "    \n",
    "sq = Square()\n",
    "print(sq.area())\n",
    "print(sq.side)\n",
    "sq.side = 12\n",
    "print(sq.side)\n",
    "print(sq.area())\n",
    "print(Square.side)"
   ]
  },
  {
   "cell_type": "code",
   "execution_count": 58,
   "id": "d2f9d742-9395-4723-8cbd-2f22f2ef9877",
   "metadata": {},
   "outputs": [
    {
     "name": "stdout",
     "output_type": "stream",
     "text": [
      "110.0\n",
      "110.0\n"
     ]
    }
   ],
   "source": [
    "# class.price.py\n",
    "class Price:\n",
    "    def final_price(self, vat, discount=0):\n",
    "        return (self.net_price * (100 + vat) / 100) - discount\n",
    "    \n",
    "p1 = Price()\n",
    "p1.net_price = 100\n",
    "print(Price.final_price(p1, 20, 10))\n",
    "print(p1.final_price(20, 10))  # equivalent"
   ]
  },
  {
   "cell_type": "code",
   "execution_count": 67,
   "id": "6b63f2db-7c14-4a30-a1e4-5dc9784ee019",
   "metadata": {},
   "outputs": [
    {
     "name": "stdout",
     "output_type": "stream",
     "text": [
      "<__main__.Price object at 0x7f24d2d45250>\n",
      "100\n",
      "110.0\n",
      "134.0\n"
     ]
    }
   ],
   "source": [
    "class Price:\n",
    "    def final_price(self, vat, discount=0):\n",
    "        return (self.net_price * (100 + vat) / 100) - discount\n",
    "    \n",
    "p1 = Price()\n",
    "p1.net_price = 100\n",
    "print(p1)\n",
    "print(p1.net_price)\n",
    "print(Price.final_price(p1, 20, 10))\n",
    "p1.net_price = 120\n",
    "print(p1.final_price(20, 10))"
   ]
  },
  {
   "cell_type": "code",
   "execution_count": 71,
   "id": "52c84138-480b-4756-bc8c-6a89acfd34ee",
   "metadata": {},
   "outputs": [
    {
     "name": "stdout",
     "output_type": "stream",
     "text": [
      "10 20\n",
      "200\n",
      "100 200\n",
      "20000\n"
     ]
    }
   ],
   "source": [
    "# class.init.py\n",
    "class Rectangle:\n",
    "    def __init__(self, side_a, side_b):\n",
    "        self.side_a = side_a\n",
    "        self.side_b = side_b\n",
    "        \n",
    "    def area(self):\n",
    "        return self.side_a * self.side_b\n",
    "    \n",
    "r1 = Rectangle(10, 20)\n",
    "print(r1.side_a, r1.side_b)\n",
    "print(r1.area())\n",
    "\n",
    "r2 = Rectangle(100, 200)\n",
    "print(r2.side_a, r2.side_b)\n",
    "print(r2.area())"
   ]
  },
  {
   "cell_type": "code",
   "execution_count": null,
   "id": "60da2254-d49f-4775-8c2c-f292fd42541e",
   "metadata": {},
   "outputs": [],
   "source": []
  }
 ],
 "metadata": {
  "kernelspec": {
   "display_name": "Python 3 (ipykernel)",
   "language": "python",
   "name": "python3"
  },
  "language_info": {
   "codemirror_mode": {
    "name": "ipython",
    "version": 3
   },
   "file_extension": ".py",
   "mimetype": "text/x-python",
   "name": "python",
   "nbconvert_exporter": "python",
   "pygments_lexer": "ipython3",
   "version": "3.8.12"
  }
 },
 "nbformat": 4,
 "nbformat_minor": 5
}
