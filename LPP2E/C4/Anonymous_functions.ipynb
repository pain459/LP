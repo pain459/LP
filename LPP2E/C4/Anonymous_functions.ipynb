{
 "cells": [
  {
   "cell_type": "code",
   "execution_count": 8,
   "id": "d26b3d8c-9901-4142-b1ce-72af12b6f524",
   "metadata": {},
   "outputs": [
    {
     "data": {
      "text/plain": [
       "[0, 5, 10, 15, 20, 25, 30, 35, 40, 45, 50, 55, 60, 65, 70, 75, 80, 85, 90, 95]"
      ]
     },
     "execution_count": 8,
     "metadata": {},
     "output_type": "execute_result"
    }
   ],
   "source": [
    "# filter.regular.py\n",
    "def is_multiple_of_five(n):\n",
    "    return not n % 5\n",
    "\n",
    "def get_multiples_of_five(n):\n",
    "    return list(filter(is_multiple_of_five, range(n)))\n",
    "\n",
    "is_multiple_of_five(100)\n",
    "get_multiples_of_five(100)"
   ]
  },
  {
   "cell_type": "code",
   "execution_count": 9,
   "id": "4540a926-6f06-4452-9e76-4a6d24fc291e",
   "metadata": {},
   "outputs": [
    {
     "data": {
      "text/plain": [
       "[0, 5, 10, 15, 20, 25, 30, 35, 40, 45, 50, 55, 60, 65, 70, 75, 80, 85, 90, 95]"
      ]
     },
     "execution_count": 9,
     "metadata": {},
     "output_type": "execute_result"
    }
   ],
   "source": [
    "# filter.lambda.py\n",
    "def get_multiples_of_five(n):\n",
    "    return list(filter(lambda k: not k % 5, range(n)))\n",
    "\n",
    "get_multiples_of_five(100)"
   ]
  },
  {
   "cell_type": "code",
   "execution_count": 11,
   "id": "d117e6ca-b9bc-4d85-af57-e77b21dca155",
   "metadata": {},
   "outputs": [],
   "source": [
    "# lambda.examples.py\n",
    "adder_lambda = lambda a, b: a + b"
   ]
  },
  {
   "cell_type": "code",
   "execution_count": 12,
   "id": "6e6e637c-6947-4c65-a86c-31306e7931a5",
   "metadata": {},
   "outputs": [
    {
     "data": {
      "text/plain": [
       "21"
      ]
     },
     "execution_count": 12,
     "metadata": {},
     "output_type": "execute_result"
    }
   ],
   "source": [
    "adder_lambda(10, 11)"
   ]
  },
  {
   "cell_type": "code",
   "execution_count": 13,
   "id": "2f2d1b49-2f82-495d-a5bc-d0b8b5b75165",
   "metadata": {},
   "outputs": [
    {
     "data": {
      "text/plain": [
       "'SPOCK'"
      ]
     },
     "execution_count": 13,
     "metadata": {},
     "output_type": "execute_result"
    }
   ],
   "source": [
    "to_upper_lambda = lambda s: s.upper()\n",
    "to_upper_lambda('spock')"
   ]
  },
  {
   "cell_type": "code",
   "execution_count": 15,
   "id": "aabc671f-957a-482b-9e11-16479925a7f8",
   "metadata": {},
   "outputs": [
    {
     "data": {
      "text/plain": [
       "275.0"
      ]
     },
     "execution_count": 15,
     "metadata": {},
     "output_type": "execute_result"
    }
   ],
   "source": [
    "# tip_calculator_lambda.py\n",
    "tip_calculate = lambda t, p: t + (t * (p/100))\n",
    "tip_calculate(250, 10)"
   ]
  },
  {
   "cell_type": "code",
   "execution_count": null,
   "id": "ddef0b46-1b5e-4ff9-8af8-72eb539cff15",
   "metadata": {},
   "outputs": [],
   "source": []
  }
 ],
 "metadata": {
  "kernelspec": {
   "display_name": "Python 3 (ipykernel)",
   "language": "python",
   "name": "python3"
  },
  "language_info": {
   "codemirror_mode": {
    "name": "ipython",
    "version": 3
   },
   "file_extension": ".py",
   "mimetype": "text/x-python",
   "name": "python",
   "nbconvert_exporter": "python",
   "pygments_lexer": "ipython3",
   "version": "3.7.9"
  }
 },
 "nbformat": 4,
 "nbformat_minor": 5
}
