{
 "cells": [
  {
   "cell_type": "code",
   "execution_count": 2,
   "id": "bcae28c4-28d5-405a-844a-dc7ec5cb7c05",
   "metadata": {},
   "outputs": [
    {
     "name": "stdout",
     "output_type": "stream",
     "text": [
      "None\n"
     ]
    }
   ],
   "source": [
    "# return.none.py\n",
    "def func():\n",
    "    pass\n",
    "\n",
    "func()\n",
    "a = func()\n",
    "print(a)"
   ]
  },
  {
   "cell_type": "code",
   "execution_count": 6,
   "id": "5db58f9b-154b-454a-be6f-df3fb0cf46c2",
   "metadata": {},
   "outputs": [
    {
     "name": "stdout",
     "output_type": "stream",
     "text": [
      "120\n"
     ]
    }
   ],
   "source": [
    "# return.single.value.py\n",
    "def factorial(n):\n",
    "    if n in (0, 1):\n",
    "        return 1\n",
    "    result = n\n",
    "    for k in range(2, n):\n",
    "        result *= k\n",
    "    return result\n",
    "\n",
    "f5 = factorial(5)\n",
    "print(f5)"
   ]
  },
  {
   "cell_type": "code",
   "execution_count": 8,
   "id": "d2b20a81-4ee9-403d-885d-e14259d03c81",
   "metadata": {},
   "outputs": [
    {
     "data": {
      "text/plain": [
       "120"
      ]
     },
     "execution_count": 8,
     "metadata": {},
     "output_type": "execute_result"
    }
   ],
   "source": [
    "# return.single.value.2.py\n",
    "from functools import reduce\n",
    "from operator import mul\n",
    "def factorial(n):\n",
    "    return reduce(mul, range(1, n + 1), 1)\n",
    "\n",
    "factorial(5)"
   ]
  },
  {
   "cell_type": "markdown",
   "id": "9c5d88cc-cb38-49af-8a9c-45f910d616ce",
   "metadata": {},
   "source": [
    "## Returning multiple values"
   ]
  },
  {
   "cell_type": "code",
   "execution_count": 9,
   "id": "cea58de8-76c3-47a6-876e-88228d4024fa",
   "metadata": {},
   "outputs": [
    {
     "name": "stdout",
     "output_type": "stream",
     "text": [
      "(2, 6)\n"
     ]
    }
   ],
   "source": [
    "# return multiple values\n",
    "def moddiv(a, b):\n",
    "    return a // b, a % b\n",
    "\n",
    "print(moddiv(20, 7))"
   ]
  },
  {
   "cell_type": "code",
   "execution_count": null,
   "id": "26e7d4cc-d831-4af4-99a7-d82aaeba9846",
   "metadata": {},
   "outputs": [],
   "source": []
  }
 ],
 "metadata": {
  "kernelspec": {
   "display_name": "Python 3 (ipykernel)",
   "language": "python",
   "name": "python3"
  },
  "language_info": {
   "codemirror_mode": {
    "name": "ipython",
    "version": 3
   },
   "file_extension": ".py",
   "mimetype": "text/x-python",
   "name": "python",
   "nbconvert_exporter": "python",
   "pygments_lexer": "ipython3",
   "version": "3.7.9"
  }
 },
 "nbformat": 4,
 "nbformat_minor": 5
}
