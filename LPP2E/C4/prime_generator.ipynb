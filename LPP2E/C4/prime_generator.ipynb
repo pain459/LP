{
 "cells": [
  {
   "cell_type": "code",
   "execution_count": 13,
   "id": "5c96444d-85bc-4760-b7d8-b9024c848287",
   "metadata": {},
   "outputs": [
    {
     "data": {
      "text/plain": [
       "[2, 3, 5, 7, 11, 13, 17, 19, 23, 29, 31, 37, 41, 43, 47]"
      ]
     },
     "execution_count": 13,
     "metadata": {},
     "output_type": "execute_result"
    }
   ],
   "source": [
    "# primes.py\n",
    "from math import sqrt, ceil\n",
    "\n",
    "def get_primes(n):\n",
    "    primelist = []\n",
    "    for candidate in range(2, n + 1):\n",
    "        is_prime = True\n",
    "        root = ceil(sqrt(candidate))\n",
    "        \n",
    "        for prime in primelist:\n",
    "            if prime > root:\n",
    "                break\n",
    "            if candidate % prime == 0:\n",
    "                is_prime = False\n",
    "                break\n",
    "        if is_prime:\n",
    "            primelist.append(candidate)\n",
    "    return primelist\n",
    "\n",
    "\n",
    "get_primes(52)"
   ]
  },
  {
   "cell_type": "code",
   "execution_count": null,
   "id": "1c2bc38c-226f-4773-aa0e-1cd52991a6e4",
   "metadata": {},
   "outputs": [],
   "source": []
  }
 ],
 "metadata": {
  "kernelspec": {
   "display_name": "Python 3 (ipykernel)",
   "language": "python",
   "name": "python3"
  },
  "language_info": {
   "codemirror_mode": {
    "name": "ipython",
    "version": 3
   },
   "file_extension": ".py",
   "mimetype": "text/x-python",
   "name": "python",
   "nbconvert_exporter": "python",
   "pygments_lexer": "ipython3",
   "version": "3.7.9"
  }
 },
 "nbformat": 4,
 "nbformat_minor": 5
}
