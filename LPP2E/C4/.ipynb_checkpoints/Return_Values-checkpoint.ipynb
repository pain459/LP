{
 "cells": [
  {
   "cell_type": "code",
   "execution_count": 2,
   "id": "bcae28c4-28d5-405a-844a-dc7ec5cb7c05",
   "metadata": {},
   "outputs": [
    {
     "name": "stdout",
     "output_type": "stream",
     "text": [
      "None\n"
     ]
    }
   ],
   "source": [
    "# return.none.py\n",
    "def func():\n",
    "    pass\n",
    "\n",
    "func()\n",
    "a = func()\n",
    "print(a)"
   ]
  },
  {
   "cell_type": "code",
   "execution_count": null,
   "id": "5db58f9b-154b-454a-be6f-df3fb0cf46c2",
   "metadata": {},
   "outputs": [],
   "source": [
    "# return.single.value.py\n",
    "def factorial(n):\n",
    "    if n in (0, 1):\n",
    "        return 1\n",
    "    result = n\n",
    "    for k in range(2, n):\n",
    "        return *= k\n",
    "    return result"
   ]
  }
 ],
 "metadata": {
  "kernelspec": {
   "display_name": "Python 3 (ipykernel)",
   "language": "python",
   "name": "python3"
  },
  "language_info": {
   "codemirror_mode": {
    "name": "ipython",
    "version": 3
   },
   "file_extension": ".py",
   "mimetype": "text/x-python",
   "name": "python",
   "nbconvert_exporter": "python",
   "pygments_lexer": "ipython3",
   "version": "3.7.9"
  }
 },
 "nbformat": 4,
 "nbformat_minor": 5
}
