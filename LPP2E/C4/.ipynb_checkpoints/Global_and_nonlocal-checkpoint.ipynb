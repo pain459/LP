{
 "cells": [
  {
   "cell_type": "markdown",
   "id": "fb2011cd-5924-4141-b36e-9d1dfd8ac528",
   "metadata": {},
   "source": [
    "### The global and nonlocal statements"
   ]
  },
  {
   "cell_type": "code",
   "execution_count": 6,
   "id": "35ffe946-9bbe-46c8-8643-7de12663dc50",
   "metadata": {},
   "outputs": [
    {
     "name": "stdout",
     "output_type": "stream",
     "text": [
      "inner: 2\n",
      "outer: 2\n",
      "global: 0\n"
     ]
    }
   ],
   "source": [
    "# scoping.level.2.py\n",
    "def outer():\n",
    "    test = 1\n",
    "    def inner():\n",
    "        nonlocal test\n",
    "        test = 2\n",
    "        print('inner:', test)\n",
    "    inner()\n",
    "    print('outer:',test)\n",
    "test = 0\n",
    "outer()\n",
    "print('global:', test)"
   ]
  },
  {
   "cell_type": "code",
   "execution_count": 5,
   "id": "29f13ded-0a84-49c0-9d47-fb1fb83b1bda",
   "metadata": {},
   "outputs": [
    {
     "name": "stdout",
     "output_type": "stream",
     "text": [
      "inner: 2\n",
      "outer: 1\n",
      "global: 2\n"
     ]
    }
   ],
   "source": [
    "test = 0\n",
    "def outer():\n",
    "    test = 1\n",
    "    def inner():\n",
    "        global test\n",
    "        test = 2\n",
    "        print('inner:', test)\n",
    "    inner()\n",
    "    print('outer:', test)\n",
    "\n",
    "outer()\n",
    "print('global:', test)"
   ]
  },
  {
   "cell_type": "code",
   "execution_count": null,
   "id": "2c6112be-0f32-48af-9cb8-8f3e630a9982",
   "metadata": {},
   "outputs": [],
   "source": []
  }
 ],
 "metadata": {
  "kernelspec": {
   "display_name": "Python 3 (ipykernel)",
   "language": "python",
   "name": "python3"
  },
  "language_info": {
   "codemirror_mode": {
    "name": "ipython",
    "version": 3
   },
   "file_extension": ".py",
   "mimetype": "text/x-python",
   "name": "python",
   "nbconvert_exporter": "python",
   "pygments_lexer": "ipython3",
   "version": "3.7.9"
  }
 },
 "nbformat": 4,
 "nbformat_minor": 5
}
