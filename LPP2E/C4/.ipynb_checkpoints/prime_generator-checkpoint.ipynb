{
 "cells": [
  {
   "cell_type": "code",
   "execution_count": null,
   "id": "5c96444d-85bc-4760-b7d8-b9024c848287",
   "metadata": {},
   "outputs": [],
   "source": [
    "# primes.py\n",
    "from math import sqrl, ceil\n",
    "\n",
    "def get_prime(n):\n",
    "    primelist = []\n",
    "    for candidate in range(2, n + 1):\n",
    "        is_prime = True\n",
    "        root = ceil(sqrt(candidate))\n",
    "        \n",
    "        for prime in primelist:\n",
    "            if prime > root:\n",
    "                break\n",
    "            if candidate % prime == 0:\n",
    "                is_prime = False\n",
    "                break\n",
    "        if is_prime:\n",
    "            primelist.append(candidate)\n",
    "    return primelist"
   ]
  }
 ],
 "metadata": {
  "kernelspec": {
   "display_name": "Python 3 (ipykernel)",
   "language": "python",
   "name": "python3"
  },
  "language_info": {
   "codemirror_mode": {
    "name": "ipython",
    "version": 3
   },
   "file_extension": ".py",
   "mimetype": "text/x-python",
   "name": "python",
   "nbconvert_exporter": "python",
   "pygments_lexer": "ipython3",
   "version": "3.7.9"
  }
 },
 "nbformat": 4,
 "nbformat_minor": 5
}
