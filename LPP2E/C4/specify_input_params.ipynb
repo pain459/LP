{
 "cells": [
  {
   "cell_type": "markdown",
   "id": "048a9dfa-35bc-4158-bab3-b887f2741cc1",
   "metadata": {},
   "source": [
    "## Positional arguments"
   ]
  },
  {
   "cell_type": "code",
   "execution_count": 1,
   "id": "2bfa99d0-09c0-485c-92da-19fb59cb4504",
   "metadata": {},
   "outputs": [
    {
     "name": "stdout",
     "output_type": "stream",
     "text": [
      "1 2 3\n"
     ]
    }
   ],
   "source": [
    "# arguments.positional.py\n",
    "def func(a, b, c):\n",
    "    print(a, b, c)\n",
    "func(1, 2, 3)"
   ]
  },
  {
   "cell_type": "markdown",
   "id": "47ccb1d6-e297-473f-9ba3-78593d607812",
   "metadata": {},
   "source": [
    "## Keyword arguments and default values"
   ]
  },
  {
   "cell_type": "code",
   "execution_count": 3,
   "id": "3d9c6c5c-47b8-4c56-b77f-0b8e4e8cc019",
   "metadata": {},
   "outputs": [
    {
     "name": "stdout",
     "output_type": "stream",
     "text": [
      "1 2 3\n",
      "1 3 2\n"
     ]
    }
   ],
   "source": [
    "# arguments.keyword.py\n",
    "def func(a, b, c):\n",
    "    print(a, b, c)\n",
    "func(a=1, b=2, c=3)\n",
    "func(a=1, c=2, b=3)  # we can jumble the order"
   ]
  },
  {
   "cell_type": "code",
   "execution_count": 6,
   "id": "47bcfa0a-d5ea-4aee-a8b6-ca2161895179",
   "metadata": {},
   "outputs": [
    {
     "name": "stdout",
     "output_type": "stream",
     "text": [
      "1 4 88\n",
      "7 4 9\n",
      "42 43 44\n"
     ]
    }
   ],
   "source": [
    "# arguments.default.py\n",
    "def func(a, b=4, c=88):\n",
    "    print(a, b, c)\n",
    "func(1)  # prints defaults of b & c\n",
    "func(b=4, a=7, c=9)  # can we reassigned as per out need.\n",
    "func(42, 43, 44)  # can pass the values as positional arguments as well."
   ]
  },
  {
   "cell_type": "code",
   "execution_count": 7,
   "id": "88309dcf-acc3-444d-89af-be6d58513848",
   "metadata": {},
   "outputs": [
    {
     "ename": "SyntaxError",
     "evalue": "positional argument follows keyword argument (Temp/ipykernel_33756/2401957343.py, line 4)",
     "output_type": "error",
     "traceback": [
      "\u001b[1;36m  File \u001b[1;32m\"C:\\Users\\kumarrav\\AppData\\Local\\Temp/ipykernel_33756/2401957343.py\"\u001b[1;36m, line \u001b[1;32m4\u001b[0m\n\u001b[1;33m    func(b=1, c=2, 42)\u001b[0m\n\u001b[1;37m                  ^\u001b[0m\n\u001b[1;31mSyntaxError\u001b[0m\u001b[1;31m:\u001b[0m positional argument follows keyword argument\n"
     ]
    }
   ],
   "source": [
    "# arguments.default.error.py\n",
    "def func(a, b=4, c=88):\n",
    "    print(a, b, c)\n",
    "func(b=1, c=2, 42)  # simulating the error"
   ]
  },
  {
   "cell_type": "markdown",
   "id": "1a7f1b0b-d290-49c8-b965-5be6bfcab1a8",
   "metadata": {},
   "source": [
    "## Variable positional arguments"
   ]
  },
  {
   "cell_type": "code",
   "execution_count": 12,
   "id": "3ce95f6e-a102-493f-8b41-d7defbaa2de9",
   "metadata": {},
   "outputs": [
    {
     "name": "stdout",
     "output_type": "stream",
     "text": [
      "<class 'tuple'>\n",
      "-7\n",
      "<class 'tuple'>\n",
      "error\n"
     ]
    }
   ],
   "source": [
    "# arguments.variable.positional.py\n",
    "def minimum(*n):\n",
    "    print(type(n))\n",
    "    # n should be a tuple in this sample code\n",
    "    if n: #  signifies if True, as any number is true\n",
    "        mn = n[0]\n",
    "        for value in n[1:]:\n",
    "            if value < mn:\n",
    "                mn = value\n",
    "        print(mn)\n",
    "    if not n:\n",
    "        print('error')\n",
    "minimum(1, 2, -7, 8)\n",
    "minimum()"
   ]
  },
  {
   "cell_type": "code",
   "execution_count": 16,
   "id": "7ca0b871-f9f6-47dd-ae6d-fcb2d618718b",
   "metadata": {},
   "outputs": [
    {
     "name": "stdout",
     "output_type": "stream",
     "text": [
      "(1, 3, -7, 9)\n",
      "((1, 3, -7, 9),)\n"
     ]
    }
   ],
   "source": [
    "# arguments.variable.positional.unpacking.py\n",
    "def func(*args):\n",
    "    print(args)\n",
    "\n",
    "values = (1, 3, -7, 9)\n",
    "\n",
    "func(*values)\n",
    "func(values)  # this returns list of tuples."
   ]
  },
  {
   "cell_type": "markdown",
   "id": "ae683e1a-86b8-4b58-b7fe-af5e38cf8c1b",
   "metadata": {},
   "source": [
    "## Variable keyword arguments"
   ]
  },
  {
   "cell_type": "code",
   "execution_count": 19,
   "id": "cd13a773-927d-446b-9901-507d2c9415d6",
   "metadata": {},
   "outputs": [
    {
     "name": "stdout",
     "output_type": "stream",
     "text": [
      "{'a': 1, 'b': 42}\n",
      "{'a': 1, 'b': 42}\n",
      "{'a': 1, 'b': 42}\n"
     ]
    }
   ],
   "source": [
    "# arguments.variable.keyword.py\n",
    "def func(**kwargs):\n",
    "    print(kwargs)\n",
    "    \n",
    "# All calls are equivalent\n",
    "func(a=1, b=42)\n",
    "func(**{'a' : 1, 'b' : 42})\n",
    "func(**dict(a=1, b=42))"
   ]
  },
  {
   "cell_type": "code",
   "execution_count": 24,
   "id": "6a2233a6-a275-4f12-86b9-2958d0430820",
   "metadata": {},
   "outputs": [
    {
     "name": "stdout",
     "output_type": "stream",
     "text": [
      "{'host': '127.0.0.1', 'port': 5432, 'user': '', 'pwd': ''}\n",
      "{'host': 'dbrrms.local', 'port': 20000, 'user': 'psycopg', 'pwd': 'mysecretpassword'}\n",
      "{'host': '127.0.0.42', 'port': 5433, 'user': '', 'pwd': ''}\n"
     ]
    }
   ],
   "source": [
    "#arguments.variable.db.py\n",
    "def connect(**options):\n",
    "    conn_params = {\n",
    "        'host' : options.get('host', '127.0.0.1'),\n",
    "        'port' : options.get('port', 5432),\n",
    "        'user' : options.get('user', ''),\n",
    "        'pwd' : options.get('pwd', ''),\n",
    "    }\n",
    "    print(conn_params)\n",
    "    \n",
    "connect()\n",
    "connect(host='dbrrms.local', port=20000, user='psycopg', pwd= 'mysecretpassword')\n",
    "connect(host='127.0.0.42', port=5433)"
   ]
  },
  {
   "cell_type": "markdown",
   "id": "4b53c464-5ba6-4f56-9ca9-33c8515a6b4f",
   "metadata": {},
   "source": [
    "## Keyword-only arguments"
   ]
  },
  {
   "cell_type": "code",
   "execution_count": 29,
   "id": "2a1e97fa-b8e9-461f-a10a-6075fe1c2a84",
   "metadata": {},
   "outputs": [
    {
     "name": "stdout",
     "output_type": "stream",
     "text": [
      "(1, 2, 3) 4\n",
      "() 4\n"
     ]
    },
    {
     "ename": "TypeError",
     "evalue": "kwo() missing 1 required keyword-only argument: 'c'",
     "output_type": "error",
     "traceback": [
      "\u001b[1;31m---------------------------------------------------------------------------\u001b[0m",
      "\u001b[1;31mTypeError\u001b[0m                                 Traceback (most recent call last)",
      "\u001b[1;32m~\\AppData\\Local\\Temp/ipykernel_33756/3651657576.py\u001b[0m in \u001b[0;36m<module>\u001b[1;34m\u001b[0m\n\u001b[0;32m      5\u001b[0m \u001b[0mkwo\u001b[0m\u001b[1;33m(\u001b[0m\u001b[1;36m1\u001b[0m\u001b[1;33m,\u001b[0m \u001b[1;36m2\u001b[0m\u001b[1;33m,\u001b[0m \u001b[1;36m3\u001b[0m\u001b[1;33m,\u001b[0m \u001b[0mc\u001b[0m\u001b[1;33m=\u001b[0m\u001b[1;36m4\u001b[0m\u001b[1;33m)\u001b[0m\u001b[1;33m\u001b[0m\u001b[1;33m\u001b[0m\u001b[0m\n\u001b[0;32m      6\u001b[0m \u001b[0mkwo\u001b[0m\u001b[1;33m(\u001b[0m\u001b[0mc\u001b[0m\u001b[1;33m=\u001b[0m\u001b[1;36m4\u001b[0m\u001b[1;33m)\u001b[0m\u001b[1;33m\u001b[0m\u001b[1;33m\u001b[0m\u001b[0m\n\u001b[1;32m----> 7\u001b[1;33m \u001b[0mkwo\u001b[0m\u001b[1;33m(\u001b[0m\u001b[1;36m1\u001b[0m\u001b[1;33m,\u001b[0m \u001b[1;36m2\u001b[0m\u001b[1;33m)\u001b[0m\u001b[1;33m\u001b[0m\u001b[1;33m\u001b[0m\u001b[0m\n\u001b[0m",
      "\u001b[1;31mTypeError\u001b[0m: kwo() missing 1 required keyword-only argument: 'c'"
     ]
    }
   ],
   "source": [
    "# arguments.keyword.only.py\n",
    "def kwo(*a, c):\n",
    "    print(a, c)\n",
    "    \n",
    "kwo(1, 2, 3, c=4)\n",
    "kwo(c=4)\n",
    "kwo(1, 2)"
   ]
  },
  {
   "cell_type": "code",
   "execution_count": 31,
   "id": "0b77bee9-8e41-4059-92c2-41ce67cc1199",
   "metadata": {},
   "outputs": [
    {
     "name": "stdout",
     "output_type": "stream",
     "text": [
      "(1, 2, 3) 4\n",
      "() 4\n",
      "(1, 2) None\n"
     ]
    }
   ],
   "source": [
    "# arguments.keyword.only2.py\n",
    "def kwo(*a, c=None):\n",
    "    print(a, c)\n",
    "    \n",
    "kwo(1, 2, 3, c=4)\n",
    "kwo(c=4)\n",
    "kwo(1, 2)"
   ]
  },
  {
   "cell_type": "code",
   "execution_count": 34,
   "id": "2f32b548-e449-460d-8620-eda813942182",
   "metadata": {},
   "outputs": [
    {
     "name": "stdout",
     "output_type": "stream",
     "text": [
      "3 17 99\n",
      "3 42 100\n"
     ]
    },
    {
     "ename": "TypeError",
     "evalue": "kwo2() missing 1 required keyword-only argument: 'c'",
     "output_type": "error",
     "traceback": [
      "\u001b[1;31m---------------------------------------------------------------------------\u001b[0m",
      "\u001b[1;31mTypeError\u001b[0m                                 Traceback (most recent call last)",
      "\u001b[1;32m~\\AppData\\Local\\Temp/ipykernel_33756/3475698332.py\u001b[0m in \u001b[0;36m<module>\u001b[1;34m\u001b[0m\n\u001b[0;32m      4\u001b[0m \u001b[0mkwo2\u001b[0m\u001b[1;33m(\u001b[0m\u001b[1;36m3\u001b[0m\u001b[1;33m,\u001b[0m \u001b[0mb\u001b[0m\u001b[1;33m=\u001b[0m\u001b[1;36m17\u001b[0m\u001b[1;33m,\u001b[0m \u001b[0mc\u001b[0m\u001b[1;33m=\u001b[0m\u001b[1;36m99\u001b[0m\u001b[1;33m)\u001b[0m\u001b[1;33m\u001b[0m\u001b[1;33m\u001b[0m\u001b[0m\n\u001b[0;32m      5\u001b[0m \u001b[0mkwo2\u001b[0m\u001b[1;33m(\u001b[0m\u001b[1;36m3\u001b[0m\u001b[1;33m,\u001b[0m \u001b[0mc\u001b[0m\u001b[1;33m=\u001b[0m\u001b[1;36m100\u001b[0m\u001b[1;33m)\u001b[0m\u001b[1;33m\u001b[0m\u001b[1;33m\u001b[0m\u001b[0m\n\u001b[1;32m----> 6\u001b[1;33m \u001b[0mkwo2\u001b[0m\u001b[1;33m(\u001b[0m\u001b[1;36m3\u001b[0m\u001b[1;33m,\u001b[0m \u001b[1;36m34\u001b[0m\u001b[1;33m)\u001b[0m\u001b[1;33m\u001b[0m\u001b[1;33m\u001b[0m\u001b[0m\n\u001b[0m",
      "\u001b[1;31mTypeError\u001b[0m: kwo2() missing 1 required keyword-only argument: 'c'"
     ]
    }
   ],
   "source": [
    "def kwo2(a, b=42, *, c):\n",
    "    print(a, b, c)\n",
    "    \n",
    "kwo2(3, b=17, c=99)\n",
    "kwo2(3, c=100)\n",
    "kwo2(3, 34)"
   ]
  },
  {
   "cell_type": "markdown",
   "id": "f830eab1-f111-4554-af4c-d3fa40e1b1a5",
   "metadata": {},
   "source": [
    "## Combining Input parameters"
   ]
  },
  {
   "cell_type": "code",
   "execution_count": 35,
   "id": "368c36e5-8854-4c30-8d35-eb13b36727d7",
   "metadata": {},
   "outputs": [
    {
     "name": "stdout",
     "output_type": "stream",
     "text": [
      "a, b, c: 1 2 3\n",
      "args: ()\n",
      "kwargs: {}\n"
     ]
    }
   ],
   "source": [
    "# arguments.all.py\n",
    "def func(a, b, c=7, *args, **kwargs):\n",
    "    print('a, b, c:', a, b, c)\n",
    "    print('args:', args)\n",
    "    print('kwargs:', kwargs)\n",
    "    \n",
    "func(1, 2, 3)"
   ]
  },
  {
   "cell_type": "code",
   "execution_count": 37,
   "id": "b3398b3f-4ecc-4d7c-a5d9-2e287fea1bc0",
   "metadata": {},
   "outputs": [
    {
     "name": "stdout",
     "output_type": "stream",
     "text": [
      "a, b, c: 1 2 3\n",
      "args: (4, 5)\n",
      "kwargs: {}\n"
     ]
    }
   ],
   "source": [
    "func(1, 2, 3, *(4, 5))"
   ]
  },
  {
   "cell_type": "code",
   "execution_count": 38,
   "id": "22db91dc-9b3a-4749-b67e-a7c791dcd9b7",
   "metadata": {},
   "outputs": [
    {
     "name": "stdout",
     "output_type": "stream",
     "text": [
      "a, b, c: 1 2 3\n",
      "args: ((4, 5),)\n",
      "kwargs: {}\n"
     ]
    }
   ],
   "source": [
    "func(1, 2, 3, (4, 5))"
   ]
  },
  {
   "cell_type": "code",
   "execution_count": 40,
   "id": "5e829924-69d2-4cb9-9a82-bbcfa25af744",
   "metadata": {},
   "outputs": [
    {
     "name": "stdout",
     "output_type": "stream",
     "text": [
      "a, b, c: 1 2 3\n",
      "args: ((4, 5), {'x': 7, 'y': 8})\n",
      "kwargs: {}\n"
     ]
    }
   ],
   "source": [
    "func(1, 2, 3, (4, 5), {'x':7, 'y':8})"
   ]
  },
  {
   "cell_type": "code",
   "execution_count": 41,
   "id": "b475175f-0788-4e5a-b5d9-3e13e22db6ee",
   "metadata": {},
   "outputs": [
    {
     "name": "stdout",
     "output_type": "stream",
     "text": [
      "a, b, c: 1 2 3\n",
      "args: ((4, 5),)\n",
      "kwargs: {'x': 7, 'y': 8}\n"
     ]
    }
   ],
   "source": [
    "func(1, 2, 3, (4, 5), **{'x':7, 'y':8})"
   ]
  },
  {
   "cell_type": "code",
   "execution_count": 43,
   "id": "65e6d59a-05dd-4f29-8c7f-ade5f20b4e8b",
   "metadata": {},
   "outputs": [
    {
     "name": "stdout",
     "output_type": "stream",
     "text": [
      "a, b, c: 1 2 3\n",
      "args: (4, 5, 'x', 'y')\n",
      "kwargs: {}\n"
     ]
    }
   ],
   "source": [
    "func(1, 2, 3, *(4, 5), *{'x':7, 'y':8})"
   ]
  },
  {
   "cell_type": "code",
   "execution_count": 46,
   "id": "820c4be1-4613-4036-ae6d-13b1b4b2b871",
   "metadata": {},
   "outputs": [
    {
     "name": "stdout",
     "output_type": "stream",
     "text": [
      "a, b: 3 42\n",
      "c, d: 1 256\n",
      "args: ()\n",
      "kwargs: {}\n"
     ]
    }
   ],
   "source": [
    "# arguments.all.kwonly.py\n",
    "def func_with_kwonly(a, b=42, *args, c, d=256, **kwargs):\n",
    "    print('a, b:', a, b)\n",
    "    print('c, d:', c, d)\n",
    "    print('args:', args)\n",
    "    print('kwargs:', kwargs)\n",
    "    \n",
    "func_with_kwonly(3, 42, c=1)"
   ]
  },
  {
   "cell_type": "code",
   "execution_count": 47,
   "id": "fdbd93af-209c-4714-9032-60227f8bf972",
   "metadata": {},
   "outputs": [
    {
     "name": "stdout",
     "output_type": "stream",
     "text": [
      "a, b: 3 42\n",
      "c, d: 12 256\n",
      "args: (1, 2)\n",
      "kwargs: {'x': 11, 'y': 22}\n"
     ]
    }
   ],
   "source": [
    "func_with_kwonly(3, 42, *(1, 2), c=12, **{'x': 11, 'y':22})"
   ]
  },
  {
   "cell_type": "markdown",
   "id": "5bde9a4d-958e-46e0-9c57-e178a8d8f459",
   "metadata": {},
   "source": [
    "## Additional unpacking generalizations"
   ]
  },
  {
   "cell_type": "code",
   "execution_count": 48,
   "id": "4d7028e3-e8ab-4d84-bfb0-5ffe024c683f",
   "metadata": {},
   "outputs": [
    {
     "name": "stdout",
     "output_type": "stream",
     "text": [
      "(1, 2, 3, 4, 5)\n",
      "{'option3': 30, 'option1': 10, 'option2': 20}\n"
     ]
    }
   ],
   "source": [
    "# additional.unpacking.py\n",
    "def additional(*args, **kwargs):\n",
    "    print(args)\n",
    "    print(kwargs)\n",
    "    \n",
    "args1 = (1, 2, 3)\n",
    "args2 = [4, 5]\n",
    "kwargs1 = {'option3': 30}\n",
    "kwargs2 = dict(option1=10, option2=20)\n",
    "\n",
    "additional(*args1, *args2, **kwargs1, **kwargs2)"
   ]
  },
  {
   "cell_type": "code",
   "execution_count": null,
   "id": "0c8255c2-fba2-4d96-bccb-1a98ffc2d400",
   "metadata": {},
   "outputs": [],
   "source": []
  }
 ],
 "metadata": {
  "kernelspec": {
   "display_name": "Python 3 (ipykernel)",
   "language": "python",
   "name": "python3"
  },
  "language_info": {
   "codemirror_mode": {
    "name": "ipython",
    "version": 3
   },
   "file_extension": ".py",
   "mimetype": "text/x-python",
   "name": "python",
   "nbconvert_exporter": "python",
   "pygments_lexer": "ipython3",
   "version": "3.7.9"
  }
 },
 "nbformat": 4,
 "nbformat_minor": 5
}
