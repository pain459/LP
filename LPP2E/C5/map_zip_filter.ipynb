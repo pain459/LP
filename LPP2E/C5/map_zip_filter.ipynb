{
 "cells": [
  {
   "cell_type": "markdown",
   "id": "05217d4b-8386-4715-ad1a-b492d9d7f921",
   "metadata": {},
   "source": [
    "## map"
   ]
  },
  {
   "cell_type": "code",
   "execution_count": 3,
   "id": "be16299e-594e-4381-8716-ad5df89e7835",
   "metadata": {},
   "outputs": [
    {
     "data": {
      "text/plain": [
       "[(0,), (1,), (2,)]"
      ]
     },
     "execution_count": 3,
     "metadata": {},
     "output_type": "execute_result"
    }
   ],
   "source": [
    "# map.example.py\n",
    "_ = list  # common from this exercise\n",
    "_(map(lambda *a: a, range(3)))"
   ]
  },
  {
   "cell_type": "code",
   "execution_count": 4,
   "id": "024b9cab-d8ba-46c2-9884-60f0b5fe72e7",
   "metadata": {},
   "outputs": [
    {
     "data": {
      "text/plain": [
       "[(0, 'a'), (1, 'b'), (2, 'c')]"
      ]
     },
     "execution_count": 4,
     "metadata": {},
     "output_type": "execute_result"
    }
   ],
   "source": [
    "_(map(lambda *a: a, range(3), 'abc'))"
   ]
  },
  {
   "cell_type": "code",
   "execution_count": 17,
   "id": "47eec293-40c3-4d8f-af4e-80b5ee6c15b0",
   "metadata": {},
   "outputs": [
    {
     "data": {
      "text/plain": [
       "[(0, 'a'), (1, 'b'), (2, 'c')]"
      ]
     },
     "execution_count": 17,
     "metadata": {},
     "output_type": "execute_result"
    }
   ],
   "source": [
    "_(map(lambda *a: a, range(3), 'abcd'))  # additional arguments will be discarded automatically"
   ]
  },
  {
   "cell_type": "code",
   "execution_count": 16,
   "id": "b00a0a83-16e6-41ea-9dae-4f084b9dd185",
   "metadata": {},
   "outputs": [
    {
     "data": {
      "text/plain": [
       "[(0, 'a', 4), (1, 'b', 5), (2, 'c', 6)]"
      ]
     },
     "execution_count": 16,
     "metadata": {},
     "output_type": "execute_result"
    }
   ],
   "source": [
    "_(map(lambda *a: a, range(3), 'abc', range(4, 7)))"
   ]
  },
  {
   "cell_type": "code",
   "execution_count": 11,
   "id": "ca6d617c-7ea1-49ec-9097-4752bd151e74",
   "metadata": {},
   "outputs": [
    {
     "data": {
      "text/plain": [
       "[(1, 'a'), (2, 'b'), (3, 'c')]"
      ]
     },
     "execution_count": 11,
     "metadata": {},
     "output_type": "execute_result"
    }
   ],
   "source": [
    "_(map(lambda *a: a, (1, 2, 3, 4), 'abc'))"
   ]
  },
  {
   "cell_type": "code",
   "execution_count": 21,
   "id": "94792c66-b023-4c95-b771-cb7d089705fd",
   "metadata": {},
   "outputs": [
    {
     "data": {
      "text/plain": [
       "(27, {'id': 2, 'credits': {'history': 8, 'physics': 9, 'chemistry': 10}})"
      ]
     },
     "execution_count": 21,
     "metadata": {},
     "output_type": "execute_result"
    }
   ],
   "source": [
    "# decorate.sort.undecorate.py\n",
    "students = [\n",
    "dict(id=0, credits=dict(math=9, physics=6, history=7)),\n",
    "dict(id=1, credits=dict(math=6, physics=7, latin=10)),\n",
    "dict(id=2, credits=dict(history=8, physics=9, chemistry=10)),\n",
    "dict(id=3, credits=dict(math=5, physics=5, geography=7)),\n",
    "]\n",
    "\n",
    "def decorate(student):\n",
    "    return (sum(student['credits'].values()), student)\n",
    "\n",
    "def undecorate(decorated_student):\n",
    "    return decorated_student[1]\n",
    "\n",
    "students = sorted(map(decorate, students), reverse=True)\n",
    "students = _(map(undecorate, students))\n",
    "\n",
    "decorate(students[0])"
   ]
  },
  {
   "cell_type": "markdown",
   "id": "58de2cc5-828d-466a-a096-a1385558a8b8",
   "metadata": {},
   "source": [
    "## Zip"
   ]
  },
  {
   "cell_type": "code",
   "execution_count": 22,
   "id": "438b6b1a-06f8-4cb3-a7fc-97ac249f7002",
   "metadata": {},
   "outputs": [
    {
     "data": {
      "text/plain": [
       "[(18, 22), (23, 21), (30, 29), (27, 27)]"
      ]
     },
     "execution_count": 22,
     "metadata": {},
     "output_type": "execute_result"
    }
   ],
   "source": [
    "# zip.grades.py\n",
    "grades = [18, 23, 30, 27]\n",
    "avgs = [22, 21, 29, 27]\n",
    "_(zip(grades, avgs))"
   ]
  },
  {
   "cell_type": "code",
   "execution_count": 27,
   "id": "b889cddc-7bf7-4332-8d66-f1392cd0d7a5",
   "metadata": {},
   "outputs": [
    {
     "data": {
      "text/plain": [
       "[(18, 22), (23, 21), (30, 29), (27, 27)]"
      ]
     },
     "execution_count": 27,
     "metadata": {},
     "output_type": "execute_result"
    }
   ],
   "source": [
    "_(map(lambda *a: a, grades, avgs,))"
   ]
  },
  {
   "cell_type": "code",
   "execution_count": 30,
   "id": "eb388656-d470-4dad-ba91-793848eba125",
   "metadata": {},
   "outputs": [],
   "source": [
    "# maxims.py\n",
    "a = [5, 9, 2, 4, 7]\n",
    "b = [3, 7, 1, 9, 2]\n",
    "c = [6, 8, 0, 5, 3]\n",
    "maxs = map(lambda n: max(*n), zip(a, b, c))"
   ]
  },
  {
   "cell_type": "code",
   "execution_count": 31,
   "id": "7e1f4e51-d65e-4abf-bc72-f9cf072d5228",
   "metadata": {},
   "outputs": [
    {
     "data": {
      "text/plain": [
       "[6, 9, 2, 9, 7]"
      ]
     },
     "execution_count": 31,
     "metadata": {},
     "output_type": "execute_result"
    }
   ],
   "source": [
    "_(maxs)"
   ]
  },
  {
   "cell_type": "markdown",
   "id": "42c3b2a0-1369-452c-a19c-18e72aa81c76",
   "metadata": {},
   "source": [
    "## filter"
   ]
  },
  {
   "cell_type": "code",
   "execution_count": 32,
   "id": "03652555-5a6e-430b-8184-d5e002d34e33",
   "metadata": {},
   "outputs": [
    {
     "data": {
      "text/plain": [
       "[2, 5, 8, 1]"
      ]
     },
     "execution_count": 32,
     "metadata": {},
     "output_type": "execute_result"
    }
   ],
   "source": [
    "test = [2, 5, 8, 0, 0, 1, 0]\n",
    "_(filter(None, test))  # filters out zeros"
   ]
  },
  {
   "cell_type": "code",
   "execution_count": 33,
   "id": "0495063c-465e-46a1-be76-38888dd7faae",
   "metadata": {},
   "outputs": [
    {
     "data": {
      "text/plain": [
       "[5, 8]"
      ]
     },
     "execution_count": 33,
     "metadata": {},
     "output_type": "execute_result"
    }
   ],
   "source": [
    "_(filter(lambda x: x > 4, test))  # keep only items > 4"
   ]
  },
  {
   "cell_type": "markdown",
   "id": "259460f1-7046-4279-82a4-95392c058e4d",
   "metadata": {},
   "source": []
  }
 ],
 "metadata": {
  "kernelspec": {
   "display_name": "Python 3 (ipykernel)",
   "language": "python",
   "name": "python3"
  },
  "language_info": {
   "codemirror_mode": {
    "name": "ipython",
    "version": 3
   },
   "file_extension": ".py",
   "mimetype": "text/x-python",
   "name": "python",
   "nbconvert_exporter": "python",
   "pygments_lexer": "ipython3",
   "version": "3.7.9"
  }
 },
 "nbformat": 4,
 "nbformat_minor": 5
}
