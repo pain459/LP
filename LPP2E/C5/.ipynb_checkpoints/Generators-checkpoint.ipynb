{
 "cells": [
  {
   "cell_type": "markdown",
   "id": "cb594c01-2926-4419-861c-ece0e4b6c278",
   "metadata": {},
   "source": [
    "## Generator Functions"
   ]
  },
  {
   "cell_type": "code",
   "execution_count": 2,
   "id": "bc6077d8-cf5b-4252-b712-634782085d4b",
   "metadata": {},
   "outputs": [
    {
     "data": {
      "text/plain": [
       "[0, 1, 4, 9, 16, 25, 36, 49, 64, 81]"
      ]
     },
     "execution_count": 2,
     "metadata": {},
     "output_type": "execute_result"
    }
   ],
   "source": [
    "# first.n.squares.py\n",
    "def get_squares(n):  # classic approach\n",
    "    return [x ** 2 for x in range(n)]\n",
    "\n",
    "get_squares(10)"
   ]
  },
  {
   "cell_type": "code",
   "execution_count": 4,
   "id": "e614d062-d46d-46d5-ad3b-35d8c74675bb",
   "metadata": {},
   "outputs": [
    {
     "data": {
      "text/plain": [
       "[0, 1, 4, 9, 16, 25, 36, 49, 64, 81]"
      ]
     },
     "execution_count": 4,
     "metadata": {},
     "output_type": "execute_result"
    }
   ],
   "source": [
    "def get_squares_gen(n):  # generator approach\n",
    "    for x in range(n):\n",
    "        yield x ** 2  # we yield, not return.\n",
    "        \n",
    "list(get_squares_gen(10))"
   ]
  },
  {
   "cell_type": "code",
   "execution_count": 6,
   "id": "cebef04d-9398-4300-899e-4a4e48ab2698",
   "metadata": {},
   "outputs": [
    {
     "name": "stdout",
     "output_type": "stream",
     "text": [
      "2\n",
      "10\n",
      "50\n",
      "250\n",
      "1250\n",
      "6250\n",
      "31250\n"
     ]
    }
   ],
   "source": [
    "# gen.yield.return.py\n",
    "def geometric_progression(a, q):\n",
    "    k = 0\n",
    "    while True:\n",
    "        result = a * q**k\n",
    "        if result <= 100000:\n",
    "            yield result\n",
    "        else:\n",
    "            return\n",
    "        k += 1\n",
    "        \n",
    "for n in geometric_progression(2, 5):\n",
    "    print(n)"
   ]
  },
  {
   "cell_type": "markdown",
   "id": "7b02e30d-ed1b-48aa-ab95-9fcaffc67cbd",
   "metadata": {},
   "source": [
    "## Generator Expressions"
   ]
  },
  {
   "cell_type": "code",
   "execution_count": 7,
   "id": "c13be5e7-44d4-4b79-8a84-249507074da9",
   "metadata": {},
   "outputs": [
    {
     "data": {
      "text/plain": [
       "[0, 1, 8, 27, 64, 125, 216, 343, 512, 729]"
      ]
     },
     "execution_count": 7,
     "metadata": {},
     "output_type": "execute_result"
    }
   ],
   "source": [
    "# generator.expressions.py\n",
    "cubes = [k ** 3 for k in range(10)]  # regular list\n",
    "cubes"
   ]
  },
  {
   "cell_type": "code",
   "execution_count": 10,
   "id": "e606bd65-47df-461d-af0e-e2b5d996a7c0",
   "metadata": {},
   "outputs": [
    {
     "data": {
      "text/plain": [
       "[0, 1, 8, 27, 64, 125, 216, 343, 512, 729]"
      ]
     },
     "execution_count": 10,
     "metadata": {},
     "output_type": "execute_result"
    }
   ],
   "source": [
    "_ = list\n",
    "cubes_gen = (k ** 3 for k in range(10))  # Basic difference is generator be wrapped in ()\n",
    "_(cubes_gen)"
   ]
  },
  {
   "cell_type": "code",
   "execution_count": 11,
   "id": "088d51c7-6c7b-47ee-b988-07e36c5933aa",
   "metadata": {},
   "outputs": [
    {
     "data": {
      "text/plain": [
       "[]"
      ]
     },
     "execution_count": 11,
     "metadata": {},
     "output_type": "execute_result"
    }
   ],
   "source": [
    "_(cubes_gen)  # and exptied. nothing more to give."
   ]
  },
  {
   "cell_type": "code",
   "execution_count": 14,
   "id": "09fb37ca-b78b-4b52-b28e-446b8a98585e",
   "metadata": {},
   "outputs": [
    {
     "data": {
      "text/plain": [
       "10000"
      ]
     },
     "execution_count": 14,
     "metadata": {},
     "output_type": "execute_result"
    }
   ],
   "source": [
    "# gen.map.py\n",
    "def adder(*n):\n",
    "    return sum(n)\n",
    "\n",
    "s1 = sum(map(lambda *n: adder(*n), range(100), range(1, 101)))\n",
    "s1"
   ]
  },
  {
   "cell_type": "markdown",
   "id": "5d01df24-f101-41cb-b5c7-d78f1e739fbe",
   "metadata": {},
   "source": [
    "### Some performance considerations"
   ]
  },
  {
   "cell_type": "code",
   "execution_count": 16,
   "id": "8b622b55-9f0f-4f47-a64c-60e1ef25fd16",
   "metadata": {},
   "outputs": [
    {
     "name": "stdout",
     "output_type": "stream",
     "text": [
      "for loop: 3.2422 s\n",
      "list comprehension: 2.5034 s\n",
      "generator expression: 0.0181 s\n"
     ]
    }
   ],
   "source": [
    "# Comparing the time between for, comprehension & generator\n",
    "from time import time\n",
    "mx = 5000\n",
    "\n",
    "t = time()\n",
    "floop = []\n",
    "for a in range(1, mx):\n",
    "    for b in range(a, mx):\n",
    "        floop.append(divmod(a, b))\n",
    "print('for loop: {:.4f} s'.format(time() - t))  # elapsed time\n",
    "\n",
    "t = time()\n",
    "compr = [divmod(a, b) for a in range(1, mx) for b in range(a, mx)]\n",
    "print('list comprehension: {:.4f} s'.format(time() - t))\n",
    "\n",
    "t = time()\n",
    "gener = list(divmod(a, b) for a in range(1, mx) for b in (a, mx))\n",
    "print('generator expression: {:.4f} s'.format(time() - t))"
   ]
  },
  {
   "cell_type": "code",
   "execution_count": 17,
   "id": "70d41300-b317-4637-9a5f-0b3e0df0f2af",
   "metadata": {},
   "outputs": [
    {
     "name": "stdout",
     "output_type": "stream",
     "text": [
      "for loop: 2.8561 s\n",
      "list comprehension: 1.6643 s\n"
     ]
    },
    {
     "ename": "NameError",
     "evalue": "name 'bs' is not defined",
     "output_type": "error",
     "traceback": [
      "\u001b[1;31m---------------------------------------------------------------------------\u001b[0m",
      "\u001b[1;31mNameError\u001b[0m                                 Traceback (most recent call last)",
      "\u001b[1;32m~\\AppData\\Local\\Temp/ipykernel_2468/2214489621.py\u001b[0m in \u001b[0;36m<module>\u001b[1;34m\u001b[0m\n\u001b[0;32m     13\u001b[0m \u001b[1;33m\u001b[0m\u001b[0m\n\u001b[0;32m     14\u001b[0m \u001b[0mt\u001b[0m \u001b[1;33m=\u001b[0m \u001b[0mtime\u001b[0m\u001b[1;33m(\u001b[0m\u001b[1;33m)\u001b[0m\u001b[1;33m\u001b[0m\u001b[1;33m\u001b[0m\u001b[0m\n\u001b[1;32m---> 15\u001b[1;33m \u001b[0mabsmap\u001b[0m \u001b[1;33m=\u001b[0m \u001b[0mlist\u001b[0m\u001b[1;33m(\u001b[0m\u001b[0mbs\u001b[0m\u001b[1;33m,\u001b[0m \u001b[0mrange\u001b[0m\u001b[1;33m(\u001b[0m\u001b[0mmx\u001b[0m\u001b[1;33m)\u001b[0m\u001b[1;33m)\u001b[0m\u001b[1;33m\u001b[0m\u001b[1;33m\u001b[0m\u001b[0m\n\u001b[0m\u001b[0;32m     16\u001b[0m \u001b[0mprint\u001b[0m\u001b[1;33m(\u001b[0m\u001b[1;34m'map:.4f} s'\u001b[0m\u001b[1;33m.\u001b[0m\u001b[0mformat\u001b[0m\u001b[1;33m(\u001b[0m\u001b[0mtime\u001b[0m\u001b[1;33m(\u001b[0m\u001b[1;33m)\u001b[0m \u001b[1;33m-\u001b[0m \u001b[0mt\u001b[0m\u001b[1;33m)\u001b[0m\u001b[1;33m)\u001b[0m\u001b[1;33m\u001b[0m\u001b[1;33m\u001b[0m\u001b[0m\n",
      "\u001b[1;31mNameError\u001b[0m: name 'bs' is not defined"
     ]
    }
   ],
   "source": [
    "# performances.map.py\n",
    "from time import time\n",
    "mx = 2 * 10 ** 7\n",
    "t = time()\n",
    "absloop = []\n",
    "for n in range(mx):\n",
    "    absloop.append(abs(n))\n",
    "print('for loop: {:.4f} s'.format(time() - t))\n",
    "\n",
    "t = time()\n",
    "abslist = [abs(n) for n in range(mx)]\n",
    "print('list comprehension: {:.4f} s'.format(time() - t))\n",
    "\n",
    "t = time()\n",
    "absmap = list(abs, range(mx))\n",
    "print('map:.4f} s'.format(time() - t))"
   ]
  },
  {
   "cell_type": "code",
   "execution_count": null,
   "id": "8482ca98-eec1-4cb4-8d77-2affde6e0284",
   "metadata": {},
   "outputs": [],
   "source": []
  }
 ],
 "metadata": {
  "kernelspec": {
   "display_name": "Python 3 (ipykernel)",
   "language": "python",
   "name": "python3"
  },
  "language_info": {
   "codemirror_mode": {
    "name": "ipython",
    "version": 3
   },
   "file_extension": ".py",
   "mimetype": "text/x-python",
   "name": "python",
   "nbconvert_exporter": "python",
   "pygments_lexer": "ipython3",
   "version": "3.7.9"
  }
 },
 "nbformat": 4,
 "nbformat_minor": 5
}
