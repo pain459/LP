{
 "cells": [
  {
   "cell_type": "code",
   "execution_count": 2,
   "id": "dee66f84-aba0-43d1-94b8-b5f61ca362e5",
   "metadata": {},
   "outputs": [
    {
     "data": {
      "text/plain": [
       "[0, 1, 4, 9, 16, 25, 36, 49, 64, 81]"
      ]
     },
     "execution_count": 2,
     "metadata": {},
     "output_type": "execute_result"
    }
   ],
   "source": [
    "# squares.map.py\n",
    "_ = list\n",
    "squares = _(map(lambda x: x ** 2, range(10)))\n",
    "squares"
   ]
  },
  {
   "cell_type": "code",
   "execution_count": 3,
   "id": "bb1d0cff-9087-42ee-b6a8-db08c9665c62",
   "metadata": {},
   "outputs": [
    {
     "data": {
      "text/plain": [
       "[0, 1, 4, 9, 16, 25, 36, 49, 64, 81]"
      ]
     },
     "execution_count": 3,
     "metadata": {},
     "output_type": "execute_result"
    }
   ],
   "source": [
    "# squares.list.comprehension.py\n",
    "[i ** 2 for i in range(10)]"
   ]
  },
  {
   "cell_type": "code",
   "execution_count": 5,
   "id": "3f8e114e-20d8-4336-9c03-9fd45e051b56",
   "metadata": {},
   "outputs": [
    {
     "data": {
      "text/plain": [
       "[0, 4, 16, 36, 64]"
      ]
     },
     "execution_count": 5,
     "metadata": {},
     "output_type": "execute_result"
    }
   ],
   "source": [
    "# even.squares.py\n",
    "_ = list\n",
    "even_squares = _(map(lambda x: x ** 2 , filter(lambda n: not n % 2, range(10))))\n",
    "even_squares"
   ]
  },
  {
   "cell_type": "code",
   "execution_count": 6,
   "id": "d9b61801-5f58-4314-bf56-573fb05f8bf6",
   "metadata": {},
   "outputs": [
    {
     "data": {
      "text/plain": [
       "[0, 4, 16, 36, 64]"
      ]
     },
     "execution_count": 6,
     "metadata": {},
     "output_type": "execute_result"
    }
   ],
   "source": [
    "# even.squares.using.comprehensions.py\n",
    "[i ** 2 for i in range(10) if not i % 2]"
   ]
  },
  {
   "cell_type": "markdown",
   "id": "2b951578-5860-4d1e-b0e0-70f01619c4ac",
   "metadata": {},
   "source": [
    "## Nested comprehensions"
   ]
  },
  {
   "cell_type": "code",
   "execution_count": 9,
   "id": "8a73f17f-943c-489c-b302-aa09e33ee897",
   "metadata": {},
   "outputs": [
    {
     "data": {
      "text/plain": [
       "[('A', 'A'),\n",
       " ('A', 'B'),\n",
       " ('A', 'C'),\n",
       " ('A', 'D'),\n",
       " ('B', 'B'),\n",
       " ('B', 'C'),\n",
       " ('B', 'D'),\n",
       " ('C', 'C'),\n",
       " ('C', 'D'),\n",
       " ('D', 'D')]"
      ]
     },
     "execution_count": 9,
     "metadata": {},
     "output_type": "execute_result"
    }
   ],
   "source": [
    "# pairs.for.loop.py\n",
    "items = 'ABCD'\n",
    "pairs = []\n",
    "for a in range(len(items)):\n",
    "    for b in range(a, len(items)):\n",
    "        pairs.append((items[a], items[b]))\n",
    "        \n",
    "pairs"
   ]
  },
  {
   "cell_type": "code",
   "execution_count": 11,
   "id": "3608e489-1b11-49fd-aeda-9742a871ab50",
   "metadata": {},
   "outputs": [
    {
     "data": {
      "text/plain": [
       "[('A', 'A'),\n",
       " ('A', 'B'),\n",
       " ('A', 'C'),\n",
       " ('A', 'D'),\n",
       " ('B', 'B'),\n",
       " ('B', 'C'),\n",
       " ('B', 'D'),\n",
       " ('C', 'C'),\n",
       " ('C', 'D'),\n",
       " ('D', 'D')]"
      ]
     },
     "execution_count": 11,
     "metadata": {},
     "output_type": "execute_result"
    }
   ],
   "source": [
    "# paris.list.comprehension.py\n",
    "items = 'ABCD'\n",
    "[(items[a], items[b]) for a in range(len(items)) for b in range(a, len(items))]"
   ]
  },
  {
   "cell_type": "markdown",
   "id": "8e64f9a8-4158-4743-9c68-0c54a550f608",
   "metadata": {},
   "source": [
    "## Filtering a comprehension"
   ]
  },
  {
   "cell_type": "code",
   "execution_count": null,
   "id": "51f9a1ac-614b-4b04-90d1-9fb675d68e3b",
   "metadata": {},
   "outputs": [],
   "source": []
  }
 ],
 "metadata": {
  "kernelspec": {
   "display_name": "Python 3 (ipykernel)",
   "language": "python",
   "name": "python3"
  },
  "language_info": {
   "codemirror_mode": {
    "name": "ipython",
    "version": 3
   },
   "file_extension": ".py",
   "mimetype": "text/x-python",
   "name": "python",
   "nbconvert_exporter": "python",
   "pygments_lexer": "ipython3",
   "version": "3.7.9"
  }
 },
 "nbformat": 4,
 "nbformat_minor": 5
}
