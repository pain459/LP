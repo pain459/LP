{
 "cells": [
  {
   "cell_type": "code",
   "execution_count": 1,
   "id": "222688c1-5a4e-4b4b-94d8-fcfeda43ed0c",
   "metadata": {},
   "outputs": [],
   "source": [
    "# mutable or immutable\n",
    "age = 42"
   ]
  },
  {
   "cell_type": "code",
   "execution_count": 2,
   "id": "c77caba3-3aaa-49d9-b37b-a496f1df95f9",
   "metadata": {},
   "outputs": [
    {
     "data": {
      "text/plain": [
       "42"
      ]
     },
     "execution_count": 2,
     "metadata": {},
     "output_type": "execute_result"
    }
   ],
   "source": [
    "age"
   ]
  },
  {
   "cell_type": "code",
   "execution_count": 3,
   "id": "51a92c80-73c0-4977-883c-37825d42f0c1",
   "metadata": {},
   "outputs": [],
   "source": [
    "age = 43"
   ]
  },
  {
   "cell_type": "code",
   "execution_count": 4,
   "id": "e3fca55b-612a-4905-aeed-cb8e8d431d4c",
   "metadata": {},
   "outputs": [
    {
     "data": {
      "text/plain": [
       "43"
      ]
     },
     "execution_count": 4,
     "metadata": {},
     "output_type": "execute_result"
    }
   ],
   "source": [
    "age"
   ]
  },
  {
   "cell_type": "code",
   "execution_count": 5,
   "id": "a56de7c6-775f-4710-af47-7b69d8125456",
   "metadata": {},
   "outputs": [],
   "source": [
    "# lookinga the id of objects with different assignments\n",
    "age = 42"
   ]
  },
  {
   "cell_type": "code",
   "execution_count": 6,
   "id": "68700af4-191c-4f9e-b08f-b58edcc737e1",
   "metadata": {},
   "outputs": [
    {
     "data": {
      "text/plain": [
       "140722055971168"
      ]
     },
     "execution_count": 6,
     "metadata": {},
     "output_type": "execute_result"
    }
   ],
   "source": [
    "id(age)"
   ]
  },
  {
   "cell_type": "code",
   "execution_count": 7,
   "id": "4713643a-7ce5-4171-8732-53458c378c9d",
   "metadata": {},
   "outputs": [],
   "source": [
    "age = 43"
   ]
  },
  {
   "cell_type": "code",
   "execution_count": 8,
   "id": "8cec6a03-3b0a-4be0-b016-38cb30c20817",
   "metadata": {},
   "outputs": [
    {
     "data": {
      "text/plain": [
       "140722055971200"
      ]
     },
     "execution_count": 8,
     "metadata": {},
     "output_type": "execute_result"
    }
   ],
   "source": [
    "id(age)  # You can see the difference."
   ]
  },
  {
   "cell_type": "code",
   "execution_count": 10,
   "id": "9bb6dac8-1a7b-4445-9296-7ff5839cf58e",
   "metadata": {},
   "outputs": [],
   "source": [
    "# example on mutable object\n",
    "class Person():\n",
    "    def __init__(self, age):\n",
    "        self.age = age"
   ]
  },
  {
   "cell_type": "code",
   "execution_count": 11,
   "id": "020c6bf0-23bc-44ee-bb67-c7d38f9a00f6",
   "metadata": {},
   "outputs": [],
   "source": [
    "fab = Person(age=42)"
   ]
  },
  {
   "cell_type": "code",
   "execution_count": 12,
   "id": "e6dac2ab-3a53-4302-a692-a16d22327ac8",
   "metadata": {},
   "outputs": [
    {
     "data": {
      "text/plain": [
       "42"
      ]
     },
     "execution_count": 12,
     "metadata": {},
     "output_type": "execute_result"
    }
   ],
   "source": [
    "fab.age"
   ]
  },
  {
   "cell_type": "code",
   "execution_count": 13,
   "id": "ea62d163-d14b-475f-906d-b845f80bf8be",
   "metadata": {},
   "outputs": [
    {
     "data": {
      "text/plain": [
       "2786323294600"
      ]
     },
     "execution_count": 13,
     "metadata": {},
     "output_type": "execute_result"
    }
   ],
   "source": [
    "id(fab)"
   ]
  },
  {
   "cell_type": "code",
   "execution_count": 14,
   "id": "dc3f4f1a-c3ef-4f3b-919b-43b4cabe93a1",
   "metadata": {},
   "outputs": [],
   "source": [
    "fab.age = 25"
   ]
  },
  {
   "cell_type": "code",
   "execution_count": 15,
   "id": "683f99c1-f9ee-428f-b794-859d47cd4b5a",
   "metadata": {},
   "outputs": [
    {
     "data": {
      "text/plain": [
       "2786323294600"
      ]
     },
     "execution_count": 15,
     "metadata": {},
     "output_type": "execute_result"
    }
   ],
   "source": [
    "id(fab)"
   ]
  },
  {
   "cell_type": "code",
   "execution_count": 16,
   "id": "92b05582-6b3b-454a-a3f9-5bb5c51f525b",
   "metadata": {},
   "outputs": [
    {
     "data": {
      "text/plain": [
       "140722055970624"
      ]
     },
     "execution_count": 16,
     "metadata": {},
     "output_type": "execute_result"
    }
   ],
   "source": [
    "id(fab.age)"
   ]
  },
  {
   "cell_type": "code",
   "execution_count": 17,
   "id": "177b8564-3d48-4714-9c8f-1a46e5a208dc",
   "metadata": {},
   "outputs": [],
   "source": [
    "fab.age = 26"
   ]
  },
  {
   "cell_type": "code",
   "execution_count": 18,
   "id": "88d61149-3e2d-4e27-a7cb-423ee5258a69",
   "metadata": {},
   "outputs": [
    {
     "data": {
      "text/plain": [
       "2786323294600"
      ]
     },
     "execution_count": 18,
     "metadata": {},
     "output_type": "execute_result"
    }
   ],
   "source": [
    "id(fab)  # will remain same"
   ]
  },
  {
   "cell_type": "code",
   "execution_count": 19,
   "id": "a89345c3-1624-4234-bc63-10267ba7e68a",
   "metadata": {},
   "outputs": [
    {
     "data": {
      "text/plain": [
       "140722055970656"
      ]
     },
     "execution_count": 19,
     "metadata": {},
     "output_type": "execute_result"
    }
   ],
   "source": [
    "id(fab.age)  # will change"
   ]
  },
  {
   "cell_type": "markdown",
   "id": "65966311-6a4b-498d-bea6-7a9090bea92f",
   "metadata": {},
   "source": [
    "Numbers"
   ]
  },
  {
   "cell_type": "code",
   "execution_count": 20,
   "id": "ea80d9cd-5df7-4c96-8313-7d2a91c5cd94",
   "metadata": {},
   "outputs": [],
   "source": [
    "a = 14\n",
    "b = 3"
   ]
  },
  {
   "cell_type": "code",
   "execution_count": 21,
   "id": "6986d994-3a43-4f13-ba51-088c6ce0690b",
   "metadata": {},
   "outputs": [
    {
     "data": {
      "text/plain": [
       "17"
      ]
     },
     "execution_count": 21,
     "metadata": {},
     "output_type": "execute_result"
    }
   ],
   "source": [
    "a + b"
   ]
  },
  {
   "cell_type": "code",
   "execution_count": 22,
   "id": "791f1824-d8cc-4394-ab22-abe9f9673799",
   "metadata": {},
   "outputs": [
    {
     "data": {
      "text/plain": [
       "11"
      ]
     },
     "execution_count": 22,
     "metadata": {},
     "output_type": "execute_result"
    }
   ],
   "source": [
    "a - b"
   ]
  },
  {
   "cell_type": "code",
   "execution_count": 23,
   "id": "5a6e11ba-068a-4016-9942-c4605230b4ad",
   "metadata": {},
   "outputs": [
    {
     "data": {
      "text/plain": [
       "42"
      ]
     },
     "execution_count": 23,
     "metadata": {},
     "output_type": "execute_result"
    }
   ],
   "source": [
    "a * b"
   ]
  },
  {
   "cell_type": "code",
   "execution_count": 24,
   "id": "e85bcc3e-9318-4f4e-ad18-5d29fdf5120b",
   "metadata": {},
   "outputs": [
    {
     "data": {
      "text/plain": [
       "4.666666666666667"
      ]
     },
     "execution_count": 24,
     "metadata": {},
     "output_type": "execute_result"
    }
   ],
   "source": [
    "a /b"
   ]
  },
  {
   "cell_type": "code",
   "execution_count": 25,
   "id": "cbbefeb4-4ea0-4a49-8f2e-a413b6ea0369",
   "metadata": {},
   "outputs": [
    {
     "data": {
      "text/plain": [
       "4"
      ]
     },
     "execution_count": 25,
     "metadata": {},
     "output_type": "execute_result"
    }
   ],
   "source": [
    "a // b"
   ]
  },
  {
   "cell_type": "code",
   "execution_count": 26,
   "id": "7714f03f-5294-415d-abde-5a17994e0e8f",
   "metadata": {},
   "outputs": [
    {
     "data": {
      "text/plain": [
       "2"
      ]
     },
     "execution_count": 26,
     "metadata": {},
     "output_type": "execute_result"
    }
   ],
   "source": [
    "a % b"
   ]
  },
  {
   "cell_type": "code",
   "execution_count": 27,
   "id": "c1db44cb-fe26-4cd1-b7cd-1899d4f6c524",
   "metadata": {},
   "outputs": [
    {
     "data": {
      "text/plain": [
       "2744"
      ]
     },
     "execution_count": 27,
     "metadata": {},
     "output_type": "execute_result"
    }
   ],
   "source": [
    "a ** b"
   ]
  },
  {
   "cell_type": "code",
   "execution_count": 28,
   "id": "44fc964d-044b-4e23-889c-cd6acb764620",
   "metadata": {},
   "outputs": [
    {
     "data": {
      "text/plain": [
       "1.75"
      ]
     },
     "execution_count": 28,
     "metadata": {},
     "output_type": "execute_result"
    }
   ],
   "source": [
    "7 / 4"
   ]
  },
  {
   "cell_type": "code",
   "execution_count": 29,
   "id": "7381efa1-5a24-4972-b5d0-84ab61e16ae0",
   "metadata": {},
   "outputs": [
    {
     "data": {
      "text/plain": [
       "1"
      ]
     },
     "execution_count": 29,
     "metadata": {},
     "output_type": "execute_result"
    }
   ],
   "source": [
    "7 // 4"
   ]
  },
  {
   "cell_type": "code",
   "execution_count": 30,
   "id": "95ce724d-7eb9-4210-8165-b5af3fc7bab0",
   "metadata": {},
   "outputs": [
    {
     "data": {
      "text/plain": [
       "-2"
      ]
     },
     "execution_count": 30,
     "metadata": {},
     "output_type": "execute_result"
    }
   ],
   "source": [
    "-7 // 4"
   ]
  },
  {
   "cell_type": "code",
   "execution_count": 31,
   "id": "84af2e5d-ff95-4182-a672-e1b2dba9acbe",
   "metadata": {},
   "outputs": [
    {
     "data": {
      "text/plain": [
       "-1.75"
      ]
     },
     "execution_count": 31,
     "metadata": {},
     "output_type": "execute_result"
    }
   ],
   "source": [
    "-7 / 4"
   ]
  },
  {
   "cell_type": "code",
   "execution_count": 32,
   "id": "a25b65f1-8a10-4673-ab51-47db59fdc9fc",
   "metadata": {},
   "outputs": [
    {
     "data": {
      "text/plain": [
       "1"
      ]
     },
     "execution_count": 32,
     "metadata": {},
     "output_type": "execute_result"
    }
   ],
   "source": [
    "int(1.75)"
   ]
  },
  {
   "cell_type": "code",
   "execution_count": 33,
   "id": "ed7e9b5f-f0a9-43e9-ae1b-9936cc052231",
   "metadata": {},
   "outputs": [
    {
     "data": {
      "text/plain": [
       "-1"
      ]
     },
     "execution_count": 33,
     "metadata": {},
     "output_type": "execute_result"
    }
   ],
   "source": [
    "int(-1.75)"
   ]
  },
  {
   "cell_type": "markdown",
   "id": "f967aead-9874-4d41-9a3b-aa601555694e",
   "metadata": {},
   "source": [
    "Booleans"
   ]
  },
  {
   "cell_type": "code",
   "execution_count": 36,
   "id": "dcad282b-5053-48f5-8854-2c0ceef4f069",
   "metadata": {},
   "outputs": [
    {
     "data": {
      "text/plain": [
       "1"
      ]
     },
     "execution_count": 36,
     "metadata": {},
     "output_type": "execute_result"
    }
   ],
   "source": [
    "int(True)"
   ]
  },
  {
   "cell_type": "code",
   "execution_count": 37,
   "id": "fc245909-93a5-44a0-ab7d-cf1fdea6559f",
   "metadata": {},
   "outputs": [
    {
     "data": {
      "text/plain": [
       "0"
      ]
     },
     "execution_count": 37,
     "metadata": {},
     "output_type": "execute_result"
    }
   ],
   "source": [
    "int(False)"
   ]
  },
  {
   "cell_type": "code",
   "execution_count": 38,
   "id": "4889c79c-9fcb-475b-b9ec-b9aab578a4a5",
   "metadata": {},
   "outputs": [
    {
     "data": {
      "text/plain": [
       "True"
      ]
     },
     "execution_count": 38,
     "metadata": {},
     "output_type": "execute_result"
    }
   ],
   "source": [
    "bool(1)"
   ]
  },
  {
   "cell_type": "code",
   "execution_count": 39,
   "id": "0fbc259a-3bea-4d0d-90e4-6792469f58e8",
   "metadata": {},
   "outputs": [
    {
     "data": {
      "text/plain": [
       "True"
      ]
     },
     "execution_count": 39,
     "metadata": {},
     "output_type": "execute_result"
    }
   ],
   "source": [
    "bool(-42)"
   ]
  },
  {
   "cell_type": "code",
   "execution_count": 40,
   "id": "c638a7bd-7ddd-4107-832e-77b8d59bd89b",
   "metadata": {},
   "outputs": [
    {
     "data": {
      "text/plain": [
       "False"
      ]
     },
     "execution_count": 40,
     "metadata": {},
     "output_type": "execute_result"
    }
   ],
   "source": [
    "bool(0)"
   ]
  },
  {
   "cell_type": "code",
   "execution_count": 41,
   "id": "47b12523-9599-4b29-b35f-73eb54cd6e2c",
   "metadata": {},
   "outputs": [
    {
     "data": {
      "text/plain": [
       "False"
      ]
     },
     "execution_count": 41,
     "metadata": {},
     "output_type": "execute_result"
    }
   ],
   "source": [
    "not True"
   ]
  },
  {
   "cell_type": "code",
   "execution_count": 42,
   "id": "7e808805-8cfb-4e06-a96a-109c78bfa9d7",
   "metadata": {},
   "outputs": [
    {
     "data": {
      "text/plain": [
       "True"
      ]
     },
     "execution_count": 42,
     "metadata": {},
     "output_type": "execute_result"
    }
   ],
   "source": [
    "not False"
   ]
  },
  {
   "cell_type": "code",
   "execution_count": 43,
   "id": "3dad48b6-920e-41c9-a84d-5e25807e49c8",
   "metadata": {},
   "outputs": [
    {
     "data": {
      "text/plain": [
       "True"
      ]
     },
     "execution_count": 43,
     "metadata": {},
     "output_type": "execute_result"
    }
   ],
   "source": [
    "False or True"
   ]
  },
  {
   "cell_type": "code",
   "execution_count": 44,
   "id": "32accdc3-6f22-498a-8376-73281f99fa51",
   "metadata": {},
   "outputs": [
    {
     "data": {
      "text/plain": [
       "2"
      ]
     },
     "execution_count": 44,
     "metadata": {},
     "output_type": "execute_result"
    }
   ],
   "source": [
    "1 + True"
   ]
  },
  {
   "cell_type": "code",
   "execution_count": 45,
   "id": "d2ba970b-0293-41ff-b411-da4c60b5df3b",
   "metadata": {},
   "outputs": [
    {
     "data": {
      "text/plain": [
       "42"
      ]
     },
     "execution_count": 45,
     "metadata": {},
     "output_type": "execute_result"
    }
   ],
   "source": [
    "False + 42"
   ]
  },
  {
   "cell_type": "code",
   "execution_count": 46,
   "id": "ad877f95-210c-45e6-8781-81bedeee1573",
   "metadata": {},
   "outputs": [
    {
     "data": {
      "text/plain": [
       "6"
      ]
     },
     "execution_count": 46,
     "metadata": {},
     "output_type": "execute_result"
    }
   ],
   "source": [
    "7 - True  # This top"
   ]
  },
  {
   "cell_type": "markdown",
   "id": "54ccff84-c90f-4de6-8161-ce7b4ee41879",
   "metadata": {},
   "source": [
    "Real numbers"
   ]
  },
  {
   "cell_type": "code",
   "execution_count": 47,
   "id": "a21fb6cf-5b8d-44c5-88f3-12f36e4cab5f",
   "metadata": {},
   "outputs": [],
   "source": [
    "pi = 3.1415926536"
   ]
  },
  {
   "cell_type": "code",
   "execution_count": 48,
   "id": "a662f8d9-a7f9-4969-aaaa-de1725ef58d0",
   "metadata": {},
   "outputs": [],
   "source": [
    "radius = 4.5"
   ]
  },
  {
   "cell_type": "code",
   "execution_count": 49,
   "id": "9da256a3-e89b-4fa4-a99f-4decfaab020e",
   "metadata": {},
   "outputs": [],
   "source": [
    "area = pi * (radius ** 2)"
   ]
  },
  {
   "cell_type": "code",
   "execution_count": 50,
   "id": "02e85056-2d3b-4fcd-bca6-f02b5c9a0433",
   "metadata": {},
   "outputs": [
    {
     "data": {
      "text/plain": [
       "63.617251235400005"
      ]
     },
     "execution_count": 50,
     "metadata": {},
     "output_type": "execute_result"
    }
   ],
   "source": [
    "area"
   ]
  },
  {
   "cell_type": "code",
   "execution_count": 51,
   "id": "1068a309-0f52-4ee1-9db7-ccbdd8c55b0a",
   "metadata": {},
   "outputs": [
    {
     "data": {
      "text/plain": [
       "sys.float_info(max=1.7976931348623157e+308, max_exp=1024, max_10_exp=308, min=2.2250738585072014e-308, min_exp=-1021, min_10_exp=-307, dig=15, mant_dig=53, epsilon=2.220446049250313e-16, radix=2, rounds=1)"
      ]
     },
     "execution_count": 51,
     "metadata": {},
     "output_type": "execute_result"
    }
   ],
   "source": [
    "# finding the range of numbers\n",
    "import sys\n",
    "sys.float_info"
   ]
  },
  {
   "cell_type": "code",
   "execution_count": 79,
   "id": "f4263ae5-a0cd-4c30-93c2-04476e5a4ca6",
   "metadata": {},
   "outputs": [
    {
     "data": {
      "text/plain": [
       "5.551115123125783e-17"
      ]
     },
     "execution_count": 79,
     "metadata": {},
     "output_type": "execute_result"
    }
   ],
   "source": [
    "0.1 * 3 - 0.3"
   ]
  },
  {
   "cell_type": "markdown",
   "id": "60ff12d5-f1b6-446e-89de-b2ffec92d4cf",
   "metadata": {},
   "source": [
    "Complex numbers"
   ]
  },
  {
   "cell_type": "code",
   "execution_count": 54,
   "id": "351dd241-1d29-4b87-83ab-3466934e7bb4",
   "metadata": {},
   "outputs": [],
   "source": [
    "c = 3.14 + 2.73j"
   ]
  },
  {
   "cell_type": "code",
   "execution_count": 56,
   "id": "89802cff-e0b6-40af-a82d-9fb9a254e4eb",
   "metadata": {},
   "outputs": [
    {
     "data": {
      "text/plain": [
       "3.14"
      ]
     },
     "execution_count": 56,
     "metadata": {},
     "output_type": "execute_result"
    }
   ],
   "source": [
    "c.real"
   ]
  },
  {
   "cell_type": "code",
   "execution_count": 57,
   "id": "3d3c0e24-5121-403b-bf76-cbfa90f6ab49",
   "metadata": {},
   "outputs": [
    {
     "data": {
      "text/plain": [
       "2.73"
      ]
     },
     "execution_count": 57,
     "metadata": {},
     "output_type": "execute_result"
    }
   ],
   "source": [
    "c.imag"
   ]
  },
  {
   "cell_type": "code",
   "execution_count": 58,
   "id": "edc1d9c2-9d0a-4962-962c-dd37a21a6ccf",
   "metadata": {},
   "outputs": [
    {
     "data": {
      "text/plain": [
       "(3.14-2.73j)"
      ]
     },
     "execution_count": 58,
     "metadata": {},
     "output_type": "execute_result"
    }
   ],
   "source": [
    "c.conjugate()  # conjugate of A + Bj is A - Bj"
   ]
  },
  {
   "cell_type": "code",
   "execution_count": 59,
   "id": "8fdaa9e4-2f65-4d80-a546-9c57283a576e",
   "metadata": {},
   "outputs": [
    {
     "data": {
      "text/plain": [
       "(6.28+5.46j)"
      ]
     },
     "execution_count": 59,
     "metadata": {},
     "output_type": "execute_result"
    }
   ],
   "source": [
    "c * 2"
   ]
  },
  {
   "cell_type": "code",
   "execution_count": 60,
   "id": "8187a758-f071-4a9c-ab26-5c3df0b03935",
   "metadata": {},
   "outputs": [
    {
     "data": {
      "text/plain": [
       "(2.4067000000000007+17.1444j)"
      ]
     },
     "execution_count": 60,
     "metadata": {},
     "output_type": "execute_result"
    }
   ],
   "source": [
    "c ** 2"
   ]
  },
  {
   "cell_type": "code",
   "execution_count": 62,
   "id": "bd2d2b5e-f2f5-402b-b909-3410f7ba6264",
   "metadata": {},
   "outputs": [],
   "source": [
    "d = 1 + 1j"
   ]
  },
  {
   "cell_type": "code",
   "execution_count": 63,
   "id": "abb1637d-3cd3-4fba-acd1-f5bcfb95ca81",
   "metadata": {},
   "outputs": [
    {
     "data": {
      "text/plain": [
       "(1+1j)"
      ]
     },
     "execution_count": 63,
     "metadata": {},
     "output_type": "execute_result"
    }
   ],
   "source": [
    "d"
   ]
  },
  {
   "cell_type": "code",
   "execution_count": 64,
   "id": "a73e20c7-44de-4660-a8d5-8a4f5c92cc21",
   "metadata": {},
   "outputs": [
    {
     "data": {
      "text/plain": [
       "(2.14+1.73j)"
      ]
     },
     "execution_count": 64,
     "metadata": {},
     "output_type": "execute_result"
    }
   ],
   "source": [
    "c - d"
   ]
  },
  {
   "cell_type": "markdown",
   "id": "5e742896-fed2-4a04-a583-318b25344a01",
   "metadata": {},
   "source": [
    "Fractions and decimals"
   ]
  },
  {
   "cell_type": "code",
   "execution_count": 65,
   "id": "724b8437-44e7-466e-ae4b-de711f2f2124",
   "metadata": {},
   "outputs": [],
   "source": [
    "from fractions import Fraction"
   ]
  },
  {
   "cell_type": "code",
   "execution_count": 67,
   "id": "4c009ba9-06d1-48c0-862f-d2dad18387b7",
   "metadata": {},
   "outputs": [
    {
     "data": {
      "text/plain": [
       "Fraction(5, 3)"
      ]
     },
     "execution_count": 67,
     "metadata": {},
     "output_type": "execute_result"
    }
   ],
   "source": [
    "Fraction(10, 6)  # answer will be simplified"
   ]
  },
  {
   "cell_type": "code",
   "execution_count": 68,
   "id": "75f1e114-2601-45ce-8c2f-449d0d609533",
   "metadata": {},
   "outputs": [
    {
     "data": {
      "text/plain": [
       "Fraction(22, 7)"
      ]
     },
     "execution_count": 68,
     "metadata": {},
     "output_type": "execute_result"
    }
   ],
   "source": [
    "Fraction(22, 7)  # There is no simplification here."
   ]
  },
  {
   "cell_type": "code",
   "execution_count": 69,
   "id": "c3c99ef2-1730-4a27-95e3-2aa26397f7a2",
   "metadata": {},
   "outputs": [
    {
     "data": {
      "text/plain": [
       "Fraction(418285, 1)"
      ]
     },
     "execution_count": 69,
     "metadata": {},
     "output_type": "execute_result"
    }
   ],
   "source": [
    "Fraction(1254855, 3)"
   ]
  },
  {
   "cell_type": "code",
   "execution_count": 70,
   "id": "3bd4c3a5-dd23-4ee2-a968-960c1d397b65",
   "metadata": {},
   "outputs": [],
   "source": [
    "f = Fraction(100, 60)"
   ]
  },
  {
   "cell_type": "code",
   "execution_count": 71,
   "id": "b6f666ec-924b-437a-b03a-c4bf70a7d082",
   "metadata": {},
   "outputs": [
    {
     "data": {
      "text/plain": [
       "5"
      ]
     },
     "execution_count": 71,
     "metadata": {},
     "output_type": "execute_result"
    }
   ],
   "source": [
    "f.numerator"
   ]
  },
  {
   "cell_type": "code",
   "execution_count": 72,
   "id": "3e413355-2aaa-42e8-ad9e-666beb8f2382",
   "metadata": {},
   "outputs": [
    {
     "data": {
      "text/plain": [
       "3"
      ]
     },
     "execution_count": 72,
     "metadata": {},
     "output_type": "execute_result"
    }
   ],
   "source": [
    "f.denominator"
   ]
  },
  {
   "cell_type": "code",
   "execution_count": 73,
   "id": "1dfbc309-9395-4857-b24d-20d6e779a7bc",
   "metadata": {},
   "outputs": [],
   "source": [
    "# some examples with decimal numbers"
   ]
  },
  {
   "cell_type": "code",
   "execution_count": 74,
   "id": "be007134-59b8-47e9-a857-b69dad354250",
   "metadata": {},
   "outputs": [],
   "source": [
    "from decimal import Decimal as D"
   ]
  },
  {
   "cell_type": "code",
   "execution_count": 75,
   "id": "78d53f64-31ea-4548-a6f4-432fa5d2c49d",
   "metadata": {},
   "outputs": [
    {
     "data": {
      "text/plain": [
       "Decimal('3.140000000000000124344978758017532527446746826171875')"
      ]
     },
     "execution_count": 75,
     "metadata": {},
     "output_type": "execute_result"
    }
   ],
   "source": [
    "D(3.14)  # pi, from float, so approximation issues"
   ]
  },
  {
   "cell_type": "code",
   "execution_count": 76,
   "id": "72d63c3e-dd7d-4e36-bbff-c481e9fc2b8a",
   "metadata": {},
   "outputs": [
    {
     "data": {
      "text/plain": [
       "Decimal('3.14')"
      ]
     },
     "execution_count": 76,
     "metadata": {},
     "output_type": "execute_result"
    }
   ],
   "source": [
    "D('3.14')  # pi, from string, so no approximation issues"
   ]
  },
  {
   "cell_type": "code",
   "execution_count": 78,
   "id": "fe2ec982-6216-4256-9329-139a434d07eb",
   "metadata": {},
   "outputs": [
    {
     "data": {
      "text/plain": [
       "Decimal('2.775557561565156540423631668E-17')"
      ]
     },
     "execution_count": 78,
     "metadata": {},
     "output_type": "execute_result"
    }
   ],
   "source": [
    "# trying the same problem in decimal space 0.3 - 0.1 * 3\n",
    "D(0.1) * D(3) - D(0.3)  # from float, we will still have an issue."
   ]
  },
  {
   "cell_type": "code",
   "execution_count": 80,
   "id": "7ed0c796-ee01-4e7c-a1e0-e8f903587b5a",
   "metadata": {},
   "outputs": [
    {
     "data": {
      "text/plain": [
       "Decimal('0.0')"
      ]
     },
     "execution_count": 80,
     "metadata": {},
     "output_type": "execute_result"
    }
   ],
   "source": [
    "D('0.1') * D('3') - D('0.3')  # from string, all perfect"
   ]
  },
  {
   "cell_type": "code",
   "execution_count": 82,
   "id": "b531282a-cec8-4b78-8ab4-93c5fefc527c",
   "metadata": {},
   "outputs": [
    {
     "data": {
      "text/plain": [
       "(7, 5)"
      ]
     },
     "execution_count": 82,
     "metadata": {},
     "output_type": "execute_result"
    }
   ],
   "source": [
    "# reverse using the integer ratio\n",
    "D('1.4').as_integer_ratio()"
   ]
  },
  {
   "cell_type": "code",
   "execution_count": null,
   "id": "c9418d2c-8836-434f-936a-02ee696cceac",
   "metadata": {},
   "outputs": [],
   "source": []
  }
 ],
 "metadata": {
  "kernelspec": {
   "display_name": "Python 3 (ipykernel)",
   "language": "python",
   "name": "python3"
  },
  "language_info": {
   "codemirror_mode": {
    "name": "ipython",
    "version": 3
   },
   "file_extension": ".py",
   "mimetype": "text/x-python",
   "name": "python",
   "nbconvert_exporter": "python",
   "pygments_lexer": "ipython3",
   "version": "3.7.9"
  }
 },
 "nbformat": 4,
 "nbformat_minor": 5
}
