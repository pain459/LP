{
 "cells": [
  {
   "cell_type": "raw",
   "id": "34065adf-04c0-4bb0-8e7e-ca80635efb50",
   "metadata": {},
   "source": [
    "From the page https://www.w3schools.com/python/python_regex.asp"
   ]
  },
  {
   "cell_type": "code",
   "execution_count": 2,
   "id": "8d8728e8-9d54-442f-bb8a-65783ece5401",
   "metadata": {},
   "outputs": [],
   "source": [
    "import re\n",
    "txt = \"The rain in Spain\"\n",
    "x = re.search(\"^The.*Spain$\", txt)  # search if the string starts with The and ends with Spain."
   ]
  },
  {
   "cell_type": "code",
   "execution_count": 3,
   "id": "2d27f8d6-432b-4ea1-a839-3387654734da",
   "metadata": {},
   "outputs": [
    {
     "data": {
      "text/plain": [
       "<re.Match object; span=(0, 17), match='The rain in Spain'>"
      ]
     },
     "execution_count": 3,
     "metadata": {},
     "output_type": "execute_result"
    }
   ],
   "source": [
    "x"
   ]
  },
  {
   "cell_type": "code",
   "execution_count": 8,
   "id": "6a17d195-dffc-4324-a2be-12c2d153ca70",
   "metadata": {},
   "outputs": [
    {
     "data": {
      "text/plain": [
       "<re.Match object; span=(0, 40), match='The purpose of our lives is to be happy.'>"
      ]
     },
     "execution_count": 8,
     "metadata": {},
     "output_type": "execute_result"
    }
   ],
   "source": [
    "# example.\n",
    "import re\n",
    "txt = 'The purpose of our lives is to be happy.'\n",
    "x = re.search(\"^The purpose.*happy.$\", txt)\n",
    "x"
   ]
  },
  {
   "cell_type": "code",
   "execution_count": 10,
   "id": "1ff19259-e1bc-4704-ab96-9cb511bbcf2b",
   "metadata": {},
   "outputs": [
    {
     "data": {
      "text/plain": [
       "<re.Match object; span=(0, 59), match='You only live once, but if you do it right, once >"
      ]
     },
     "execution_count": 10,
     "metadata": {},
     "output_type": "execute_result"
    }
   ],
   "source": [
    "# example\n",
    "import re\n",
    "txt = 'You only live once, but if you do it right, once is enough.'\n",
    "x = re.search(\"^You.*but*.*right*,.*enough.$\", txt)\n",
    "x"
   ]
  },
  {
   "cell_type": "code",
   "execution_count": 26,
   "id": "6670e4a7-65e5-400a-9a8d-c6f19844c360",
   "metadata": {},
   "outputs": [
    {
     "data": {
      "text/plain": [
       "<re.Match object; span=(0, 86), match='The big lesson in life, baby, is never be scared >"
      ]
     },
     "execution_count": 26,
     "metadata": {},
     "output_type": "execute_result"
    }
   ],
   "source": [
    "# example\n",
    "import re\n",
    "txt = 'The big lesson in life, baby, is never be scared of anyone or anything - Frank Sinatra'\n",
    "x = re.search(\"^The.*baby*.* - *.*Sinatra$\", txt)\n",
    "x"
   ]
  },
  {
   "cell_type": "markdown",
   "id": "040605df-11a9-493e-a9eb-1d8dd6677227",
   "metadata": {},
   "source": [
    "### Metacharacters"
   ]
  },
  {
   "cell_type": "code",
   "execution_count": 27,
   "id": "0ee78e04-dd3d-41b4-9479-1ba7a2b9fa81",
   "metadata": {},
   "outputs": [
    {
     "data": {
      "text/plain": [
       "['h', 'e', 'a', 'i', 'i', 'a', 'i']"
      ]
     },
     "execution_count": 27,
     "metadata": {},
     "output_type": "execute_result"
    }
   ],
   "source": [
    "# Find all lower case characters alphabetically between \"a\" and \"m\":\n",
    "import re\n",
    "txt = \"The rain in Spain\"\n",
    "x = re.findall(\"[a-m]\", txt)\n",
    "x"
   ]
  },
  {
   "cell_type": "code",
   "execution_count": 29,
   "id": "547d82a8-9e65-4ef2-851b-b86d7afa75cf",
   "metadata": {},
   "outputs": [
    {
     "data": {
      "text/plain": [
       "34"
      ]
     },
     "execution_count": 29,
     "metadata": {},
     "output_type": "execute_result"
    }
   ],
   "source": [
    "# Testing a panagram\n",
    "import re\n",
    "txt = \"The quick brown fox jumps over the lazy dog\"\n",
    "x = re.findall(\"[a-z]\", txt)\n",
    "len(x)"
   ]
  },
  {
   "cell_type": "code",
   "execution_count": 33,
   "id": "cd9040ed-6005-45bd-9f6a-b7d4ed87b617",
   "metadata": {},
   "outputs": [
    {
     "data": {
      "text/plain": [
       "27"
      ]
     },
     "execution_count": 33,
     "metadata": {},
     "output_type": "execute_result"
    }
   ],
   "source": [
    "# This is a special sequence. Will be covered later.\n",
    "import re\n",
    "txt = \"The quick brown fox jumps over the lazy dog\"\n",
    "x = re.findall(\"[\\w]\", txt)\n",
    "len(set(x))"
   ]
  },
  {
   "cell_type": "code",
   "execution_count": 34,
   "id": "057fb521-f914-466e-ad52-c0274be1b45a",
   "metadata": {},
   "outputs": [
    {
     "data": {
      "text/plain": [
       "['5', '9']"
      ]
     },
     "execution_count": 34,
     "metadata": {},
     "output_type": "execute_result"
    }
   ],
   "source": [
    "# \\\n",
    "# Signals a special sequence (can also be used to escape special characters)\n",
    "# #Find all digit characters:\n",
    "import re\n",
    "txt = \"That will be 59 dollars\"\n",
    "x = re.findall(\"\\d\", txt)\n",
    "x"
   ]
  },
  {
   "cell_type": "code",
   "execution_count": 35,
   "id": "69366d2b-1525-4548-8fcf-0ff3241552fb",
   "metadata": {},
   "outputs": [
    {
     "data": {
      "text/plain": [
       "['2', '1', '0', '0', '1', '0']"
      ]
     },
     "execution_count": 35,
     "metadata": {},
     "output_type": "execute_result"
    }
   ],
   "source": [
    "# example\n",
    "import re\n",
    "txt = \"There are 2 numbers in this. 100 is a multiple of 10.\"\n",
    "x = re.findall(\"\\d\", txt)\n",
    "x"
   ]
  },
  {
   "cell_type": "code",
   "execution_count": 38,
   "id": "0fcbc373-5dbe-42e6-97d9-5d2a421271de",
   "metadata": {},
   "outputs": [
    {
     "data": {
      "text/plain": [
       "['antikythera']"
      ]
     },
     "execution_count": 38,
     "metadata": {},
     "output_type": "execute_result"
    }
   ],
   "source": [
    "# .\n",
    "# Any character (except newline character)\n",
    "import re\n",
    "txt = \"antikythera\"\n",
    "x = re.findall(\"an........a\", txt)\n",
    "x"
   ]
  },
  {
   "cell_type": "code",
   "execution_count": 41,
   "id": "d08ce22d-483f-4584-bbba-8d3fc34b01d5",
   "metadata": {},
   "outputs": [
    {
     "data": {
      "text/plain": [
       "['hello']"
      ]
     },
     "execution_count": 41,
     "metadata": {},
     "output_type": "execute_result"
    }
   ],
   "source": [
    "# ^\n",
    "# Starts with\n",
    "import re\n",
    "txt = \"hello planet\"\n",
    "x = re.findall(\"^hello\", txt)\n",
    "x"
   ]
  },
  {
   "cell_type": "code",
   "execution_count": 46,
   "id": "bb4b6925-fdf6-44cb-a4ed-ccb923d2eefa",
   "metadata": {},
   "outputs": [
    {
     "name": "stdout",
     "output_type": "stream",
     "text": [
      "String found!\n"
     ]
    }
   ],
   "source": [
    "# Writing a loop on the returned result.\n",
    "import re\n",
    "txt = \"hello planet\"\n",
    "x = re.findall(\"^hello\", txt)\n",
    "if x:\n",
    "    print(\"String found!\")\n",
    "else:\n",
    "    print(\"nada.\")"
   ]
  },
  {
   "cell_type": "code",
   "execution_count": 47,
   "id": "74395bea-78d4-4654-adf9-c9b69c3c4b23",
   "metadata": {},
   "outputs": [
    {
     "data": {
      "text/plain": [
       "['planet']"
      ]
     },
     "execution_count": 47,
     "metadata": {},
     "output_type": "execute_result"
    }
   ],
   "source": [
    "# $\n",
    "# Ends with\n",
    "import re\n",
    "txt = \"hello planet\"\n",
    "x = re.findall(\"planet$\", txt)\n",
    "x"
   ]
  },
  {
   "cell_type": "code",
   "execution_count": 50,
   "id": "510e1a65-20b1-4bb8-aace-3f5c976ddac2",
   "metadata": {},
   "outputs": [
    {
     "name": "stdout",
     "output_type": "stream",
     "text": [
      "Found\n"
     ]
    }
   ],
   "source": [
    "# Writing a loop on it.\n",
    "import re\n",
    "txt = \"hello planet\"\n",
    "x = re.findall('planet$', txt)\n",
    "if x:\n",
    "    print(\"Found\")\n",
    "else:\n",
    "    print(\"nada\")"
   ]
  },
  {
   "cell_type": "code",
   "execution_count": 52,
   "id": "53b620d3-a41a-45bf-bc5e-a091bb02e221",
   "metadata": {},
   "outputs": [
    {
     "data": {
      "text/plain": [
       "['antikythera']"
      ]
     },
     "execution_count": 52,
     "metadata": {},
     "output_type": "execute_result"
    }
   ],
   "source": [
    "# *\n",
    "# Zero or more occurrences\n",
    "import re\n",
    "txt = \"antikythera\"\n",
    "x = re.findall(\"a.*a\", txt)\n",
    "x"
   ]
  },
  {
   "cell_type": "code",
   "execution_count": 53,
   "id": "3b1149bc-f3a8-4146-b307-15aaedd87ce9",
   "metadata": {},
   "outputs": [
    {
     "data": {
      "text/plain": [
       "['fab']"
      ]
     },
     "execution_count": 53,
     "metadata": {},
     "output_type": "execute_result"
    }
   ],
   "source": [
    "# one more test\n",
    "import re\n",
    "txt = \"fab\"\n",
    "x = re.findall(\"fa.*b\", txt)  # satisfying 0 or more occurences.\n",
    "x"
   ]
  },
  {
   "cell_type": "code",
   "execution_count": 54,
   "id": "ea44c003-e239-4fd2-89ff-a60f577d48bb",
   "metadata": {},
   "outputs": [
    {
     "data": {
      "text/plain": [
       "['antikythera']"
      ]
     },
     "execution_count": 54,
     "metadata": {},
     "output_type": "execute_result"
    }
   ],
   "source": [
    "# +\n",
    "# One or more occurrences\n",
    "import re\n",
    "txt = \"antikythera\"\n",
    "x = re.findall(\"a.+a\", txt)\n",
    "x"
   ]
  },
  {
   "cell_type": "code",
   "execution_count": 57,
   "id": "1c199066-ad7d-447c-959c-3bdcb4146a64",
   "metadata": {},
   "outputs": [
    {
     "data": {
      "text/plain": [
       "[]"
      ]
     },
     "execution_count": 57,
     "metadata": {},
     "output_type": "execute_result"
    }
   ],
   "source": [
    "# Trying to fail the above condition.\n",
    "import re\n",
    "txt = \"fab\"\n",
    "x = re.findall(\"fa.+b\", txt)  # atleast 1 result wont be found in this condition.\n",
    "x"
   ]
  },
  {
   "cell_type": "code",
   "execution_count": 58,
   "id": "f69e1850-3216-4ac1-be4b-0b5b1899d3b1",
   "metadata": {},
   "outputs": [
    {
     "data": {
      "text/plain": [
       "['hello']"
      ]
     },
     "execution_count": 58,
     "metadata": {},
     "output_type": "execute_result"
    }
   ],
   "source": [
    "# ?\n",
    "# Zero or one occurrences\n",
    "import re\n",
    "txt = \"hello\"\n",
    "x = re.findall(\"hel.?o\", txt)  # reply will be only given if \n",
    "x"
   ]
  },
  {
   "cell_type": "code",
   "execution_count": 60,
   "id": "9592c285-e4b6-4133-b586-d1f6d64f595b",
   "metadata": {},
   "outputs": [
    {
     "data": {
      "text/plain": [
       "['hello']"
      ]
     },
     "execution_count": 60,
     "metadata": {},
     "output_type": "execute_result"
    }
   ],
   "source": [
    "# {}\n",
    "# Exactly the specified number of occurrences\n",
    "import re\n",
    "txt = \"hello\"\n",
    "x = re.findall(\"he.{2}o\", txt)\n",
    "x"
   ]
  },
  {
   "cell_type": "code",
   "execution_count": 61,
   "id": "18a32a4c-383d-447b-be1c-fa7fea56ad02",
   "metadata": {},
   "outputs": [
    {
     "data": {
      "text/plain": [
       "['antikythera']"
      ]
     },
     "execution_count": 61,
     "metadata": {},
     "output_type": "execute_result"
    }
   ],
   "source": [
    "# one more example\n",
    "import re\n",
    "txt = \"antikythera\"\n",
    "x = re.findall(\"anti.{6}a\", txt)\n",
    "x"
   ]
  },
  {
   "cell_type": "code",
   "execution_count": 62,
   "id": "490534da-bde9-4879-8789-9aa1d2637ef2",
   "metadata": {},
   "outputs": [
    {
     "data": {
      "text/plain": [
       "['falls']"
      ]
     },
     "execution_count": 62,
     "metadata": {},
     "output_type": "execute_result"
    }
   ],
   "source": [
    "# |\n",
    "# Either or\n",
    "import re\n",
    "txt = \"The rain in Spain falls mainly in the plain!\"\n",
    "x = re.findall(\"falls|stays\", txt)\n",
    "x"
   ]
  },
  {
   "cell_type": "code",
   "execution_count": 64,
   "id": "b46c65a0-8744-445c-a1fb-ae937bf0f683",
   "metadata": {},
   "outputs": [
    {
     "data": {
      "text/plain": [
       "['falls', 'plain']"
      ]
     },
     "execution_count": 64,
     "metadata": {},
     "output_type": "execute_result"
    }
   ],
   "source": [
    "# passing multiple search strings.\n",
    "import re\n",
    "txt = \"The rain in Spain falls mainly in the plain!\"\n",
    "x = re.findall(\"falls|stops|plain\", txt)  # returns all results.\n",
    "x"
   ]
  },
  {
   "cell_type": "code",
   "execution_count": 76,
   "id": "a8cdbdef-fbc7-4c1a-9d61-a8dc43663436",
   "metadata": {},
   "outputs": [
    {
     "data": {
      "text/plain": [
       "<re.Match object; span=(18, 23), match='falls'>"
      ]
     },
     "execution_count": 76,
     "metadata": {},
     "output_type": "execute_result"
    }
   ],
   "source": [
    "# observed difference between search and findall\n",
    "import re\n",
    "txt = \"The rain in Spain falls mainly in the plain!\"\n",
    "x = re.search(\"falls|stops|plain\", txt)  # returns only the first result as object\n",
    "x"
   ]
  },
  {
   "cell_type": "code",
   "execution_count": null,
   "id": "b9a8757b-630d-4eaf-b34a-391833cb6550",
   "metadata": {},
   "outputs": [],
   "source": []
  }
 ],
 "metadata": {
  "kernelspec": {
   "display_name": "Python 3",
   "language": "python",
   "name": "python3"
  },
  "language_info": {
   "codemirror_mode": {
    "name": "ipython",
    "version": 3
   },
   "file_extension": ".py",
   "mimetype": "text/x-python",
   "name": "python",
   "nbconvert_exporter": "python",
   "pygments_lexer": "ipython3",
   "version": "3.8.8"
  }
 },
 "nbformat": 4,
 "nbformat_minor": 5
}
