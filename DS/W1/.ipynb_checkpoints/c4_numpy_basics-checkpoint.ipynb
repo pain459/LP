{
 "cells": [
  {
   "cell_type": "code",
   "execution_count": 1,
   "id": "bd23d582-6550-429a-bab0-45c39648c1ef",
   "metadata": {},
   "outputs": [],
   "source": [
    "# Testing numpy performance\n",
    "import numpy as np\n",
    "my_arr = np.arange(1000000)\n",
    "my_list = list(range(1000000))"
   ]
  },
  {
   "cell_type": "code",
   "execution_count": 5,
   "id": "72d20c26-e0bf-4cae-b449-13ea91616608",
   "metadata": {},
   "outputs": [
    {
     "name": "stdout",
     "output_type": "stream",
     "text": [
      "Wall time: 35.9 ms\n"
     ]
    }
   ],
   "source": [
    "%time for _ in range(10): my_arr2 = my_arr * 2"
   ]
  },
  {
   "cell_type": "code",
   "execution_count": null,
   "id": "19c0d7f4-8bf5-4b10-9b9d-fcd2a1ef6048",
   "metadata": {},
   "outputs": [],
   "source": [
    "# Never completed on my machine!\n",
    "%time for _ in range(10): my_list2 = [x * 2 for x in my_list]"
   ]
  },
  {
   "cell_type": "markdown",
   "id": "556cee7b-ad52-48e2-be05-549de8c6cecc",
   "metadata": {},
   "source": [
    "## The NumPy ndarray: A Multidimensional Array Object"
   ]
  },
  {
   "cell_type": "code",
   "execution_count": 1,
   "id": "2e4476a3-5483-4875-a133-8900ce54848e",
   "metadata": {},
   "outputs": [],
   "source": [
    "import numpy as np\n",
    "\n",
    "# generate some random data\n",
    "data = np.random.randn(2, 3)"
   ]
  },
  {
   "cell_type": "code",
   "execution_count": 2,
   "id": "fedec1ea-b769-4220-8baf-d21319f16df0",
   "metadata": {},
   "outputs": [
    {
     "data": {
      "text/plain": [
       "array([[ 0.39303409,  1.07443338,  1.26765111],\n",
       "       [-1.3418576 ,  1.34997936, -0.4582348 ]])"
      ]
     },
     "execution_count": 2,
     "metadata": {},
     "output_type": "execute_result"
    }
   ],
   "source": [
    "data"
   ]
  },
  {
   "cell_type": "code",
   "execution_count": 3,
   "id": "2e04c7a4-d768-4a37-96c1-6a5cce631b18",
   "metadata": {},
   "outputs": [
    {
     "data": {
      "text/plain": [
       "array([[ 0.78606817,  2.14886675,  2.53530221],\n",
       "       [-2.6837152 ,  2.69995872, -0.91646959]])"
      ]
     },
     "execution_count": 3,
     "metadata": {},
     "output_type": "execute_result"
    }
   ],
   "source": [
    "# doing some math on this..\n",
    "data * 2"
   ]
  },
  {
   "cell_type": "code",
   "execution_count": 4,
   "id": "3cb781a3-8e0c-46fa-959a-4ba3ff0cf92f",
   "metadata": {},
   "outputs": [
    {
     "data": {
      "text/plain": [
       "array([[0.15447579, 1.15440708, 1.60693933],\n",
       "       [1.80058183, 1.82244427, 0.20997913]])"
      ]
     },
     "execution_count": 4,
     "metadata": {},
     "output_type": "execute_result"
    }
   ],
   "source": [
    "data * data"
   ]
  },
  {
   "cell_type": "code",
   "execution_count": 5,
   "id": "ac6119aa-637d-416a-850a-787c13a83da4",
   "metadata": {},
   "outputs": [
    {
     "data": {
      "text/plain": [
       "array([[ 0.78606817,  2.14886675,  2.53530221],\n",
       "       [-2.6837152 ,  2.69995872, -0.91646959]])"
      ]
     },
     "execution_count": 5,
     "metadata": {},
     "output_type": "execute_result"
    }
   ],
   "source": [
    "data + data"
   ]
  },
  {
   "cell_type": "code",
   "execution_count": 6,
   "id": "142e8bdc-0888-4595-b1d2-ab98cb23d06b",
   "metadata": {},
   "outputs": [
    {
     "data": {
      "text/plain": [
       "(2, 3)"
      ]
     },
     "execution_count": 6,
     "metadata": {},
     "output_type": "execute_result"
    }
   ],
   "source": [
    "data.shape"
   ]
  },
  {
   "cell_type": "code",
   "execution_count": 7,
   "id": "76f5d2b9-10b7-4937-97b0-040f98cdaab7",
   "metadata": {},
   "outputs": [
    {
     "data": {
      "text/plain": [
       "dtype('float64')"
      ]
     },
     "execution_count": 7,
     "metadata": {},
     "output_type": "execute_result"
    }
   ],
   "source": [
    "data.dtype"
   ]
  },
  {
   "cell_type": "markdown",
   "id": "6982b971-d751-4b10-baf5-8e42010c15bf",
   "metadata": {},
   "source": [
    "### Creating ndarrays"
   ]
  },
  {
   "cell_type": "code",
   "execution_count": 8,
   "id": "01faef7c-2b39-46c9-85cf-e176056e531e",
   "metadata": {},
   "outputs": [],
   "source": [
    "data1 = [6, 7.5, 8, 0, -1]"
   ]
  },
  {
   "cell_type": "code",
   "execution_count": 11,
   "id": "55312eed-eaf1-479c-894e-5c2be0df71d6",
   "metadata": {},
   "outputs": [],
   "source": [
    "# Creating an array\n",
    "arr1 = np.array(data1)"
   ]
  },
  {
   "cell_type": "code",
   "execution_count": 12,
   "id": "9675aa68-f597-4483-931d-615dd24b4622",
   "metadata": {},
   "outputs": [
    {
     "data": {
      "text/plain": [
       "array([ 6. ,  7.5,  8. ,  0. , -1. ])"
      ]
     },
     "execution_count": 12,
     "metadata": {},
     "output_type": "execute_result"
    }
   ],
   "source": [
    "arr1"
   ]
  },
  {
   "cell_type": "code",
   "execution_count": 22,
   "id": "bdfb2a5f-e6b2-411b-9b59-883f30c43de0",
   "metadata": {},
   "outputs": [],
   "source": [
    "# creating multi-dimensional arrays\n",
    "data2 = [[1, 2, 3, 4], [5, 6, 7, 8]]\n",
    "arr2 = np.array(data2)"
   ]
  },
  {
   "cell_type": "code",
   "execution_count": 23,
   "id": "c914ccc2-5c5f-46d2-821d-e9dd05a1f8ca",
   "metadata": {},
   "outputs": [
    {
     "data": {
      "text/plain": [
       "array([[1, 2, 3, 4],\n",
       "       [5, 6, 7, 8]])"
      ]
     },
     "execution_count": 23,
     "metadata": {},
     "output_type": "execute_result"
    }
   ],
   "source": [
    "arr2"
   ]
  },
  {
   "cell_type": "code",
   "execution_count": 18,
   "id": "c4a50fe6-671e-4d0c-9167-d2896d9b4bb7",
   "metadata": {},
   "outputs": [
    {
     "name": "stderr",
     "output_type": "stream",
     "text": [
      "c:\\code\\venv\\lib\\site-packages\\ipykernel_launcher.py:2: VisibleDeprecationWarning: Creating an ndarray from ragged nested sequences (which is a list-or-tuple of lists-or-tuples-or ndarrays with different lengths or shapes) is deprecated. If you meant to do this, you must specify 'dtype=object' when creating the ndarray.\n",
      "  \n"
     ]
    }
   ],
   "source": [
    "# You cannot fool the system\n",
    "data3 = [[1, 2, 3, 4], [5, 6, 7,]]\n",
    "arr3 = np.array(data3)"
   ]
  },
  {
   "cell_type": "code",
   "execution_count": 25,
   "id": "dbcecd7a-41ad-469d-a742-9efcb86e6c27",
   "metadata": {},
   "outputs": [
    {
     "data": {
      "text/plain": [
       "2"
      ]
     },
     "execution_count": 25,
     "metadata": {},
     "output_type": "execute_result"
    }
   ],
   "source": [
    "# checking dimensions\n",
    "arr2.ndim"
   ]
  },
  {
   "cell_type": "code",
   "execution_count": 26,
   "id": "c90cf2de-76e3-4b5d-9ef6-9edb4fb51f0f",
   "metadata": {},
   "outputs": [
    {
     "data": {
      "text/plain": [
       "(2, 4)"
      ]
     },
     "execution_count": 26,
     "metadata": {},
     "output_type": "execute_result"
    }
   ],
   "source": [
    "# shape of the array\n",
    "arr2.shape"
   ]
  },
  {
   "cell_type": "code",
   "execution_count": 28,
   "id": "f22b4ac5-5991-4195-a1c4-ae8b1eef7a23",
   "metadata": {},
   "outputs": [
    {
     "data": {
      "text/plain": [
       "dtype('int32')"
      ]
     },
     "execution_count": 28,
     "metadata": {},
     "output_type": "execute_result"
    }
   ],
   "source": [
    "# as there are no floating points there.\n",
    "arr2.dtype"
   ]
  },
  {
   "cell_type": "code",
   "execution_count": 29,
   "id": "e4b231fe-464f-4dcb-926d-81044a8094ed",
   "metadata": {},
   "outputs": [
    {
     "data": {
      "text/plain": [
       "array([0., 0., 0., 0., 0., 0., 0., 0., 0., 0.])"
      ]
     },
     "execution_count": 29,
     "metadata": {},
     "output_type": "execute_result"
    }
   ],
   "source": [
    "np.zeros(10)"
   ]
  },
  {
   "cell_type": "code",
   "execution_count": 30,
   "id": "12a5ac61-9b04-4488-b793-b0f8683d7166",
   "metadata": {},
   "outputs": [
    {
     "data": {
      "text/plain": [
       "array([[0., 0., 0., 0., 0., 0.],\n",
       "       [0., 0., 0., 0., 0., 0.],\n",
       "       [0., 0., 0., 0., 0., 0.]])"
      ]
     },
     "execution_count": 30,
     "metadata": {},
     "output_type": "execute_result"
    }
   ],
   "source": [
    "np.zeros((3, 6))"
   ]
  },
  {
   "cell_type": "code",
   "execution_count": 32,
   "id": "80c38a1a-0584-4973-b07f-8244f364c2ce",
   "metadata": {},
   "outputs": [
    {
     "data": {
      "text/plain": [
       "array([[[8.27843524e-312, 3.16202013e-322],\n",
       "        [0.00000000e+000, 0.00000000e+000],\n",
       "        [1.01855798e-312, 2.67784513e+184]],\n",
       "\n",
       "       [[3.14201913e+179, 2.87822983e+180],\n",
       "        [1.42458121e+160, 1.83120903e-076],\n",
       "        [6.86714330e+169, 2.62039873e+180]]])"
      ]
     },
     "execution_count": 32,
     "metadata": {},
     "output_type": "execute_result"
    }
   ],
   "source": [
    "# returning garbage values\n",
    "np.empty((2, 3, 2))"
   ]
  },
  {
   "cell_type": "code",
   "execution_count": 34,
   "id": "bd265629-e5fd-41c3-ad2a-ffa06c51133f",
   "metadata": {},
   "outputs": [
    {
     "data": {
      "text/plain": [
       "array([ 0,  1,  2,  3,  4,  5,  6,  7,  8,  9, 10, 11, 12, 13, 14])"
      ]
     },
     "execution_count": 34,
     "metadata": {},
     "output_type": "execute_result"
    }
   ],
   "source": [
    "#Built-in python range function.\n",
    "np.arange(15)"
   ]
  },
  {
   "cell_type": "code",
   "execution_count": null,
   "id": "aa4613fb-aa28-4ce7-9809-e1a819dcb06b",
   "metadata": {},
   "outputs": [],
   "source": []
  }
 ],
 "metadata": {
  "kernelspec": {
   "display_name": "Python 3 (ipykernel)",
   "language": "python",
   "name": "python3"
  },
  "language_info": {
   "codemirror_mode": {
    "name": "ipython",
    "version": 3
   },
   "file_extension": ".py",
   "mimetype": "text/x-python",
   "name": "python",
   "nbconvert_exporter": "python",
   "pygments_lexer": "ipython3",
   "version": "3.7.9"
  }
 },
 "nbformat": 4,
 "nbformat_minor": 5
}
