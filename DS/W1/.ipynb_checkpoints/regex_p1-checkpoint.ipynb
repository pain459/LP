{
 "cells": [
  {
   "cell_type": "raw",
   "id": "34065adf-04c0-4bb0-8e7e-ca80635efb50",
   "metadata": {},
   "source": [
    "From the page https://www.w3schools.com/python/python_regex.asp"
   ]
  },
  {
   "cell_type": "code",
   "execution_count": 2,
   "id": "8d8728e8-9d54-442f-bb8a-65783ece5401",
   "metadata": {},
   "outputs": [],
   "source": [
    "import re\n",
    "txt = \"The rain in Spain\"\n",
    "x = re.search(\"^The.*Spain$\", txt)  # search if the string starts with The and ends with Spain."
   ]
  },
  {
   "cell_type": "code",
   "execution_count": 3,
   "id": "2d27f8d6-432b-4ea1-a839-3387654734da",
   "metadata": {},
   "outputs": [
    {
     "data": {
      "text/plain": [
       "<re.Match object; span=(0, 17), match='The rain in Spain'>"
      ]
     },
     "execution_count": 3,
     "metadata": {},
     "output_type": "execute_result"
    }
   ],
   "source": [
    "x"
   ]
  },
  {
   "cell_type": "code",
   "execution_count": 8,
   "id": "6a17d195-dffc-4324-a2be-12c2d153ca70",
   "metadata": {},
   "outputs": [
    {
     "data": {
      "text/plain": [
       "<re.Match object; span=(0, 40), match='The purpose of our lives is to be happy.'>"
      ]
     },
     "execution_count": 8,
     "metadata": {},
     "output_type": "execute_result"
    }
   ],
   "source": [
    "# example.\n",
    "import re\n",
    "txt = 'The purpose of our lives is to be happy.'\n",
    "x = re.search(\"^The purpose.*happy.$\", txt)\n",
    "x"
   ]
  },
  {
   "cell_type": "code",
   "execution_count": 10,
   "id": "1ff19259-e1bc-4704-ab96-9cb511bbcf2b",
   "metadata": {},
   "outputs": [
    {
     "data": {
      "text/plain": [
       "<re.Match object; span=(0, 59), match='You only live once, but if you do it right, once >"
      ]
     },
     "execution_count": 10,
     "metadata": {},
     "output_type": "execute_result"
    }
   ],
   "source": [
    "# example\n",
    "import re\n",
    "txt = 'You only live once, but if you do it right, once is enough.'\n",
    "x = re.search(\"^You.*but*.*right*,.*enough.$\", txt)\n",
    "x"
   ]
  },
  {
   "cell_type": "code",
   "execution_count": 26,
   "id": "6670e4a7-65e5-400a-9a8d-c6f19844c360",
   "metadata": {},
   "outputs": [
    {
     "data": {
      "text/plain": [
       "<re.Match object; span=(0, 86), match='The big lesson in life, baby, is never be scared >"
      ]
     },
     "execution_count": 26,
     "metadata": {},
     "output_type": "execute_result"
    }
   ],
   "source": [
    "# example\n",
    "import re\n",
    "txt = 'The big lesson in life, baby, is never be scared of anyone or anything - Frank Sinatra'\n",
    "x = re.search(\"^The.*baby*.* - *.*Sinatra$\", txt)\n",
    "x"
   ]
  },
  {
   "cell_type": "markdown",
   "id": "040605df-11a9-493e-a9eb-1d8dd6677227",
   "metadata": {},
   "source": [
    "### Metacharacters"
   ]
  },
  {
   "cell_type": "code",
   "execution_count": 27,
   "id": "0ee78e04-dd3d-41b4-9479-1ba7a2b9fa81",
   "metadata": {},
   "outputs": [
    {
     "data": {
      "text/plain": [
       "['h', 'e', 'a', 'i', 'i', 'a', 'i']"
      ]
     },
     "execution_count": 27,
     "metadata": {},
     "output_type": "execute_result"
    }
   ],
   "source": [
    "# Find all lower case characters alphabetically between \"a\" and \"m\":\n",
    "import re\n",
    "txt = \"The rain in Spain\"\n",
    "x = re.findall(\"[a-m]\", txt)\n",
    "x"
   ]
  },
  {
   "cell_type": "code",
   "execution_count": 29,
   "id": "547d82a8-9e65-4ef2-851b-b86d7afa75cf",
   "metadata": {},
   "outputs": [
    {
     "data": {
      "text/plain": [
       "34"
      ]
     },
     "execution_count": 29,
     "metadata": {},
     "output_type": "execute_result"
    }
   ],
   "source": [
    "# Testing a panagram\n",
    "import re\n",
    "txt = \"The quick brown fox jumps over the lazy dog\"\n",
    "x = re.findall(\"[a-z]\", txt)\n",
    "len(x)"
   ]
  },
  {
   "cell_type": "code",
   "execution_count": 33,
   "id": "cd9040ed-6005-45bd-9f6a-b7d4ed87b617",
   "metadata": {},
   "outputs": [
    {
     "data": {
      "text/plain": [
       "27"
      ]
     },
     "execution_count": 33,
     "metadata": {},
     "output_type": "execute_result"
    }
   ],
   "source": [
    "# This is a special sequence. Will be covered later.\n",
    "import re\n",
    "txt = \"The quick brown fox jumps over the lazy dog\"\n",
    "x = re.findall(\"[\\w]\", txt)\n",
    "len(set(x))"
   ]
  },
  {
   "cell_type": "code",
   "execution_count": 34,
   "id": "057fb521-f914-466e-ad52-c0274be1b45a",
   "metadata": {},
   "outputs": [
    {
     "data": {
      "text/plain": [
       "['5', '9']"
      ]
     },
     "execution_count": 34,
     "metadata": {},
     "output_type": "execute_result"
    }
   ],
   "source": [
    "# \\\n",
    "# Signals a special sequence (can also be used to escape special characters)\n",
    "# #Find all digit characters:\n",
    "import re\n",
    "txt = \"That will be 59 dollars\"\n",
    "x = re.findall(\"\\d\", txt)\n",
    "x"
   ]
  },
  {
   "cell_type": "code",
   "execution_count": 35,
   "id": "69366d2b-1525-4548-8fcf-0ff3241552fb",
   "metadata": {},
   "outputs": [
    {
     "data": {
      "text/plain": [
       "['2', '1', '0', '0', '1', '0']"
      ]
     },
     "execution_count": 35,
     "metadata": {},
     "output_type": "execute_result"
    }
   ],
   "source": [
    "# example\n",
    "import re\n",
    "txt = \"There are 2 numbers in this. 100 is a multiple of 10.\"\n",
    "x = re.findall(\"\\d\", txt)\n",
    "x"
   ]
  },
  {
   "cell_type": "code",
   "execution_count": 38,
   "id": "0fcbc373-5dbe-42e6-97d9-5d2a421271de",
   "metadata": {},
   "outputs": [
    {
     "data": {
      "text/plain": [
       "['antikythera']"
      ]
     },
     "execution_count": 38,
     "metadata": {},
     "output_type": "execute_result"
    }
   ],
   "source": [
    "# .\n",
    "# Any character (except newline character)\n",
    "import re\n",
    "txt = \"antikythera\"\n",
    "x = re.findall(\"an........a\", txt)\n",
    "x"
   ]
  },
  {
   "cell_type": "code",
   "execution_count": 41,
   "id": "d08ce22d-483f-4584-bbba-8d3fc34b01d5",
   "metadata": {},
   "outputs": [
    {
     "data": {
      "text/plain": [
       "['hello']"
      ]
     },
     "execution_count": 41,
     "metadata": {},
     "output_type": "execute_result"
    }
   ],
   "source": [
    "# ^\n",
    "# Starts with\n",
    "import re\n",
    "txt = \"hello planet\"\n",
    "x = re.findall(\"^hello\", txt)\n",
    "x"
   ]
  },
  {
   "cell_type": "code",
   "execution_count": 46,
   "id": "bb4b6925-fdf6-44cb-a4ed-ccb923d2eefa",
   "metadata": {},
   "outputs": [
    {
     "name": "stdout",
     "output_type": "stream",
     "text": [
      "String found!\n"
     ]
    }
   ],
   "source": [
    "# Writing a loop on the returned result.\n",
    "import re\n",
    "txt = \"hello planet\"\n",
    "x = re.findall(\"^hello\", txt)\n",
    "if x:\n",
    "    print(\"String found!\")\n",
    "else:\n",
    "    print(\"nada.\")"
   ]
  },
  {
   "cell_type": "code",
   "execution_count": 47,
   "id": "74395bea-78d4-4654-adf9-c9b69c3c4b23",
   "metadata": {},
   "outputs": [
    {
     "data": {
      "text/plain": [
       "['planet']"
      ]
     },
     "execution_count": 47,
     "metadata": {},
     "output_type": "execute_result"
    }
   ],
   "source": [
    "# $\n",
    "# Ends with\n",
    "import re\n",
    "txt = \"hello planet\"\n",
    "x = re.findall(\"planet$\", txt)\n",
    "x"
   ]
  },
  {
   "cell_type": "code",
   "execution_count": 50,
   "id": "510e1a65-20b1-4bb8-aace-3f5c976ddac2",
   "metadata": {},
   "outputs": [
    {
     "name": "stdout",
     "output_type": "stream",
     "text": [
      "Found\n"
     ]
    }
   ],
   "source": [
    "# Writing a loop on it.\n",
    "import re\n",
    "txt = \"hello planet\"\n",
    "x = re.findall('planet$', txt)\n",
    "if x:\n",
    "    print(\"Found\")\n",
    "else:\n",
    "    print(\"nada\")"
   ]
  },
  {
   "cell_type": "code",
   "execution_count": 52,
   "id": "53b620d3-a41a-45bf-bc5e-a091bb02e221",
   "metadata": {},
   "outputs": [
    {
     "data": {
      "text/plain": [
       "['antikythera']"
      ]
     },
     "execution_count": 52,
     "metadata": {},
     "output_type": "execute_result"
    }
   ],
   "source": [
    "# *\n",
    "# Zero or more occurrences\n",
    "import re\n",
    "txt = \"antikythera\"\n",
    "x = re.findall(\"a.*a\", txt)\n",
    "x"
   ]
  },
  {
   "cell_type": "code",
   "execution_count": 53,
   "id": "3b1149bc-f3a8-4146-b307-15aaedd87ce9",
   "metadata": {},
   "outputs": [
    {
     "data": {
      "text/plain": [
       "['fab']"
      ]
     },
     "execution_count": 53,
     "metadata": {},
     "output_type": "execute_result"
    }
   ],
   "source": [
    "# one more test\n",
    "import re\n",
    "txt = \"fab\"\n",
    "x = re.findall(\"fa.*b\", txt)  # satisfying 0 or more occurences.\n",
    "x"
   ]
  },
  {
   "cell_type": "code",
   "execution_count": 54,
   "id": "ea44c003-e239-4fd2-89ff-a60f577d48bb",
   "metadata": {},
   "outputs": [
    {
     "data": {
      "text/plain": [
       "['antikythera']"
      ]
     },
     "execution_count": 54,
     "metadata": {},
     "output_type": "execute_result"
    }
   ],
   "source": [
    "# +\n",
    "# One or more occurrences\n",
    "import re\n",
    "txt = \"antikythera\"\n",
    "x = re.findall(\"a.+a\", txt)\n",
    "x"
   ]
  },
  {
   "cell_type": "code",
   "execution_count": 57,
   "id": "1c199066-ad7d-447c-959c-3bdcb4146a64",
   "metadata": {},
   "outputs": [
    {
     "data": {
      "text/plain": [
       "[]"
      ]
     },
     "execution_count": 57,
     "metadata": {},
     "output_type": "execute_result"
    }
   ],
   "source": [
    "# Trying to fail the above condition.\n",
    "import re\n",
    "txt = \"fab\"\n",
    "x = re.findall(\"fa.+b\", txt)  # atleast 1 result wont be found in this condition.\n",
    "x"
   ]
  },
  {
   "cell_type": "code",
   "execution_count": 58,
   "id": "f69e1850-3216-4ac1-be4b-0b5b1899d3b1",
   "metadata": {},
   "outputs": [
    {
     "data": {
      "text/plain": [
       "['hello']"
      ]
     },
     "execution_count": 58,
     "metadata": {},
     "output_type": "execute_result"
    }
   ],
   "source": [
    "# ?\n",
    "# Zero or one occurrences\n",
    "import re\n",
    "txt = \"hello\"\n",
    "x = re.findall(\"hel.?o\", txt)  # reply will be only given if \n",
    "x"
   ]
  },
  {
   "cell_type": "code",
   "execution_count": 60,
   "id": "9592c285-e4b6-4133-b586-d1f6d64f595b",
   "metadata": {},
   "outputs": [
    {
     "data": {
      "text/plain": [
       "['hello']"
      ]
     },
     "execution_count": 60,
     "metadata": {},
     "output_type": "execute_result"
    }
   ],
   "source": [
    "# {}\n",
    "# Exactly the specified number of occurrences\n",
    "import re\n",
    "txt = \"hello\"\n",
    "x = re.findall(\"he.{2}o\", txt)\n",
    "x"
   ]
  },
  {
   "cell_type": "code",
   "execution_count": 61,
   "id": "18a32a4c-383d-447b-be1c-fa7fea56ad02",
   "metadata": {},
   "outputs": [
    {
     "data": {
      "text/plain": [
       "['antikythera']"
      ]
     },
     "execution_count": 61,
     "metadata": {},
     "output_type": "execute_result"
    }
   ],
   "source": [
    "# one more example\n",
    "import re\n",
    "txt = \"antikythera\"\n",
    "x = re.findall(\"anti.{6}a\", txt)\n",
    "x"
   ]
  },
  {
   "cell_type": "code",
   "execution_count": 62,
   "id": "490534da-bde9-4879-8789-9aa1d2637ef2",
   "metadata": {},
   "outputs": [
    {
     "data": {
      "text/plain": [
       "['falls']"
      ]
     },
     "execution_count": 62,
     "metadata": {},
     "output_type": "execute_result"
    }
   ],
   "source": [
    "# |\n",
    "# Either or\n",
    "import re\n",
    "txt = \"The rain in Spain falls mainly in the plain!\"\n",
    "x = re.findall(\"falls|stays\", txt)\n",
    "x"
   ]
  },
  {
   "cell_type": "code",
   "execution_count": 64,
   "id": "b46c65a0-8744-445c-a1fb-ae937bf0f683",
   "metadata": {},
   "outputs": [
    {
     "data": {
      "text/plain": [
       "['falls', 'plain']"
      ]
     },
     "execution_count": 64,
     "metadata": {},
     "output_type": "execute_result"
    }
   ],
   "source": [
    "# passing multiple search strings.\n",
    "import re\n",
    "txt = \"The rain in Spain falls mainly in the plain!\"\n",
    "x = re.findall(\"falls|stops|plain\", txt)  # returns all results.\n",
    "x"
   ]
  },
  {
   "cell_type": "code",
   "execution_count": 76,
   "id": "a8cdbdef-fbc7-4c1a-9d61-a8dc43663436",
   "metadata": {},
   "outputs": [
    {
     "data": {
      "text/plain": [
       "<re.Match object; span=(18, 23), match='falls'>"
      ]
     },
     "execution_count": 76,
     "metadata": {},
     "output_type": "execute_result"
    }
   ],
   "source": [
    "# observed difference between search and findall\n",
    "import re\n",
    "txt = \"The rain in Spain falls mainly in the plain!\"\n",
    "x = re.search(\"falls|stops|plain\", txt)  # returns only the first result as object\n",
    "x"
   ]
  },
  {
   "cell_type": "markdown",
   "id": "2666ec12-daa1-4983-998c-06c7add6499e",
   "metadata": {},
   "source": [
    "### Special Sequences"
   ]
  },
  {
   "cell_type": "code",
   "execution_count": 1,
   "id": "be216d06-8745-4911-a613-f83eb3c5ba95",
   "metadata": {},
   "outputs": [
    {
     "data": {
      "text/plain": [
       "True"
      ]
     },
     "execution_count": 1,
     "metadata": {},
     "output_type": "execute_result"
    }
   ],
   "source": [
    "# \\A\n",
    "# Returns a match if the specified characters are at the beginning of the string\n",
    "import re\n",
    "txt = \"The rain in Spain\"\n",
    "x = re.findall(\"\\AThe\", txt)\n",
    "bool(x)"
   ]
  },
  {
   "cell_type": "code",
   "execution_count": 3,
   "id": "31d68e7e-35b3-476c-a6b9-ef8c0e8a7ea8",
   "metadata": {},
   "outputs": [
    {
     "data": {
      "text/plain": [
       "False"
      ]
     },
     "execution_count": 3,
     "metadata": {},
     "output_type": "execute_result"
    }
   ],
   "source": [
    "# one more example\n",
    "import re\n",
    "txt = 'antikythera'\n",
    "x = re.findall('\\Aanta', txt)\n",
    "bool(x)"
   ]
  },
  {
   "cell_type": "raw",
   "id": "819ec69d-a9e1-41bc-98bf-af1630ed47ac",
   "metadata": {},
   "source": [
    "\\b\n",
    "\n",
    "Returns a match where the specified characters are at the beginning or at the end of a word\n",
    "(the \"r\" in the beginning is making sure that the string is being treated as a \"raw string\")"
   ]
  },
  {
   "cell_type": "code",
   "execution_count": 8,
   "id": "9b8e3dd3-b34e-41a1-bc16-e2917d9c92a4",
   "metadata": {},
   "outputs": [
    {
     "data": {
      "text/plain": [
       "[]"
      ]
     },
     "execution_count": 8,
     "metadata": {},
     "output_type": "execute_result"
    }
   ],
   "source": [
    "import re\n",
    "txt = \"The rain in Spain\"\n",
    "x = re.findall(r\"\\bain\", txt)  # checking the beginning of the word.\n",
    "x"
   ]
  },
  {
   "cell_type": "code",
   "execution_count": 9,
   "id": "be432175-5912-4a35-8f54-da568727a221",
   "metadata": {},
   "outputs": [
    {
     "data": {
      "text/plain": [
       "['ain', 'ain']"
      ]
     },
     "execution_count": 9,
     "metadata": {},
     "output_type": "execute_result"
    }
   ],
   "source": [
    "import re\n",
    "txt = \"The rain in Spain\"\n",
    "x = re.findall(r\"ain\\b\", txt)\n",
    "x"
   ]
  },
  {
   "cell_type": "raw",
   "id": "3d51fbf1-82b3-49f7-9010-350eea6fee40",
   "metadata": {},
   "source": [
    "\\B\n",
    "\n",
    "Returns a match where the specified characters are present, but NOT at the beginning (or at the end) of a word\n",
    "(the \"r\" in the beginning is making sure that the string is being treated as a \"raw string\")"
   ]
  },
  {
   "cell_type": "code",
   "execution_count": 15,
   "id": "255c901c-f1c7-4547-9c22-d3754e144a86",
   "metadata": {},
   "outputs": [
    {
     "data": {
      "text/plain": [
       "['ain', 'ain']"
      ]
     },
     "execution_count": 15,
     "metadata": {},
     "output_type": "execute_result"
    }
   ],
   "source": [
    "import re\n",
    "txt = \"The rain in Spain\"\n",
    "x = re.findall(r\"\\Bain\", txt)\n",
    "x"
   ]
  },
  {
   "cell_type": "code",
   "execution_count": 16,
   "id": "0c23b774-6d8f-4537-8812-3eb3cce1bd4e",
   "metadata": {},
   "outputs": [
    {
     "data": {
      "text/plain": [
       "['ai', 'ai']"
      ]
     },
     "execution_count": 16,
     "metadata": {},
     "output_type": "execute_result"
    }
   ],
   "source": [
    "# One more example for testing\n",
    "import re\n",
    "txt = \"The rain in Spain\"\n",
    "x = re.findall(r\"ai\\B\", txt)\n",
    "x"
   ]
  },
  {
   "cell_type": "raw",
   "id": "3788455a-9d2d-45a4-85ab-6d6e24114d34",
   "metadata": {},
   "source": [
    "\\d\n",
    "Returns a match where the string contains digits (numbers from 0-9)"
   ]
  },
  {
   "cell_type": "code",
   "execution_count": 25,
   "id": "6d446d3b-6758-402e-9130-de3828bae16a",
   "metadata": {},
   "outputs": [
    {
     "data": {
      "text/plain": [
       "['2', '1', '0', '0', '2', '0', '0']"
      ]
     },
     "execution_count": 25,
     "metadata": {},
     "output_type": "execute_result"
    }
   ],
   "source": [
    "import re\n",
    "txt = \"There are 2 numbers in the text. 100 nd 200.\"\n",
    "x = re.findall(\"\\d\", txt)\n",
    "x"
   ]
  },
  {
   "cell_type": "raw",
   "id": "11b1dc6b-953d-414d-bf03-40947dababcb",
   "metadata": {},
   "source": [
    "\\D\n",
    "Returns a match where the string DOES NOT contain digits"
   ]
  },
  {
   "cell_type": "code",
   "execution_count": 31,
   "id": "7a8c7539-5796-48aa-8772-5a7bbf8a5473",
   "metadata": {},
   "outputs": [
    {
     "data": {
      "text/plain": [
       "37"
      ]
     },
     "execution_count": 31,
     "metadata": {},
     "output_type": "execute_result"
    }
   ],
   "source": [
    "import re\n",
    "txt = \"There are 2 numbers in the text. 100 nd 200.\"\n",
    "x = re.findall(\"\\D\", txt)\n",
    "len(x)"
   ]
  },
  {
   "cell_type": "raw",
   "id": "2a806032-9af4-4bed-8b9c-f7b68da96362",
   "metadata": {},
   "source": [
    "\\s\n",
    "Returns a match where the string contains a white space character"
   ]
  },
  {
   "cell_type": "code",
   "execution_count": 32,
   "id": "1d49e5f1-58fe-4c07-9516-72c2b0b06edb",
   "metadata": {},
   "outputs": [
    {
     "data": {
      "text/plain": [
       "[' ', ' ', ' ']"
      ]
     },
     "execution_count": 32,
     "metadata": {},
     "output_type": "execute_result"
    }
   ],
   "source": [
    "import re\n",
    "txt = \"The rain in Spain.\"\n",
    "x = re.findall(\"\\s\", txt)\n",
    "x"
   ]
  },
  {
   "cell_type": "raw",
   "id": "0725976a-08fa-4ee3-a438-25e9fffc74f6",
   "metadata": {},
   "source": [
    "\\S\n",
    "Returns a match where the string DOES NOT contain a white space character"
   ]
  },
  {
   "cell_type": "code",
   "execution_count": 33,
   "id": "74387929-4ef8-4985-a0a8-9d9f60eae81b",
   "metadata": {},
   "outputs": [
    {
     "data": {
      "text/plain": [
       "['T', 'h', 'e', 'r', 'a', 'i', 'n', 'i', 'n', 'S', 'p', 'a', 'i', 'n']"
      ]
     },
     "execution_count": 33,
     "metadata": {},
     "output_type": "execute_result"
    }
   ],
   "source": [
    "import re\n",
    "txt = \"The rain in Spain\"\n",
    "x = re.findall(\"\\S\", txt)\n",
    "x"
   ]
  },
  {
   "cell_type": "raw",
   "id": "a80acf3c-730f-4898-951e-6c88cb2dd97b",
   "metadata": {},
   "source": [
    "\\w\n",
    "Returns a match where the string contains any word characters (characters from a to Z, digits from 0-9, and the underscore _ character)"
   ]
  },
  {
   "cell_type": "code",
   "execution_count": 34,
   "id": "b7227057-84ea-4c52-b648-9d48d51579a0",
   "metadata": {},
   "outputs": [
    {
     "data": {
      "text/plain": [
       "['T', 'h', 'e', 'r', 'a', 'i', 'n', 'i', 'n', 'S', 'p', 'a', 'i', 'n']"
      ]
     },
     "execution_count": 34,
     "metadata": {},
     "output_type": "execute_result"
    }
   ],
   "source": [
    "import re\n",
    "txt = \"The rain in Spain\"\n",
    "x = re.findall(\"\\w\", txt)\n",
    "x"
   ]
  },
  {
   "cell_type": "raw",
   "id": "13ece909-04c9-46d5-adda-1dac5184b777",
   "metadata": {},
   "source": [
    "\\W\n",
    "Returns a match where the string DOES NOT contain any word characters"
   ]
  },
  {
   "cell_type": "code",
   "execution_count": 36,
   "id": "d107d53f-b385-4a73-a233-4c5b7eb288fb",
   "metadata": {},
   "outputs": [
    {
     "data": {
      "text/plain": [
       "['&']"
      ]
     },
     "execution_count": 36,
     "metadata": {},
     "output_type": "execute_result"
    }
   ],
   "source": [
    "import re\n",
    "txt = \"Thisistofindthethiefâð&ö\"\n",
    "x = re.findall(\"\\W\", txt)\n",
    "x"
   ]
  },
  {
   "cell_type": "raw",
   "id": "e194b143-7dfb-41bb-9743-e7813e4c6f98",
   "metadata": {},
   "source": [
    "\\Z\n",
    "Returns a match if the specified characters are at the end of the string"
   ]
  },
  {
   "cell_type": "code",
   "execution_count": 38,
   "id": "d2c53370-1f27-4cac-a369-1651589b6281",
   "metadata": {},
   "outputs": [
    {
     "data": {
      "text/plain": [
       "['Spain.']"
      ]
     },
     "execution_count": 38,
     "metadata": {},
     "output_type": "execute_result"
    }
   ],
   "source": [
    "import re\n",
    "txt = \"The rain in Spain.\"\n",
    "x = re.findall(\"Spain.\\Z\", txt)\n",
    "x"
   ]
  },
  {
   "cell_type": "markdown",
   "id": "498b90a9-5a1d-407c-8ea8-44a711a5ae2e",
   "metadata": {},
   "source": [
    "### Sets"
   ]
  },
  {
   "cell_type": "raw",
   "id": "eed2acc4-7262-479d-9312-ab35295111d0",
   "metadata": {},
   "source": [
    "[arn]\n",
    "Returns a match where one of the specified characters (a, r, or n) are present"
   ]
  },
  {
   "cell_type": "code",
   "execution_count": 40,
   "id": "d9162509-db5a-4697-9e2e-ef8e44dde9b0",
   "metadata": {},
   "outputs": [
    {
     "data": {
      "text/plain": [
       "['r', 'a', 'n', 'n', 'a', 'n']"
      ]
     },
     "execution_count": 40,
     "metadata": {},
     "output_type": "execute_result"
    }
   ],
   "source": [
    "import re\n",
    "txt = \"The rain in Spain.\"\n",
    "x = re.findall(\"[arn]\", txt)\n",
    "x"
   ]
  },
  {
   "cell_type": "code",
   "execution_count": 42,
   "id": "631c12a7-0558-402e-beb7-96aa5c46a4ba",
   "metadata": {},
   "outputs": [
    {
     "data": {
      "text/plain": [
       "['a', 'e', 'a']"
      ]
     },
     "execution_count": 42,
     "metadata": {},
     "output_type": "execute_result"
    }
   ],
   "source": [
    "import re\n",
    "txt = \"antikythera\"\n",
    "x = re.findall(\"[a-g]\", txt)\n",
    "x"
   ]
  },
  {
   "cell_type": "raw",
   "id": "36c7b69a-28b8-4870-a9d3-43b99ac8ef5d",
   "metadata": {},
   "source": [
    "[^arn]\n",
    "Returns a match for any character EXCEPT a, r, and n"
   ]
  },
  {
   "cell_type": "code",
   "execution_count": 44,
   "id": "d26a8acf-56ad-4ad8-bf71-d140713a5506",
   "metadata": {},
   "outputs": [
    {
     "data": {
      "text/plain": [
       "['T', 'h', 'e', ' ', 'i', ' ', 'i', ' ', 'S', 'p', 'i']"
      ]
     },
     "execution_count": 44,
     "metadata": {},
     "output_type": "execute_result"
    }
   ],
   "source": [
    "import re\n",
    "txt = \"The rain in Spain\"\n",
    "x = re.findall(\"[^arn]\", txt)\n",
    "x"
   ]
  },
  {
   "cell_type": "raw",
   "id": "72a2a34c-34fe-416b-968a-241f26af1e91",
   "metadata": {},
   "source": [
    "[0123]\n",
    "Returns a match where any of the specified digits (0, 1, 2, or 3) are present"
   ]
  },
  {
   "cell_type": "code",
   "execution_count": 45,
   "id": "b8413887-9e1c-4f82-86d6-0cdf1355143e",
   "metadata": {},
   "outputs": [
    {
     "data": {
      "text/plain": [
       "['0', '0', '7']"
      ]
     },
     "execution_count": 45,
     "metadata": {},
     "output_type": "execute_result"
    }
   ],
   "source": [
    "import re\n",
    "txt = \"The number is 007. Its never 999\"\n",
    "x = re.findall(\"[007]\", txt)\n",
    "x"
   ]
  },
  {
   "cell_type": "raw",
   "id": "7e4651b3-4d5a-4bed-9192-adfed7b619e8",
   "metadata": {},
   "source": [
    "[0-9]\n",
    "Returns a match for any digit between 0 and 9"
   ]
  },
  {
   "cell_type": "code",
   "execution_count": 46,
   "id": "e4e90e74-553d-46cb-a970-dcd65314f2f3",
   "metadata": {},
   "outputs": [
    {
     "data": {
      "text/plain": [
       "['0', '0', '7']"
      ]
     },
     "execution_count": 46,
     "metadata": {},
     "output_type": "execute_result"
    }
   ],
   "source": [
    "import re\n",
    "txt = \"The number is 007. Its never 999\"\n",
    "x = re.findall(\"[0-7]\", txt)\n",
    "x"
   ]
  },
  {
   "cell_type": "raw",
   "id": "bee56417-cc23-43c6-b1a3-35ef7ed30f78",
   "metadata": {},
   "source": [
    "[0-5][0-9]\n",
    "This is a bit flaky\n",
    "Returns a match for any two-digit numbers from 00 and 59"
   ]
  },
  {
   "cell_type": "code",
   "execution_count": 62,
   "id": "05aa2e8f-5899-4e58-b233-1260bf2c7e61",
   "metadata": {},
   "outputs": [
    {
     "data": {
      "text/plain": [
       "[]"
      ]
     },
     "execution_count": 62,
     "metadata": {},
     "output_type": "execute_result"
    }
   ],
   "source": [
    "import re\n",
    "txt = \"my number is 59\"\n",
    "x = re.findall(\"[0-6][0-0]\", txt)\n",
    "x"
   ]
  },
  {
   "cell_type": "raw",
   "id": "921c1cda-90b0-44f2-ab20-cc0f8d8563f2",
   "metadata": {},
   "source": [
    "[a-zA-Z]\n",
    "Returns a match for any character alphabetically between a and z, lower case OR upper case"
   ]
  },
  {
   "cell_type": "code",
   "execution_count": 63,
   "id": "2d1f339d-5035-478e-91c2-9a9632f64868",
   "metadata": {},
   "outputs": [
    {
     "data": {
      "text/plain": [
       "['t', 'i', 'm', 'e', 's', 'b', 'e', 'f', 'o', 'r', 'e', 'A', 'M']"
      ]
     },
     "execution_count": 63,
     "metadata": {},
     "output_type": "execute_result"
    }
   ],
   "source": [
    "import re\n",
    "txt = \"8 times before 11:45 AM\"\n",
    "x = re.findall(\"[a-zA-Z]\", txt)\n",
    "x"
   ]
  },
  {
   "cell_type": "raw",
   "id": "720c368c-6f53-4de7-aac0-942ecbcebfcc",
   "metadata": {},
   "source": [
    "[+]\n",
    "In sets, +, *, ., |, (), $,{} has no special meaning, so [+] means: return a match for any + character in the string"
   ]
  },
  {
   "cell_type": "code",
   "execution_count": 65,
   "id": "ca8de5b2-66ae-41fc-9a33-63450130bb07",
   "metadata": {},
   "outputs": [
    {
     "data": {
      "text/plain": [
       "['+']"
      ]
     },
     "execution_count": 65,
     "metadata": {},
     "output_type": "execute_result"
    }
   ],
   "source": [
    "import re\n",
    "txt = \"8 times before 11:45 AM+\"\n",
    "x = re.findall(\"[+]\", txt)\n",
    "x"
   ]
  },
  {
   "cell_type": "markdown",
   "id": "b1eb2c85-4c01-4fcd-8f76-b563f8670eac",
   "metadata": {},
   "source": [
    "## Exploring functions"
   ]
  },
  {
   "cell_type": "markdown",
   "id": "60a665a3-945b-4697-9e36-3986c177be7e",
   "metadata": {},
   "source": [
    "#### The findall() function"
   ]
  },
  {
   "cell_type": "code",
   "execution_count": 68,
   "id": "4339acf3-110c-409a-949e-31414f8ea3db",
   "metadata": {},
   "outputs": [
    {
     "data": {
      "text/plain": [
       "['ai', 'ai']"
      ]
     },
     "execution_count": 68,
     "metadata": {},
     "output_type": "execute_result"
    }
   ],
   "source": [
    "import re\n",
    "txt = \"The rain in Spain\"\n",
    "x = re.findall(\"ai\", txt)\n",
    "x"
   ]
  },
  {
   "cell_type": "markdown",
   "id": "cad5a559-5eba-4db8-9b78-b312dbf43407",
   "metadata": {},
   "source": [
    "#### The search() function"
   ]
  },
  {
   "cell_type": "code",
   "execution_count": 77,
   "id": "0b781182-61f0-45aa-a69f-7580a644ee61",
   "metadata": {},
   "outputs": [
    {
     "data": {
      "text/plain": [
       "3"
      ]
     },
     "execution_count": 77,
     "metadata": {},
     "output_type": "execute_result"
    }
   ],
   "source": [
    "import re\n",
    "txt = \"The rain in Spain\"\n",
    "x = re.search(\"\\s\", txt)\n",
    "x.start()  # returns the first white space character position."
   ]
  },
  {
   "cell_type": "markdown",
   "id": "66e85428-7e83-45af-837b-5b3d043090c1",
   "metadata": {},
   "source": [
    "#### the split() function"
   ]
  },
  {
   "cell_type": "code",
   "execution_count": 73,
   "id": "1286578d-f972-4fc6-ac1d-b26407fe2231",
   "metadata": {},
   "outputs": [
    {
     "data": {
      "text/plain": [
       "['The', 'rain', 'in', 'Spain']"
      ]
     },
     "execution_count": 73,
     "metadata": {},
     "output_type": "execute_result"
    }
   ],
   "source": [
    "import re\n",
    "txt = \"The rain in Spain\"\n",
    "x = re.split(\"\\s\", txt)\n",
    "x"
   ]
  },
  {
   "cell_type": "code",
   "execution_count": 74,
   "id": "6cdb4092-fa39-45b1-9acd-6d4dad27ce30",
   "metadata": {},
   "outputs": [
    {
     "data": {
      "text/plain": [
       "['The', 'rain in Spain']"
      ]
     },
     "execution_count": 74,
     "metadata": {},
     "output_type": "execute_result"
    }
   ],
   "source": [
    "import re\n",
    "txt = \"The rain in Spain\"\n",
    "x = re.split(\"\\s\", txt, 1)  # Split the string only at the first occurence.\n",
    "x"
   ]
  },
  {
   "cell_type": "code",
   "execution_count": 75,
   "id": "956f93b8-511f-47a3-a683-f5725317f64e",
   "metadata": {},
   "outputs": [
    {
     "data": {
      "text/plain": [
       "['The', 'rain', 'in Spain']"
      ]
     },
     "execution_count": 75,
     "metadata": {},
     "output_type": "execute_result"
    }
   ],
   "source": [
    "import re\n",
    "txt = \"The rain in Spain\"\n",
    "x = re.split(\"\\s\", txt, maxsplit=2)  # Controlling the number of occurences with maxsplit param.\n",
    "x"
   ]
  },
  {
   "cell_type": "markdown",
   "id": "2bd919ec-1bab-4f6a-a53b-a0cb85335196",
   "metadata": {},
   "source": [
    "#### The sub() function"
   ]
  },
  {
   "cell_type": "code",
   "execution_count": 78,
   "id": "99acd695-212e-4211-a57d-84a3240ee742",
   "metadata": {},
   "outputs": [
    {
     "data": {
      "text/plain": [
       "'The9rain9in9Spain'"
      ]
     },
     "execution_count": 78,
     "metadata": {},
     "output_type": "execute_result"
    }
   ],
   "source": [
    "# to replace\n",
    "import re\n",
    "txt = \"The rain in Spain\"\n",
    "x = re.sub(\"\\s\", '9', txt)\n",
    "x"
   ]
  },
  {
   "cell_type": "code",
   "execution_count": 79,
   "id": "153df4bf-475e-4d76-b88b-150d272f1d83",
   "metadata": {},
   "outputs": [
    {
     "data": {
      "text/plain": [
       "'The9rain9in Spain'"
      ]
     },
     "execution_count": 79,
     "metadata": {},
     "output_type": "execute_result"
    }
   ],
   "source": [
    "import re\n",
    "txt = \"The rain in Spain\"\n",
    "x = re.sub(\"\\s\", \"9\", txt, count=2)  # for specifying number of occurences\n",
    "x"
   ]
  },
  {
   "cell_type": "markdown",
   "id": "c8f4988a-7ce0-4584-b9dc-1a8a6c5afd69",
   "metadata": {},
   "source": [
    "#### Match Object"
   ]
  },
  {
   "cell_type": "code",
   "execution_count": 81,
   "id": "16946d60-4cf6-4436-a5e1-6387139c7537",
   "metadata": {},
   "outputs": [
    {
     "name": "stdout",
     "output_type": "stream",
     "text": [
      "<re.Match object; span=(5, 7), match='ai'>\n"
     ]
    }
   ],
   "source": [
    "import re\n",
    "txt = \"The rain in Spain\"\n",
    "x = re.search(\"ai\", txt)\n",
    "print(x)  # This will print an object"
   ]
  },
  {
   "cell_type": "raw",
   "id": "7358617c-2ff4-4817-b784-9258ec0bd4d0",
   "metadata": {},
   "source": [
    "The Match object has properties and methods used to retrieve information about the search, and the result:\n",
    "\n",
    ".span() returns a tuple containing the start-, and end positions of the match.\n",
    ".string returns the string passed into the function\n",
    ".group() returns the part of the string where there was a match"
   ]
  },
  {
   "cell_type": "code",
   "execution_count": 90,
   "id": "9743ef96-6c3b-409d-bcf1-1b0eeabb90f6",
   "metadata": {},
   "outputs": [
    {
     "data": {
      "text/plain": [
       "(12, 17)"
      ]
     },
     "execution_count": 90,
     "metadata": {},
     "output_type": "execute_result"
    }
   ],
   "source": [
    "import re\n",
    "\n",
    "txt = \"The rain in Spain\"\n",
    "x = re.search(r\"\\bS\\w+\", txt)\n",
    "x.span()"
   ]
  },
  {
   "cell_type": "code",
   "execution_count": 92,
   "id": "3f7d35cd-61e6-4662-bcde-d82117bd402a",
   "metadata": {},
   "outputs": [
    {
     "data": {
      "text/plain": [
       "<re.Match object; span=(12, 17), match='Spain'>"
      ]
     },
     "execution_count": 92,
     "metadata": {},
     "output_type": "execute_result"
    }
   ],
   "source": [
    "import re\n",
    "# gets only the first occurence.\n",
    "txt = \"The rain in Spain and in Sweden\"\n",
    "x = re.search(r\"\\bS\\w+\", txt)\n",
    "x"
   ]
  },
  {
   "cell_type": "code",
   "execution_count": 93,
   "id": "7105e6b2-6c1d-427f-9689-7f649b1194fc",
   "metadata": {},
   "outputs": [
    {
     "data": {
      "text/plain": [
       "'The rain in Spain'"
      ]
     },
     "execution_count": 93,
     "metadata": {},
     "output_type": "execute_result"
    }
   ],
   "source": [
    "import re\n",
    "txt = \"The rain in Spain\"\n",
    "x = re.search(r\"\\bS\\w+\", txt)\n",
    "x.string  # prints the string passed into it."
   ]
  },
  {
   "cell_type": "code",
   "execution_count": 96,
   "id": "ce7a95cb-eea0-4cea-93e8-50703cb9cb3a",
   "metadata": {},
   "outputs": [
    {
     "data": {
      "text/plain": [
       "'Spain'"
      ]
     },
     "execution_count": 96,
     "metadata": {},
     "output_type": "execute_result"
    }
   ],
   "source": [
    "import re\n",
    "\n",
    "txt = \"The rain in Spain\"\n",
    "#txt = \"The rain in Spain and in Sweden\"\n",
    "x = re.search(r\"\\bS\\w+\", txt)\n",
    "\n",
    "x.group()"
   ]
  },
  {
   "cell_type": "markdown",
   "id": "d842223c-22ac-4907-8207-ef1f859902bf",
   "metadata": {},
   "source": [
    "## Practice"
   ]
  },
  {
   "cell_type": "code",
   "execution_count": 97,
   "id": "83744e86-cffc-4968-8436-e793790db449",
   "metadata": {},
   "outputs": [
    {
     "data": {
      "text/plain": [
       "['Amy']"
      ]
     },
     "execution_count": 97,
     "metadata": {},
     "output_type": "execute_result"
    }
   ],
   "source": [
    "import re\n",
    "text = \"Amy works diligently. Amy gets good grades. Our student Amy is succesful.\"\n",
    "x = re.findall(\"^Amy\", text)\n",
    "x"
   ]
  },
  {
   "cell_type": "code",
   "execution_count": 98,
   "id": "1b2913fe-e09c-4960-b445-138fbfb3ae23",
   "metadata": {},
   "outputs": [
    {
     "data": {
      "text/plain": [
       "<re.Match object; span=(0, 3), match='Amy'>"
      ]
     },
     "execution_count": 98,
     "metadata": {},
     "output_type": "execute_result"
    }
   ],
   "source": [
    "x = re.search(\"^Amy\", text)\n",
    "x"
   ]
  },
  {
   "cell_type": "code",
   "execution_count": null,
   "id": "1398409c-e16b-420c-90de-6279e4dec235",
   "metadata": {},
   "outputs": [],
   "source": []
  }
 ],
 "metadata": {
  "kernelspec": {
   "display_name": "Python 3 (ipykernel)",
   "language": "python",
   "name": "python3"
  },
  "language_info": {
   "codemirror_mode": {
    "name": "ipython",
    "version": 3
   },
   "file_extension": ".py",
   "mimetype": "text/x-python",
   "name": "python",
   "nbconvert_exporter": "python",
   "pygments_lexer": "ipython3",
   "version": "3.7.9"
  }
 },
 "nbformat": 4,
 "nbformat_minor": 5
}
