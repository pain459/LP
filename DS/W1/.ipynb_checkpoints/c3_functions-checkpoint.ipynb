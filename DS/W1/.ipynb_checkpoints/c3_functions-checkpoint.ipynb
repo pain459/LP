{
 "cells": [
  {
   "cell_type": "markdown",
   "id": "2d44538d-e059-4ae0-bbe3-e5339c8697f0",
   "metadata": {},
   "source": [
    "# Functions"
   ]
  },
  {
   "cell_type": "code",
   "execution_count": 6,
   "id": "b68c2008-6af0-4276-af6b-531d763eb32f",
   "metadata": {},
   "outputs": [
    {
     "data": {
      "text/plain": [
       "4.5"
      ]
     },
     "execution_count": 6,
     "metadata": {},
     "output_type": "execute_result"
    }
   ],
   "source": [
    "def my_function(x, y, z=1.5):\n",
    "    if z > 1:\n",
    "        return z * (x + y)\n",
    "    else:\n",
    "        return z / (x + y)\n",
    "    \n",
    "my_function(1, 2)"
   ]
  },
  {
   "cell_type": "code",
   "execution_count": 7,
   "id": "4020a17a-f15b-4439-bbb9-f7814392b3ae",
   "metadata": {},
   "outputs": [
    {
     "data": {
      "text/plain": [
       "525"
      ]
     },
     "execution_count": 7,
     "metadata": {},
     "output_type": "execute_result"
    }
   ],
   "source": [
    "my_function(x=1, y=20, z=25)"
   ]
  },
  {
   "cell_type": "markdown",
   "id": "f9d9a5f4-d3c2-4c94-9a2e-a1a579da7e0f",
   "metadata": {},
   "source": [
    "### Namespaces, Scope and Local Functions"
   ]
  },
  {
   "cell_type": "code",
   "execution_count": 14,
   "id": "6364cf03-6729-4643-a376-f0d5b7ce65bb",
   "metadata": {},
   "outputs": [],
   "source": [
    "a = []\n",
    "def func():\n",
    "    #a = []\n",
    "    for i in range(5):\n",
    "        a.append(i)\n",
    "        \n",
    "func()"
   ]
  },
  {
   "cell_type": "code",
   "execution_count": 15,
   "id": "5a3d643a-6964-462e-83b9-5ccd289b7993",
   "metadata": {},
   "outputs": [
    {
     "data": {
      "text/plain": [
       "[0, 1, 2, 3, 4]"
      ]
     },
     "execution_count": 15,
     "metadata": {},
     "output_type": "execute_result"
    }
   ],
   "source": [
    "a"
   ]
  },
  {
   "cell_type": "code",
   "execution_count": 16,
   "id": "8a6ca6ab-e594-4d2f-8b9b-5e187b16ad02",
   "metadata": {},
   "outputs": [
    {
     "name": "stdout",
     "output_type": "stream",
     "text": [
      "[]\n"
     ]
    }
   ],
   "source": [
    "# messing the global variable\n",
    "a = None\n",
    "def bind_a_variable():\n",
    "    global a\n",
    "    a = []\n",
    "    \n",
    "bind_a_variable()\n",
    "print(a)  # replaced from None to []"
   ]
  },
  {
   "cell_type": "markdown",
   "id": "44e070f3-1f8e-4f2e-a154-b973ef829ff2",
   "metadata": {},
   "source": [
    "### Returning multiple values"
   ]
  },
  {
   "cell_type": "code",
   "execution_count": 19,
   "id": "122b7dea-4200-45f5-8f88-93396e4bd3fd",
   "metadata": {},
   "outputs": [],
   "source": [
    "def f():\n",
    "    a = 10\n",
    "    b = 11\n",
    "    c = 12\n",
    "    \n",
    "    return a, b, c\n",
    "\n",
    "x, y, z = f()"
   ]
  },
  {
   "cell_type": "code",
   "execution_count": 20,
   "id": "c7b75cf0-48aa-4e1d-b83d-7760b4aeb594",
   "metadata": {},
   "outputs": [
    {
     "data": {
      "text/plain": [
       "10"
      ]
     },
     "execution_count": 20,
     "metadata": {},
     "output_type": "execute_result"
    }
   ],
   "source": [
    "x"
   ]
  },
  {
   "cell_type": "markdown",
   "id": "21f16067-45c8-4c6f-8133-bbdb12cdaba1",
   "metadata": {},
   "source": [
    "### Functions Are Objects"
   ]
  },
  {
   "cell_type": "code",
   "execution_count": 24,
   "id": "00c4d22c-7b67-41b1-80bc-d612a1e392e1",
   "metadata": {},
   "outputs": [
    {
     "data": {
      "text/plain": [
       "['Alabama',\n",
       " 'Georgia',\n",
       " 'Georgia',\n",
       " 'Georgia',\n",
       " 'Florida',\n",
       " 'South Carolina',\n",
       " 'West Virginia']"
      ]
     },
     "execution_count": 24,
     "metadata": {},
     "output_type": "execute_result"
    }
   ],
   "source": [
    "# Data cleaning\n",
    "import re\n",
    "states = [' Alabama ', 'Georgia!', 'Georgia', 'georgia', 'FlOrIda', \n",
    "          'south carolina##', 'West virginia?']\n",
    "\n",
    "def data_cleaning(x):\n",
    "    result = []\n",
    "    for value in x:\n",
    "        value = value.strip()\n",
    "        value = re.sub('[#?!]', '', value)\n",
    "        value = value.title()\n",
    "        result.append(value)\n",
    "    return result\n",
    "        \n",
    "data_cleaning(states)"
   ]
  },
  {
   "cell_type": "markdown",
   "id": "401f595e-3238-4709-8f64-afaf4365b4cf",
   "metadata": {},
   "source": [
    "### Anonymous (Lambda) Functions"
   ]
  },
  {
   "cell_type": "code",
   "execution_count": 25,
   "id": "bd360c07-1459-4b04-96c7-78c6b435b639",
   "metadata": {},
   "outputs": [],
   "source": [
    "# Traditional function\n",
    "def short_function(x):\n",
    "    return x * 2\n",
    "\n",
    "# equivalent to below\n",
    "equtv_anon = lambda x: x * 2"
   ]
  },
  {
   "cell_type": "code",
   "execution_count": 26,
   "id": "8b56e5fa-49d9-4345-8c86-7df0308d9087",
   "metadata": {},
   "outputs": [
    {
     "ename": "SyntaxError",
     "evalue": "invalid syntax (Temp/ipykernel_33484/4210162423.py, line 3)",
     "output_type": "error",
     "traceback": [
      "\u001b[1;36m  File \u001b[1;32m\"C:\\Users\\kumarrav\\AppData\\Local\\Temp/ipykernel_33484/4210162423.py\"\u001b[1;36m, line \u001b[1;32m3\u001b[0m\n\u001b[1;33m    def apply_to_list(some)\u001b[0m\n\u001b[1;37m                           ^\u001b[0m\n\u001b[1;31mSyntaxError\u001b[0m\u001b[1;31m:\u001b[0m invalid syntax\n"
     ]
    }
   ],
   "source": [
    "# Applying lambda in one more way.\n",
    "\n",
    "def apply_to_list(some_list, f):\n",
    "    return [f(x) for x in some_list]\n",
    "\n",
    "ints = [4, 0, 1, 5, 6,]"
   ]
  },
  {
   "cell_type": "code",
   "execution_count": null,
   "id": "d121a555-7e8e-4180-97d6-a2a5398fd2bb",
   "metadata": {},
   "outputs": [],
   "source": []
  }
 ],
 "metadata": {
  "kernelspec": {
   "display_name": "Python 3 (ipykernel)",
   "language": "python",
   "name": "python3"
  },
  "language_info": {
   "codemirror_mode": {
    "name": "ipython",
    "version": 3
   },
   "file_extension": ".py",
   "mimetype": "text/x-python",
   "name": "python",
   "nbconvert_exporter": "python",
   "pygments_lexer": "ipython3",
   "version": "3.7.9"
  }
 },
 "nbformat": 4,
 "nbformat_minor": 5
}
