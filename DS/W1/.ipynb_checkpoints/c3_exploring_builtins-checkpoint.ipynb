{
 "cells": [
  {
   "cell_type": "markdown",
   "id": "c8d45a4d-9aec-4cc1-a73d-9247d48fe7c9",
   "metadata": {},
   "source": [
    "### Tuple"
   ]
  },
  {
   "cell_type": "code",
   "execution_count": 1,
   "id": "4e917448-3d15-451e-85fc-84e60462e6d7",
   "metadata": {},
   "outputs": [],
   "source": [
    "tup = 1, 2, 3"
   ]
  },
  {
   "cell_type": "code",
   "execution_count": 2,
   "id": "9afe2760-740f-4e04-aa70-dc5476d906d3",
   "metadata": {},
   "outputs": [
    {
     "data": {
      "text/plain": [
       "(1, 2, 3)"
      ]
     },
     "execution_count": 2,
     "metadata": {},
     "output_type": "execute_result"
    }
   ],
   "source": [
    "tup"
   ]
  },
  {
   "cell_type": "code",
   "execution_count": 3,
   "id": "d13ebbd3-1c7c-4bb0-8fa5-e50762205ac3",
   "metadata": {},
   "outputs": [],
   "source": [
    "nested_tup = (4, 5, 6), (7, 8)"
   ]
  },
  {
   "cell_type": "code",
   "execution_count": 4,
   "id": "78c73bba-680f-4e8c-88f0-9dfabd5dd04a",
   "metadata": {},
   "outputs": [
    {
     "data": {
      "text/plain": [
       "((4, 5, 6), (7, 8))"
      ]
     },
     "execution_count": 4,
     "metadata": {},
     "output_type": "execute_result"
    }
   ],
   "source": [
    "nested_tup"
   ]
  },
  {
   "cell_type": "code",
   "execution_count": 5,
   "id": "124a5f70-3e54-4c7f-9495-e544a71f6c16",
   "metadata": {},
   "outputs": [
    {
     "data": {
      "text/plain": [
       "(1, 2, 3)"
      ]
     },
     "execution_count": 5,
     "metadata": {},
     "output_type": "execute_result"
    }
   ],
   "source": [
    "# conversion\n",
    "tuple([1, 2, 3])"
   ]
  },
  {
   "cell_type": "code",
   "execution_count": 6,
   "id": "867321b9-6750-4e2b-b52b-f6cf6e4fcf69",
   "metadata": {},
   "outputs": [],
   "source": [
    "tup = tuple('string')"
   ]
  },
  {
   "cell_type": "code",
   "execution_count": 7,
   "id": "0bd7e1fa-443d-45d4-aca6-f2f258b9556d",
   "metadata": {},
   "outputs": [
    {
     "data": {
      "text/plain": [
       "('s', 't', 'r', 'i', 'n', 'g')"
      ]
     },
     "execution_count": 7,
     "metadata": {},
     "output_type": "execute_result"
    }
   ],
   "source": [
    "tup"
   ]
  },
  {
   "cell_type": "code",
   "execution_count": 10,
   "id": "4f1f228e-3934-45e4-a231-e32448f47691",
   "metadata": {},
   "outputs": [],
   "source": [
    "tup = tuple(['foo', [1, 2], True])"
   ]
  },
  {
   "cell_type": "code",
   "execution_count": 11,
   "id": "7c9bcd8c-b574-46e2-9dbc-0dd22a89d83a",
   "metadata": {},
   "outputs": [
    {
     "data": {
      "text/plain": [
       "('foo', [1, 2], True)"
      ]
     },
     "execution_count": 11,
     "metadata": {},
     "output_type": "execute_result"
    }
   ],
   "source": [
    "tup"
   ]
  },
  {
   "cell_type": "code",
   "execution_count": 12,
   "id": "3b7f5a44-4f4a-4422-a94c-494fc42d7333",
   "metadata": {},
   "outputs": [
    {
     "ename": "TypeError",
     "evalue": "'tuple' object does not support item assignment",
     "output_type": "error",
     "traceback": [
      "\u001b[1;31m---------------------------------------------------------------------------\u001b[0m",
      "\u001b[1;31mTypeError\u001b[0m                                 Traceback (most recent call last)",
      "\u001b[1;32m~\\AppData\\Local\\Temp/ipykernel_33580/3440851503.py\u001b[0m in \u001b[0;36m<module>\u001b[1;34m\u001b[0m\n\u001b[1;32m----> 1\u001b[1;33m \u001b[0mtup\u001b[0m\u001b[1;33m[\u001b[0m\u001b[1;36m2\u001b[0m\u001b[1;33m]\u001b[0m \u001b[1;33m=\u001b[0m \u001b[1;32mFalse\u001b[0m\u001b[1;33m\u001b[0m\u001b[1;33m\u001b[0m\u001b[0m\n\u001b[0m",
      "\u001b[1;31mTypeError\u001b[0m: 'tuple' object does not support item assignment"
     ]
    }
   ],
   "source": [
    "tup[2] = False  # not possible to edit the normal item"
   ]
  },
  {
   "cell_type": "code",
   "execution_count": 13,
   "id": "01d8372f-f40e-4c84-ad8b-9b6366bada0f",
   "metadata": {},
   "outputs": [],
   "source": [
    "tup[1].append(3)  # possible to update the list in tuple."
   ]
  },
  {
   "cell_type": "code",
   "execution_count": 14,
   "id": "14719fc8-d4fd-4846-ad2f-8987ed5fd2af",
   "metadata": {},
   "outputs": [
    {
     "data": {
      "text/plain": [
       "('foo', [1, 2, 3], True)"
      ]
     },
     "execution_count": 14,
     "metadata": {},
     "output_type": "execute_result"
    }
   ],
   "source": [
    "tup"
   ]
  },
  {
   "cell_type": "code",
   "execution_count": 15,
   "id": "0f398243-09e9-4ff2-9869-68be7adb2fb5",
   "metadata": {},
   "outputs": [
    {
     "data": {
      "text/plain": [
       "(4, None, 'foo', 1, 2, 'bar')"
      ]
     },
     "execution_count": 15,
     "metadata": {},
     "output_type": "execute_result"
    }
   ],
   "source": [
    "# Concatenation of tuples\n",
    "\n",
    "(4, None, 'foo') + (1, 2) + ('bar',)"
   ]
  },
  {
   "cell_type": "code",
   "execution_count": 16,
   "id": "0260eef2-9112-4a63-8537-50e80d4f225c",
   "metadata": {},
   "outputs": [
    {
     "data": {
      "text/plain": [
       "('foo', 'bar', 'foo', 'bar', 'foo', 'bar', 'foo', 'bar')"
      ]
     },
     "execution_count": 16,
     "metadata": {},
     "output_type": "execute_result"
    }
   ],
   "source": [
    "# multiplying tuples\n",
    "('foo', 'bar') * 4"
   ]
  },
  {
   "cell_type": "markdown",
   "id": "00977bc0-d89a-46a0-9c48-773e841c3b2b",
   "metadata": {},
   "source": [
    "_unpacking tuples_"
   ]
  },
  {
   "cell_type": "code",
   "execution_count": 18,
   "id": "384c9860-74a6-4f72-a14c-7c457d28ed67",
   "metadata": {},
   "outputs": [],
   "source": [
    "tup = (4, 5, 6)"
   ]
  },
  {
   "cell_type": "code",
   "execution_count": 22,
   "id": "50dda329-c6e6-4f07-a3f3-6251940dfdad",
   "metadata": {},
   "outputs": [],
   "source": [
    "a, b, c = tup"
   ]
  },
  {
   "cell_type": "code",
   "execution_count": 20,
   "id": "be4c27ef-2141-44f8-bea3-1cd09b79b6bd",
   "metadata": {},
   "outputs": [
    {
     "data": {
      "text/plain": [
       "4"
      ]
     },
     "execution_count": 20,
     "metadata": {},
     "output_type": "execute_result"
    }
   ],
   "source": [
    "a"
   ]
  },
  {
   "cell_type": "code",
   "execution_count": 23,
   "id": "4bcdb3da-4b2c-4b45-b857-7dafbcf85516",
   "metadata": {},
   "outputs": [],
   "source": [
    "tup = 4, 5, (6, 7)"
   ]
  },
  {
   "cell_type": "code",
   "execution_count": 24,
   "id": "7e20bcab-7761-4a44-b6cf-a96cb4f2f770",
   "metadata": {},
   "outputs": [],
   "source": [
    "a, b, (c, d) = tup"
   ]
  },
  {
   "cell_type": "code",
   "execution_count": 25,
   "id": "ad71f5ec-149f-45c3-953f-3b782bc1c145",
   "metadata": {},
   "outputs": [
    {
     "data": {
      "text/plain": [
       "7"
      ]
     },
     "execution_count": 25,
     "metadata": {},
     "output_type": "execute_result"
    }
   ],
   "source": [
    "d"
   ]
  },
  {
   "cell_type": "code",
   "execution_count": 26,
   "id": "80ad863b-283a-4e69-a75f-fceb7d43cad4",
   "metadata": {},
   "outputs": [],
   "source": [
    "# swaps\n",
    "a, b, = 1, 2"
   ]
  },
  {
   "cell_type": "code",
   "execution_count": 27,
   "id": "c60011de-ab50-4b81-98be-a3a7799da3c2",
   "metadata": {},
   "outputs": [
    {
     "data": {
      "text/plain": [
       "1"
      ]
     },
     "execution_count": 27,
     "metadata": {},
     "output_type": "execute_result"
    }
   ],
   "source": [
    "a"
   ]
  },
  {
   "cell_type": "code",
   "execution_count": 28,
   "id": "8ab1714c-b070-40f3-9de5-9c1c0a5ac2c9",
   "metadata": {},
   "outputs": [],
   "source": [
    "b, a = a, b"
   ]
  },
  {
   "cell_type": "code",
   "execution_count": 29,
   "id": "621da8a3-c8de-4d76-97e4-ee4ac9fc4b95",
   "metadata": {},
   "outputs": [
    {
     "data": {
      "text/plain": [
       "2"
      ]
     },
     "execution_count": 29,
     "metadata": {},
     "output_type": "execute_result"
    }
   ],
   "source": [
    "a"
   ]
  },
  {
   "cell_type": "code",
   "execution_count": 30,
   "id": "1592f44a-a719-4c3a-b861-e7621a37e883",
   "metadata": {},
   "outputs": [],
   "source": [
    "seq = [(1, 2, 3), (4, 5, 6), (7, 8, 9)]"
   ]
  },
  {
   "cell_type": "code",
   "execution_count": 32,
   "id": "e0251e3f-d837-42e0-8b2a-d6cd6ba5a08e",
   "metadata": {},
   "outputs": [
    {
     "name": "stdout",
     "output_type": "stream",
     "text": [
      "a=1, b=2, c=3\n",
      "a=4, b=5, c=6\n",
      "a=7, b=8, c=9\n"
     ]
    }
   ],
   "source": [
    "for a, b, c in seq:\n",
    "    print('a={0}, b={1}, c={2}'.format(a, b, c))"
   ]
  },
  {
   "cell_type": "code",
   "execution_count": 33,
   "id": "d9985560-1ade-491c-9897-10af9dc4ca8d",
   "metadata": {},
   "outputs": [],
   "source": [
    "# value plucking from the tuple\n",
    "values = 1, 2, 3, 4, 5, 6\n",
    "a, b, *rest = values"
   ]
  },
  {
   "cell_type": "code",
   "execution_count": 34,
   "id": "4b6b6bf1-29d9-4ead-ad8e-0a2a7a3d4c7e",
   "metadata": {},
   "outputs": [
    {
     "data": {
      "text/plain": [
       "(1, 2)"
      ]
     },
     "execution_count": 34,
     "metadata": {},
     "output_type": "execute_result"
    }
   ],
   "source": [
    "a, b"
   ]
  },
  {
   "cell_type": "code",
   "execution_count": 35,
   "id": "ec0cbfe7-df63-4241-a1a2-bb56d8391178",
   "metadata": {},
   "outputs": [
    {
     "data": {
      "text/plain": [
       "[3, 4, 5, 6]"
      ]
     },
     "execution_count": 35,
     "metadata": {},
     "output_type": "execute_result"
    }
   ],
   "source": [
    "rest"
   ]
  },
  {
   "cell_type": "code",
   "execution_count": 39,
   "id": "b6ea7264-4da8-4a5d-b854-ced06bfed875",
   "metadata": {},
   "outputs": [],
   "source": [
    "# marking discards with _\n",
    "values = 1, 2, 3, 4, 5, 6\n",
    "a, b, *_ = values"
   ]
  },
  {
   "cell_type": "code",
   "execution_count": 40,
   "id": "501cbe9e-5223-4a80-b0ff-2c3f93d59b1c",
   "metadata": {},
   "outputs": [
    {
     "data": {
      "text/plain": [
       "[3, 4, 5, 6]"
      ]
     },
     "execution_count": 40,
     "metadata": {},
     "output_type": "execute_result"
    }
   ],
   "source": [
    "_"
   ]
  },
  {
   "cell_type": "markdown",
   "id": "e8b54f5b-9cab-4dc9-a68c-f3ac8d7913ce",
   "metadata": {},
   "source": [
    "__tuple methods__"
   ]
  },
  {
   "cell_type": "code",
   "execution_count": null,
   "id": "238d323f-6afc-4045-bfa5-f35b658c14eb",
   "metadata": {},
   "outputs": [],
   "source": []
  },
  {
   "cell_type": "code",
   "execution_count": 41,
   "id": "ac9d7fa5-ff51-49a9-ba8b-941e4ee7d8fa",
   "metadata": {},
   "outputs": [
    {
     "data": {
      "text/plain": [
       "3"
      ]
     },
     "execution_count": 41,
     "metadata": {},
     "output_type": "execute_result"
    }
   ],
   "source": [
    "a = (1, 2, 3, 4, 1, 2, 3, 1, 2)\n",
    "a.count(2)"
   ]
  },
  {
   "cell_type": "markdown",
   "id": "fe672bcb-fdb8-480b-945b-d39cc0ade85a",
   "metadata": {},
   "source": [
    "## List"
   ]
  },
  {
   "cell_type": "code",
   "execution_count": 42,
   "id": "1932e4bc-39f1-4a61-9cc3-78c2af648e7b",
   "metadata": {},
   "outputs": [],
   "source": [
    "a_list = [2, 3, 7, None]"
   ]
  },
  {
   "cell_type": "code",
   "execution_count": 43,
   "id": "13bffe79-b257-44fe-a7ab-4f4b9e4fdb73",
   "metadata": {},
   "outputs": [],
   "source": [
    "tup = ('foo', 'bar', 'baz')"
   ]
  },
  {
   "cell_type": "code",
   "execution_count": 44,
   "id": "a5f6a1a4-f84f-45f4-9107-61e18c15b8bf",
   "metadata": {},
   "outputs": [],
   "source": [
    "b_list = list(tup)"
   ]
  },
  {
   "cell_type": "code",
   "execution_count": 45,
   "id": "d6f44c16-f702-407e-95eb-ff5156fd1b08",
   "metadata": {},
   "outputs": [
    {
     "data": {
      "text/plain": [
       "['foo', 'bar', 'baz']"
      ]
     },
     "execution_count": 45,
     "metadata": {},
     "output_type": "execute_result"
    }
   ],
   "source": [
    "b_list"
   ]
  },
  {
   "cell_type": "code",
   "execution_count": 46,
   "id": "3a26f512-a826-4695-a81c-adfd933dc87b",
   "metadata": {},
   "outputs": [],
   "source": [
    "b_list[1] = 'peekaboo'"
   ]
  },
  {
   "cell_type": "code",
   "execution_count": 47,
   "id": "00cce474-d65b-4468-80cc-05de99602fa1",
   "metadata": {},
   "outputs": [
    {
     "data": {
      "text/plain": [
       "['foo', 'peekaboo', 'baz']"
      ]
     },
     "execution_count": 47,
     "metadata": {},
     "output_type": "execute_result"
    }
   ],
   "source": [
    "b_list"
   ]
  },
  {
   "cell_type": "code",
   "execution_count": 48,
   "id": "59c3b218-ae19-4e23-82d3-9fd7e0beb259",
   "metadata": {},
   "outputs": [],
   "source": [
    "gen = range(10)"
   ]
  },
  {
   "cell_type": "code",
   "execution_count": 49,
   "id": "97879039-2852-4eea-b337-3b64fb414742",
   "metadata": {},
   "outputs": [
    {
     "data": {
      "text/plain": [
       "[0, 1, 2, 3, 4, 5, 6, 7, 8, 9]"
      ]
     },
     "execution_count": 49,
     "metadata": {},
     "output_type": "execute_result"
    }
   ],
   "source": [
    "list(gen)"
   ]
  },
  {
   "cell_type": "code",
   "execution_count": 51,
   "id": "6b7553b6-fe69-4c36-9f4b-397faae809ec",
   "metadata": {},
   "outputs": [],
   "source": [
    "# adding and removing objects\n",
    "b_list.append('dwarf')"
   ]
  },
  {
   "cell_type": "code",
   "execution_count": 52,
   "id": "62193d6d-be63-4d0e-8707-932c3fb178fb",
   "metadata": {},
   "outputs": [
    {
     "data": {
      "text/plain": [
       "['foo', 'peekaboo', 'baz', 'dwarf']"
      ]
     },
     "execution_count": 52,
     "metadata": {},
     "output_type": "execute_result"
    }
   ],
   "source": [
    "b_list"
   ]
  },
  {
   "cell_type": "code",
   "execution_count": 53,
   "id": "eeae707b-f79c-4ce4-8cd9-5ae20f4e2e89",
   "metadata": {},
   "outputs": [],
   "source": [
    "b_list.insert(1, 'red')"
   ]
  },
  {
   "cell_type": "code",
   "execution_count": 54,
   "id": "9fca44f0-d6eb-408d-8278-a6eee77f357b",
   "metadata": {},
   "outputs": [
    {
     "data": {
      "text/plain": [
       "['foo', 'red', 'peekaboo', 'baz', 'dwarf']"
      ]
     },
     "execution_count": 54,
     "metadata": {},
     "output_type": "execute_result"
    }
   ],
   "source": [
    "b_list"
   ]
  },
  {
   "cell_type": "code",
   "execution_count": 55,
   "id": "4134a66d-72cc-403d-b504-d5ed8c0047e2",
   "metadata": {},
   "outputs": [
    {
     "data": {
      "text/plain": [
       "'dwarf'"
      ]
     },
     "execution_count": 55,
     "metadata": {},
     "output_type": "execute_result"
    }
   ],
   "source": [
    "# popping\n",
    "b_list.pop()"
   ]
  },
  {
   "cell_type": "code",
   "execution_count": 57,
   "id": "a09feb19-639b-484d-896e-0e77fb4f6692",
   "metadata": {},
   "outputs": [
    {
     "data": {
      "text/plain": [
       "'peekaboo'"
      ]
     },
     "execution_count": 57,
     "metadata": {},
     "output_type": "execute_result"
    }
   ],
   "source": [
    "b_list.pop(2)"
   ]
  },
  {
   "cell_type": "code",
   "execution_count": 58,
   "id": "7592ba01-7128-4877-93a1-c61795e19ef4",
   "metadata": {},
   "outputs": [
    {
     "data": {
      "text/plain": [
       "['foo', 'red', 'baz']"
      ]
     },
     "execution_count": 58,
     "metadata": {},
     "output_type": "execute_result"
    }
   ],
   "source": [
    "b_list"
   ]
  },
  {
   "cell_type": "code",
   "execution_count": 59,
   "id": "7f3eea80-ed11-40b1-a2c8-a9f0b4f89685",
   "metadata": {},
   "outputs": [],
   "source": [
    "b_list.append('foo')"
   ]
  },
  {
   "cell_type": "code",
   "execution_count": 60,
   "id": "f4d033ea-4e1e-404e-a85a-a0fd1ee46627",
   "metadata": {},
   "outputs": [
    {
     "data": {
      "text/plain": [
       "['foo', 'red', 'baz', 'foo']"
      ]
     },
     "execution_count": 60,
     "metadata": {},
     "output_type": "execute_result"
    }
   ],
   "source": [
    "b_list"
   ]
  },
  {
   "cell_type": "code",
   "execution_count": 61,
   "id": "9f8f5b34-f73a-4fb4-b9dd-35ec51908cb8",
   "metadata": {},
   "outputs": [],
   "source": [
    "b_list.remove('foo')"
   ]
  },
  {
   "cell_type": "code",
   "execution_count": 62,
   "id": "dde9500d-4e2e-4122-8c4a-597fc3edacda",
   "metadata": {},
   "outputs": [
    {
     "data": {
      "text/plain": [
       "['red', 'baz', 'foo']"
      ]
     },
     "execution_count": 62,
     "metadata": {},
     "output_type": "execute_result"
    }
   ],
   "source": [
    "b_list"
   ]
  },
  {
   "cell_type": "code",
   "execution_count": 63,
   "id": "3f53f6ae-85aa-453d-9552-ab1924498b28",
   "metadata": {},
   "outputs": [
    {
     "data": {
      "text/plain": [
       "False"
      ]
     },
     "execution_count": 63,
     "metadata": {},
     "output_type": "execute_result"
    }
   ],
   "source": [
    "'dwarf' in b_list"
   ]
  },
  {
   "cell_type": "code",
   "execution_count": 64,
   "id": "5d5a0270-a9c8-4b68-9380-41904cf55f47",
   "metadata": {},
   "outputs": [
    {
     "data": {
      "text/plain": [
       "True"
      ]
     },
     "execution_count": 64,
     "metadata": {},
     "output_type": "execute_result"
    }
   ],
   "source": [
    "'red' in b_list"
   ]
  },
  {
   "cell_type": "code",
   "execution_count": 65,
   "id": "92ff65fd-457f-41b7-af10-a6e90fc3ec8f",
   "metadata": {},
   "outputs": [
    {
     "data": {
      "text/plain": [
       "[1, 2, 3, None, 7, 8, 9, (4, 5)]"
      ]
     },
     "execution_count": 65,
     "metadata": {},
     "output_type": "execute_result"
    }
   ],
   "source": [
    "# concatenation\n",
    "[1, 2, 3, None] + [7, 8, 9, (4, 5)]"
   ]
  },
  {
   "cell_type": "code",
   "execution_count": 66,
   "id": "f3ed05fd-1096-4239-80ca-fca57a6c50d8",
   "metadata": {},
   "outputs": [],
   "source": [
    "x = [4, None, 'foo']"
   ]
  },
  {
   "cell_type": "code",
   "execution_count": 67,
   "id": "22ba5f33-fbff-4e8e-8750-574cd1f97d2f",
   "metadata": {},
   "outputs": [],
   "source": [
    "x.extend([7, 8, (2, 3)])"
   ]
  },
  {
   "cell_type": "code",
   "execution_count": 68,
   "id": "ad68a903-39e0-4f0b-ac78-331e00f647ba",
   "metadata": {},
   "outputs": [
    {
     "data": {
      "text/plain": [
       "[4, None, 'foo', 7, 8, (2, 3)]"
      ]
     },
     "execution_count": 68,
     "metadata": {},
     "output_type": "execute_result"
    }
   ],
   "source": [
    "x"
   ]
  },
  {
   "cell_type": "code",
   "execution_count": 76,
   "id": "fdd5149b-8697-4174-a754-67d929fa6a28",
   "metadata": {},
   "outputs": [
    {
     "name": "stdout",
     "output_type": "stream",
     "text": [
      "3.1 ms ± 116 µs per loop (mean ± std. dev. of 7 runs, 100 loops each)\n"
     ]
    }
   ],
   "source": [
    "# extending a string is better than concatenation.\n",
    "x = list(range(100000))\n",
    "y = list(range(100000))\n",
    "%timeit x + y"
   ]
  },
  {
   "cell_type": "code",
   "execution_count": 77,
   "id": "96907a3c-98ad-495c-a948-559ce10b21ed",
   "metadata": {},
   "outputs": [
    {
     "name": "stdout",
     "output_type": "stream",
     "text": [
      "5.79 ms ± 1.01 ms per loop (mean ± std. dev. of 7 runs, 100 loops each)\n"
     ]
    }
   ],
   "source": [
    "%timeit x.extend(y)"
   ]
  },
  {
   "cell_type": "markdown",
   "id": "16682b23-565f-47e0-89ab-61c983c50461",
   "metadata": {},
   "source": [
    "_Binary search and maintaining a sorted list_"
   ]
  },
  {
   "cell_type": "code",
   "execution_count": 80,
   "id": "6c5c0c4c-a76d-483a-ab86-2aa49e0a65d1",
   "metadata": {},
   "outputs": [
    {
     "data": {
      "text/plain": [
       "6"
      ]
     },
     "execution_count": 80,
     "metadata": {},
     "output_type": "execute_result"
    }
   ],
   "source": [
    "import bisect\n",
    "c = [1, 2, 2, 2, 3, 4, 7]\n",
    "bisect.bisect(c, 2)\n",
    "bisect.bisect(c, 5)  # specifies where it have to place the data."
   ]
  },
  {
   "cell_type": "code",
   "execution_count": 81,
   "id": "22f40ffb-ce62-4320-a632-22222171137b",
   "metadata": {},
   "outputs": [],
   "source": [
    "bisect.insort(c, 6)"
   ]
  },
  {
   "cell_type": "code",
   "execution_count": 82,
   "id": "6d231427-72f9-46a0-b2a9-a563a074bfc0",
   "metadata": {},
   "outputs": [
    {
     "data": {
      "text/plain": [
       "[1, 2, 2, 2, 3, 4, 6, 7]"
      ]
     },
     "execution_count": 82,
     "metadata": {},
     "output_type": "execute_result"
    }
   ],
   "source": [
    "c"
   ]
  },
  {
   "cell_type": "markdown",
   "id": "1b26a3a4-452e-41a3-9243-c9b04946fbfd",
   "metadata": {},
   "source": [
    "_slicing_"
   ]
  },
  {
   "cell_type": "code",
   "execution_count": 83,
   "id": "e5a893e8-022b-4ec5-b7b0-b23971fc01f8",
   "metadata": {},
   "outputs": [],
   "source": [
    "seq = [7, 2, 3, 7, 5, 6, 0, 1]"
   ]
  },
  {
   "cell_type": "code",
   "execution_count": 84,
   "id": "f2e307be-6ae8-49c7-aa5e-7c92b1da7209",
   "metadata": {},
   "outputs": [
    {
     "data": {
      "text/plain": [
       "[2, 3, 7, 5]"
      ]
     },
     "execution_count": 84,
     "metadata": {},
     "output_type": "execute_result"
    }
   ],
   "source": [
    "seq[1:5]"
   ]
  },
  {
   "cell_type": "code",
   "execution_count": 85,
   "id": "29211b5d-a37b-410d-be63-d020753bdf8d",
   "metadata": {},
   "outputs": [],
   "source": [
    "seq[3:4] = [6, 3]  # replacing 7 with [6, 3]"
   ]
  },
  {
   "cell_type": "code",
   "execution_count": 86,
   "id": "86b03b92-b5fb-4e19-986c-72088cae4444",
   "metadata": {},
   "outputs": [
    {
     "data": {
      "text/plain": [
       "[7, 2, 3, 6, 3, 5, 6, 0, 1]"
      ]
     },
     "execution_count": 86,
     "metadata": {},
     "output_type": "execute_result"
    }
   ],
   "source": [
    "seq"
   ]
  },
  {
   "cell_type": "code",
   "execution_count": 87,
   "id": "f92dc6c8-a766-478a-a241-26f40cf89aa7",
   "metadata": {},
   "outputs": [
    {
     "data": {
      "text/plain": [
       "[5, 6, 0, 1]"
      ]
     },
     "execution_count": 87,
     "metadata": {},
     "output_type": "execute_result"
    }
   ],
   "source": [
    "seq[-4:]"
   ]
  },
  {
   "cell_type": "code",
   "execution_count": 88,
   "id": "0bbe37d1-5809-402c-af6e-7bcfd449339f",
   "metadata": {},
   "outputs": [
    {
     "data": {
      "text/plain": [
       "[6, 3, 5, 6]"
      ]
     },
     "execution_count": 88,
     "metadata": {},
     "output_type": "execute_result"
    }
   ],
   "source": [
    "seq[-6:-2]"
   ]
  },
  {
   "cell_type": "markdown",
   "id": "82e63dbf-d010-4d7c-a566-92cdb1e368bf",
   "metadata": {},
   "source": [
    "### Built-in Sequence Types"
   ]
  },
  {
   "cell_type": "markdown",
   "id": "809be162-6245-458d-be5e-897602c16f82",
   "metadata": {},
   "source": [
    "_enumerate_"
   ]
  },
  {
   "cell_type": "code",
   "execution_count": 101,
   "id": "731bebcf-e1ed-4ef6-89e8-541536eb6e51",
   "metadata": {},
   "outputs": [
    {
     "data": {
      "text/plain": [
       "[(0, 'foo'), (1, 'bar'), (2, 'baz')]"
      ]
     },
     "execution_count": 101,
     "metadata": {},
     "output_type": "execute_result"
    }
   ],
   "source": [
    "some_list = ['foo', 'bar', 'baz']\n",
    "mapping = []\n",
    "for i in list(enumerate(some_list)):\n",
    "    mapping.append(i)\n",
    "    \n",
    "mapping\n",
    "    "
   ]
  },
  {
   "cell_type": "code",
   "execution_count": 92,
   "id": "df97e830-8658-4466-a604-c15e3eee32f7",
   "metadata": {},
   "outputs": [
    {
     "data": {
      "text/plain": [
       "[(0, 'foo'), (1, 'bar'), (2, 'baz')]"
      ]
     },
     "execution_count": 92,
     "metadata": {},
     "output_type": "execute_result"
    }
   ],
   "source": [
    "some_list = ['foo', 'bar', 'baz']\n",
    "list(enumerate(some_list))"
   ]
  },
  {
   "cell_type": "markdown",
   "id": "36e3758c-c2ed-461b-b728-91e77848c705",
   "metadata": {},
   "source": [
    "_sorted_"
   ]
  },
  {
   "cell_type": "code",
   "execution_count": 103,
   "id": "1893a4d4-fdf8-4701-bcc2-64e3467b1eaf",
   "metadata": {},
   "outputs": [
    {
     "data": {
      "text/plain": [
       "[1, 2, 3, 4, 5, 5, 7, 8]"
      ]
     },
     "execution_count": 103,
     "metadata": {},
     "output_type": "execute_result"
    }
   ],
   "source": [
    "sorted([8, 3, 5, 2, 1, 7, 4, 5])"
   ]
  },
  {
   "cell_type": "code",
   "execution_count": 104,
   "id": "869e9323-ee4a-4b74-adfb-43144bcf6807",
   "metadata": {},
   "outputs": [
    {
     "data": {
      "text/plain": [
       "[' ', 'a', 'c', 'e', 'e', 'h', 'o', 'r', 's', 's']"
      ]
     },
     "execution_count": 104,
     "metadata": {},
     "output_type": "execute_result"
    }
   ],
   "source": [
    "sorted('horse case')"
   ]
  },
  {
   "cell_type": "markdown",
   "id": "62a705e2-9176-49f1-9b9f-5de301a0df83",
   "metadata": {},
   "source": [
    "_zip_"
   ]
  },
  {
   "cell_type": "code",
   "execution_count": 106,
   "id": "f17c29ad-ece2-43f7-acdd-adee1bc0d20c",
   "metadata": {},
   "outputs": [
    {
     "data": {
      "text/plain": [
       "[('foo', 'one'), ('bar', 'two'), ('baz', 'three')]"
      ]
     },
     "execution_count": 106,
     "metadata": {},
     "output_type": "execute_result"
    }
   ],
   "source": [
    "seq1 = ['foo', 'bar', 'baz']\n",
    "seq2 = ['one', 'two', 'three']\n",
    "zipped = zip(seq1, seq2)\n",
    "list(zipped)"
   ]
  },
  {
   "cell_type": "code",
   "execution_count": 111,
   "id": "c514e58c-24cf-41ca-b067-304a57d62ec7",
   "metadata": {},
   "outputs": [
    {
     "name": "stdout",
     "output_type": "stream",
     "text": [
      "0: foo, one\n",
      "1: bar, two\n",
      "2: baz, three\n"
     ]
    }
   ],
   "source": [
    "for i, (a, b) in enumerate(zip(seq1, seq2)):\n",
    "    print('{0}: {1}, {2}'.format(i, a, b))"
   ]
  },
  {
   "cell_type": "code",
   "execution_count": 114,
   "id": "7a34c0ef-959d-4a0a-a679-9239feca3b28",
   "metadata": {},
   "outputs": [
    {
     "name": "stdout",
     "output_type": "stream",
     "text": [
      "0: foo, one\n",
      "1: bar, two\n",
      "2: baz, three\n"
     ]
    }
   ],
   "source": [
    "for i, (a, b) in enumerate(zip(seq1, seq2)):\n",
    "    print('{0}: {1}, {2}'.format(i, a, b))"
   ]
  },
  {
   "cell_type": "markdown",
   "id": "e3b1b5c9-3634-4c13-aa04-f1f7193a6249",
   "metadata": {},
   "source": [
    "_reversed_"
   ]
  },
  {
   "cell_type": "code",
   "execution_count": 116,
   "id": "fc00da92-9d9e-405d-8da7-5bde2bd1de2d",
   "metadata": {},
   "outputs": [
    {
     "data": {
      "text/plain": [
       "[9, 8, 7, 6, 5, 4, 3, 2, 1, 0]"
      ]
     },
     "execution_count": 116,
     "metadata": {},
     "output_type": "execute_result"
    }
   ],
   "source": [
    "list(reversed(range(10)))"
   ]
  },
  {
   "cell_type": "markdown",
   "id": "0d4249c5-3eae-4baa-9cb4-4b20fd03b3ae",
   "metadata": {},
   "source": [
    "### dict"
   ]
  },
  {
   "cell_type": "code",
   "execution_count": 117,
   "id": "489d0c67-37b8-4602-a66a-a22b3671a1a5",
   "metadata": {},
   "outputs": [],
   "source": [
    "# also called as associative array or a hashmap\n",
    "empty_dict = {}"
   ]
  },
  {
   "cell_type": "code",
   "execution_count": 118,
   "id": "50067a8a-fd57-48bb-ab7a-316bd50dbdf0",
   "metadata": {},
   "outputs": [],
   "source": [
    "d1 = {'a': 'some value', 'b': [1, 2, 3, 4]}"
   ]
  },
  {
   "cell_type": "code",
   "execution_count": 119,
   "id": "e9ff4548-a9f3-4a8c-9b03-f22670751535",
   "metadata": {},
   "outputs": [
    {
     "data": {
      "text/plain": [
       "{'a': 'some value', 'b': [1, 2, 3, 4]}"
      ]
     },
     "execution_count": 119,
     "metadata": {},
     "output_type": "execute_result"
    }
   ],
   "source": [
    "d1"
   ]
  },
  {
   "cell_type": "code",
   "execution_count": 120,
   "id": "885a6749-300f-4de2-8ba6-1daaad8a928b",
   "metadata": {},
   "outputs": [
    {
     "data": {
      "text/plain": [
       "[1, 2, 3, 4]"
      ]
     },
     "execution_count": 120,
     "metadata": {},
     "output_type": "execute_result"
    }
   ],
   "source": [
    "d1['b']"
   ]
  },
  {
   "cell_type": "code",
   "execution_count": 121,
   "id": "24901034-3e0a-456b-928a-1735752c4da0",
   "metadata": {},
   "outputs": [
    {
     "data": {
      "text/plain": [
       "True"
      ]
     },
     "execution_count": 121,
     "metadata": {},
     "output_type": "execute_result"
    }
   ],
   "source": [
    "'b' in d1"
   ]
  },
  {
   "cell_type": "code",
   "execution_count": null,
   "id": "672e7e8c-436f-4aa6-921d-cf7b11bd555e",
   "metadata": {},
   "outputs": [],
   "source": []
  },
  {
   "cell_type": "code",
   "execution_count": null,
   "id": "5241fb2c-1253-4126-81cd-1899476bc820",
   "metadata": {},
   "outputs": [],
   "source": []
  },
  {
   "cell_type": "code",
   "execution_count": null,
   "id": "15b3dae1-8f92-4315-9cb9-320dc4453285",
   "metadata": {},
   "outputs": [],
   "source": []
  },
  {
   "cell_type": "code",
   "execution_count": null,
   "id": "fcdec2a0-a609-469b-895f-32fe1c5bd1bd",
   "metadata": {},
   "outputs": [],
   "source": []
  },
  {
   "cell_type": "markdown",
   "id": "2d58e06f-b638-4b05-bb41-e435a75c9ea1",
   "metadata": {},
   "source": [
    "_set_"
   ]
  },
  {
   "cell_type": "code",
   "execution_count": 122,
   "id": "fb4fe85a-3c54-4e9f-82db-21e31a99ecf4",
   "metadata": {},
   "outputs": [],
   "source": [
    "s = set([3, 4, 2, 5, 6,7, 7,7, 8, 0])"
   ]
  },
  {
   "cell_type": "code",
   "execution_count": 123,
   "id": "36491525-f3d3-478e-a3e3-8fd3a9c6b2d6",
   "metadata": {},
   "outputs": [
    {
     "data": {
      "text/plain": [
       "{0, 2, 3, 4, 5, 6, 7, 8}"
      ]
     },
     "execution_count": 123,
     "metadata": {},
     "output_type": "execute_result"
    }
   ],
   "source": [
    "s"
   ]
  },
  {
   "cell_type": "code",
   "execution_count": 125,
   "id": "58925b10-6510-4c0c-b9c5-31f00d8d4005",
   "metadata": {},
   "outputs": [
    {
     "data": {
      "text/plain": [
       "{1, 2, 3, 4, 5, 6, 7, 8}"
      ]
     },
     "execution_count": 125,
     "metadata": {},
     "output_type": "execute_result"
    }
   ],
   "source": [
    "a = {1, 2, 3, 4, 5,}\n",
    "b = {3, 4, 5, 6, 7, 8,}\n",
    "a.union(b)"
   ]
  },
  {
   "cell_type": "code",
   "execution_count": 126,
   "id": "ecefe7cd-a951-4a51-815a-9073a624b3a0",
   "metadata": {},
   "outputs": [
    {
     "data": {
      "text/plain": [
       "{1, 2, 3, 4, 5, 6, 7, 8}"
      ]
     },
     "execution_count": 126,
     "metadata": {},
     "output_type": "execute_result"
    }
   ],
   "source": [
    "a | b"
   ]
  },
  {
   "cell_type": "code",
   "execution_count": 127,
   "id": "12dd394b-e922-47d1-8bcd-2bc514ee7c85",
   "metadata": {},
   "outputs": [
    {
     "data": {
      "text/plain": [
       "{3, 4, 5}"
      ]
     },
     "execution_count": 127,
     "metadata": {},
     "output_type": "execute_result"
    }
   ],
   "source": [
    "a.intersection(b)"
   ]
  },
  {
   "cell_type": "code",
   "execution_count": 128,
   "id": "aeb8056a-3cab-4a07-b964-249bf185f3d2",
   "metadata": {},
   "outputs": [
    {
     "data": {
      "text/plain": [
       "{3, 4, 5}"
      ]
     },
     "execution_count": 128,
     "metadata": {},
     "output_type": "execute_result"
    }
   ],
   "source": [
    " a & b"
   ]
  },
  {
   "cell_type": "code",
   "execution_count": 129,
   "id": "bf63f985-74d8-43a9-aa51-384f474f7dc4",
   "metadata": {},
   "outputs": [
    {
     "data": {
      "text/plain": [
       "{1, 2}"
      ]
     },
     "execution_count": 129,
     "metadata": {},
     "output_type": "execute_result"
    }
   ],
   "source": [
    "a.difference(b)"
   ]
  },
  {
   "cell_type": "code",
   "execution_count": 130,
   "id": "790d7070-2c1f-47b0-b60b-8df98a952c9c",
   "metadata": {},
   "outputs": [
    {
     "data": {
      "text/plain": [
       "{1, 2, 6, 7, 8}"
      ]
     },
     "execution_count": 130,
     "metadata": {},
     "output_type": "execute_result"
    }
   ],
   "source": [
    "a.symmetric_difference(b)"
   ]
  },
  {
   "cell_type": "code",
   "execution_count": 131,
   "id": "f336f2e3-b23c-49c9-9a8e-b1559d6b3945",
   "metadata": {},
   "outputs": [],
   "source": [
    "c = a.copy()"
   ]
  },
  {
   "cell_type": "code",
   "execution_count": 132,
   "id": "778713fd-68bd-473d-ab7e-bf2c5ecfd9f0",
   "metadata": {},
   "outputs": [],
   "source": [
    "c |= b"
   ]
  },
  {
   "cell_type": "code",
   "execution_count": 133,
   "id": "de92d696-fcee-4ebb-8ad3-eb16304d7cbf",
   "metadata": {},
   "outputs": [
    {
     "data": {
      "text/plain": [
       "{1, 2, 3, 4, 5, 6, 7, 8}"
      ]
     },
     "execution_count": 133,
     "metadata": {},
     "output_type": "execute_result"
    }
   ],
   "source": [
    "c"
   ]
  },
  {
   "cell_type": "code",
   "execution_count": 134,
   "id": "ffc0624b-fec4-484a-9b6a-5f2431d1f791",
   "metadata": {},
   "outputs": [],
   "source": [
    "d = a.copy()"
   ]
  },
  {
   "cell_type": "code",
   "execution_count": 135,
   "id": "84a2314a-80c8-4491-92e3-bfc6559fe285",
   "metadata": {},
   "outputs": [],
   "source": [
    "d &= b"
   ]
  },
  {
   "cell_type": "code",
   "execution_count": 136,
   "id": "a08fd369-687b-410a-a325-5d5df377c41c",
   "metadata": {},
   "outputs": [
    {
     "data": {
      "text/plain": [
       "{3, 4, 5}"
      ]
     },
     "execution_count": 136,
     "metadata": {},
     "output_type": "execute_result"
    }
   ],
   "source": [
    "d"
   ]
  },
  {
   "cell_type": "markdown",
   "id": "9e803a5e-43df-446e-a257-c4b83b0b11de",
   "metadata": {},
   "source": [
    "#### List, Set & Dict comprehensions"
   ]
  },
  {
   "cell_type": "code",
   "execution_count": 137,
   "id": "ee6ae812-221f-4ac5-afb7-c7c5c7991306",
   "metadata": {},
   "outputs": [],
   "source": [
    "strings = ['a', 'as', 'bat', 'car', 'dove', 'python']"
   ]
  },
  {
   "cell_type": "code",
   "execution_count": 142,
   "id": "2f5d336b-b94b-4151-bb9f-8ce59ac91e36",
   "metadata": {},
   "outputs": [
    {
     "data": {
      "text/plain": [
       "['BAT', 'CAR', 'DOVE', 'PYTHON']"
      ]
     },
     "execution_count": 142,
     "metadata": {},
     "output_type": "execute_result"
    }
   ],
   "source": [
    "[x.upper() for x in strings if len(x) > 2]"
   ]
  },
  {
   "cell_type": "code",
   "execution_count": null,
   "id": "e0291322-d223-4135-a816-acf6099a5720",
   "metadata": {},
   "outputs": [],
   "source": []
  }
 ],
 "metadata": {
  "kernelspec": {
   "display_name": "Python 3 (ipykernel)",
   "language": "python",
   "name": "python3"
  },
  "language_info": {
   "codemirror_mode": {
    "name": "ipython",
    "version": 3
   },
   "file_extension": ".py",
   "mimetype": "text/x-python",
   "name": "python",
   "nbconvert_exporter": "python",
   "pygments_lexer": "ipython3",
   "version": "3.7.9"
  }
 },
 "nbformat": 4,
 "nbformat_minor": 5
}
