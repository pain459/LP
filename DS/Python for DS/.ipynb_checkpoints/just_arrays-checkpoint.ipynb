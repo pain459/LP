{
 "cells": [
  {
   "cell_type": "code",
   "execution_count": 14,
   "id": "af5b58e4-e739-4594-8ce7-f97b9dd5ab5b",
   "metadata": {},
   "outputs": [
    {
     "name": "stdout",
     "output_type": "stream",
     "text": [
      "1\n",
      "1\n",
      "()\n",
      "0\n"
     ]
    }
   ],
   "source": [
    "# 0d array\n",
    "import numpy as np\n",
    "a = 1\n",
    "A = np.array(a)\n",
    "print(A)\n",
    "print(A.size)\n",
    "print(A.shape)\n",
    "print(A.ndim)"
   ]
  },
  {
   "cell_type": "code",
   "execution_count": 15,
   "id": "5f042b09-e470-431f-b557-8f743cc39a4b",
   "metadata": {},
   "outputs": [
    {
     "name": "stdout",
     "output_type": "stream",
     "text": [
      "[1]\n",
      "1\n",
      "(1,)\n",
      "1\n"
     ]
    }
   ],
   "source": [
    "# 1d array\n",
    "# [list]\n",
    "b = [1,]\n",
    "B = np.array(b)\n",
    "print(B)\n",
    "print(B.size)\n",
    "print(B.shape)\n",
    "print(B.ndim)"
   ]
  },
  {
   "cell_type": "code",
   "execution_count": 16,
   "id": "ec877fa7-efab-4ef4-b107-2d2965544c14",
   "metadata": {},
   "outputs": [
    {
     "name": "stdout",
     "output_type": "stream",
     "text": [
      "[1 2 3 4]\n",
      "4\n",
      "(4,)\n",
      "1\n"
     ]
    }
   ],
   "source": [
    "# 1d array can be of multiple values in a list.\n",
    "# [list]\n",
    "b = [1, 2, 3, 4]\n",
    "B = np.array(b)\n",
    "print(B)\n",
    "print(B.size)\n",
    "print(B.shape)\n",
    "print(B.ndim)"
   ]
  },
  {
   "cell_type": "code",
   "execution_count": 17,
   "id": "2236a2eb-f385-4d67-92bb-ec1e9b725214",
   "metadata": {},
   "outputs": [
    {
     "name": "stdout",
     "output_type": "stream",
     "text": [
      "[[1 2 3 4]\n",
      " [5 6 7 8]]\n",
      "8\n",
      "(2, 4)\n",
      "2\n"
     ]
    }
   ],
   "source": [
    "# 2d array\n",
    "[[list], [list]]\n",
    "c = [[1, 2, 3, 4], [5, 6, 7, 8]]\n",
    "C = np.array(c)\n",
    "print(C)\n",
    "print(C.size)\n",
    "print(C.shape)\n",
    "print(C.ndim)"
   ]
  },
  {
   "cell_type": "code",
   "execution_count": 18,
   "id": "2c1ad13a-8441-4d85-99cb-6acce99035b4",
   "metadata": {},
   "outputs": [
    {
     "name": "stdout",
     "output_type": "stream",
     "text": [
      "[[[ 1  2  3  4]\n",
      "  [ 5  6  7  8]]\n",
      "\n",
      " [[ 9 10 11 12]\n",
      "  [13 14 15 16]]]\n",
      "16\n",
      "(2, 2, 4)\n",
      "3\n"
     ]
    }
   ],
   "source": [
    "# 3d array\n",
    "# [[[list][list]][[list][list]]]\n",
    "d = [[[1, 2, 3, 4], [5, 6, 7, 8]], [[9, 10, 11, 12], [13, 14, 15, 16]]]\n",
    "D = np.array(d)\n",
    "print(D)\n",
    "print(D.size)\n",
    "print(D.shape)\n",
    "print(D.ndim)"
   ]
  },
  {
   "cell_type": "markdown",
   "id": "1bb9eb2a-aa3f-4df4-a969-0f9610646761",
   "metadata": {},
   "source": [
    "### Reshaping an array"
   ]
  },
  {
   "cell_type": "code",
   "execution_count": 19,
   "id": "1218014b-d2fe-4285-9eef-3c3dc7dfcfbd",
   "metadata": {},
   "outputs": [
    {
     "name": "stdout",
     "output_type": "stream",
     "text": [
      "[[ 1  2  3  4  5]\n",
      " [ 6  7  8  9 10]]\n",
      "10\n",
      "(2, 5)\n",
      "2\n"
     ]
    }
   ],
   "source": [
    "a = [[1, 2, 3, 4, 5], [6, 7, 8, 9, 10]]\n",
    "A = np.array(a)\n",
    "print(A)\n",
    "print(A.size)\n",
    "print(A.shape)\n",
    "print(A.ndim)"
   ]
  },
  {
   "cell_type": "code",
   "execution_count": 20,
   "id": "9bfe7b78-8fb1-4d55-92bc-857aa9412425",
   "metadata": {},
   "outputs": [
    {
     "name": "stdout",
     "output_type": "stream",
     "text": [
      "[[ 1  2  3  4  5]\n",
      " [ 6  7  8  9 10]]\n",
      "(2, 5)\n",
      "2\n"
     ]
    }
   ],
   "source": [
    "# changing an array from (5, 2) to (2, 5)\n",
    "A.shape = (2, 5)\n",
    "print(A)\n",
    "print(A.shape)\n",
    "print(A.ndim)"
   ]
  },
  {
   "cell_type": "code",
   "execution_count": 23,
   "id": "6b44cc8c-3c97-43cd-a031-73cc816141a6",
   "metadata": {},
   "outputs": [
    {
     "name": "stdout",
     "output_type": "stream",
     "text": [
      "[ 0  1  2  3  4  5  6  7  8  9 10 11 12 13 14 15]\n",
      "16\n",
      "(16,)\n",
      "1\n"
     ]
    }
   ],
   "source": [
    "B = np.arange(16)\n",
    "print(B)\n",
    "print(B.size)\n",
    "print(B.shape)\n",
    "print(B.ndim)"
   ]
  },
  {
   "cell_type": "code",
   "execution_count": 25,
   "id": "2baee0af-19fa-4907-aea1-d3a1b060a4b9",
   "metadata": {},
   "outputs": [
    {
     "name": "stdout",
     "output_type": "stream",
     "text": [
      "[[ 0  1  2  3]\n",
      " [ 4  5  6  7]\n",
      " [ 8  9 10 11]\n",
      " [12 13 14 15]]\n",
      "16\n",
      "(4, 4)\n",
      "2\n"
     ]
    }
   ],
   "source": [
    "B.shape = (4, 4)\n",
    "print(B)\n",
    "print(B.size)\n",
    "print(B.shape)\n",
    "print(B.ndim)"
   ]
  },
  {
   "cell_type": "code",
   "execution_count": 27,
   "id": "05943387-a8ef-425b-ae09-2225c50ccc44",
   "metadata": {},
   "outputs": [
    {
     "name": "stdout",
     "output_type": "stream",
     "text": [
      "[[[ 0  1]\n",
      "  [ 2  3]\n",
      "  [ 4  5]\n",
      "  [ 6  7]]\n",
      "\n",
      " [[ 8  9]\n",
      "  [10 11]\n",
      "  [12 13]\n",
      "  [14 15]]]\n",
      "16\n",
      "(2, 4, 2)\n",
      "3\n"
     ]
    }
   ],
   "source": [
    "B.shape = (2, 4, 2)\n",
    "print(B)\n",
    "print(B.size)\n",
    "print(B.shape)\n",
    "print(B.ndim)"
   ]
  },
  {
   "cell_type": "code",
   "execution_count": 29,
   "id": "d302e4cb-c6f3-4cc8-a88d-88c9225d7b2c",
   "metadata": {},
   "outputs": [
    {
     "name": "stdout",
     "output_type": "stream",
     "text": [
      "[[[[ 0  1]\n",
      "   [ 2  3]]\n",
      "\n",
      "  [[ 4  5]\n",
      "   [ 6  7]]]\n",
      "\n",
      "\n",
      " [[[ 8  9]\n",
      "   [10 11]]\n",
      "\n",
      "  [[12 13]\n",
      "   [14 15]]]]\n",
      "16\n",
      "(2, 2, 2, 2)\n",
      "4\n"
     ]
    }
   ],
   "source": [
    "B.shape = (2, 2, 2, 2)\n",
    "print(B)\n",
    "print(B.size)\n",
    "print(B.shape)\n",
    "print(B.ndim)"
   ]
  },
  {
   "cell_type": "code",
   "execution_count": 30,
   "id": "13f48623-c670-4c2a-805e-fe9182a55747",
   "metadata": {},
   "outputs": [
    {
     "ename": "TypeError",
     "evalue": "'tuple' object is not callable",
     "output_type": "error",
     "traceback": [
      "\u001b[1;31m---------------------------------------------------------------------------\u001b[0m",
      "\u001b[1;31mTypeError\u001b[0m                                 Traceback (most recent call last)",
      "\u001b[1;32m~\\AppData\\Local\\Temp/ipykernel_16364/694630771.py\u001b[0m in \u001b[0;36m<module>\u001b[1;34m\u001b[0m\n\u001b[1;32m----> 1\u001b[1;33m \u001b[0mB\u001b[0m\u001b[1;33m.\u001b[0m\u001b[0mshape\u001b[0m\u001b[1;33m(\u001b[0m\u001b[1;36m1\u001b[0m\u001b[1;33m,\u001b[0m \u001b[1;36m2\u001b[0m\u001b[1;33m,\u001b[0m \u001b[1;36m2\u001b[0m\u001b[1;33m,\u001b[0m \u001b[1;36m2\u001b[0m\u001b[1;33m,\u001b[0m \u001b[1;36m2\u001b[0m\u001b[1;33m)\u001b[0m\u001b[1;33m\u001b[0m\u001b[1;33m\u001b[0m\u001b[0m\n\u001b[0m\u001b[0;32m      2\u001b[0m \u001b[0mprint\u001b[0m\u001b[1;33m(\u001b[0m\u001b[0mB\u001b[0m\u001b[1;33m)\u001b[0m\u001b[1;33m\u001b[0m\u001b[1;33m\u001b[0m\u001b[0m\n",
      "\u001b[1;31mTypeError\u001b[0m: 'tuple' object is not callable"
     ]
    }
   ],
   "source": [
    "# # If you wish to convert this to 5d array, it will give a type error.\n",
    "# B.shape(1, 2, 2, 2, 2)\n",
    "# print(B)"
   ]
  },
  {
   "cell_type": "code",
   "execution_count": null,
   "id": "38b02669-986b-4405-82c1-ce449b7f8fad",
   "metadata": {},
   "outputs": [],
   "source": []
  }
 ],
 "metadata": {
  "kernelspec": {
   "display_name": "Python 3 (ipykernel)",
   "language": "python",
   "name": "python3"
  },
  "language_info": {
   "codemirror_mode": {
    "name": "ipython",
    "version": 3
   },
   "file_extension": ".py",
   "mimetype": "text/x-python",
   "name": "python",
   "nbconvert_exporter": "python",
   "pygments_lexer": "ipython3",
   "version": "3.7.9"
  }
 },
 "nbformat": 4,
 "nbformat_minor": 5
}
