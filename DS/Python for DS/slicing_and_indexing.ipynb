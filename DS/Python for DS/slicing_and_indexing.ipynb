{
 "cells": [
  {
   "cell_type": "code",
   "execution_count": 1,
   "id": "6f932838-5c59-4373-a63f-1628f30667a6",
   "metadata": {},
   "outputs": [],
   "source": [
    "import numpy as np\n",
    "arr2d = np.array([[1, 2, 3, 4, 5], [6, 7, 8, 9, 10]])"
   ]
  },
  {
   "cell_type": "code",
   "execution_count": 2,
   "id": "a0d12065-6340-4ca3-8b8d-9966fa479bf5",
   "metadata": {},
   "outputs": [
    {
     "data": {
      "text/plain": [
       "array([[ 1,  2,  3,  4,  5],\n",
       "       [ 6,  7,  8,  9, 10]])"
      ]
     },
     "execution_count": 2,
     "metadata": {},
     "output_type": "execute_result"
    }
   ],
   "source": [
    "arr2d"
   ]
  },
  {
   "cell_type": "code",
   "execution_count": 3,
   "id": "429bf2f7-7dc9-45be-97ba-2d325d22d854",
   "metadata": {},
   "outputs": [
    {
     "data": {
      "text/plain": [
       "array([1, 2, 3, 4, 5])"
      ]
     },
     "execution_count": 3,
     "metadata": {},
     "output_type": "execute_result"
    }
   ],
   "source": [
    "arr2d[0]"
   ]
  },
  {
   "cell_type": "code",
   "execution_count": 4,
   "id": "b4497b1a-2837-43ac-97b3-90087fe6a8e8",
   "metadata": {},
   "outputs": [
    {
     "data": {
      "text/plain": [
       "array([[ 4,  5],\n",
       "       [ 9, 10]])"
      ]
     },
     "execution_count": 4,
     "metadata": {},
     "output_type": "execute_result"
    }
   ],
   "source": [
    "arr2d[:, 3:]"
   ]
  },
  {
   "cell_type": "code",
   "execution_count": 5,
   "id": "5eff7c11-eef4-4867-b570-18eaa2b869b2",
   "metadata": {},
   "outputs": [],
   "source": [
    "arr2d[:, 3:] = 0"
   ]
  },
  {
   "cell_type": "code",
   "execution_count": 6,
   "id": "d56b161c-afe4-477d-bbe8-1ba22184c232",
   "metadata": {},
   "outputs": [
    {
     "data": {
      "text/plain": [
       "array([[1, 2, 3, 0, 0],\n",
       "       [6, 7, 8, 0, 0]])"
      ]
     },
     "execution_count": 6,
     "metadata": {},
     "output_type": "execute_result"
    }
   ],
   "source": [
    "arr2d"
   ]
  },
  {
   "cell_type": "code",
   "execution_count": 7,
   "id": "6543b440-b50b-4047-8c12-5ffa0c000845",
   "metadata": {},
   "outputs": [
    {
     "data": {
      "text/plain": [
       "array([[[1, 2, 3, 0, 0],\n",
       "        [6, 7, 8, 0, 0]]])"
      ]
     },
     "execution_count": 7,
     "metadata": {},
     "output_type": "execute_result"
    }
   ],
   "source": [
    "arr2d[True]"
   ]
  },
  {
   "cell_type": "code",
   "execution_count": 8,
   "id": "ae52e749-200d-47a2-8a62-b0101ddb73f8",
   "metadata": {},
   "outputs": [
    {
     "data": {
      "text/plain": [
       "2"
      ]
     },
     "execution_count": 8,
     "metadata": {},
     "output_type": "execute_result"
    }
   ],
   "source": [
    "arr2d.ndim"
   ]
  },
  {
   "cell_type": "code",
   "execution_count": 9,
   "id": "f99537c4-e738-4141-a7ee-56bbb7d5271d",
   "metadata": {},
   "outputs": [
    {
     "data": {
      "text/plain": [
       "(2, 5)"
      ]
     },
     "execution_count": 9,
     "metadata": {},
     "output_type": "execute_result"
    }
   ],
   "source": [
    "arr2d.shape"
   ]
  },
  {
   "cell_type": "code",
   "execution_count": 10,
   "id": "22ba416d-e32d-4bfd-bfb0-cd6077d57ec8",
   "metadata": {},
   "outputs": [],
   "source": [
    "arr3d = np.array([[np.arange(5), np.arange(5)], [np.arange(5), np.arange(5)]])"
   ]
  },
  {
   "cell_type": "code",
   "execution_count": 11,
   "id": "24ea17e2-314b-4747-b743-f4c7b7cdb94b",
   "metadata": {},
   "outputs": [
    {
     "data": {
      "text/plain": [
       "array([[[0, 1, 2, 3, 4],\n",
       "        [0, 1, 2, 3, 4]],\n",
       "\n",
       "       [[0, 1, 2, 3, 4],\n",
       "        [0, 1, 2, 3, 4]]])"
      ]
     },
     "execution_count": 11,
     "metadata": {},
     "output_type": "execute_result"
    }
   ],
   "source": [
    "arr3d"
   ]
  },
  {
   "cell_type": "code",
   "execution_count": 12,
   "id": "e4f4dc8a-6c52-448d-9082-2c4ccbd17e88",
   "metadata": {},
   "outputs": [
    {
     "data": {
      "text/plain": [
       "3"
      ]
     },
     "execution_count": 12,
     "metadata": {},
     "output_type": "execute_result"
    }
   ],
   "source": [
    "arr3d.ndim"
   ]
  },
  {
   "cell_type": "code",
   "execution_count": 13,
   "id": "27540605-4441-4476-9090-b9b2c7622181",
   "metadata": {},
   "outputs": [
    {
     "data": {
      "text/plain": [
       "array([[4, 4],\n",
       "       [4, 4]])"
      ]
     },
     "execution_count": 13,
     "metadata": {},
     "output_type": "execute_result"
    }
   ],
   "source": [
    "arr3d[:, :, -1]"
   ]
  },
  {
   "cell_type": "code",
   "execution_count": 14,
   "id": "de1b39ff-c0bd-47b0-8f75-921f62117b34",
   "metadata": {},
   "outputs": [],
   "source": [
    "arr3d[:, :, -1] = 10"
   ]
  },
  {
   "cell_type": "code",
   "execution_count": 15,
   "id": "973f34ea-7371-422f-a8ad-614b9952ceef",
   "metadata": {},
   "outputs": [
    {
     "data": {
      "text/plain": [
       "array([[[ 0,  1,  2,  3, 10],\n",
       "        [ 0,  1,  2,  3, 10]],\n",
       "\n",
       "       [[ 0,  1,  2,  3, 10],\n",
       "        [ 0,  1,  2,  3, 10]]])"
      ]
     },
     "execution_count": 15,
     "metadata": {},
     "output_type": "execute_result"
    }
   ],
   "source": [
    "arr3d"
   ]
  },
  {
   "cell_type": "code",
   "execution_count": 16,
   "id": "312e3aca-2abb-4955-a175-ca12efd16af8",
   "metadata": {},
   "outputs": [],
   "source": [
    "arr3d = np.array([[np.arange(5), np.arange(5)], [np.arange(5), np.arange(5)]])"
   ]
  },
  {
   "cell_type": "code",
   "execution_count": 17,
   "id": "9a557cca-bddd-413a-bd4d-fab1833979c5",
   "metadata": {},
   "outputs": [
    {
     "data": {
      "text/plain": [
       "array([[[0, 1, 2, 3, 4],\n",
       "        [0, 1, 2, 3, 4]],\n",
       "\n",
       "       [[0, 1, 2, 3, 4],\n",
       "        [0, 1, 2, 3, 4]]])"
      ]
     },
     "execution_count": 17,
     "metadata": {},
     "output_type": "execute_result"
    }
   ],
   "source": [
    "arr3d"
   ]
  },
  {
   "cell_type": "code",
   "execution_count": 18,
   "id": "3a00ce99-b72e-49e6-808c-fe7e70d1460f",
   "metadata": {},
   "outputs": [
    {
     "data": {
      "text/plain": [
       "(2, 2, 5)"
      ]
     },
     "execution_count": 18,
     "metadata": {},
     "output_type": "execute_result"
    }
   ],
   "source": [
    "arr3d.shape"
   ]
  },
  {
   "cell_type": "code",
   "execution_count": 25,
   "id": "304972d9-b3a2-454c-88f7-570edbb60855",
   "metadata": {},
   "outputs": [],
   "source": [
    "arr3d[arr3d % 2 == 0] = 0"
   ]
  },
  {
   "cell_type": "code",
   "execution_count": 26,
   "id": "46b31664-3999-4d0a-9072-c4569872d3f6",
   "metadata": {},
   "outputs": [
    {
     "data": {
      "text/plain": [
       "array([[[0, 1, 0, 3, 0],\n",
       "        [0, 1, 0, 3, 0]],\n",
       "\n",
       "       [[0, 1, 0, 3, 0],\n",
       "        [0, 1, 0, 3, 0]]])"
      ]
     },
     "execution_count": 26,
     "metadata": {},
     "output_type": "execute_result"
    }
   ],
   "source": [
    "arr3d"
   ]
  },
  {
   "cell_type": "code",
   "execution_count": null,
   "id": "6a030c73-7520-4f70-ab69-3c087ea2bbf0",
   "metadata": {},
   "outputs": [],
   "source": []
  }
 ],
 "metadata": {
  "kernelspec": {
   "display_name": "Python 3 (ipykernel)",
   "language": "python",
   "name": "python3"
  },
  "language_info": {
   "codemirror_mode": {
    "name": "ipython",
    "version": 3
   },
   "file_extension": ".py",
   "mimetype": "text/x-python",
   "name": "python",
   "nbconvert_exporter": "python",
   "pygments_lexer": "ipython3",
   "version": "3.7.9"
  }
 },
 "nbformat": 4,
 "nbformat_minor": 5
}
