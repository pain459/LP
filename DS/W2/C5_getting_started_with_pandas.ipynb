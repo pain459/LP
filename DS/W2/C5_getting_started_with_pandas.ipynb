{
 "cells": [
  {
   "cell_type": "code",
   "execution_count": 1,
   "id": "2e5d209d-dc97-401b-8969-5418347122d5",
   "metadata": {},
   "outputs": [],
   "source": [
    "import pandas as pd"
   ]
  },
  {
   "cell_type": "code",
   "execution_count": 2,
   "id": "c822118b-5561-4363-9f83-4898d005f658",
   "metadata": {},
   "outputs": [],
   "source": [
    "from pandas import Series, DataFrame"
   ]
  },
  {
   "cell_type": "markdown",
   "id": "e7262dc0-73ee-4ac8-b922-91dc78b3b29d",
   "metadata": {},
   "source": [
    "## Introduction to pandas Data Structures"
   ]
  },
  {
   "cell_type": "markdown",
   "id": "5bbbe8b5-7283-43c7-84ab-03932254001d",
   "metadata": {},
   "source": [
    "### Series"
   ]
  },
  {
   "cell_type": "code",
   "execution_count": 3,
   "id": "4ab10cf9-41c2-415b-bc3c-1f4f76f9368b",
   "metadata": {},
   "outputs": [
    {
     "data": {
      "text/plain": [
       "0    4\n",
       "1    7\n",
       "2   -5\n",
       "3    3\n",
       "dtype: int64"
      ]
     },
     "execution_count": 3,
     "metadata": {},
     "output_type": "execute_result"
    }
   ],
   "source": [
    "obj = pd.Series([4, 7, -5, 3])\n",
    "obj"
   ]
  },
  {
   "cell_type": "code",
   "execution_count": 4,
   "id": "e1e82038-1b4c-4422-a4c3-50f39c9bb1de",
   "metadata": {},
   "outputs": [
    {
     "data": {
      "text/plain": [
       "array([ 4,  7, -5,  3])"
      ]
     },
     "execution_count": 4,
     "metadata": {},
     "output_type": "execute_result"
    }
   ],
   "source": [
    "obj.values"
   ]
  },
  {
   "cell_type": "code",
   "execution_count": 5,
   "id": "52eeab52-6868-45f4-bc12-9430a768029d",
   "metadata": {},
   "outputs": [
    {
     "data": {
      "text/plain": [
       "<bound method Series.items of 0    4\n",
       "1    7\n",
       "2   -5\n",
       "3    3\n",
       "dtype: int64>"
      ]
     },
     "execution_count": 5,
     "metadata": {},
     "output_type": "execute_result"
    }
   ],
   "source": [
    "obj.items"
   ]
  },
  {
   "cell_type": "code",
   "execution_count": 6,
   "id": "e7dc53f9-8786-476e-9a4e-4f2500c28206",
   "metadata": {},
   "outputs": [
    {
     "data": {
      "text/plain": [
       "<bound method Series.keys of 0    4\n",
       "1    7\n",
       "2   -5\n",
       "3    3\n",
       "dtype: int64>"
      ]
     },
     "execution_count": 6,
     "metadata": {},
     "output_type": "execute_result"
    }
   ],
   "source": [
    "obj.keys"
   ]
  },
  {
   "cell_type": "code",
   "execution_count": 7,
   "id": "62d02e2f-5535-403c-9928-e71d17fd51eb",
   "metadata": {},
   "outputs": [
    {
     "data": {
      "text/plain": [
       "RangeIndex(start=0, stop=4, step=1)"
      ]
     },
     "execution_count": 7,
     "metadata": {},
     "output_type": "execute_result"
    }
   ],
   "source": [
    "obj.index"
   ]
  },
  {
   "cell_type": "code",
   "execution_count": 8,
   "id": "72bdbde5-204e-4d70-a289-d71fe4b6620e",
   "metadata": {},
   "outputs": [],
   "source": [
    "# manual index\n",
    "obj2 = pd.Series([4, 7, -5, 2], index=['d', 'b', 'a', 'c'])"
   ]
  },
  {
   "cell_type": "code",
   "execution_count": 9,
   "id": "ff7904d6-20db-4b30-843b-51b9454fbc0d",
   "metadata": {},
   "outputs": [
    {
     "data": {
      "text/plain": [
       "d    4\n",
       "b    7\n",
       "a   -5\n",
       "c    2\n",
       "dtype: int64"
      ]
     },
     "execution_count": 9,
     "metadata": {},
     "output_type": "execute_result"
    }
   ],
   "source": [
    "obj2"
   ]
  },
  {
   "cell_type": "code",
   "execution_count": 10,
   "id": "237e244c-3462-4c91-a3e2-71b03cea5741",
   "metadata": {},
   "outputs": [
    {
     "data": {
      "text/plain": [
       "Index(['d', 'b', 'a', 'c'], dtype='object')"
      ]
     },
     "execution_count": 10,
     "metadata": {},
     "output_type": "execute_result"
    }
   ],
   "source": [
    "obj2.index"
   ]
  },
  {
   "cell_type": "code",
   "execution_count": 11,
   "id": "b85d7ef9-b233-4cfe-ba76-98ee086c53e5",
   "metadata": {},
   "outputs": [
    {
     "data": {
      "text/plain": [
       "-5"
      ]
     },
     "execution_count": 11,
     "metadata": {},
     "output_type": "execute_result"
    }
   ],
   "source": [
    "obj2['a']"
   ]
  },
  {
   "cell_type": "code",
   "execution_count": 12,
   "id": "a8fc5bc7-e8f9-43b9-ba2a-82b6167d221d",
   "metadata": {},
   "outputs": [],
   "source": [
    "obj2['d'] = 6"
   ]
  },
  {
   "cell_type": "code",
   "execution_count": 13,
   "id": "b86d833f-c744-4d7f-96c6-10b82fc2c698",
   "metadata": {},
   "outputs": [
    {
     "data": {
      "text/plain": [
       "d    6\n",
       "b    7\n",
       "a   -5\n",
       "c    2\n",
       "dtype: int64"
      ]
     },
     "execution_count": 13,
     "metadata": {},
     "output_type": "execute_result"
    }
   ],
   "source": [
    "obj2"
   ]
  },
  {
   "cell_type": "code",
   "execution_count": 14,
   "id": "44110cdb-1412-4a48-9749-fe58fdbee613",
   "metadata": {},
   "outputs": [
    {
     "data": {
      "text/plain": [
       "c    2\n",
       "a   -5\n",
       "d    6\n",
       "dtype: int64"
      ]
     },
     "execution_count": 14,
     "metadata": {},
     "output_type": "execute_result"
    }
   ],
   "source": [
    "obj2[['c', 'a', 'd']]"
   ]
  },
  {
   "cell_type": "code",
   "execution_count": 15,
   "id": "460bc460-b713-455b-ab37-9277f2ae4422",
   "metadata": {},
   "outputs": [
    {
     "data": {
      "text/plain": [
       "d    6\n",
       "b    7\n",
       "c    2\n",
       "dtype: int64"
      ]
     },
     "execution_count": 15,
     "metadata": {},
     "output_type": "execute_result"
    }
   ],
   "source": [
    "obj2[obj2 > 0]"
   ]
  },
  {
   "cell_type": "code",
   "execution_count": 16,
   "id": "680a1d5d-71e6-4e34-9f44-d62353827ec0",
   "metadata": {},
   "outputs": [
    {
     "data": {
      "text/plain": [
       "d     403.428793\n",
       "b    1096.633158\n",
       "a       0.006738\n",
       "c       7.389056\n",
       "dtype: float64"
      ]
     },
     "execution_count": 16,
     "metadata": {},
     "output_type": "execute_result"
    }
   ],
   "source": [
    "import numpy as np\n",
    "np.exp(obj2)"
   ]
  },
  {
   "cell_type": "code",
   "execution_count": 17,
   "id": "4f8bed5f-d8f9-4281-aa30-e385bd2d03bc",
   "metadata": {},
   "outputs": [
    {
     "data": {
      "text/plain": [
       "True"
      ]
     },
     "execution_count": 17,
     "metadata": {},
     "output_type": "execute_result"
    }
   ],
   "source": [
    "'b' in obj2"
   ]
  },
  {
   "cell_type": "code",
   "execution_count": 18,
   "id": "b55874b1-9ee7-4f7e-b63f-299279cc673f",
   "metadata": {},
   "outputs": [
    {
     "data": {
      "text/plain": [
       "False"
      ]
     },
     "execution_count": 18,
     "metadata": {},
     "output_type": "execute_result"
    }
   ],
   "source": [
    "'e' in obj2"
   ]
  },
  {
   "cell_type": "code",
   "execution_count": 28,
   "id": "fd5f3e28-b92d-4f1d-b21b-9fcee3b89741",
   "metadata": {},
   "outputs": [
    {
     "data": {
      "text/html": [
       "<div>\n",
       "<style scoped>\n",
       "    .dataframe tbody tr th:only-of-type {\n",
       "        vertical-align: middle;\n",
       "    }\n",
       "\n",
       "    .dataframe tbody tr th {\n",
       "        vertical-align: top;\n",
       "    }\n",
       "\n",
       "    .dataframe thead th {\n",
       "        text-align: right;\n",
       "    }\n",
       "</style>\n",
       "<table border=\"1\" class=\"dataframe\">\n",
       "  <thead>\n",
       "    <tr style=\"text-align: right;\">\n",
       "      <th></th>\n",
       "      <th>state-province</th>\n",
       "      <th>country</th>\n",
       "      <th>web_pages</th>\n",
       "      <th>name</th>\n",
       "      <th>alpha_two_code</th>\n",
       "      <th>domains</th>\n",
       "    </tr>\n",
       "  </thead>\n",
       "  <tbody>\n",
       "    <tr>\n",
       "      <th>0</th>\n",
       "      <td>None</td>\n",
       "      <td>United States</td>\n",
       "      <td>[http://www.marywood.edu]</td>\n",
       "      <td>Marywood University</td>\n",
       "      <td>US</td>\n",
       "      <td>[marywood.edu]</td>\n",
       "    </tr>\n",
       "    <tr>\n",
       "      <th>1</th>\n",
       "      <td>None</td>\n",
       "      <td>United States</td>\n",
       "      <td>[http://www.lindenwood.edu/]</td>\n",
       "      <td>Lindenwood University</td>\n",
       "      <td>US</td>\n",
       "      <td>[lindenwood.edu]</td>\n",
       "    </tr>\n",
       "    <tr>\n",
       "      <th>2</th>\n",
       "      <td>None</td>\n",
       "      <td>United States</td>\n",
       "      <td>[https://sullivan.edu/]</td>\n",
       "      <td>Sullivan University</td>\n",
       "      <td>US</td>\n",
       "      <td>[sullivan.edu]</td>\n",
       "    </tr>\n",
       "    <tr>\n",
       "      <th>3</th>\n",
       "      <td>None</td>\n",
       "      <td>United States</td>\n",
       "      <td>[https://www.fscj.edu/]</td>\n",
       "      <td>Florida State College at Jacksonville</td>\n",
       "      <td>US</td>\n",
       "      <td>[fscj.edu]</td>\n",
       "    </tr>\n",
       "    <tr>\n",
       "      <th>4</th>\n",
       "      <td>None</td>\n",
       "      <td>United States</td>\n",
       "      <td>[https://www.xavier.edu/]</td>\n",
       "      <td>Xavier University</td>\n",
       "      <td>US</td>\n",
       "      <td>[xavier.edu]</td>\n",
       "    </tr>\n",
       "    <tr>\n",
       "      <th>...</th>\n",
       "      <td>...</td>\n",
       "      <td>...</td>\n",
       "      <td>...</td>\n",
       "      <td>...</td>\n",
       "      <td>...</td>\n",
       "      <td>...</td>\n",
       "    </tr>\n",
       "    <tr>\n",
       "      <th>4341</th>\n",
       "      <td>Florida</td>\n",
       "      <td>United States</td>\n",
       "      <td>[https://www.gulfcoast.edu/]</td>\n",
       "      <td>Gulf Coast State College</td>\n",
       "      <td>US</td>\n",
       "      <td>[gulfcoast.edu]</td>\n",
       "    </tr>\n",
       "    <tr>\n",
       "      <th>4342</th>\n",
       "      <td>California</td>\n",
       "      <td>United States</td>\n",
       "      <td>[https://www.academyart.edu/]</td>\n",
       "      <td>Academy of Art University</td>\n",
       "      <td>US</td>\n",
       "      <td>[academyart.edu, art.edu]</td>\n",
       "    </tr>\n",
       "    <tr>\n",
       "      <th>4343</th>\n",
       "      <td>North Carolina</td>\n",
       "      <td>United States</td>\n",
       "      <td>[https://www.lr.edu/]</td>\n",
       "      <td>Lenoir-Rhyne University</td>\n",
       "      <td>US</td>\n",
       "      <td>[lr.edu]</td>\n",
       "    </tr>\n",
       "    <tr>\n",
       "      <th>4344</th>\n",
       "      <td>Pennsylvania</td>\n",
       "      <td>United States</td>\n",
       "      <td>[https://pointpark.edu/]</td>\n",
       "      <td>Point Park University</td>\n",
       "      <td>US</td>\n",
       "      <td>[pointpark.edu]</td>\n",
       "    </tr>\n",
       "    <tr>\n",
       "      <th>4345</th>\n",
       "      <td>Michigan</td>\n",
       "      <td>United States</td>\n",
       "      <td>[https://northwood.edu/]</td>\n",
       "      <td>Northwood University</td>\n",
       "      <td>US</td>\n",
       "      <td>[northwood.edu]</td>\n",
       "    </tr>\n",
       "  </tbody>\n",
       "</table>\n",
       "<p>4346 rows × 6 columns</p>\n",
       "</div>"
      ],
      "text/plain": [
       "      state-province        country                      web_pages  \\\n",
       "0               None  United States      [http://www.marywood.edu]   \n",
       "1               None  United States   [http://www.lindenwood.edu/]   \n",
       "2               None  United States        [https://sullivan.edu/]   \n",
       "3               None  United States        [https://www.fscj.edu/]   \n",
       "4               None  United States      [https://www.xavier.edu/]   \n",
       "...              ...            ...                            ...   \n",
       "4341         Florida  United States   [https://www.gulfcoast.edu/]   \n",
       "4342      California  United States  [https://www.academyart.edu/]   \n",
       "4343  North Carolina  United States          [https://www.lr.edu/]   \n",
       "4344    Pennsylvania  United States       [https://pointpark.edu/]   \n",
       "4345        Michigan  United States       [https://northwood.edu/]   \n",
       "\n",
       "                                       name alpha_two_code  \\\n",
       "0                       Marywood University             US   \n",
       "1                     Lindenwood University             US   \n",
       "2                       Sullivan University             US   \n",
       "3     Florida State College at Jacksonville             US   \n",
       "4                         Xavier University             US   \n",
       "...                                     ...            ...   \n",
       "4341               Gulf Coast State College             US   \n",
       "4342              Academy of Art University             US   \n",
       "4343                Lenoir-Rhyne University             US   \n",
       "4344                  Point Park University             US   \n",
       "4345                   Northwood University             US   \n",
       "\n",
       "                        domains  \n",
       "0                [marywood.edu]  \n",
       "1              [lindenwood.edu]  \n",
       "2                [sullivan.edu]  \n",
       "3                    [fscj.edu]  \n",
       "4                  [xavier.edu]  \n",
       "...                         ...  \n",
       "4341            [gulfcoast.edu]  \n",
       "4342  [academyart.edu, art.edu]  \n",
       "4343                   [lr.edu]  \n",
       "4344            [pointpark.edu]  \n",
       "4345            [northwood.edu]  \n",
       "\n",
       "[4346 rows x 6 columns]"
      ]
     },
     "execution_count": 28,
     "metadata": {},
     "output_type": "execute_result"
    }
   ],
   "source": [
    "# small tutorial of getting data from api and seeing with pandas\n",
    "import requests\n",
    "import numpy as np\n",
    "import pandas as pd\n",
    "import json\n",
    "response = requests.get(\"http://universities.hipolabs.com/search?country=United+States\")\n",
    "#print(response)\n",
    "data = response.json()\n",
    "df = pd.DataFrame(data)\n",
    "df\n",
    "\n"
   ]
  },
  {
   "cell_type": "code",
   "execution_count": null,
   "id": "4bbfeeb3-7d70-41a2-b6c1-c582e76b7fd2",
   "metadata": {},
   "outputs": [],
   "source": []
  }
 ],
 "metadata": {
  "kernelspec": {
   "display_name": "Python 3 (ipykernel)",
   "language": "python",
   "name": "python3"
  },
  "language_info": {
   "codemirror_mode": {
    "name": "ipython",
    "version": 3
   },
   "file_extension": ".py",
   "mimetype": "text/x-python",
   "name": "python",
   "nbconvert_exporter": "python",
   "pygments_lexer": "ipython3",
   "version": "3.8.12"
  }
 },
 "nbformat": 4,
 "nbformat_minor": 5
}
