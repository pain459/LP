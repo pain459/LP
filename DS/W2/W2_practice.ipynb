{
 "cells": [
  {
   "cell_type": "code",
   "execution_count": 2,
   "id": "84baa733-db56-4a86-842a-146413a368a4",
   "metadata": {},
   "outputs": [
    {
     "data": {
      "text/html": [
       "<div>\n",
       "<style scoped>\n",
       "    .dataframe tbody tr th:only-of-type {\n",
       "        vertical-align: middle;\n",
       "    }\n",
       "\n",
       "    .dataframe tbody tr th {\n",
       "        vertical-align: top;\n",
       "    }\n",
       "\n",
       "    .dataframe thead th {\n",
       "        text-align: right;\n",
       "    }\n",
       "</style>\n",
       "<table border=\"1\" class=\"dataframe\">\n",
       "  <thead>\n",
       "    <tr style=\"text-align: right;\">\n",
       "      <th></th>\n",
       "      <th>Name</th>\n",
       "      <th>Class</th>\n",
       "      <th>Score</th>\n",
       "    </tr>\n",
       "  </thead>\n",
       "  <tbody>\n",
       "    <tr>\n",
       "      <th>school1</th>\n",
       "      <td>Alice</td>\n",
       "      <td>Physics</td>\n",
       "      <td>85</td>\n",
       "    </tr>\n",
       "    <tr>\n",
       "      <th>school2</th>\n",
       "      <td>Jack</td>\n",
       "      <td>Chemistry</td>\n",
       "      <td>82</td>\n",
       "    </tr>\n",
       "    <tr>\n",
       "      <th>school3</th>\n",
       "      <td>Helen</td>\n",
       "      <td>Biology</td>\n",
       "      <td>90</td>\n",
       "    </tr>\n",
       "  </tbody>\n",
       "</table>\n",
       "</div>"
      ],
      "text/plain": [
       "          Name      Class  Score\n",
       "school1  Alice    Physics     85\n",
       "school2   Jack  Chemistry     82\n",
       "school3  Helen    Biology     90"
      ]
     },
     "execution_count": 2,
     "metadata": {},
     "output_type": "execute_result"
    }
   ],
   "source": [
    "import pandas as pd\n",
    "record1 = pd.Series({'Name': 'Alice',\n",
    "                        'Class': 'Physics',\n",
    "                        'Score': 85})\n",
    "record2 = pd.Series({'Name': 'Jack',\n",
    "                        'Class': 'Chemistry',\n",
    "                        'Score': 82})\n",
    "record3 = pd.Series({'Name': 'Helen',\n",
    "                        'Class': 'Biology',\n",
    "                        'Score': 90})\n",
    "\n",
    "df = pd.DataFrame([record1, record2, record3], index=['school1', 'school2', 'school3'])\n",
    "df"
   ]
  },
  {
   "cell_type": "code",
   "execution_count": 3,
   "id": "8c6a1c51-2525-4b41-82d9-a725afd69abe",
   "metadata": {},
   "outputs": [
    {
     "data": {
      "text/plain": [
       "Name       Alice\n",
       "Class    Physics\n",
       "Score         85\n",
       "Name: school1, dtype: object"
      ]
     },
     "execution_count": 3,
     "metadata": {},
     "output_type": "execute_result"
    }
   ],
   "source": [
    "df.loc['school1']"
   ]
  },
  {
   "cell_type": "code",
   "execution_count": 6,
   "id": "9f1874b9-3db5-4003-89cc-67b3b022f564",
   "metadata": {},
   "outputs": [
    {
     "data": {
      "text/html": [
       "<div>\n",
       "<style scoped>\n",
       "    .dataframe tbody tr th:only-of-type {\n",
       "        vertical-align: middle;\n",
       "    }\n",
       "\n",
       "    .dataframe tbody tr th {\n",
       "        vertical-align: top;\n",
       "    }\n",
       "\n",
       "    .dataframe thead th {\n",
       "        text-align: right;\n",
       "    }\n",
       "</style>\n",
       "<table border=\"1\" class=\"dataframe\">\n",
       "  <thead>\n",
       "    <tr style=\"text-align: right;\">\n",
       "      <th></th>\n",
       "      <th>school1</th>\n",
       "      <th>school2</th>\n",
       "      <th>school3</th>\n",
       "    </tr>\n",
       "  </thead>\n",
       "  <tbody>\n",
       "    <tr>\n",
       "      <th>Name</th>\n",
       "      <td>Alice</td>\n",
       "      <td>Jack</td>\n",
       "      <td>Helen</td>\n",
       "    </tr>\n",
       "    <tr>\n",
       "      <th>Class</th>\n",
       "      <td>Physics</td>\n",
       "      <td>Chemistry</td>\n",
       "      <td>Biology</td>\n",
       "    </tr>\n",
       "    <tr>\n",
       "      <th>Score</th>\n",
       "      <td>85</td>\n",
       "      <td>82</td>\n",
       "      <td>90</td>\n",
       "    </tr>\n",
       "  </tbody>\n",
       "</table>\n",
       "</div>"
      ],
      "text/plain": [
       "       school1    school2  school3\n",
       "Name     Alice       Jack    Helen\n",
       "Class  Physics  Chemistry  Biology\n",
       "Score       85         82       90"
      ]
     },
     "execution_count": 6,
     "metadata": {},
     "output_type": "execute_result"
    }
   ],
   "source": [
    "df.T"
   ]
  },
  {
   "cell_type": "code",
   "execution_count": 7,
   "id": "8d4b9bf2-76fd-4e16-8c61-2fd059283bf4",
   "metadata": {},
   "outputs": [
    {
     "data": {
      "text/plain": [
       "school1      Physics\n",
       "school2    Chemistry\n",
       "school3      Biology\n",
       "Name: Class, dtype: object"
      ]
     },
     "execution_count": 7,
     "metadata": {},
     "output_type": "execute_result"
    }
   ],
   "source": [
    "df.T.loc['Class']"
   ]
  },
  {
   "cell_type": "code",
   "execution_count": 8,
   "id": "63df2e8e-6219-47ac-b604-7952f8214a3b",
   "metadata": {},
   "outputs": [
    {
     "data": {
      "text/html": [
       "<div>\n",
       "<style scoped>\n",
       "    .dataframe tbody tr th:only-of-type {\n",
       "        vertical-align: middle;\n",
       "    }\n",
       "\n",
       "    .dataframe tbody tr th {\n",
       "        vertical-align: top;\n",
       "    }\n",
       "\n",
       "    .dataframe thead th {\n",
       "        text-align: right;\n",
       "    }\n",
       "</style>\n",
       "<table border=\"1\" class=\"dataframe\">\n",
       "  <thead>\n",
       "    <tr style=\"text-align: right;\">\n",
       "      <th></th>\n",
       "      <th>state-province</th>\n",
       "      <th>country</th>\n",
       "      <th>web_pages</th>\n",
       "      <th>name</th>\n",
       "      <th>alpha_two_code</th>\n",
       "      <th>domains</th>\n",
       "    </tr>\n",
       "  </thead>\n",
       "  <tbody>\n",
       "    <tr>\n",
       "      <th>0</th>\n",
       "      <td>None</td>\n",
       "      <td>United States</td>\n",
       "      <td>[http://www.marywood.edu]</td>\n",
       "      <td>Marywood University</td>\n",
       "      <td>US</td>\n",
       "      <td>[marywood.edu]</td>\n",
       "    </tr>\n",
       "    <tr>\n",
       "      <th>1</th>\n",
       "      <td>None</td>\n",
       "      <td>United States</td>\n",
       "      <td>[http://www.lindenwood.edu/]</td>\n",
       "      <td>Lindenwood University</td>\n",
       "      <td>US</td>\n",
       "      <td>[lindenwood.edu]</td>\n",
       "    </tr>\n",
       "    <tr>\n",
       "      <th>2</th>\n",
       "      <td>None</td>\n",
       "      <td>United States</td>\n",
       "      <td>[https://sullivan.edu/]</td>\n",
       "      <td>Sullivan University</td>\n",
       "      <td>US</td>\n",
       "      <td>[sullivan.edu]</td>\n",
       "    </tr>\n",
       "    <tr>\n",
       "      <th>3</th>\n",
       "      <td>None</td>\n",
       "      <td>United States</td>\n",
       "      <td>[https://www.fscj.edu/]</td>\n",
       "      <td>Florida State College at Jacksonville</td>\n",
       "      <td>US</td>\n",
       "      <td>[fscj.edu]</td>\n",
       "    </tr>\n",
       "    <tr>\n",
       "      <th>4</th>\n",
       "      <td>None</td>\n",
       "      <td>United States</td>\n",
       "      <td>[https://www.xavier.edu/]</td>\n",
       "      <td>Xavier University</td>\n",
       "      <td>US</td>\n",
       "      <td>[xavier.edu]</td>\n",
       "    </tr>\n",
       "    <tr>\n",
       "      <th>...</th>\n",
       "      <td>...</td>\n",
       "      <td>...</td>\n",
       "      <td>...</td>\n",
       "      <td>...</td>\n",
       "      <td>...</td>\n",
       "      <td>...</td>\n",
       "    </tr>\n",
       "    <tr>\n",
       "      <th>4341</th>\n",
       "      <td>Florida</td>\n",
       "      <td>United States</td>\n",
       "      <td>[https://www.gulfcoast.edu/]</td>\n",
       "      <td>Gulf Coast State College</td>\n",
       "      <td>US</td>\n",
       "      <td>[gulfcoast.edu]</td>\n",
       "    </tr>\n",
       "    <tr>\n",
       "      <th>4342</th>\n",
       "      <td>California</td>\n",
       "      <td>United States</td>\n",
       "      <td>[https://www.academyart.edu/]</td>\n",
       "      <td>Academy of Art University</td>\n",
       "      <td>US</td>\n",
       "      <td>[academyart.edu, art.edu]</td>\n",
       "    </tr>\n",
       "    <tr>\n",
       "      <th>4343</th>\n",
       "      <td>North Carolina</td>\n",
       "      <td>United States</td>\n",
       "      <td>[https://www.lr.edu/]</td>\n",
       "      <td>Lenoir-Rhyne University</td>\n",
       "      <td>US</td>\n",
       "      <td>[lr.edu]</td>\n",
       "    </tr>\n",
       "    <tr>\n",
       "      <th>4344</th>\n",
       "      <td>Pennsylvania</td>\n",
       "      <td>United States</td>\n",
       "      <td>[https://pointpark.edu/]</td>\n",
       "      <td>Point Park University</td>\n",
       "      <td>US</td>\n",
       "      <td>[pointpark.edu]</td>\n",
       "    </tr>\n",
       "    <tr>\n",
       "      <th>4345</th>\n",
       "      <td>Michigan</td>\n",
       "      <td>United States</td>\n",
       "      <td>[https://northwood.edu/]</td>\n",
       "      <td>Northwood University</td>\n",
       "      <td>US</td>\n",
       "      <td>[northwood.edu]</td>\n",
       "    </tr>\n",
       "  </tbody>\n",
       "</table>\n",
       "<p>4346 rows × 6 columns</p>\n",
       "</div>"
      ],
      "text/plain": [
       "      state-province        country                      web_pages  \\\n",
       "0               None  United States      [http://www.marywood.edu]   \n",
       "1               None  United States   [http://www.lindenwood.edu/]   \n",
       "2               None  United States        [https://sullivan.edu/]   \n",
       "3               None  United States        [https://www.fscj.edu/]   \n",
       "4               None  United States      [https://www.xavier.edu/]   \n",
       "...              ...            ...                            ...   \n",
       "4341         Florida  United States   [https://www.gulfcoast.edu/]   \n",
       "4342      California  United States  [https://www.academyart.edu/]   \n",
       "4343  North Carolina  United States          [https://www.lr.edu/]   \n",
       "4344    Pennsylvania  United States       [https://pointpark.edu/]   \n",
       "4345        Michigan  United States       [https://northwood.edu/]   \n",
       "\n",
       "                                       name alpha_two_code  \\\n",
       "0                       Marywood University             US   \n",
       "1                     Lindenwood University             US   \n",
       "2                       Sullivan University             US   \n",
       "3     Florida State College at Jacksonville             US   \n",
       "4                         Xavier University             US   \n",
       "...                                     ...            ...   \n",
       "4341               Gulf Coast State College             US   \n",
       "4342              Academy of Art University             US   \n",
       "4343                Lenoir-Rhyne University             US   \n",
       "4344                  Point Park University             US   \n",
       "4345                   Northwood University             US   \n",
       "\n",
       "                        domains  \n",
       "0                [marywood.edu]  \n",
       "1              [lindenwood.edu]  \n",
       "2                [sullivan.edu]  \n",
       "3                    [fscj.edu]  \n",
       "4                  [xavier.edu]  \n",
       "...                         ...  \n",
       "4341            [gulfcoast.edu]  \n",
       "4342  [academyart.edu, art.edu]  \n",
       "4343                   [lr.edu]  \n",
       "4344            [pointpark.edu]  \n",
       "4345            [northwood.edu]  \n",
       "\n",
       "[4346 rows x 6 columns]"
      ]
     },
     "execution_count": 8,
     "metadata": {},
     "output_type": "execute_result"
    }
   ],
   "source": [
    "# small tutorial of getting data from api and seeing with pandas\n",
    "import requests\n",
    "import numpy as np\n",
    "import pandas as pd\n",
    "import json\n",
    "response = requests.get(\"http://universities.hipolabs.com/search?country=United+States\")\n",
    "#print(response)\n",
    "data = response.json()\n",
    "df = pd.DataFrame(data)\n",
    "df\n"
   ]
  },
  {
   "cell_type": "code",
   "execution_count": 9,
   "id": "8caddcae-7ec1-476a-aa62-cfb45df29f68",
   "metadata": {},
   "outputs": [
    {
     "data": {
      "text/plain": [
       "state-province                       None\n",
       "country                     United States\n",
       "web_pages         [https://sullivan.edu/]\n",
       "name                  Sullivan University\n",
       "alpha_two_code                         US\n",
       "domains                    [sullivan.edu]\n",
       "Name: 2, dtype: object"
      ]
     },
     "execution_count": 9,
     "metadata": {},
     "output_type": "execute_result"
    }
   ],
   "source": [
    "df.loc[2]"
   ]
  },
  {
   "cell_type": "code",
   "execution_count": 12,
   "id": "71433f72-c86b-4166-b46a-0a67e31987a3",
   "metadata": {},
   "outputs": [
    {
     "data": {
      "text/plain": [
       "0           [http://www.marywood.edu]\n",
       "1        [http://www.lindenwood.edu/]\n",
       "2             [https://sullivan.edu/]\n",
       "3             [https://www.fscj.edu/]\n",
       "4           [https://www.xavier.edu/]\n",
       "                    ...              \n",
       "4341     [https://www.gulfcoast.edu/]\n",
       "4342    [https://www.academyart.edu/]\n",
       "4343            [https://www.lr.edu/]\n",
       "4344         [https://pointpark.edu/]\n",
       "4345         [https://northwood.edu/]\n",
       "Name: web_pages, Length: 4346, dtype: object"
      ]
     },
     "execution_count": 12,
     "metadata": {},
     "output_type": "execute_result"
    }
   ],
   "source": [
    "df['web_pages']"
   ]
  },
  {
   "cell_type": "code",
   "execution_count": 13,
   "id": "0f307eab-21e5-4a1b-8898-93425e8d786e",
   "metadata": {},
   "outputs": [],
   "source": [
    "web_df = df['web_pages']"
   ]
  },
  {
   "cell_type": "code",
   "execution_count": 18,
   "id": "7d7fee9d-76ed-455f-b3c6-123a593897d3",
   "metadata": {},
   "outputs": [
    {
     "data": {
      "text/plain": [
       "0        [http://www.marywood.edu]\n",
       "1     [http://www.lindenwood.edu/]\n",
       "2          [https://sullivan.edu/]\n",
       "3          [https://www.fscj.edu/]\n",
       "4        [https://www.xavier.edu/]\n",
       "5     [https://home.tusculum.edu/]\n",
       "6               [https://cst.edu/]\n",
       "7    [https://www.columbiasc.edu/]\n",
       "8         [http://www.clpccd.edu/]\n",
       "9        [https://www.keller.edu/]\n",
       "Name: web_pages, dtype: object"
      ]
     },
     "execution_count": 18,
     "metadata": {},
     "output_type": "execute_result"
    }
   ],
   "source": [
    "web_df[:10]"
   ]
  },
  {
   "cell_type": "code",
   "execution_count": null,
   "id": "231672c6-10a6-4ec3-8de0-da10f19a6281",
   "metadata": {},
   "outputs": [],
   "source": []
  }
 ],
 "metadata": {
  "kernelspec": {
   "display_name": "Python 3 (ipykernel)",
   "language": "python",
   "name": "python3"
  },
  "language_info": {
   "codemirror_mode": {
    "name": "ipython",
    "version": 3
   },
   "file_extension": ".py",
   "mimetype": "text/x-python",
   "name": "python",
   "nbconvert_exporter": "python",
   "pygments_lexer": "ipython3",
   "version": "3.8.12"
  }
 },
 "nbformat": 4,
 "nbformat_minor": 5
}
