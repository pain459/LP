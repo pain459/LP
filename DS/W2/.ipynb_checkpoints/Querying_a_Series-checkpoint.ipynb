{
 "cells": [
  {
   "cell_type": "code",
   "execution_count": 3,
   "id": "91de0562-c5fa-498d-814c-80be7058e980",
   "metadata": {},
   "outputs": [
    {
     "data": {
      "text/plain": [
       "Alice      Physics\n",
       "Jack     Chemistry\n",
       "Molly      English\n",
       "Sam        History\n",
       "dtype: object"
      ]
     },
     "execution_count": 3,
     "metadata": {},
     "output_type": "execute_result"
    }
   ],
   "source": [
    "import pandas as pd\n",
    "students_classes = {'Alice': 'Physics',\n",
    "                   'Jack': 'Chemistry',\n",
    "                   'Molly': 'English',\n",
    "                   'Sam': 'History'}\n",
    "s = pd.Series(students_classes)\n",
    "s"
   ]
  },
  {
   "cell_type": "code",
   "execution_count": 4,
   "id": "aa2676c7-e496-4f9a-8833-c1b7a0f8f155",
   "metadata": {},
   "outputs": [
    {
     "data": {
      "text/plain": [
       "'History'"
      ]
     },
     "execution_count": 4,
     "metadata": {},
     "output_type": "execute_result"
    }
   ],
   "source": [
    "s.iloc[3]"
   ]
  },
  {
   "cell_type": "code",
   "execution_count": 5,
   "id": "d4d88ff0-e74f-4bb6-bc45-e82305511142",
   "metadata": {},
   "outputs": [
    {
     "data": {
      "text/plain": [
       "'English'"
      ]
     },
     "execution_count": 5,
     "metadata": {},
     "output_type": "execute_result"
    }
   ],
   "source": [
    "s.loc['Molly']"
   ]
  },
  {
   "cell_type": "code",
   "execution_count": 6,
   "id": "f42cb6cb-dd1b-4ebb-a01f-5aba785ca95c",
   "metadata": {},
   "outputs": [],
   "source": [
    "class_code = {99: 'Physics',\n",
    "              100: 'Chemistry',\n",
    "              101: 'English',\n",
    "              102: 'History'}\n",
    "s = pd.Series(class_code)"
   ]
  },
  {
   "cell_type": "code",
   "execution_count": 7,
   "id": "ca6a8895-82ce-42d3-bd16-05ffb00e6681",
   "metadata": {},
   "outputs": [
    {
     "data": {
      "text/plain": [
       "99       Physics\n",
       "100    Chemistry\n",
       "101      English\n",
       "102      History\n",
       "dtype: object"
      ]
     },
     "execution_count": 7,
     "metadata": {},
     "output_type": "execute_result"
    }
   ],
   "source": [
    "s"
   ]
  },
  {
   "cell_type": "code",
   "execution_count": 9,
   "id": "0a9e978c-f4e3-494d-ac3e-634995330360",
   "metadata": {},
   "outputs": [
    {
     "data": {
      "text/plain": [
       "'Physics'"
      ]
     },
     "execution_count": 9,
     "metadata": {},
     "output_type": "execute_result"
    }
   ],
   "source": [
    "s.iloc[0]"
   ]
  },
  {
   "cell_type": "code",
   "execution_count": 11,
   "id": "856614e0-b50f-467e-b9ef-5b1c44a55d72",
   "metadata": {},
   "outputs": [
    {
     "name": "stdout",
     "output_type": "stream",
     "text": [
      "75.0\n"
     ]
    }
   ],
   "source": [
    "grades = pd.Series([90, 80, 70, 60])\n",
    "total = 0\n",
    "for grade in grades:\n",
    "    total+=grade\n",
    "print(total/len(grades))"
   ]
  },
  {
   "cell_type": "code",
   "execution_count": 12,
   "id": "5949e84a-b7c4-401a-b002-a01c735ec957",
   "metadata": {},
   "outputs": [],
   "source": [
    "import numpy as np"
   ]
  },
  {
   "cell_type": "code",
   "execution_count": 14,
   "id": "0e7c8f38-9cd2-4658-8adc-df54a4bc2682",
   "metadata": {},
   "outputs": [
    {
     "name": "stdout",
     "output_type": "stream",
     "text": [
      "75.0\n"
     ]
    }
   ],
   "source": [
    "total = np.sum(grades)\n",
    "print(total/len(grades))"
   ]
  },
  {
   "cell_type": "code",
   "execution_count": 15,
   "id": "c2a75bb0-3d4a-4b1c-aabd-4f62f3f09c40",
   "metadata": {},
   "outputs": [],
   "source": [
    "numbers = pd.Series(np.random.randint(0,1000,10000))"
   ]
  },
  {
   "cell_type": "code",
   "execution_count": 16,
   "id": "42a98e02-ac67-4d7f-90f4-53c8ca623eeb",
   "metadata": {},
   "outputs": [
    {
     "data": {
      "text/plain": [
       "0    377\n",
       "1    440\n",
       "2    708\n",
       "3    330\n",
       "4    644\n",
       "dtype: int64"
      ]
     },
     "execution_count": 16,
     "metadata": {},
     "output_type": "execute_result"
    }
   ],
   "source": [
    "numbers.head()"
   ]
  },
  {
   "cell_type": "code",
   "execution_count": 17,
   "id": "83eb07d3-2496-4c8d-ae32-10e5b625b0d2",
   "metadata": {},
   "outputs": [
    {
     "data": {
      "text/plain": [
       "10000"
      ]
     },
     "execution_count": 17,
     "metadata": {},
     "output_type": "execute_result"
    }
   ],
   "source": [
    "len(numbers)"
   ]
  },
  {
   "cell_type": "code",
   "execution_count": 24,
   "id": "4293b0f0-7e1d-4dbe-8050-f54a8f551b57",
   "metadata": {},
   "outputs": [
    {
     "name": "stdout",
     "output_type": "stream",
     "text": [
      "534 µs ± 3.1 µs per loop (mean ± std. dev. of 7 runs, 1000 loops each)\n"
     ]
    }
   ],
   "source": [
    "%%timeit -n 1000\n",
    "total = 0\n",
    "for number in numbers:\n",
    "    total+=number\n",
    "total/len(numbers)"
   ]
  },
  {
   "cell_type": "code",
   "execution_count": 25,
   "id": "23d99c3b-e166-4c38-8472-a09fd604617d",
   "metadata": {},
   "outputs": [
    {
     "name": "stdout",
     "output_type": "stream",
     "text": [
      "32.8 µs ± 2.41 µs per loop (mean ± std. dev. of 7 runs, 1000 loops each)\n"
     ]
    }
   ],
   "source": [
    "%%timeit -n 1000\n",
    "total = np.sum(numbers)\n",
    "total/len(numbers)"
   ]
  },
  {
   "cell_type": "code",
   "execution_count": 26,
   "id": "637779b1-6cf2-497b-8ac3-39b588a6c395",
   "metadata": {},
   "outputs": [
    {
     "data": {
      "text/plain": [
       "0    377\n",
       "1    440\n",
       "2    708\n",
       "3    330\n",
       "4    644\n",
       "dtype: int64"
      ]
     },
     "execution_count": 26,
     "metadata": {},
     "output_type": "execute_result"
    }
   ],
   "source": [
    "numbers.head()"
   ]
  },
  {
   "cell_type": "code",
   "execution_count": 27,
   "id": "180e2ff5-ecc6-467d-b4a8-546ce96a8285",
   "metadata": {},
   "outputs": [
    {
     "data": {
      "text/plain": [
       "0       379\n",
       "1       442\n",
       "2       710\n",
       "3       332\n",
       "4       646\n",
       "       ... \n",
       "9995    223\n",
       "9996    796\n",
       "9997    809\n",
       "9998    421\n",
       "9999    186\n",
       "Length: 10000, dtype: int64"
      ]
     },
     "execution_count": 27,
     "metadata": {},
     "output_type": "execute_result"
    }
   ],
   "source": [
    "numbers+2"
   ]
  },
  {
   "cell_type": "code",
   "execution_count": 28,
   "id": "0a216c88-b43d-4569-be64-7349ed69e503",
   "metadata": {},
   "outputs": [
    {
     "data": {
      "text/plain": [
       "0    377\n",
       "1    440\n",
       "2    708\n",
       "3    330\n",
       "4    644\n",
       "dtype: int64"
      ]
     },
     "execution_count": 28,
     "metadata": {},
     "output_type": "execute_result"
    }
   ],
   "source": [
    "numbers.head()"
   ]
  },
  {
   "cell_type": "code",
   "execution_count": 29,
   "id": "b3bd1062-641c-4b98-8725-9efc5e1c7256",
   "metadata": {},
   "outputs": [],
   "source": [
    "numbers+=2"
   ]
  },
  {
   "cell_type": "code",
   "execution_count": 30,
   "id": "19d260bb-6464-49a5-8abd-d302f5ea6602",
   "metadata": {},
   "outputs": [
    {
     "data": {
      "text/plain": [
       "0    379\n",
       "1    442\n",
       "2    710\n",
       "3    332\n",
       "4    646\n",
       "dtype: int64"
      ]
     },
     "execution_count": 30,
     "metadata": {},
     "output_type": "execute_result"
    }
   ],
   "source": [
    "numbers.head()"
   ]
  },
  {
   "cell_type": "code",
   "execution_count": 33,
   "id": "5e15d2ca-61a0-4795-b4f6-3f8b40b5ecca",
   "metadata": {},
   "outputs": [
    {
     "data": {
      "text/plain": [
       "0    1\n",
       "1    2\n",
       "2    3\n",
       "dtype: int64"
      ]
     },
     "execution_count": 33,
     "metadata": {},
     "output_type": "execute_result"
    }
   ],
   "source": [
    "s = pd.Series([1, 2, 3])\n",
    "s"
   ]
  },
  {
   "cell_type": "code",
   "execution_count": 34,
   "id": "b6c8388d-bbc9-4f48-b058-0003d961609d",
   "metadata": {},
   "outputs": [],
   "source": [
    "s.loc['History'] = 102"
   ]
  },
  {
   "cell_type": "code",
   "execution_count": 35,
   "id": "18686c5a-3602-4cf4-af91-6abed50a7784",
   "metadata": {},
   "outputs": [
    {
     "data": {
      "text/plain": [
       "0            1\n",
       "1            2\n",
       "2            3\n",
       "History    102\n",
       "dtype: int64"
      ]
     },
     "execution_count": 35,
     "metadata": {},
     "output_type": "execute_result"
    }
   ],
   "source": [
    "s"
   ]
  },
  {
   "cell_type": "code",
   "execution_count": 37,
   "id": "c32870f7-7ad4-460d-920b-43d372e4f571",
   "metadata": {},
   "outputs": [
    {
     "data": {
      "text/plain": [
       "Alice      Physics\n",
       "Jack     Chemistry\n",
       "Molly      English\n",
       "Sam        History\n",
       "dtype: object"
      ]
     },
     "execution_count": 37,
     "metadata": {},
     "output_type": "execute_result"
    }
   ],
   "source": [
    "students_classes = pd.Series({'Alice': 'Physics',\n",
    "                   'Jack': 'Chemistry',\n",
    "                   'Molly': 'English',\n",
    "                   'Sam': 'History'})\n",
    "students_classes"
   ]
  },
  {
   "cell_type": "code",
   "execution_count": 38,
   "id": "24155133-14a8-4272-8bdb-a929a6eb5dbd",
   "metadata": {},
   "outputs": [
    {
     "data": {
      "text/plain": [
       "Kelly    Philosophy\n",
       "Kelly          Arts\n",
       "Kelly          Math\n",
       "dtype: object"
      ]
     },
     "execution_count": 38,
     "metadata": {},
     "output_type": "execute_result"
    }
   ],
   "source": [
    "kelly_classes = pd.Series(['Philosophy', 'Arts', 'Math'], \n",
    "                          index=['Kelly', 'Kelly', 'Kelly'])\n",
    "kelly_classes"
   ]
  },
  {
   "cell_type": "code",
   "execution_count": 39,
   "id": "8935299a-a840-46bd-9bcc-486cab325fa8",
   "metadata": {},
   "outputs": [
    {
     "data": {
      "text/plain": [
       "Kelly    Philosophy\n",
       "Kelly          Arts\n",
       "Kelly          Math\n",
       "dtype: object"
      ]
     },
     "execution_count": 39,
     "metadata": {},
     "output_type": "execute_result"
    }
   ],
   "source": [
    "kelly_classes.loc['Kelly']"
   ]
  },
  {
   "cell_type": "code",
   "execution_count": 41,
   "id": "6b43dc88-0bfe-46d5-91fd-1ceedb752620",
   "metadata": {},
   "outputs": [],
   "source": [
    "all_students_classes = students_classes.append(kelly_classes)"
   ]
  },
  {
   "cell_type": "code",
   "execution_count": 42,
   "id": "470eb1d0-2cf3-4320-a5c1-5750b83fb4c6",
   "metadata": {},
   "outputs": [
    {
     "data": {
      "text/plain": [
       "Alice       Physics\n",
       "Jack      Chemistry\n",
       "Molly       English\n",
       "Sam         History\n",
       "Kelly    Philosophy\n",
       "Kelly          Arts\n",
       "Kelly          Math\n",
       "dtype: object"
      ]
     },
     "execution_count": 42,
     "metadata": {},
     "output_type": "execute_result"
    }
   ],
   "source": [
    "all_students_classes"
   ]
  },
  {
   "cell_type": "code",
   "execution_count": 43,
   "id": "2e8de11f-b3e8-4c31-90bb-3be7196a9b62",
   "metadata": {},
   "outputs": [
    {
     "data": {
      "text/plain": [
       "Kelly    Philosophy\n",
       "Kelly          Arts\n",
       "Kelly          Math\n",
       "dtype: object"
      ]
     },
     "execution_count": 43,
     "metadata": {},
     "output_type": "execute_result"
    }
   ],
   "source": [
    "all_students_classes.loc['Kelly']"
   ]
  },
  {
   "cell_type": "code",
   "execution_count": null,
   "id": "db0cf0e5-8118-4f77-ba66-d707e6439716",
   "metadata": {},
   "outputs": [],
   "source": []
  }
 ],
 "metadata": {
  "kernelspec": {
   "display_name": "Python 3 (ipykernel)",
   "language": "python",
   "name": "python3"
  },
  "language_info": {
   "codemirror_mode": {
    "name": "ipython",
    "version": 3
   },
   "file_extension": ".py",
   "mimetype": "text/x-python",
   "name": "python",
   "nbconvert_exporter": "python",
   "pygments_lexer": "ipython3",
   "version": "3.8.12"
  }
 },
 "nbformat": 4,
 "nbformat_minor": 5
}
