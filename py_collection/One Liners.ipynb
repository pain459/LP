{
 "cells": [
  {
   "cell_type": "code",
   "execution_count": 3,
   "id": "8bf9cce5",
   "metadata": {},
   "outputs": [
    {
     "data": {
      "text/plain": [
       "0"
      ]
     },
     "execution_count": 3,
     "metadata": {},
     "output_type": "execute_result"
    }
   ],
   "source": [
    "# Palindrome Python One-Liner\n",
    "phrase = 'abba'\n",
    "phrase.find(phrase[::-1])"
   ]
  },
  {
   "cell_type": "code",
   "execution_count": null,
   "id": "36330197",
   "metadata": {},
   "outputs": [],
   "source": [
    "# Read File Python One-Liner\n",
    "# Execute with a file.\n",
    "[line.strip() for line in open(filename)]"
   ]
  },
  {
   "cell_type": "code",
   "execution_count": 8,
   "id": "7eef74ed",
   "metadata": {},
   "outputs": [
    {
     "data": {
      "text/plain": [
       "<function __main__.<lambda>(x)>"
      ]
     },
     "execution_count": 8,
     "metadata": {},
     "output_type": "execute_result"
    }
   ],
   "source": [
    "# Fibonacci Python One-Liner\n",
    "x = 10\n",
    "lambda x: x if x<=1 else fib(x-1) + fib(x-2)"
   ]
  },
  {
   "cell_type": "code",
   "execution_count": 9,
   "id": "9417943c",
   "metadata": {},
   "outputs": [],
   "source": [
    "# If else\n",
    "var = 21 if 3<2 else 42"
   ]
  },
  {
   "cell_type": "code",
   "execution_count": 12,
   "id": "000d968d",
   "metadata": {},
   "outputs": [
    {
     "name": "stdout",
     "output_type": "stream",
     "text": [
      "no\n"
     ]
    }
   ],
   "source": [
    "# elif\n",
    "x = 50\n",
    "print(\"no\") if x > 42 else print(\"yes\") if x == 42 else print(\"maybe\")"
   ]
  },
  {
   "cell_type": "code",
   "execution_count": 15,
   "id": "3a6c231b",
   "metadata": {},
   "outputs": [
    {
     "name": "stdout",
     "output_type": "stream",
     "text": [
      "hello\n",
      "hello\n"
     ]
    }
   ],
   "source": [
    "# if without else\n",
    "condition = True\n",
    "if condition: print('hello')\n",
    "print('hello') if condition else None"
   ]
  },
  {
   "cell_type": "code",
   "execution_count": 16,
   "id": "79b295e3",
   "metadata": {},
   "outputs": [],
   "source": [
    "# Function\n",
    "f = lambda x: \"hello \"+ x\n",
    "f = exec(\"def f(x):\\n    return 'hello '+ x\")"
   ]
  },
  {
   "cell_type": "code",
   "execution_count": 18,
   "id": "75779100",
   "metadata": {},
   "outputs": [
    {
     "data": {
      "text/plain": [
       "[0, 1, 4, 9, 16, 25, 36, 49, 64, 81]"
      ]
     },
     "execution_count": 18,
     "metadata": {},
     "output_type": "execute_result"
    }
   ],
   "source": [
    "# Loop (list comprehension)\n",
    "squares=[i**2 for i in range(10)]\n",
    "squares"
   ]
  },
  {
   "cell_type": "code",
   "execution_count": 19,
   "id": "139e409e",
   "metadata": {},
   "outputs": [
    {
     "data": {
      "text/plain": [
       "[0, 4, 16, 36, 64]"
      ]
     },
     "execution_count": 19,
     "metadata": {},
     "output_type": "execute_result"
    }
   ],
   "source": [
    "# Loop with if\n",
    "squares = [i**2 for i in range(10) if i%2==0]\n",
    "squares"
   ]
  },
  {
   "cell_type": "code",
   "execution_count": 20,
   "id": "3f93ef0d",
   "metadata": {},
   "outputs": [
    {
     "data": {
      "text/plain": [
       "[0, False, 4, False, 16, False, 36, False, 64, False]"
      ]
     },
     "execution_count": 20,
     "metadata": {},
     "output_type": "execute_result"
    }
   ],
   "source": [
    "# Loop with if else\n",
    "squares = [i**2 if i%2==0 else False for i in range(10)]\n",
    "squares"
   ]
  },
  {
   "cell_type": "code",
   "execution_count": 22,
   "id": "f0acb014",
   "metadata": {},
   "outputs": [
    {
     "name": "stdout",
     "output_type": "stream",
     "text": [
      "1\n",
      "2\n",
      "3\n",
      "4\n",
      "FIVE\n",
      "6\n",
      "7\n",
      "8\n",
      "9\n",
      "10\n"
     ]
    }
   ],
   "source": [
    "# While loop with if else\n",
    "c = 0\n",
    "while c < 10: c+=1; print(c) if c!=5 else print(\"FIVE\")"
   ]
  },
  {
   "cell_type": "code",
   "execution_count": 24,
   "id": "5a769a84",
   "metadata": {},
   "outputs": [
    {
     "data": {
      "text/plain": [
       "'One'"
      ]
     },
     "execution_count": 24,
     "metadata": {},
     "output_type": "execute_result"
    }
   ],
   "source": [
    "# Multi assignment\n",
    "a, b, c = \"One\", 2, 3.001\n",
    "a"
   ]
  },
  {
   "cell_type": "code",
   "execution_count": 25,
   "id": "37ef5f9f",
   "metadata": {},
   "outputs": [],
   "source": [
    "# Writing string to file\n",
    "text = \"Helllloooooo\"\n",
    "fileName = \"hello.txt\"\n",
    "print(text, file=open(fileName, 'a'))"
   ]
  },
  {
   "cell_type": "code",
   "execution_count": 26,
   "id": "9464ae87",
   "metadata": {},
   "outputs": [
    {
     "name": "stdout",
     "output_type": "stream",
     "text": [
      "[12, 19, 21, 27, 28, 29, 31, 41, 44, 44, 58, 66, 76, 78, 83, 87, 88, 97, 99]\n"
     ]
    }
   ],
   "source": [
    "# Quick sort\n",
    "array = [29,99,27,41,66,28,44,78,87,19,31,76,58,88,83,97,12,21,44]\n",
    "q = lambda l: q([x for x in l[1:] if x <= l[0]]) + [l[0]] + q([x for x in l if x > l[0]]) if l else []\n",
    "print(q(array))"
   ]
  },
  {
   "cell_type": "code",
   "execution_count": 28,
   "id": "33693eb6",
   "metadata": {},
   "outputs": [],
   "source": [
    "# Fibonacci\n",
    "fib=lambda x: x if x<=1 else fib(x-1) + fib(x-2)"
   ]
  },
  {
   "cell_type": "code",
   "execution_count": null,
   "id": "a606c0a9",
   "metadata": {},
   "outputs": [],
   "source": [
    "# HTTP Server\n",
    "python -m http.server 8000"
   ]
  },
  {
   "cell_type": "code",
   "execution_count": 29,
   "id": "cfb56b10",
   "metadata": {},
   "outputs": [
    {
     "name": "stdout",
     "output_type": "stream",
     "text": [
      "1 a\n",
      "1 b\n",
      "1 c\n",
      "2 a\n",
      "2 b\n",
      "2 c\n",
      "3 a\n",
      "3 b\n",
      "3 c\n",
      "4 a\n",
      "4 b\n",
      "4 c\n"
     ]
    },
    {
     "data": {
      "text/plain": [
       "[None, None, None, None, None, None, None, None, None, None, None, None]"
      ]
     },
     "execution_count": 29,
     "metadata": {},
     "output_type": "execute_result"
    }
   ],
   "source": [
    "# Nested for loops\n",
    "iter1 = [1, 2, 3, 4]\n",
    "iter2 = ['a', 'b', 'c']\n",
    "[print(x, y) for x in iter1 for y in iter2]"
   ]
  },
  {
   "cell_type": "code",
   "execution_count": 30,
   "id": "d0b86273",
   "metadata": {},
   "outputs": [
    {
     "name": "stdout",
     "output_type": "stream",
     "text": [
      "1 2 3 4\n"
     ]
    }
   ],
   "source": [
    "# Print without new line\n",
    "print(*range(1,5))"
   ]
  },
  {
   "cell_type": "code",
   "execution_count": 31,
   "id": "2489dbd2",
   "metadata": {},
   "outputs": [
    {
     "name": "stdout",
     "output_type": "stream",
     "text": [
      "12\n"
     ]
    }
   ],
   "source": [
    "# Sum of even numbers\n",
    "a = [1,2,3,4,5,6]\n",
    "s = sum([num for num in a if num%2 == 0])\n",
    "print(s)"
   ]
  },
  {
   "cell_type": "code",
   "execution_count": 32,
   "id": "6a6a3d2d",
   "metadata": {},
   "outputs": [
    {
     "data": {
      "text/plain": [
       "[1,\n",
       " 2,\n",
       " 'Fizz',\n",
       " 4,\n",
       " 'Buzz',\n",
       " 'Fizz',\n",
       " 7,\n",
       " 8,\n",
       " 'Fizz',\n",
       " 'Buzz',\n",
       " 11,\n",
       " 'Fizz',\n",
       " 13,\n",
       " 14,\n",
       " 'FizzBuzz',\n",
       " 16,\n",
       " 17,\n",
       " 'Fizz',\n",
       " 19]"
      ]
     },
     "execution_count": 32,
     "metadata": {},
     "output_type": "execute_result"
    }
   ],
   "source": [
    "# Fizz Buzz\n",
    "['FizzBuzz' if i%3==0 and i%5==0 else 'Fizz' if i%3==0 else 'Buzz' if i%5==0 else i  for i in range(1,20)]"
   ]
  },
  {
   "cell_type": "code",
   "execution_count": 33,
   "id": "f1b714c4",
   "metadata": {},
   "outputs": [
    {
     "name": "stdout",
     "output_type": "stream",
     "text": [
      "1 2 3 4\n",
      "[1, 2, 3, 4]\n"
     ]
    }
   ],
   "source": [
    "# Space seperated integers to list\n",
    "lis = list(map(int, input().split()))\n",
    "print(lis)"
   ]
  },
  {
   "cell_type": "code",
   "execution_count": 34,
   "id": "39b031c9",
   "metadata": {},
   "outputs": [
    {
     "data": {
      "text/plain": [
       "100"
      ]
     },
     "execution_count": 34,
     "metadata": {},
     "output_type": "execute_result"
    }
   ],
   "source": [
    "# Lambda Function\n",
    "sqr = lambda x: x * x  ##Function that returns square of any number\n",
    "sqr(10)"
   ]
  },
  {
   "cell_type": "code",
   "execution_count": 35,
   "id": "abcf8ec7",
   "metadata": {},
   "outputs": [
    {
     "data": {
      "text/plain": [
       "[2, 3, 5, 7, 11]"
      ]
     },
     "execution_count": 35,
     "metadata": {},
     "output_type": "execute_result"
    }
   ],
   "source": [
    "# prime numbers\n",
    "list(filter(lambda x:all(x % y != 0 for y in range(2, x)), range(2, 13)))"
   ]
  },
  {
   "cell_type": "code",
   "execution_count": 36,
   "id": "72ac55a8",
   "metadata": {},
   "outputs": [
    {
     "data": {
      "text/plain": [
       "14"
      ]
     },
     "execution_count": 36,
     "metadata": {},
     "output_type": "execute_result"
    }
   ],
   "source": [
    "# Find max\n",
    "findmax = lambda x,y: x if x > y else y \n",
    "findmax(5,14)"
   ]
  },
  {
   "cell_type": "code",
   "execution_count": 37,
   "id": "b7ae4476",
   "metadata": {},
   "outputs": [
    {
     "data": {
      "text/plain": [
       "[4, 6, 8]"
      ]
     },
     "execution_count": 37,
     "metadata": {},
     "output_type": "execute_result"
    }
   ],
   "source": [
    "# Linear algebra\n",
    "def scale(lst, x): return [i*x for i in lst] \n",
    "scale([2,3,4], 2) ## call"
   ]
  },
  {
   "cell_type": "code",
   "execution_count": 38,
   "id": "b4a39cb2",
   "metadata": {},
   "outputs": [
    {
     "data": {
      "text/plain": [
       "3"
      ]
     },
     "execution_count": 38,
     "metadata": {},
     "output_type": "execute_result"
    }
   ],
   "source": [
    "# Counting occurrence of a pattern\n",
    "import re; len(re.findall('python','python is a programming language. python is python.'))"
   ]
  },
  {
   "cell_type": "code",
   "execution_count": 39,
   "id": "73ca1074",
   "metadata": {},
   "outputs": [
    {
     "data": {
      "text/plain": [
       "'Java is a programming language.Java is Java'"
      ]
     },
     "execution_count": 39,
     "metadata": {},
     "output_type": "execute_result"
    }
   ],
   "source": [
    "# Replacing a text with other text\n",
    "\"python is a programming language.python is python\".replace(\"python\",'Java')"
   ]
  },
  {
   "cell_type": "code",
   "execution_count": 40,
   "id": "3df4e779",
   "metadata": {},
   "outputs": [
    {
     "data": {
      "text/plain": [
       "[('a', 1), ('a', 2), ('a', 3), ('b', 1), ('b', 2), ('b', 3)]"
      ]
     },
     "execution_count": 40,
     "metadata": {},
     "output_type": "execute_result"
    }
   ],
   "source": [
    "# Generating groups\n",
    "groups = [(a, b) for a in ['a', 'b'] for b in [1, 2, 3]] \n",
    "groups"
   ]
  },
  {
   "cell_type": "code",
   "execution_count": null,
   "id": "ccc5c126",
   "metadata": {},
   "outputs": [],
   "source": []
  }
 ],
 "metadata": {
  "kernelspec": {
   "display_name": "Python 3",
   "language": "python",
   "name": "python3"
  },
  "language_info": {
   "codemirror_mode": {
    "name": "ipython",
    "version": 3
   },
   "file_extension": ".py",
   "mimetype": "text/x-python",
   "name": "python",
   "nbconvert_exporter": "python",
   "pygments_lexer": "ipython3",
   "version": "3.7.9"
  }
 },
 "nbformat": 4,
 "nbformat_minor": 5
}
