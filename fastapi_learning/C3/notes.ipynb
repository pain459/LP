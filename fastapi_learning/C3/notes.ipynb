{
 "cells": [
  {
   "cell_type": "code",
   "execution_count": 1,
   "metadata": {},
   "outputs": [],
   "source": [
    "# Using requests\n",
    "import requests"
   ]
  },
  {
   "cell_type": "code",
   "execution_count": 2,
   "metadata": {},
   "outputs": [
    {
     "data": {
      "text/plain": [
       "'Hello? World'"
      ]
     },
     "execution_count": 2,
     "metadata": {},
     "output_type": "execute_result"
    }
   ],
   "source": [
    "r = requests.get(\"http://localhost:8000/hi\")\n",
    "r.json()"
   ]
  },
  {
   "cell_type": "code",
   "execution_count": 3,
   "metadata": {},
   "outputs": [],
   "source": [
    "# Using httpx\n",
    "import httpx"
   ]
  },
  {
   "cell_type": "code",
   "execution_count": 4,
   "metadata": {},
   "outputs": [
    {
     "data": {
      "text/plain": [
       "'Hello? World'"
      ]
     },
     "execution_count": 4,
     "metadata": {},
     "output_type": "execute_result"
    }
   ],
   "source": [
    "r = httpx.get(\"http://localhost:8000/hi\")\n",
    "r.json()"
   ]
  },
  {
   "cell_type": "code",
   "execution_count": 6,
   "metadata": {},
   "outputs": [
    {
     "name": "stdout",
     "output_type": "stream",
     "text": [
      "\u001b[34mHTTP\u001b[39;49;00m/\u001b[34m1.1\u001b[39;49;00m \u001b[34m200\u001b[39;49;00m \u001b[36mOK\u001b[39;49;00m\n",
      "\u001b[36mcontent-length\u001b[39;49;00m: 14\n",
      "\u001b[36mcontent-type\u001b[39;49;00m: application/json\n",
      "\u001b[36mdate\u001b[39;49;00m: Sun, 21 Apr 2024 16:15:47 GMT\n",
      "\u001b[36mserver\u001b[39;49;00m: uvicorn\n",
      "\n",
      "\u001b[33m\"Hello? World\"\u001b[39;49;00m\u001b[37m\u001b[39;49;00m\n",
      "\n",
      "\n"
     ]
    }
   ],
   "source": [
    "# Using httpie\n",
    "! http localhost:8000/hi"
   ]
  },
  {
   "cell_type": "code",
   "execution_count": 7,
   "metadata": {},
   "outputs": [
    {
     "name": "stdout",
     "output_type": "stream",
     "text": [
      "\u001b[33m\"Hello? World\"\u001b[39;49;00m\u001b[37m\u001b[39;49;00m\n",
      "\n",
      "\n"
     ]
    }
   ],
   "source": [
    "! http -b localhost:8000/hi"
   ]
  },
  {
   "cell_type": "code",
   "execution_count": 8,
   "metadata": {},
   "outputs": [
    {
     "name": "stdout",
     "output_type": "stream",
     "text": [
      "\u001b[32mGET\u001b[39;49;00m \u001b[04m\u001b[36m/hi\u001b[39;49;00m \u001b[34mHTTP\u001b[39;49;00m/\u001b[34m1.1\u001b[39;49;00m\n",
      "\u001b[36mAccept\u001b[39;49;00m: */*\n",
      "\u001b[36mAccept-Encoding\u001b[39;49;00m: gzip, deflate\n",
      "\u001b[36mConnection\u001b[39;49;00m: keep-alive\n",
      "\u001b[36mHost\u001b[39;49;00m: localhost:8000\n",
      "\u001b[36mUser-Agent\u001b[39;49;00m: HTTPie/3.2.2\n",
      "\n",
      "\n",
      "\n",
      "\u001b[34mHTTP\u001b[39;49;00m/\u001b[34m1.1\u001b[39;49;00m \u001b[34m200\u001b[39;49;00m \u001b[36mOK\u001b[39;49;00m\n",
      "\u001b[36mcontent-length\u001b[39;49;00m: 14\n",
      "\u001b[36mcontent-type\u001b[39;49;00m: application/json\n",
      "\u001b[36mdate\u001b[39;49;00m: Sun, 21 Apr 2024 16:16:20 GMT\n",
      "\u001b[36mserver\u001b[39;49;00m: uvicorn\n",
      "\n",
      "\u001b[33m\"Hello? World\"\u001b[39;49;00m\u001b[37m\u001b[39;49;00m\n",
      "\n",
      "\n"
     ]
    }
   ],
   "source": [
    "! http -v localhost:8000/hi"
   ]
  },
  {
   "cell_type": "code",
   "execution_count": 27,
   "metadata": {},
   "outputs": [
    {
     "data": {
      "text/plain": [
       "'Hello? world'"
      ]
     },
     "execution_count": 27,
     "metadata": {},
     "output_type": "execute_result"
    }
   ],
   "source": [
    "# Using the app from hello2 now\n",
    "import requests\n",
    "r = requests.get(\"http://localhost:8000/hi?None\")\n",
    "r.json()"
   ]
  },
  {
   "cell_type": "code",
   "execution_count": 30,
   "metadata": {},
   "outputs": [
    {
     "data": {
      "text/plain": [
       "'Hello mom?'"
      ]
     },
     "execution_count": 30,
     "metadata": {},
     "output_type": "execute_result"
    }
   ],
   "source": [
    "# Using hello2 program\n",
    "import requests\n",
    "r = requests.get(\"http://localhost:8000/hi/mom\")\n",
    "r.json()"
   ]
  },
  {
   "cell_type": "code",
   "execution_count": 31,
   "metadata": {},
   "outputs": [
    {
     "data": {
      "text/plain": [
       "'Hello mom?'"
      ]
     },
     "execution_count": 31,
     "metadata": {},
     "output_type": "execute_result"
    }
   ],
   "source": [
    "# Using query parameters\n",
    "import requests\n",
    "r = requests.get(\"http://localhost:8000/hi?who=mom\")\n",
    "r.json()"
   ]
  },
  {
   "cell_type": "code",
   "execution_count": null,
   "metadata": {},
   "outputs": [],
   "source": []
  }
 ],
 "metadata": {
  "kernelspec": {
   "display_name": ".venv",
   "language": "python",
   "name": "python3"
  },
  "language_info": {
   "codemirror_mode": {
    "name": "ipython",
    "version": 3
   },
   "file_extension": ".py",
   "mimetype": "text/x-python",
   "name": "python",
   "nbconvert_exporter": "python",
   "pygments_lexer": "ipython3",
   "version": "3.10.12"
  }
 },
 "nbformat": 4,
 "nbformat_minor": 2
}
