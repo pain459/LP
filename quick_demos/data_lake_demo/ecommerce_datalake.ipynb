{
 "cells": [
  {
   "cell_type": "markdown",
   "metadata": {},
   "source": [
    "## Project: Advanced Data Lake for E-commerce Data Analysis"
   ]
  },
  {
   "cell_type": "markdown",
   "metadata": {},
   "source": [
    "#### Setup data lake zones"
   ]
  },
  {
   "cell_type": "code",
   "execution_count": 1,
   "metadata": {},
   "outputs": [],
   "source": [
    "from pathlib import Path\n",
    "\n",
    "# Define directories\n",
    "base_dir = Path('./ecommerce_data_lake')\n",
    "raw_dir = base_dir / 'raw'\n",
    "processed_dir = base_dir / 'processed'\n",
    "cleaned_dir = base_dir / 'cleaned'\n",
    "\n",
    "# Create directories\n",
    "for dir in [raw_dir, processed_dir, cleaned_dir]:\n",
    "    dir.mkdir(parents=True, exist_ok=True)\n"
   ]
  },
  {
   "cell_type": "code",
   "execution_count": null,
   "metadata": {},
   "outputs": [],
   "source": []
  }
 ],
 "metadata": {
  "kernelspec": {
   "display_name": "venv",
   "language": "python",
   "name": "python3"
  },
  "language_info": {
   "codemirror_mode": {
    "name": "ipython",
    "version": 3
   },
   "file_extension": ".py",
   "mimetype": "text/x-python",
   "name": "python",
   "nbconvert_exporter": "python",
   "pygments_lexer": "ipython3",
   "version": "3.10.12"
  }
 },
 "nbformat": 4,
 "nbformat_minor": 2
}
