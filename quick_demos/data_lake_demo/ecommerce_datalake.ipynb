{
 "cells": [
  {
   "cell_type": "markdown",
   "metadata": {},
   "source": [
    "## Project: Advanced Data Lake for E-commerce Data Analysis"
   ]
  },
  {
   "cell_type": "markdown",
   "metadata": {},
   "source": [
    "#### Setup data lake zones"
   ]
  },
  {
   "cell_type": "code",
   "execution_count": 1,
   "metadata": {},
   "outputs": [],
   "source": [
    "from pathlib import Path\n",
    "\n",
    "# Define directories\n",
    "base_dir = Path('./ecommerce_data_lake')\n",
    "raw_dir = base_dir / 'raw'\n",
    "processed_dir = base_dir / 'processed'\n",
    "cleaned_dir = base_dir / 'cleaned'\n",
    "\n",
    "# Create directories\n",
    "for dir in [raw_dir, processed_dir, cleaned_dir]:\n",
    "    dir.mkdir(parents=True, exist_ok=True)\n"
   ]
  },
  {
   "cell_type": "markdown",
   "metadata": {},
   "source": [
    "#### Ingest data from multiple sources"
   ]
  },
  {
   "cell_type": "code",
   "execution_count": 2,
   "metadata": {},
   "outputs": [],
   "source": [
    "import pandas as pd\n",
    "import json\n",
    "\n",
    "# Sample customer data (CSV)\n",
    "customer_data = {\n",
    "    \"customer_id\": [1, 2, 3],\n",
    "    \"name\": [\"Alice\", \"Bob\", \"Charlie\"],\n",
    "    \"email\": [\"alice@example.com\", \"bob@example.com\", \"charlie@example.com\"]\n",
    "}\n",
    "customer_df = pd.DataFrame(customer_data)\n",
    "customer_df.to_csv(raw_dir / 'customers.csv', index=False)\n",
    "\n",
    "# Sample transaction data (JSON)\n",
    "transaction_data = [\n",
    "    {\"transaction_id\": 101, \"customer_id\": 1, \"product_id\": 1001, \"amount\": 250.0, \"date\": \"2024-08-24\"},\n",
    "    {\"transaction_id\": 102, \"customer_id\": 2, \"product_id\": 1002, \"amount\": 150.0, \"date\": \"2024-08-24\"},\n",
    "    {\"transaction_id\": 103, \"customer_id\": 1, \"product_id\": 1003, \"amount\": 300.0, \"date\": \"2024-08-25\"}\n",
    "]\n",
    "with open(raw_dir / 'transactions.json', 'w') as f:\n",
    "    json.dump(transaction_data, f)\n",
    "\n",
    "# Sample product data (CSV)\n",
    "product_data = {\n",
    "    \"product_id\": [1001, 1002, 1003],\n",
    "    \"name\": [\"Laptop\", \"Smartphone\", \"Tablet\"],\n",
    "    \"price\": [1000, 600, 400]\n",
    "}\n",
    "product_df = pd.DataFrame(product_data)\n",
    "product_df.to_csv(raw_dir / 'products.csv', index=False)\n"
   ]
  },
  {
   "cell_type": "code",
   "execution_count": null,
   "metadata": {},
   "outputs": [],
   "source": []
  }
 ],
 "metadata": {
  "kernelspec": {
   "display_name": "venv",
   "language": "python",
   "name": "python3"
  },
  "language_info": {
   "codemirror_mode": {
    "name": "ipython",
    "version": 3
   },
   "file_extension": ".py",
   "mimetype": "text/x-python",
   "name": "python",
   "nbconvert_exporter": "python",
   "pygments_lexer": "ipython3",
   "version": "3.10.12"
  }
 },
 "nbformat": 4,
 "nbformat_minor": 2
}
