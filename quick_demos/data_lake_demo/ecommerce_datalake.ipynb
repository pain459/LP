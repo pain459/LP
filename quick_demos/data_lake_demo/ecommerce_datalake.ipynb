{
 "cells": [
  {
   "cell_type": "markdown",
   "metadata": {},
   "source": [
    "## Project: Advanced Data Lake for E-commerce Data Analysis"
   ]
  },
  {
   "cell_type": "markdown",
   "metadata": {},
   "source": [
    "#### Setup data lake zones"
   ]
  },
  {
   "cell_type": "code",
   "execution_count": 5,
   "metadata": {},
   "outputs": [],
   "source": [
    "from pathlib import Path\n",
    "\n",
    "# Define directories\n",
    "base_dir = Path('./ecommerce_data_lake')\n",
    "raw_dir = base_dir / 'raw'\n",
    "processed_dir = base_dir / 'processed'\n",
    "cleaned_dir = base_dir / 'cleaned'\n",
    "\n",
    "# Create directories\n",
    "for dir in [raw_dir, processed_dir, cleaned_dir]:\n",
    "    dir.mkdir(parents=True, exist_ok=True)\n"
   ]
  },
  {
   "cell_type": "markdown",
   "metadata": {},
   "source": [
    "#### Ingest data from multiple sources"
   ]
  },
  {
   "cell_type": "code",
   "execution_count": 6,
   "metadata": {},
   "outputs": [],
   "source": [
    "import pandas as pd\n",
    "import json\n",
    "\n",
    "# Sample customer data (CSV)\n",
    "customer_data = {\n",
    "    \"customer_id\": [1, 2, 3],\n",
    "    \"name\": [\"Alice\", \"Bob\", \"Charlie\"],\n",
    "    \"email\": [\"alice@example.com\", \"bob@example.com\", \"charlie@example.com\"]\n",
    "}\n",
    "customer_df = pd.DataFrame(customer_data)\n",
    "customer_df.to_csv(raw_dir / 'customers.csv', index=False)\n",
    "\n",
    "# Sample transaction data (JSON)\n",
    "transaction_data = [\n",
    "    {\"transaction_id\": 101, \"customer_id\": 1, \"product_id\": 1001, \"amount\": 250.0, \"date\": \"2024-08-24\"},\n",
    "    {\"transaction_id\": 102, \"customer_id\": 2, \"product_id\": 1002, \"amount\": 150.0, \"date\": \"2024-08-24\"},\n",
    "    {\"transaction_id\": 103, \"customer_id\": 1, \"product_id\": 1003, \"amount\": 300.0, \"date\": \"2024-08-25\"}\n",
    "]\n",
    "with open(raw_dir / 'transactions.json', 'w') as f:\n",
    "    json.dump(transaction_data, f)\n",
    "\n",
    "# Sample product data (CSV)\n",
    "product_data = {\n",
    "    \"product_id\": [1001, 1002, 1003],\n",
    "    \"name\": [\"Laptop\", \"Smartphone\", \"Tablet\"],\n",
    "    \"price\": [1000, 600, 400]\n",
    "}\n",
    "product_df = pd.DataFrame(product_data)\n",
    "product_df.to_csv(raw_dir / 'products.csv', index=False)\n"
   ]
  },
  {
   "cell_type": "markdown",
   "metadata": {},
   "source": [
    "#### Process data (ETL)"
   ]
  },
  {
   "cell_type": "code",
   "execution_count": 7,
   "metadata": {},
   "outputs": [
    {
     "name": "stderr",
     "output_type": "stream",
     "text": [
      "                                                                                \r"
     ]
    }
   ],
   "source": [
    "from pyspark.sql import SparkSession\n",
    "\n",
    "# Initialize Spark session\n",
    "spark = SparkSession.builder.appName('EcommerceDataLake').getOrCreate()\n",
    "\n",
    "# Load data into Spark DataFrames\n",
    "customers_df = spark.read.csv(str(raw_dir / 'customers.csv'), header=True, inferSchema=True)\n",
    "transactions_df = spark.read.json(str(raw_dir / 'transactions.json'))\n",
    "products_df = spark.read.csv(str(raw_dir / 'products.csv'), header=True, inferSchema=True)\n",
    "\n",
    "# Rename conflicting columns\n",
    "customers_df = customers_df.withColumnRenamed('name', 'customer_name')\n",
    "products_df = products_df.withColumnRenamed('name', 'product_name')\n",
    "\n",
    "# Join transactions with customer and product details\n",
    "transaction_enriched_df = transactions_df \\\n",
    "    .join(customers_df, on='customer_id', how='left') \\\n",
    "    .join(products_df, on='product_id', how='left')\n",
    "\n",
    "# Save the processed data\n",
    "transaction_enriched_df.write.parquet(str(processed_dir / 'transactions_enriched.parquet'))\n"
   ]
  },
  {
   "cell_type": "markdown",
   "metadata": {},
   "source": [
    "#### Clean Data"
   ]
  },
  {
   "cell_type": "code",
   "execution_count": 8,
   "metadata": {},
   "outputs": [],
   "source": [
    "# Load processed data\n",
    "enriched_df = spark.read.parquet(str(processed_dir / 'transactions_enriched.parquet'))\n",
    "\n",
    "# Filter out small transactions and partition by date\n",
    "cleaned_df = enriched_df.filter(enriched_df.amount > 200)\n",
    "\n",
    "# Save cleaned data partitioned by date\n",
    "cleaned_df.write.partitionBy(\"date\").parquet(str(cleaned_dir / 'transactions_cleaned.parquet'))\n"
   ]
  },
  {
   "cell_type": "markdown",
   "metadata": {},
   "source": [
    "#### Query Data"
   ]
  },
  {
   "cell_type": "code",
   "execution_count": 9,
   "metadata": {},
   "outputs": [
    {
     "name": "stdout",
     "output_type": "stream",
     "text": [
      "+-----------+-------------+-----------+\n",
      "|customer_id|customer_name|sum(amount)|\n",
      "+-----------+-------------+-----------+\n",
      "|          1|        Alice|      550.0|\n",
      "+-----------+-------------+-----------+\n",
      "\n",
      "+----------+------------+-----+\n",
      "|product_id|product_name|count|\n",
      "+----------+------------+-----+\n",
      "|      1001|      Laptop|    1|\n",
      "|      1003|      Tablet|    1|\n",
      "+----------+------------+-----+\n",
      "\n"
     ]
    }
   ],
   "source": [
    "# Load cleaned data\n",
    "cleaned_data_df = spark.read.parquet(str(cleaned_dir / 'transactions_cleaned.parquet'))\n",
    "\n",
    "# Example query 1: Total revenue per customer\n",
    "revenue_per_customer_df = cleaned_data_df.groupBy(\"customer_id\", \"customer_name\").sum(\"amount\")\n",
    "revenue_per_customer_df.show()\n",
    "\n",
    "# Example query 2: Most popular products\n",
    "popular_products_df = cleaned_data_df.groupBy(\"product_id\", \"product_name\").count().orderBy(\"count\", ascending=False)\n",
    "popular_products_df.show()\n"
   ]
  },
  {
   "cell_type": "code",
   "execution_count": null,
   "metadata": {},
   "outputs": [],
   "source": []
  }
 ],
 "metadata": {
  "kernelspec": {
   "display_name": "venv",
   "language": "python",
   "name": "python3"
  },
  "language_info": {
   "codemirror_mode": {
    "name": "ipython",
    "version": 3
   },
   "file_extension": ".py",
   "mimetype": "text/x-python",
   "name": "python",
   "nbconvert_exporter": "python",
   "pygments_lexer": "ipython3",
   "version": "3.10.12"
  }
 },
 "nbformat": 4,
 "nbformat_minor": 2
}
