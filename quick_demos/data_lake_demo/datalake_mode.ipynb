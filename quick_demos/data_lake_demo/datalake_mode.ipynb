{
 "cells": [
  {
   "cell_type": "markdown",
   "metadata": {},
   "source": [
    "#### Setup and ingest data"
   ]
  },
  {
   "cell_type": "code",
   "execution_count": 1,
   "metadata": {},
   "outputs": [],
   "source": [
    "import os\n",
    "from pathlib import Path\n",
    "\n",
    "# Define directories\n",
    "base_dir = Path('./data_lake')\n",
    "raw_dir = base_dir / 'raw'\n",
    "processed_dir = base_dir / 'processed'\n",
    "cleaned_dir = base_dir / 'cleaned'\n",
    "\n",
    "# Create directories\n",
    "for dir in [raw_dir, processed_dir, cleaned_dir]:\n",
    "    dir.mkdir(parents=True, exist_ok=True)\n",
    "\n",
    "# Simulate ingesting data\n",
    "sample_logs = [\"2024-08-24 12:00:00 INFO User logged in\",\n",
    "               \"2024-08-24 12:01:00 ERROR Failed login attempt\",\n",
    "               \"2024-08-24 12:02:00 INFO User logged out\"]\n",
    "\n",
    "with open(raw_dir / 'logs.txt', 'w') as file:\n",
    "    file.write(\"\\n\".join(sample_logs))\n"
   ]
  },
  {
   "cell_type": "markdown",
   "metadata": {},
   "source": [
    "#### Process data (ETL)"
   ]
  },
  {
   "cell_type": "code",
   "execution_count": 2,
   "metadata": {},
   "outputs": [],
   "source": [
    "import pandas as pd\n",
    "\n",
    "# Load raw data\n",
    "with open(raw_dir / 'logs.txt', 'r') as file:\n",
    "    logs = file.readlines()\n",
    "\n",
    "# Process data: Filter only ERROR logs\n",
    "error_logs = [log for log in logs if 'ERROR' in log]\n",
    "\n",
    "# Save processed data\n",
    "with open(processed_dir / 'error_logs.txt', 'w') as file:\n",
    "    file.write(\"\".join(error_logs))\n"
   ]
  },
  {
   "cell_type": "code",
   "execution_count": null,
   "metadata": {},
   "outputs": [],
   "source": []
  }
 ],
 "metadata": {
  "kernelspec": {
   "display_name": "venv",
   "language": "python",
   "name": "python3"
  },
  "language_info": {
   "codemirror_mode": {
    "name": "ipython",
    "version": 3
   },
   "file_extension": ".py",
   "mimetype": "text/x-python",
   "name": "python",
   "nbconvert_exporter": "python",
   "pygments_lexer": "ipython3",
   "version": "3.10.12"
  }
 },
 "nbformat": 4,
 "nbformat_minor": 2
}
