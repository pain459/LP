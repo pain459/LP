{
 "cells": [
  {
   "cell_type": "markdown",
   "metadata": {},
   "source": [
    "#### Setup and ingest data"
   ]
  },
  {
   "cell_type": "code",
   "execution_count": 1,
   "metadata": {},
   "outputs": [],
   "source": [
    "import os\n",
    "from pathlib import Path\n",
    "\n",
    "# Define directories\n",
    "base_dir = Path('./data_lake')\n",
    "raw_dir = base_dir / 'raw'\n",
    "processed_dir = base_dir / 'processed'\n",
    "cleaned_dir = base_dir / 'cleaned'\n",
    "\n",
    "# Create directories\n",
    "for dir in [raw_dir, processed_dir, cleaned_dir]:\n",
    "    dir.mkdir(parents=True, exist_ok=True)\n",
    "\n",
    "# Simulate ingesting data\n",
    "sample_logs = [\"2024-08-24 12:00:00 INFO User logged in\",\n",
    "               \"2024-08-24 12:01:00 ERROR Failed login attempt\",\n",
    "               \"2024-08-24 12:02:00 INFO User logged out\"]\n",
    "\n",
    "with open(raw_dir / 'logs.txt', 'w') as file:\n",
    "    file.write(\"\\n\".join(sample_logs))\n"
   ]
  },
  {
   "cell_type": "markdown",
   "metadata": {},
   "source": [
    "#### Process data (ETL)"
   ]
  },
  {
   "cell_type": "code",
   "execution_count": 2,
   "metadata": {},
   "outputs": [],
   "source": [
    "import pandas as pd\n",
    "\n",
    "# Load raw data\n",
    "with open(raw_dir / 'logs.txt', 'r') as file:\n",
    "    logs = file.readlines()\n",
    "\n",
    "# Process data: Filter only ERROR logs\n",
    "error_logs = [log for log in logs if 'ERROR' in log]\n",
    "\n",
    "# Save processed data\n",
    "with open(processed_dir / 'error_logs.txt', 'w') as file:\n",
    "    file.write(\"\".join(error_logs))\n"
   ]
  },
  {
   "cell_type": "markdown",
   "metadata": {},
   "source": [
    "#### Clean Data"
   ]
  },
  {
   "cell_type": "code",
   "execution_count": 3,
   "metadata": {},
   "outputs": [],
   "source": [
    "# Further clean: Extract timestamp and log level\n",
    "cleaned_logs = []\n",
    "\n",
    "for log in error_logs:\n",
    "    parts = log.split(\" \")\n",
    "    timestamp = \" \".join(parts[:2])\n",
    "    level = parts[2]\n",
    "    message = \" \".join(parts[3:])\n",
    "    cleaned_logs.append({\"timestamp\": timestamp, \"level\": level, \"message\": message})\n",
    "\n",
    "# Convert to DataFrame for better manipulation\n",
    "df = pd.DataFrame(cleaned_logs)\n",
    "df.to_csv(cleaned_dir / 'cleaned_logs.csv', index=False)\n"
   ]
  },
  {
   "cell_type": "markdown",
   "metadata": {},
   "source": [
    "#### Query the data"
   ]
  },
  {
   "cell_type": "code",
   "execution_count": 4,
   "metadata": {},
   "outputs": [
    {
     "name": "stdout",
     "output_type": "stream",
     "text": [
      "Total number of errors: 1\n",
      "             timestamp  level                 message\n",
      "0  2024-08-24 12:01:00  ERROR  Failed login attempt\\n\n"
     ]
    }
   ],
   "source": [
    "# Query the cleaned data\n",
    "df_cleaned = pd.read_csv(cleaned_dir / 'cleaned_logs.csv')\n",
    "\n",
    "# Example query: Count number of errors\n",
    "error_count = df_cleaned.shape[0]\n",
    "print(f\"Total number of errors: {error_count}\")\n",
    "\n",
    "# Example query: Errors in the last minute\n",
    "recent_errors = df_cleaned[df_cleaned['timestamp'] > '2024-08-24 12:00:00']\n",
    "print(recent_errors)\n"
   ]
  },
  {
   "cell_type": "code",
   "execution_count": null,
   "metadata": {},
   "outputs": [],
   "source": []
  }
 ],
 "metadata": {
  "kernelspec": {
   "display_name": "venv",
   "language": "python",
   "name": "python3"
  },
  "language_info": {
   "codemirror_mode": {
    "name": "ipython",
    "version": 3
   },
   "file_extension": ".py",
   "mimetype": "text/x-python",
   "name": "python",
   "nbconvert_exporter": "python",
   "pygments_lexer": "ipython3",
   "version": "3.10.12"
  }
 },
 "nbformat": 4,
 "nbformat_minor": 2
}
