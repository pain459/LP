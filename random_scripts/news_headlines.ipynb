{
 "cells": [
  {
   "cell_type": "code",
   "execution_count": 1,
   "metadata": {},
   "outputs": [],
   "source": [
    "import os\n",
    "from dotenv import load_dotenv\n",
    "import requests\n",
    "\n",
    "# Load environment variables from .env file\n",
    "load_dotenv()\n",
    "\n",
    "# Get API key from environment variables\n",
    "API_KEY = os.getenv('API_KEY')\n",
    "\n",
    "def get_top_headlines():\n",
    "    url = f'https://newsapi.org/v2/top-headlines?country=us&pageSize=10&apiKey={API_KEY}'\n",
    "    response = requests.get(url)\n",
    "    headlines = response.json()['articles']\n",
    "    return headlines\n",
    "\n",
    "def search_news(query):\n",
    "    url = f'https://newsapi.org/v2/everything?q={query}&pageSize=10&apiKey={API_KEY}'\n",
    "    response = requests.get(url)\n",
    "    articles = response.json()['articles']\n",
    "    return articles\n"
   ]
  },
  {
   "cell_type": "code",
   "execution_count": 2,
   "metadata": {},
   "outputs": [
    {
     "name": "stdout",
     "output_type": "stream",
     "text": [
      "1. College protests updates: More than 2,100 arrested in pro-Palestinian protests on U.S. campuses - The Washington Post - The Washington Post\n",
      "2. Kevin Spacey: 10 Men Accuse “Soulless Monster” of Sexual Assault in New Docuseries - Hollywood Reporter - Hollywood Reporter\n",
      "3. Apple shares jump as record buyback, sales growth forecast lure investors - Reuters - Reuters\n",
      "4. Tight loss to Knicks stings, but Nurse and Embiid's pride in Sixers is perfectly valid - NBC Sports Philadelphia - Nbcsportsphiladelphia.com\n",
      "5. iPhone 16 molds reveal change to MagSafe charging ring - 9to5Mac - 9to5Mac\n",
      "6. April jobs report shows hiring, wage growth slow as unemployment unexpectedly jumps - Yahoo Finance - Yahoo Entertainment\n",
      "7. Campus protests: Top French university shuts as police remove pro-Palestinian group - POLITICO Europe - POLITICO.eu\n",
      "8. College football transfer portal grades: Texas, FSU get 'A+' but LSU finishes with 'C+' after window closes - CBS Sports - CBS Sports\n",
      "9. Ryan Gosling Teases Emily Blunt Over ‘Chill’ Reaction To Crazy Weather On ‘Fall Guy’ Set - HuffPost - HuffPost\n",
      "10. Britney Spears leaves fans in shock as she blames mom for painful injury after 'fight' with boyfriend - Hindustan Times - Hindustan Times\n"
     ]
    }
   ],
   "source": [
    "# Example usage\n",
    "top_headlines = get_top_headlines()\n",
    "for idx, article in enumerate(top_headlines, 1):\n",
    "    print(f\"{idx}. {article['title']} - {article['source']['name']}\")"
   ]
  },
  {
   "cell_type": "code",
   "execution_count": 3,
   "metadata": {},
   "outputs": [
    {
     "name": "stdout",
     "output_type": "stream",
     "text": [
      "1. 50-Foot-Long Fossil Snake May Be the Largest That Ever Lived - Gizmodo.com\n",
      "2. [Removed] - [Removed]\n",
      "3. India and Pakistan trade barbs over targeted killings - BBC News\n",
      "4. [Removed] - [Removed]\n",
      "5. Apple Gives Up on Labeling Cyberattacks as ‘State-Sponsored’ - Gizmodo.com\n",
      "6. What Happened After India Banned TikTok? - Slashdot.org\n",
      "7. Post Office inquiry to hear from former managing director - BBC News\n",
      "8. Is a Popular Music Genre in India Spreading Hate? - NPR\n",
      "9. Meta tests AI on WhatsApp and Instagram users in India and parts of Africa - ReadWrite\n",
      "10. Girl in India thwarts monkey attack using Amazon Alexa - ReadWrite\n"
     ]
    }
   ],
   "source": [
    "# Example search\n",
    "search_results = search_news('India')\n",
    "for idx, article in enumerate(search_results, 1):\n",
    "    print(f\"{idx}. {article['title']} - {article['source']['name']}\")"
   ]
  },
  {
   "cell_type": "code",
   "execution_count": null,
   "metadata": {},
   "outputs": [],
   "source": []
  }
 ],
 "metadata": {
  "kernelspec": {
   "display_name": ".venv",
   "language": "python",
   "name": "python3"
  },
  "language_info": {
   "codemirror_mode": {
    "name": "ipython",
    "version": 3
   },
   "file_extension": ".py",
   "mimetype": "text/x-python",
   "name": "python",
   "nbconvert_exporter": "python",
   "pygments_lexer": "ipython3",
   "version": "3.10.12"
  }
 },
 "nbformat": 4,
 "nbformat_minor": 2
}
