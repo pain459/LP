{
 "cells": [
  {
   "cell_type": "code",
   "execution_count": 59,
   "id": "d8a13533-eb1b-4834-88f7-c8bb1e75943b",
   "metadata": {},
   "outputs": [
    {
     "ename": "IndentationError",
     "evalue": "unexpected indent (Temp/ipykernel_15388/1056015461.py, line 6)",
     "output_type": "error",
     "traceback": [
      "\u001b[1;36m  File \u001b[1;32m\"C:\\Users\\kumarrav\\AppData\\Local\\Temp/ipykernel_15388/1056015461.py\"\u001b[1;36m, line \u001b[1;32m6\u001b[0m\n\u001b[1;33m    if len(numbers) == 1:\u001b[0m\n\u001b[1;37m    ^\u001b[0m\n\u001b[1;31mIndentationError\u001b[0m\u001b[1;31m:\u001b[0m unexpected indent\n"
     ]
    }
   ],
   "source": [
    "def digital_root(n):\n",
    "    numbers = [int(x) for x in str(n)]\n",
    "    print(numbers)\n",
    "    # squares = 0\n",
    "    squares = 0\n",
    "    if len(numbers) == 1:\n",
    "        print('Done')\n",
    "        return\n",
    "    else:\n",
    "        squares = sum(numbers)\n",
    "        return\n",
    "    print(squares)\n",
    "digital_root(12345)"
   ]
  },
  {
   "cell_type": "code",
   "execution_count": null,
   "id": "fcd3c940-43c3-4c73-b7c5-d347d83395bd",
   "metadata": {},
   "outputs": [],
   "source": []
  }
 ],
 "metadata": {
  "kernelspec": {
   "display_name": "Python 3 (ipykernel)",
   "language": "python",
   "name": "python3"
  },
  "language_info": {
   "codemirror_mode": {
    "name": "ipython",
    "version": 3
   },
   "file_extension": ".py",
   "mimetype": "text/x-python",
   "name": "python",
   "nbconvert_exporter": "python",
   "pygments_lexer": "ipython3",
   "version": "3.7.9"
  }
 },
 "nbformat": 4,
 "nbformat_minor": 5
}
