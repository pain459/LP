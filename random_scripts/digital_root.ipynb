{
 "cells": [
  {
   "cell_type": "code",
   "execution_count": 61,
   "id": "d8a13533-eb1b-4834-88f7-c8bb1e75943b",
   "metadata": {},
   "outputs": [
    {
     "name": "stdout",
     "output_type": "stream",
     "text": [
      "[1, 2, 3, 4, 5]\n",
      "15\n"
     ]
    }
   ],
   "source": [
    "def digital_root(n):\n",
    "    numbers = [int(x) for x in str(n)]\n",
    "    print(numbers)\n",
    "    # squares = 0\n",
    "    squares = 0\n",
    "    if len(numbers) == 1:\n",
    "        print('Done')\n",
    "        return\n",
    "    else:\n",
    "        squares = sum(numbers)\n",
    "        print(squares)\n",
    "        return\n",
    "digital_root(12345)"
   ]
  },
  {
   "cell_type": "code",
   "execution_count": null,
   "id": "fcd3c940-43c3-4c73-b7c5-d347d83395bd",
   "metadata": {},
   "outputs": [],
   "source": [
    "while "
   ]
  }
 ],
 "metadata": {
  "kernelspec": {
   "display_name": "Python 3 (ipykernel)",
   "language": "python",
   "name": "python3"
  },
  "language_info": {
   "codemirror_mode": {
    "name": "ipython",
    "version": 3
   },
   "file_extension": ".py",
   "mimetype": "text/x-python",
   "name": "python",
   "nbconvert_exporter": "python",
   "pygments_lexer": "ipython3",
   "version": "3.7.9"
  }
 },
 "nbformat": 4,
 "nbformat_minor": 5
}
